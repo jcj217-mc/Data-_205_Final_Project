{
  "nbformat": 4,
  "nbformat_minor": 0,
  "metadata": {
    "colab": {
      "name": "Data205_Project_IA.ipynb",
      "provenance": [],
      "collapsed_sections": [],
      "authorship_tag": "ABX9TyNnTWcnxMvwmv2dFz6gAt+D",
      "include_colab_link": true
    },
    "kernelspec": {
      "name": "python3",
      "display_name": "Python 3"
    },
    "language_info": {
      "name": "python"
    }
  },
  "cells": [
    {
      "cell_type": "markdown",
      "metadata": {
        "id": "view-in-github",
        "colab_type": "text"
      },
      "source": [
        "<a href=\"https://colab.research.google.com/github/jcj217-mc/Data_205_Final_Project/blob/main/Data205_Project_IA.ipynb\" target=\"_parent\"><img src=\"https://colab.research.google.com/assets/colab-badge.svg\" alt=\"Open In Colab\"/></a>"
      ]
    },
    {
      "cell_type": "code",
      "metadata": {
        "id": "G0eAdFfT4KmP"
      },
      "source": [
        "# import packages\n",
        "import pandas as pd\n",
        "import numpy as np\n",
        "import os \n",
        "import json"
      ],
      "execution_count": null,
      "outputs": []
    },
    {
      "cell_type": "code",
      "metadata": {
        "id": "vjyb6LzH4Ufh"
      },
      "source": [
        "# .json file data imported as pandas data frame\n",
        "df = pd.read_json('https://data.montgomerycountymd.gov/resource/usip-62e2.json')"
      ],
      "execution_count": null,
      "outputs": []
    },
    {
      "cell_type": "code",
      "metadata": {
        "colab": {
          "base_uri": "https://localhost:8080/",
          "height": 402
        },
        "id": "WoxDkjYP4pwl",
        "outputId": "9f958c11-d58f-4e71-e877-03a81e400949"
      },
      "source": [
        "# Evaluating initial data \n",
        "df"
      ],
      "execution_count": null,
      "outputs": [
        {
          "output_type": "execute_result",
          "data": {
            "text/html": [
              "<div>\n",
              "<style scoped>\n",
              "    .dataframe tbody tr th:only-of-type {\n",
              "        vertical-align: middle;\n",
              "    }\n",
              "\n",
              "    .dataframe tbody tr th {\n",
              "        vertical-align: top;\n",
              "    }\n",
              "\n",
              "    .dataframe thead th {\n",
              "        text-align: right;\n",
              "    }\n",
              "</style>\n",
              "<table border=\"1\" class=\"dataframe\">\n",
              "  <thead>\n",
              "    <tr style=\"text-align: right;\">\n",
              "      <th></th>\n",
              "      <th>filenum</th>\n",
              "      <th>created_dt</th>\n",
              "      <th>source</th>\n",
              "      <th>allegation</th>\n",
              "      <th>incident_status</th>\n",
              "      <th>finding</th>\n",
              "    </tr>\n",
              "  </thead>\n",
              "  <tbody>\n",
              "    <tr>\n",
              "      <th>0</th>\n",
              "      <td>15-0200</td>\n",
              "      <td>2015-11-09T00:00:00.000</td>\n",
              "      <td>External</td>\n",
              "      <td>Neglect of Duty/Unsatisfactory Performance</td>\n",
              "      <td>Active</td>\n",
              "      <td>NaN</td>\n",
              "    </tr>\n",
              "    <tr>\n",
              "      <th>1</th>\n",
              "      <td>16-0101</td>\n",
              "      <td>2016-05-10T00:00:00.000</td>\n",
              "      <td>Internal</td>\n",
              "      <td>Use of Force</td>\n",
              "      <td>Active</td>\n",
              "      <td>NaN</td>\n",
              "    </tr>\n",
              "    <tr>\n",
              "      <th>2</th>\n",
              "      <td>16-0101</td>\n",
              "      <td>2016-05-10T00:00:00.000</td>\n",
              "      <td>Internal</td>\n",
              "      <td>Abuse of Authority</td>\n",
              "      <td>Active</td>\n",
              "      <td>NaN</td>\n",
              "    </tr>\n",
              "    <tr>\n",
              "      <th>3</th>\n",
              "      <td>16-0101</td>\n",
              "      <td>2016-05-10T00:00:00.000</td>\n",
              "      <td>Internal</td>\n",
              "      <td>Conformance to Law</td>\n",
              "      <td>Active</td>\n",
              "      <td>NaN</td>\n",
              "    </tr>\n",
              "    <tr>\n",
              "      <th>4</th>\n",
              "      <td>15-0200</td>\n",
              "      <td>2015-11-09T00:00:00.000</td>\n",
              "      <td>External</td>\n",
              "      <td>Courtesy</td>\n",
              "      <td>Active</td>\n",
              "      <td>NaN</td>\n",
              "    </tr>\n",
              "    <tr>\n",
              "      <th>...</th>\n",
              "      <td>...</td>\n",
              "      <td>...</td>\n",
              "      <td>...</td>\n",
              "      <td>...</td>\n",
              "      <td>...</td>\n",
              "      <td>...</td>\n",
              "    </tr>\n",
              "    <tr>\n",
              "      <th>995</th>\n",
              "      <td>15-0014</td>\n",
              "      <td>2015-02-03T00:00:00.000</td>\n",
              "      <td>External</td>\n",
              "      <td>Conformance to Law</td>\n",
              "      <td>Completed</td>\n",
              "      <td>Corrective Action Taken</td>\n",
              "    </tr>\n",
              "    <tr>\n",
              "      <th>996</th>\n",
              "      <td>15-0152</td>\n",
              "      <td>2015-08-20T00:00:00.000</td>\n",
              "      <td>External</td>\n",
              "      <td>Courtesy</td>\n",
              "      <td>Completed</td>\n",
              "      <td>Corrective Action Taken</td>\n",
              "    </tr>\n",
              "    <tr>\n",
              "      <th>997</th>\n",
              "      <td>15-0009</td>\n",
              "      <td>2015-01-23T00:00:00.000</td>\n",
              "      <td>External</td>\n",
              "      <td>Courtesy</td>\n",
              "      <td>Completed</td>\n",
              "      <td>Corrective Action Taken</td>\n",
              "    </tr>\n",
              "    <tr>\n",
              "      <th>998</th>\n",
              "      <td>13-0242</td>\n",
              "      <td>2013-09-09T00:00:00.000</td>\n",
              "      <td>External</td>\n",
              "      <td>Conf T/L Traffic</td>\n",
              "      <td>Completed</td>\n",
              "      <td>No Corrective Action Tak</td>\n",
              "    </tr>\n",
              "    <tr>\n",
              "      <th>999</th>\n",
              "      <td>14-0202</td>\n",
              "      <td>2014-10-10T00:00:00.000</td>\n",
              "      <td>Internal</td>\n",
              "      <td>Conformance to Law</td>\n",
              "      <td>Completed</td>\n",
              "      <td>Exonerated</td>\n",
              "    </tr>\n",
              "  </tbody>\n",
              "</table>\n",
              "<p>1000 rows × 6 columns</p>\n",
              "</div>"
            ],
            "text/plain": [
              "     filenum               created_dt  ... incident_status                   finding\n",
              "0    15-0200  2015-11-09T00:00:00.000  ...          Active                       NaN\n",
              "1    16-0101  2016-05-10T00:00:00.000  ...          Active                       NaN\n",
              "2    16-0101  2016-05-10T00:00:00.000  ...          Active                       NaN\n",
              "3    16-0101  2016-05-10T00:00:00.000  ...          Active                       NaN\n",
              "4    15-0200  2015-11-09T00:00:00.000  ...          Active                       NaN\n",
              "..       ...                      ...  ...             ...                       ...\n",
              "995  15-0014  2015-02-03T00:00:00.000  ...       Completed   Corrective Action Taken\n",
              "996  15-0152  2015-08-20T00:00:00.000  ...       Completed   Corrective Action Taken\n",
              "997  15-0009  2015-01-23T00:00:00.000  ...       Completed   Corrective Action Taken\n",
              "998  13-0242  2013-09-09T00:00:00.000  ...       Completed  No Corrective Action Tak\n",
              "999  14-0202  2014-10-10T00:00:00.000  ...       Completed                Exonerated\n",
              "\n",
              "[1000 rows x 6 columns]"
            ]
          },
          "metadata": {
            "tags": []
          },
          "execution_count": 4
        }
      ]
    },
    {
      "cell_type": "code",
      "metadata": {
        "id": "IuCyoRrKSd-F"
      },
      "source": [
        "# Changing Date to datetime\n",
        "df.created_dt = pd.to_datetime(df.created_dt)"
      ],
      "execution_count": null,
      "outputs": []
    },
    {
      "cell_type": "code",
      "metadata": {
        "colab": {
          "base_uri": "https://localhost:8080/"
        },
        "id": "-uEeP6SI41VT",
        "outputId": "2d0f1978-d726-4e99-cbfc-332853695a88"
      },
      "source": [
        "df.info()"
      ],
      "execution_count": null,
      "outputs": [
        {
          "output_type": "stream",
          "text": [
            "<class 'pandas.core.frame.DataFrame'>\n",
            "RangeIndex: 1000 entries, 0 to 999\n",
            "Data columns (total 6 columns):\n",
            " #   Column           Non-Null Count  Dtype         \n",
            "---  ------           --------------  -----         \n",
            " 0   filenum          1000 non-null   object        \n",
            " 1   created_dt       1000 non-null   datetime64[ns]\n",
            " 2   source           1000 non-null   object        \n",
            " 3   allegation       997 non-null    object        \n",
            " 4   incident_status  1000 non-null   object        \n",
            " 5   finding          822 non-null    object        \n",
            "dtypes: datetime64[ns](1), object(5)\n",
            "memory usage: 47.0+ KB\n"
          ],
          "name": "stdout"
        }
      ]
    },
    {
      "cell_type": "code",
      "metadata": {
        "colab": {
          "base_uri": "https://localhost:8080/",
          "height": 77
        },
        "id": "eqIxsxwvSq3Y",
        "outputId": "09c77e5c-5157-4396-950b-16e91bb7a393"
      },
      "source": [
        "# add a column for Year\n",
        "df['Year'] = df['created_dt'].dt.year\n",
        "df.head(1)"
      ],
      "execution_count": null,
      "outputs": [
        {
          "output_type": "execute_result",
          "data": {
            "text/html": [
              "<div>\n",
              "<style scoped>\n",
              "    .dataframe tbody tr th:only-of-type {\n",
              "        vertical-align: middle;\n",
              "    }\n",
              "\n",
              "    .dataframe tbody tr th {\n",
              "        vertical-align: top;\n",
              "    }\n",
              "\n",
              "    .dataframe thead th {\n",
              "        text-align: right;\n",
              "    }\n",
              "</style>\n",
              "<table border=\"1\" class=\"dataframe\">\n",
              "  <thead>\n",
              "    <tr style=\"text-align: right;\">\n",
              "      <th></th>\n",
              "      <th>filenum</th>\n",
              "      <th>created_dt</th>\n",
              "      <th>source</th>\n",
              "      <th>allegation</th>\n",
              "      <th>incident_status</th>\n",
              "      <th>finding</th>\n",
              "      <th>Year</th>\n",
              "    </tr>\n",
              "  </thead>\n",
              "  <tbody>\n",
              "    <tr>\n",
              "      <th>0</th>\n",
              "      <td>15-0200</td>\n",
              "      <td>2015-11-09</td>\n",
              "      <td>External</td>\n",
              "      <td>Neglect of Duty/Unsatisfactory Performance</td>\n",
              "      <td>Active</td>\n",
              "      <td>NaN</td>\n",
              "      <td>2015</td>\n",
              "    </tr>\n",
              "  </tbody>\n",
              "</table>\n",
              "</div>"
            ],
            "text/plain": [
              "   filenum created_dt    source  ... incident_status finding  Year\n",
              "0  15-0200 2015-11-09  External  ...          Active     NaN  2015\n",
              "\n",
              "[1 rows x 7 columns]"
            ]
          },
          "metadata": {
            "tags": []
          },
          "execution_count": 7
        }
      ]
    },
    {
      "cell_type": "code",
      "metadata": {
        "colab": {
          "base_uri": "https://localhost:8080/"
        },
        "id": "ofplR2C_agF3",
        "outputId": "afd66058-3a11-4736-f334-9b58f0de4da2"
      },
      "source": [
        "df.Year.min()"
      ],
      "execution_count": null,
      "outputs": [
        {
          "output_type": "execute_result",
          "data": {
            "text/plain": [
              "2013"
            ]
          },
          "metadata": {
            "tags": []
          },
          "execution_count": 85
        }
      ]
    },
    {
      "cell_type": "code",
      "metadata": {
        "colab": {
          "base_uri": "https://localhost:8080/"
        },
        "id": "H1Tpt_2lalVv",
        "outputId": "c7750abe-f35e-47f9-f74f-b7a588a8c05d"
      },
      "source": [
        "df.Year.max()"
      ],
      "execution_count": null,
      "outputs": [
        {
          "output_type": "execute_result",
          "data": {
            "text/plain": [
              "2021"
            ]
          },
          "metadata": {
            "tags": []
          },
          "execution_count": 86
        }
      ]
    },
    {
      "cell_type": "code",
      "metadata": {
        "colab": {
          "base_uri": "https://localhost:8080/"
        },
        "id": "yS_oG08V5OdZ",
        "outputId": "99b0bf01-658f-40bd-e504-8f741299ade3"
      },
      "source": [
        "df.incident_status.unique()"
      ],
      "execution_count": null,
      "outputs": [
        {
          "output_type": "execute_result",
          "data": {
            "text/plain": [
              "array(['Active', 'Completed'], dtype=object)"
            ]
          },
          "metadata": {
            "tags": []
          },
          "execution_count": 8
        }
      ]
    },
    {
      "cell_type": "code",
      "metadata": {
        "colab": {
          "base_uri": "https://localhost:8080/"
        },
        "id": "w3sz_Xpq5SDp",
        "outputId": "02fd26c5-ef40-43a3-dd79-3c1bd602246d"
      },
      "source": [
        "df.finding.unique()"
      ],
      "execution_count": null,
      "outputs": [
        {
          "output_type": "execute_result",
          "data": {
            "text/plain": [
              "array([nan, 'Administrative Closure', 'Declined', 'Unfounded',\n",
              "       'Exonerated', 'No Corrective Action Tak',\n",
              "       'Corrective Action Taken', 'Sustained', 'Insufficent Evidence',\n",
              "       'Policy Failure'], dtype=object)"
            ]
          },
          "metadata": {
            "tags": []
          },
          "execution_count": 9
        }
      ]
    },
    {
      "cell_type": "code",
      "metadata": {
        "colab": {
          "base_uri": "https://localhost:8080/",
          "height": 284
        },
        "id": "kUa8gYAU43IL",
        "outputId": "492f5fe2-8cec-4208-df60-711336303d9a"
      },
      "source": [
        "df.describe()"
      ],
      "execution_count": null,
      "outputs": [
        {
          "output_type": "execute_result",
          "data": {
            "text/html": [
              "<div>\n",
              "<style scoped>\n",
              "    .dataframe tbody tr th:only-of-type {\n",
              "        vertical-align: middle;\n",
              "    }\n",
              "\n",
              "    .dataframe tbody tr th {\n",
              "        vertical-align: top;\n",
              "    }\n",
              "\n",
              "    .dataframe thead th {\n",
              "        text-align: right;\n",
              "    }\n",
              "</style>\n",
              "<table border=\"1\" class=\"dataframe\">\n",
              "  <thead>\n",
              "    <tr style=\"text-align: right;\">\n",
              "      <th></th>\n",
              "      <th>Year</th>\n",
              "    </tr>\n",
              "  </thead>\n",
              "  <tbody>\n",
              "    <tr>\n",
              "      <th>count</th>\n",
              "      <td>1000.000000</td>\n",
              "    </tr>\n",
              "    <tr>\n",
              "      <th>mean</th>\n",
              "      <td>2015.272000</td>\n",
              "    </tr>\n",
              "    <tr>\n",
              "      <th>std</th>\n",
              "      <td>2.408281</td>\n",
              "    </tr>\n",
              "    <tr>\n",
              "      <th>min</th>\n",
              "      <td>2013.000000</td>\n",
              "    </tr>\n",
              "    <tr>\n",
              "      <th>25%</th>\n",
              "      <td>2014.000000</td>\n",
              "    </tr>\n",
              "    <tr>\n",
              "      <th>50%</th>\n",
              "      <td>2014.000000</td>\n",
              "    </tr>\n",
              "    <tr>\n",
              "      <th>75%</th>\n",
              "      <td>2015.000000</td>\n",
              "    </tr>\n",
              "    <tr>\n",
              "      <th>max</th>\n",
              "      <td>2021.000000</td>\n",
              "    </tr>\n",
              "  </tbody>\n",
              "</table>\n",
              "</div>"
            ],
            "text/plain": [
              "              Year\n",
              "count  1000.000000\n",
              "mean   2015.272000\n",
              "std       2.408281\n",
              "min    2013.000000\n",
              "25%    2014.000000\n",
              "50%    2014.000000\n",
              "75%    2015.000000\n",
              "max    2021.000000"
            ]
          },
          "metadata": {
            "tags": []
          },
          "execution_count": 10
        }
      ]
    },
    {
      "cell_type": "code",
      "metadata": {
        "colab": {
          "base_uri": "https://localhost:8080/"
        },
        "id": "W_4rTa9n4_Dm",
        "outputId": "467a393b-312f-44c2-e895-f498af03c249"
      },
      "source": [
        "df.allegation.unique()"
      ],
      "execution_count": null,
      "outputs": [
        {
          "output_type": "execute_result",
          "data": {
            "text/plain": [
              "array(['Neglect of Duty/Unsatisfactory Performance', 'Use of Force',\n",
              "       'Abuse of Authority', 'Conformance to Law', 'Courtesy',\n",
              "       'Conduct Unbecoming', 'Att to Duty/Use Alch-Drugs',\n",
              "       'Discrimination/Harassment', 'Discrim/Race/Sex',\n",
              "       'Abuse of Process', 'Ineffective Police Action',\n",
              "       'Carry Credent/Identification', 'Untruthful Statements',\n",
              "       'Secondary Employment', 'Property', 'Punctuality',\n",
              "       'Compliance with Orders', 'Maintenance of Property',\n",
              "       'Conf T/L Traffic', 'Absent W/O Leave', 'courtesy',\n",
              "       'Use of Force (Count two)', 'Conformance to Law (Count two)', nan,\n",
              "       'Neglect of Duty', 'Conformance to Law Re: Criminal',\n",
              "       'Conformance to Law Deadly Force', 'conduct unbecoming',\n",
              "       'Neglect of Duty/Unsatisfactory Performance (Count three)',\n",
              "       'Carry ID on Duty&OD While Armed',\n",
              "       'Neglect of Duty/Unsatisfactory Performance (Count two)',\n",
              "       'Use of Force (Count three)'], dtype=object)"
            ]
          },
          "metadata": {
            "tags": []
          },
          "execution_count": 11
        }
      ]
    },
    {
      "cell_type": "code",
      "metadata": {
        "colab": {
          "base_uri": "https://localhost:8080/",
          "height": 965
        },
        "id": "z72hiN_C66RP",
        "outputId": "09656f83-3c19-468b-b998-47e6216c402f"
      },
      "source": [
        "df_allegation = pd.DataFrame(df.allegation.value_counts())\n",
        "df_allegation"
      ],
      "execution_count": null,
      "outputs": [
        {
          "output_type": "execute_result",
          "data": {
            "text/html": [
              "<div>\n",
              "<style scoped>\n",
              "    .dataframe tbody tr th:only-of-type {\n",
              "        vertical-align: middle;\n",
              "    }\n",
              "\n",
              "    .dataframe tbody tr th {\n",
              "        vertical-align: top;\n",
              "    }\n",
              "\n",
              "    .dataframe thead th {\n",
              "        text-align: right;\n",
              "    }\n",
              "</style>\n",
              "<table border=\"1\" class=\"dataframe\">\n",
              "  <thead>\n",
              "    <tr style=\"text-align: right;\">\n",
              "      <th></th>\n",
              "      <th>allegation</th>\n",
              "    </tr>\n",
              "  </thead>\n",
              "  <tbody>\n",
              "    <tr>\n",
              "      <th>Neglect of Duty/Unsatisfactory Performance</th>\n",
              "      <td>315</td>\n",
              "    </tr>\n",
              "    <tr>\n",
              "      <th>Courtesy</th>\n",
              "      <td>169</td>\n",
              "    </tr>\n",
              "    <tr>\n",
              "      <th>Conformance to Law</th>\n",
              "      <td>156</td>\n",
              "    </tr>\n",
              "    <tr>\n",
              "      <th>Conduct Unbecoming</th>\n",
              "      <td>96</td>\n",
              "    </tr>\n",
              "    <tr>\n",
              "      <th>Use of Force</th>\n",
              "      <td>56</td>\n",
              "    </tr>\n",
              "    <tr>\n",
              "      <th>Conf T/L Traffic</th>\n",
              "      <td>38</td>\n",
              "    </tr>\n",
              "    <tr>\n",
              "      <th>Abuse of Authority</th>\n",
              "      <td>31</td>\n",
              "    </tr>\n",
              "    <tr>\n",
              "      <th>Untruthful Statements</th>\n",
              "      <td>20</td>\n",
              "    </tr>\n",
              "    <tr>\n",
              "      <th>Discrimination/Harassment</th>\n",
              "      <td>16</td>\n",
              "    </tr>\n",
              "    <tr>\n",
              "      <th>Maintenance of Property</th>\n",
              "      <td>12</td>\n",
              "    </tr>\n",
              "    <tr>\n",
              "      <th>Punctuality</th>\n",
              "      <td>10</td>\n",
              "    </tr>\n",
              "    <tr>\n",
              "      <th>Carry Credent/Identification</th>\n",
              "      <td>10</td>\n",
              "    </tr>\n",
              "    <tr>\n",
              "      <th>Abuse of Process</th>\n",
              "      <td>10</td>\n",
              "    </tr>\n",
              "    <tr>\n",
              "      <th>Conformance to Law Re: Criminal</th>\n",
              "      <td>8</td>\n",
              "    </tr>\n",
              "    <tr>\n",
              "      <th>Discrim/Race/Sex</th>\n",
              "      <td>8</td>\n",
              "    </tr>\n",
              "    <tr>\n",
              "      <th>Property</th>\n",
              "      <td>7</td>\n",
              "    </tr>\n",
              "    <tr>\n",
              "      <th>Secondary Employment</th>\n",
              "      <td>6</td>\n",
              "    </tr>\n",
              "    <tr>\n",
              "      <th>Att to Duty/Use Alch-Drugs</th>\n",
              "      <td>6</td>\n",
              "    </tr>\n",
              "    <tr>\n",
              "      <th>Compliance with Orders</th>\n",
              "      <td>5</td>\n",
              "    </tr>\n",
              "    <tr>\n",
              "      <th>Conformance to Law Deadly Force</th>\n",
              "      <td>4</td>\n",
              "    </tr>\n",
              "    <tr>\n",
              "      <th>Carry ID on Duty&amp;OD While Armed</th>\n",
              "      <td>2</td>\n",
              "    </tr>\n",
              "    <tr>\n",
              "      <th>Absent W/O Leave</th>\n",
              "      <td>2</td>\n",
              "    </tr>\n",
              "    <tr>\n",
              "      <th>courtesy</th>\n",
              "      <td>2</td>\n",
              "    </tr>\n",
              "    <tr>\n",
              "      <th>Use of Force (Count two)</th>\n",
              "      <td>1</td>\n",
              "    </tr>\n",
              "    <tr>\n",
              "      <th>Neglect of Duty/Unsatisfactory Performance (Count two)</th>\n",
              "      <td>1</td>\n",
              "    </tr>\n",
              "    <tr>\n",
              "      <th>Ineffective Police Action</th>\n",
              "      <td>1</td>\n",
              "    </tr>\n",
              "    <tr>\n",
              "      <th>Use of Force (Count three)</th>\n",
              "      <td>1</td>\n",
              "    </tr>\n",
              "    <tr>\n",
              "      <th>Conformance to Law (Count two)</th>\n",
              "      <td>1</td>\n",
              "    </tr>\n",
              "    <tr>\n",
              "      <th>conduct unbecoming</th>\n",
              "      <td>1</td>\n",
              "    </tr>\n",
              "    <tr>\n",
              "      <th>Neglect of Duty</th>\n",
              "      <td>1</td>\n",
              "    </tr>\n",
              "    <tr>\n",
              "      <th>Neglect of Duty/Unsatisfactory Performance (Count three)</th>\n",
              "      <td>1</td>\n",
              "    </tr>\n",
              "  </tbody>\n",
              "</table>\n",
              "</div>"
            ],
            "text/plain": [
              "                                                    allegation\n",
              "Neglect of Duty/Unsatisfactory Performance                 315\n",
              "Courtesy                                                   169\n",
              "Conformance to Law                                         156\n",
              "Conduct Unbecoming                                          96\n",
              "Use of Force                                                56\n",
              "Conf T/L Traffic                                            38\n",
              "Abuse of Authority                                          31\n",
              "Untruthful Statements                                       20\n",
              "Discrimination/Harassment                                   16\n",
              "Maintenance of Property                                     12\n",
              "Punctuality                                                 10\n",
              "Carry Credent/Identification                                10\n",
              "Abuse of Process                                            10\n",
              "Conformance to Law Re: Criminal                              8\n",
              "Discrim/Race/Sex                                             8\n",
              "Property                                                     7\n",
              "Secondary Employment                                         6\n",
              "Att to Duty/Use Alch-Drugs                                   6\n",
              "Compliance with Orders                                       5\n",
              "Conformance to Law Deadly Force                              4\n",
              "Carry ID on Duty&OD While Armed                              2\n",
              "Absent W/O Leave                                             2\n",
              "courtesy                                                     2\n",
              "Use of Force (Count two)                                     1\n",
              "Neglect of Duty/Unsatisfactory Performance (Cou...           1\n",
              "Ineffective Police Action                                    1\n",
              "Use of Force (Count three)                                   1\n",
              "Conformance to Law (Count two)                               1\n",
              "conduct unbecoming                                           1\n",
              "Neglect of Duty                                              1\n",
              "Neglect of Duty/Unsatisfactory Performance (Cou...           1"
            ]
          },
          "metadata": {
            "tags": []
          },
          "execution_count": 12
        }
      ]
    },
    {
      "cell_type": "code",
      "metadata": {
        "id": "bVxtkuRg9O2u"
      },
      "source": [
        "# Successfully creating excel sheet with cell output\n",
        "#df_allegation.to_excel(\"./allegationdf.xlsx\")"
      ],
      "execution_count": null,
      "outputs": []
    },
    {
      "cell_type": "code",
      "metadata": {
        "colab": {
          "base_uri": "https://localhost:8080/",
          "height": 314
        },
        "id": "DaUbJNbA7B-p",
        "outputId": "91447398-1a51-412d-ad4a-2a1b4469732a"
      },
      "source": [
        "df_findings = pd.DataFrame(df.finding.value_counts())\n",
        "df_findings"
      ],
      "execution_count": null,
      "outputs": [
        {
          "output_type": "execute_result",
          "data": {
            "text/html": [
              "<div>\n",
              "<style scoped>\n",
              "    .dataframe tbody tr th:only-of-type {\n",
              "        vertical-align: middle;\n",
              "    }\n",
              "\n",
              "    .dataframe tbody tr th {\n",
              "        vertical-align: top;\n",
              "    }\n",
              "\n",
              "    .dataframe thead th {\n",
              "        text-align: right;\n",
              "    }\n",
              "</style>\n",
              "<table border=\"1\" class=\"dataframe\">\n",
              "  <thead>\n",
              "    <tr style=\"text-align: right;\">\n",
              "      <th></th>\n",
              "      <th>finding</th>\n",
              "    </tr>\n",
              "  </thead>\n",
              "  <tbody>\n",
              "    <tr>\n",
              "      <th>No Corrective Action Tak</th>\n",
              "      <td>276</td>\n",
              "    </tr>\n",
              "    <tr>\n",
              "      <th>Corrective Action Taken</th>\n",
              "      <td>170</td>\n",
              "    </tr>\n",
              "    <tr>\n",
              "      <th>Administrative Closure</th>\n",
              "      <td>125</td>\n",
              "    </tr>\n",
              "    <tr>\n",
              "      <th>Exonerated</th>\n",
              "      <td>77</td>\n",
              "    </tr>\n",
              "    <tr>\n",
              "      <th>Sustained</th>\n",
              "      <td>63</td>\n",
              "    </tr>\n",
              "    <tr>\n",
              "      <th>Declined</th>\n",
              "      <td>47</td>\n",
              "    </tr>\n",
              "    <tr>\n",
              "      <th>Unfounded</th>\n",
              "      <td>40</td>\n",
              "    </tr>\n",
              "    <tr>\n",
              "      <th>Insufficent Evidence</th>\n",
              "      <td>22</td>\n",
              "    </tr>\n",
              "    <tr>\n",
              "      <th>Policy Failure</th>\n",
              "      <td>2</td>\n",
              "    </tr>\n",
              "  </tbody>\n",
              "</table>\n",
              "</div>"
            ],
            "text/plain": [
              "                          finding\n",
              "No Corrective Action Tak      276\n",
              "Corrective Action Taken       170\n",
              "Administrative Closure        125\n",
              "Exonerated                     77\n",
              "Sustained                      63\n",
              "Declined                       47\n",
              "Unfounded                      40\n",
              "Insufficent Evidence           22\n",
              "Policy Failure                  2"
            ]
          },
          "metadata": {
            "tags": []
          },
          "execution_count": 14
        }
      ]
    },
    {
      "cell_type": "code",
      "metadata": {
        "id": "E7TVyn1FEZ2t"
      },
      "source": [
        "# Successfully creating excel sheet with cell output\n",
        "#df_findings.to_excel(\"./findingsdf.xlsx\")"
      ],
      "execution_count": null,
      "outputs": []
    },
    {
      "cell_type": "code",
      "metadata": {
        "id": "rZyJWsTeD6rt"
      },
      "source": [
        "findingsdf = pd.read_csv('findingsdf.csv')"
      ],
      "execution_count": null,
      "outputs": []
    },
    {
      "cell_type": "code",
      "metadata": {
        "colab": {
          "base_uri": "https://localhost:8080/",
          "height": 195
        },
        "id": "cWI1JCcFBWVr",
        "outputId": "5e527eb9-33c9-4bbc-8429-03507c2f66b3"
      },
      "source": [
        "findingsdf.head()"
      ],
      "execution_count": null,
      "outputs": [
        {
          "output_type": "execute_result",
          "data": {
            "text/html": [
              "<div>\n",
              "<style scoped>\n",
              "    .dataframe tbody tr th:only-of-type {\n",
              "        vertical-align: middle;\n",
              "    }\n",
              "\n",
              "    .dataframe tbody tr th {\n",
              "        vertical-align: top;\n",
              "    }\n",
              "\n",
              "    .dataframe thead th {\n",
              "        text-align: right;\n",
              "    }\n",
              "</style>\n",
              "<table border=\"1\" class=\"dataframe\">\n",
              "  <thead>\n",
              "    <tr style=\"text-align: right;\">\n",
              "      <th></th>\n",
              "      <th>Finding</th>\n",
              "      <th>Count</th>\n",
              "    </tr>\n",
              "  </thead>\n",
              "  <tbody>\n",
              "    <tr>\n",
              "      <th>0</th>\n",
              "      <td>No Corrective Action Tak</td>\n",
              "      <td>279</td>\n",
              "    </tr>\n",
              "    <tr>\n",
              "      <th>1</th>\n",
              "      <td>Corrective Action Taken</td>\n",
              "      <td>170</td>\n",
              "    </tr>\n",
              "    <tr>\n",
              "      <th>2</th>\n",
              "      <td>Administrative Closure</td>\n",
              "      <td>127</td>\n",
              "    </tr>\n",
              "    <tr>\n",
              "      <th>3</th>\n",
              "      <td>Exonerated</td>\n",
              "      <td>77</td>\n",
              "    </tr>\n",
              "    <tr>\n",
              "      <th>4</th>\n",
              "      <td>Sustained</td>\n",
              "      <td>65</td>\n",
              "    </tr>\n",
              "  </tbody>\n",
              "</table>\n",
              "</div>"
            ],
            "text/plain": [
              "                    Finding  Count\n",
              "0  No Corrective Action Tak    279\n",
              "1   Corrective Action Taken    170\n",
              "2    Administrative Closure    127\n",
              "3                Exonerated     77\n",
              "4                 Sustained     65"
            ]
          },
          "metadata": {
            "tags": []
          },
          "execution_count": 19
        }
      ]
    },
    {
      "cell_type": "code",
      "metadata": {
        "colab": {
          "base_uri": "https://localhost:8080/",
          "height": 407
        },
        "id": "VwZVBstC5hkG",
        "outputId": "d78cc0fd-682c-4751-82e2-9210e830fee5"
      },
      "source": [
        "import numpy as np\n",
        "import pandas as pd\n",
        "from pandas import Series, DataFrame\n",
        "import matplotlib.pyplot as plt\n",
        "\n",
        "plt.bar(df_findings.index, df_findings.finding, facecolor='navy', alpha=0.5, )\n",
        "plt.title('IA Investigation Findings')\n",
        "plt.xlabel('Finding')\n",
        "plt.ylabel('Frequency')\n",
        "plt.xticks(rotation=90)\n",
        "\n",
        "plt.savefig('AI_findings.png', dpi=300, bbox_inches = 'tight')\n",
        "\n",
        "plt.show()"
      ],
      "execution_count": null,
      "outputs": [
        {
          "output_type": "display_data",
          "data": {
            "image/png": "[encoded data removed]",
            "text/plain": [
              "<Figure size 432x288 with 1 Axes>"
            ]
          },
          "metadata": {
            "tags": [],
            "needs_background": "light"
          }
        }
      ]
    },
    {
      "cell_type": "code",
      "metadata": {
        "colab": {
          "base_uri": "https://localhost:8080/",
          "height": 575
        },
        "id": "6Ckrnofk8JwG",
        "outputId": "0eb2ad2a-c571-491a-a210-31a019822491"
      },
      "source": [
        "plt.bar(df_allegation.index, df_allegation.allegation, facecolor='green', alpha=0.5, )\n",
        "plt.title('Allegation Barplot for IA Investigation Findings')\n",
        "plt.xlabel('Allegation')\n",
        "plt.ylabel('Frequency')\n",
        "plt.xticks(rotation=90)\n",
        "plt.show()"
      ],
      "execution_count": null,
      "outputs": [
        {
          "output_type": "display_data",
          "data": {
            "image/png": "[encoded data removed]",
            "text/plain": [
              "<Figure size 432x288 with 1 Axes>"
            ]
          },
          "metadata": {
            "tags": [],
            "needs_background": "light"
          }
        }
      ]
    },
    {
      "cell_type": "code",
      "metadata": {
        "colab": {
          "base_uri": "https://localhost:8080/",
          "height": 297
        },
        "id": "TYsu5l7pOKSw",
        "outputId": "e359521b-3fb7-4613-f21d-5610530942eb"
      },
      "source": [
        "plt.hist(df.source, facecolor='green', color = 'black', alpha=0.5, bins = 3 )\n",
        "plt.title('IA Investigation Allegation Source')\n",
        "plt.xlabel('Source')\n",
        "plt.ylabel('Frequency')\n",
        "plt.tight_layout()\n",
        "plt.show()"
      ],
      "execution_count": null,
      "outputs": [
        {
          "output_type": "display_data",
          "data": {
            "image/png": "[encoded data removed]",
            "text/plain": [
              "<Figure size 432x288 with 1 Axes>"
            ]
          },
          "metadata": {
            "tags": [],
            "needs_background": "light"
          }
        }
      ]
    },
    {
      "cell_type": "code",
      "metadata": {
        "colab": {
          "base_uri": "https://localhost:8080/"
        },
        "id": "DJQr-smC-10_",
        "outputId": "e73f9c4b-a2c9-4816-af78-1d9319667850"
      },
      "source": [
        "df.source.value_counts()"
      ],
      "execution_count": null,
      "outputs": [
        {
          "output_type": "execute_result",
          "data": {
            "text/plain": [
              "External    676\n",
              "Internal    324\n",
              "Name: source, dtype: int64"
            ]
          },
          "metadata": {
            "tags": []
          },
          "execution_count": 23
        }
      ]
    },
    {
      "cell_type": "code",
      "metadata": {
        "colab": {
          "base_uri": "https://localhost:8080/"
        },
        "id": "bSSt_Jzb-6Ho",
        "outputId": "fec4d2c7-c877-4f68-d92e-f26f11e6b85c"
      },
      "source": [
        "318+682"
      ],
      "execution_count": null,
      "outputs": [
        {
          "output_type": "execute_result",
          "data": {
            "text/plain": [
              "1000"
            ]
          },
          "metadata": {
            "tags": []
          },
          "execution_count": 24
        }
      ]
    },
    {
      "cell_type": "code",
      "metadata": {
        "colab": {
          "base_uri": "https://localhost:8080/"
        },
        "id": "WpQfc_9I--Ey",
        "outputId": "f196fc8b-41fd-443c-a7e9-b6aa7fa7e4a1"
      },
      "source": [
        "318/1000 * 100\n",
        "682/1000 * 100"
      ],
      "execution_count": null,
      "outputs": [
        {
          "output_type": "execute_result",
          "data": {
            "text/plain": [
              "68.2"
            ]
          },
          "metadata": {
            "tags": []
          },
          "execution_count": 25
        }
      ]
    },
    {
      "cell_type": "code",
      "metadata": {
        "colab": {
          "base_uri": "https://localhost:8080/",
          "height": 343
        },
        "id": "F7S8Oe0aUOCw",
        "outputId": "c9563fc8-c0ab-4d3e-9540-43cc850824ef"
      },
      "source": [
        "df.head(10)"
      ],
      "execution_count": null,
      "outputs": [
        {
          "output_type": "execute_result",
          "data": {
            "text/html": [
              "<div>\n",
              "<style scoped>\n",
              "    .dataframe tbody tr th:only-of-type {\n",
              "        vertical-align: middle;\n",
              "    }\n",
              "\n",
              "    .dataframe tbody tr th {\n",
              "        vertical-align: top;\n",
              "    }\n",
              "\n",
              "    .dataframe thead th {\n",
              "        text-align: right;\n",
              "    }\n",
              "</style>\n",
              "<table border=\"1\" class=\"dataframe\">\n",
              "  <thead>\n",
              "    <tr style=\"text-align: right;\">\n",
              "      <th></th>\n",
              "      <th>filenum</th>\n",
              "      <th>created_dt</th>\n",
              "      <th>source</th>\n",
              "      <th>allegation</th>\n",
              "      <th>incident_status</th>\n",
              "      <th>finding</th>\n",
              "      <th>Year</th>\n",
              "    </tr>\n",
              "  </thead>\n",
              "  <tbody>\n",
              "    <tr>\n",
              "      <th>0</th>\n",
              "      <td>15-0200</td>\n",
              "      <td>2015-11-09</td>\n",
              "      <td>External</td>\n",
              "      <td>Neglect of Duty/Unsatisfactory Performance</td>\n",
              "      <td>Active</td>\n",
              "      <td>NaN</td>\n",
              "      <td>2015</td>\n",
              "    </tr>\n",
              "    <tr>\n",
              "      <th>1</th>\n",
              "      <td>16-0101</td>\n",
              "      <td>2016-05-10</td>\n",
              "      <td>Internal</td>\n",
              "      <td>Use of Force</td>\n",
              "      <td>Active</td>\n",
              "      <td>NaN</td>\n",
              "      <td>2016</td>\n",
              "    </tr>\n",
              "    <tr>\n",
              "      <th>2</th>\n",
              "      <td>16-0101</td>\n",
              "      <td>2016-05-10</td>\n",
              "      <td>Internal</td>\n",
              "      <td>Abuse of Authority</td>\n",
              "      <td>Active</td>\n",
              "      <td>NaN</td>\n",
              "      <td>2016</td>\n",
              "    </tr>\n",
              "    <tr>\n",
              "      <th>3</th>\n",
              "      <td>16-0101</td>\n",
              "      <td>2016-05-10</td>\n",
              "      <td>Internal</td>\n",
              "      <td>Conformance to Law</td>\n",
              "      <td>Active</td>\n",
              "      <td>NaN</td>\n",
              "      <td>2016</td>\n",
              "    </tr>\n",
              "    <tr>\n",
              "      <th>4</th>\n",
              "      <td>15-0200</td>\n",
              "      <td>2015-11-09</td>\n",
              "      <td>External</td>\n",
              "      <td>Courtesy</td>\n",
              "      <td>Active</td>\n",
              "      <td>NaN</td>\n",
              "      <td>2015</td>\n",
              "    </tr>\n",
              "    <tr>\n",
              "      <th>5</th>\n",
              "      <td>15-0200</td>\n",
              "      <td>2015-11-09</td>\n",
              "      <td>External</td>\n",
              "      <td>Conduct Unbecoming</td>\n",
              "      <td>Active</td>\n",
              "      <td>NaN</td>\n",
              "      <td>2015</td>\n",
              "    </tr>\n",
              "    <tr>\n",
              "      <th>6</th>\n",
              "      <td>16-0101</td>\n",
              "      <td>2016-05-10</td>\n",
              "      <td>Internal</td>\n",
              "      <td>Att to Duty/Use Alch-Drugs</td>\n",
              "      <td>Active</td>\n",
              "      <td>NaN</td>\n",
              "      <td>2016</td>\n",
              "    </tr>\n",
              "    <tr>\n",
              "      <th>7</th>\n",
              "      <td>16-0196</td>\n",
              "      <td>2016-08-17</td>\n",
              "      <td>Internal</td>\n",
              "      <td>Conformance to Law</td>\n",
              "      <td>Active</td>\n",
              "      <td>NaN</td>\n",
              "      <td>2016</td>\n",
              "    </tr>\n",
              "    <tr>\n",
              "      <th>8</th>\n",
              "      <td>16-0196</td>\n",
              "      <td>2016-08-17</td>\n",
              "      <td>Internal</td>\n",
              "      <td>Conduct Unbecoming</td>\n",
              "      <td>Active</td>\n",
              "      <td>NaN</td>\n",
              "      <td>2016</td>\n",
              "    </tr>\n",
              "    <tr>\n",
              "      <th>9</th>\n",
              "      <td>19-0093</td>\n",
              "      <td>2019-06-10</td>\n",
              "      <td>External</td>\n",
              "      <td>Courtesy</td>\n",
              "      <td>Active</td>\n",
              "      <td>Administrative Closure</td>\n",
              "      <td>2019</td>\n",
              "    </tr>\n",
              "  </tbody>\n",
              "</table>\n",
              "</div>"
            ],
            "text/plain": [
              "   filenum created_dt    source  ... incident_status                 finding  Year\n",
              "0  15-0200 2015-11-09  External  ...          Active                     NaN  2015\n",
              "1  16-0101 2016-05-10  Internal  ...          Active                     NaN  2016\n",
              "2  16-0101 2016-05-10  Internal  ...          Active                     NaN  2016\n",
              "3  16-0101 2016-05-10  Internal  ...          Active                     NaN  2016\n",
              "4  15-0200 2015-11-09  External  ...          Active                     NaN  2015\n",
              "5  15-0200 2015-11-09  External  ...          Active                     NaN  2015\n",
              "6  16-0101 2016-05-10  Internal  ...          Active                     NaN  2016\n",
              "7  16-0196 2016-08-17  Internal  ...          Active                     NaN  2016\n",
              "8  16-0196 2016-08-17  Internal  ...          Active                     NaN  2016\n",
              "9  19-0093 2019-06-10  External  ...          Active  Administrative Closure  2019\n",
              "\n",
              "[10 rows x 7 columns]"
            ]
          },
          "metadata": {
            "tags": []
          },
          "execution_count": 26
        }
      ]
    },
    {
      "cell_type": "code",
      "metadata": {
        "colab": {
          "base_uri": "https://localhost:8080/"
        },
        "id": "oy7ugnvLtOjF",
        "outputId": "0e55b9bf-33e3-4088-93d4-741d0fb9a214"
      },
      "source": [
        "df.finding.value_counts()"
      ],
      "execution_count": null,
      "outputs": [
        {
          "output_type": "execute_result",
          "data": {
            "text/plain": [
              "No Corrective Action Tak    276\n",
              "Corrective Action Taken     170\n",
              "Administrative Closure      125\n",
              "Exonerated                   77\n",
              "Sustained                    63\n",
              "Declined                     47\n",
              "Unfounded                    40\n",
              "Insufficent Evidence         22\n",
              "Policy Failure                2\n",
              "Name: finding, dtype: int64"
            ]
          },
          "metadata": {
            "tags": []
          },
          "execution_count": 27
        }
      ]
    },
    {
      "cell_type": "code",
      "metadata": {
        "colab": {
          "base_uri": "https://localhost:8080/"
        },
        "id": "UcjQsxiUtbFg",
        "outputId": "5958eb05-ae4d-452f-87cb-f289061825b4"
      },
      "source": [
        "df.finding.isnull().sum()"
      ],
      "execution_count": null,
      "outputs": [
        {
          "output_type": "execute_result",
          "data": {
            "text/plain": [
              "178"
            ]
          },
          "metadata": {
            "tags": []
          },
          "execution_count": 28
        }
      ]
    },
    {
      "cell_type": "code",
      "metadata": {
        "colab": {
          "base_uri": "https://localhost:8080/"
        },
        "id": "a7PaNJ9s9Ow1",
        "outputId": "ce596a9a-ed36-45c6-8e17-9a25dee95ce6"
      },
      "source": [
        "df.allegation.value_counts()"
      ],
      "execution_count": null,
      "outputs": [
        {
          "output_type": "execute_result",
          "data": {
            "text/plain": [
              "Neglect of Duty/Unsatisfactory Performance                  315\n",
              "Courtesy                                                    169\n",
              "Conformance to Law                                          156\n",
              "Conduct Unbecoming                                           96\n",
              "Use of Force                                                 56\n",
              "Conf T/L Traffic                                             38\n",
              "Abuse of Authority                                           31\n",
              "Untruthful Statements                                        20\n",
              "Discrimination/Harassment                                    16\n",
              "Maintenance of Property                                      12\n",
              "Punctuality                                                  10\n",
              "Carry Credent/Identification                                 10\n",
              "Abuse of Process                                             10\n",
              "Conformance to Law Re: Criminal                               8\n",
              "Discrim/Race/Sex                                              8\n",
              "Property                                                      7\n",
              "Secondary Employment                                          6\n",
              "Att to Duty/Use Alch-Drugs                                    6\n",
              "Compliance with Orders                                        5\n",
              "Conformance to Law Deadly Force                               4\n",
              "Carry ID on Duty&OD While Armed                               2\n",
              "Absent W/O Leave                                              2\n",
              "courtesy                                                      2\n",
              "Use of Force (Count two)                                      1\n",
              "Neglect of Duty/Unsatisfactory Performance (Count two)        1\n",
              "Ineffective Police Action                                     1\n",
              "Use of Force (Count three)                                    1\n",
              "Conformance to Law (Count two)                                1\n",
              "conduct unbecoming                                            1\n",
              "Neglect of Duty                                               1\n",
              "Neglect of Duty/Unsatisfactory Performance (Count three)      1\n",
              "Name: allegation, dtype: int64"
            ]
          },
          "metadata": {
            "tags": []
          },
          "execution_count": 29
        }
      ]
    },
    {
      "cell_type": "code",
      "metadata": {
        "id": "-WEhmwf0U5ry"
      },
      "source": [
        "#year and corrective\n",
        "#df_corrective = df.groupby[\"Year\"]['finding']\n",
        "#df_corrective.head()"
      ],
      "execution_count": null,
      "outputs": []
    },
    {
      "cell_type": "code",
      "metadata": {
        "id": "N0momZocV7Dq",
        "colab": {
          "base_uri": "https://localhost:8080/",
          "height": 195
        },
        "outputId": "a2b85950-9f78-4181-942d-84fd1d2ab356"
      },
      "source": [
        "df_corrective=df[(df['finding']==\"Corrective Action Taken\")]\n",
        "df_corrective.head()"
      ],
      "execution_count": null,
      "outputs": [
        {
          "output_type": "execute_result",
          "data": {
            "text/html": [
              "<div>\n",
              "<style scoped>\n",
              "    .dataframe tbody tr th:only-of-type {\n",
              "        vertical-align: middle;\n",
              "    }\n",
              "\n",
              "    .dataframe tbody tr th {\n",
              "        vertical-align: top;\n",
              "    }\n",
              "\n",
              "    .dataframe thead th {\n",
              "        text-align: right;\n",
              "    }\n",
              "</style>\n",
              "<table border=\"1\" class=\"dataframe\">\n",
              "  <thead>\n",
              "    <tr style=\"text-align: right;\">\n",
              "      <th></th>\n",
              "      <th>filenum</th>\n",
              "      <th>created_dt</th>\n",
              "      <th>source</th>\n",
              "      <th>allegation</th>\n",
              "      <th>incident_status</th>\n",
              "      <th>finding</th>\n",
              "      <th>Year</th>\n",
              "    </tr>\n",
              "  </thead>\n",
              "  <tbody>\n",
              "    <tr>\n",
              "      <th>155</th>\n",
              "      <td>20-0216</td>\n",
              "      <td>2020-12-21</td>\n",
              "      <td>External</td>\n",
              "      <td>Conformance to Law</td>\n",
              "      <td>Active</td>\n",
              "      <td>Corrective Action Taken</td>\n",
              "      <td>2020</td>\n",
              "    </tr>\n",
              "    <tr>\n",
              "      <th>199</th>\n",
              "      <td>14-0060</td>\n",
              "      <td>2014-03-27</td>\n",
              "      <td>External</td>\n",
              "      <td>Conduct Unbecoming</td>\n",
              "      <td>Completed</td>\n",
              "      <td>Corrective Action Taken</td>\n",
              "      <td>2014</td>\n",
              "    </tr>\n",
              "    <tr>\n",
              "      <th>201</th>\n",
              "      <td>13-0268</td>\n",
              "      <td>2013-09-26</td>\n",
              "      <td>External</td>\n",
              "      <td>Property</td>\n",
              "      <td>Completed</td>\n",
              "      <td>Corrective Action Taken</td>\n",
              "      <td>2013</td>\n",
              "    </tr>\n",
              "    <tr>\n",
              "      <th>204</th>\n",
              "      <td>15-0161</td>\n",
              "      <td>2015-09-08</td>\n",
              "      <td>External</td>\n",
              "      <td>Conduct Unbecoming</td>\n",
              "      <td>Completed</td>\n",
              "      <td>Corrective Action Taken</td>\n",
              "      <td>2015</td>\n",
              "    </tr>\n",
              "    <tr>\n",
              "      <th>205</th>\n",
              "      <td>13-0351</td>\n",
              "      <td>2014-01-02</td>\n",
              "      <td>External</td>\n",
              "      <td>Neglect of Duty/Unsatisfactory Performance</td>\n",
              "      <td>Completed</td>\n",
              "      <td>Corrective Action Taken</td>\n",
              "      <td>2014</td>\n",
              "    </tr>\n",
              "  </tbody>\n",
              "</table>\n",
              "</div>"
            ],
            "text/plain": [
              "     filenum created_dt  ...                  finding  Year\n",
              "155  20-0216 2020-12-21  ...  Corrective Action Taken  2020\n",
              "199  14-0060 2014-03-27  ...  Corrective Action Taken  2014\n",
              "201  13-0268 2013-09-26  ...  Corrective Action Taken  2013\n",
              "204  15-0161 2015-09-08  ...  Corrective Action Taken  2015\n",
              "205  13-0351 2014-01-02  ...  Corrective Action Taken  2014\n",
              "\n",
              "[5 rows x 7 columns]"
            ]
          },
          "metadata": {
            "tags": []
          },
          "execution_count": 31
        }
      ]
    },
    {
      "cell_type": "code",
      "metadata": {
        "colab": {
          "base_uri": "https://localhost:8080/",
          "height": 1000
        },
        "id": "x50vxmscuLYu",
        "outputId": "be18d795-8708-4d93-da42-e20c324679e5"
      },
      "source": [
        "#df_corrective.groupby['Year']\n",
        "df_correctiveplot = pd.DataFrame(df_corrective.groupby([\"Year\"])['allegation'].value_counts())\n",
        "df_correctiveplot"
      ],
      "execution_count": null,
      "outputs": [
        {
          "output_type": "execute_result",
          "data": {
            "text/html": [
              "<div>\n",
              "<style scoped>\n",
              "    .dataframe tbody tr th:only-of-type {\n",
              "        vertical-align: middle;\n",
              "    }\n",
              "\n",
              "    .dataframe tbody tr th {\n",
              "        vertical-align: top;\n",
              "    }\n",
              "\n",
              "    .dataframe thead th {\n",
              "        text-align: right;\n",
              "    }\n",
              "</style>\n",
              "<table border=\"1\" class=\"dataframe\">\n",
              "  <thead>\n",
              "    <tr style=\"text-align: right;\">\n",
              "      <th></th>\n",
              "      <th></th>\n",
              "      <th>allegation</th>\n",
              "    </tr>\n",
              "    <tr>\n",
              "      <th>Year</th>\n",
              "      <th>allegation</th>\n",
              "      <th></th>\n",
              "    </tr>\n",
              "  </thead>\n",
              "  <tbody>\n",
              "    <tr>\n",
              "      <th rowspan=\"10\" valign=\"top\">2013</th>\n",
              "      <th>Conf T/L Traffic</th>\n",
              "      <td>14</td>\n",
              "    </tr>\n",
              "    <tr>\n",
              "      <th>Neglect of Duty/Unsatisfactory Performance</th>\n",
              "      <td>14</td>\n",
              "    </tr>\n",
              "    <tr>\n",
              "      <th>Courtesy</th>\n",
              "      <td>11</td>\n",
              "    </tr>\n",
              "    <tr>\n",
              "      <th>Abuse of Authority</th>\n",
              "      <td>1</td>\n",
              "    </tr>\n",
              "    <tr>\n",
              "      <th>Carry Credent/Identification</th>\n",
              "      <td>1</td>\n",
              "    </tr>\n",
              "    <tr>\n",
              "      <th>Compliance with Orders</th>\n",
              "      <td>1</td>\n",
              "    </tr>\n",
              "    <tr>\n",
              "      <th>Conduct Unbecoming</th>\n",
              "      <td>1</td>\n",
              "    </tr>\n",
              "    <tr>\n",
              "      <th>Conformance to Law</th>\n",
              "      <td>1</td>\n",
              "    </tr>\n",
              "    <tr>\n",
              "      <th>Property</th>\n",
              "      <td>1</td>\n",
              "    </tr>\n",
              "    <tr>\n",
              "      <th>courtesy</th>\n",
              "      <td>1</td>\n",
              "    </tr>\n",
              "    <tr>\n",
              "      <th rowspan=\"10\" valign=\"top\">2014</th>\n",
              "      <th>Neglect of Duty/Unsatisfactory Performance</th>\n",
              "      <td>28</td>\n",
              "    </tr>\n",
              "    <tr>\n",
              "      <th>Courtesy</th>\n",
              "      <td>20</td>\n",
              "    </tr>\n",
              "    <tr>\n",
              "      <th>Conduct Unbecoming</th>\n",
              "      <td>5</td>\n",
              "    </tr>\n",
              "    <tr>\n",
              "      <th>Conformance to Law</th>\n",
              "      <td>4</td>\n",
              "    </tr>\n",
              "    <tr>\n",
              "      <th>Conf T/L Traffic</th>\n",
              "      <td>3</td>\n",
              "    </tr>\n",
              "    <tr>\n",
              "      <th>Carry Credent/Identification</th>\n",
              "      <td>2</td>\n",
              "    </tr>\n",
              "    <tr>\n",
              "      <th>Abuse of Authority</th>\n",
              "      <td>1</td>\n",
              "    </tr>\n",
              "    <tr>\n",
              "      <th>Carry ID on Duty&amp;OD While Armed</th>\n",
              "      <td>1</td>\n",
              "    </tr>\n",
              "    <tr>\n",
              "      <th>Discrimination/Harassment</th>\n",
              "      <td>1</td>\n",
              "    </tr>\n",
              "    <tr>\n",
              "      <th>Property</th>\n",
              "      <td>1</td>\n",
              "    </tr>\n",
              "    <tr>\n",
              "      <th rowspan=\"8\" valign=\"top\">2015</th>\n",
              "      <th>Neglect of Duty/Unsatisfactory Performance</th>\n",
              "      <td>16</td>\n",
              "    </tr>\n",
              "    <tr>\n",
              "      <th>Courtesy</th>\n",
              "      <td>13</td>\n",
              "    </tr>\n",
              "    <tr>\n",
              "      <th>Conduct Unbecoming</th>\n",
              "      <td>4</td>\n",
              "    </tr>\n",
              "    <tr>\n",
              "      <th>Conformance to Law</th>\n",
              "      <td>4</td>\n",
              "    </tr>\n",
              "    <tr>\n",
              "      <th>Abuse of Authority</th>\n",
              "      <td>1</td>\n",
              "    </tr>\n",
              "    <tr>\n",
              "      <th>Compliance with Orders</th>\n",
              "      <td>1</td>\n",
              "    </tr>\n",
              "    <tr>\n",
              "      <th>Conf T/L Traffic</th>\n",
              "      <td>1</td>\n",
              "    </tr>\n",
              "    <tr>\n",
              "      <th>Punctuality</th>\n",
              "      <td>1</td>\n",
              "    </tr>\n",
              "    <tr>\n",
              "      <th rowspan=\"6\" valign=\"top\">2016</th>\n",
              "      <th>Neglect of Duty/Unsatisfactory Performance</th>\n",
              "      <td>6</td>\n",
              "    </tr>\n",
              "    <tr>\n",
              "      <th>Courtesy</th>\n",
              "      <td>4</td>\n",
              "    </tr>\n",
              "    <tr>\n",
              "      <th>Conf T/L Traffic</th>\n",
              "      <td>3</td>\n",
              "    </tr>\n",
              "    <tr>\n",
              "      <th>Att to Duty/Use Alch-Drugs</th>\n",
              "      <td>1</td>\n",
              "    </tr>\n",
              "    <tr>\n",
              "      <th>Conduct Unbecoming</th>\n",
              "      <td>1</td>\n",
              "    </tr>\n",
              "    <tr>\n",
              "      <th>Conformance to Law</th>\n",
              "      <td>1</td>\n",
              "    </tr>\n",
              "    <tr>\n",
              "      <th>2020</th>\n",
              "      <th>Conformance to Law</th>\n",
              "      <td>1</td>\n",
              "    </tr>\n",
              "  </tbody>\n",
              "</table>\n",
              "</div>"
            ],
            "text/plain": [
              "                                                 allegation\n",
              "Year allegation                                            \n",
              "2013 Conf T/L Traffic                                    14\n",
              "     Neglect of Duty/Unsatisfactory Performance          14\n",
              "     Courtesy                                            11\n",
              "     Abuse of Authority                                   1\n",
              "     Carry Credent/Identification                         1\n",
              "     Compliance with Orders                               1\n",
              "     Conduct Unbecoming                                   1\n",
              "     Conformance to Law                                   1\n",
              "     Property                                             1\n",
              "     courtesy                                             1\n",
              "2014 Neglect of Duty/Unsatisfactory Performance          28\n",
              "     Courtesy                                            20\n",
              "     Conduct Unbecoming                                   5\n",
              "     Conformance to Law                                   4\n",
              "     Conf T/L Traffic                                     3\n",
              "     Carry Credent/Identification                         2\n",
              "     Abuse of Authority                                   1\n",
              "     Carry ID on Duty&OD While Armed                      1\n",
              "     Discrimination/Harassment                            1\n",
              "     Property                                             1\n",
              "2015 Neglect of Duty/Unsatisfactory Performance          16\n",
              "     Courtesy                                            13\n",
              "     Conduct Unbecoming                                   4\n",
              "     Conformance to Law                                   4\n",
              "     Abuse of Authority                                   1\n",
              "     Compliance with Orders                               1\n",
              "     Conf T/L Traffic                                     1\n",
              "     Punctuality                                          1\n",
              "2016 Neglect of Duty/Unsatisfactory Performance           6\n",
              "     Courtesy                                             4\n",
              "     Conf T/L Traffic                                     3\n",
              "     Att to Duty/Use Alch-Drugs                           1\n",
              "     Conduct Unbecoming                                   1\n",
              "     Conformance to Law                                   1\n",
              "2020 Conformance to Law                                   1"
            ]
          },
          "metadata": {
            "tags": []
          },
          "execution_count": 32
        }
      ]
    },
    {
      "cell_type": "code",
      "metadata": {
        "colab": {
          "base_uri": "https://localhost:8080/",
          "height": 1000
        },
        "id": "okf9dUgYv1sw",
        "outputId": "51b10fef-cc13-4631-e804-ffd6b5dc8c66"
      },
      "source": [
        "df_correctiveplot.reset_index(level=0, inplace=True)\n",
        "df_correctiveplot"
      ],
      "execution_count": null,
      "outputs": [
        {
          "output_type": "execute_result",
          "data": {
            "text/html": [
              "<div>\n",
              "<style scoped>\n",
              "    .dataframe tbody tr th:only-of-type {\n",
              "        vertical-align: middle;\n",
              "    }\n",
              "\n",
              "    .dataframe tbody tr th {\n",
              "        vertical-align: top;\n",
              "    }\n",
              "\n",
              "    .dataframe thead th {\n",
              "        text-align: right;\n",
              "    }\n",
              "</style>\n",
              "<table border=\"1\" class=\"dataframe\">\n",
              "  <thead>\n",
              "    <tr style=\"text-align: right;\">\n",
              "      <th></th>\n",
              "      <th>Year</th>\n",
              "      <th>allegation</th>\n",
              "    </tr>\n",
              "    <tr>\n",
              "      <th>allegation</th>\n",
              "      <th></th>\n",
              "      <th></th>\n",
              "    </tr>\n",
              "  </thead>\n",
              "  <tbody>\n",
              "    <tr>\n",
              "      <th>Conf T/L Traffic</th>\n",
              "      <td>2013</td>\n",
              "      <td>14</td>\n",
              "    </tr>\n",
              "    <tr>\n",
              "      <th>Neglect of Duty/Unsatisfactory Performance</th>\n",
              "      <td>2013</td>\n",
              "      <td>14</td>\n",
              "    </tr>\n",
              "    <tr>\n",
              "      <th>Courtesy</th>\n",
              "      <td>2013</td>\n",
              "      <td>11</td>\n",
              "    </tr>\n",
              "    <tr>\n",
              "      <th>Abuse of Authority</th>\n",
              "      <td>2013</td>\n",
              "      <td>1</td>\n",
              "    </tr>\n",
              "    <tr>\n",
              "      <th>Carry Credent/Identification</th>\n",
              "      <td>2013</td>\n",
              "      <td>1</td>\n",
              "    </tr>\n",
              "    <tr>\n",
              "      <th>Compliance with Orders</th>\n",
              "      <td>2013</td>\n",
              "      <td>1</td>\n",
              "    </tr>\n",
              "    <tr>\n",
              "      <th>Conduct Unbecoming</th>\n",
              "      <td>2013</td>\n",
              "      <td>1</td>\n",
              "    </tr>\n",
              "    <tr>\n",
              "      <th>Conformance to Law</th>\n",
              "      <td>2013</td>\n",
              "      <td>1</td>\n",
              "    </tr>\n",
              "    <tr>\n",
              "      <th>Property</th>\n",
              "      <td>2013</td>\n",
              "      <td>1</td>\n",
              "    </tr>\n",
              "    <tr>\n",
              "      <th>courtesy</th>\n",
              "      <td>2013</td>\n",
              "      <td>1</td>\n",
              "    </tr>\n",
              "    <tr>\n",
              "      <th>Neglect of Duty/Unsatisfactory Performance</th>\n",
              "      <td>2014</td>\n",
              "      <td>28</td>\n",
              "    </tr>\n",
              "    <tr>\n",
              "      <th>Courtesy</th>\n",
              "      <td>2014</td>\n",
              "      <td>20</td>\n",
              "    </tr>\n",
              "    <tr>\n",
              "      <th>Conduct Unbecoming</th>\n",
              "      <td>2014</td>\n",
              "      <td>5</td>\n",
              "    </tr>\n",
              "    <tr>\n",
              "      <th>Conformance to Law</th>\n",
              "      <td>2014</td>\n",
              "      <td>4</td>\n",
              "    </tr>\n",
              "    <tr>\n",
              "      <th>Conf T/L Traffic</th>\n",
              "      <td>2014</td>\n",
              "      <td>3</td>\n",
              "    </tr>\n",
              "    <tr>\n",
              "      <th>Carry Credent/Identification</th>\n",
              "      <td>2014</td>\n",
              "      <td>2</td>\n",
              "    </tr>\n",
              "    <tr>\n",
              "      <th>Abuse of Authority</th>\n",
              "      <td>2014</td>\n",
              "      <td>1</td>\n",
              "    </tr>\n",
              "    <tr>\n",
              "      <th>Carry ID on Duty&amp;OD While Armed</th>\n",
              "      <td>2014</td>\n",
              "      <td>1</td>\n",
              "    </tr>\n",
              "    <tr>\n",
              "      <th>Discrimination/Harassment</th>\n",
              "      <td>2014</td>\n",
              "      <td>1</td>\n",
              "    </tr>\n",
              "    <tr>\n",
              "      <th>Property</th>\n",
              "      <td>2014</td>\n",
              "      <td>1</td>\n",
              "    </tr>\n",
              "    <tr>\n",
              "      <th>Neglect of Duty/Unsatisfactory Performance</th>\n",
              "      <td>2015</td>\n",
              "      <td>16</td>\n",
              "    </tr>\n",
              "    <tr>\n",
              "      <th>Courtesy</th>\n",
              "      <td>2015</td>\n",
              "      <td>13</td>\n",
              "    </tr>\n",
              "    <tr>\n",
              "      <th>Conduct Unbecoming</th>\n",
              "      <td>2015</td>\n",
              "      <td>4</td>\n",
              "    </tr>\n",
              "    <tr>\n",
              "      <th>Conformance to Law</th>\n",
              "      <td>2015</td>\n",
              "      <td>4</td>\n",
              "    </tr>\n",
              "    <tr>\n",
              "      <th>Abuse of Authority</th>\n",
              "      <td>2015</td>\n",
              "      <td>1</td>\n",
              "    </tr>\n",
              "    <tr>\n",
              "      <th>Compliance with Orders</th>\n",
              "      <td>2015</td>\n",
              "      <td>1</td>\n",
              "    </tr>\n",
              "    <tr>\n",
              "      <th>Conf T/L Traffic</th>\n",
              "      <td>2015</td>\n",
              "      <td>1</td>\n",
              "    </tr>\n",
              "    <tr>\n",
              "      <th>Punctuality</th>\n",
              "      <td>2015</td>\n",
              "      <td>1</td>\n",
              "    </tr>\n",
              "    <tr>\n",
              "      <th>Neglect of Duty/Unsatisfactory Performance</th>\n",
              "      <td>2016</td>\n",
              "      <td>6</td>\n",
              "    </tr>\n",
              "    <tr>\n",
              "      <th>Courtesy</th>\n",
              "      <td>2016</td>\n",
              "      <td>4</td>\n",
              "    </tr>\n",
              "    <tr>\n",
              "      <th>Conf T/L Traffic</th>\n",
              "      <td>2016</td>\n",
              "      <td>3</td>\n",
              "    </tr>\n",
              "    <tr>\n",
              "      <th>Att to Duty/Use Alch-Drugs</th>\n",
              "      <td>2016</td>\n",
              "      <td>1</td>\n",
              "    </tr>\n",
              "    <tr>\n",
              "      <th>Conduct Unbecoming</th>\n",
              "      <td>2016</td>\n",
              "      <td>1</td>\n",
              "    </tr>\n",
              "    <tr>\n",
              "      <th>Conformance to Law</th>\n",
              "      <td>2016</td>\n",
              "      <td>1</td>\n",
              "    </tr>\n",
              "    <tr>\n",
              "      <th>Conformance to Law</th>\n",
              "      <td>2020</td>\n",
              "      <td>1</td>\n",
              "    </tr>\n",
              "  </tbody>\n",
              "</table>\n",
              "</div>"
            ],
            "text/plain": [
              "                                            Year  allegation\n",
              "allegation                                                  \n",
              "Conf T/L Traffic                            2013          14\n",
              "Neglect of Duty/Unsatisfactory Performance  2013          14\n",
              "Courtesy                                    2013          11\n",
              "Abuse of Authority                          2013           1\n",
              "Carry Credent/Identification                2013           1\n",
              "Compliance with Orders                      2013           1\n",
              "Conduct Unbecoming                          2013           1\n",
              "Conformance to Law                          2013           1\n",
              "Property                                    2013           1\n",
              "courtesy                                    2013           1\n",
              "Neglect of Duty/Unsatisfactory Performance  2014          28\n",
              "Courtesy                                    2014          20\n",
              "Conduct Unbecoming                          2014           5\n",
              "Conformance to Law                          2014           4\n",
              "Conf T/L Traffic                            2014           3\n",
              "Carry Credent/Identification                2014           2\n",
              "Abuse of Authority                          2014           1\n",
              "Carry ID on Duty&OD While Armed             2014           1\n",
              "Discrimination/Harassment                   2014           1\n",
              "Property                                    2014           1\n",
              "Neglect of Duty/Unsatisfactory Performance  2015          16\n",
              "Courtesy                                    2015          13\n",
              "Conduct Unbecoming                          2015           4\n",
              "Conformance to Law                          2015           4\n",
              "Abuse of Authority                          2015           1\n",
              "Compliance with Orders                      2015           1\n",
              "Conf T/L Traffic                            2015           1\n",
              "Punctuality                                 2015           1\n",
              "Neglect of Duty/Unsatisfactory Performance  2016           6\n",
              "Courtesy                                    2016           4\n",
              "Conf T/L Traffic                            2016           3\n",
              "Att to Duty/Use Alch-Drugs                  2016           1\n",
              "Conduct Unbecoming                          2016           1\n",
              "Conformance to Law                          2016           1\n",
              "Conformance to Law                          2020           1"
            ]
          },
          "metadata": {
            "tags": []
          },
          "execution_count": 33
        }
      ]
    },
    {
      "cell_type": "code",
      "metadata": {
        "colab": {
          "base_uri": "https://localhost:8080/",
          "height": 1000
        },
        "id": "vM3fd5C2warX",
        "outputId": "490f10a9-162d-4919-d2dd-82b7cc0fce44"
      },
      "source": [
        "df_correctiveplot.rename(columns={'allegation': 'Count'}, inplace=True)\n",
        "df_correctiveplot"
      ],
      "execution_count": null,
      "outputs": [
        {
          "output_type": "execute_result",
          "data": {
            "text/html": [
              "<div>\n",
              "<style scoped>\n",
              "    .dataframe tbody tr th:only-of-type {\n",
              "        vertical-align: middle;\n",
              "    }\n",
              "\n",
              "    .dataframe tbody tr th {\n",
              "        vertical-align: top;\n",
              "    }\n",
              "\n",
              "    .dataframe thead th {\n",
              "        text-align: right;\n",
              "    }\n",
              "</style>\n",
              "<table border=\"1\" class=\"dataframe\">\n",
              "  <thead>\n",
              "    <tr style=\"text-align: right;\">\n",
              "      <th></th>\n",
              "      <th>Year</th>\n",
              "      <th>Count</th>\n",
              "    </tr>\n",
              "    <tr>\n",
              "      <th>allegation</th>\n",
              "      <th></th>\n",
              "      <th></th>\n",
              "    </tr>\n",
              "  </thead>\n",
              "  <tbody>\n",
              "    <tr>\n",
              "      <th>Conf T/L Traffic</th>\n",
              "      <td>2013</td>\n",
              "      <td>14</td>\n",
              "    </tr>\n",
              "    <tr>\n",
              "      <th>Neglect of Duty/Unsatisfactory Performance</th>\n",
              "      <td>2013</td>\n",
              "      <td>14</td>\n",
              "    </tr>\n",
              "    <tr>\n",
              "      <th>Courtesy</th>\n",
              "      <td>2013</td>\n",
              "      <td>11</td>\n",
              "    </tr>\n",
              "    <tr>\n",
              "      <th>Abuse of Authority</th>\n",
              "      <td>2013</td>\n",
              "      <td>1</td>\n",
              "    </tr>\n",
              "    <tr>\n",
              "      <th>Carry Credent/Identification</th>\n",
              "      <td>2013</td>\n",
              "      <td>1</td>\n",
              "    </tr>\n",
              "    <tr>\n",
              "      <th>Compliance with Orders</th>\n",
              "      <td>2013</td>\n",
              "      <td>1</td>\n",
              "    </tr>\n",
              "    <tr>\n",
              "      <th>Conduct Unbecoming</th>\n",
              "      <td>2013</td>\n",
              "      <td>1</td>\n",
              "    </tr>\n",
              "    <tr>\n",
              "      <th>Conformance to Law</th>\n",
              "      <td>2013</td>\n",
              "      <td>1</td>\n",
              "    </tr>\n",
              "    <tr>\n",
              "      <th>Property</th>\n",
              "      <td>2013</td>\n",
              "      <td>1</td>\n",
              "    </tr>\n",
              "    <tr>\n",
              "      <th>courtesy</th>\n",
              "      <td>2013</td>\n",
              "      <td>1</td>\n",
              "    </tr>\n",
              "    <tr>\n",
              "      <th>Neglect of Duty/Unsatisfactory Performance</th>\n",
              "      <td>2014</td>\n",
              "      <td>28</td>\n",
              "    </tr>\n",
              "    <tr>\n",
              "      <th>Courtesy</th>\n",
              "      <td>2014</td>\n",
              "      <td>20</td>\n",
              "    </tr>\n",
              "    <tr>\n",
              "      <th>Conduct Unbecoming</th>\n",
              "      <td>2014</td>\n",
              "      <td>5</td>\n",
              "    </tr>\n",
              "    <tr>\n",
              "      <th>Conformance to Law</th>\n",
              "      <td>2014</td>\n",
              "      <td>4</td>\n",
              "    </tr>\n",
              "    <tr>\n",
              "      <th>Conf T/L Traffic</th>\n",
              "      <td>2014</td>\n",
              "      <td>3</td>\n",
              "    </tr>\n",
              "    <tr>\n",
              "      <th>Carry Credent/Identification</th>\n",
              "      <td>2014</td>\n",
              "      <td>2</td>\n",
              "    </tr>\n",
              "    <tr>\n",
              "      <th>Abuse of Authority</th>\n",
              "      <td>2014</td>\n",
              "      <td>1</td>\n",
              "    </tr>\n",
              "    <tr>\n",
              "      <th>Carry ID on Duty&amp;OD While Armed</th>\n",
              "      <td>2014</td>\n",
              "      <td>1</td>\n",
              "    </tr>\n",
              "    <tr>\n",
              "      <th>Discrimination/Harassment</th>\n",
              "      <td>2014</td>\n",
              "      <td>1</td>\n",
              "    </tr>\n",
              "    <tr>\n",
              "      <th>Property</th>\n",
              "      <td>2014</td>\n",
              "      <td>1</td>\n",
              "    </tr>\n",
              "    <tr>\n",
              "      <th>Neglect of Duty/Unsatisfactory Performance</th>\n",
              "      <td>2015</td>\n",
              "      <td>16</td>\n",
              "    </tr>\n",
              "    <tr>\n",
              "      <th>Courtesy</th>\n",
              "      <td>2015</td>\n",
              "      <td>13</td>\n",
              "    </tr>\n",
              "    <tr>\n",
              "      <th>Conduct Unbecoming</th>\n",
              "      <td>2015</td>\n",
              "      <td>4</td>\n",
              "    </tr>\n",
              "    <tr>\n",
              "      <th>Conformance to Law</th>\n",
              "      <td>2015</td>\n",
              "      <td>4</td>\n",
              "    </tr>\n",
              "    <tr>\n",
              "      <th>Abuse of Authority</th>\n",
              "      <td>2015</td>\n",
              "      <td>1</td>\n",
              "    </tr>\n",
              "    <tr>\n",
              "      <th>Compliance with Orders</th>\n",
              "      <td>2015</td>\n",
              "      <td>1</td>\n",
              "    </tr>\n",
              "    <tr>\n",
              "      <th>Conf T/L Traffic</th>\n",
              "      <td>2015</td>\n",
              "      <td>1</td>\n",
              "    </tr>\n",
              "    <tr>\n",
              "      <th>Punctuality</th>\n",
              "      <td>2015</td>\n",
              "      <td>1</td>\n",
              "    </tr>\n",
              "    <tr>\n",
              "      <th>Neglect of Duty/Unsatisfactory Performance</th>\n",
              "      <td>2016</td>\n",
              "      <td>6</td>\n",
              "    </tr>\n",
              "    <tr>\n",
              "      <th>Courtesy</th>\n",
              "      <td>2016</td>\n",
              "      <td>4</td>\n",
              "    </tr>\n",
              "    <tr>\n",
              "      <th>Conf T/L Traffic</th>\n",
              "      <td>2016</td>\n",
              "      <td>3</td>\n",
              "    </tr>\n",
              "    <tr>\n",
              "      <th>Att to Duty/Use Alch-Drugs</th>\n",
              "      <td>2016</td>\n",
              "      <td>1</td>\n",
              "    </tr>\n",
              "    <tr>\n",
              "      <th>Conduct Unbecoming</th>\n",
              "      <td>2016</td>\n",
              "      <td>1</td>\n",
              "    </tr>\n",
              "    <tr>\n",
              "      <th>Conformance to Law</th>\n",
              "      <td>2016</td>\n",
              "      <td>1</td>\n",
              "    </tr>\n",
              "    <tr>\n",
              "      <th>Conformance to Law</th>\n",
              "      <td>2020</td>\n",
              "      <td>1</td>\n",
              "    </tr>\n",
              "  </tbody>\n",
              "</table>\n",
              "</div>"
            ],
            "text/plain": [
              "                                            Year  Count\n",
              "allegation                                             \n",
              "Conf T/L Traffic                            2013     14\n",
              "Neglect of Duty/Unsatisfactory Performance  2013     14\n",
              "Courtesy                                    2013     11\n",
              "Abuse of Authority                          2013      1\n",
              "Carry Credent/Identification                2013      1\n",
              "Compliance with Orders                      2013      1\n",
              "Conduct Unbecoming                          2013      1\n",
              "Conformance to Law                          2013      1\n",
              "Property                                    2013      1\n",
              "courtesy                                    2013      1\n",
              "Neglect of Duty/Unsatisfactory Performance  2014     28\n",
              "Courtesy                                    2014     20\n",
              "Conduct Unbecoming                          2014      5\n",
              "Conformance to Law                          2014      4\n",
              "Conf T/L Traffic                            2014      3\n",
              "Carry Credent/Identification                2014      2\n",
              "Abuse of Authority                          2014      1\n",
              "Carry ID on Duty&OD While Armed             2014      1\n",
              "Discrimination/Harassment                   2014      1\n",
              "Property                                    2014      1\n",
              "Neglect of Duty/Unsatisfactory Performance  2015     16\n",
              "Courtesy                                    2015     13\n",
              "Conduct Unbecoming                          2015      4\n",
              "Conformance to Law                          2015      4\n",
              "Abuse of Authority                          2015      1\n",
              "Compliance with Orders                      2015      1\n",
              "Conf T/L Traffic                            2015      1\n",
              "Punctuality                                 2015      1\n",
              "Neglect of Duty/Unsatisfactory Performance  2016      6\n",
              "Courtesy                                    2016      4\n",
              "Conf T/L Traffic                            2016      3\n",
              "Att to Duty/Use Alch-Drugs                  2016      1\n",
              "Conduct Unbecoming                          2016      1\n",
              "Conformance to Law                          2016      1\n",
              "Conformance to Law                          2020      1"
            ]
          },
          "metadata": {
            "tags": []
          },
          "execution_count": 34
        }
      ]
    },
    {
      "cell_type": "code",
      "metadata": {
        "colab": {
          "base_uri": "https://localhost:8080/",
          "height": 1000
        },
        "id": "7SEtl-vwwszg",
        "outputId": "e16c614e-152f-4af4-d5cd-ba6ccf49b863"
      },
      "source": [
        "df_correctiveplot.reset_index(level=0, inplace=True)\n",
        "df_correctiveplot"
      ],
      "execution_count": null,
      "outputs": [
        {
          "output_type": "execute_result",
          "data": {
            "text/html": [
              "<div>\n",
              "<style scoped>\n",
              "    .dataframe tbody tr th:only-of-type {\n",
              "        vertical-align: middle;\n",
              "    }\n",
              "\n",
              "    .dataframe tbody tr th {\n",
              "        vertical-align: top;\n",
              "    }\n",
              "\n",
              "    .dataframe thead th {\n",
              "        text-align: right;\n",
              "    }\n",
              "</style>\n",
              "<table border=\"1\" class=\"dataframe\">\n",
              "  <thead>\n",
              "    <tr style=\"text-align: right;\">\n",
              "      <th></th>\n",
              "      <th>allegation</th>\n",
              "      <th>Year</th>\n",
              "      <th>Count</th>\n",
              "    </tr>\n",
              "  </thead>\n",
              "  <tbody>\n",
              "    <tr>\n",
              "      <th>0</th>\n",
              "      <td>Conf T/L Traffic</td>\n",
              "      <td>2013</td>\n",
              "      <td>14</td>\n",
              "    </tr>\n",
              "    <tr>\n",
              "      <th>1</th>\n",
              "      <td>Neglect of Duty/Unsatisfactory Performance</td>\n",
              "      <td>2013</td>\n",
              "      <td>14</td>\n",
              "    </tr>\n",
              "    <tr>\n",
              "      <th>2</th>\n",
              "      <td>Courtesy</td>\n",
              "      <td>2013</td>\n",
              "      <td>11</td>\n",
              "    </tr>\n",
              "    <tr>\n",
              "      <th>3</th>\n",
              "      <td>Abuse of Authority</td>\n",
              "      <td>2013</td>\n",
              "      <td>1</td>\n",
              "    </tr>\n",
              "    <tr>\n",
              "      <th>4</th>\n",
              "      <td>Carry Credent/Identification</td>\n",
              "      <td>2013</td>\n",
              "      <td>1</td>\n",
              "    </tr>\n",
              "    <tr>\n",
              "      <th>5</th>\n",
              "      <td>Compliance with Orders</td>\n",
              "      <td>2013</td>\n",
              "      <td>1</td>\n",
              "    </tr>\n",
              "    <tr>\n",
              "      <th>6</th>\n",
              "      <td>Conduct Unbecoming</td>\n",
              "      <td>2013</td>\n",
              "      <td>1</td>\n",
              "    </tr>\n",
              "    <tr>\n",
              "      <th>7</th>\n",
              "      <td>Conformance to Law</td>\n",
              "      <td>2013</td>\n",
              "      <td>1</td>\n",
              "    </tr>\n",
              "    <tr>\n",
              "      <th>8</th>\n",
              "      <td>Property</td>\n",
              "      <td>2013</td>\n",
              "      <td>1</td>\n",
              "    </tr>\n",
              "    <tr>\n",
              "      <th>9</th>\n",
              "      <td>courtesy</td>\n",
              "      <td>2013</td>\n",
              "      <td>1</td>\n",
              "    </tr>\n",
              "    <tr>\n",
              "      <th>10</th>\n",
              "      <td>Neglect of Duty/Unsatisfactory Performance</td>\n",
              "      <td>2014</td>\n",
              "      <td>28</td>\n",
              "    </tr>\n",
              "    <tr>\n",
              "      <th>11</th>\n",
              "      <td>Courtesy</td>\n",
              "      <td>2014</td>\n",
              "      <td>20</td>\n",
              "    </tr>\n",
              "    <tr>\n",
              "      <th>12</th>\n",
              "      <td>Conduct Unbecoming</td>\n",
              "      <td>2014</td>\n",
              "      <td>5</td>\n",
              "    </tr>\n",
              "    <tr>\n",
              "      <th>13</th>\n",
              "      <td>Conformance to Law</td>\n",
              "      <td>2014</td>\n",
              "      <td>4</td>\n",
              "    </tr>\n",
              "    <tr>\n",
              "      <th>14</th>\n",
              "      <td>Conf T/L Traffic</td>\n",
              "      <td>2014</td>\n",
              "      <td>3</td>\n",
              "    </tr>\n",
              "    <tr>\n",
              "      <th>15</th>\n",
              "      <td>Carry Credent/Identification</td>\n",
              "      <td>2014</td>\n",
              "      <td>2</td>\n",
              "    </tr>\n",
              "    <tr>\n",
              "      <th>16</th>\n",
              "      <td>Abuse of Authority</td>\n",
              "      <td>2014</td>\n",
              "      <td>1</td>\n",
              "    </tr>\n",
              "    <tr>\n",
              "      <th>17</th>\n",
              "      <td>Carry ID on Duty&amp;OD While Armed</td>\n",
              "      <td>2014</td>\n",
              "      <td>1</td>\n",
              "    </tr>\n",
              "    <tr>\n",
              "      <th>18</th>\n",
              "      <td>Discrimination/Harassment</td>\n",
              "      <td>2014</td>\n",
              "      <td>1</td>\n",
              "    </tr>\n",
              "    <tr>\n",
              "      <th>19</th>\n",
              "      <td>Property</td>\n",
              "      <td>2014</td>\n",
              "      <td>1</td>\n",
              "    </tr>\n",
              "    <tr>\n",
              "      <th>20</th>\n",
              "      <td>Neglect of Duty/Unsatisfactory Performance</td>\n",
              "      <td>2015</td>\n",
              "      <td>16</td>\n",
              "    </tr>\n",
              "    <tr>\n",
              "      <th>21</th>\n",
              "      <td>Courtesy</td>\n",
              "      <td>2015</td>\n",
              "      <td>13</td>\n",
              "    </tr>\n",
              "    <tr>\n",
              "      <th>22</th>\n",
              "      <td>Conduct Unbecoming</td>\n",
              "      <td>2015</td>\n",
              "      <td>4</td>\n",
              "    </tr>\n",
              "    <tr>\n",
              "      <th>23</th>\n",
              "      <td>Conformance to Law</td>\n",
              "      <td>2015</td>\n",
              "      <td>4</td>\n",
              "    </tr>\n",
              "    <tr>\n",
              "      <th>24</th>\n",
              "      <td>Abuse of Authority</td>\n",
              "      <td>2015</td>\n",
              "      <td>1</td>\n",
              "    </tr>\n",
              "    <tr>\n",
              "      <th>25</th>\n",
              "      <td>Compliance with Orders</td>\n",
              "      <td>2015</td>\n",
              "      <td>1</td>\n",
              "    </tr>\n",
              "    <tr>\n",
              "      <th>26</th>\n",
              "      <td>Conf T/L Traffic</td>\n",
              "      <td>2015</td>\n",
              "      <td>1</td>\n",
              "    </tr>\n",
              "    <tr>\n",
              "      <th>27</th>\n",
              "      <td>Punctuality</td>\n",
              "      <td>2015</td>\n",
              "      <td>1</td>\n",
              "    </tr>\n",
              "    <tr>\n",
              "      <th>28</th>\n",
              "      <td>Neglect of Duty/Unsatisfactory Performance</td>\n",
              "      <td>2016</td>\n",
              "      <td>6</td>\n",
              "    </tr>\n",
              "    <tr>\n",
              "      <th>29</th>\n",
              "      <td>Courtesy</td>\n",
              "      <td>2016</td>\n",
              "      <td>4</td>\n",
              "    </tr>\n",
              "    <tr>\n",
              "      <th>30</th>\n",
              "      <td>Conf T/L Traffic</td>\n",
              "      <td>2016</td>\n",
              "      <td>3</td>\n",
              "    </tr>\n",
              "    <tr>\n",
              "      <th>31</th>\n",
              "      <td>Att to Duty/Use Alch-Drugs</td>\n",
              "      <td>2016</td>\n",
              "      <td>1</td>\n",
              "    </tr>\n",
              "    <tr>\n",
              "      <th>32</th>\n",
              "      <td>Conduct Unbecoming</td>\n",
              "      <td>2016</td>\n",
              "      <td>1</td>\n",
              "    </tr>\n",
              "    <tr>\n",
              "      <th>33</th>\n",
              "      <td>Conformance to Law</td>\n",
              "      <td>2016</td>\n",
              "      <td>1</td>\n",
              "    </tr>\n",
              "    <tr>\n",
              "      <th>34</th>\n",
              "      <td>Conformance to Law</td>\n",
              "      <td>2020</td>\n",
              "      <td>1</td>\n",
              "    </tr>\n",
              "  </tbody>\n",
              "</table>\n",
              "</div>"
            ],
            "text/plain": [
              "                                    allegation  Year  Count\n",
              "0                             Conf T/L Traffic  2013     14\n",
              "1   Neglect of Duty/Unsatisfactory Performance  2013     14\n",
              "2                                     Courtesy  2013     11\n",
              "3                           Abuse of Authority  2013      1\n",
              "4                 Carry Credent/Identification  2013      1\n",
              "5                       Compliance with Orders  2013      1\n",
              "6                           Conduct Unbecoming  2013      1\n",
              "7                           Conformance to Law  2013      1\n",
              "8                                     Property  2013      1\n",
              "9                                     courtesy  2013      1\n",
              "10  Neglect of Duty/Unsatisfactory Performance  2014     28\n",
              "11                                    Courtesy  2014     20\n",
              "12                          Conduct Unbecoming  2014      5\n",
              "13                          Conformance to Law  2014      4\n",
              "14                            Conf T/L Traffic  2014      3\n",
              "15                Carry Credent/Identification  2014      2\n",
              "16                          Abuse of Authority  2014      1\n",
              "17             Carry ID on Duty&OD While Armed  2014      1\n",
              "18                   Discrimination/Harassment  2014      1\n",
              "19                                    Property  2014      1\n",
              "20  Neglect of Duty/Unsatisfactory Performance  2015     16\n",
              "21                                    Courtesy  2015     13\n",
              "22                          Conduct Unbecoming  2015      4\n",
              "23                          Conformance to Law  2015      4\n",
              "24                          Abuse of Authority  2015      1\n",
              "25                      Compliance with Orders  2015      1\n",
              "26                            Conf T/L Traffic  2015      1\n",
              "27                                 Punctuality  2015      1\n",
              "28  Neglect of Duty/Unsatisfactory Performance  2016      6\n",
              "29                                    Courtesy  2016      4\n",
              "30                            Conf T/L Traffic  2016      3\n",
              "31                  Att to Duty/Use Alch-Drugs  2016      1\n",
              "32                          Conduct Unbecoming  2016      1\n",
              "33                          Conformance to Law  2016      1\n",
              "34                          Conformance to Law  2020      1"
            ]
          },
          "metadata": {
            "tags": []
          },
          "execution_count": 35
        }
      ]
    },
    {
      "cell_type": "code",
      "metadata": {
        "colab": {
          "base_uri": "https://localhost:8080/",
          "height": 225
        },
        "id": "7puESkjv0e7m",
        "outputId": "2bcaaf22-2f3f-448d-e94b-84187d52def3"
      },
      "source": [
        "df_correctiveplotsum = pd.DataFrame(df_correctiveplot.groupby([\"Year\"])['Count'].sum())\n",
        "df_correctiveplotsum"
      ],
      "execution_count": null,
      "outputs": [
        {
          "output_type": "execute_result",
          "data": {
            "text/html": [
              "<div>\n",
              "<style scoped>\n",
              "    .dataframe tbody tr th:only-of-type {\n",
              "        vertical-align: middle;\n",
              "    }\n",
              "\n",
              "    .dataframe tbody tr th {\n",
              "        vertical-align: top;\n",
              "    }\n",
              "\n",
              "    .dataframe thead th {\n",
              "        text-align: right;\n",
              "    }\n",
              "</style>\n",
              "<table border=\"1\" class=\"dataframe\">\n",
              "  <thead>\n",
              "    <tr style=\"text-align: right;\">\n",
              "      <th></th>\n",
              "      <th>Count</th>\n",
              "    </tr>\n",
              "    <tr>\n",
              "      <th>Year</th>\n",
              "      <th></th>\n",
              "    </tr>\n",
              "  </thead>\n",
              "  <tbody>\n",
              "    <tr>\n",
              "      <th>2013</th>\n",
              "      <td>46</td>\n",
              "    </tr>\n",
              "    <tr>\n",
              "      <th>2014</th>\n",
              "      <td>66</td>\n",
              "    </tr>\n",
              "    <tr>\n",
              "      <th>2015</th>\n",
              "      <td>41</td>\n",
              "    </tr>\n",
              "    <tr>\n",
              "      <th>2016</th>\n",
              "      <td>16</td>\n",
              "    </tr>\n",
              "    <tr>\n",
              "      <th>2020</th>\n",
              "      <td>1</td>\n",
              "    </tr>\n",
              "  </tbody>\n",
              "</table>\n",
              "</div>"
            ],
            "text/plain": [
              "      Count\n",
              "Year       \n",
              "2013     46\n",
              "2014     66\n",
              "2015     41\n",
              "2016     16\n",
              "2020      1"
            ]
          },
          "metadata": {
            "tags": []
          },
          "execution_count": 36
        }
      ]
    },
    {
      "cell_type": "code",
      "metadata": {
        "colab": {
          "base_uri": "https://localhost:8080/",
          "height": 195
        },
        "id": "Wzo1A9LM1FPg",
        "outputId": "303cdf87-2398-4970-c064-9703f3064d16"
      },
      "source": [
        "df_correctiveplotsum.reset_index(level=0, inplace=True)\n",
        "df_correctiveplotsum"
      ],
      "execution_count": null,
      "outputs": [
        {
          "output_type": "execute_result",
          "data": {
            "text/html": [
              "<div>\n",
              "<style scoped>\n",
              "    .dataframe tbody tr th:only-of-type {\n",
              "        vertical-align: middle;\n",
              "    }\n",
              "\n",
              "    .dataframe tbody tr th {\n",
              "        vertical-align: top;\n",
              "    }\n",
              "\n",
              "    .dataframe thead th {\n",
              "        text-align: right;\n",
              "    }\n",
              "</style>\n",
              "<table border=\"1\" class=\"dataframe\">\n",
              "  <thead>\n",
              "    <tr style=\"text-align: right;\">\n",
              "      <th></th>\n",
              "      <th>Year</th>\n",
              "      <th>Count</th>\n",
              "    </tr>\n",
              "  </thead>\n",
              "  <tbody>\n",
              "    <tr>\n",
              "      <th>0</th>\n",
              "      <td>2013</td>\n",
              "      <td>46</td>\n",
              "    </tr>\n",
              "    <tr>\n",
              "      <th>1</th>\n",
              "      <td>2014</td>\n",
              "      <td>66</td>\n",
              "    </tr>\n",
              "    <tr>\n",
              "      <th>2</th>\n",
              "      <td>2015</td>\n",
              "      <td>41</td>\n",
              "    </tr>\n",
              "    <tr>\n",
              "      <th>3</th>\n",
              "      <td>2016</td>\n",
              "      <td>16</td>\n",
              "    </tr>\n",
              "    <tr>\n",
              "      <th>4</th>\n",
              "      <td>2020</td>\n",
              "      <td>1</td>\n",
              "    </tr>\n",
              "  </tbody>\n",
              "</table>\n",
              "</div>"
            ],
            "text/plain": [
              "   Year  Count\n",
              "0  2013     46\n",
              "1  2014     66\n",
              "2  2015     41\n",
              "3  2016     16\n",
              "4  2020      1"
            ]
          },
          "metadata": {
            "tags": []
          },
          "execution_count": 37
        }
      ]
    },
    {
      "cell_type": "code",
      "metadata": {
        "colab": {
          "base_uri": "https://localhost:8080/",
          "height": 311
        },
        "id": "MH88jKqz1My0",
        "outputId": "1a994b3d-e181-488c-cabb-11eb416ac236"
      },
      "source": [
        "plt.bar(df_correctiveplotsum.Year, df_correctiveplotsum.Count, facecolor='cornflowerblue', alpha=0.5, )\n",
        "plt.title('IA Investigation with Corrective Action by Year')\n",
        "plt.xlabel('Year')\n",
        "plt.ylabel('Total Cases with Corrective Action')\n",
        "plt.xticks(rotation=90)\n",
        "plt.show()"
      ],
      "execution_count": null,
      "outputs": [
        {
          "output_type": "display_data",
          "data": {
            "image/png": "[encoded data removed]",
            "text/plain": [
              "<Figure size 432x288 with 1 Axes>"
            ]
          },
          "metadata": {
            "tags": [],
            "needs_background": "light"
          }
        }
      ]
    },
    {
      "cell_type": "code",
      "metadata": {
        "colab": {
          "base_uri": "https://localhost:8080/",
          "height": 345
        },
        "id": "dNerwH4JvaV8",
        "outputId": "e2de7109-ec86-4027-81ea-7b25289dd00f"
      },
      "source": [
        "# Plotting Bar Chart Comparing the types of pre-trial supervision and detention\n",
        "plt.figure(figsize=(20,10))\n",
        "ax = df_correctiveplot.groupby(['Year', 'allegation'])['Count'].mean().unstack().plot.bar(colormap='Paired', alpha = 0.5)\n",
        "ax.set_facecolor('white')\n",
        "ax.legend(bbox_to_anchor = [1.07, 1.018])\n",
        "\n",
        "plt.title('Number of Allegations by Type per Year')\n",
        "plt.xlabel('Year')\n",
        "plt.ylabel('Total')"
      ],
      "execution_count": null,
      "outputs": [
        {
          "output_type": "execute_result",
          "data": {
            "text/plain": [
              "Text(0, 0.5, 'Total')"
            ]
          },
          "metadata": {
            "tags": []
          },
          "execution_count": 39
        },
        {
          "output_type": "display_data",
          "data": {
            "text/plain": [
              "<Figure size 1440x720 with 0 Axes>"
            ]
          },
          "metadata": {
            "tags": []
          }
        },
        {
          "output_type": "display_data",
          "data": {
            "image/png": "[encoded data removed]",
            "text/plain": [
              "<Figure size 432x288 with 1 Axes>"
            ]
          },
          "metadata": {
            "tags": [],
            "needs_background": "light"
          }
        }
      ]
    },
    {
      "cell_type": "code",
      "metadata": {
        "id": "Sur0EnQuYflp",
        "colab": {
          "base_uri": "https://localhost:8080/",
          "height": 195
        },
        "outputId": "ef127bc3-05a0-49a1-de99-bdc1a33d299d"
      },
      "source": [
        "df_no_corrective=df[(df['finding']==\"No Corrective Action Tak\")]\n",
        "df_no_corrective.head()"
      ],
      "execution_count": null,
      "outputs": [
        {
          "output_type": "execute_result",
          "data": {
            "text/html": [
              "<div>\n",
              "<style scoped>\n",
              "    .dataframe tbody tr th:only-of-type {\n",
              "        vertical-align: middle;\n",
              "    }\n",
              "\n",
              "    .dataframe tbody tr th {\n",
              "        vertical-align: top;\n",
              "    }\n",
              "\n",
              "    .dataframe thead th {\n",
              "        text-align: right;\n",
              "    }\n",
              "</style>\n",
              "<table border=\"1\" class=\"dataframe\">\n",
              "  <thead>\n",
              "    <tr style=\"text-align: right;\">\n",
              "      <th></th>\n",
              "      <th>filenum</th>\n",
              "      <th>created_dt</th>\n",
              "      <th>source</th>\n",
              "      <th>allegation</th>\n",
              "      <th>incident_status</th>\n",
              "      <th>finding</th>\n",
              "      <th>Year</th>\n",
              "    </tr>\n",
              "  </thead>\n",
              "  <tbody>\n",
              "    <tr>\n",
              "      <th>95</th>\n",
              "      <td>20-0026</td>\n",
              "      <td>2020-02-05</td>\n",
              "      <td>External</td>\n",
              "      <td>Neglect of Duty/Unsatisfactory Performance</td>\n",
              "      <td>Active</td>\n",
              "      <td>No Corrective Action Tak</td>\n",
              "      <td>2020</td>\n",
              "    </tr>\n",
              "    <tr>\n",
              "      <th>193</th>\n",
              "      <td>15-0140</td>\n",
              "      <td>2015-08-04</td>\n",
              "      <td>External</td>\n",
              "      <td>Conduct Unbecoming</td>\n",
              "      <td>Completed</td>\n",
              "      <td>No Corrective Action Tak</td>\n",
              "      <td>2015</td>\n",
              "    </tr>\n",
              "    <tr>\n",
              "      <th>195</th>\n",
              "      <td>14-0220</td>\n",
              "      <td>2014-11-05</td>\n",
              "      <td>External</td>\n",
              "      <td>Courtesy</td>\n",
              "      <td>Completed</td>\n",
              "      <td>No Corrective Action Tak</td>\n",
              "      <td>2014</td>\n",
              "    </tr>\n",
              "    <tr>\n",
              "      <th>196</th>\n",
              "      <td>14-0159</td>\n",
              "      <td>2014-07-28</td>\n",
              "      <td>External</td>\n",
              "      <td>Neglect of Duty/Unsatisfactory Performance</td>\n",
              "      <td>Completed</td>\n",
              "      <td>No Corrective Action Tak</td>\n",
              "      <td>2014</td>\n",
              "    </tr>\n",
              "    <tr>\n",
              "      <th>200</th>\n",
              "      <td>15-0227</td>\n",
              "      <td>2015-12-21</td>\n",
              "      <td>External</td>\n",
              "      <td>Neglect of Duty/Unsatisfactory Performance</td>\n",
              "      <td>Completed</td>\n",
              "      <td>No Corrective Action Tak</td>\n",
              "      <td>2015</td>\n",
              "    </tr>\n",
              "  </tbody>\n",
              "</table>\n",
              "</div>"
            ],
            "text/plain": [
              "     filenum created_dt  ...                   finding  Year\n",
              "95   20-0026 2020-02-05  ...  No Corrective Action Tak  2020\n",
              "193  15-0140 2015-08-04  ...  No Corrective Action Tak  2015\n",
              "195  14-0220 2014-11-05  ...  No Corrective Action Tak  2014\n",
              "196  14-0159 2014-07-28  ...  No Corrective Action Tak  2014\n",
              "200  15-0227 2015-12-21  ...  No Corrective Action Tak  2015\n",
              "\n",
              "[5 rows x 7 columns]"
            ]
          },
          "metadata": {
            "tags": []
          },
          "execution_count": 40
        }
      ]
    },
    {
      "cell_type": "code",
      "metadata": {
        "colab": {
          "base_uri": "https://localhost:8080/",
          "height": 1000
        },
        "id": "ROXtE83vvEDq",
        "outputId": "c5775c32-24ea-4103-f13b-bf9ae9d992aa"
      },
      "source": [
        "df_no_correctiveplot = pd.DataFrame(df_no_corrective.groupby([\"Year\"])['allegation'].value_counts())\n",
        "df_no_correctiveplot"
      ],
      "execution_count": null,
      "outputs": [
        {
          "output_type": "execute_result",
          "data": {
            "text/html": [
              "<div>\n",
              "<style scoped>\n",
              "    .dataframe tbody tr th:only-of-type {\n",
              "        vertical-align: middle;\n",
              "    }\n",
              "\n",
              "    .dataframe tbody tr th {\n",
              "        vertical-align: top;\n",
              "    }\n",
              "\n",
              "    .dataframe thead th {\n",
              "        text-align: right;\n",
              "    }\n",
              "</style>\n",
              "<table border=\"1\" class=\"dataframe\">\n",
              "  <thead>\n",
              "    <tr style=\"text-align: right;\">\n",
              "      <th></th>\n",
              "      <th></th>\n",
              "      <th>allegation</th>\n",
              "    </tr>\n",
              "    <tr>\n",
              "      <th>Year</th>\n",
              "      <th>allegation</th>\n",
              "      <th></th>\n",
              "    </tr>\n",
              "  </thead>\n",
              "  <tbody>\n",
              "    <tr>\n",
              "      <th rowspan=\"6\" valign=\"top\">2013</th>\n",
              "      <th>Courtesy</th>\n",
              "      <td>22</td>\n",
              "    </tr>\n",
              "    <tr>\n",
              "      <th>Neglect of Duty/Unsatisfactory Performance</th>\n",
              "      <td>20</td>\n",
              "    </tr>\n",
              "    <tr>\n",
              "      <th>Conf T/L Traffic</th>\n",
              "      <td>6</td>\n",
              "    </tr>\n",
              "    <tr>\n",
              "      <th>Abuse of Authority</th>\n",
              "      <td>5</td>\n",
              "    </tr>\n",
              "    <tr>\n",
              "      <th>Carry Credent/Identification</th>\n",
              "      <td>1</td>\n",
              "    </tr>\n",
              "    <tr>\n",
              "      <th>Conduct Unbecoming</th>\n",
              "      <td>1</td>\n",
              "    </tr>\n",
              "    <tr>\n",
              "      <th rowspan=\"12\" valign=\"top\">2014</th>\n",
              "      <th>Neglect of Duty/Unsatisfactory Performance</th>\n",
              "      <td>56</td>\n",
              "    </tr>\n",
              "    <tr>\n",
              "      <th>Courtesy</th>\n",
              "      <td>33</td>\n",
              "    </tr>\n",
              "    <tr>\n",
              "      <th>Conduct Unbecoming</th>\n",
              "      <td>6</td>\n",
              "    </tr>\n",
              "    <tr>\n",
              "      <th>Conf T/L Traffic</th>\n",
              "      <td>6</td>\n",
              "    </tr>\n",
              "    <tr>\n",
              "      <th>Conformance to Law</th>\n",
              "      <td>4</td>\n",
              "    </tr>\n",
              "    <tr>\n",
              "      <th>Abuse of Authority</th>\n",
              "      <td>3</td>\n",
              "    </tr>\n",
              "    <tr>\n",
              "      <th>Carry Credent/Identification</th>\n",
              "      <td>1</td>\n",
              "    </tr>\n",
              "    <tr>\n",
              "      <th>Carry ID on Duty&amp;OD While Armed</th>\n",
              "      <td>1</td>\n",
              "    </tr>\n",
              "    <tr>\n",
              "      <th>Discrim/Race/Sex</th>\n",
              "      <td>1</td>\n",
              "    </tr>\n",
              "    <tr>\n",
              "      <th>Secondary Employment</th>\n",
              "      <td>1</td>\n",
              "    </tr>\n",
              "    <tr>\n",
              "      <th>Use of Force</th>\n",
              "      <td>1</td>\n",
              "    </tr>\n",
              "    <tr>\n",
              "      <th>courtesy</th>\n",
              "      <td>1</td>\n",
              "    </tr>\n",
              "    <tr>\n",
              "      <th rowspan=\"10\" valign=\"top\">2015</th>\n",
              "      <th>Neglect of Duty/Unsatisfactory Performance</th>\n",
              "      <td>34</td>\n",
              "    </tr>\n",
              "    <tr>\n",
              "      <th>Courtesy</th>\n",
              "      <td>26</td>\n",
              "    </tr>\n",
              "    <tr>\n",
              "      <th>Conformance to Law</th>\n",
              "      <td>11</td>\n",
              "    </tr>\n",
              "    <tr>\n",
              "      <th>Conduct Unbecoming</th>\n",
              "      <td>6</td>\n",
              "    </tr>\n",
              "    <tr>\n",
              "      <th>Discrimination/Harassment</th>\n",
              "      <td>3</td>\n",
              "    </tr>\n",
              "    <tr>\n",
              "      <th>Abuse of Authority</th>\n",
              "      <td>1</td>\n",
              "    </tr>\n",
              "    <tr>\n",
              "      <th>Abuse of Process</th>\n",
              "      <td>1</td>\n",
              "    </tr>\n",
              "    <tr>\n",
              "      <th>Carry Credent/Identification</th>\n",
              "      <td>1</td>\n",
              "    </tr>\n",
              "    <tr>\n",
              "      <th>Conf T/L Traffic</th>\n",
              "      <td>1</td>\n",
              "    </tr>\n",
              "    <tr>\n",
              "      <th>Property</th>\n",
              "      <td>1</td>\n",
              "    </tr>\n",
              "    <tr>\n",
              "      <th rowspan=\"6\" valign=\"top\">2016</th>\n",
              "      <th>Conformance to Law</th>\n",
              "      <td>5</td>\n",
              "    </tr>\n",
              "    <tr>\n",
              "      <th>Neglect of Duty/Unsatisfactory Performance</th>\n",
              "      <td>5</td>\n",
              "    </tr>\n",
              "    <tr>\n",
              "      <th>Courtesy</th>\n",
              "      <td>4</td>\n",
              "    </tr>\n",
              "    <tr>\n",
              "      <th>Abuse of Authority</th>\n",
              "      <td>3</td>\n",
              "    </tr>\n",
              "    <tr>\n",
              "      <th>Conf T/L Traffic</th>\n",
              "      <td>3</td>\n",
              "    </tr>\n",
              "    <tr>\n",
              "      <th>Discrim/Race/Sex</th>\n",
              "      <td>1</td>\n",
              "    </tr>\n",
              "    <tr>\n",
              "      <th>2020</th>\n",
              "      <th>Neglect of Duty/Unsatisfactory Performance</th>\n",
              "      <td>1</td>\n",
              "    </tr>\n",
              "  </tbody>\n",
              "</table>\n",
              "</div>"
            ],
            "text/plain": [
              "                                                 allegation\n",
              "Year allegation                                            \n",
              "2013 Courtesy                                            22\n",
              "     Neglect of Duty/Unsatisfactory Performance          20\n",
              "     Conf T/L Traffic                                     6\n",
              "     Abuse of Authority                                   5\n",
              "     Carry Credent/Identification                         1\n",
              "     Conduct Unbecoming                                   1\n",
              "2014 Neglect of Duty/Unsatisfactory Performance          56\n",
              "     Courtesy                                            33\n",
              "     Conduct Unbecoming                                   6\n",
              "     Conf T/L Traffic                                     6\n",
              "     Conformance to Law                                   4\n",
              "     Abuse of Authority                                   3\n",
              "     Carry Credent/Identification                         1\n",
              "     Carry ID on Duty&OD While Armed                      1\n",
              "     Discrim/Race/Sex                                     1\n",
              "     Secondary Employment                                 1\n",
              "     Use of Force                                         1\n",
              "     courtesy                                             1\n",
              "2015 Neglect of Duty/Unsatisfactory Performance          34\n",
              "     Courtesy                                            26\n",
              "     Conformance to Law                                  11\n",
              "     Conduct Unbecoming                                   6\n",
              "     Discrimination/Harassment                            3\n",
              "     Abuse of Authority                                   1\n",
              "     Abuse of Process                                     1\n",
              "     Carry Credent/Identification                         1\n",
              "     Conf T/L Traffic                                     1\n",
              "     Property                                             1\n",
              "2016 Conformance to Law                                   5\n",
              "     Neglect of Duty/Unsatisfactory Performance           5\n",
              "     Courtesy                                             4\n",
              "     Abuse of Authority                                   3\n",
              "     Conf T/L Traffic                                     3\n",
              "     Discrim/Race/Sex                                     1\n",
              "2020 Neglect of Duty/Unsatisfactory Performance           1"
            ]
          },
          "metadata": {
            "tags": []
          },
          "execution_count": 41
        }
      ]
    },
    {
      "cell_type": "code",
      "metadata": {
        "id": "QCyKbEWKS2Pj",
        "colab": {
          "base_uri": "https://localhost:8080/",
          "height": 297
        },
        "outputId": "b951fcc0-68e9-46cf-a92b-5aa86c0c421c"
      },
      "source": [
        "#PLOT 1 Average Bond Amount between race & gender\n",
        "\n",
        "labels = df.Year\n",
        "No_Corrective = df_no_corrective.finding.count()\n",
        "Corrective = df_corrective.finding.count()\n",
        "\n",
        "x = np.arange(len(labels))  # the label locations\n",
        "width = 0.35  # the width of the bars\n",
        "\n",
        "fig, ax = plt.subplots()\n",
        "rects1 =ax.bar(x - width/2, No_Corrective, width, label='No Corrective',color='green', alpha = 0.5)\n",
        "rects2= ax.bar(x + width/2, Corrective, width, label='Corrective', color='lightblue')\n",
        "\n",
        "# Add some text for labels, title and custom x-axis tick labels, etc.\n",
        "ax.set_ylabel('Total Processed')\n",
        "ax.set_title('Comparing Release versus Committment')\n",
        "ax.set_xticks(x)\n",
        "ax.set_xticklabels(labels)\n",
        "ax.legend()\n",
        "\n",
        "\n",
        "plt.xticks(rotation=90)\n",
        "plt.show()"
      ],
      "execution_count": null,
      "outputs": [
        {
          "output_type": "display_data",
          "data": {
            "image/png": "[encoded data removed]",
            "text/plain": [
              "<Figure size 432x288 with 1 Axes>"
            ]
          },
          "metadata": {
            "tags": [],
            "needs_background": "light"
          }
        }
      ]
    },
    {
      "cell_type": "code",
      "metadata": {
        "id": "Ytfw-Ew7Zu8R",
        "colab": {
          "base_uri": "https://localhost:8080/",
          "height": 297
        },
        "outputId": "01797a9b-0f56-48fe-b55c-d68ebc31a0e7"
      },
      "source": [
        "plt.hist(df.Year, facecolor='green', color = 'black', alpha=0.5, bins = 18 )\n",
        "plt.title('IA Investigation Allegations by Year')\n",
        "plt.xlabel('Year')\n",
        "plt.ylabel('Frequency')\n",
        "plt.tight_layout()\n",
        "plt.savefig('AI_by_year.png', dpi=300, bbox_inches = 'tight')\n",
        "\n",
        "plt.show()"
      ],
      "execution_count": null,
      "outputs": [
        {
          "output_type": "display_data",
          "data": {
            "image/png": "[encoded data removed]",
            "text/plain": [
              "<Figure size 432x288 with 1 Axes>"
            ]
          },
          "metadata": {
            "tags": [],
            "needs_background": "light"
          }
        }
      ]
    },
    {
      "cell_type": "code",
      "metadata": {
        "id": "WHWIIbgUaJnQ",
        "colab": {
          "base_uri": "https://localhost:8080/",
          "height": 297
        },
        "outputId": "33f3e42f-9599-4873-f45a-15288bb3eec8"
      },
      "source": [
        "plt.hist(df_corrective.Year, facecolor='green', color = 'black', alpha=0.5, bins = 18 )\n",
        "plt.title('IA Investigation Corrective Action by Year')\n",
        "plt.xlabel('Year')\n",
        "plt.ylabel('Frequency')\n",
        "plt.ylim (top = 100)\n",
        "plt.tight_layout()\n",
        "plt.show()"
      ],
      "execution_count": null,
      "outputs": [
        {
          "output_type": "display_data",
          "data": {
            "image/png": "[encoded data removed]",
            "text/plain": [
              "<Figure size 432x288 with 1 Axes>"
            ]
          },
          "metadata": {
            "tags": [],
            "needs_background": "light"
          }
        }
      ]
    },
    {
      "cell_type": "code",
      "metadata": {
        "id": "WKQN7pF4af-v",
        "colab": {
          "base_uri": "https://localhost:8080/",
          "height": 297
        },
        "outputId": "7e952823-d0f1-4ba6-9a9c-6a3e6edd7806"
      },
      "source": [
        "plt.hist(df_no_corrective.Year, facecolor='green', color = 'black', alpha=0.5, bins = 18 )\n",
        "plt.title('IA Investigation No Corrective Action by Year')\n",
        "plt.xlabel('Year')\n",
        "plt.ylabel('Frequency')\n",
        "plt.ylim (top = 150)\n",
        "plt.tight_layout()\n",
        "plt.show()"
      ],
      "execution_count": null,
      "outputs": [
        {
          "output_type": "display_data",
          "data": {
            "image/png": "[encoded data removed]",
            "text/plain": [
              "<Figure size 432x288 with 1 Axes>"
            ]
          },
          "metadata": {
            "tags": [],
            "needs_background": "light"
          }
        }
      ]
    },
    {
      "cell_type": "code",
      "metadata": {
        "id": "8DcPUwvTa0Me",
        "colab": {
          "base_uri": "https://localhost:8080/"
        },
        "outputId": "fd867fbc-7d2f-4d2c-a6ee-b239e4c04b2c"
      },
      "source": [
        "df.count()"
      ],
      "execution_count": null,
      "outputs": [
        {
          "output_type": "execute_result",
          "data": {
            "text/plain": [
              "filenum            1000\n",
              "created_dt         1000\n",
              "source             1000\n",
              "allegation          997\n",
              "incident_status    1000\n",
              "finding             822\n",
              "Year               1000\n",
              "dtype: int64"
            ]
          },
          "metadata": {
            "tags": []
          },
          "execution_count": 46
        }
      ]
    },
    {
      "cell_type": "code",
      "metadata": {
        "id": "HErRZGbMa3Y-",
        "colab": {
          "base_uri": "https://localhost:8080/"
        },
        "outputId": "2d738f5b-292e-48dc-d279-fc7633221a65"
      },
      "source": [
        "df_corrective.count()"
      ],
      "execution_count": null,
      "outputs": [
        {
          "output_type": "execute_result",
          "data": {
            "text/plain": [
              "filenum            170\n",
              "created_dt         170\n",
              "source             170\n",
              "allegation         170\n",
              "incident_status    170\n",
              "finding            170\n",
              "Year               170\n",
              "dtype: int64"
            ]
          },
          "metadata": {
            "tags": []
          },
          "execution_count": 47
        }
      ]
    },
    {
      "cell_type": "code",
      "metadata": {
        "id": "93uWGbala6BI",
        "colab": {
          "base_uri": "https://localhost:8080/"
        },
        "outputId": "d2c011ad-2551-4821-c188-db2dfcd05296"
      },
      "source": [
        "df_no_corrective.count()"
      ],
      "execution_count": null,
      "outputs": [
        {
          "output_type": "execute_result",
          "data": {
            "text/plain": [
              "filenum            276\n",
              "created_dt         276\n",
              "source             276\n",
              "allegation         276\n",
              "incident_status    276\n",
              "finding            276\n",
              "Year               276\n",
              "dtype: int64"
            ]
          },
          "metadata": {
            "tags": []
          },
          "execution_count": 48
        }
      ]
    },
    {
      "cell_type": "code",
      "metadata": {
        "id": "SQXhaUDhbMbd",
        "colab": {
          "base_uri": "https://localhost:8080/",
          "height": 195
        },
        "outputId": "032a6fd7-d08a-43a3-82f7-2aa096a1c46e"
      },
      "source": [
        "df_active=df[(df['incident_status']==\"Active\")]\n",
        "df_active.head()"
      ],
      "execution_count": null,
      "outputs": [
        {
          "output_type": "execute_result",
          "data": {
            "text/html": [
              "<div>\n",
              "<style scoped>\n",
              "    .dataframe tbody tr th:only-of-type {\n",
              "        vertical-align: middle;\n",
              "    }\n",
              "\n",
              "    .dataframe tbody tr th {\n",
              "        vertical-align: top;\n",
              "    }\n",
              "\n",
              "    .dataframe thead th {\n",
              "        text-align: right;\n",
              "    }\n",
              "</style>\n",
              "<table border=\"1\" class=\"dataframe\">\n",
              "  <thead>\n",
              "    <tr style=\"text-align: right;\">\n",
              "      <th></th>\n",
              "      <th>filenum</th>\n",
              "      <th>created_dt</th>\n",
              "      <th>source</th>\n",
              "      <th>allegation</th>\n",
              "      <th>incident_status</th>\n",
              "      <th>finding</th>\n",
              "      <th>Year</th>\n",
              "    </tr>\n",
              "  </thead>\n",
              "  <tbody>\n",
              "    <tr>\n",
              "      <th>0</th>\n",
              "      <td>15-0200</td>\n",
              "      <td>2015-11-09</td>\n",
              "      <td>External</td>\n",
              "      <td>Neglect of Duty/Unsatisfactory Performance</td>\n",
              "      <td>Active</td>\n",
              "      <td>NaN</td>\n",
              "      <td>2015</td>\n",
              "    </tr>\n",
              "    <tr>\n",
              "      <th>1</th>\n",
              "      <td>16-0101</td>\n",
              "      <td>2016-05-10</td>\n",
              "      <td>Internal</td>\n",
              "      <td>Use of Force</td>\n",
              "      <td>Active</td>\n",
              "      <td>NaN</td>\n",
              "      <td>2016</td>\n",
              "    </tr>\n",
              "    <tr>\n",
              "      <th>2</th>\n",
              "      <td>16-0101</td>\n",
              "      <td>2016-05-10</td>\n",
              "      <td>Internal</td>\n",
              "      <td>Abuse of Authority</td>\n",
              "      <td>Active</td>\n",
              "      <td>NaN</td>\n",
              "      <td>2016</td>\n",
              "    </tr>\n",
              "    <tr>\n",
              "      <th>3</th>\n",
              "      <td>16-0101</td>\n",
              "      <td>2016-05-10</td>\n",
              "      <td>Internal</td>\n",
              "      <td>Conformance to Law</td>\n",
              "      <td>Active</td>\n",
              "      <td>NaN</td>\n",
              "      <td>2016</td>\n",
              "    </tr>\n",
              "    <tr>\n",
              "      <th>4</th>\n",
              "      <td>15-0200</td>\n",
              "      <td>2015-11-09</td>\n",
              "      <td>External</td>\n",
              "      <td>Courtesy</td>\n",
              "      <td>Active</td>\n",
              "      <td>NaN</td>\n",
              "      <td>2015</td>\n",
              "    </tr>\n",
              "  </tbody>\n",
              "</table>\n",
              "</div>"
            ],
            "text/plain": [
              "   filenum created_dt    source  ... incident_status finding  Year\n",
              "0  15-0200 2015-11-09  External  ...          Active     NaN  2015\n",
              "1  16-0101 2016-05-10  Internal  ...          Active     NaN  2016\n",
              "2  16-0101 2016-05-10  Internal  ...          Active     NaN  2016\n",
              "3  16-0101 2016-05-10  Internal  ...          Active     NaN  2016\n",
              "4  15-0200 2015-11-09  External  ...          Active     NaN  2015\n",
              "\n",
              "[5 rows x 7 columns]"
            ]
          },
          "metadata": {
            "tags": []
          },
          "execution_count": 49
        }
      ]
    },
    {
      "cell_type": "code",
      "metadata": {
        "id": "SXyVAto9bTlG",
        "colab": {
          "base_uri": "https://localhost:8080/"
        },
        "outputId": "3cd069a4-5631-491a-d7b7-f8cfc5ea777c"
      },
      "source": [
        "df_active.count()"
      ],
      "execution_count": null,
      "outputs": [
        {
          "output_type": "execute_result",
          "data": {
            "text/plain": [
              "filenum            191\n",
              "created_dt         191\n",
              "source             191\n",
              "allegation         191\n",
              "incident_status    191\n",
              "finding             16\n",
              "Year               191\n",
              "dtype: int64"
            ]
          },
          "metadata": {
            "tags": []
          },
          "execution_count": 50
        }
      ]
    },
    {
      "cell_type": "code",
      "metadata": {
        "id": "o0uXNSPpbXfc",
        "colab": {
          "base_uri": "https://localhost:8080/",
          "height": 297
        },
        "outputId": "2ebdf7be-6d01-4125-d49d-cbb707d1b8f6"
      },
      "source": [
        "plt.hist(df_active.Year, facecolor='green', color = 'black', alpha=0.5, bins = 18 )\n",
        "plt.title('IA Active Investigations by Year')\n",
        "plt.xlabel('Year')\n",
        "plt.ylabel('Frequency')\n",
        "plt.ylim (top = 100)\n",
        "plt.tight_layout()\n",
        "plt.show()"
      ],
      "execution_count": null,
      "outputs": [
        {
          "output_type": "display_data",
          "data": {
            "image/png": "[encoded data removed]",
            "text/plain": [
              "<Figure size 432x288 with 1 Axes>"
            ]
          },
          "metadata": {
            "tags": [],
            "needs_background": "light"
          }
        }
      ]
    },
    {
      "cell_type": "code",
      "metadata": {
        "id": "ke0_dTjzbmUS",
        "colab": {
          "base_uri": "https://localhost:8080/",
          "height": 195
        },
        "outputId": "093b0e3c-e417-41ae-fe33-8c3789b99be3"
      },
      "source": [
        "df_completed=df[(df['incident_status']==\"Completed\")]\n",
        "df_completed.head()"
      ],
      "execution_count": null,
      "outputs": [
        {
          "output_type": "execute_result",
          "data": {
            "text/html": [
              "<div>\n",
              "<style scoped>\n",
              "    .dataframe tbody tr th:only-of-type {\n",
              "        vertical-align: middle;\n",
              "    }\n",
              "\n",
              "    .dataframe tbody tr th {\n",
              "        vertical-align: top;\n",
              "    }\n",
              "\n",
              "    .dataframe thead th {\n",
              "        text-align: right;\n",
              "    }\n",
              "</style>\n",
              "<table border=\"1\" class=\"dataframe\">\n",
              "  <thead>\n",
              "    <tr style=\"text-align: right;\">\n",
              "      <th></th>\n",
              "      <th>filenum</th>\n",
              "      <th>created_dt</th>\n",
              "      <th>source</th>\n",
              "      <th>allegation</th>\n",
              "      <th>incident_status</th>\n",
              "      <th>finding</th>\n",
              "      <th>Year</th>\n",
              "    </tr>\n",
              "  </thead>\n",
              "  <tbody>\n",
              "    <tr>\n",
              "      <th>191</th>\n",
              "      <td>14-0115</td>\n",
              "      <td>2014-06-02</td>\n",
              "      <td>External</td>\n",
              "      <td>Neglect of Duty/Unsatisfactory Performance</td>\n",
              "      <td>Completed</td>\n",
              "      <td>Sustained</td>\n",
              "      <td>2014</td>\n",
              "    </tr>\n",
              "    <tr>\n",
              "      <th>192</th>\n",
              "      <td>14-0141</td>\n",
              "      <td>2014-07-01</td>\n",
              "      <td>Internal</td>\n",
              "      <td>Use of Force</td>\n",
              "      <td>Completed</td>\n",
              "      <td>Exonerated</td>\n",
              "      <td>2014</td>\n",
              "    </tr>\n",
              "    <tr>\n",
              "      <th>193</th>\n",
              "      <td>15-0140</td>\n",
              "      <td>2015-08-04</td>\n",
              "      <td>External</td>\n",
              "      <td>Conduct Unbecoming</td>\n",
              "      <td>Completed</td>\n",
              "      <td>No Corrective Action Tak</td>\n",
              "      <td>2015</td>\n",
              "    </tr>\n",
              "    <tr>\n",
              "      <th>194</th>\n",
              "      <td>15-0191</td>\n",
              "      <td>2015-10-22</td>\n",
              "      <td>External</td>\n",
              "      <td>Abuse of Authority</td>\n",
              "      <td>Completed</td>\n",
              "      <td>Administrative Closure</td>\n",
              "      <td>2015</td>\n",
              "    </tr>\n",
              "    <tr>\n",
              "      <th>195</th>\n",
              "      <td>14-0220</td>\n",
              "      <td>2014-11-05</td>\n",
              "      <td>External</td>\n",
              "      <td>Courtesy</td>\n",
              "      <td>Completed</td>\n",
              "      <td>No Corrective Action Tak</td>\n",
              "      <td>2014</td>\n",
              "    </tr>\n",
              "  </tbody>\n",
              "</table>\n",
              "</div>"
            ],
            "text/plain": [
              "     filenum created_dt  ...                   finding  Year\n",
              "191  14-0115 2014-06-02  ...                 Sustained  2014\n",
              "192  14-0141 2014-07-01  ...                Exonerated  2014\n",
              "193  15-0140 2015-08-04  ...  No Corrective Action Tak  2015\n",
              "194  15-0191 2015-10-22  ...    Administrative Closure  2015\n",
              "195  14-0220 2014-11-05  ...  No Corrective Action Tak  2014\n",
              "\n",
              "[5 rows x 7 columns]"
            ]
          },
          "metadata": {
            "tags": []
          },
          "execution_count": 52
        }
      ]
    },
    {
      "cell_type": "code",
      "metadata": {
        "id": "twQnSz16b9MQ",
        "colab": {
          "base_uri": "https://localhost:8080/"
        },
        "outputId": "fba28a8c-f95a-417b-bbd6-0760a4d541bc"
      },
      "source": [
        "df_completed.count()"
      ],
      "execution_count": null,
      "outputs": [
        {
          "output_type": "execute_result",
          "data": {
            "text/plain": [
              "filenum            809\n",
              "created_dt         809\n",
              "source             809\n",
              "allegation         806\n",
              "incident_status    809\n",
              "finding            806\n",
              "Year               809\n",
              "dtype: int64"
            ]
          },
          "metadata": {
            "tags": []
          },
          "execution_count": 53
        }
      ]
    },
    {
      "cell_type": "code",
      "metadata": {
        "id": "mvMqO8BUbxku",
        "colab": {
          "base_uri": "https://localhost:8080/",
          "height": 297
        },
        "outputId": "22fa5562-5b7e-49da-814f-78352aa87c21"
      },
      "source": [
        "plt.hist(df_completed.Year, facecolor='green', color = 'black', alpha=0.5, bins = 18 )\n",
        "plt.title('IA Completed Investigations by Year')\n",
        "plt.xlabel('Year')\n",
        "plt.ylabel('Frequency')\n",
        "plt.ylim (top = 350)\n",
        "plt.tight_layout()\n",
        "plt.show()"
      ],
      "execution_count": null,
      "outputs": [
        {
          "output_type": "display_data",
          "data": {
            "image/png": "[encoded data removed]",
            "text/plain": [
              "<Figure size 432x288 with 1 Axes>"
            ]
          },
          "metadata": {
            "tags": [],
            "needs_background": "light"
          }
        }
      ]
    },
    {
      "cell_type": "code",
      "metadata": {
        "id": "GioZg-b1c0JG",
        "colab": {
          "base_uri": "https://localhost:8080/"
        },
        "outputId": "b860260a-a962-467b-9665-23018d47d554"
      },
      "source": [
        "# percent corrective action\n",
        "df.count()\n",
        "#df_release_1['percent_RPR'] = (df_release.RPR / df_release.total) * 100"
      ],
      "execution_count": null,
      "outputs": [
        {
          "output_type": "execute_result",
          "data": {
            "text/plain": [
              "filenum            1000\n",
              "created_dt         1000\n",
              "source             1000\n",
              "allegation          997\n",
              "incident_status    1000\n",
              "finding             822\n",
              "Year               1000\n",
              "dtype: int64"
            ]
          },
          "metadata": {
            "tags": []
          },
          "execution_count": 55
        }
      ]
    },
    {
      "cell_type": "code",
      "metadata": {
        "id": "Ts9IjrBtc_a6",
        "colab": {
          "base_uri": "https://localhost:8080/"
        },
        "outputId": "75bba840-300d-4d34-98a7-b7edbe41e232"
      },
      "source": [
        "df_corrective.count()\n"
      ],
      "execution_count": null,
      "outputs": [
        {
          "output_type": "execute_result",
          "data": {
            "text/plain": [
              "filenum            170\n",
              "created_dt         170\n",
              "source             170\n",
              "allegation         170\n",
              "incident_status    170\n",
              "finding            170\n",
              "Year               170\n",
              "dtype: int64"
            ]
          },
          "metadata": {
            "tags": []
          },
          "execution_count": 56
        }
      ]
    },
    {
      "cell_type": "code",
      "metadata": {
        "colab": {
          "base_uri": "https://localhost:8080/"
        },
        "id": "34zJCQASdHuS",
        "outputId": "f47c5d3b-551f-4811-d504-43cd888b6e19"
      },
      "source": [
        "170/1000 * 100"
      ],
      "execution_count": null,
      "outputs": [
        {
          "output_type": "execute_result",
          "data": {
            "text/plain": [
              "17.0"
            ]
          },
          "metadata": {
            "tags": []
          },
          "execution_count": 57
        }
      ]
    },
    {
      "cell_type": "markdown",
      "metadata": {
        "id": "30DY6MMA23Oi"
      },
      "source": [
        "Only **17%** of Allegations have resulted in corrective action."
      ]
    },
    {
      "cell_type": "markdown",
      "metadata": {
        "id": "dZofGpkl3KvJ"
      },
      "source": [
        "##**Statistical Analysis**"
      ]
    },
    {
      "cell_type": "code",
      "metadata": {
        "colab": {
          "base_uri": "https://localhost:8080/",
          "height": 195
        },
        "id": "Mn0eow3M3RTr",
        "outputId": "5cef2cc2-4190-4c19-a617-42ffb3bc0b9e"
      },
      "source": [
        "df.head()"
      ],
      "execution_count": null,
      "outputs": [
        {
          "output_type": "execute_result",
          "data": {
            "text/html": [
              "<div>\n",
              "<style scoped>\n",
              "    .dataframe tbody tr th:only-of-type {\n",
              "        vertical-align: middle;\n",
              "    }\n",
              "\n",
              "    .dataframe tbody tr th {\n",
              "        vertical-align: top;\n",
              "    }\n",
              "\n",
              "    .dataframe thead th {\n",
              "        text-align: right;\n",
              "    }\n",
              "</style>\n",
              "<table border=\"1\" class=\"dataframe\">\n",
              "  <thead>\n",
              "    <tr style=\"text-align: right;\">\n",
              "      <th></th>\n",
              "      <th>filenum</th>\n",
              "      <th>created_dt</th>\n",
              "      <th>source</th>\n",
              "      <th>allegation</th>\n",
              "      <th>incident_status</th>\n",
              "      <th>finding</th>\n",
              "      <th>Year</th>\n",
              "    </tr>\n",
              "  </thead>\n",
              "  <tbody>\n",
              "    <tr>\n",
              "      <th>0</th>\n",
              "      <td>15-0200</td>\n",
              "      <td>2015-11-09</td>\n",
              "      <td>External</td>\n",
              "      <td>Neglect of Duty/Unsatisfactory Performance</td>\n",
              "      <td>Active</td>\n",
              "      <td>NaN</td>\n",
              "      <td>2015</td>\n",
              "    </tr>\n",
              "    <tr>\n",
              "      <th>1</th>\n",
              "      <td>16-0101</td>\n",
              "      <td>2016-05-10</td>\n",
              "      <td>Internal</td>\n",
              "      <td>Use of Force</td>\n",
              "      <td>Active</td>\n",
              "      <td>NaN</td>\n",
              "      <td>2016</td>\n",
              "    </tr>\n",
              "    <tr>\n",
              "      <th>2</th>\n",
              "      <td>16-0101</td>\n",
              "      <td>2016-05-10</td>\n",
              "      <td>Internal</td>\n",
              "      <td>Abuse of Authority</td>\n",
              "      <td>Active</td>\n",
              "      <td>NaN</td>\n",
              "      <td>2016</td>\n",
              "    </tr>\n",
              "    <tr>\n",
              "      <th>3</th>\n",
              "      <td>16-0101</td>\n",
              "      <td>2016-05-10</td>\n",
              "      <td>Internal</td>\n",
              "      <td>Conformance to Law</td>\n",
              "      <td>Active</td>\n",
              "      <td>NaN</td>\n",
              "      <td>2016</td>\n",
              "    </tr>\n",
              "    <tr>\n",
              "      <th>4</th>\n",
              "      <td>15-0200</td>\n",
              "      <td>2015-11-09</td>\n",
              "      <td>External</td>\n",
              "      <td>Courtesy</td>\n",
              "      <td>Active</td>\n",
              "      <td>NaN</td>\n",
              "      <td>2015</td>\n",
              "    </tr>\n",
              "  </tbody>\n",
              "</table>\n",
              "</div>"
            ],
            "text/plain": [
              "   filenum created_dt    source  ... incident_status finding  Year\n",
              "0  15-0200 2015-11-09  External  ...          Active     NaN  2015\n",
              "1  16-0101 2016-05-10  Internal  ...          Active     NaN  2016\n",
              "2  16-0101 2016-05-10  Internal  ...          Active     NaN  2016\n",
              "3  16-0101 2016-05-10  Internal  ...          Active     NaN  2016\n",
              "4  15-0200 2015-11-09  External  ...          Active     NaN  2015\n",
              "\n",
              "[5 rows x 7 columns]"
            ]
          },
          "metadata": {
            "tags": []
          },
          "execution_count": 58
        }
      ]
    },
    {
      "cell_type": "code",
      "metadata": {
        "colab": {
          "base_uri": "https://localhost:8080/"
        },
        "id": "mvGTMYZ23OH4",
        "outputId": "d87d43ef-f407-4882-892e-c9dce0d838a3"
      },
      "source": [
        "from scipy.stats import chi2_contingency \n",
        "import numpy as np\n",
        "\n",
        "chisqt = pd.crosstab(df.allegation, df.finding, margins=True)\n",
        "stat, p, dof, expected = chi2_contingency(chisqt)\n",
        "print('stat=%.3f, p=%.9f' % (stat, p))\n",
        "if p > 0.05:\n",
        "\tprint('Probably independent')\n",
        "else:\n",
        "\tprint('Probably dependent')"
      ],
      "execution_count": null,
      "outputs": [
        {
          "output_type": "stream",
          "text": [
            "stat=634.161, p=0.000000000\n",
            "Probably dependent\n"
          ],
          "name": "stdout"
        }
      ]
    },
    {
      "cell_type": "code",
      "metadata": {
        "colab": {
          "base_uri": "https://localhost:8080/",
          "height": 1000
        },
        "id": "vhJOst1Z3iwc",
        "outputId": "a7465ee0-bc2d-4a45-8109-960810557fbc"
      },
      "source": [
        "chisqt = pd.crosstab(df.allegation, df.finding, margins=True)\n",
        "chisqt"
      ],
      "execution_count": null,
      "outputs": [
        {
          "output_type": "execute_result",
          "data": {
            "text/html": [
              "<div>\n",
              "<style scoped>\n",
              "    .dataframe tbody tr th:only-of-type {\n",
              "        vertical-align: middle;\n",
              "    }\n",
              "\n",
              "    .dataframe tbody tr th {\n",
              "        vertical-align: top;\n",
              "    }\n",
              "\n",
              "    .dataframe thead th {\n",
              "        text-align: right;\n",
              "    }\n",
              "</style>\n",
              "<table border=\"1\" class=\"dataframe\">\n",
              "  <thead>\n",
              "    <tr style=\"text-align: right;\">\n",
              "      <th>finding</th>\n",
              "      <th>Administrative Closure</th>\n",
              "      <th>Corrective Action Taken</th>\n",
              "      <th>Declined</th>\n",
              "      <th>Exonerated</th>\n",
              "      <th>Insufficent Evidence</th>\n",
              "      <th>No Corrective Action Tak</th>\n",
              "      <th>Policy Failure</th>\n",
              "      <th>Sustained</th>\n",
              "      <th>Unfounded</th>\n",
              "      <th>All</th>\n",
              "    </tr>\n",
              "    <tr>\n",
              "      <th>allegation</th>\n",
              "      <th></th>\n",
              "      <th></th>\n",
              "      <th></th>\n",
              "      <th></th>\n",
              "      <th></th>\n",
              "      <th></th>\n",
              "      <th></th>\n",
              "      <th></th>\n",
              "      <th></th>\n",
              "      <th></th>\n",
              "    </tr>\n",
              "  </thead>\n",
              "  <tbody>\n",
              "    <tr>\n",
              "      <th>Absent W/O Leave</th>\n",
              "      <td>2</td>\n",
              "      <td>0</td>\n",
              "      <td>0</td>\n",
              "      <td>0</td>\n",
              "      <td>0</td>\n",
              "      <td>0</td>\n",
              "      <td>0</td>\n",
              "      <td>0</td>\n",
              "      <td>0</td>\n",
              "      <td>2</td>\n",
              "    </tr>\n",
              "    <tr>\n",
              "      <th>Abuse of Authority</th>\n",
              "      <td>6</td>\n",
              "      <td>3</td>\n",
              "      <td>4</td>\n",
              "      <td>2</td>\n",
              "      <td>0</td>\n",
              "      <td>12</td>\n",
              "      <td>0</td>\n",
              "      <td>0</td>\n",
              "      <td>3</td>\n",
              "      <td>30</td>\n",
              "    </tr>\n",
              "    <tr>\n",
              "      <th>Abuse of Process</th>\n",
              "      <td>1</td>\n",
              "      <td>0</td>\n",
              "      <td>1</td>\n",
              "      <td>0</td>\n",
              "      <td>0</td>\n",
              "      <td>1</td>\n",
              "      <td>0</td>\n",
              "      <td>2</td>\n",
              "      <td>1</td>\n",
              "      <td>6</td>\n",
              "    </tr>\n",
              "    <tr>\n",
              "      <th>Att to Duty/Use Alch-Drugs</th>\n",
              "      <td>0</td>\n",
              "      <td>1</td>\n",
              "      <td>0</td>\n",
              "      <td>0</td>\n",
              "      <td>0</td>\n",
              "      <td>0</td>\n",
              "      <td>0</td>\n",
              "      <td>1</td>\n",
              "      <td>0</td>\n",
              "      <td>2</td>\n",
              "    </tr>\n",
              "    <tr>\n",
              "      <th>Carry Credent/Identification</th>\n",
              "      <td>1</td>\n",
              "      <td>3</td>\n",
              "      <td>0</td>\n",
              "      <td>1</td>\n",
              "      <td>0</td>\n",
              "      <td>3</td>\n",
              "      <td>0</td>\n",
              "      <td>0</td>\n",
              "      <td>0</td>\n",
              "      <td>8</td>\n",
              "    </tr>\n",
              "    <tr>\n",
              "      <th>Carry ID on Duty&amp;OD While Armed</th>\n",
              "      <td>0</td>\n",
              "      <td>1</td>\n",
              "      <td>0</td>\n",
              "      <td>0</td>\n",
              "      <td>0</td>\n",
              "      <td>1</td>\n",
              "      <td>0</td>\n",
              "      <td>0</td>\n",
              "      <td>0</td>\n",
              "      <td>2</td>\n",
              "    </tr>\n",
              "    <tr>\n",
              "      <th>Compliance with Orders</th>\n",
              "      <td>0</td>\n",
              "      <td>2</td>\n",
              "      <td>0</td>\n",
              "      <td>0</td>\n",
              "      <td>0</td>\n",
              "      <td>0</td>\n",
              "      <td>0</td>\n",
              "      <td>2</td>\n",
              "      <td>0</td>\n",
              "      <td>4</td>\n",
              "    </tr>\n",
              "    <tr>\n",
              "      <th>Conduct Unbecoming</th>\n",
              "      <td>17</td>\n",
              "      <td>11</td>\n",
              "      <td>3</td>\n",
              "      <td>8</td>\n",
              "      <td>5</td>\n",
              "      <td>13</td>\n",
              "      <td>0</td>\n",
              "      <td>9</td>\n",
              "      <td>4</td>\n",
              "      <td>70</td>\n",
              "    </tr>\n",
              "    <tr>\n",
              "      <th>Conf T/L Traffic</th>\n",
              "      <td>0</td>\n",
              "      <td>21</td>\n",
              "      <td>1</td>\n",
              "      <td>0</td>\n",
              "      <td>0</td>\n",
              "      <td>16</td>\n",
              "      <td>0</td>\n",
              "      <td>0</td>\n",
              "      <td>0</td>\n",
              "      <td>38</td>\n",
              "    </tr>\n",
              "    <tr>\n",
              "      <th>Conformance to Law</th>\n",
              "      <td>30</td>\n",
              "      <td>11</td>\n",
              "      <td>4</td>\n",
              "      <td>11</td>\n",
              "      <td>5</td>\n",
              "      <td>20</td>\n",
              "      <td>0</td>\n",
              "      <td>19</td>\n",
              "      <td>7</td>\n",
              "      <td>107</td>\n",
              "    </tr>\n",
              "    <tr>\n",
              "      <th>Conformance to Law (Count two)</th>\n",
              "      <td>1</td>\n",
              "      <td>0</td>\n",
              "      <td>0</td>\n",
              "      <td>0</td>\n",
              "      <td>0</td>\n",
              "      <td>0</td>\n",
              "      <td>0</td>\n",
              "      <td>0</td>\n",
              "      <td>0</td>\n",
              "      <td>1</td>\n",
              "    </tr>\n",
              "    <tr>\n",
              "      <th>Conformance to Law Deadly Force</th>\n",
              "      <td>1</td>\n",
              "      <td>0</td>\n",
              "      <td>0</td>\n",
              "      <td>3</td>\n",
              "      <td>0</td>\n",
              "      <td>0</td>\n",
              "      <td>0</td>\n",
              "      <td>0</td>\n",
              "      <td>0</td>\n",
              "      <td>4</td>\n",
              "    </tr>\n",
              "    <tr>\n",
              "      <th>Conformance to Law Re: Criminal</th>\n",
              "      <td>4</td>\n",
              "      <td>0</td>\n",
              "      <td>1</td>\n",
              "      <td>1</td>\n",
              "      <td>1</td>\n",
              "      <td>0</td>\n",
              "      <td>0</td>\n",
              "      <td>1</td>\n",
              "      <td>0</td>\n",
              "      <td>8</td>\n",
              "    </tr>\n",
              "    <tr>\n",
              "      <th>Courtesy</th>\n",
              "      <td>7</td>\n",
              "      <td>48</td>\n",
              "      <td>3</td>\n",
              "      <td>4</td>\n",
              "      <td>2</td>\n",
              "      <td>85</td>\n",
              "      <td>0</td>\n",
              "      <td>3</td>\n",
              "      <td>4</td>\n",
              "      <td>156</td>\n",
              "    </tr>\n",
              "    <tr>\n",
              "      <th>Discrim/Race/Sex</th>\n",
              "      <td>0</td>\n",
              "      <td>0</td>\n",
              "      <td>0</td>\n",
              "      <td>1</td>\n",
              "      <td>0</td>\n",
              "      <td>2</td>\n",
              "      <td>0</td>\n",
              "      <td>0</td>\n",
              "      <td>1</td>\n",
              "      <td>4</td>\n",
              "    </tr>\n",
              "    <tr>\n",
              "      <th>Discrimination/Harassment</th>\n",
              "      <td>1</td>\n",
              "      <td>1</td>\n",
              "      <td>0</td>\n",
              "      <td>1</td>\n",
              "      <td>1</td>\n",
              "      <td>3</td>\n",
              "      <td>0</td>\n",
              "      <td>1</td>\n",
              "      <td>0</td>\n",
              "      <td>8</td>\n",
              "    </tr>\n",
              "    <tr>\n",
              "      <th>Maintenance of Property</th>\n",
              "      <td>3</td>\n",
              "      <td>0</td>\n",
              "      <td>0</td>\n",
              "      <td>1</td>\n",
              "      <td>1</td>\n",
              "      <td>0</td>\n",
              "      <td>1</td>\n",
              "      <td>5</td>\n",
              "      <td>0</td>\n",
              "      <td>11</td>\n",
              "    </tr>\n",
              "    <tr>\n",
              "      <th>Neglect of Duty</th>\n",
              "      <td>0</td>\n",
              "      <td>0</td>\n",
              "      <td>1</td>\n",
              "      <td>0</td>\n",
              "      <td>0</td>\n",
              "      <td>0</td>\n",
              "      <td>0</td>\n",
              "      <td>0</td>\n",
              "      <td>0</td>\n",
              "      <td>1</td>\n",
              "    </tr>\n",
              "    <tr>\n",
              "      <th>Neglect of Duty/Unsatisfactory Performance</th>\n",
              "      <td>26</td>\n",
              "      <td>64</td>\n",
              "      <td>25</td>\n",
              "      <td>18</td>\n",
              "      <td>3</td>\n",
              "      <td>116</td>\n",
              "      <td>1</td>\n",
              "      <td>12</td>\n",
              "      <td>11</td>\n",
              "      <td>276</td>\n",
              "    </tr>\n",
              "    <tr>\n",
              "      <th>Neglect of Duty/Unsatisfactory Performance (Count three)</th>\n",
              "      <td>0</td>\n",
              "      <td>0</td>\n",
              "      <td>0</td>\n",
              "      <td>0</td>\n",
              "      <td>0</td>\n",
              "      <td>0</td>\n",
              "      <td>0</td>\n",
              "      <td>0</td>\n",
              "      <td>1</td>\n",
              "      <td>1</td>\n",
              "    </tr>\n",
              "    <tr>\n",
              "      <th>Neglect of Duty/Unsatisfactory Performance (Count two)</th>\n",
              "      <td>0</td>\n",
              "      <td>0</td>\n",
              "      <td>0</td>\n",
              "      <td>0</td>\n",
              "      <td>0</td>\n",
              "      <td>0</td>\n",
              "      <td>0</td>\n",
              "      <td>0</td>\n",
              "      <td>1</td>\n",
              "      <td>1</td>\n",
              "    </tr>\n",
              "    <tr>\n",
              "      <th>Property</th>\n",
              "      <td>2</td>\n",
              "      <td>2</td>\n",
              "      <td>0</td>\n",
              "      <td>0</td>\n",
              "      <td>0</td>\n",
              "      <td>1</td>\n",
              "      <td>0</td>\n",
              "      <td>0</td>\n",
              "      <td>0</td>\n",
              "      <td>5</td>\n",
              "    </tr>\n",
              "    <tr>\n",
              "      <th>Punctuality</th>\n",
              "      <td>5</td>\n",
              "      <td>1</td>\n",
              "      <td>0</td>\n",
              "      <td>0</td>\n",
              "      <td>0</td>\n",
              "      <td>0</td>\n",
              "      <td>0</td>\n",
              "      <td>3</td>\n",
              "      <td>0</td>\n",
              "      <td>9</td>\n",
              "    </tr>\n",
              "    <tr>\n",
              "      <th>Secondary Employment</th>\n",
              "      <td>1</td>\n",
              "      <td>0</td>\n",
              "      <td>0</td>\n",
              "      <td>1</td>\n",
              "      <td>0</td>\n",
              "      <td>1</td>\n",
              "      <td>0</td>\n",
              "      <td>2</td>\n",
              "      <td>0</td>\n",
              "      <td>5</td>\n",
              "    </tr>\n",
              "    <tr>\n",
              "      <th>Untruthful Statements</th>\n",
              "      <td>8</td>\n",
              "      <td>0</td>\n",
              "      <td>1</td>\n",
              "      <td>1</td>\n",
              "      <td>2</td>\n",
              "      <td>0</td>\n",
              "      <td>0</td>\n",
              "      <td>2</td>\n",
              "      <td>1</td>\n",
              "      <td>15</td>\n",
              "    </tr>\n",
              "    <tr>\n",
              "      <th>Use of Force</th>\n",
              "      <td>9</td>\n",
              "      <td>0</td>\n",
              "      <td>3</td>\n",
              "      <td>22</td>\n",
              "      <td>2</td>\n",
              "      <td>1</td>\n",
              "      <td>0</td>\n",
              "      <td>0</td>\n",
              "      <td>6</td>\n",
              "      <td>43</td>\n",
              "    </tr>\n",
              "    <tr>\n",
              "      <th>Use of Force (Count three)</th>\n",
              "      <td>0</td>\n",
              "      <td>0</td>\n",
              "      <td>0</td>\n",
              "      <td>1</td>\n",
              "      <td>0</td>\n",
              "      <td>0</td>\n",
              "      <td>0</td>\n",
              "      <td>0</td>\n",
              "      <td>0</td>\n",
              "      <td>1</td>\n",
              "    </tr>\n",
              "    <tr>\n",
              "      <th>Use of Force (Count two)</th>\n",
              "      <td>0</td>\n",
              "      <td>0</td>\n",
              "      <td>0</td>\n",
              "      <td>1</td>\n",
              "      <td>0</td>\n",
              "      <td>0</td>\n",
              "      <td>0</td>\n",
              "      <td>0</td>\n",
              "      <td>0</td>\n",
              "      <td>1</td>\n",
              "    </tr>\n",
              "    <tr>\n",
              "      <th>conduct unbecoming</th>\n",
              "      <td>0</td>\n",
              "      <td>0</td>\n",
              "      <td>0</td>\n",
              "      <td>0</td>\n",
              "      <td>0</td>\n",
              "      <td>0</td>\n",
              "      <td>0</td>\n",
              "      <td>1</td>\n",
              "      <td>0</td>\n",
              "      <td>1</td>\n",
              "    </tr>\n",
              "    <tr>\n",
              "      <th>courtesy</th>\n",
              "      <td>0</td>\n",
              "      <td>1</td>\n",
              "      <td>0</td>\n",
              "      <td>0</td>\n",
              "      <td>0</td>\n",
              "      <td>1</td>\n",
              "      <td>0</td>\n",
              "      <td>0</td>\n",
              "      <td>0</td>\n",
              "      <td>2</td>\n",
              "    </tr>\n",
              "    <tr>\n",
              "      <th>All</th>\n",
              "      <td>125</td>\n",
              "      <td>170</td>\n",
              "      <td>47</td>\n",
              "      <td>77</td>\n",
              "      <td>22</td>\n",
              "      <td>276</td>\n",
              "      <td>2</td>\n",
              "      <td>63</td>\n",
              "      <td>40</td>\n",
              "      <td>822</td>\n",
              "    </tr>\n",
              "  </tbody>\n",
              "</table>\n",
              "</div>"
            ],
            "text/plain": [
              "finding                                             Administrative Closure  ...  All\n",
              "allegation                                                                  ...     \n",
              "Absent W/O Leave                                                         2  ...    2\n",
              "Abuse of Authority                                                       6  ...   30\n",
              "Abuse of Process                                                         1  ...    6\n",
              "Att to Duty/Use Alch-Drugs                                               0  ...    2\n",
              "Carry Credent/Identification                                             1  ...    8\n",
              "Carry ID on Duty&OD While Armed                                          0  ...    2\n",
              "Compliance with Orders                                                   0  ...    4\n",
              "Conduct Unbecoming                                                      17  ...   70\n",
              "Conf T/L Traffic                                                         0  ...   38\n",
              "Conformance to Law                                                      30  ...  107\n",
              "Conformance to Law (Count two)                                           1  ...    1\n",
              "Conformance to Law Deadly Force                                          1  ...    4\n",
              "Conformance to Law Re: Criminal                                          4  ...    8\n",
              "Courtesy                                                                 7  ...  156\n",
              "Discrim/Race/Sex                                                         0  ...    4\n",
              "Discrimination/Harassment                                                1  ...    8\n",
              "Maintenance of Property                                                  3  ...   11\n",
              "Neglect of Duty                                                          0  ...    1\n",
              "Neglect of Duty/Unsatisfactory Performance                              26  ...  276\n",
              "Neglect of Duty/Unsatisfactory Performance (Cou...                       0  ...    1\n",
              "Neglect of Duty/Unsatisfactory Performance (Cou...                       0  ...    1\n",
              "Property                                                                 2  ...    5\n",
              "Punctuality                                                              5  ...    9\n",
              "Secondary Employment                                                     1  ...    5\n",
              "Untruthful Statements                                                    8  ...   15\n",
              "Use of Force                                                             9  ...   43\n",
              "Use of Force (Count three)                                               0  ...    1\n",
              "Use of Force (Count two)                                                 0  ...    1\n",
              "conduct unbecoming                                                       0  ...    1\n",
              "courtesy                                                                 0  ...    2\n",
              "All                                                                    125  ...  822\n",
              "\n",
              "[31 rows x 10 columns]"
            ]
          },
          "metadata": {
            "tags": []
          },
          "execution_count": 60
        }
      ]
    },
    {
      "cell_type": "code",
      "metadata": {
        "colab": {
          "base_uri": "https://localhost:8080/"
        },
        "id": "mWNrrBHW6aWM",
        "outputId": "20cb165b-ed6e-4c1f-bbb8-0989643a775f"
      },
      "source": [
        "import pandas as pd\n",
        "import scipy.stats as stats\n",
        "\n",
        "\n",
        "stats.chi2_contingency(chisqt)"
      ],
      "execution_count": null,
      "outputs": [
        {
          "output_type": "execute_result",
          "data": {
            "text/plain": [
              "(634.1607093387358,\n",
              " 2.4421603253385027e-31,\n",
              " 270,\n",
              " array([[3.04136253e-01, 4.13625304e-01, 1.14355231e-01, 1.87347932e-01,\n",
              "         5.35279805e-02, 6.71532847e-01, 4.86618005e-03, 1.53284672e-01,\n",
              "         9.73236010e-02, 2.00000000e+00],\n",
              "        [4.56204380e+00, 6.20437956e+00, 1.71532847e+00, 2.81021898e+00,\n",
              "         8.02919708e-01, 1.00729927e+01, 7.29927007e-02, 2.29927007e+00,\n",
              "         1.45985401e+00, 3.00000000e+01],\n",
              "        [9.12408759e-01, 1.24087591e+00, 3.43065693e-01, 5.62043796e-01,\n",
              "         1.60583942e-01, 2.01459854e+00, 1.45985401e-02, 4.59854015e-01,\n",
              "         2.91970803e-01, 6.00000000e+00],\n",
              "        [3.04136253e-01, 4.13625304e-01, 1.14355231e-01, 1.87347932e-01,\n",
              "         5.35279805e-02, 6.71532847e-01, 4.86618005e-03, 1.53284672e-01,\n",
              "         9.73236010e-02, 2.00000000e+00],\n",
              "        [1.21654501e+00, 1.65450122e+00, 4.57420925e-01, 7.49391727e-01,\n",
              "         2.14111922e-01, 2.68613139e+00, 1.94647202e-02, 6.13138686e-01,\n",
              "         3.89294404e-01, 8.00000000e+00],\n",
              "        [3.04136253e-01, 4.13625304e-01, 1.14355231e-01, 1.87347932e-01,\n",
              "         5.35279805e-02, 6.71532847e-01, 4.86618005e-03, 1.53284672e-01,\n",
              "         9.73236010e-02, 2.00000000e+00],\n",
              "        [6.08272506e-01, 8.27250608e-01, 2.28710462e-01, 3.74695864e-01,\n",
              "         1.07055961e-01, 1.34306569e+00, 9.73236010e-03, 3.06569343e-01,\n",
              "         1.94647202e-01, 4.00000000e+00],\n",
              "        [1.06447689e+01, 1.44768856e+01, 4.00243309e+00, 6.55717762e+00,\n",
              "         1.87347932e+00, 2.35036496e+01, 1.70316302e-01, 5.36496350e+00,\n",
              "         3.40632603e+00, 7.00000000e+01],\n",
              "        [5.77858881e+00, 7.85888078e+00, 2.17274939e+00, 3.55961071e+00,\n",
              "         1.01703163e+00, 1.27591241e+01, 9.24574209e-02, 2.91240876e+00,\n",
              "         1.84914842e+00, 3.80000000e+01],\n",
              "        [1.62712895e+01, 2.21289538e+01, 6.11800487e+00, 1.00231144e+01,\n",
              "         2.86374696e+00, 3.59270073e+01, 2.60340633e-01, 8.20072993e+00,\n",
              "         5.20681265e+00, 1.07000000e+02],\n",
              "        [1.52068127e-01, 2.06812652e-01, 5.71776156e-02, 9.36739659e-02,\n",
              "         2.67639903e-02, 3.35766423e-01, 2.43309002e-03, 7.66423358e-02,\n",
              "         4.86618005e-02, 1.00000000e+00],\n",
              "        [6.08272506e-01, 8.27250608e-01, 2.28710462e-01, 3.74695864e-01,\n",
              "         1.07055961e-01, 1.34306569e+00, 9.73236010e-03, 3.06569343e-01,\n",
              "         1.94647202e-01, 4.00000000e+00],\n",
              "        [1.21654501e+00, 1.65450122e+00, 4.57420925e-01, 7.49391727e-01,\n",
              "         2.14111922e-01, 2.68613139e+00, 1.94647202e-02, 6.13138686e-01,\n",
              "         3.89294404e-01, 8.00000000e+00],\n",
              "        [2.37226277e+01, 3.22627737e+01, 8.91970803e+00, 1.46131387e+01,\n",
              "         4.17518248e+00, 5.23795620e+01, 3.79562044e-01, 1.19562044e+01,\n",
              "         7.59124088e+00, 1.56000000e+02],\n",
              "        [6.08272506e-01, 8.27250608e-01, 2.28710462e-01, 3.74695864e-01,\n",
              "         1.07055961e-01, 1.34306569e+00, 9.73236010e-03, 3.06569343e-01,\n",
              "         1.94647202e-01, 4.00000000e+00],\n",
              "        [1.21654501e+00, 1.65450122e+00, 4.57420925e-01, 7.49391727e-01,\n",
              "         2.14111922e-01, 2.68613139e+00, 1.94647202e-02, 6.13138686e-01,\n",
              "         3.89294404e-01, 8.00000000e+00],\n",
              "        [1.67274939e+00, 2.27493917e+00, 6.28953771e-01, 1.03041363e+00,\n",
              "         2.94403893e-01, 3.69343066e+00, 2.67639903e-02, 8.43065693e-01,\n",
              "         5.35279805e-01, 1.10000000e+01],\n",
              "        [1.52068127e-01, 2.06812652e-01, 5.71776156e-02, 9.36739659e-02,\n",
              "         2.67639903e-02, 3.35766423e-01, 2.43309002e-03, 7.66423358e-02,\n",
              "         4.86618005e-02, 1.00000000e+00],\n",
              "        [4.19708029e+01, 5.70802920e+01, 1.57810219e+01, 2.58540146e+01,\n",
              "         7.38686131e+00, 9.26715328e+01, 6.71532847e-01, 2.11532847e+01,\n",
              "         1.34306569e+01, 2.76000000e+02],\n",
              "        [1.52068127e-01, 2.06812652e-01, 5.71776156e-02, 9.36739659e-02,\n",
              "         2.67639903e-02, 3.35766423e-01, 2.43309002e-03, 7.66423358e-02,\n",
              "         4.86618005e-02, 1.00000000e+00],\n",
              "        [1.52068127e-01, 2.06812652e-01, 5.71776156e-02, 9.36739659e-02,\n",
              "         2.67639903e-02, 3.35766423e-01, 2.43309002e-03, 7.66423358e-02,\n",
              "         4.86618005e-02, 1.00000000e+00],\n",
              "        [7.60340633e-01, 1.03406326e+00, 2.85888078e-01, 4.68369830e-01,\n",
              "         1.33819951e-01, 1.67883212e+00, 1.21654501e-02, 3.83211679e-01,\n",
              "         2.43309002e-01, 5.00000000e+00],\n",
              "        [1.36861314e+00, 1.86131387e+00, 5.14598540e-01, 8.43065693e-01,\n",
              "         2.40875912e-01, 3.02189781e+00, 2.18978102e-02, 6.89781022e-01,\n",
              "         4.37956204e-01, 9.00000000e+00],\n",
              "        [7.60340633e-01, 1.03406326e+00, 2.85888078e-01, 4.68369830e-01,\n",
              "         1.33819951e-01, 1.67883212e+00, 1.21654501e-02, 3.83211679e-01,\n",
              "         2.43309002e-01, 5.00000000e+00],\n",
              "        [2.28102190e+00, 3.10218978e+00, 8.57664234e-01, 1.40510949e+00,\n",
              "         4.01459854e-01, 5.03649635e+00, 3.64963504e-02, 1.14963504e+00,\n",
              "         7.29927007e-01, 1.50000000e+01],\n",
              "        [6.53892944e+00, 8.89294404e+00, 2.45863747e+00, 4.02798054e+00,\n",
              "         1.15085158e+00, 1.44379562e+01, 1.04622871e-01, 3.29562044e+00,\n",
              "         2.09245742e+00, 4.30000000e+01],\n",
              "        [1.52068127e-01, 2.06812652e-01, 5.71776156e-02, 9.36739659e-02,\n",
              "         2.67639903e-02, 3.35766423e-01, 2.43309002e-03, 7.66423358e-02,\n",
              "         4.86618005e-02, 1.00000000e+00],\n",
              "        [1.52068127e-01, 2.06812652e-01, 5.71776156e-02, 9.36739659e-02,\n",
              "         2.67639903e-02, 3.35766423e-01, 2.43309002e-03, 7.66423358e-02,\n",
              "         4.86618005e-02, 1.00000000e+00],\n",
              "        [1.52068127e-01, 2.06812652e-01, 5.71776156e-02, 9.36739659e-02,\n",
              "         2.67639903e-02, 3.35766423e-01, 2.43309002e-03, 7.66423358e-02,\n",
              "         4.86618005e-02, 1.00000000e+00],\n",
              "        [3.04136253e-01, 4.13625304e-01, 1.14355231e-01, 1.87347932e-01,\n",
              "         5.35279805e-02, 6.71532847e-01, 4.86618005e-03, 1.53284672e-01,\n",
              "         9.73236010e-02, 2.00000000e+00],\n",
              "        [1.25000000e+02, 1.70000000e+02, 4.70000000e+01, 7.70000000e+01,\n",
              "         2.20000000e+01, 2.76000000e+02, 2.00000000e+00, 6.30000000e+01,\n",
              "         4.00000000e+01, 8.22000000e+02]]))"
            ]
          },
          "metadata": {
            "tags": []
          },
          "execution_count": 61
        }
      ]
    },
    {
      "cell_type": "markdown",
      "metadata": {
        "id": "nCxv_Trp7M-b"
      },
      "source": [
        "There is a relationship between [Variable1] and [Variable2], X2(Degrees of Freedom - number 3 (270) above) = (number 1 above), p(number 2 above)< 0.0001."
      ]
    },
    {
      "cell_type": "code",
      "metadata": {
        "colab": {
          "base_uri": "https://localhost:8080/",
          "height": 1000
        },
        "id": "-H6wfMfQ7LjH",
        "outputId": "3f1ca89f-9a0b-4293-8ced-e04716460b7d"
      },
      "source": [
        "force=df[(df['allegation']==\"Use of Force\")]\n",
        "force"
      ],
      "execution_count": null,
      "outputs": [
        {
          "output_type": "execute_result",
          "data": {
            "text/html": [
              "<div>\n",
              "<style scoped>\n",
              "    .dataframe tbody tr th:only-of-type {\n",
              "        vertical-align: middle;\n",
              "    }\n",
              "\n",
              "    .dataframe tbody tr th {\n",
              "        vertical-align: top;\n",
              "    }\n",
              "\n",
              "    .dataframe thead th {\n",
              "        text-align: right;\n",
              "    }\n",
              "</style>\n",
              "<table border=\"1\" class=\"dataframe\">\n",
              "  <thead>\n",
              "    <tr style=\"text-align: right;\">\n",
              "      <th></th>\n",
              "      <th>filenum</th>\n",
              "      <th>created_dt</th>\n",
              "      <th>source</th>\n",
              "      <th>allegation</th>\n",
              "      <th>incident_status</th>\n",
              "      <th>finding</th>\n",
              "      <th>Year</th>\n",
              "    </tr>\n",
              "  </thead>\n",
              "  <tbody>\n",
              "    <tr>\n",
              "      <th>1</th>\n",
              "      <td>16-0101</td>\n",
              "      <td>2016-05-10</td>\n",
              "      <td>Internal</td>\n",
              "      <td>Use of Force</td>\n",
              "      <td>Active</td>\n",
              "      <td>NaN</td>\n",
              "      <td>2016</td>\n",
              "    </tr>\n",
              "    <tr>\n",
              "      <th>17</th>\n",
              "      <td>19-0093</td>\n",
              "      <td>2019-06-10</td>\n",
              "      <td>External</td>\n",
              "      <td>Use of Force</td>\n",
              "      <td>Active</td>\n",
              "      <td>Unfounded</td>\n",
              "      <td>2019</td>\n",
              "    </tr>\n",
              "    <tr>\n",
              "      <th>25</th>\n",
              "      <td>18-0137</td>\n",
              "      <td>2018-08-20</td>\n",
              "      <td>External</td>\n",
              "      <td>Use of Force</td>\n",
              "      <td>Active</td>\n",
              "      <td>NaN</td>\n",
              "      <td>2018</td>\n",
              "    </tr>\n",
              "    <tr>\n",
              "      <th>29</th>\n",
              "      <td>20-0090</td>\n",
              "      <td>2020-05-27</td>\n",
              "      <td>Internal</td>\n",
              "      <td>Use of Force</td>\n",
              "      <td>Active</td>\n",
              "      <td>NaN</td>\n",
              "      <td>2020</td>\n",
              "    </tr>\n",
              "    <tr>\n",
              "      <th>39</th>\n",
              "      <td>19-0066</td>\n",
              "      <td>2019-04-09</td>\n",
              "      <td>External</td>\n",
              "      <td>Use of Force</td>\n",
              "      <td>Active</td>\n",
              "      <td>NaN</td>\n",
              "      <td>2019</td>\n",
              "    </tr>\n",
              "    <tr>\n",
              "      <th>40</th>\n",
              "      <td>19-0065</td>\n",
              "      <td>2019-04-08</td>\n",
              "      <td>Internal</td>\n",
              "      <td>Use of Force</td>\n",
              "      <td>Active</td>\n",
              "      <td>NaN</td>\n",
              "      <td>2019</td>\n",
              "    </tr>\n",
              "    <tr>\n",
              "      <th>53</th>\n",
              "      <td>19-0093</td>\n",
              "      <td>2019-06-10</td>\n",
              "      <td>External</td>\n",
              "      <td>Use of Force</td>\n",
              "      <td>Active</td>\n",
              "      <td>NaN</td>\n",
              "      <td>2019</td>\n",
              "    </tr>\n",
              "    <tr>\n",
              "      <th>58</th>\n",
              "      <td>20-0103</td>\n",
              "      <td>2020-06-08</td>\n",
              "      <td>Internal</td>\n",
              "      <td>Use of Force</td>\n",
              "      <td>Active</td>\n",
              "      <td>NaN</td>\n",
              "      <td>2020</td>\n",
              "    </tr>\n",
              "    <tr>\n",
              "      <th>62</th>\n",
              "      <td>18-0137</td>\n",
              "      <td>2018-08-20</td>\n",
              "      <td>External</td>\n",
              "      <td>Use of Force</td>\n",
              "      <td>Active</td>\n",
              "      <td>Administrative Closure</td>\n",
              "      <td>2018</td>\n",
              "    </tr>\n",
              "    <tr>\n",
              "      <th>65</th>\n",
              "      <td>20-0106</td>\n",
              "      <td>2020-06-15</td>\n",
              "      <td>Internal</td>\n",
              "      <td>Use of Force</td>\n",
              "      <td>Active</td>\n",
              "      <td>NaN</td>\n",
              "      <td>2020</td>\n",
              "    </tr>\n",
              "    <tr>\n",
              "      <th>71</th>\n",
              "      <td>19-0160</td>\n",
              "      <td>2019-09-10</td>\n",
              "      <td>Internal</td>\n",
              "      <td>Use of Force</td>\n",
              "      <td>Active</td>\n",
              "      <td>NaN</td>\n",
              "      <td>2019</td>\n",
              "    </tr>\n",
              "    <tr>\n",
              "      <th>82</th>\n",
              "      <td>19-0201</td>\n",
              "      <td>2019-10-15</td>\n",
              "      <td>External</td>\n",
              "      <td>Use of Force</td>\n",
              "      <td>Active</td>\n",
              "      <td>NaN</td>\n",
              "      <td>2019</td>\n",
              "    </tr>\n",
              "    <tr>\n",
              "      <th>90</th>\n",
              "      <td>20-0038</td>\n",
              "      <td>2020-02-13</td>\n",
              "      <td>Internal</td>\n",
              "      <td>Use of Force</td>\n",
              "      <td>Active</td>\n",
              "      <td>NaN</td>\n",
              "      <td>2020</td>\n",
              "    </tr>\n",
              "    <tr>\n",
              "      <th>97</th>\n",
              "      <td>20-0063</td>\n",
              "      <td>2020-03-16</td>\n",
              "      <td>Internal</td>\n",
              "      <td>Use of Force</td>\n",
              "      <td>Active</td>\n",
              "      <td>NaN</td>\n",
              "      <td>2020</td>\n",
              "    </tr>\n",
              "    <tr>\n",
              "      <th>137</th>\n",
              "      <td>21-0011</td>\n",
              "      <td>2021-01-19</td>\n",
              "      <td>Internal</td>\n",
              "      <td>Use of Force</td>\n",
              "      <td>Active</td>\n",
              "      <td>NaN</td>\n",
              "      <td>2021</td>\n",
              "    </tr>\n",
              "    <tr>\n",
              "      <th>153</th>\n",
              "      <td>20-0216</td>\n",
              "      <td>2020-12-21</td>\n",
              "      <td>External</td>\n",
              "      <td>Use of Force</td>\n",
              "      <td>Active</td>\n",
              "      <td>Declined</td>\n",
              "      <td>2020</td>\n",
              "    </tr>\n",
              "    <tr>\n",
              "      <th>160</th>\n",
              "      <td>21-0046</td>\n",
              "      <td>2021-03-17</td>\n",
              "      <td>External</td>\n",
              "      <td>Use of Force</td>\n",
              "      <td>Active</td>\n",
              "      <td>Declined</td>\n",
              "      <td>2021</td>\n",
              "    </tr>\n",
              "    <tr>\n",
              "      <th>192</th>\n",
              "      <td>14-0141</td>\n",
              "      <td>2014-07-01</td>\n",
              "      <td>Internal</td>\n",
              "      <td>Use of Force</td>\n",
              "      <td>Completed</td>\n",
              "      <td>Exonerated</td>\n",
              "      <td>2014</td>\n",
              "    </tr>\n",
              "    <tr>\n",
              "      <th>237</th>\n",
              "      <td>13-0255</td>\n",
              "      <td>2013-09-17</td>\n",
              "      <td>External</td>\n",
              "      <td>Use of Force</td>\n",
              "      <td>Completed</td>\n",
              "      <td>Unfounded</td>\n",
              "      <td>2013</td>\n",
              "    </tr>\n",
              "    <tr>\n",
              "      <th>276</th>\n",
              "      <td>19-0257</td>\n",
              "      <td>2019-12-30</td>\n",
              "      <td>External</td>\n",
              "      <td>Use of Force</td>\n",
              "      <td>Completed</td>\n",
              "      <td>Exonerated</td>\n",
              "      <td>2019</td>\n",
              "    </tr>\n",
              "    <tr>\n",
              "      <th>288</th>\n",
              "      <td>15-0113</td>\n",
              "      <td>2015-06-29</td>\n",
              "      <td>External</td>\n",
              "      <td>Use of Force</td>\n",
              "      <td>Completed</td>\n",
              "      <td>Administrative Closure</td>\n",
              "      <td>2015</td>\n",
              "    </tr>\n",
              "    <tr>\n",
              "      <th>292</th>\n",
              "      <td>13-0274</td>\n",
              "      <td>2013-10-10</td>\n",
              "      <td>External</td>\n",
              "      <td>Use of Force</td>\n",
              "      <td>Completed</td>\n",
              "      <td>Administrative Closure</td>\n",
              "      <td>2013</td>\n",
              "    </tr>\n",
              "    <tr>\n",
              "      <th>299</th>\n",
              "      <td>14-0193</td>\n",
              "      <td>2014-09-24</td>\n",
              "      <td>External</td>\n",
              "      <td>Use of Force</td>\n",
              "      <td>Completed</td>\n",
              "      <td>Exonerated</td>\n",
              "      <td>2014</td>\n",
              "    </tr>\n",
              "    <tr>\n",
              "      <th>325</th>\n",
              "      <td>14-0228</td>\n",
              "      <td>2014-12-01</td>\n",
              "      <td>External</td>\n",
              "      <td>Use of Force</td>\n",
              "      <td>Completed</td>\n",
              "      <td>No Corrective Action Tak</td>\n",
              "      <td>2014</td>\n",
              "    </tr>\n",
              "    <tr>\n",
              "      <th>345</th>\n",
              "      <td>14-0025</td>\n",
              "      <td>2014-02-06</td>\n",
              "      <td>Internal</td>\n",
              "      <td>Use of Force</td>\n",
              "      <td>Completed</td>\n",
              "      <td>Administrative Closure</td>\n",
              "      <td>2014</td>\n",
              "    </tr>\n",
              "    <tr>\n",
              "      <th>378</th>\n",
              "      <td>15-0094</td>\n",
              "      <td>2015-05-27</td>\n",
              "      <td>External</td>\n",
              "      <td>Use of Force</td>\n",
              "      <td>Completed</td>\n",
              "      <td>Insufficent Evidence</td>\n",
              "      <td>2015</td>\n",
              "    </tr>\n",
              "    <tr>\n",
              "      <th>388</th>\n",
              "      <td>13-0251</td>\n",
              "      <td>2013-09-13</td>\n",
              "      <td>External</td>\n",
              "      <td>Use of Force</td>\n",
              "      <td>Completed</td>\n",
              "      <td>Declined</td>\n",
              "      <td>2013</td>\n",
              "    </tr>\n",
              "    <tr>\n",
              "      <th>426</th>\n",
              "      <td>15-0002</td>\n",
              "      <td>2015-01-07</td>\n",
              "      <td>External</td>\n",
              "      <td>Use of Force</td>\n",
              "      <td>Completed</td>\n",
              "      <td>Exonerated</td>\n",
              "      <td>2015</td>\n",
              "    </tr>\n",
              "    <tr>\n",
              "      <th>449</th>\n",
              "      <td>13-0232</td>\n",
              "      <td>2013-08-29</td>\n",
              "      <td>External</td>\n",
              "      <td>Use of Force</td>\n",
              "      <td>Completed</td>\n",
              "      <td>Exonerated</td>\n",
              "      <td>2013</td>\n",
              "    </tr>\n",
              "    <tr>\n",
              "      <th>477</th>\n",
              "      <td>13-0320</td>\n",
              "      <td>2013-12-02</td>\n",
              "      <td>External</td>\n",
              "      <td>Use of Force</td>\n",
              "      <td>Completed</td>\n",
              "      <td>Administrative Closure</td>\n",
              "      <td>2013</td>\n",
              "    </tr>\n",
              "    <tr>\n",
              "      <th>483</th>\n",
              "      <td>14-0158</td>\n",
              "      <td>2014-07-23</td>\n",
              "      <td>Internal</td>\n",
              "      <td>Use of Force</td>\n",
              "      <td>Completed</td>\n",
              "      <td>Exonerated</td>\n",
              "      <td>2014</td>\n",
              "    </tr>\n",
              "    <tr>\n",
              "      <th>497</th>\n",
              "      <td>19-0177</td>\n",
              "      <td>2019-10-01</td>\n",
              "      <td>Internal</td>\n",
              "      <td>Use of Force</td>\n",
              "      <td>Completed</td>\n",
              "      <td>Unfounded</td>\n",
              "      <td>2019</td>\n",
              "    </tr>\n",
              "    <tr>\n",
              "      <th>512</th>\n",
              "      <td>16-0037</td>\n",
              "      <td>2016-02-18</td>\n",
              "      <td>Internal</td>\n",
              "      <td>Use of Force</td>\n",
              "      <td>Completed</td>\n",
              "      <td>Exonerated</td>\n",
              "      <td>2016</td>\n",
              "    </tr>\n",
              "    <tr>\n",
              "      <th>541</th>\n",
              "      <td>14-0167</td>\n",
              "      <td>2014-08-13</td>\n",
              "      <td>External</td>\n",
              "      <td>Use of Force</td>\n",
              "      <td>Completed</td>\n",
              "      <td>Exonerated</td>\n",
              "      <td>2014</td>\n",
              "    </tr>\n",
              "    <tr>\n",
              "      <th>552</th>\n",
              "      <td>14-0023</td>\n",
              "      <td>2014-02-04</td>\n",
              "      <td>External</td>\n",
              "      <td>Use of Force</td>\n",
              "      <td>Completed</td>\n",
              "      <td>Unfounded</td>\n",
              "      <td>2014</td>\n",
              "    </tr>\n",
              "    <tr>\n",
              "      <th>599</th>\n",
              "      <td>14-0164</td>\n",
              "      <td>2014-08-05</td>\n",
              "      <td>External</td>\n",
              "      <td>Use of Force</td>\n",
              "      <td>Completed</td>\n",
              "      <td>Administrative Closure</td>\n",
              "      <td>2014</td>\n",
              "    </tr>\n",
              "    <tr>\n",
              "      <th>609</th>\n",
              "      <td>14-0185</td>\n",
              "      <td>2014-09-08</td>\n",
              "      <td>External</td>\n",
              "      <td>Use of Force</td>\n",
              "      <td>Completed</td>\n",
              "      <td>Exonerated</td>\n",
              "      <td>2014</td>\n",
              "    </tr>\n",
              "    <tr>\n",
              "      <th>611</th>\n",
              "      <td>14-0246</td>\n",
              "      <td>2014-12-22</td>\n",
              "      <td>Internal</td>\n",
              "      <td>Use of Force</td>\n",
              "      <td>Completed</td>\n",
              "      <td>Exonerated</td>\n",
              "      <td>2014</td>\n",
              "    </tr>\n",
              "    <tr>\n",
              "      <th>618</th>\n",
              "      <td>13-0245</td>\n",
              "      <td>2013-09-10</td>\n",
              "      <td>External</td>\n",
              "      <td>Use of Force</td>\n",
              "      <td>Completed</td>\n",
              "      <td>Exonerated</td>\n",
              "      <td>2013</td>\n",
              "    </tr>\n",
              "    <tr>\n",
              "      <th>631</th>\n",
              "      <td>14-0080</td>\n",
              "      <td>2014-04-23</td>\n",
              "      <td>External</td>\n",
              "      <td>Use of Force</td>\n",
              "      <td>Completed</td>\n",
              "      <td>Exonerated</td>\n",
              "      <td>2014</td>\n",
              "    </tr>\n",
              "    <tr>\n",
              "      <th>642</th>\n",
              "      <td>13-0284</td>\n",
              "      <td>2013-10-17</td>\n",
              "      <td>External</td>\n",
              "      <td>Use of Force</td>\n",
              "      <td>Completed</td>\n",
              "      <td>Administrative Closure</td>\n",
              "      <td>2013</td>\n",
              "    </tr>\n",
              "    <tr>\n",
              "      <th>659</th>\n",
              "      <td>14-0097</td>\n",
              "      <td>2014-05-12</td>\n",
              "      <td>External</td>\n",
              "      <td>Use of Force</td>\n",
              "      <td>Completed</td>\n",
              "      <td>Exonerated</td>\n",
              "      <td>2014</td>\n",
              "    </tr>\n",
              "    <tr>\n",
              "      <th>662</th>\n",
              "      <td>13-0304</td>\n",
              "      <td>2013-11-07</td>\n",
              "      <td>External</td>\n",
              "      <td>Use of Force</td>\n",
              "      <td>Completed</td>\n",
              "      <td>Exonerated</td>\n",
              "      <td>2013</td>\n",
              "    </tr>\n",
              "    <tr>\n",
              "      <th>669</th>\n",
              "      <td>15-0095</td>\n",
              "      <td>2015-05-27</td>\n",
              "      <td>External</td>\n",
              "      <td>Use of Force</td>\n",
              "      <td>Completed</td>\n",
              "      <td>Exonerated</td>\n",
              "      <td>2015</td>\n",
              "    </tr>\n",
              "    <tr>\n",
              "      <th>680</th>\n",
              "      <td>14-0194</td>\n",
              "      <td>2014-09-26</td>\n",
              "      <td>External</td>\n",
              "      <td>Use of Force</td>\n",
              "      <td>Completed</td>\n",
              "      <td>Insufficent Evidence</td>\n",
              "      <td>2014</td>\n",
              "    </tr>\n",
              "    <tr>\n",
              "      <th>745</th>\n",
              "      <td>13-0311</td>\n",
              "      <td>2013-11-19</td>\n",
              "      <td>Internal</td>\n",
              "      <td>Use of Force</td>\n",
              "      <td>Completed</td>\n",
              "      <td>Exonerated</td>\n",
              "      <td>2013</td>\n",
              "    </tr>\n",
              "    <tr>\n",
              "      <th>753</th>\n",
              "      <td>13-0255</td>\n",
              "      <td>2013-09-17</td>\n",
              "      <td>External</td>\n",
              "      <td>Use of Force</td>\n",
              "      <td>Completed</td>\n",
              "      <td>Exonerated</td>\n",
              "      <td>2013</td>\n",
              "    </tr>\n",
              "    <tr>\n",
              "      <th>780</th>\n",
              "      <td>15-0016</td>\n",
              "      <td>2015-02-10</td>\n",
              "      <td>External</td>\n",
              "      <td>Use of Force</td>\n",
              "      <td>Completed</td>\n",
              "      <td>Exonerated</td>\n",
              "      <td>2015</td>\n",
              "    </tr>\n",
              "    <tr>\n",
              "      <th>792</th>\n",
              "      <td>13-0263</td>\n",
              "      <td>2013-09-24</td>\n",
              "      <td>External</td>\n",
              "      <td>Use of Force</td>\n",
              "      <td>Completed</td>\n",
              "      <td>Exonerated</td>\n",
              "      <td>2013</td>\n",
              "    </tr>\n",
              "    <tr>\n",
              "      <th>828</th>\n",
              "      <td>13-0235</td>\n",
              "      <td>2013-09-03</td>\n",
              "      <td>External</td>\n",
              "      <td>Use of Force</td>\n",
              "      <td>Completed</td>\n",
              "      <td>Unfounded</td>\n",
              "      <td>2013</td>\n",
              "    </tr>\n",
              "    <tr>\n",
              "      <th>843</th>\n",
              "      <td>14-0194</td>\n",
              "      <td>2014-09-26</td>\n",
              "      <td>External</td>\n",
              "      <td>Use of Force</td>\n",
              "      <td>Completed</td>\n",
              "      <td>Exonerated</td>\n",
              "      <td>2014</td>\n",
              "    </tr>\n",
              "    <tr>\n",
              "      <th>862</th>\n",
              "      <td>14-0163</td>\n",
              "      <td>2014-08-05</td>\n",
              "      <td>Internal</td>\n",
              "      <td>Use of Force</td>\n",
              "      <td>Completed</td>\n",
              "      <td>Administrative Closure</td>\n",
              "      <td>2014</td>\n",
              "    </tr>\n",
              "    <tr>\n",
              "      <th>871</th>\n",
              "      <td>15-0083</td>\n",
              "      <td>2015-05-08</td>\n",
              "      <td>External</td>\n",
              "      <td>Use of Force</td>\n",
              "      <td>Completed</td>\n",
              "      <td>Exonerated</td>\n",
              "      <td>2015</td>\n",
              "    </tr>\n",
              "    <tr>\n",
              "      <th>915</th>\n",
              "      <td>14-0144</td>\n",
              "      <td>2014-07-02</td>\n",
              "      <td>Internal</td>\n",
              "      <td>Use of Force</td>\n",
              "      <td>Completed</td>\n",
              "      <td>Exonerated</td>\n",
              "      <td>2014</td>\n",
              "    </tr>\n",
              "    <tr>\n",
              "      <th>942</th>\n",
              "      <td>15-0142</td>\n",
              "      <td>2015-08-04</td>\n",
              "      <td>External</td>\n",
              "      <td>Use of Force</td>\n",
              "      <td>Completed</td>\n",
              "      <td>Administrative Closure</td>\n",
              "      <td>2015</td>\n",
              "    </tr>\n",
              "    <tr>\n",
              "      <th>978</th>\n",
              "      <td>15-0002</td>\n",
              "      <td>2015-01-07</td>\n",
              "      <td>External</td>\n",
              "      <td>Use of Force</td>\n",
              "      <td>Completed</td>\n",
              "      <td>Unfounded</td>\n",
              "      <td>2015</td>\n",
              "    </tr>\n",
              "  </tbody>\n",
              "</table>\n",
              "</div>"
            ],
            "text/plain": [
              "     filenum created_dt  ...                   finding  Year\n",
              "1    16-0101 2016-05-10  ...                       NaN  2016\n",
              "17   19-0093 2019-06-10  ...                 Unfounded  2019\n",
              "25   18-0137 2018-08-20  ...                       NaN  2018\n",
              "29   20-0090 2020-05-27  ...                       NaN  2020\n",
              "39   19-0066 2019-04-09  ...                       NaN  2019\n",
              "40   19-0065 2019-04-08  ...                       NaN  2019\n",
              "53   19-0093 2019-06-10  ...                       NaN  2019\n",
              "58   20-0103 2020-06-08  ...                       NaN  2020\n",
              "62   18-0137 2018-08-20  ...    Administrative Closure  2018\n",
              "65   20-0106 2020-06-15  ...                       NaN  2020\n",
              "71   19-0160 2019-09-10  ...                       NaN  2019\n",
              "82   19-0201 2019-10-15  ...                       NaN  2019\n",
              "90   20-0038 2020-02-13  ...                       NaN  2020\n",
              "97   20-0063 2020-03-16  ...                       NaN  2020\n",
              "137  21-0011 2021-01-19  ...                       NaN  2021\n",
              "153  20-0216 2020-12-21  ...                  Declined  2020\n",
              "160  21-0046 2021-03-17  ...                  Declined  2021\n",
              "192  14-0141 2014-07-01  ...                Exonerated  2014\n",
              "237  13-0255 2013-09-17  ...                 Unfounded  2013\n",
              "276  19-0257 2019-12-30  ...                Exonerated  2019\n",
              "288  15-0113 2015-06-29  ...    Administrative Closure  2015\n",
              "292  13-0274 2013-10-10  ...    Administrative Closure  2013\n",
              "299  14-0193 2014-09-24  ...                Exonerated  2014\n",
              "325  14-0228 2014-12-01  ...  No Corrective Action Tak  2014\n",
              "345  14-0025 2014-02-06  ...    Administrative Closure  2014\n",
              "378  15-0094 2015-05-27  ...      Insufficent Evidence  2015\n",
              "388  13-0251 2013-09-13  ...                  Declined  2013\n",
              "426  15-0002 2015-01-07  ...                Exonerated  2015\n",
              "449  13-0232 2013-08-29  ...                Exonerated  2013\n",
              "477  13-0320 2013-12-02  ...    Administrative Closure  2013\n",
              "483  14-0158 2014-07-23  ...                Exonerated  2014\n",
              "497  19-0177 2019-10-01  ...                 Unfounded  2019\n",
              "512  16-0037 2016-02-18  ...                Exonerated  2016\n",
              "541  14-0167 2014-08-13  ...                Exonerated  2014\n",
              "552  14-0023 2014-02-04  ...                 Unfounded  2014\n",
              "599  14-0164 2014-08-05  ...    Administrative Closure  2014\n",
              "609  14-0185 2014-09-08  ...                Exonerated  2014\n",
              "611  14-0246 2014-12-22  ...                Exonerated  2014\n",
              "618  13-0245 2013-09-10  ...                Exonerated  2013\n",
              "631  14-0080 2014-04-23  ...                Exonerated  2014\n",
              "642  13-0284 2013-10-17  ...    Administrative Closure  2013\n",
              "659  14-0097 2014-05-12  ...                Exonerated  2014\n",
              "662  13-0304 2013-11-07  ...                Exonerated  2013\n",
              "669  15-0095 2015-05-27  ...                Exonerated  2015\n",
              "680  14-0194 2014-09-26  ...      Insufficent Evidence  2014\n",
              "745  13-0311 2013-11-19  ...                Exonerated  2013\n",
              "753  13-0255 2013-09-17  ...                Exonerated  2013\n",
              "780  15-0016 2015-02-10  ...                Exonerated  2015\n",
              "792  13-0263 2013-09-24  ...                Exonerated  2013\n",
              "828  13-0235 2013-09-03  ...                 Unfounded  2013\n",
              "843  14-0194 2014-09-26  ...                Exonerated  2014\n",
              "862  14-0163 2014-08-05  ...    Administrative Closure  2014\n",
              "871  15-0083 2015-05-08  ...                Exonerated  2015\n",
              "915  14-0144 2014-07-02  ...                Exonerated  2014\n",
              "942  15-0142 2015-08-04  ...    Administrative Closure  2015\n",
              "978  15-0002 2015-01-07  ...                 Unfounded  2015\n",
              "\n",
              "[56 rows x 7 columns]"
            ]
          },
          "metadata": {
            "tags": []
          },
          "execution_count": 62
        }
      ]
    },
    {
      "cell_type": "code",
      "metadata": {
        "colab": {
          "base_uri": "https://localhost:8080/",
          "height": 225
        },
        "id": "_Irl5lyT9gc_",
        "outputId": "a34fae72-acab-4c5a-c6b5-322037ddd5dd"
      },
      "source": [
        "forceplot = pd.DataFrame(force.finding.value_counts())\n",
        "forceplot"
      ],
      "execution_count": null,
      "outputs": [
        {
          "output_type": "execute_result",
          "data": {
            "text/html": [
              "<div>\n",
              "<style scoped>\n",
              "    .dataframe tbody tr th:only-of-type {\n",
              "        vertical-align: middle;\n",
              "    }\n",
              "\n",
              "    .dataframe tbody tr th {\n",
              "        vertical-align: top;\n",
              "    }\n",
              "\n",
              "    .dataframe thead th {\n",
              "        text-align: right;\n",
              "    }\n",
              "</style>\n",
              "<table border=\"1\" class=\"dataframe\">\n",
              "  <thead>\n",
              "    <tr style=\"text-align: right;\">\n",
              "      <th></th>\n",
              "      <th>finding</th>\n",
              "    </tr>\n",
              "  </thead>\n",
              "  <tbody>\n",
              "    <tr>\n",
              "      <th>Exonerated</th>\n",
              "      <td>22</td>\n",
              "    </tr>\n",
              "    <tr>\n",
              "      <th>Administrative Closure</th>\n",
              "      <td>9</td>\n",
              "    </tr>\n",
              "    <tr>\n",
              "      <th>Unfounded</th>\n",
              "      <td>6</td>\n",
              "    </tr>\n",
              "    <tr>\n",
              "      <th>Declined</th>\n",
              "      <td>3</td>\n",
              "    </tr>\n",
              "    <tr>\n",
              "      <th>Insufficent Evidence</th>\n",
              "      <td>2</td>\n",
              "    </tr>\n",
              "    <tr>\n",
              "      <th>No Corrective Action Tak</th>\n",
              "      <td>1</td>\n",
              "    </tr>\n",
              "  </tbody>\n",
              "</table>\n",
              "</div>"
            ],
            "text/plain": [
              "                          finding\n",
              "Exonerated                     22\n",
              "Administrative Closure          9\n",
              "Unfounded                       6\n",
              "Declined                        3\n",
              "Insufficent Evidence            2\n",
              "No Corrective Action Tak        1"
            ]
          },
          "metadata": {
            "tags": []
          },
          "execution_count": 63
        }
      ]
    },
    {
      "cell_type": "code",
      "metadata": {
        "colab": {
          "base_uri": "https://localhost:8080/",
          "height": 225
        },
        "id": "7jlTXdbn91kw",
        "outputId": "56acafde-4bee-497f-caab-3b4d7de54e62"
      },
      "source": [
        "forceplot.reset_index(level=0, inplace=True)\n",
        "forceplot"
      ],
      "execution_count": null,
      "outputs": [
        {
          "output_type": "execute_result",
          "data": {
            "text/html": [
              "<div>\n",
              "<style scoped>\n",
              "    .dataframe tbody tr th:only-of-type {\n",
              "        vertical-align: middle;\n",
              "    }\n",
              "\n",
              "    .dataframe tbody tr th {\n",
              "        vertical-align: top;\n",
              "    }\n",
              "\n",
              "    .dataframe thead th {\n",
              "        text-align: right;\n",
              "    }\n",
              "</style>\n",
              "<table border=\"1\" class=\"dataframe\">\n",
              "  <thead>\n",
              "    <tr style=\"text-align: right;\">\n",
              "      <th></th>\n",
              "      <th>index</th>\n",
              "      <th>finding</th>\n",
              "    </tr>\n",
              "  </thead>\n",
              "  <tbody>\n",
              "    <tr>\n",
              "      <th>0</th>\n",
              "      <td>Exonerated</td>\n",
              "      <td>22</td>\n",
              "    </tr>\n",
              "    <tr>\n",
              "      <th>1</th>\n",
              "      <td>Administrative Closure</td>\n",
              "      <td>9</td>\n",
              "    </tr>\n",
              "    <tr>\n",
              "      <th>2</th>\n",
              "      <td>Unfounded</td>\n",
              "      <td>6</td>\n",
              "    </tr>\n",
              "    <tr>\n",
              "      <th>3</th>\n",
              "      <td>Declined</td>\n",
              "      <td>3</td>\n",
              "    </tr>\n",
              "    <tr>\n",
              "      <th>4</th>\n",
              "      <td>Insufficent Evidence</td>\n",
              "      <td>2</td>\n",
              "    </tr>\n",
              "    <tr>\n",
              "      <th>5</th>\n",
              "      <td>No Corrective Action Tak</td>\n",
              "      <td>1</td>\n",
              "    </tr>\n",
              "  </tbody>\n",
              "</table>\n",
              "</div>"
            ],
            "text/plain": [
              "                      index  finding\n",
              "0                Exonerated       22\n",
              "1    Administrative Closure        9\n",
              "2                 Unfounded        6\n",
              "3                  Declined        3\n",
              "4      Insufficent Evidence        2\n",
              "5  No Corrective Action Tak        1"
            ]
          },
          "metadata": {
            "tags": []
          },
          "execution_count": 64
        }
      ]
    },
    {
      "cell_type": "code",
      "metadata": {
        "colab": {
          "base_uri": "https://localhost:8080/",
          "height": 225
        },
        "id": "Y3WJCCVH9-FD",
        "outputId": "75c35354-d3a4-488a-eb8f-f2af1f3c665b"
      },
      "source": [
        "forceplot.rename(columns={'index': 'Finding', 'finding': 'Count'}, inplace=True)\n",
        "forceplot"
      ],
      "execution_count": null,
      "outputs": [
        {
          "output_type": "execute_result",
          "data": {
            "text/html": [
              "<div>\n",
              "<style scoped>\n",
              "    .dataframe tbody tr th:only-of-type {\n",
              "        vertical-align: middle;\n",
              "    }\n",
              "\n",
              "    .dataframe tbody tr th {\n",
              "        vertical-align: top;\n",
              "    }\n",
              "\n",
              "    .dataframe thead th {\n",
              "        text-align: right;\n",
              "    }\n",
              "</style>\n",
              "<table border=\"1\" class=\"dataframe\">\n",
              "  <thead>\n",
              "    <tr style=\"text-align: right;\">\n",
              "      <th></th>\n",
              "      <th>Finding</th>\n",
              "      <th>Count</th>\n",
              "    </tr>\n",
              "  </thead>\n",
              "  <tbody>\n",
              "    <tr>\n",
              "      <th>0</th>\n",
              "      <td>Exonerated</td>\n",
              "      <td>22</td>\n",
              "    </tr>\n",
              "    <tr>\n",
              "      <th>1</th>\n",
              "      <td>Administrative Closure</td>\n",
              "      <td>9</td>\n",
              "    </tr>\n",
              "    <tr>\n",
              "      <th>2</th>\n",
              "      <td>Unfounded</td>\n",
              "      <td>6</td>\n",
              "    </tr>\n",
              "    <tr>\n",
              "      <th>3</th>\n",
              "      <td>Declined</td>\n",
              "      <td>3</td>\n",
              "    </tr>\n",
              "    <tr>\n",
              "      <th>4</th>\n",
              "      <td>Insufficent Evidence</td>\n",
              "      <td>2</td>\n",
              "    </tr>\n",
              "    <tr>\n",
              "      <th>5</th>\n",
              "      <td>No Corrective Action Tak</td>\n",
              "      <td>1</td>\n",
              "    </tr>\n",
              "  </tbody>\n",
              "</table>\n",
              "</div>"
            ],
            "text/plain": [
              "                    Finding  Count\n",
              "0                Exonerated     22\n",
              "1    Administrative Closure      9\n",
              "2                 Unfounded      6\n",
              "3                  Declined      3\n",
              "4      Insufficent Evidence      2\n",
              "5  No Corrective Action Tak      1"
            ]
          },
          "metadata": {
            "tags": []
          },
          "execution_count": 65
        }
      ]
    },
    {
      "cell_type": "code",
      "metadata": {
        "colab": {
          "base_uri": "https://localhost:8080/"
        },
        "id": "o-NwzGiDBQaE",
        "outputId": "230010c5-c89c-4d69-cfe0-795aeb56d355"
      },
      "source": [
        "forceplot.Count.sum()"
      ],
      "execution_count": null,
      "outputs": [
        {
          "output_type": "execute_result",
          "data": {
            "text/plain": [
              "43"
            ]
          },
          "metadata": {
            "tags": []
          },
          "execution_count": 66
        }
      ]
    },
    {
      "cell_type": "code",
      "metadata": {
        "colab": {
          "base_uri": "https://localhost:8080/",
          "height": 407
        },
        "id": "tpTk-jM-8uYP",
        "outputId": "1050b22b-495f-4566-d099-0487537da64d"
      },
      "source": [
        "import numpy as np\n",
        "import pandas as pd\n",
        "from pandas import Series, DataFrame\n",
        "import matplotlib.pyplot as plt\n",
        "\n",
        "plt.bar(forceplot.Finding, forceplot.Count, facecolor='cornflowerblue', alpha=0.5, )\n",
        "plt.title('Finding Frequency in Use of Force Allegations')\n",
        "plt.xlabel('Finding')\n",
        "plt.ylabel('Frequency')\n",
        "plt.xticks(rotation=90)\n",
        "\n",
        "plt.savefig('Use_of_force.png', dpi=300, bbox_inches = 'tight')\n",
        "\n",
        "plt.show()\n"
      ],
      "execution_count": null,
      "outputs": [
        {
          "output_type": "display_data",
          "data": {
            "image/png": "[encoded data removed]",
            "text/plain": [
              "<Figure size 432x288 with 1 Axes>"
            ]
          },
          "metadata": {
            "tags": [],
            "needs_background": "light"
          }
        }
      ]
    },
    {
      "cell_type": "code",
      "metadata": {
        "id": "k8bTanJ5PlR5"
      },
      "source": [
        "from google.colab import drive\n",
        "drive.mount('/content/drive')"
      ],
      "execution_count": null,
      "outputs": []
    },
    {
      "cell_type": "markdown",
      "metadata": {
        "id": "LdFX386LBJ-d"
      },
      "source": [
        "Corrective Action was taken in **0 out of 43** Use of Force Allegation cases."
      ]
    },
    {
      "cell_type": "code",
      "metadata": {
        "colab": {
          "base_uri": "https://localhost:8080/",
          "height": 965
        },
        "id": "LQsDNHkh-81U",
        "outputId": "451b4b7c-ce49-4635-9673-94db09a81849"
      },
      "source": [
        "abuseauth=df[(df['allegation']==\"Abuse of Authority\")]\n",
        "abuseauth"
      ],
      "execution_count": null,
      "outputs": [
        {
          "output_type": "execute_result",
          "data": {
            "text/html": [
              "<div>\n",
              "<style scoped>\n",
              "    .dataframe tbody tr th:only-of-type {\n",
              "        vertical-align: middle;\n",
              "    }\n",
              "\n",
              "    .dataframe tbody tr th {\n",
              "        vertical-align: top;\n",
              "    }\n",
              "\n",
              "    .dataframe thead th {\n",
              "        text-align: right;\n",
              "    }\n",
              "</style>\n",
              "<table border=\"1\" class=\"dataframe\">\n",
              "  <thead>\n",
              "    <tr style=\"text-align: right;\">\n",
              "      <th></th>\n",
              "      <th>filenum</th>\n",
              "      <th>created_dt</th>\n",
              "      <th>source</th>\n",
              "      <th>allegation</th>\n",
              "      <th>incident_status</th>\n",
              "      <th>finding</th>\n",
              "      <th>Year</th>\n",
              "    </tr>\n",
              "  </thead>\n",
              "  <tbody>\n",
              "    <tr>\n",
              "      <th>2</th>\n",
              "      <td>16-0101</td>\n",
              "      <td>2016-05-10</td>\n",
              "      <td>Internal</td>\n",
              "      <td>Abuse of Authority</td>\n",
              "      <td>Active</td>\n",
              "      <td>NaN</td>\n",
              "      <td>2016</td>\n",
              "    </tr>\n",
              "    <tr>\n",
              "      <th>194</th>\n",
              "      <td>15-0191</td>\n",
              "      <td>2015-10-22</td>\n",
              "      <td>External</td>\n",
              "      <td>Abuse of Authority</td>\n",
              "      <td>Completed</td>\n",
              "      <td>Administrative Closure</td>\n",
              "      <td>2015</td>\n",
              "    </tr>\n",
              "    <tr>\n",
              "      <th>251</th>\n",
              "      <td>13-0290</td>\n",
              "      <td>2013-10-24</td>\n",
              "      <td>External</td>\n",
              "      <td>Abuse of Authority</td>\n",
              "      <td>Completed</td>\n",
              "      <td>No Corrective Action Tak</td>\n",
              "      <td>2013</td>\n",
              "    </tr>\n",
              "    <tr>\n",
              "      <th>255</th>\n",
              "      <td>13-0291</td>\n",
              "      <td>2013-10-24</td>\n",
              "      <td>External</td>\n",
              "      <td>Abuse of Authority</td>\n",
              "      <td>Completed</td>\n",
              "      <td>Declined</td>\n",
              "      <td>2013</td>\n",
              "    </tr>\n",
              "    <tr>\n",
              "      <th>286</th>\n",
              "      <td>13-0262</td>\n",
              "      <td>2013-09-24</td>\n",
              "      <td>Internal</td>\n",
              "      <td>Abuse of Authority</td>\n",
              "      <td>Completed</td>\n",
              "      <td>Corrective Action Taken</td>\n",
              "      <td>2013</td>\n",
              "    </tr>\n",
              "    <tr>\n",
              "      <th>296</th>\n",
              "      <td>13-0323</td>\n",
              "      <td>2013-12-03</td>\n",
              "      <td>External</td>\n",
              "      <td>Abuse of Authority</td>\n",
              "      <td>Completed</td>\n",
              "      <td>No Corrective Action Tak</td>\n",
              "      <td>2013</td>\n",
              "    </tr>\n",
              "    <tr>\n",
              "      <th>374</th>\n",
              "      <td>13-0255</td>\n",
              "      <td>2013-09-17</td>\n",
              "      <td>External</td>\n",
              "      <td>Abuse of Authority</td>\n",
              "      <td>Completed</td>\n",
              "      <td>Exonerated</td>\n",
              "      <td>2013</td>\n",
              "    </tr>\n",
              "    <tr>\n",
              "      <th>389</th>\n",
              "      <td>14-0061</td>\n",
              "      <td>2014-04-03</td>\n",
              "      <td>External</td>\n",
              "      <td>Abuse of Authority</td>\n",
              "      <td>Completed</td>\n",
              "      <td>No Corrective Action Tak</td>\n",
              "      <td>2014</td>\n",
              "    </tr>\n",
              "    <tr>\n",
              "      <th>394</th>\n",
              "      <td>15-0176</td>\n",
              "      <td>2015-09-23</td>\n",
              "      <td>Internal</td>\n",
              "      <td>Abuse of Authority</td>\n",
              "      <td>Completed</td>\n",
              "      <td>Administrative Closure</td>\n",
              "      <td>2015</td>\n",
              "    </tr>\n",
              "    <tr>\n",
              "      <th>424</th>\n",
              "      <td>15-0051</td>\n",
              "      <td>2015-03-26</td>\n",
              "      <td>External</td>\n",
              "      <td>Abuse of Authority</td>\n",
              "      <td>Completed</td>\n",
              "      <td>Declined</td>\n",
              "      <td>2015</td>\n",
              "    </tr>\n",
              "    <tr>\n",
              "      <th>442</th>\n",
              "      <td>15-0160</td>\n",
              "      <td>2015-09-03</td>\n",
              "      <td>External</td>\n",
              "      <td>Abuse of Authority</td>\n",
              "      <td>Completed</td>\n",
              "      <td>Administrative Closure</td>\n",
              "      <td>2015</td>\n",
              "    </tr>\n",
              "    <tr>\n",
              "      <th>487</th>\n",
              "      <td>14-0012</td>\n",
              "      <td>2014-01-29</td>\n",
              "      <td>External</td>\n",
              "      <td>Abuse of Authority</td>\n",
              "      <td>Completed</td>\n",
              "      <td>Unfounded</td>\n",
              "      <td>2014</td>\n",
              "    </tr>\n",
              "    <tr>\n",
              "      <th>488</th>\n",
              "      <td>16-0032</td>\n",
              "      <td>2016-02-16</td>\n",
              "      <td>External</td>\n",
              "      <td>Abuse of Authority</td>\n",
              "      <td>Completed</td>\n",
              "      <td>No Corrective Action Tak</td>\n",
              "      <td>2016</td>\n",
              "    </tr>\n",
              "    <tr>\n",
              "      <th>508</th>\n",
              "      <td>15-0113</td>\n",
              "      <td>2015-06-29</td>\n",
              "      <td>External</td>\n",
              "      <td>Abuse of Authority</td>\n",
              "      <td>Completed</td>\n",
              "      <td>Administrative Closure</td>\n",
              "      <td>2015</td>\n",
              "    </tr>\n",
              "    <tr>\n",
              "      <th>581</th>\n",
              "      <td>15-0081</td>\n",
              "      <td>2015-05-07</td>\n",
              "      <td>External</td>\n",
              "      <td>Abuse of Authority</td>\n",
              "      <td>Completed</td>\n",
              "      <td>Corrective Action Taken</td>\n",
              "      <td>2015</td>\n",
              "    </tr>\n",
              "    <tr>\n",
              "      <th>598</th>\n",
              "      <td>14-0044</td>\n",
              "      <td>2014-03-06</td>\n",
              "      <td>External</td>\n",
              "      <td>Abuse of Authority</td>\n",
              "      <td>Completed</td>\n",
              "      <td>Unfounded</td>\n",
              "      <td>2014</td>\n",
              "    </tr>\n",
              "    <tr>\n",
              "      <th>602</th>\n",
              "      <td>15-0061</td>\n",
              "      <td>2015-04-15</td>\n",
              "      <td>External</td>\n",
              "      <td>Abuse of Authority</td>\n",
              "      <td>Completed</td>\n",
              "      <td>Administrative Closure</td>\n",
              "      <td>2015</td>\n",
              "    </tr>\n",
              "    <tr>\n",
              "      <th>664</th>\n",
              "      <td>14-0050</td>\n",
              "      <td>2014-03-14</td>\n",
              "      <td>External</td>\n",
              "      <td>Abuse of Authority</td>\n",
              "      <td>Completed</td>\n",
              "      <td>Unfounded</td>\n",
              "      <td>2014</td>\n",
              "    </tr>\n",
              "    <tr>\n",
              "      <th>681</th>\n",
              "      <td>14-0056</td>\n",
              "      <td>2014-03-19</td>\n",
              "      <td>Internal</td>\n",
              "      <td>Abuse of Authority</td>\n",
              "      <td>Completed</td>\n",
              "      <td>No Corrective Action Tak</td>\n",
              "      <td>2014</td>\n",
              "    </tr>\n",
              "    <tr>\n",
              "      <th>737</th>\n",
              "      <td>14-0156</td>\n",
              "      <td>2014-07-21</td>\n",
              "      <td>External</td>\n",
              "      <td>Abuse of Authority</td>\n",
              "      <td>Completed</td>\n",
              "      <td>No Corrective Action Tak</td>\n",
              "      <td>2014</td>\n",
              "    </tr>\n",
              "    <tr>\n",
              "      <th>812</th>\n",
              "      <td>16-0059</td>\n",
              "      <td>2016-03-14</td>\n",
              "      <td>External</td>\n",
              "      <td>Abuse of Authority</td>\n",
              "      <td>Completed</td>\n",
              "      <td>No Corrective Action Tak</td>\n",
              "      <td>2016</td>\n",
              "    </tr>\n",
              "    <tr>\n",
              "      <th>831</th>\n",
              "      <td>13-0286</td>\n",
              "      <td>2013-10-18</td>\n",
              "      <td>External</td>\n",
              "      <td>Abuse of Authority</td>\n",
              "      <td>Completed</td>\n",
              "      <td>No Corrective Action Tak</td>\n",
              "      <td>2013</td>\n",
              "    </tr>\n",
              "    <tr>\n",
              "      <th>837</th>\n",
              "      <td>13-0279</td>\n",
              "      <td>2013-10-11</td>\n",
              "      <td>External</td>\n",
              "      <td>Abuse of Authority</td>\n",
              "      <td>Completed</td>\n",
              "      <td>No Corrective Action Tak</td>\n",
              "      <td>2013</td>\n",
              "    </tr>\n",
              "    <tr>\n",
              "      <th>840</th>\n",
              "      <td>15-0016</td>\n",
              "      <td>2015-02-10</td>\n",
              "      <td>External</td>\n",
              "      <td>Abuse of Authority</td>\n",
              "      <td>Completed</td>\n",
              "      <td>Exonerated</td>\n",
              "      <td>2015</td>\n",
              "    </tr>\n",
              "    <tr>\n",
              "      <th>909</th>\n",
              "      <td>15-0159</td>\n",
              "      <td>2015-09-03</td>\n",
              "      <td>External</td>\n",
              "      <td>Abuse of Authority</td>\n",
              "      <td>Completed</td>\n",
              "      <td>Declined</td>\n",
              "      <td>2015</td>\n",
              "    </tr>\n",
              "    <tr>\n",
              "      <th>936</th>\n",
              "      <td>15-0222</td>\n",
              "      <td>2015-12-09</td>\n",
              "      <td>External</td>\n",
              "      <td>Abuse of Authority</td>\n",
              "      <td>Completed</td>\n",
              "      <td>Declined</td>\n",
              "      <td>2015</td>\n",
              "    </tr>\n",
              "    <tr>\n",
              "      <th>947</th>\n",
              "      <td>14-0066</td>\n",
              "      <td>2014-04-04</td>\n",
              "      <td>External</td>\n",
              "      <td>Abuse of Authority</td>\n",
              "      <td>Completed</td>\n",
              "      <td>Corrective Action Taken</td>\n",
              "      <td>2014</td>\n",
              "    </tr>\n",
              "    <tr>\n",
              "      <th>951</th>\n",
              "      <td>16-0018</td>\n",
              "      <td>2016-01-28</td>\n",
              "      <td>External</td>\n",
              "      <td>Abuse of Authority</td>\n",
              "      <td>Completed</td>\n",
              "      <td>No Corrective Action Tak</td>\n",
              "      <td>2016</td>\n",
              "    </tr>\n",
              "    <tr>\n",
              "      <th>959</th>\n",
              "      <td>17-0286</td>\n",
              "      <td>2017-12-14</td>\n",
              "      <td>Internal</td>\n",
              "      <td>Abuse of Authority</td>\n",
              "      <td>Completed</td>\n",
              "      <td>Administrative Closure</td>\n",
              "      <td>2017</td>\n",
              "    </tr>\n",
              "    <tr>\n",
              "      <th>968</th>\n",
              "      <td>13-0211</td>\n",
              "      <td>2013-08-13</td>\n",
              "      <td>External</td>\n",
              "      <td>Abuse of Authority</td>\n",
              "      <td>Completed</td>\n",
              "      <td>No Corrective Action Tak</td>\n",
              "      <td>2013</td>\n",
              "    </tr>\n",
              "    <tr>\n",
              "      <th>982</th>\n",
              "      <td>15-0005</td>\n",
              "      <td>2015-01-08</td>\n",
              "      <td>Internal</td>\n",
              "      <td>Abuse of Authority</td>\n",
              "      <td>Completed</td>\n",
              "      <td>No Corrective Action Tak</td>\n",
              "      <td>2015</td>\n",
              "    </tr>\n",
              "  </tbody>\n",
              "</table>\n",
              "</div>"
            ],
            "text/plain": [
              "     filenum created_dt  ...                   finding  Year\n",
              "2    16-0101 2016-05-10  ...                       NaN  2016\n",
              "194  15-0191 2015-10-22  ...    Administrative Closure  2015\n",
              "251  13-0290 2013-10-24  ...  No Corrective Action Tak  2013\n",
              "255  13-0291 2013-10-24  ...                  Declined  2013\n",
              "286  13-0262 2013-09-24  ...   Corrective Action Taken  2013\n",
              "296  13-0323 2013-12-03  ...  No Corrective Action Tak  2013\n",
              "374  13-0255 2013-09-17  ...                Exonerated  2013\n",
              "389  14-0061 2014-04-03  ...  No Corrective Action Tak  2014\n",
              "394  15-0176 2015-09-23  ...    Administrative Closure  2015\n",
              "424  15-0051 2015-03-26  ...                  Declined  2015\n",
              "442  15-0160 2015-09-03  ...    Administrative Closure  2015\n",
              "487  14-0012 2014-01-29  ...                 Unfounded  2014\n",
              "488  16-0032 2016-02-16  ...  No Corrective Action Tak  2016\n",
              "508  15-0113 2015-06-29  ...    Administrative Closure  2015\n",
              "581  15-0081 2015-05-07  ...   Corrective Action Taken  2015\n",
              "598  14-0044 2014-03-06  ...                 Unfounded  2014\n",
              "602  15-0061 2015-04-15  ...    Administrative Closure  2015\n",
              "664  14-0050 2014-03-14  ...                 Unfounded  2014\n",
              "681  14-0056 2014-03-19  ...  No Corrective Action Tak  2014\n",
              "737  14-0156 2014-07-21  ...  No Corrective Action Tak  2014\n",
              "812  16-0059 2016-03-14  ...  No Corrective Action Tak  2016\n",
              "831  13-0286 2013-10-18  ...  No Corrective Action Tak  2013\n",
              "837  13-0279 2013-10-11  ...  No Corrective Action Tak  2013\n",
              "840  15-0016 2015-02-10  ...                Exonerated  2015\n",
              "909  15-0159 2015-09-03  ...                  Declined  2015\n",
              "936  15-0222 2015-12-09  ...                  Declined  2015\n",
              "947  14-0066 2014-04-04  ...   Corrective Action Taken  2014\n",
              "951  16-0018 2016-01-28  ...  No Corrective Action Tak  2016\n",
              "959  17-0286 2017-12-14  ...    Administrative Closure  2017\n",
              "968  13-0211 2013-08-13  ...  No Corrective Action Tak  2013\n",
              "982  15-0005 2015-01-08  ...  No Corrective Action Tak  2015\n",
              "\n",
              "[31 rows x 7 columns]"
            ]
          },
          "metadata": {
            "tags": []
          },
          "execution_count": 68
        }
      ]
    },
    {
      "cell_type": "code",
      "metadata": {
        "colab": {
          "base_uri": "https://localhost:8080/",
          "height": 225
        },
        "id": "JF_b8DTrAJAI",
        "outputId": "23751fec-6611-435b-a25a-e4ba66aac3da"
      },
      "source": [
        "abuseauthplot = pd.DataFrame(abuseauth.finding.value_counts())\n",
        "abuseauthplot"
      ],
      "execution_count": null,
      "outputs": [
        {
          "output_type": "execute_result",
          "data": {
            "text/html": [
              "<div>\n",
              "<style scoped>\n",
              "    .dataframe tbody tr th:only-of-type {\n",
              "        vertical-align: middle;\n",
              "    }\n",
              "\n",
              "    .dataframe tbody tr th {\n",
              "        vertical-align: top;\n",
              "    }\n",
              "\n",
              "    .dataframe thead th {\n",
              "        text-align: right;\n",
              "    }\n",
              "</style>\n",
              "<table border=\"1\" class=\"dataframe\">\n",
              "  <thead>\n",
              "    <tr style=\"text-align: right;\">\n",
              "      <th></th>\n",
              "      <th>finding</th>\n",
              "    </tr>\n",
              "  </thead>\n",
              "  <tbody>\n",
              "    <tr>\n",
              "      <th>No Corrective Action Tak</th>\n",
              "      <td>12</td>\n",
              "    </tr>\n",
              "    <tr>\n",
              "      <th>Administrative Closure</th>\n",
              "      <td>6</td>\n",
              "    </tr>\n",
              "    <tr>\n",
              "      <th>Declined</th>\n",
              "      <td>4</td>\n",
              "    </tr>\n",
              "    <tr>\n",
              "      <th>Corrective Action Taken</th>\n",
              "      <td>3</td>\n",
              "    </tr>\n",
              "    <tr>\n",
              "      <th>Unfounded</th>\n",
              "      <td>3</td>\n",
              "    </tr>\n",
              "    <tr>\n",
              "      <th>Exonerated</th>\n",
              "      <td>2</td>\n",
              "    </tr>\n",
              "  </tbody>\n",
              "</table>\n",
              "</div>"
            ],
            "text/plain": [
              "                          finding\n",
              "No Corrective Action Tak       12\n",
              "Administrative Closure          6\n",
              "Declined                        4\n",
              "Corrective Action Taken         3\n",
              "Unfounded                       3\n",
              "Exonerated                      2"
            ]
          },
          "metadata": {
            "tags": []
          },
          "execution_count": 69
        }
      ]
    },
    {
      "cell_type": "code",
      "metadata": {
        "colab": {
          "base_uri": "https://localhost:8080/",
          "height": 225
        },
        "id": "UnRIplpzAR7S",
        "outputId": "74609318-503d-4861-e1b8-5ca343848f99"
      },
      "source": [
        "abuseauthplot.reset_index(level=0, inplace=True)\n",
        "abuseauthplot"
      ],
      "execution_count": null,
      "outputs": [
        {
          "output_type": "execute_result",
          "data": {
            "text/html": [
              "<div>\n",
              "<style scoped>\n",
              "    .dataframe tbody tr th:only-of-type {\n",
              "        vertical-align: middle;\n",
              "    }\n",
              "\n",
              "    .dataframe tbody tr th {\n",
              "        vertical-align: top;\n",
              "    }\n",
              "\n",
              "    .dataframe thead th {\n",
              "        text-align: right;\n",
              "    }\n",
              "</style>\n",
              "<table border=\"1\" class=\"dataframe\">\n",
              "  <thead>\n",
              "    <tr style=\"text-align: right;\">\n",
              "      <th></th>\n",
              "      <th>index</th>\n",
              "      <th>finding</th>\n",
              "    </tr>\n",
              "  </thead>\n",
              "  <tbody>\n",
              "    <tr>\n",
              "      <th>0</th>\n",
              "      <td>No Corrective Action Tak</td>\n",
              "      <td>12</td>\n",
              "    </tr>\n",
              "    <tr>\n",
              "      <th>1</th>\n",
              "      <td>Administrative Closure</td>\n",
              "      <td>6</td>\n",
              "    </tr>\n",
              "    <tr>\n",
              "      <th>2</th>\n",
              "      <td>Declined</td>\n",
              "      <td>4</td>\n",
              "    </tr>\n",
              "    <tr>\n",
              "      <th>3</th>\n",
              "      <td>Corrective Action Taken</td>\n",
              "      <td>3</td>\n",
              "    </tr>\n",
              "    <tr>\n",
              "      <th>4</th>\n",
              "      <td>Unfounded</td>\n",
              "      <td>3</td>\n",
              "    </tr>\n",
              "    <tr>\n",
              "      <th>5</th>\n",
              "      <td>Exonerated</td>\n",
              "      <td>2</td>\n",
              "    </tr>\n",
              "  </tbody>\n",
              "</table>\n",
              "</div>"
            ],
            "text/plain": [
              "                      index  finding\n",
              "0  No Corrective Action Tak       12\n",
              "1    Administrative Closure        6\n",
              "2                  Declined        4\n",
              "3   Corrective Action Taken        3\n",
              "4                 Unfounded        3\n",
              "5                Exonerated        2"
            ]
          },
          "metadata": {
            "tags": []
          },
          "execution_count": 70
        }
      ]
    },
    {
      "cell_type": "code",
      "metadata": {
        "colab": {
          "base_uri": "https://localhost:8080/",
          "height": 225
        },
        "id": "3_DChn3lAY2D",
        "outputId": "ea8bcb18-42cd-46b9-c6e7-30f597829c02"
      },
      "source": [
        "abuseauthplot.rename(columns={'index': 'Finding', 'finding': 'Count'}, inplace=True)\n",
        "abuseauthplot"
      ],
      "execution_count": null,
      "outputs": [
        {
          "output_type": "execute_result",
          "data": {
            "text/html": [
              "<div>\n",
              "<style scoped>\n",
              "    .dataframe tbody tr th:only-of-type {\n",
              "        vertical-align: middle;\n",
              "    }\n",
              "\n",
              "    .dataframe tbody tr th {\n",
              "        vertical-align: top;\n",
              "    }\n",
              "\n",
              "    .dataframe thead th {\n",
              "        text-align: right;\n",
              "    }\n",
              "</style>\n",
              "<table border=\"1\" class=\"dataframe\">\n",
              "  <thead>\n",
              "    <tr style=\"text-align: right;\">\n",
              "      <th></th>\n",
              "      <th>Finding</th>\n",
              "      <th>Count</th>\n",
              "    </tr>\n",
              "  </thead>\n",
              "  <tbody>\n",
              "    <tr>\n",
              "      <th>0</th>\n",
              "      <td>No Corrective Action Tak</td>\n",
              "      <td>12</td>\n",
              "    </tr>\n",
              "    <tr>\n",
              "      <th>1</th>\n",
              "      <td>Administrative Closure</td>\n",
              "      <td>6</td>\n",
              "    </tr>\n",
              "    <tr>\n",
              "      <th>2</th>\n",
              "      <td>Declined</td>\n",
              "      <td>4</td>\n",
              "    </tr>\n",
              "    <tr>\n",
              "      <th>3</th>\n",
              "      <td>Corrective Action Taken</td>\n",
              "      <td>3</td>\n",
              "    </tr>\n",
              "    <tr>\n",
              "      <th>4</th>\n",
              "      <td>Unfounded</td>\n",
              "      <td>3</td>\n",
              "    </tr>\n",
              "    <tr>\n",
              "      <th>5</th>\n",
              "      <td>Exonerated</td>\n",
              "      <td>2</td>\n",
              "    </tr>\n",
              "  </tbody>\n",
              "</table>\n",
              "</div>"
            ],
            "text/plain": [
              "                    Finding  Count\n",
              "0  No Corrective Action Tak     12\n",
              "1    Administrative Closure      6\n",
              "2                  Declined      4\n",
              "3   Corrective Action Taken      3\n",
              "4                 Unfounded      3\n",
              "5                Exonerated      2"
            ]
          },
          "metadata": {
            "tags": []
          },
          "execution_count": 71
        }
      ]
    },
    {
      "cell_type": "code",
      "metadata": {
        "colab": {
          "base_uri": "https://localhost:8080/"
        },
        "id": "xjWKXHepArXK",
        "outputId": "5b61d6d4-c18a-46d1-82a7-891168c499c7"
      },
      "source": [
        "abuseauthplot.Count.sum()"
      ],
      "execution_count": null,
      "outputs": [
        {
          "output_type": "execute_result",
          "data": {
            "text/plain": [
              "30"
            ]
          },
          "metadata": {
            "tags": []
          },
          "execution_count": 72
        }
      ]
    },
    {
      "cell_type": "code",
      "metadata": {
        "colab": {
          "base_uri": "https://localhost:8080/",
          "height": 407
        },
        "id": "NIb2PyP7Af50",
        "outputId": "b3640168-19e9-4488-a893-c51d7e546b87"
      },
      "source": [
        "plt.bar(abuseauthplot.Finding, abuseauthplot.Count, facecolor='cornflowerblue', alpha=0.5 )\n",
        "plt.title('Finding Frequency in Abuse of Authority Allegations')\n",
        "plt.xlabel('Finding')\n",
        "plt.ylabel('Frequency')\n",
        "plt.xticks(rotation=90)\n",
        "\n",
        "plt.savefig('Abuse_Authority.png', dpi=300, bbox_inches = 'tight')\n",
        "\n",
        "plt.show()"
      ],
      "execution_count": null,
      "outputs": [
        {
          "output_type": "display_data",
          "data": {
            "image/png": "[encoded data removed]",
            "text/plain": [
              "<Figure size 432x288 with 1 Axes>"
            ]
          },
          "metadata": {
            "tags": [],
            "needs_background": "light"
          }
        }
      ]
    },
    {
      "cell_type": "markdown",
      "metadata": {
        "id": "OmvcO_nqA3Hl"
      },
      "source": [
        "Corrective Action was taken in only **3 out of 30** Abuse of Authority Allegation cases."
      ]
    },
    {
      "cell_type": "code",
      "metadata": {
        "colab": {
          "base_uri": "https://localhost:8080/"
        },
        "id": "oU5wFufyCp9H",
        "outputId": "7abc806f-d5d6-4ce6-9d70-f21ccc6c8f94"
      },
      "source": [
        "170/829"
      ],
      "execution_count": null,
      "outputs": [
        {
          "output_type": "execute_result",
          "data": {
            "text/plain": [
              "0.20506634499396864"
            ]
          },
          "metadata": {
            "tags": []
          },
          "execution_count": 74
        }
      ]
    },
    {
      "cell_type": "code",
      "metadata": {
        "id": "2sOrx5BtC-S8"
      },
      "source": [
        ""
      ],
      "execution_count": null,
      "outputs": []
    },
    {
      "cell_type": "code",
      "metadata": {
        "colab": {
          "base_uri": "https://localhost:8080/"
        },
        "id": "unS0iaKyC2VG",
        "outputId": "8844be16-4bd1-4b8f-8f77-7a4ab08351bf"
      },
      "source": [
        "64+48"
      ],
      "execution_count": null,
      "outputs": [
        {
          "output_type": "execute_result",
          "data": {
            "text/plain": [
              "112"
            ]
          },
          "metadata": {
            "tags": []
          },
          "execution_count": 75
        }
      ]
    },
    {
      "cell_type": "markdown",
      "metadata": {
        "id": "wlaxswGaCjBR"
      },
      "source": [
        "Overall only **170 out of 829** total allegations received any form of corrective action.  We have no available data on what the exact forms of corrective action were."
      ]
    },
    {
      "cell_type": "code",
      "metadata": {
        "colab": {
          "base_uri": "https://localhost:8080/"
        },
        "id": "pLoYgU4zROQG",
        "outputId": "7b3b2ba0-51c4-4467-e59d-dd1951f6f0db"
      },
      "source": [
        "170/829 * 100"
      ],
      "execution_count": null,
      "outputs": [
        {
          "output_type": "execute_result",
          "data": {
            "text/plain": [
              "20.506634499396863"
            ]
          },
          "metadata": {
            "tags": []
          },
          "execution_count": 78
        }
      ]
    },
    {
      "cell_type": "code",
      "metadata": {
        "colab": {
          "base_uri": "https://localhost:8080/"
        },
        "id": "4_CBQAyaWhz8",
        "outputId": "65aec628-b2b0-4a0c-bed6-2a4ef3a2aa28"
      },
      "source": [
        "3/30 * 100"
      ],
      "execution_count": null,
      "outputs": [
        {
          "output_type": "execute_result",
          "data": {
            "text/plain": [
              "10.0"
            ]
          },
          "metadata": {
            "tags": []
          },
          "execution_count": 83
        }
      ]
    },
    {
      "cell_type": "code",
      "metadata": {
        "colab": {
          "base_uri": "https://localhost:8080/",
          "height": 195
        },
        "id": "TY9Dhv_blcGJ",
        "outputId": "430136a4-0382-4458-e635-d7cb50e21d68"
      },
      "source": [
        "df_external = df[(df[\"source\"] == 'External')]\n",
        "df_external.head()"
      ],
      "execution_count": null,
      "outputs": [
        {
          "output_type": "execute_result",
          "data": {
            "text/html": [
              "<div>\n",
              "<style scoped>\n",
              "    .dataframe tbody tr th:only-of-type {\n",
              "        vertical-align: middle;\n",
              "    }\n",
              "\n",
              "    .dataframe tbody tr th {\n",
              "        vertical-align: top;\n",
              "    }\n",
              "\n",
              "    .dataframe thead th {\n",
              "        text-align: right;\n",
              "    }\n",
              "</style>\n",
              "<table border=\"1\" class=\"dataframe\">\n",
              "  <thead>\n",
              "    <tr style=\"text-align: right;\">\n",
              "      <th></th>\n",
              "      <th>filenum</th>\n",
              "      <th>created_dt</th>\n",
              "      <th>source</th>\n",
              "      <th>allegation</th>\n",
              "      <th>incident_status</th>\n",
              "      <th>finding</th>\n",
              "      <th>Year</th>\n",
              "    </tr>\n",
              "  </thead>\n",
              "  <tbody>\n",
              "    <tr>\n",
              "      <th>0</th>\n",
              "      <td>15-0200</td>\n",
              "      <td>2015-11-09</td>\n",
              "      <td>External</td>\n",
              "      <td>Neglect of Duty/Unsatisfactory Performance</td>\n",
              "      <td>Active</td>\n",
              "      <td>NaN</td>\n",
              "      <td>2015</td>\n",
              "    </tr>\n",
              "    <tr>\n",
              "      <th>4</th>\n",
              "      <td>15-0200</td>\n",
              "      <td>2015-11-09</td>\n",
              "      <td>External</td>\n",
              "      <td>Courtesy</td>\n",
              "      <td>Active</td>\n",
              "      <td>NaN</td>\n",
              "      <td>2015</td>\n",
              "    </tr>\n",
              "    <tr>\n",
              "      <th>5</th>\n",
              "      <td>15-0200</td>\n",
              "      <td>2015-11-09</td>\n",
              "      <td>External</td>\n",
              "      <td>Conduct Unbecoming</td>\n",
              "      <td>Active</td>\n",
              "      <td>NaN</td>\n",
              "      <td>2015</td>\n",
              "    </tr>\n",
              "    <tr>\n",
              "      <th>9</th>\n",
              "      <td>19-0093</td>\n",
              "      <td>2019-06-10</td>\n",
              "      <td>External</td>\n",
              "      <td>Courtesy</td>\n",
              "      <td>Active</td>\n",
              "      <td>Administrative Closure</td>\n",
              "      <td>2019</td>\n",
              "    </tr>\n",
              "    <tr>\n",
              "      <th>10</th>\n",
              "      <td>17-0022</td>\n",
              "      <td>2017-02-02</td>\n",
              "      <td>External</td>\n",
              "      <td>Neglect of Duty/Unsatisfactory Performance</td>\n",
              "      <td>Active</td>\n",
              "      <td>Declined</td>\n",
              "      <td>2017</td>\n",
              "    </tr>\n",
              "  </tbody>\n",
              "</table>\n",
              "</div>"
            ],
            "text/plain": [
              "    filenum created_dt    source  ... incident_status                 finding  Year\n",
              "0   15-0200 2015-11-09  External  ...          Active                     NaN  2015\n",
              "4   15-0200 2015-11-09  External  ...          Active                     NaN  2015\n",
              "5   15-0200 2015-11-09  External  ...          Active                     NaN  2015\n",
              "9   19-0093 2019-06-10  External  ...          Active  Administrative Closure  2019\n",
              "10  17-0022 2017-02-02  External  ...          Active                Declined  2017\n",
              "\n",
              "[5 rows x 7 columns]"
            ]
          },
          "metadata": {
            "tags": []
          },
          "execution_count": 87
        }
      ]
    },
    {
      "cell_type": "code",
      "metadata": {
        "colab": {
          "base_uri": "https://localhost:8080/"
        },
        "id": "tXpX5zK-lsAJ",
        "outputId": "79c24ea9-677b-4312-c4e4-0ad1ce5bf913"
      },
      "source": [
        "df_external.value_counts"
      ],
      "execution_count": null,
      "outputs": [
        {
          "output_type": "execute_result",
          "data": {
            "text/plain": [
              "<bound method DataFrame.value_counts of      filenum created_dt  ...                   finding  Year\n",
              "0    15-0200 2015-11-09  ...                       NaN  2015\n",
              "4    15-0200 2015-11-09  ...                       NaN  2015\n",
              "5    15-0200 2015-11-09  ...                       NaN  2015\n",
              "9    19-0093 2019-06-10  ...    Administrative Closure  2019\n",
              "10   17-0022 2017-02-02  ...                  Declined  2017\n",
              "..       ...        ...  ...                       ...   ...\n",
              "994  13-0294 2013-10-24  ...   Corrective Action Taken  2013\n",
              "995  15-0014 2015-02-03  ...   Corrective Action Taken  2015\n",
              "996  15-0152 2015-08-20  ...   Corrective Action Taken  2015\n",
              "997  15-0009 2015-01-23  ...   Corrective Action Taken  2015\n",
              "998  13-0242 2013-09-09  ...  No Corrective Action Tak  2013\n",
              "\n",
              "[676 rows x 7 columns]>"
            ]
          },
          "metadata": {
            "tags": []
          },
          "execution_count": 88
        }
      ]
    },
    {
      "cell_type": "code",
      "metadata": {
        "colab": {
          "base_uri": "https://localhost:8080/"
        },
        "id": "Izpy6OJxlv1z",
        "outputId": "647de65f-5a62-4a84-9449-837671bad18a"
      },
      "source": [
        "df_external_corr = df_external[(df_external[\"finding\"] == 'Corrective Action Taken')]\n",
        "print(df_external_corr.value_counts)"
      ],
      "execution_count": null,
      "outputs": [
        {
          "output_type": "stream",
          "text": [
            "<bound method DataFrame.value_counts of      filenum created_dt  ...                  finding  Year\n",
            "155  20-0216 2020-12-21  ...  Corrective Action Taken  2020\n",
            "199  14-0060 2014-03-27  ...  Corrective Action Taken  2014\n",
            "201  13-0268 2013-09-26  ...  Corrective Action Taken  2013\n",
            "204  15-0161 2015-09-08  ...  Corrective Action Taken  2015\n",
            "205  13-0351 2014-01-02  ...  Corrective Action Taken  2014\n",
            "..       ...        ...  ...                      ...   ...\n",
            "993  15-0016 2015-02-10  ...  Corrective Action Taken  2015\n",
            "994  13-0294 2013-10-24  ...  Corrective Action Taken  2013\n",
            "995  15-0014 2015-02-03  ...  Corrective Action Taken  2015\n",
            "996  15-0152 2015-08-20  ...  Corrective Action Taken  2015\n",
            "997  15-0009 2015-01-23  ...  Corrective Action Taken  2015\n",
            "\n",
            "[145 rows x 7 columns]>\n"
          ],
          "name": "stdout"
        }
      ]
    },
    {
      "cell_type": "code",
      "metadata": {
        "colab": {
          "base_uri": "https://localhost:8080/"
        },
        "id": "Be4MUDsWmA5a",
        "outputId": "339cc117-3e96-48d0-aa2a-3ddc2c344ff7"
      },
      "source": [
        "145/676 *100"
      ],
      "execution_count": null,
      "outputs": [
        {
          "output_type": "execute_result",
          "data": {
            "text/plain": [
              "21.449704142011836"
            ]
          },
          "metadata": {
            "tags": []
          },
          "execution_count": 90
        }
      ]
    },
    {
      "cell_type": "code",
      "metadata": {
        "colab": {
          "base_uri": "https://localhost:8080/",
          "height": 195
        },
        "id": "RvaixiO2mELw",
        "outputId": "8002d1d3-c0a6-4e7a-f139-c790abd6e216"
      },
      "source": [
        "df_internal = df[(df[\"source\"] == 'Internal')]\n",
        "df_internal.head()"
      ],
      "execution_count": null,
      "outputs": [
        {
          "output_type": "execute_result",
          "data": {
            "text/html": [
              "<div>\n",
              "<style scoped>\n",
              "    .dataframe tbody tr th:only-of-type {\n",
              "        vertical-align: middle;\n",
              "    }\n",
              "\n",
              "    .dataframe tbody tr th {\n",
              "        vertical-align: top;\n",
              "    }\n",
              "\n",
              "    .dataframe thead th {\n",
              "        text-align: right;\n",
              "    }\n",
              "</style>\n",
              "<table border=\"1\" class=\"dataframe\">\n",
              "  <thead>\n",
              "    <tr style=\"text-align: right;\">\n",
              "      <th></th>\n",
              "      <th>filenum</th>\n",
              "      <th>created_dt</th>\n",
              "      <th>source</th>\n",
              "      <th>allegation</th>\n",
              "      <th>incident_status</th>\n",
              "      <th>finding</th>\n",
              "      <th>Year</th>\n",
              "    </tr>\n",
              "  </thead>\n",
              "  <tbody>\n",
              "    <tr>\n",
              "      <th>1</th>\n",
              "      <td>16-0101</td>\n",
              "      <td>2016-05-10</td>\n",
              "      <td>Internal</td>\n",
              "      <td>Use of Force</td>\n",
              "      <td>Active</td>\n",
              "      <td>NaN</td>\n",
              "      <td>2016</td>\n",
              "    </tr>\n",
              "    <tr>\n",
              "      <th>2</th>\n",
              "      <td>16-0101</td>\n",
              "      <td>2016-05-10</td>\n",
              "      <td>Internal</td>\n",
              "      <td>Abuse of Authority</td>\n",
              "      <td>Active</td>\n",
              "      <td>NaN</td>\n",
              "      <td>2016</td>\n",
              "    </tr>\n",
              "    <tr>\n",
              "      <th>3</th>\n",
              "      <td>16-0101</td>\n",
              "      <td>2016-05-10</td>\n",
              "      <td>Internal</td>\n",
              "      <td>Conformance to Law</td>\n",
              "      <td>Active</td>\n",
              "      <td>NaN</td>\n",
              "      <td>2016</td>\n",
              "    </tr>\n",
              "    <tr>\n",
              "      <th>6</th>\n",
              "      <td>16-0101</td>\n",
              "      <td>2016-05-10</td>\n",
              "      <td>Internal</td>\n",
              "      <td>Att to Duty/Use Alch-Drugs</td>\n",
              "      <td>Active</td>\n",
              "      <td>NaN</td>\n",
              "      <td>2016</td>\n",
              "    </tr>\n",
              "    <tr>\n",
              "      <th>7</th>\n",
              "      <td>16-0196</td>\n",
              "      <td>2016-08-17</td>\n",
              "      <td>Internal</td>\n",
              "      <td>Conformance to Law</td>\n",
              "      <td>Active</td>\n",
              "      <td>NaN</td>\n",
              "      <td>2016</td>\n",
              "    </tr>\n",
              "  </tbody>\n",
              "</table>\n",
              "</div>"
            ],
            "text/plain": [
              "   filenum created_dt    source  ... incident_status finding  Year\n",
              "1  16-0101 2016-05-10  Internal  ...          Active     NaN  2016\n",
              "2  16-0101 2016-05-10  Internal  ...          Active     NaN  2016\n",
              "3  16-0101 2016-05-10  Internal  ...          Active     NaN  2016\n",
              "6  16-0101 2016-05-10  Internal  ...          Active     NaN  2016\n",
              "7  16-0196 2016-08-17  Internal  ...          Active     NaN  2016\n",
              "\n",
              "[5 rows x 7 columns]"
            ]
          },
          "metadata": {
            "tags": []
          },
          "execution_count": 91
        }
      ]
    },
    {
      "cell_type": "code",
      "metadata": {
        "colab": {
          "base_uri": "https://localhost:8080/"
        },
        "id": "XTyWS1TCmLCV",
        "outputId": "152003ca-051c-4e26-8dfd-c422fa21d368"
      },
      "source": [
        "df_internal.value_counts"
      ],
      "execution_count": null,
      "outputs": [
        {
          "output_type": "execute_result",
          "data": {
            "text/plain": [
              "<bound method DataFrame.value_counts of      filenum created_dt  ...                   finding  Year\n",
              "1    16-0101 2016-05-10  ...                       NaN  2016\n",
              "2    16-0101 2016-05-10  ...                       NaN  2016\n",
              "3    16-0101 2016-05-10  ...                       NaN  2016\n",
              "6    16-0101 2016-05-10  ...                       NaN  2016\n",
              "7    16-0196 2016-08-17  ...                       NaN  2016\n",
              "..       ...        ...  ...                       ...   ...\n",
              "973  15-0213 2015-11-25  ...   Corrective Action Taken  2015\n",
              "974  13-0311 2013-11-19  ...                Exonerated  2013\n",
              "975  15-0131 2015-07-21  ...    Administrative Closure  2015\n",
              "982  15-0005 2015-01-08  ...  No Corrective Action Tak  2015\n",
              "999  14-0202 2014-10-10  ...                Exonerated  2014\n",
              "\n",
              "[324 rows x 7 columns]>"
            ]
          },
          "metadata": {
            "tags": []
          },
          "execution_count": 92
        }
      ]
    },
    {
      "cell_type": "code",
      "metadata": {
        "colab": {
          "base_uri": "https://localhost:8080/"
        },
        "id": "HHGvApmQmOkj",
        "outputId": "70dacb67-c2cc-49eb-fadf-7151e3e72f9d"
      },
      "source": [
        "df_internal_corr = df_internal[(df_internal[\"finding\"] == 'Corrective Action Taken')]\n",
        "print(df_internal_corr.value_counts)"
      ],
      "execution_count": null,
      "outputs": [
        {
          "output_type": "stream",
          "text": [
            "<bound method DataFrame.value_counts of      filenum created_dt  ...                  finding  Year\n",
            "209  14-0191 2014-09-24  ...  Corrective Action Taken  2014\n",
            "212  14-0143 2014-07-02  ...  Corrective Action Taken  2014\n",
            "216  13-0328 2013-12-04  ...  Corrective Action Taken  2013\n",
            "240  15-0108 2015-06-18  ...  Corrective Action Taken  2015\n",
            "252  15-0121 2015-07-01  ...  Corrective Action Taken  2015\n",
            "253  15-0121 2015-07-01  ...  Corrective Action Taken  2015\n",
            "286  13-0262 2013-09-24  ...  Corrective Action Taken  2013\n",
            "311  16-0048 2016-03-07  ...  Corrective Action Taken  2016\n",
            "329  14-0234 2014-12-11  ...  Corrective Action Taken  2014\n",
            "341  13-0262 2013-09-24  ...  Corrective Action Taken  2013\n",
            "357  16-0060 2016-03-16  ...  Corrective Action Taken  2016\n",
            "364  14-0009 2014-01-15  ...  Corrective Action Taken  2014\n",
            "630  16-0051 2016-03-08  ...  Corrective Action Taken  2016\n",
            "633  14-0143 2014-07-02  ...  Corrective Action Taken  2014\n",
            "635  16-0019 2016-02-01  ...  Corrective Action Taken  2016\n",
            "639  16-0096 2016-05-09  ...  Corrective Action Taken  2016\n",
            "655  14-0203 2014-10-13  ...  Corrective Action Taken  2014\n",
            "661  13-0317 2013-11-21  ...  Corrective Action Taken  2013\n",
            "751  13-0314 2013-11-20  ...  Corrective Action Taken  2013\n",
            "803  16-0022 2016-02-03  ...  Corrective Action Taken  2016\n",
            "808  14-0177 2014-08-25  ...  Corrective Action Taken  2014\n",
            "834  14-0203 2014-10-13  ...  Corrective Action Taken  2014\n",
            "865  16-0051 2016-03-08  ...  Corrective Action Taken  2016\n",
            "970  14-0100 2014-05-14  ...  Corrective Action Taken  2014\n",
            "973  15-0213 2015-11-25  ...  Corrective Action Taken  2015\n",
            "\n",
            "[25 rows x 7 columns]>\n"
          ],
          "name": "stdout"
        }
      ]
    },
    {
      "cell_type": "code",
      "metadata": {
        "colab": {
          "base_uri": "https://localhost:8080/"
        },
        "id": "p9BlN3_TmUSW",
        "outputId": "932d9558-8d2a-4137-f4bd-448dd6586330"
      },
      "source": [
        "25/324 * 100"
      ],
      "execution_count": null,
      "outputs": [
        {
          "output_type": "execute_result",
          "data": {
            "text/plain": [
              "7.716049382716049"
            ]
          },
          "metadata": {
            "tags": []
          },
          "execution_count": 94
        }
      ]
    },
    {
      "cell_type": "code",
      "metadata": {
        "colab": {
          "base_uri": "https://localhost:8080/",
          "height": 195
        },
        "id": "bmKlHTdxma5H",
        "outputId": "4fbc5bf5-602c-4683-f815-6ee8582bfd05"
      },
      "source": [
        "df_internal_abuse = df[(df[\"source\"] == 'Internal') & (df['allegation'] == 'Abuse of Authority')]\n",
        "df_internal_abuse.head()"
      ],
      "execution_count": null,
      "outputs": [
        {
          "output_type": "execute_result",
          "data": {
            "text/html": [
              "<div>\n",
              "<style scoped>\n",
              "    .dataframe tbody tr th:only-of-type {\n",
              "        vertical-align: middle;\n",
              "    }\n",
              "\n",
              "    .dataframe tbody tr th {\n",
              "        vertical-align: top;\n",
              "    }\n",
              "\n",
              "    .dataframe thead th {\n",
              "        text-align: right;\n",
              "    }\n",
              "</style>\n",
              "<table border=\"1\" class=\"dataframe\">\n",
              "  <thead>\n",
              "    <tr style=\"text-align: right;\">\n",
              "      <th></th>\n",
              "      <th>filenum</th>\n",
              "      <th>created_dt</th>\n",
              "      <th>source</th>\n",
              "      <th>allegation</th>\n",
              "      <th>incident_status</th>\n",
              "      <th>finding</th>\n",
              "      <th>Year</th>\n",
              "    </tr>\n",
              "  </thead>\n",
              "  <tbody>\n",
              "    <tr>\n",
              "      <th>2</th>\n",
              "      <td>16-0101</td>\n",
              "      <td>2016-05-10</td>\n",
              "      <td>Internal</td>\n",
              "      <td>Abuse of Authority</td>\n",
              "      <td>Active</td>\n",
              "      <td>NaN</td>\n",
              "      <td>2016</td>\n",
              "    </tr>\n",
              "    <tr>\n",
              "      <th>286</th>\n",
              "      <td>13-0262</td>\n",
              "      <td>2013-09-24</td>\n",
              "      <td>Internal</td>\n",
              "      <td>Abuse of Authority</td>\n",
              "      <td>Completed</td>\n",
              "      <td>Corrective Action Taken</td>\n",
              "      <td>2013</td>\n",
              "    </tr>\n",
              "    <tr>\n",
              "      <th>394</th>\n",
              "      <td>15-0176</td>\n",
              "      <td>2015-09-23</td>\n",
              "      <td>Internal</td>\n",
              "      <td>Abuse of Authority</td>\n",
              "      <td>Completed</td>\n",
              "      <td>Administrative Closure</td>\n",
              "      <td>2015</td>\n",
              "    </tr>\n",
              "    <tr>\n",
              "      <th>681</th>\n",
              "      <td>14-0056</td>\n",
              "      <td>2014-03-19</td>\n",
              "      <td>Internal</td>\n",
              "      <td>Abuse of Authority</td>\n",
              "      <td>Completed</td>\n",
              "      <td>No Corrective Action Tak</td>\n",
              "      <td>2014</td>\n",
              "    </tr>\n",
              "    <tr>\n",
              "      <th>959</th>\n",
              "      <td>17-0286</td>\n",
              "      <td>2017-12-14</td>\n",
              "      <td>Internal</td>\n",
              "      <td>Abuse of Authority</td>\n",
              "      <td>Completed</td>\n",
              "      <td>Administrative Closure</td>\n",
              "      <td>2017</td>\n",
              "    </tr>\n",
              "  </tbody>\n",
              "</table>\n",
              "</div>"
            ],
            "text/plain": [
              "     filenum created_dt  ...                   finding  Year\n",
              "2    16-0101 2016-05-10  ...                       NaN  2016\n",
              "286  13-0262 2013-09-24  ...   Corrective Action Taken  2013\n",
              "394  15-0176 2015-09-23  ...    Administrative Closure  2015\n",
              "681  14-0056 2014-03-19  ...  No Corrective Action Tak  2014\n",
              "959  17-0286 2017-12-14  ...    Administrative Closure  2017\n",
              "\n",
              "[5 rows x 7 columns]"
            ]
          },
          "metadata": {
            "tags": []
          },
          "execution_count": 95
        }
      ]
    },
    {
      "cell_type": "code",
      "metadata": {
        "colab": {
          "base_uri": "https://localhost:8080/"
        },
        "id": "8zr7Gi8HmoGR",
        "outputId": "c78a617a-1295-4dd5-99e7-11469e52708e"
      },
      "source": [
        "df_internal_abuse.value_counts"
      ],
      "execution_count": null,
      "outputs": [
        {
          "output_type": "execute_result",
          "data": {
            "text/plain": [
              "<bound method DataFrame.value_counts of      filenum created_dt  ...                   finding  Year\n",
              "2    16-0101 2016-05-10  ...                       NaN  2016\n",
              "286  13-0262 2013-09-24  ...   Corrective Action Taken  2013\n",
              "394  15-0176 2015-09-23  ...    Administrative Closure  2015\n",
              "681  14-0056 2014-03-19  ...  No Corrective Action Tak  2014\n",
              "959  17-0286 2017-12-14  ...    Administrative Closure  2017\n",
              "982  15-0005 2015-01-08  ...  No Corrective Action Tak  2015\n",
              "\n",
              "[6 rows x 7 columns]>"
            ]
          },
          "metadata": {
            "tags": []
          },
          "execution_count": 96
        }
      ]
    },
    {
      "cell_type": "code",
      "metadata": {
        "colab": {
          "base_uri": "https://localhost:8080/",
          "height": 195
        },
        "id": "C9ZobGNwmxEn",
        "outputId": "f355cf32-4c66-4a80-b02a-28dfbc12e549"
      },
      "source": [
        "df_external_abuse = df[(df[\"source\"] == 'External') & (df['allegation'] == 'Abuse of Authority')]\n",
        "df_external_abuse.head()"
      ],
      "execution_count": null,
      "outputs": [
        {
          "output_type": "execute_result",
          "data": {
            "text/html": [
              "<div>\n",
              "<style scoped>\n",
              "    .dataframe tbody tr th:only-of-type {\n",
              "        vertical-align: middle;\n",
              "    }\n",
              "\n",
              "    .dataframe tbody tr th {\n",
              "        vertical-align: top;\n",
              "    }\n",
              "\n",
              "    .dataframe thead th {\n",
              "        text-align: right;\n",
              "    }\n",
              "</style>\n",
              "<table border=\"1\" class=\"dataframe\">\n",
              "  <thead>\n",
              "    <tr style=\"text-align: right;\">\n",
              "      <th></th>\n",
              "      <th>filenum</th>\n",
              "      <th>created_dt</th>\n",
              "      <th>source</th>\n",
              "      <th>allegation</th>\n",
              "      <th>incident_status</th>\n",
              "      <th>finding</th>\n",
              "      <th>Year</th>\n",
              "    </tr>\n",
              "  </thead>\n",
              "  <tbody>\n",
              "    <tr>\n",
              "      <th>194</th>\n",
              "      <td>15-0191</td>\n",
              "      <td>2015-10-22</td>\n",
              "      <td>External</td>\n",
              "      <td>Abuse of Authority</td>\n",
              "      <td>Completed</td>\n",
              "      <td>Administrative Closure</td>\n",
              "      <td>2015</td>\n",
              "    </tr>\n",
              "    <tr>\n",
              "      <th>251</th>\n",
              "      <td>13-0290</td>\n",
              "      <td>2013-10-24</td>\n",
              "      <td>External</td>\n",
              "      <td>Abuse of Authority</td>\n",
              "      <td>Completed</td>\n",
              "      <td>No Corrective Action Tak</td>\n",
              "      <td>2013</td>\n",
              "    </tr>\n",
              "    <tr>\n",
              "      <th>255</th>\n",
              "      <td>13-0291</td>\n",
              "      <td>2013-10-24</td>\n",
              "      <td>External</td>\n",
              "      <td>Abuse of Authority</td>\n",
              "      <td>Completed</td>\n",
              "      <td>Declined</td>\n",
              "      <td>2013</td>\n",
              "    </tr>\n",
              "    <tr>\n",
              "      <th>296</th>\n",
              "      <td>13-0323</td>\n",
              "      <td>2013-12-03</td>\n",
              "      <td>External</td>\n",
              "      <td>Abuse of Authority</td>\n",
              "      <td>Completed</td>\n",
              "      <td>No Corrective Action Tak</td>\n",
              "      <td>2013</td>\n",
              "    </tr>\n",
              "    <tr>\n",
              "      <th>374</th>\n",
              "      <td>13-0255</td>\n",
              "      <td>2013-09-17</td>\n",
              "      <td>External</td>\n",
              "      <td>Abuse of Authority</td>\n",
              "      <td>Completed</td>\n",
              "      <td>Exonerated</td>\n",
              "      <td>2013</td>\n",
              "    </tr>\n",
              "  </tbody>\n",
              "</table>\n",
              "</div>"
            ],
            "text/plain": [
              "     filenum created_dt  ...                   finding  Year\n",
              "194  15-0191 2015-10-22  ...    Administrative Closure  2015\n",
              "251  13-0290 2013-10-24  ...  No Corrective Action Tak  2013\n",
              "255  13-0291 2013-10-24  ...                  Declined  2013\n",
              "296  13-0323 2013-12-03  ...  No Corrective Action Tak  2013\n",
              "374  13-0255 2013-09-17  ...                Exonerated  2013\n",
              "\n",
              "[5 rows x 7 columns]"
            ]
          },
          "metadata": {
            "tags": []
          },
          "execution_count": 97
        }
      ]
    },
    {
      "cell_type": "code",
      "metadata": {
        "colab": {
          "base_uri": "https://localhost:8080/"
        },
        "id": "v6b94IXFm1op",
        "outputId": "4b24d824-66d3-4c79-9491-9b247295d527"
      },
      "source": [
        "df_external_abuse.value_counts"
      ],
      "execution_count": null,
      "outputs": [
        {
          "output_type": "execute_result",
          "data": {
            "text/plain": [
              "<bound method DataFrame.value_counts of      filenum created_dt  ...                   finding  Year\n",
              "194  15-0191 2015-10-22  ...    Administrative Closure  2015\n",
              "251  13-0290 2013-10-24  ...  No Corrective Action Tak  2013\n",
              "255  13-0291 2013-10-24  ...                  Declined  2013\n",
              "296  13-0323 2013-12-03  ...  No Corrective Action Tak  2013\n",
              "374  13-0255 2013-09-17  ...                Exonerated  2013\n",
              "389  14-0061 2014-04-03  ...  No Corrective Action Tak  2014\n",
              "424  15-0051 2015-03-26  ...                  Declined  2015\n",
              "442  15-0160 2015-09-03  ...    Administrative Closure  2015\n",
              "487  14-0012 2014-01-29  ...                 Unfounded  2014\n",
              "488  16-0032 2016-02-16  ...  No Corrective Action Tak  2016\n",
              "508  15-0113 2015-06-29  ...    Administrative Closure  2015\n",
              "581  15-0081 2015-05-07  ...   Corrective Action Taken  2015\n",
              "598  14-0044 2014-03-06  ...                 Unfounded  2014\n",
              "602  15-0061 2015-04-15  ...    Administrative Closure  2015\n",
              "664  14-0050 2014-03-14  ...                 Unfounded  2014\n",
              "737  14-0156 2014-07-21  ...  No Corrective Action Tak  2014\n",
              "812  16-0059 2016-03-14  ...  No Corrective Action Tak  2016\n",
              "831  13-0286 2013-10-18  ...  No Corrective Action Tak  2013\n",
              "837  13-0279 2013-10-11  ...  No Corrective Action Tak  2013\n",
              "840  15-0016 2015-02-10  ...                Exonerated  2015\n",
              "909  15-0159 2015-09-03  ...                  Declined  2015\n",
              "936  15-0222 2015-12-09  ...                  Declined  2015\n",
              "947  14-0066 2014-04-04  ...   Corrective Action Taken  2014\n",
              "951  16-0018 2016-01-28  ...  No Corrective Action Tak  2016\n",
              "968  13-0211 2013-08-13  ...  No Corrective Action Tak  2013\n",
              "\n",
              "[25 rows x 7 columns]>"
            ]
          },
          "metadata": {
            "tags": []
          },
          "execution_count": 98
        }
      ]
    },
    {
      "cell_type": "code",
      "metadata": {
        "colab": {
          "base_uri": "https://localhost:8080/"
        },
        "id": "S2WYDgldm56i",
        "outputId": "de440dd0-d1b5-4cb5-b83e-8ef7a97aa065"
      },
      "source": [
        "df_external_abuse_corr = df_external_abuse[(df_external_abuse[\"finding\"] == 'Corrective Action Taken')]\n",
        "print(df_external_abuse_corr.value_counts)"
      ],
      "execution_count": null,
      "outputs": [
        {
          "output_type": "stream",
          "text": [
            "<bound method DataFrame.value_counts of      filenum created_dt  ...                  finding  Year\n",
            "581  15-0081 2015-05-07  ...  Corrective Action Taken  2015\n",
            "947  14-0066 2014-04-04  ...  Corrective Action Taken  2014\n",
            "\n",
            "[2 rows x 7 columns]>\n"
          ],
          "name": "stdout"
        }
      ]
    },
    {
      "cell_type": "code",
      "metadata": {
        "colab": {
          "base_uri": "https://localhost:8080/",
          "height": 195
        },
        "id": "SH9YV_WQnSEi",
        "outputId": "fe67ee72-30a9-4d62-c91f-baafc28cf0ab"
      },
      "source": [
        "df_internal_force = df[(df[\"source\"] == 'Internal') & (df['allegation'] == 'Use of Force')]\n",
        "df_internal_force.head()"
      ],
      "execution_count": null,
      "outputs": [
        {
          "output_type": "execute_result",
          "data": {
            "text/html": [
              "<div>\n",
              "<style scoped>\n",
              "    .dataframe tbody tr th:only-of-type {\n",
              "        vertical-align: middle;\n",
              "    }\n",
              "\n",
              "    .dataframe tbody tr th {\n",
              "        vertical-align: top;\n",
              "    }\n",
              "\n",
              "    .dataframe thead th {\n",
              "        text-align: right;\n",
              "    }\n",
              "</style>\n",
              "<table border=\"1\" class=\"dataframe\">\n",
              "  <thead>\n",
              "    <tr style=\"text-align: right;\">\n",
              "      <th></th>\n",
              "      <th>filenum</th>\n",
              "      <th>created_dt</th>\n",
              "      <th>source</th>\n",
              "      <th>allegation</th>\n",
              "      <th>incident_status</th>\n",
              "      <th>finding</th>\n",
              "      <th>Year</th>\n",
              "    </tr>\n",
              "  </thead>\n",
              "  <tbody>\n",
              "    <tr>\n",
              "      <th>1</th>\n",
              "      <td>16-0101</td>\n",
              "      <td>2016-05-10</td>\n",
              "      <td>Internal</td>\n",
              "      <td>Use of Force</td>\n",
              "      <td>Active</td>\n",
              "      <td>NaN</td>\n",
              "      <td>2016</td>\n",
              "    </tr>\n",
              "    <tr>\n",
              "      <th>29</th>\n",
              "      <td>20-0090</td>\n",
              "      <td>2020-05-27</td>\n",
              "      <td>Internal</td>\n",
              "      <td>Use of Force</td>\n",
              "      <td>Active</td>\n",
              "      <td>NaN</td>\n",
              "      <td>2020</td>\n",
              "    </tr>\n",
              "    <tr>\n",
              "      <th>40</th>\n",
              "      <td>19-0065</td>\n",
              "      <td>2019-04-08</td>\n",
              "      <td>Internal</td>\n",
              "      <td>Use of Force</td>\n",
              "      <td>Active</td>\n",
              "      <td>NaN</td>\n",
              "      <td>2019</td>\n",
              "    </tr>\n",
              "    <tr>\n",
              "      <th>58</th>\n",
              "      <td>20-0103</td>\n",
              "      <td>2020-06-08</td>\n",
              "      <td>Internal</td>\n",
              "      <td>Use of Force</td>\n",
              "      <td>Active</td>\n",
              "      <td>NaN</td>\n",
              "      <td>2020</td>\n",
              "    </tr>\n",
              "    <tr>\n",
              "      <th>65</th>\n",
              "      <td>20-0106</td>\n",
              "      <td>2020-06-15</td>\n",
              "      <td>Internal</td>\n",
              "      <td>Use of Force</td>\n",
              "      <td>Active</td>\n",
              "      <td>NaN</td>\n",
              "      <td>2020</td>\n",
              "    </tr>\n",
              "  </tbody>\n",
              "</table>\n",
              "</div>"
            ],
            "text/plain": [
              "    filenum created_dt    source    allegation incident_status finding  Year\n",
              "1   16-0101 2016-05-10  Internal  Use of Force          Active     NaN  2016\n",
              "29  20-0090 2020-05-27  Internal  Use of Force          Active     NaN  2020\n",
              "40  19-0065 2019-04-08  Internal  Use of Force          Active     NaN  2019\n",
              "58  20-0103 2020-06-08  Internal  Use of Force          Active     NaN  2020\n",
              "65  20-0106 2020-06-15  Internal  Use of Force          Active     NaN  2020"
            ]
          },
          "metadata": {
            "tags": []
          },
          "execution_count": 100
        }
      ]
    },
    {
      "cell_type": "code",
      "metadata": {
        "colab": {
          "base_uri": "https://localhost:8080/"
        },
        "id": "ukdFRHuHnYoe",
        "outputId": "4e724f4b-0481-49c0-d241-848f39408467"
      },
      "source": [
        "df_internal_force.value_counts"
      ],
      "execution_count": null,
      "outputs": [
        {
          "output_type": "execute_result",
          "data": {
            "text/plain": [
              "<bound method DataFrame.value_counts of      filenum created_dt    source  ... incident_status                 finding  Year\n",
              "1    16-0101 2016-05-10  Internal  ...          Active                     NaN  2016\n",
              "29   20-0090 2020-05-27  Internal  ...          Active                     NaN  2020\n",
              "40   19-0065 2019-04-08  Internal  ...          Active                     NaN  2019\n",
              "58   20-0103 2020-06-08  Internal  ...          Active                     NaN  2020\n",
              "65   20-0106 2020-06-15  Internal  ...          Active                     NaN  2020\n",
              "71   19-0160 2019-09-10  Internal  ...          Active                     NaN  2019\n",
              "90   20-0038 2020-02-13  Internal  ...          Active                     NaN  2020\n",
              "97   20-0063 2020-03-16  Internal  ...          Active                     NaN  2020\n",
              "137  21-0011 2021-01-19  Internal  ...          Active                     NaN  2021\n",
              "192  14-0141 2014-07-01  Internal  ...       Completed              Exonerated  2014\n",
              "345  14-0025 2014-02-06  Internal  ...       Completed  Administrative Closure  2014\n",
              "483  14-0158 2014-07-23  Internal  ...       Completed              Exonerated  2014\n",
              "497  19-0177 2019-10-01  Internal  ...       Completed               Unfounded  2019\n",
              "512  16-0037 2016-02-18  Internal  ...       Completed              Exonerated  2016\n",
              "611  14-0246 2014-12-22  Internal  ...       Completed              Exonerated  2014\n",
              "745  13-0311 2013-11-19  Internal  ...       Completed              Exonerated  2013\n",
              "862  14-0163 2014-08-05  Internal  ...       Completed  Administrative Closure  2014\n",
              "915  14-0144 2014-07-02  Internal  ...       Completed              Exonerated  2014\n",
              "\n",
              "[18 rows x 7 columns]>"
            ]
          },
          "metadata": {
            "tags": []
          },
          "execution_count": 101
        }
      ]
    },
    {
      "cell_type": "code",
      "metadata": {
        "colab": {
          "base_uri": "https://localhost:8080/"
        },
        "id": "0d8xkjIWnczX",
        "outputId": "68054198-9007-4819-d5c8-995de7396de2"
      },
      "source": [
        "df_internal_force_corr = df_internal_force[(df_internal_force[\"finding\"] == 'Corrective Action Taken')]\n",
        "print(df_internal_force_corr.value_counts)"
      ],
      "execution_count": null,
      "outputs": [
        {
          "output_type": "stream",
          "text": [
            "<bound method DataFrame.value_counts of Empty DataFrame\n",
            "Columns: [filenum, created_dt, source, allegation, incident_status, finding, Year]\n",
            "Index: []>\n"
          ],
          "name": "stdout"
        }
      ]
    }
  ]
}