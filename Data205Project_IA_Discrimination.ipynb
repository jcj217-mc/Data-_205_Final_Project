{
  "nbformat": 4,
  "nbformat_minor": 0,
  "metadata": {
    "colab": {
      "name": "Data205Project_IA_Discrimination.ipynb",
      "provenance": [],
      "collapsed_sections": [],
      "authorship_tag": "ABX9TyOsWdTFtUNZiDuVjv8LrKOM",
      "include_colab_link": true
    },
    "kernelspec": {
      "name": "python3",
      "display_name": "Python 3"
    },
    "language_info": {
      "name": "python"
    }
  },
  "cells": [
    {
      "cell_type": "markdown",
      "metadata": {
        "id": "view-in-github",
        "colab_type": "text"
      },
      "source": [
        "<a href=\"https://colab.research.google.com/github/jcj217-mc/Data_205_Final_Project/blob/main/Data205Project_IA_Discrimination.ipynb\" target=\"_parent\"><img src=\"https://colab.research.google.com/assets/colab-badge.svg\" alt=\"Open In Colab\"/></a>"
      ]
    },
    {
      "cell_type": "code",
      "metadata": {
        "id": "X8SFvf0QeAZF"
      },
      "source": [
        "# import packages\n",
        "import pandas as pd\n",
        "import numpy as np\n",
        "import os \n",
        "import json"
      ],
      "execution_count": null,
      "outputs": []
    },
    {
      "cell_type": "code",
      "metadata": {
        "id": "r31PBlxOeHcR"
      },
      "source": [
        "# .json file data imported as pandas data frame\n",
        "df = pd.read_json('https://data.montgomerycountymd.gov/resource/tkbe-6sx5.json')"
      ],
      "execution_count": null,
      "outputs": []
    },
    {
      "cell_type": "code",
      "metadata": {
        "colab": {
          "base_uri": "https://localhost:8080/"
        },
        "id": "9xapq9qHedAc",
        "outputId": "7a4d3216-55cb-42ea-c98b-5c7b04a4bdf6"
      },
      "source": [
        "df.info()"
      ],
      "execution_count": null,
      "outputs": [
        {
          "output_type": "stream",
          "text": [
            "<class 'pandas.core.frame.DataFrame'>\n",
            "RangeIndex: 90 entries, 0 to 89\n",
            "Data columns (total 6 columns):\n",
            " #   Column           Non-Null Count  Dtype \n",
            "---  ------           --------------  ----- \n",
            " 0   filenum          90 non-null     object\n",
            " 1   created_dt       90 non-null     object\n",
            " 2   source           90 non-null     object\n",
            " 3   allegation       90 non-null     object\n",
            " 4   incident_status  90 non-null     object\n",
            " 5   finding          78 non-null     object\n",
            "dtypes: object(6)\n",
            "memory usage: 4.3+ KB\n"
          ],
          "name": "stdout"
        }
      ]
    },
    {
      "cell_type": "code",
      "metadata": {
        "colab": {
          "base_uri": "https://localhost:8080/",
          "height": 166
        },
        "id": "ulOtfnxVefyQ",
        "outputId": "320e94a2-a46e-4b67-fe4e-2a770a28fdd9"
      },
      "source": [
        "df.describe()"
      ],
      "execution_count": null,
      "outputs": [
        {
          "output_type": "execute_result",
          "data": {
            "text/html": [
              "<div>\n",
              "<style scoped>\n",
              "    .dataframe tbody tr th:only-of-type {\n",
              "        vertical-align: middle;\n",
              "    }\n",
              "\n",
              "    .dataframe tbody tr th {\n",
              "        vertical-align: top;\n",
              "    }\n",
              "\n",
              "    .dataframe thead th {\n",
              "        text-align: right;\n",
              "    }\n",
              "</style>\n",
              "<table border=\"1\" class=\"dataframe\">\n",
              "  <thead>\n",
              "    <tr style=\"text-align: right;\">\n",
              "      <th></th>\n",
              "      <th>filenum</th>\n",
              "      <th>created_dt</th>\n",
              "      <th>source</th>\n",
              "      <th>allegation</th>\n",
              "      <th>incident_status</th>\n",
              "      <th>finding</th>\n",
              "    </tr>\n",
              "  </thead>\n",
              "  <tbody>\n",
              "    <tr>\n",
              "      <th>count</th>\n",
              "      <td>90</td>\n",
              "      <td>90</td>\n",
              "      <td>90</td>\n",
              "      <td>90</td>\n",
              "      <td>90</td>\n",
              "      <td>78</td>\n",
              "    </tr>\n",
              "    <tr>\n",
              "      <th>unique</th>\n",
              "      <td>88</td>\n",
              "      <td>74</td>\n",
              "      <td>2</td>\n",
              "      <td>2</td>\n",
              "      <td>2</td>\n",
              "      <td>8</td>\n",
              "    </tr>\n",
              "    <tr>\n",
              "      <th>top</th>\n",
              "      <td>15-0195</td>\n",
              "      <td>2020-12-14T00:00:00.000</td>\n",
              "      <td>External</td>\n",
              "      <td>Discrimination/Harassment</td>\n",
              "      <td>Completed</td>\n",
              "      <td>Declined</td>\n",
              "    </tr>\n",
              "    <tr>\n",
              "      <th>freq</th>\n",
              "      <td>2</td>\n",
              "      <td>4</td>\n",
              "      <td>48</td>\n",
              "      <td>53</td>\n",
              "      <td>78</td>\n",
              "      <td>23</td>\n",
              "    </tr>\n",
              "  </tbody>\n",
              "</table>\n",
              "</div>"
            ],
            "text/plain": [
              "        filenum               created_dt  ... incident_status   finding\n",
              "count        90                       90  ...              90        78\n",
              "unique       88                       74  ...               2         8\n",
              "top     15-0195  2020-12-14T00:00:00.000  ...       Completed  Declined\n",
              "freq          2                        4  ...              78        23\n",
              "\n",
              "[4 rows x 6 columns]"
            ]
          },
          "metadata": {
            "tags": []
          },
          "execution_count": 4
        }
      ]
    },
    {
      "cell_type": "code",
      "metadata": {
        "colab": {
          "base_uri": "https://localhost:8080/",
          "height": 195
        },
        "id": "Vyad3UCAemeK",
        "outputId": "6c3bc9cc-56d9-4b80-e411-9fc34bb068d8"
      },
      "source": [
        "df.head()"
      ],
      "execution_count": null,
      "outputs": [
        {
          "output_type": "execute_result",
          "data": {
            "text/html": [
              "<div>\n",
              "<style scoped>\n",
              "    .dataframe tbody tr th:only-of-type {\n",
              "        vertical-align: middle;\n",
              "    }\n",
              "\n",
              "    .dataframe tbody tr th {\n",
              "        vertical-align: top;\n",
              "    }\n",
              "\n",
              "    .dataframe thead th {\n",
              "        text-align: right;\n",
              "    }\n",
              "</style>\n",
              "<table border=\"1\" class=\"dataframe\">\n",
              "  <thead>\n",
              "    <tr style=\"text-align: right;\">\n",
              "      <th></th>\n",
              "      <th>filenum</th>\n",
              "      <th>created_dt</th>\n",
              "      <th>source</th>\n",
              "      <th>allegation</th>\n",
              "      <th>incident_status</th>\n",
              "      <th>finding</th>\n",
              "    </tr>\n",
              "  </thead>\n",
              "  <tbody>\n",
              "    <tr>\n",
              "      <th>0</th>\n",
              "      <td>13-0263</td>\n",
              "      <td>2013-09-24T00:00:00.000</td>\n",
              "      <td>External</td>\n",
              "      <td>Discrimination/Harassment</td>\n",
              "      <td>Completed</td>\n",
              "      <td>Unfounded</td>\n",
              "    </tr>\n",
              "    <tr>\n",
              "      <th>1</th>\n",
              "      <td>13-0303</td>\n",
              "      <td>2013-11-07T00:00:00.000</td>\n",
              "      <td>Internal</td>\n",
              "      <td>Discrim/Race/Sex</td>\n",
              "      <td>Completed</td>\n",
              "      <td>Unfounded</td>\n",
              "    </tr>\n",
              "    <tr>\n",
              "      <th>2</th>\n",
              "      <td>14-0058</td>\n",
              "      <td>2014-03-27T00:00:00.000</td>\n",
              "      <td>Internal</td>\n",
              "      <td>Discrimination/Harassment</td>\n",
              "      <td>Completed</td>\n",
              "      <td>Administrative Closure</td>\n",
              "    </tr>\n",
              "    <tr>\n",
              "      <th>3</th>\n",
              "      <td>14-0077</td>\n",
              "      <td>2014-04-22T00:00:00.000</td>\n",
              "      <td>Internal</td>\n",
              "      <td>Discrimination/Harassment</td>\n",
              "      <td>Completed</td>\n",
              "      <td>Administrative Closure</td>\n",
              "    </tr>\n",
              "    <tr>\n",
              "      <th>4</th>\n",
              "      <td>14-0077</td>\n",
              "      <td>2014-04-22T00:00:00.000</td>\n",
              "      <td>Internal</td>\n",
              "      <td>Discrimination/Harassment</td>\n",
              "      <td>Completed</td>\n",
              "      <td>Sustained</td>\n",
              "    </tr>\n",
              "  </tbody>\n",
              "</table>\n",
              "</div>"
            ],
            "text/plain": [
              "   filenum               created_dt  ... incident_status                 finding\n",
              "0  13-0263  2013-09-24T00:00:00.000  ...       Completed               Unfounded\n",
              "1  13-0303  2013-11-07T00:00:00.000  ...       Completed               Unfounded\n",
              "2  14-0058  2014-03-27T00:00:00.000  ...       Completed  Administrative Closure\n",
              "3  14-0077  2014-04-22T00:00:00.000  ...       Completed  Administrative Closure\n",
              "4  14-0077  2014-04-22T00:00:00.000  ...       Completed               Sustained\n",
              "\n",
              "[5 rows x 6 columns]"
            ]
          },
          "metadata": {
            "tags": []
          },
          "execution_count": 5
        }
      ]
    },
    {
      "cell_type": "code",
      "metadata": {
        "colab": {
          "base_uri": "https://localhost:8080/"
        },
        "id": "ezF5WFGyeo4r",
        "outputId": "17950db2-3bcd-4d02-b0af-45eeed99a3b0"
      },
      "source": [
        "df.allegation.unique()"
      ],
      "execution_count": null,
      "outputs": [
        {
          "output_type": "execute_result",
          "data": {
            "text/plain": [
              "array(['Discrimination/Harassment', 'Discrim/Race/Sex'], dtype=object)"
            ]
          },
          "metadata": {
            "tags": []
          },
          "execution_count": 6
        }
      ]
    },
    {
      "cell_type": "code",
      "metadata": {
        "colab": {
          "base_uri": "https://localhost:8080/"
        },
        "id": "Sk3WpqV6erO2",
        "outputId": "eb1136de-ae10-4635-9667-4947036736c5"
      },
      "source": [
        "df.finding.unique()"
      ],
      "execution_count": null,
      "outputs": [
        {
          "output_type": "execute_result",
          "data": {
            "text/plain": [
              "array(['Unfounded', 'Administrative Closure', 'Sustained', 'Exonerated',\n",
              "       'Corrective Action Taken', 'No Corrective Action Tak',\n",
              "       'Insufficent Evidence', 'Declined', nan], dtype=object)"
            ]
          },
          "metadata": {
            "tags": []
          },
          "execution_count": 7
        }
      ]
    },
    {
      "cell_type": "code",
      "metadata": {
        "id": "Q7VnQb5kexVu"
      },
      "source": [
        "# Changing Date to datetime\n",
        "df.created_dt = pd.to_datetime(df.created_dt)"
      ],
      "execution_count": null,
      "outputs": []
    },
    {
      "cell_type": "code",
      "metadata": {
        "colab": {
          "base_uri": "https://localhost:8080/"
        },
        "id": "1P6sSYI8e0GU",
        "outputId": "809603d3-ab7d-47fd-d74f-ddcf4133984f"
      },
      "source": [
        "df.info()"
      ],
      "execution_count": null,
      "outputs": [
        {
          "output_type": "stream",
          "text": [
            "<class 'pandas.core.frame.DataFrame'>\n",
            "RangeIndex: 90 entries, 0 to 89\n",
            "Data columns (total 6 columns):\n",
            " #   Column           Non-Null Count  Dtype         \n",
            "---  ------           --------------  -----         \n",
            " 0   filenum          90 non-null     object        \n",
            " 1   created_dt       90 non-null     datetime64[ns]\n",
            " 2   source           90 non-null     object        \n",
            " 3   allegation       90 non-null     object        \n",
            " 4   incident_status  90 non-null     object        \n",
            " 5   finding          78 non-null     object        \n",
            "dtypes: datetime64[ns](1), object(5)\n",
            "memory usage: 4.3+ KB\n"
          ],
          "name": "stdout"
        }
      ]
    },
    {
      "cell_type": "code",
      "metadata": {
        "colab": {
          "base_uri": "https://localhost:8080/",
          "height": 77
        },
        "id": "zT1kuDqoe1in",
        "outputId": "aefceb99-2784-45a9-9d1d-ff892c5022dc"
      },
      "source": [
        "# add a column for Year\n",
        "df['Year'] = df['created_dt'].dt.year\n",
        "df.head(1)"
      ],
      "execution_count": null,
      "outputs": [
        {
          "output_type": "execute_result",
          "data": {
            "text/html": [
              "<div>\n",
              "<style scoped>\n",
              "    .dataframe tbody tr th:only-of-type {\n",
              "        vertical-align: middle;\n",
              "    }\n",
              "\n",
              "    .dataframe tbody tr th {\n",
              "        vertical-align: top;\n",
              "    }\n",
              "\n",
              "    .dataframe thead th {\n",
              "        text-align: right;\n",
              "    }\n",
              "</style>\n",
              "<table border=\"1\" class=\"dataframe\">\n",
              "  <thead>\n",
              "    <tr style=\"text-align: right;\">\n",
              "      <th></th>\n",
              "      <th>filenum</th>\n",
              "      <th>created_dt</th>\n",
              "      <th>source</th>\n",
              "      <th>allegation</th>\n",
              "      <th>incident_status</th>\n",
              "      <th>finding</th>\n",
              "      <th>Year</th>\n",
              "    </tr>\n",
              "  </thead>\n",
              "  <tbody>\n",
              "    <tr>\n",
              "      <th>0</th>\n",
              "      <td>13-0263</td>\n",
              "      <td>2013-09-24</td>\n",
              "      <td>External</td>\n",
              "      <td>Discrimination/Harassment</td>\n",
              "      <td>Completed</td>\n",
              "      <td>Unfounded</td>\n",
              "      <td>2013</td>\n",
              "    </tr>\n",
              "  </tbody>\n",
              "</table>\n",
              "</div>"
            ],
            "text/plain": [
              "   filenum created_dt    source  ... incident_status    finding  Year\n",
              "0  13-0263 2013-09-24  External  ...       Completed  Unfounded  2013\n",
              "\n",
              "[1 rows x 7 columns]"
            ]
          },
          "metadata": {
            "tags": []
          },
          "execution_count": 10
        }
      ]
    },
    {
      "cell_type": "code",
      "metadata": {
        "colab": {
          "base_uri": "https://localhost:8080/"
        },
        "id": "DplhSJIzatgN",
        "outputId": "ad0c2dc0-66c5-440c-df0a-24bafb228e3f"
      },
      "source": [
        "df.Year.min()"
      ],
      "execution_count": null,
      "outputs": [
        {
          "output_type": "execute_result",
          "data": {
            "text/plain": [
              "2013"
            ]
          },
          "metadata": {
            "tags": []
          },
          "execution_count": 34
        }
      ]
    },
    {
      "cell_type": "code",
      "metadata": {
        "colab": {
          "base_uri": "https://localhost:8080/"
        },
        "id": "YjVoK9Ilau6K",
        "outputId": "6c5f8724-6ac8-44de-8d2c-b2408a6e41cd"
      },
      "source": [
        "df.Year.max()"
      ],
      "execution_count": null,
      "outputs": [
        {
          "output_type": "execute_result",
          "data": {
            "text/plain": [
              "2021"
            ]
          },
          "metadata": {
            "tags": []
          },
          "execution_count": 35
        }
      ]
    },
    {
      "cell_type": "code",
      "metadata": {
        "colab": {
          "base_uri": "https://localhost:8080/",
          "height": 402
        },
        "id": "OLREkZ6me5-h",
        "outputId": "0cd795eb-1bf0-43c0-fbfe-f8a7374a3642"
      },
      "source": [
        "df_allegation = df.loc[:,['allegation','Year']]\n",
        "df_allegation"
      ],
      "execution_count": null,
      "outputs": [
        {
          "output_type": "execute_result",
          "data": {
            "text/html": [
              "<div>\n",
              "<style scoped>\n",
              "    .dataframe tbody tr th:only-of-type {\n",
              "        vertical-align: middle;\n",
              "    }\n",
              "\n",
              "    .dataframe tbody tr th {\n",
              "        vertical-align: top;\n",
              "    }\n",
              "\n",
              "    .dataframe thead th {\n",
              "        text-align: right;\n",
              "    }\n",
              "</style>\n",
              "<table border=\"1\" class=\"dataframe\">\n",
              "  <thead>\n",
              "    <tr style=\"text-align: right;\">\n",
              "      <th></th>\n",
              "      <th>allegation</th>\n",
              "      <th>Year</th>\n",
              "    </tr>\n",
              "  </thead>\n",
              "  <tbody>\n",
              "    <tr>\n",
              "      <th>0</th>\n",
              "      <td>Discrimination/Harassment</td>\n",
              "      <td>2013</td>\n",
              "    </tr>\n",
              "    <tr>\n",
              "      <th>1</th>\n",
              "      <td>Discrim/Race/Sex</td>\n",
              "      <td>2013</td>\n",
              "    </tr>\n",
              "    <tr>\n",
              "      <th>2</th>\n",
              "      <td>Discrimination/Harassment</td>\n",
              "      <td>2014</td>\n",
              "    </tr>\n",
              "    <tr>\n",
              "      <th>3</th>\n",
              "      <td>Discrimination/Harassment</td>\n",
              "      <td>2014</td>\n",
              "    </tr>\n",
              "    <tr>\n",
              "      <th>4</th>\n",
              "      <td>Discrimination/Harassment</td>\n",
              "      <td>2014</td>\n",
              "    </tr>\n",
              "    <tr>\n",
              "      <th>...</th>\n",
              "      <td>...</td>\n",
              "      <td>...</td>\n",
              "    </tr>\n",
              "    <tr>\n",
              "      <th>85</th>\n",
              "      <td>Discrim/Race/Sex</td>\n",
              "      <td>2021</td>\n",
              "    </tr>\n",
              "    <tr>\n",
              "      <th>86</th>\n",
              "      <td>Discrimination/Harassment</td>\n",
              "      <td>2021</td>\n",
              "    </tr>\n",
              "    <tr>\n",
              "      <th>87</th>\n",
              "      <td>Discrim/Race/Sex</td>\n",
              "      <td>2021</td>\n",
              "    </tr>\n",
              "    <tr>\n",
              "      <th>88</th>\n",
              "      <td>Discrimination/Harassment</td>\n",
              "      <td>2021</td>\n",
              "    </tr>\n",
              "    <tr>\n",
              "      <th>89</th>\n",
              "      <td>Discrim/Race/Sex</td>\n",
              "      <td>2021</td>\n",
              "    </tr>\n",
              "  </tbody>\n",
              "</table>\n",
              "<p>90 rows × 2 columns</p>\n",
              "</div>"
            ],
            "text/plain": [
              "                   allegation  Year\n",
              "0   Discrimination/Harassment  2013\n",
              "1            Discrim/Race/Sex  2013\n",
              "2   Discrimination/Harassment  2014\n",
              "3   Discrimination/Harassment  2014\n",
              "4   Discrimination/Harassment  2014\n",
              "..                        ...   ...\n",
              "85           Discrim/Race/Sex  2021\n",
              "86  Discrimination/Harassment  2021\n",
              "87           Discrim/Race/Sex  2021\n",
              "88  Discrimination/Harassment  2021\n",
              "89           Discrim/Race/Sex  2021\n",
              "\n",
              "[90 rows x 2 columns]"
            ]
          },
          "metadata": {
            "tags": []
          },
          "execution_count": 11
        }
      ]
    },
    {
      "cell_type": "code",
      "metadata": {
        "colab": {
          "base_uri": "https://localhost:8080/"
        },
        "id": "opRspXiif_cg",
        "outputId": "2a1238b2-7fc2-4c6a-fa98-dde5beac4640"
      },
      "source": [
        "df_allegation.allegation.value_counts()"
      ],
      "execution_count": null,
      "outputs": [
        {
          "output_type": "execute_result",
          "data": {
            "text/plain": [
              "Discrimination/Harassment    53\n",
              "Discrim/Race/Sex             37\n",
              "Name: allegation, dtype: int64"
            ]
          },
          "metadata": {
            "tags": []
          },
          "execution_count": 12
        }
      ]
    },
    {
      "cell_type": "code",
      "metadata": {
        "id": "9twVayg5hLWa"
      },
      "source": [
        "import numpy as np\n",
        "import pandas as pd\n",
        "from pandas import Series, DataFrame\n",
        "import matplotlib.pyplot as plt"
      ],
      "execution_count": null,
      "outputs": []
    },
    {
      "cell_type": "code",
      "metadata": {
        "colab": {
          "base_uri": "https://localhost:8080/",
          "height": 195
        },
        "id": "UnPLmK8BhfJR",
        "outputId": "435e7eb8-e415-487d-a020-1b97a2400d5e"
      },
      "source": [
        "harass_df = pd.DataFrame(df[(df['allegation']==\"Discrimination/Harassment\")])\n",
        "harass_df.head()"
      ],
      "execution_count": null,
      "outputs": [
        {
          "output_type": "execute_result",
          "data": {
            "text/html": [
              "<div>\n",
              "<style scoped>\n",
              "    .dataframe tbody tr th:only-of-type {\n",
              "        vertical-align: middle;\n",
              "    }\n",
              "\n",
              "    .dataframe tbody tr th {\n",
              "        vertical-align: top;\n",
              "    }\n",
              "\n",
              "    .dataframe thead th {\n",
              "        text-align: right;\n",
              "    }\n",
              "</style>\n",
              "<table border=\"1\" class=\"dataframe\">\n",
              "  <thead>\n",
              "    <tr style=\"text-align: right;\">\n",
              "      <th></th>\n",
              "      <th>filenum</th>\n",
              "      <th>created_dt</th>\n",
              "      <th>source</th>\n",
              "      <th>allegation</th>\n",
              "      <th>incident_status</th>\n",
              "      <th>finding</th>\n",
              "      <th>Year</th>\n",
              "    </tr>\n",
              "  </thead>\n",
              "  <tbody>\n",
              "    <tr>\n",
              "      <th>0</th>\n",
              "      <td>13-0263</td>\n",
              "      <td>2013-09-24</td>\n",
              "      <td>External</td>\n",
              "      <td>Discrimination/Harassment</td>\n",
              "      <td>Completed</td>\n",
              "      <td>Unfounded</td>\n",
              "      <td>2013</td>\n",
              "    </tr>\n",
              "    <tr>\n",
              "      <th>2</th>\n",
              "      <td>14-0058</td>\n",
              "      <td>2014-03-27</td>\n",
              "      <td>Internal</td>\n",
              "      <td>Discrimination/Harassment</td>\n",
              "      <td>Completed</td>\n",
              "      <td>Administrative Closure</td>\n",
              "      <td>2014</td>\n",
              "    </tr>\n",
              "    <tr>\n",
              "      <th>3</th>\n",
              "      <td>14-0077</td>\n",
              "      <td>2014-04-22</td>\n",
              "      <td>Internal</td>\n",
              "      <td>Discrimination/Harassment</td>\n",
              "      <td>Completed</td>\n",
              "      <td>Administrative Closure</td>\n",
              "      <td>2014</td>\n",
              "    </tr>\n",
              "    <tr>\n",
              "      <th>4</th>\n",
              "      <td>14-0077</td>\n",
              "      <td>2014-04-22</td>\n",
              "      <td>Internal</td>\n",
              "      <td>Discrimination/Harassment</td>\n",
              "      <td>Completed</td>\n",
              "      <td>Sustained</td>\n",
              "      <td>2014</td>\n",
              "    </tr>\n",
              "    <tr>\n",
              "      <th>6</th>\n",
              "      <td>14-0157</td>\n",
              "      <td>2014-07-21</td>\n",
              "      <td>External</td>\n",
              "      <td>Discrimination/Harassment</td>\n",
              "      <td>Completed</td>\n",
              "      <td>Corrective Action Taken</td>\n",
              "      <td>2014</td>\n",
              "    </tr>\n",
              "  </tbody>\n",
              "</table>\n",
              "</div>"
            ],
            "text/plain": [
              "   filenum created_dt    source  ... incident_status                  finding  Year\n",
              "0  13-0263 2013-09-24  External  ...       Completed                Unfounded  2013\n",
              "2  14-0058 2014-03-27  Internal  ...       Completed   Administrative Closure  2014\n",
              "3  14-0077 2014-04-22  Internal  ...       Completed   Administrative Closure  2014\n",
              "4  14-0077 2014-04-22  Internal  ...       Completed                Sustained  2014\n",
              "6  14-0157 2014-07-21  External  ...       Completed  Corrective Action Taken  2014\n",
              "\n",
              "[5 rows x 7 columns]"
            ]
          },
          "metadata": {
            "tags": []
          },
          "execution_count": 14
        }
      ]
    },
    {
      "cell_type": "code",
      "metadata": {
        "colab": {
          "base_uri": "https://localhost:8080/"
        },
        "id": "YObiMv_6ilL5",
        "outputId": "fdc58a19-393e-45e9-e59c-1f395844ce51"
      },
      "source": [
        "df_harass_internal = df[(df[\"allegation\"] == 'Discrimination/Harassment') & (df[\"source\"] == 'Internal')]\n",
        "df_harass_internal.value_counts"
      ],
      "execution_count": null,
      "outputs": [
        {
          "output_type": "execute_result",
          "data": {
            "text/plain": [
              "<bound method DataFrame.value_counts of     filenum created_dt  ...                   finding  Year\n",
              "2   14-0058 2014-03-27  ...    Administrative Closure  2014\n",
              "3   14-0077 2014-04-22  ...    Administrative Closure  2014\n",
              "4   14-0077 2014-04-22  ...                 Sustained  2014\n",
              "8   15-0010 2015-01-23  ...                 Sustained  2015\n",
              "13  15-0193 2015-10-26  ...  No Corrective Action Tak  2015\n",
              "14  15-0195 2015-10-26  ...                Exonerated  2015\n",
              "15  15-0195 2015-10-26  ...      Insufficent Evidence  2015\n",
              "16  15-0216 2015-12-03  ...                 Unfounded  2015\n",
              "17  15-0225 2015-12-17  ...                 Sustained  2015\n",
              "18  16-0016 2016-01-27  ...                 Sustained  2016\n",
              "21  16-0072 2016-04-11  ...  No Corrective Action Tak  2016\n",
              "22  16-0111 2016-05-23  ...      Insufficent Evidence  2016\n",
              "27  16-0321 2017-01-05  ...    Administrative Closure  2017\n",
              "28  17-0030 2017-02-06  ...      Insufficent Evidence  2017\n",
              "29  17-0034 2017-02-06  ...    Administrative Closure  2017\n",
              "31  17-0060 2017-03-01  ...      Insufficent Evidence  2017\n",
              "33  17-0085 2017-04-12  ...   Corrective Action Taken  2017\n",
              "36  17-0230 2017-10-02  ...                 Sustained  2017\n",
              "40  17-0280 2017-12-11  ...      Insufficent Evidence  2017\n",
              "42  18-0023 2018-02-09  ...    Administrative Closure  2018\n",
              "53  19-0007 2019-01-15  ...    Administrative Closure  2019\n",
              "58  19-0077 2019-04-29  ...                 Sustained  2019\n",
              "61  19-0117 2019-07-22  ...                 Unfounded  2019\n",
              "64  19-0134 2019-08-12  ...                Exonerated  2019\n",
              "65  19-0236 2019-11-26  ...                  Declined  2019\n",
              "67  20-0039 2020-02-21  ...                       NaN  2020\n",
              "69  20-0075 2020-04-16  ...                       NaN  2020\n",
              "72  20-0123 2020-07-07  ...                       NaN  2020\n",
              "81  20-0205 2020-12-14  ...                       NaN  2020\n",
              "88  21-0050 2021-03-29  ...                       NaN  2021\n",
              "\n",
              "[30 rows x 7 columns]>"
            ]
          },
          "metadata": {
            "tags": []
          },
          "execution_count": 43
        }
      ]
    },
    {
      "cell_type": "code",
      "metadata": {
        "colab": {
          "base_uri": "https://localhost:8080/",
          "height": 195
        },
        "id": "6TC6YULrkGW0",
        "outputId": "6eca7896-9a6a-459c-b250-223a5b46a30f"
      },
      "source": [
        "df_harass_external = df[(df[\"allegation\"] == 'Discrimination/Harassment') & (df[\"source\"] == 'External')]\n",
        "df_harass_external.head()"
      ],
      "execution_count": null,
      "outputs": [
        {
          "output_type": "execute_result",
          "data": {
            "text/html": [
              "<div>\n",
              "<style scoped>\n",
              "    .dataframe tbody tr th:only-of-type {\n",
              "        vertical-align: middle;\n",
              "    }\n",
              "\n",
              "    .dataframe tbody tr th {\n",
              "        vertical-align: top;\n",
              "    }\n",
              "\n",
              "    .dataframe thead th {\n",
              "        text-align: right;\n",
              "    }\n",
              "</style>\n",
              "<table border=\"1\" class=\"dataframe\">\n",
              "  <thead>\n",
              "    <tr style=\"text-align: right;\">\n",
              "      <th></th>\n",
              "      <th>filenum</th>\n",
              "      <th>created_dt</th>\n",
              "      <th>source</th>\n",
              "      <th>allegation</th>\n",
              "      <th>incident_status</th>\n",
              "      <th>finding</th>\n",
              "      <th>Year</th>\n",
              "    </tr>\n",
              "  </thead>\n",
              "  <tbody>\n",
              "    <tr>\n",
              "      <th>0</th>\n",
              "      <td>13-0263</td>\n",
              "      <td>2013-09-24</td>\n",
              "      <td>External</td>\n",
              "      <td>Discrimination/Harassment</td>\n",
              "      <td>Completed</td>\n",
              "      <td>Unfounded</td>\n",
              "      <td>2013</td>\n",
              "    </tr>\n",
              "    <tr>\n",
              "      <th>6</th>\n",
              "      <td>14-0157</td>\n",
              "      <td>2014-07-21</td>\n",
              "      <td>External</td>\n",
              "      <td>Discrimination/Harassment</td>\n",
              "      <td>Completed</td>\n",
              "      <td>Corrective Action Taken</td>\n",
              "      <td>2014</td>\n",
              "    </tr>\n",
              "    <tr>\n",
              "      <th>9</th>\n",
              "      <td>15-0016</td>\n",
              "      <td>2015-02-10</td>\n",
              "      <td>External</td>\n",
              "      <td>Discrimination/Harassment</td>\n",
              "      <td>Completed</td>\n",
              "      <td>Exonerated</td>\n",
              "      <td>2015</td>\n",
              "    </tr>\n",
              "    <tr>\n",
              "      <th>10</th>\n",
              "      <td>15-0026</td>\n",
              "      <td>2015-03-04</td>\n",
              "      <td>External</td>\n",
              "      <td>Discrimination/Harassment</td>\n",
              "      <td>Completed</td>\n",
              "      <td>No Corrective Action Tak</td>\n",
              "      <td>2015</td>\n",
              "    </tr>\n",
              "    <tr>\n",
              "      <th>11</th>\n",
              "      <td>15-0094</td>\n",
              "      <td>2015-05-27</td>\n",
              "      <td>External</td>\n",
              "      <td>Discrimination/Harassment</td>\n",
              "      <td>Completed</td>\n",
              "      <td>Insufficent Evidence</td>\n",
              "      <td>2015</td>\n",
              "    </tr>\n",
              "  </tbody>\n",
              "</table>\n",
              "</div>"
            ],
            "text/plain": [
              "    filenum created_dt  ...                   finding  Year\n",
              "0   13-0263 2013-09-24  ...                 Unfounded  2013\n",
              "6   14-0157 2014-07-21  ...   Corrective Action Taken  2014\n",
              "9   15-0016 2015-02-10  ...                Exonerated  2015\n",
              "10  15-0026 2015-03-04  ...  No Corrective Action Tak  2015\n",
              "11  15-0094 2015-05-27  ...      Insufficent Evidence  2015\n",
              "\n",
              "[5 rows x 7 columns]"
            ]
          },
          "metadata": {
            "tags": []
          },
          "execution_count": 47
        }
      ]
    },
    {
      "cell_type": "code",
      "metadata": {
        "colab": {
          "base_uri": "https://localhost:8080/"
        },
        "id": "MKaqogKRkb1S",
        "outputId": "094d553a-036f-40e0-88f4-5301aa938cd2"
      },
      "source": [
        "df_harass_external.finding.value_counts"
      ],
      "execution_count": null,
      "outputs": [
        {
          "output_type": "execute_result",
          "data": {
            "text/plain": [
              "<bound method IndexOpsMixin.value_counts of 0                    Unfounded\n",
              "6      Corrective Action Taken\n",
              "9                   Exonerated\n",
              "10    No Corrective Action Tak\n",
              "11        Insufficent Evidence\n",
              "12    No Corrective Action Tak\n",
              "24      Administrative Closure\n",
              "25                    Declined\n",
              "32    No Corrective Action Tak\n",
              "34        Insufficent Evidence\n",
              "35                    Declined\n",
              "37      Administrative Closure\n",
              "48    No Corrective Action Tak\n",
              "57                    Declined\n",
              "59                         NaN\n",
              "60                   Unfounded\n",
              "62                    Declined\n",
              "63                    Declined\n",
              "66                   Sustained\n",
              "70                    Declined\n",
              "75                         NaN\n",
              "77                         NaN\n",
              "86                    Declined\n",
              "Name: finding, dtype: object>"
            ]
          },
          "metadata": {
            "tags": []
          },
          "execution_count": 48
        }
      ]
    },
    {
      "cell_type": "code",
      "metadata": {
        "id": "i-C0fq24kqVG"
      },
      "source": [
        "df_harass_external_corrective = df[(df[\"allegation\"] == 'Discrimination/Harassment')"
      ],
      "execution_count": null,
      "outputs": []
    },
    {
      "cell_type": "code",
      "metadata": {
        "colab": {
          "base_uri": "https://localhost:8080/",
          "height": 77
        },
        "id": "i5jXwgTkkMkF",
        "outputId": "b77dc5dc-9b00-4ceb-d968-f1da88b9abbf"
      },
      "source": [
        "df_harass_external_corrective = df[(df[\"finding\"] == 'Corrective Action Taken') & (df[\"source\"] == 'External')]\n",
        "df_harass_external_corrective.head()"
      ],
      "execution_count": null,
      "outputs": [
        {
          "output_type": "execute_result",
          "data": {
            "text/html": [
              "<div>\n",
              "<style scoped>\n",
              "    .dataframe tbody tr th:only-of-type {\n",
              "        vertical-align: middle;\n",
              "    }\n",
              "\n",
              "    .dataframe tbody tr th {\n",
              "        vertical-align: top;\n",
              "    }\n",
              "\n",
              "    .dataframe thead th {\n",
              "        text-align: right;\n",
              "    }\n",
              "</style>\n",
              "<table border=\"1\" class=\"dataframe\">\n",
              "  <thead>\n",
              "    <tr style=\"text-align: right;\">\n",
              "      <th></th>\n",
              "      <th>filenum</th>\n",
              "      <th>created_dt</th>\n",
              "      <th>source</th>\n",
              "      <th>allegation</th>\n",
              "      <th>incident_status</th>\n",
              "      <th>finding</th>\n",
              "      <th>Year</th>\n",
              "    </tr>\n",
              "  </thead>\n",
              "  <tbody>\n",
              "    <tr>\n",
              "      <th>6</th>\n",
              "      <td>14-0157</td>\n",
              "      <td>2014-07-21</td>\n",
              "      <td>External</td>\n",
              "      <td>Discrimination/Harassment</td>\n",
              "      <td>Completed</td>\n",
              "      <td>Corrective Action Taken</td>\n",
              "      <td>2014</td>\n",
              "    </tr>\n",
              "  </tbody>\n",
              "</table>\n",
              "</div>"
            ],
            "text/plain": [
              "   filenum created_dt    source  ... incident_status                  finding  Year\n",
              "6  14-0157 2014-07-21  External  ...       Completed  Corrective Action Taken  2014\n",
              "\n",
              "[1 rows x 7 columns]"
            ]
          },
          "metadata": {
            "tags": []
          },
          "execution_count": 50
        }
      ]
    },
    {
      "cell_type": "code",
      "metadata": {
        "colab": {
          "base_uri": "https://localhost:8080/"
        },
        "id": "mHn0QiI6jwsn",
        "outputId": "244b6648-60e2-4d56-874d-2ab6895b4468"
      },
      "source": [
        "df_harass_internal_corrective = df[(df[\"finding\"] == 'Corrective Action Taken')]\n",
        "df_harass_internal_corrective.value_counts"
      ],
      "execution_count": null,
      "outputs": [
        {
          "output_type": "execute_result",
          "data": {
            "text/plain": [
              "<bound method DataFrame.value_counts of     filenum created_dt    source  ... incident_status                  finding  Year\n",
              "6   14-0157 2014-07-21  External  ...       Completed  Corrective Action Taken  2014\n",
              "33  17-0085 2017-04-12  Internal  ...       Completed  Corrective Action Taken  2017\n",
              "\n",
              "[2 rows x 7 columns]>"
            ]
          },
          "metadata": {
            "tags": []
          },
          "execution_count": 44
        }
      ]
    },
    {
      "cell_type": "code",
      "metadata": {
        "id": "SWvhu7LwhqAC"
      },
      "source": [
        "Race_Sex_df = pd.DataFrame(df[(df['allegation']==\"Discrim/Race/Sex\")])"
      ],
      "execution_count": null,
      "outputs": []
    },
    {
      "cell_type": "code",
      "metadata": {
        "colab": {
          "base_uri": "https://localhost:8080/",
          "height": 313
        },
        "id": "ATji0pFIgPpg",
        "outputId": "517c72d0-58bc-44ff-b5da-6072d6931717"
      },
      "source": [
        "#PLOT 1 Average Bond Amount between race & gender\n",
        "\n",
        "labels = df.Year\n",
        "Harass = harass_df.allegation.count()\n",
        "Race_Sex = Race_Sex_df.allegation.count()\n",
        "\n",
        "x = np.arange(len(labels))  # the label locations\n",
        "width = 0.35  # the width of the bars\n",
        "\n",
        "fig, ax = plt.subplots()\n",
        "rects1 = ax.bar(x - width/2, Harass, width, label='Harassment',color='green', alpha = 0.5)\n",
        "rects2= ax.bar(x + width/2, Race_Sex, width, label='Race_Sex_Discrimination', color='lightblue')\n",
        "\n",
        "# Add some text for labels, title and custom x-axis tick labels, etc.\n",
        "ax.set_ylabel('Total Processed')\n",
        "ax.set_title('Comparing Release versus Committment')\n",
        "ax.set_xticks(x)\n",
        "ax.set_xticklabels(labels)\n",
        "ax.legend()\n",
        "\n",
        "fig.tight_layout()\n",
        "plt.xticks(rotation=90)\n",
        "plt.show()"
      ],
      "execution_count": null,
      "outputs": [
        {
          "output_type": "display_data",
          "data": {
            "image/png": "[encoded data removed]",
            "text/plain": [
              "<Figure size 432x288 with 1 Axes>"
            ]
          },
          "metadata": {
            "tags": [],
            "needs_background": "light"
          }
        }
      ]
    },
    {
      "cell_type": "code",
      "metadata": {
        "colab": {
          "base_uri": "https://localhost:8080/",
          "height": 297
        },
        "id": "o5yo_bz2im-e",
        "outputId": "41aa1d12-6026-45ac-cdf7-41fe6467f8ee"
      },
      "source": [
        "plt.hist(df.allegation, facecolor='green', color = 'black', alpha=0.5, bins = 3 )\n",
        "plt.title('IA Investigation Allegation')\n",
        "plt.xlabel('Source')\n",
        "plt.ylabel('Frequency')\n",
        "plt.tight_layout()\n",
        "plt.show()"
      ],
      "execution_count": null,
      "outputs": [
        {
          "output_type": "display_data",
          "data": {
            "image/png": "[encoded data removed]",
            "text/plain": [
              "<Figure size 432x288 with 1 Axes>"
            ]
          },
          "metadata": {
            "tags": [],
            "needs_background": "light"
          }
        }
      ]
    },
    {
      "cell_type": "code",
      "metadata": {
        "colab": {
          "base_uri": "https://localhost:8080/",
          "height": 297
        },
        "id": "Ud24avFditxd",
        "outputId": "4e394615-f70b-4413-e42c-6c36d68fd038"
      },
      "source": [
        "plt.hist(df.Year, facecolor='green', color = 'black', alpha=0.5, bins = 18 )\n",
        "plt.title('IA Investigation Discrimination Allegations by Year')\n",
        "plt.xlabel('Year')\n",
        "plt.ylabel('Frequency')\n",
        "plt.tight_layout()\n",
        "\n",
        "plt.savefig('IA_discrim_year.png', dpi=300, bbox_inches = 'tight')\n",
        "plt.show()"
      ],
      "execution_count": null,
      "outputs": [
        {
          "output_type": "display_data",
          "data": {
            "image/png": "[encoded data removed]",
            "text/plain": [
              "<Figure size 432x288 with 1 Axes>"
            ]
          },
          "metadata": {
            "tags": [],
            "needs_background": "light"
          }
        }
      ]
    },
    {
      "cell_type": "code",
      "metadata": {
        "colab": {
          "base_uri": "https://localhost:8080/"
        },
        "id": "95gK8AmXk2SH",
        "outputId": "ed8547f2-67d7-4c48-c576-f4dd17d66f10"
      },
      "source": [
        "df_harassfinding = df.finding.value_counts()\n",
        "df_harassfinding"
      ],
      "execution_count": null,
      "outputs": [
        {
          "output_type": "execute_result",
          "data": {
            "text/plain": [
              "Declined                    23\n",
              "Administrative Closure      12\n",
              "No Corrective Action Tak    10\n",
              "Unfounded                   10\n",
              "Insufficent Evidence         8\n",
              "Sustained                    8\n",
              "Exonerated                   5\n",
              "Corrective Action Taken      2\n",
              "Name: finding, dtype: int64"
            ]
          },
          "metadata": {
            "tags": []
          },
          "execution_count": 19
        }
      ]
    },
    {
      "cell_type": "code",
      "metadata": {
        "id": "18RSkKIVlXwc"
      },
      "source": [
        "# Successfully creating excel sheet with cell output\n",
        "df_harassfinding.to_excel(\"./harassfindingdf.xlsx\")"
      ],
      "execution_count": null,
      "outputs": []
    },
    {
      "cell_type": "code",
      "metadata": {
        "id": "GpxCSbTnlzr7"
      },
      "source": [
        "df_harassfinding = pd.read_csv('harassfindingdf.csv')"
      ],
      "execution_count": null,
      "outputs": []
    },
    {
      "cell_type": "code",
      "metadata": {
        "colab": {
          "base_uri": "https://localhost:8080/",
          "height": 407
        },
        "id": "HqhC2qyAj8iq",
        "outputId": "d9dfadc2-f099-444c-bda2-2d7b09209645"
      },
      "source": [
        "plt.bar(df_harassfinding.Finding, df_harassfinding.Count, facecolor='navy', alpha=0.5, )\n",
        "plt.title('IA Discrimination Investigation Findings')\n",
        "plt.xlabel('Finding')\n",
        "plt.ylabel('Frequency')\n",
        "plt.xticks(rotation=90)\n",
        "plt.savefig('Discrim_findings.png', dpi=300, bbox_inches = 'tight')\n",
        "\n",
        "plt.show()"
      ],
      "execution_count": null,
      "outputs": [
        {
          "output_type": "display_data",
          "data": {
            "image/png": "[encoded data removed]",
            "text/plain": [
              "<Figure size 432x288 with 1 Axes>"
            ]
          },
          "metadata": {
            "tags": [],
            "needs_background": "light"
          }
        }
      ]
    },
    {
      "cell_type": "code",
      "metadata": {
        "colab": {
          "base_uri": "https://localhost:8080/",
          "height": 297
        },
        "id": "uppmtEQqoZ5K",
        "outputId": "ebe0600e-262d-4f95-8d2b-a548f45983f8"
      },
      "source": [
        "plt.hist(df.source, facecolor='green', color = 'black', alpha=0.5, bins = 3 )\n",
        "plt.title('IA Investigation Discrimination Allegations by Year')\n",
        "plt.xlabel('Source')\n",
        "plt.ylabel('Frequency')\n",
        "plt.tight_layout()\n",
        "plt.show()"
      ],
      "execution_count": null,
      "outputs": [
        {
          "output_type": "display_data",
          "data": {
            "image/png": "[encoded data removed]",
            "text/plain": [
              "<Figure size 432x288 with 1 Axes>"
            ]
          },
          "metadata": {
            "tags": [],
            "needs_background": "light"
          }
        }
      ]
    },
    {
      "cell_type": "code",
      "metadata": {
        "colab": {
          "base_uri": "https://localhost:8080/"
        },
        "id": "fse6_U70_R3p",
        "outputId": "93eb08d6-ce11-4136-a257-35fc8971afb2"
      },
      "source": [
        "df.source.value_counts()"
      ],
      "execution_count": null,
      "outputs": [
        {
          "output_type": "execute_result",
          "data": {
            "text/plain": [
              "External    48\n",
              "Internal    42\n",
              "Name: source, dtype: int64"
            ]
          },
          "metadata": {
            "tags": []
          },
          "execution_count": 26
        }
      ]
    },
    {
      "cell_type": "code",
      "metadata": {
        "colab": {
          "base_uri": "https://localhost:8080/"
        },
        "id": "UiKt5JNS_VVr",
        "outputId": "652f0882-c35b-489c-c459-686947f04bd6"
      },
      "source": [
        "47+42"
      ],
      "execution_count": null,
      "outputs": [
        {
          "output_type": "execute_result",
          "data": {
            "text/plain": [
              "89"
            ]
          },
          "metadata": {
            "tags": []
          },
          "execution_count": 27
        }
      ]
    },
    {
      "cell_type": "code",
      "metadata": {
        "colab": {
          "base_uri": "https://localhost:8080/"
        },
        "id": "C0N6u1cq_Wya",
        "outputId": "166000a6-fbea-414d-eeb8-a5691d66f6d6"
      },
      "source": [
        "47/89 *100"
      ],
      "execution_count": null,
      "outputs": [
        {
          "output_type": "execute_result",
          "data": {
            "text/plain": [
              "52.80898876404494"
            ]
          },
          "metadata": {
            "tags": []
          },
          "execution_count": 28
        }
      ]
    },
    {
      "cell_type": "code",
      "metadata": {
        "colab": {
          "base_uri": "https://localhost:8080/"
        },
        "id": "JoWWxQd2_ZbS",
        "outputId": "a9e7c58c-e17e-48cd-982b-8c7b5cc3c9aa"
      },
      "source": [
        "42/89 *100"
      ],
      "execution_count": null,
      "outputs": [
        {
          "output_type": "execute_result",
          "data": {
            "text/plain": [
              "47.19101123595505"
            ]
          },
          "metadata": {
            "tags": []
          },
          "execution_count": 29
        }
      ]
    }
  ]
}