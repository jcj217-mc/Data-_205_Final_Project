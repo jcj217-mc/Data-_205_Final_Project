{
  "nbformat": 4,
  "nbformat_minor": 0,
  "metadata": {
    "colab": {
      "name": "Data 205_Project_Part I_detention_json.ipynb",
      "provenance": [],
      "collapsed_sections": [],
      "authorship_tag": "ABX9TyOPowFyEpejr0w3spbbF8/i",
      "include_colab_link": true
    },
    "kernelspec": {
      "name": "python3",
      "display_name": "Python 3"
    },
    "language_info": {
      "name": "python"
    }
  },
  "cells": [
    {
      "cell_type": "markdown",
      "metadata": {
        "id": "view-in-github",
        "colab_type": "text"
      },
      "source": [
        "<a href=\"https://colab.research.google.com/github/jcj217-mc/Data_205_Final_Project/blob/main/Data_205_Project_Part_I_detention_json.ipynb\" target=\"_parent\"><img src=\"https://colab.research.google.com/assets/colab-badge.svg\" alt=\"Open In Colab\"/></a>"
      ]
    },
    {
      "cell_type": "code",
      "metadata": {
        "id": "1d9jbuI7Ht3c"
      },
      "source": [
        "# import packages\n",
        "import pandas as pd\n",
        "import numpy as np\n",
        "import os \n",
        "import json"
      ],
      "execution_count": 1,
      "outputs": []
    },
    {
      "cell_type": "code",
      "metadata": {
        "id": "oXBQBLhYH6gw"
      },
      "source": [
        "# tab-separated data into pandas data frame.\n",
        "df = pd.read_json('https://data.montgomerycountymd.gov/resource/gknn-vrfa.json')"
      ],
      "execution_count": 2,
      "outputs": []
    },
    {
      "cell_type": "code",
      "metadata": {
        "colab": {
          "base_uri": "https://localhost:8080/",
          "height": 484
        },
        "id": "heDbJO3WXhKc",
        "outputId": "01f884c8-fcac-4c81-fbc6-d14ae50a8d1e"
      },
      "source": [
        "df.head()"
      ],
      "execution_count": 3,
      "outputs": [
        {
          "output_type": "execute_result",
          "data": {
            "text/html": [
              "<div>\n",
              "<style scoped>\n",
              "    .dataframe tbody tr th:only-of-type {\n",
              "        vertical-align: middle;\n",
              "    }\n",
              "\n",
              "    .dataframe tbody tr th {\n",
              "        vertical-align: top;\n",
              "    }\n",
              "\n",
              "    .dataframe thead th {\n",
              "        text-align: right;\n",
              "    }\n",
              "</style>\n",
              "<table border=\"1\" class=\"dataframe\">\n",
              "  <thead>\n",
              "    <tr style=\"text-align: right;\">\n",
              "      <th></th>\n",
              "      <th>month_year</th>\n",
              "      <th>detention_services</th>\n",
              "      <th>detention_services_and_community_corrections_names</th>\n",
              "      <th>category</th>\n",
              "      <th>average_daily_population</th>\n",
              "    </tr>\n",
              "  </thead>\n",
              "  <tbody>\n",
              "    <tr>\n",
              "      <th>0</th>\n",
              "      <td>2021-04-01T00:00:00.000</td>\n",
              "      <td>ACS</td>\n",
              "      <td>Alternative Community Services</td>\n",
              "      <td>Criminal Justice Clients under Pre-Trial Services</td>\n",
              "      <td>280</td>\n",
              "    </tr>\n",
              "    <tr>\n",
              "      <th>1</th>\n",
              "      <td>2021-04-01T00:00:00.000</td>\n",
              "      <td>PTSU</td>\n",
              "      <td>Pre-Trial Supervision Unit</td>\n",
              "      <td>Criminal Justice Clients under Pre-Trial Services</td>\n",
              "      <td>938</td>\n",
              "    </tr>\n",
              "    <tr>\n",
              "      <th>2</th>\n",
              "      <td>2021-04-01T00:00:00.000</td>\n",
              "      <td>PRRS</td>\n",
              "      <td>Pre-Release and Re-Entry Services</td>\n",
              "      <td>Inmates in DOCR Custody</td>\n",
              "      <td>0</td>\n",
              "    </tr>\n",
              "    <tr>\n",
              "      <th>3</th>\n",
              "      <td>2021-04-01T00:00:00.000</td>\n",
              "      <td>MCCF</td>\n",
              "      <td>Montgomery County Correctional Facility</td>\n",
              "      <td>Inmates in DOCR Custody</td>\n",
              "      <td>538</td>\n",
              "    </tr>\n",
              "    <tr>\n",
              "      <th>4</th>\n",
              "      <td>2021-04-01T00:00:00.000</td>\n",
              "      <td>MCDC</td>\n",
              "      <td>Montgomery County Detention Center</td>\n",
              "      <td>Inmates in DOCR Custody</td>\n",
              "      <td>46</td>\n",
              "    </tr>\n",
              "  </tbody>\n",
              "</table>\n",
              "</div>"
            ],
            "text/plain": [
              "                month_year  ... average_daily_population\n",
              "0  2021-04-01T00:00:00.000  ...                      280\n",
              "1  2021-04-01T00:00:00.000  ...                      938\n",
              "2  2021-04-01T00:00:00.000  ...                        0\n",
              "3  2021-04-01T00:00:00.000  ...                      538\n",
              "4  2021-04-01T00:00:00.000  ...                       46\n",
              "\n",
              "[5 rows x 5 columns]"
            ]
          },
          "metadata": {
            "tags": []
          },
          "execution_count": 3
        }
      ]
    },
    {
      "cell_type": "code",
      "metadata": {
        "colab": {
          "base_uri": "https://localhost:8080/"
        },
        "id": "R5kbamhzZNOw",
        "outputId": "5f3638a7-0522-47df-d381-b996376502b2"
      },
      "source": [
        "# check dataframe type\n",
        "type(df)"
      ],
      "execution_count": 4,
      "outputs": [
        {
          "output_type": "execute_result",
          "data": {
            "text/plain": [
              "pandas.core.frame.DataFrame"
            ]
          },
          "metadata": {
            "tags": []
          },
          "execution_count": 4
        }
      ]
    },
    {
      "cell_type": "code",
      "metadata": {
        "colab": {
          "base_uri": "https://localhost:8080/",
          "height": 296
        },
        "id": "xqHcdNY0YKnx",
        "outputId": "446de4ab-2ad6-4fa7-ed7a-1c2a907c9ab7"
      },
      "source": [
        "# change column names\n",
        "df_1 = df.rename(columns = {\"month_year\": \"Date\", \"detention_services\":\"DSCC Abbr.\", \"detention_services_and_community_corrections_names\":\"DSCC Names\", \"average_daily_population\" : \"Avg. Daily Pop.\"})\n",
        "df_1.head()"
      ],
      "execution_count": 5,
      "outputs": [
        {
          "output_type": "execute_result",
          "data": {
            "text/html": [
              "<div>\n",
              "<style scoped>\n",
              "    .dataframe tbody tr th:only-of-type {\n",
              "        vertical-align: middle;\n",
              "    }\n",
              "\n",
              "    .dataframe tbody tr th {\n",
              "        vertical-align: top;\n",
              "    }\n",
              "\n",
              "    .dataframe thead th {\n",
              "        text-align: right;\n",
              "    }\n",
              "</style>\n",
              "<table border=\"1\" class=\"dataframe\">\n",
              "  <thead>\n",
              "    <tr style=\"text-align: right;\">\n",
              "      <th></th>\n",
              "      <th>Date</th>\n",
              "      <th>DSCC Abbr.</th>\n",
              "      <th>DSCC Names</th>\n",
              "      <th>category</th>\n",
              "      <th>Avg. Daily Pop.</th>\n",
              "    </tr>\n",
              "  </thead>\n",
              "  <tbody>\n",
              "    <tr>\n",
              "      <th>0</th>\n",
              "      <td>2021-04-01T00:00:00.000</td>\n",
              "      <td>ACS</td>\n",
              "      <td>Alternative Community Services</td>\n",
              "      <td>Criminal Justice Clients under Pre-Trial Services</td>\n",
              "      <td>280</td>\n",
              "    </tr>\n",
              "    <tr>\n",
              "      <th>1</th>\n",
              "      <td>2021-04-01T00:00:00.000</td>\n",
              "      <td>PTSU</td>\n",
              "      <td>Pre-Trial Supervision Unit</td>\n",
              "      <td>Criminal Justice Clients under Pre-Trial Services</td>\n",
              "      <td>938</td>\n",
              "    </tr>\n",
              "    <tr>\n",
              "      <th>2</th>\n",
              "      <td>2021-04-01T00:00:00.000</td>\n",
              "      <td>PRRS</td>\n",
              "      <td>Pre-Release and Re-Entry Services</td>\n",
              "      <td>Inmates in DOCR Custody</td>\n",
              "      <td>0</td>\n",
              "    </tr>\n",
              "    <tr>\n",
              "      <th>3</th>\n",
              "      <td>2021-04-01T00:00:00.000</td>\n",
              "      <td>MCCF</td>\n",
              "      <td>Montgomery County Correctional Facility</td>\n",
              "      <td>Inmates in DOCR Custody</td>\n",
              "      <td>538</td>\n",
              "    </tr>\n",
              "    <tr>\n",
              "      <th>4</th>\n",
              "      <td>2021-04-01T00:00:00.000</td>\n",
              "      <td>MCDC</td>\n",
              "      <td>Montgomery County Detention Center</td>\n",
              "      <td>Inmates in DOCR Custody</td>\n",
              "      <td>46</td>\n",
              "    </tr>\n",
              "  </tbody>\n",
              "</table>\n",
              "</div>"
            ],
            "text/plain": [
              "                      Date  ... Avg. Daily Pop.\n",
              "0  2021-04-01T00:00:00.000  ...             280\n",
              "1  2021-04-01T00:00:00.000  ...             938\n",
              "2  2021-04-01T00:00:00.000  ...               0\n",
              "3  2021-04-01T00:00:00.000  ...             538\n",
              "4  2021-04-01T00:00:00.000  ...              46\n",
              "\n",
              "[5 rows x 5 columns]"
            ]
          },
          "metadata": {
            "tags": []
          },
          "execution_count": 5
        }
      ]
    },
    {
      "cell_type": "code",
      "metadata": {
        "colab": {
          "base_uri": "https://localhost:8080/"
        },
        "id": "AjL-HLvKaEY_",
        "outputId": "3c4c90bf-f222-4be7-f589-9cbb17f78012"
      },
      "source": [
        "# Stripping time but this strip does not remain in further code\n",
        "df_1['Date'].str.rstrip('T00:00:00.000')"
      ],
      "execution_count": 6,
      "outputs": [
        {
          "output_type": "execute_result",
          "data": {
            "text/plain": [
              "0      2021-04-01\n",
              "1      2021-04-01\n",
              "2      2021-04-01\n",
              "3      2021-04-01\n",
              "4      2021-04-01\n",
              "          ...    \n",
              "451    2015-01-01\n",
              "452    2015-01-01\n",
              "453    2015-01-01\n",
              "454    2015-01-01\n",
              "455    2015-01-01\n",
              "Name: Date, Length: 456, dtype: object"
            ]
          },
          "metadata": {
            "tags": []
          },
          "execution_count": 6
        }
      ]
    },
    {
      "cell_type": "code",
      "metadata": {
        "colab": {
          "base_uri": "https://localhost:8080/"
        },
        "id": "eH0gD6p8aT7m",
        "outputId": "e86a2245-2746-4d24-8673-7bc09257fb9f"
      },
      "source": [
        "# Checking data types for each column\n",
        "print(df_1.dtypes)"
      ],
      "execution_count": 7,
      "outputs": [
        {
          "output_type": "stream",
          "text": [
            "Date               object\n",
            "DSCC Abbr.         object\n",
            "DSCC Names         object\n",
            "category           object\n",
            "Avg. Daily Pop.     int64\n",
            "dtype: object\n"
          ],
          "name": "stdout"
        }
      ]
    },
    {
      "cell_type": "code",
      "metadata": {
        "colab": {
          "base_uri": "https://localhost:8080/"
        },
        "id": "qFXF_8z1aV-K",
        "outputId": "6a5b3de1-e04c-45fc-f91d-1b96ce46a583"
      },
      "source": [
        "#Checking Shape\n",
        "print(df_1.shape)"
      ],
      "execution_count": 8,
      "outputs": [
        {
          "output_type": "stream",
          "text": [
            "(456, 5)\n"
          ],
          "name": "stdout"
        }
      ]
    },
    {
      "cell_type": "code",
      "metadata": {
        "colab": {
          "base_uri": "https://localhost:8080/",
          "height": 284
        },
        "id": "R7uGn81cacFo",
        "outputId": "28aad1f9-4a79-4374-f368-558896c31855"
      },
      "source": [
        "# Describe\n",
        "df_1.describe()"
      ],
      "execution_count": 9,
      "outputs": [
        {
          "output_type": "execute_result",
          "data": {
            "text/html": [
              "<div>\n",
              "<style scoped>\n",
              "    .dataframe tbody tr th:only-of-type {\n",
              "        vertical-align: middle;\n",
              "    }\n",
              "\n",
              "    .dataframe tbody tr th {\n",
              "        vertical-align: top;\n",
              "    }\n",
              "\n",
              "    .dataframe thead th {\n",
              "        text-align: right;\n",
              "    }\n",
              "</style>\n",
              "<table border=\"1\" class=\"dataframe\">\n",
              "  <thead>\n",
              "    <tr style=\"text-align: right;\">\n",
              "      <th></th>\n",
              "      <th>Avg. Daily Pop.</th>\n",
              "    </tr>\n",
              "  </thead>\n",
              "  <tbody>\n",
              "    <tr>\n",
              "      <th>count</th>\n",
              "      <td>456.000000</td>\n",
              "    </tr>\n",
              "    <tr>\n",
              "      <th>mean</th>\n",
              "      <td>372.677632</td>\n",
              "    </tr>\n",
              "    <tr>\n",
              "      <th>std</th>\n",
              "      <td>292.716529</td>\n",
              "    </tr>\n",
              "    <tr>\n",
              "      <th>min</th>\n",
              "      <td>0.000000</td>\n",
              "    </tr>\n",
              "    <tr>\n",
              "      <th>25%</th>\n",
              "      <td>106.500000</td>\n",
              "    </tr>\n",
              "    <tr>\n",
              "      <th>50%</th>\n",
              "      <td>225.000000</td>\n",
              "    </tr>\n",
              "    <tr>\n",
              "      <th>75%</th>\n",
              "      <td>626.250000</td>\n",
              "    </tr>\n",
              "    <tr>\n",
              "      <th>max</th>\n",
              "      <td>1025.000000</td>\n",
              "    </tr>\n",
              "  </tbody>\n",
              "</table>\n",
              "</div>"
            ],
            "text/plain": [
              "       Avg. Daily Pop.\n",
              "count       456.000000\n",
              "mean        372.677632\n",
              "std         292.716529\n",
              "min           0.000000\n",
              "25%         106.500000\n",
              "50%         225.000000\n",
              "75%         626.250000\n",
              "max        1025.000000"
            ]
          },
          "metadata": {
            "tags": []
          },
          "execution_count": 9
        }
      ]
    },
    {
      "cell_type": "code",
      "metadata": {
        "colab": {
          "base_uri": "https://localhost:8080/",
          "height": 402
        },
        "id": "hjuhsY6dagMx",
        "outputId": "cefb4c4f-675b-4725-d242-155517bd8922"
      },
      "source": [
        "# Check null \n",
        "df_1.isnull()"
      ],
      "execution_count": 10,
      "outputs": [
        {
          "output_type": "execute_result",
          "data": {
            "text/html": [
              "<div>\n",
              "<style scoped>\n",
              "    .dataframe tbody tr th:only-of-type {\n",
              "        vertical-align: middle;\n",
              "    }\n",
              "\n",
              "    .dataframe tbody tr th {\n",
              "        vertical-align: top;\n",
              "    }\n",
              "\n",
              "    .dataframe thead th {\n",
              "        text-align: right;\n",
              "    }\n",
              "</style>\n",
              "<table border=\"1\" class=\"dataframe\">\n",
              "  <thead>\n",
              "    <tr style=\"text-align: right;\">\n",
              "      <th></th>\n",
              "      <th>Date</th>\n",
              "      <th>DSCC Abbr.</th>\n",
              "      <th>DSCC Names</th>\n",
              "      <th>category</th>\n",
              "      <th>Avg. Daily Pop.</th>\n",
              "    </tr>\n",
              "  </thead>\n",
              "  <tbody>\n",
              "    <tr>\n",
              "      <th>0</th>\n",
              "      <td>False</td>\n",
              "      <td>False</td>\n",
              "      <td>False</td>\n",
              "      <td>False</td>\n",
              "      <td>False</td>\n",
              "    </tr>\n",
              "    <tr>\n",
              "      <th>1</th>\n",
              "      <td>False</td>\n",
              "      <td>False</td>\n",
              "      <td>False</td>\n",
              "      <td>False</td>\n",
              "      <td>False</td>\n",
              "    </tr>\n",
              "    <tr>\n",
              "      <th>2</th>\n",
              "      <td>False</td>\n",
              "      <td>False</td>\n",
              "      <td>False</td>\n",
              "      <td>False</td>\n",
              "      <td>False</td>\n",
              "    </tr>\n",
              "    <tr>\n",
              "      <th>3</th>\n",
              "      <td>False</td>\n",
              "      <td>False</td>\n",
              "      <td>False</td>\n",
              "      <td>False</td>\n",
              "      <td>False</td>\n",
              "    </tr>\n",
              "    <tr>\n",
              "      <th>4</th>\n",
              "      <td>False</td>\n",
              "      <td>False</td>\n",
              "      <td>False</td>\n",
              "      <td>False</td>\n",
              "      <td>False</td>\n",
              "    </tr>\n",
              "    <tr>\n",
              "      <th>...</th>\n",
              "      <td>...</td>\n",
              "      <td>...</td>\n",
              "      <td>...</td>\n",
              "      <td>...</td>\n",
              "      <td>...</td>\n",
              "    </tr>\n",
              "    <tr>\n",
              "      <th>451</th>\n",
              "      <td>False</td>\n",
              "      <td>False</td>\n",
              "      <td>False</td>\n",
              "      <td>False</td>\n",
              "      <td>False</td>\n",
              "    </tr>\n",
              "    <tr>\n",
              "      <th>452</th>\n",
              "      <td>False</td>\n",
              "      <td>False</td>\n",
              "      <td>False</td>\n",
              "      <td>False</td>\n",
              "      <td>False</td>\n",
              "    </tr>\n",
              "    <tr>\n",
              "      <th>453</th>\n",
              "      <td>False</td>\n",
              "      <td>False</td>\n",
              "      <td>False</td>\n",
              "      <td>False</td>\n",
              "      <td>False</td>\n",
              "    </tr>\n",
              "    <tr>\n",
              "      <th>454</th>\n",
              "      <td>False</td>\n",
              "      <td>False</td>\n",
              "      <td>False</td>\n",
              "      <td>False</td>\n",
              "      <td>False</td>\n",
              "    </tr>\n",
              "    <tr>\n",
              "      <th>455</th>\n",
              "      <td>False</td>\n",
              "      <td>False</td>\n",
              "      <td>False</td>\n",
              "      <td>False</td>\n",
              "      <td>False</td>\n",
              "    </tr>\n",
              "  </tbody>\n",
              "</table>\n",
              "<p>456 rows × 5 columns</p>\n",
              "</div>"
            ],
            "text/plain": [
              "      Date  DSCC Abbr.  DSCC Names  category  Avg. Daily Pop.\n",
              "0    False       False       False     False            False\n",
              "1    False       False       False     False            False\n",
              "2    False       False       False     False            False\n",
              "3    False       False       False     False            False\n",
              "4    False       False       False     False            False\n",
              "..     ...         ...         ...       ...              ...\n",
              "451  False       False       False     False            False\n",
              "452  False       False       False     False            False\n",
              "453  False       False       False     False            False\n",
              "454  False       False       False     False            False\n",
              "455  False       False       False     False            False\n",
              "\n",
              "[456 rows x 5 columns]"
            ]
          },
          "metadata": {
            "tags": []
          },
          "execution_count": 10
        }
      ]
    },
    {
      "cell_type": "code",
      "metadata": {
        "colab": {
          "base_uri": "https://localhost:8080/"
        },
        "id": "CwE8KqiRajLu",
        "outputId": "483414f6-077f-4ee0-c9d4-52f879f80443"
      },
      "source": [
        "# Null sum\n",
        "df_1.isnull().sum()"
      ],
      "execution_count": 11,
      "outputs": [
        {
          "output_type": "execute_result",
          "data": {
            "text/plain": [
              "Date               0\n",
              "DSCC Abbr.         0\n",
              "DSCC Names         0\n",
              "category           0\n",
              "Avg. Daily Pop.    0\n",
              "dtype: int64"
            ]
          },
          "metadata": {
            "tags": []
          },
          "execution_count": 11
        }
      ]
    },
    {
      "cell_type": "code",
      "metadata": {
        "id": "rEeEaDoqapqS"
      },
      "source": [
        "# Basic Plots with Matplotlib\n",
        "import matplotlib as mpl\n",
        "import matplotlib.pyplot as plt\n",
        "plt.style.use('classic')"
      ],
      "execution_count": 12,
      "outputs": []
    },
    {
      "cell_type": "code",
      "metadata": {
        "id": "Bg4g8VpJn1W0"
      },
      "source": [
        "# Changing Date to datetime\n",
        "df_1.Date = pd.to_datetime(df_1.Date)"
      ],
      "execution_count": 13,
      "outputs": []
    },
    {
      "cell_type": "code",
      "metadata": {
        "colab": {
          "base_uri": "https://localhost:8080/",
          "height": 586
        },
        "id": "4lB_Wq_vas8g",
        "outputId": "e5f399c3-f488-4137-841e-4bf5b0e7d2dc"
      },
      "source": [
        "# group by Month/Year\n",
        "df_1_time = df_1.groupby('Date')\n",
        "df_1_time.head()"
      ],
      "execution_count": 14,
      "outputs": [
        {
          "output_type": "execute_result",
          "data": {
            "text/html": [
              "<div>\n",
              "<style scoped>\n",
              "    .dataframe tbody tr th:only-of-type {\n",
              "        vertical-align: middle;\n",
              "    }\n",
              "\n",
              "    .dataframe tbody tr th {\n",
              "        vertical-align: top;\n",
              "    }\n",
              "\n",
              "    .dataframe thead th {\n",
              "        text-align: right;\n",
              "    }\n",
              "</style>\n",
              "<table border=\"1\" class=\"dataframe\">\n",
              "  <thead>\n",
              "    <tr style=\"text-align: right;\">\n",
              "      <th></th>\n",
              "      <th>Date</th>\n",
              "      <th>DSCC Abbr.</th>\n",
              "      <th>DSCC Names</th>\n",
              "      <th>category</th>\n",
              "      <th>Avg. Daily Pop.</th>\n",
              "    </tr>\n",
              "  </thead>\n",
              "  <tbody>\n",
              "    <tr>\n",
              "      <th>0</th>\n",
              "      <td>2021-04-01</td>\n",
              "      <td>ACS</td>\n",
              "      <td>Alternative Community Services</td>\n",
              "      <td>Criminal Justice Clients under Pre-Trial Services</td>\n",
              "      <td>280</td>\n",
              "    </tr>\n",
              "    <tr>\n",
              "      <th>1</th>\n",
              "      <td>2021-04-01</td>\n",
              "      <td>PTSU</td>\n",
              "      <td>Pre-Trial Supervision Unit</td>\n",
              "      <td>Criminal Justice Clients under Pre-Trial Services</td>\n",
              "      <td>938</td>\n",
              "    </tr>\n",
              "    <tr>\n",
              "      <th>2</th>\n",
              "      <td>2021-04-01</td>\n",
              "      <td>PRRS</td>\n",
              "      <td>Pre-Release and Re-Entry Services</td>\n",
              "      <td>Inmates in DOCR Custody</td>\n",
              "      <td>0</td>\n",
              "    </tr>\n",
              "    <tr>\n",
              "      <th>3</th>\n",
              "      <td>2021-04-01</td>\n",
              "      <td>MCCF</td>\n",
              "      <td>Montgomery County Correctional Facility</td>\n",
              "      <td>Inmates in DOCR Custody</td>\n",
              "      <td>538</td>\n",
              "    </tr>\n",
              "    <tr>\n",
              "      <th>4</th>\n",
              "      <td>2021-04-01</td>\n",
              "      <td>MCDC</td>\n",
              "      <td>Montgomery County Detention Center</td>\n",
              "      <td>Inmates in DOCR Custody</td>\n",
              "      <td>46</td>\n",
              "    </tr>\n",
              "    <tr>\n",
              "      <th>...</th>\n",
              "      <td>...</td>\n",
              "      <td>...</td>\n",
              "      <td>...</td>\n",
              "      <td>...</td>\n",
              "      <td>...</td>\n",
              "    </tr>\n",
              "    <tr>\n",
              "      <th>450</th>\n",
              "      <td>2015-01-01</td>\n",
              "      <td>PRRS</td>\n",
              "      <td>Pre-Release and Re-Entry Services</td>\n",
              "      <td>Inmates in DOCR Custody</td>\n",
              "      <td>162</td>\n",
              "    </tr>\n",
              "    <tr>\n",
              "      <th>451</th>\n",
              "      <td>2015-01-01</td>\n",
              "      <td>MCCF</td>\n",
              "      <td>Montgomery County Correctional Facility</td>\n",
              "      <td>Inmates in DOCR Custody</td>\n",
              "      <td>505</td>\n",
              "    </tr>\n",
              "    <tr>\n",
              "      <th>452</th>\n",
              "      <td>2015-01-01</td>\n",
              "      <td>ACS</td>\n",
              "      <td>Alternative Community Services</td>\n",
              "      <td>Criminal Justice Clients under Pre-Trial Services</td>\n",
              "      <td>721</td>\n",
              "    </tr>\n",
              "    <tr>\n",
              "      <th>453</th>\n",
              "      <td>2015-01-01</td>\n",
              "      <td>PTSU</td>\n",
              "      <td>Pre-Trial Supervision Unit</td>\n",
              "      <td>Criminal Justice Clients under Pre-Trial Services</td>\n",
              "      <td>718</td>\n",
              "    </tr>\n",
              "    <tr>\n",
              "      <th>454</th>\n",
              "      <td>2015-01-01</td>\n",
              "      <td>IPSA</td>\n",
              "      <td>Intervention Program for Substance Abusers</td>\n",
              "      <td>Criminal Justice Clients under Pre-Trial Services</td>\n",
              "      <td>101</td>\n",
              "    </tr>\n",
              "  </tbody>\n",
              "</table>\n",
              "<p>380 rows × 5 columns</p>\n",
              "</div>"
            ],
            "text/plain": [
              "          Date  ... Avg. Daily Pop.\n",
              "0   2021-04-01  ...             280\n",
              "1   2021-04-01  ...             938\n",
              "2   2021-04-01  ...               0\n",
              "3   2021-04-01  ...             538\n",
              "4   2021-04-01  ...              46\n",
              "..         ...  ...             ...\n",
              "450 2015-01-01  ...             162\n",
              "451 2015-01-01  ...             505\n",
              "452 2015-01-01  ...             721\n",
              "453 2015-01-01  ...             718\n",
              "454 2015-01-01  ...             101\n",
              "\n",
              "[380 rows x 5 columns]"
            ]
          },
          "metadata": {
            "tags": []
          },
          "execution_count": 14
        }
      ]
    },
    {
      "cell_type": "code",
      "metadata": {
        "colab": {
          "base_uri": "https://localhost:8080/",
          "height": 1000
        },
        "id": "EjcJHvxDbKwT",
        "outputId": "a2f399f3-4976-4377-fef8-59c053080e3c"
      },
      "source": [
        "# Arrange by DSCC Abbreviation - did not work\n",
        "df_1_abbr = df_1.groupby('DSCC Abbr.')\n",
        "df_1_abbr.head()"
      ],
      "execution_count": 15,
      "outputs": [
        {
          "output_type": "execute_result",
          "data": {
            "text/html": [
              "<div>\n",
              "<style scoped>\n",
              "    .dataframe tbody tr th:only-of-type {\n",
              "        vertical-align: middle;\n",
              "    }\n",
              "\n",
              "    .dataframe tbody tr th {\n",
              "        vertical-align: top;\n",
              "    }\n",
              "\n",
              "    .dataframe thead th {\n",
              "        text-align: right;\n",
              "    }\n",
              "</style>\n",
              "<table border=\"1\" class=\"dataframe\">\n",
              "  <thead>\n",
              "    <tr style=\"text-align: right;\">\n",
              "      <th></th>\n",
              "      <th>Date</th>\n",
              "      <th>DSCC Abbr.</th>\n",
              "      <th>DSCC Names</th>\n",
              "      <th>category</th>\n",
              "      <th>Avg. Daily Pop.</th>\n",
              "    </tr>\n",
              "  </thead>\n",
              "  <tbody>\n",
              "    <tr>\n",
              "      <th>0</th>\n",
              "      <td>2021-04-01</td>\n",
              "      <td>ACS</td>\n",
              "      <td>Alternative Community Services</td>\n",
              "      <td>Criminal Justice Clients under Pre-Trial Services</td>\n",
              "      <td>280</td>\n",
              "    </tr>\n",
              "    <tr>\n",
              "      <th>1</th>\n",
              "      <td>2021-04-01</td>\n",
              "      <td>PTSU</td>\n",
              "      <td>Pre-Trial Supervision Unit</td>\n",
              "      <td>Criminal Justice Clients under Pre-Trial Services</td>\n",
              "      <td>938</td>\n",
              "    </tr>\n",
              "    <tr>\n",
              "      <th>2</th>\n",
              "      <td>2021-04-01</td>\n",
              "      <td>PRRS</td>\n",
              "      <td>Pre-Release and Re-Entry Services</td>\n",
              "      <td>Inmates in DOCR Custody</td>\n",
              "      <td>0</td>\n",
              "    </tr>\n",
              "    <tr>\n",
              "      <th>3</th>\n",
              "      <td>2021-04-01</td>\n",
              "      <td>MCCF</td>\n",
              "      <td>Montgomery County Correctional Facility</td>\n",
              "      <td>Inmates in DOCR Custody</td>\n",
              "      <td>538</td>\n",
              "    </tr>\n",
              "    <tr>\n",
              "      <th>4</th>\n",
              "      <td>2021-04-01</td>\n",
              "      <td>MCDC</td>\n",
              "      <td>Montgomery County Detention Center</td>\n",
              "      <td>Inmates in DOCR Custody</td>\n",
              "      <td>46</td>\n",
              "    </tr>\n",
              "    <tr>\n",
              "      <th>5</th>\n",
              "      <td>2021-04-01</td>\n",
              "      <td>IPSA</td>\n",
              "      <td>Intervention Program for Substance Abusers</td>\n",
              "      <td>Criminal Justice Clients under Pre-Trial Services</td>\n",
              "      <td>67</td>\n",
              "    </tr>\n",
              "    <tr>\n",
              "      <th>6</th>\n",
              "      <td>2021-03-01</td>\n",
              "      <td>PRRS</td>\n",
              "      <td>Pre-Release and Re-Entry Services</td>\n",
              "      <td>Inmates in DOCR Custody</td>\n",
              "      <td>0</td>\n",
              "    </tr>\n",
              "    <tr>\n",
              "      <th>7</th>\n",
              "      <td>2021-03-01</td>\n",
              "      <td>MCDC</td>\n",
              "      <td>Montgomery County Detention Center</td>\n",
              "      <td>Inmates in DOCR Custody</td>\n",
              "      <td>51</td>\n",
              "    </tr>\n",
              "    <tr>\n",
              "      <th>8</th>\n",
              "      <td>2021-03-01</td>\n",
              "      <td>PTSU</td>\n",
              "      <td>Pre-Trial Supervision Unit</td>\n",
              "      <td>Criminal Justice Clients under Pre-Trial Services</td>\n",
              "      <td>946</td>\n",
              "    </tr>\n",
              "    <tr>\n",
              "      <th>9</th>\n",
              "      <td>2021-03-01</td>\n",
              "      <td>IPSA</td>\n",
              "      <td>Intervention Program for Substance Abusers</td>\n",
              "      <td>Criminal Justice Clients under Pre-Trial Services</td>\n",
              "      <td>67</td>\n",
              "    </tr>\n",
              "    <tr>\n",
              "      <th>10</th>\n",
              "      <td>2021-03-01</td>\n",
              "      <td>ACS</td>\n",
              "      <td>Alternative Community Services</td>\n",
              "      <td>Criminal Justice Clients under Pre-Trial Services</td>\n",
              "      <td>301</td>\n",
              "    </tr>\n",
              "    <tr>\n",
              "      <th>11</th>\n",
              "      <td>2021-03-01</td>\n",
              "      <td>MCCF</td>\n",
              "      <td>Montgomery County Correctional Facility</td>\n",
              "      <td>Inmates in DOCR Custody</td>\n",
              "      <td>505</td>\n",
              "    </tr>\n",
              "    <tr>\n",
              "      <th>12</th>\n",
              "      <td>2021-02-01</td>\n",
              "      <td>MCDC</td>\n",
              "      <td>Montgomery County Detention Center</td>\n",
              "      <td>Inmates in DOCR Custody</td>\n",
              "      <td>50</td>\n",
              "    </tr>\n",
              "    <tr>\n",
              "      <th>13</th>\n",
              "      <td>2021-02-01</td>\n",
              "      <td>PTSU</td>\n",
              "      <td>Pre-Trial Supervision Unit</td>\n",
              "      <td>Criminal Justice Clients under Pre-Trial Services</td>\n",
              "      <td>918</td>\n",
              "    </tr>\n",
              "    <tr>\n",
              "      <th>14</th>\n",
              "      <td>2021-02-01</td>\n",
              "      <td>MCCF</td>\n",
              "      <td>Montgomery County Correctional Facility</td>\n",
              "      <td>Inmates in DOCR Custody</td>\n",
              "      <td>485</td>\n",
              "    </tr>\n",
              "    <tr>\n",
              "      <th>15</th>\n",
              "      <td>2021-02-01</td>\n",
              "      <td>IPSA</td>\n",
              "      <td>Intervention Program for Substance Abusers</td>\n",
              "      <td>Criminal Justice Clients under Pre-Trial Services</td>\n",
              "      <td>68</td>\n",
              "    </tr>\n",
              "    <tr>\n",
              "      <th>16</th>\n",
              "      <td>2021-02-01</td>\n",
              "      <td>ACS</td>\n",
              "      <td>Alternative Community Services</td>\n",
              "      <td>Criminal Justice Clients under Pre-Trial Services</td>\n",
              "      <td>325</td>\n",
              "    </tr>\n",
              "    <tr>\n",
              "      <th>17</th>\n",
              "      <td>2021-02-01</td>\n",
              "      <td>PRRS</td>\n",
              "      <td>Pre-Release and Re-Entry Services</td>\n",
              "      <td>Inmates in DOCR Custody</td>\n",
              "      <td>0</td>\n",
              "    </tr>\n",
              "    <tr>\n",
              "      <th>18</th>\n",
              "      <td>2021-01-01</td>\n",
              "      <td>PTSU</td>\n",
              "      <td>Pre-Trial Supervision Unit</td>\n",
              "      <td>Criminal Justice Clients under Pre-Trial Services</td>\n",
              "      <td>909</td>\n",
              "    </tr>\n",
              "    <tr>\n",
              "      <th>19</th>\n",
              "      <td>2021-01-01</td>\n",
              "      <td>ACS</td>\n",
              "      <td>Alternative Community Services</td>\n",
              "      <td>Criminal Justice Clients under Pre-Trial Services</td>\n",
              "      <td>335</td>\n",
              "    </tr>\n",
              "    <tr>\n",
              "      <th>20</th>\n",
              "      <td>2021-01-01</td>\n",
              "      <td>MCCF</td>\n",
              "      <td>Montgomery County Correctional Facility</td>\n",
              "      <td>Inmates in DOCR Custody</td>\n",
              "      <td>481</td>\n",
              "    </tr>\n",
              "    <tr>\n",
              "      <th>21</th>\n",
              "      <td>2021-01-01</td>\n",
              "      <td>MCDC</td>\n",
              "      <td>Montgomery County Detention Center</td>\n",
              "      <td>Inmates in DOCR Custody</td>\n",
              "      <td>53</td>\n",
              "    </tr>\n",
              "    <tr>\n",
              "      <th>22</th>\n",
              "      <td>2021-01-01</td>\n",
              "      <td>PRRS</td>\n",
              "      <td>Pre-Release and Re-Entry Services</td>\n",
              "      <td>Inmates in DOCR Custody</td>\n",
              "      <td>0</td>\n",
              "    </tr>\n",
              "    <tr>\n",
              "      <th>23</th>\n",
              "      <td>2021-01-01</td>\n",
              "      <td>IPSA</td>\n",
              "      <td>Intervention Program for Substance Abusers</td>\n",
              "      <td>Criminal Justice Clients under Pre-Trial Services</td>\n",
              "      <td>69</td>\n",
              "    </tr>\n",
              "    <tr>\n",
              "      <th>24</th>\n",
              "      <td>2020-12-01</td>\n",
              "      <td>PRRS</td>\n",
              "      <td>Pre-Release and Re-Entry Services</td>\n",
              "      <td>Inmates in DOCR Custody</td>\n",
              "      <td>0</td>\n",
              "    </tr>\n",
              "    <tr>\n",
              "      <th>25</th>\n",
              "      <td>2020-12-01</td>\n",
              "      <td>PTSU</td>\n",
              "      <td>Pre-Trial Supervision Unit</td>\n",
              "      <td>Criminal Justice Clients under Pre-Trial Services</td>\n",
              "      <td>867</td>\n",
              "    </tr>\n",
              "    <tr>\n",
              "      <th>26</th>\n",
              "      <td>2020-12-01</td>\n",
              "      <td>ACS</td>\n",
              "      <td>Alternative Community Services</td>\n",
              "      <td>Criminal Justice Clients under Pre-Trial Services</td>\n",
              "      <td>343</td>\n",
              "    </tr>\n",
              "    <tr>\n",
              "      <th>27</th>\n",
              "      <td>2020-12-01</td>\n",
              "      <td>MCCF</td>\n",
              "      <td>Montgomery County Correctional Facility</td>\n",
              "      <td>Inmates in DOCR Custody</td>\n",
              "      <td>514</td>\n",
              "    </tr>\n",
              "    <tr>\n",
              "      <th>28</th>\n",
              "      <td>2020-12-01</td>\n",
              "      <td>IPSA</td>\n",
              "      <td>Intervention Program for Substance Abusers</td>\n",
              "      <td>Criminal Justice Clients under Pre-Trial Services</td>\n",
              "      <td>69</td>\n",
              "    </tr>\n",
              "    <tr>\n",
              "      <th>29</th>\n",
              "      <td>2020-12-01</td>\n",
              "      <td>MCDC</td>\n",
              "      <td>Montgomery County Detention Center</td>\n",
              "      <td>Inmates in DOCR Custody</td>\n",
              "      <td>47</td>\n",
              "    </tr>\n",
              "  </tbody>\n",
              "</table>\n",
              "</div>"
            ],
            "text/plain": [
              "         Date  ... Avg. Daily Pop.\n",
              "0  2021-04-01  ...             280\n",
              "1  2021-04-01  ...             938\n",
              "2  2021-04-01  ...               0\n",
              "3  2021-04-01  ...             538\n",
              "4  2021-04-01  ...              46\n",
              "5  2021-04-01  ...              67\n",
              "6  2021-03-01  ...               0\n",
              "7  2021-03-01  ...              51\n",
              "8  2021-03-01  ...             946\n",
              "9  2021-03-01  ...              67\n",
              "10 2021-03-01  ...             301\n",
              "11 2021-03-01  ...             505\n",
              "12 2021-02-01  ...              50\n",
              "13 2021-02-01  ...             918\n",
              "14 2021-02-01  ...             485\n",
              "15 2021-02-01  ...              68\n",
              "16 2021-02-01  ...             325\n",
              "17 2021-02-01  ...               0\n",
              "18 2021-01-01  ...             909\n",
              "19 2021-01-01  ...             335\n",
              "20 2021-01-01  ...             481\n",
              "21 2021-01-01  ...              53\n",
              "22 2021-01-01  ...               0\n",
              "23 2021-01-01  ...              69\n",
              "24 2020-12-01  ...               0\n",
              "25 2020-12-01  ...             867\n",
              "26 2020-12-01  ...             343\n",
              "27 2020-12-01  ...             514\n",
              "28 2020-12-01  ...              69\n",
              "29 2020-12-01  ...              47\n",
              "\n",
              "[30 rows x 5 columns]"
            ]
          },
          "metadata": {
            "tags": []
          },
          "execution_count": 15
        }
      ]
    },
    {
      "cell_type": "code",
      "metadata": {
        "colab": {
          "base_uri": "https://localhost:8080/",
          "height": 1000
        },
        "id": "4b6OdX8jbkLx",
        "outputId": "15be58ce-b445-4e6d-dcb7-db2f61adfdd2"
      },
      "source": [
        "# Arrange by DSCC Abbreviation then by sort by Date\n",
        "df_1_abbr2 = df_1.groupby('DSCC Abbr.').apply(lambda x: x.sort_values('Date'))\n",
        "df_1_abbr2.head(30)"
      ],
      "execution_count": 16,
      "outputs": [
        {
          "output_type": "execute_result",
          "data": {
            "text/html": [
              "<div>\n",
              "<style scoped>\n",
              "    .dataframe tbody tr th:only-of-type {\n",
              "        vertical-align: middle;\n",
              "    }\n",
              "\n",
              "    .dataframe tbody tr th {\n",
              "        vertical-align: top;\n",
              "    }\n",
              "\n",
              "    .dataframe thead th {\n",
              "        text-align: right;\n",
              "    }\n",
              "</style>\n",
              "<table border=\"1\" class=\"dataframe\">\n",
              "  <thead>\n",
              "    <tr style=\"text-align: right;\">\n",
              "      <th></th>\n",
              "      <th></th>\n",
              "      <th>Date</th>\n",
              "      <th>DSCC Abbr.</th>\n",
              "      <th>DSCC Names</th>\n",
              "      <th>category</th>\n",
              "      <th>Avg. Daily Pop.</th>\n",
              "    </tr>\n",
              "    <tr>\n",
              "      <th>DSCC Abbr.</th>\n",
              "      <th></th>\n",
              "      <th></th>\n",
              "      <th></th>\n",
              "      <th></th>\n",
              "      <th></th>\n",
              "      <th></th>\n",
              "    </tr>\n",
              "  </thead>\n",
              "  <tbody>\n",
              "    <tr>\n",
              "      <th rowspan=\"30\" valign=\"top\">ACS</th>\n",
              "      <th>452</th>\n",
              "      <td>2015-01-01</td>\n",
              "      <td>ACS</td>\n",
              "      <td>Alternative Community Services</td>\n",
              "      <td>Criminal Justice Clients under Pre-Trial Services</td>\n",
              "      <td>721</td>\n",
              "    </tr>\n",
              "    <tr>\n",
              "      <th>449</th>\n",
              "      <td>2015-02-01</td>\n",
              "      <td>ACS</td>\n",
              "      <td>Alternative Community Services</td>\n",
              "      <td>Criminal Justice Clients under Pre-Trial Services</td>\n",
              "      <td>738</td>\n",
              "    </tr>\n",
              "    <tr>\n",
              "      <th>439</th>\n",
              "      <td>2015-03-01</td>\n",
              "      <td>ACS</td>\n",
              "      <td>Alternative Community Services</td>\n",
              "      <td>Criminal Justice Clients under Pre-Trial Services</td>\n",
              "      <td>749</td>\n",
              "    </tr>\n",
              "    <tr>\n",
              "      <th>433</th>\n",
              "      <td>2015-04-01</td>\n",
              "      <td>ACS</td>\n",
              "      <td>Alternative Community Services</td>\n",
              "      <td>Criminal Justice Clients under Pre-Trial Services</td>\n",
              "      <td>780</td>\n",
              "    </tr>\n",
              "    <tr>\n",
              "      <th>426</th>\n",
              "      <td>2015-05-01</td>\n",
              "      <td>ACS</td>\n",
              "      <td>Alternative Community Services</td>\n",
              "      <td>Criminal Justice Clients under Pre-Trial Services</td>\n",
              "      <td>751</td>\n",
              "    </tr>\n",
              "    <tr>\n",
              "      <th>424</th>\n",
              "      <td>2015-06-01</td>\n",
              "      <td>ACS</td>\n",
              "      <td>Alternative Community Services</td>\n",
              "      <td>Criminal Justice Clients under Pre-Trial Services</td>\n",
              "      <td>699</td>\n",
              "    </tr>\n",
              "    <tr>\n",
              "      <th>414</th>\n",
              "      <td>2015-07-01</td>\n",
              "      <td>ACS</td>\n",
              "      <td>Alternative Community Services</td>\n",
              "      <td>Criminal Justice Clients under Pre-Trial Services</td>\n",
              "      <td>705</td>\n",
              "    </tr>\n",
              "    <tr>\n",
              "      <th>410</th>\n",
              "      <td>2015-08-01</td>\n",
              "      <td>ACS</td>\n",
              "      <td>Alternative Community Services</td>\n",
              "      <td>Criminal Justice Clients under Pre-Trial Services</td>\n",
              "      <td>739</td>\n",
              "    </tr>\n",
              "    <tr>\n",
              "      <th>402</th>\n",
              "      <td>2015-09-01</td>\n",
              "      <td>ACS</td>\n",
              "      <td>Alternative Community Services</td>\n",
              "      <td>Criminal Justice Clients under Pre-Trial Services</td>\n",
              "      <td>703</td>\n",
              "    </tr>\n",
              "    <tr>\n",
              "      <th>398</th>\n",
              "      <td>2015-10-01</td>\n",
              "      <td>ACS</td>\n",
              "      <td>Alternative Community Services</td>\n",
              "      <td>Criminal Justice Clients under Pre-Trial Services</td>\n",
              "      <td>758</td>\n",
              "    </tr>\n",
              "    <tr>\n",
              "      <th>393</th>\n",
              "      <td>2015-11-01</td>\n",
              "      <td>ACS</td>\n",
              "      <td>Alternative Community Services</td>\n",
              "      <td>Criminal Justice Clients under Pre-Trial Services</td>\n",
              "      <td>879</td>\n",
              "    </tr>\n",
              "    <tr>\n",
              "      <th>385</th>\n",
              "      <td>2015-12-01</td>\n",
              "      <td>ACS</td>\n",
              "      <td>Alternative Community Services</td>\n",
              "      <td>Criminal Justice Clients under Pre-Trial Services</td>\n",
              "      <td>882</td>\n",
              "    </tr>\n",
              "    <tr>\n",
              "      <th>383</th>\n",
              "      <td>2016-01-01</td>\n",
              "      <td>ACS</td>\n",
              "      <td>Alternative Community Services</td>\n",
              "      <td>Criminal Justice Clients under Pre-Trial Services</td>\n",
              "      <td>814</td>\n",
              "    </tr>\n",
              "    <tr>\n",
              "      <th>372</th>\n",
              "      <td>2016-02-01</td>\n",
              "      <td>ACS</td>\n",
              "      <td>Alternative Community Services</td>\n",
              "      <td>Criminal Justice Clients under Pre-Trial Services</td>\n",
              "      <td>838</td>\n",
              "    </tr>\n",
              "    <tr>\n",
              "      <th>367</th>\n",
              "      <td>2016-03-01</td>\n",
              "      <td>ACS</td>\n",
              "      <td>Alternative Community Services</td>\n",
              "      <td>Criminal Justice Clients under Pre-Trial Services</td>\n",
              "      <td>885</td>\n",
              "    </tr>\n",
              "    <tr>\n",
              "      <th>362</th>\n",
              "      <td>2016-04-01</td>\n",
              "      <td>ACS</td>\n",
              "      <td>Alternative Community Services</td>\n",
              "      <td>Criminal Justice Clients under Pre-Trial Services</td>\n",
              "      <td>962</td>\n",
              "    </tr>\n",
              "    <tr>\n",
              "      <th>354</th>\n",
              "      <td>2016-05-01</td>\n",
              "      <td>ACS</td>\n",
              "      <td>Alternative Community Services</td>\n",
              "      <td>Criminal Justice Clients under Pre-Trial Services</td>\n",
              "      <td>1025</td>\n",
              "    </tr>\n",
              "    <tr>\n",
              "      <th>348</th>\n",
              "      <td>2016-06-01</td>\n",
              "      <td>ACS</td>\n",
              "      <td>Alternative Community Services</td>\n",
              "      <td>Criminal Justice Clients under Pre-Trial Services</td>\n",
              "      <td>945</td>\n",
              "    </tr>\n",
              "    <tr>\n",
              "      <th>346</th>\n",
              "      <td>2016-07-01</td>\n",
              "      <td>ACS</td>\n",
              "      <td>Alternative Community Services</td>\n",
              "      <td>Criminal Justice Clients under Pre-Trial Services</td>\n",
              "      <td>933</td>\n",
              "    </tr>\n",
              "    <tr>\n",
              "      <th>341</th>\n",
              "      <td>2016-08-01</td>\n",
              "      <td>ACS</td>\n",
              "      <td>Alternative Community Services</td>\n",
              "      <td>Criminal Justice Clients under Pre-Trial Services</td>\n",
              "      <td>948</td>\n",
              "    </tr>\n",
              "    <tr>\n",
              "      <th>332</th>\n",
              "      <td>2016-09-01</td>\n",
              "      <td>ACS</td>\n",
              "      <td>Alternative Community Services</td>\n",
              "      <td>Criminal Justice Clients under Pre-Trial Services</td>\n",
              "      <td>955</td>\n",
              "    </tr>\n",
              "    <tr>\n",
              "      <th>328</th>\n",
              "      <td>2016-10-01</td>\n",
              "      <td>ACS</td>\n",
              "      <td>Alternative Community Services</td>\n",
              "      <td>Criminal Justice Clients under Pre-Trial Services</td>\n",
              "      <td>894</td>\n",
              "    </tr>\n",
              "    <tr>\n",
              "      <th>321</th>\n",
              "      <td>2016-11-01</td>\n",
              "      <td>ACS</td>\n",
              "      <td>Alternative Community Services</td>\n",
              "      <td>Criminal Justice Clients under Pre-Trial Services</td>\n",
              "      <td>804</td>\n",
              "    </tr>\n",
              "    <tr>\n",
              "      <th>314</th>\n",
              "      <td>2016-12-01</td>\n",
              "      <td>ACS</td>\n",
              "      <td>Alternative Community Services</td>\n",
              "      <td>Criminal Justice Clients under Pre-Trial Services</td>\n",
              "      <td>729</td>\n",
              "    </tr>\n",
              "    <tr>\n",
              "      <th>311</th>\n",
              "      <td>2017-01-01</td>\n",
              "      <td>ACS</td>\n",
              "      <td>Alternative Community Services</td>\n",
              "      <td>Criminal Justice Clients under Pre-Trial Services</td>\n",
              "      <td>700</td>\n",
              "    </tr>\n",
              "    <tr>\n",
              "      <th>302</th>\n",
              "      <td>2017-02-01</td>\n",
              "      <td>ACS</td>\n",
              "      <td>Alternative Community Services</td>\n",
              "      <td>Criminal Justice Clients under Pre-Trial Services</td>\n",
              "      <td>731</td>\n",
              "    </tr>\n",
              "    <tr>\n",
              "      <th>299</th>\n",
              "      <td>2017-03-01</td>\n",
              "      <td>ACS</td>\n",
              "      <td>Alternative Community Services</td>\n",
              "      <td>Criminal Justice Clients under Pre-Trial Services</td>\n",
              "      <td>703</td>\n",
              "    </tr>\n",
              "    <tr>\n",
              "      <th>291</th>\n",
              "      <td>2017-04-01</td>\n",
              "      <td>ACS</td>\n",
              "      <td>Alternative Community Services</td>\n",
              "      <td>Criminal Justice Clients under Pre-Trial Services</td>\n",
              "      <td>649</td>\n",
              "    </tr>\n",
              "    <tr>\n",
              "      <th>282</th>\n",
              "      <td>2017-05-01</td>\n",
              "      <td>ACS</td>\n",
              "      <td>Alternative Community Services</td>\n",
              "      <td>Criminal Justice Clients under Pre-Trial Services</td>\n",
              "      <td>644</td>\n",
              "    </tr>\n",
              "    <tr>\n",
              "      <th>278</th>\n",
              "      <td>2017-06-01</td>\n",
              "      <td>ACS</td>\n",
              "      <td>Alternative Community Services</td>\n",
              "      <td>Criminal Justice Clients under Pre-Trial Services</td>\n",
              "      <td>645</td>\n",
              "    </tr>\n",
              "  </tbody>\n",
              "</table>\n",
              "</div>"
            ],
            "text/plain": [
              "                     Date  ... Avg. Daily Pop.\n",
              "DSCC Abbr.                 ...                \n",
              "ACS        452 2015-01-01  ...             721\n",
              "           449 2015-02-01  ...             738\n",
              "           439 2015-03-01  ...             749\n",
              "           433 2015-04-01  ...             780\n",
              "           426 2015-05-01  ...             751\n",
              "           424 2015-06-01  ...             699\n",
              "           414 2015-07-01  ...             705\n",
              "           410 2015-08-01  ...             739\n",
              "           402 2015-09-01  ...             703\n",
              "           398 2015-10-01  ...             758\n",
              "           393 2015-11-01  ...             879\n",
              "           385 2015-12-01  ...             882\n",
              "           383 2016-01-01  ...             814\n",
              "           372 2016-02-01  ...             838\n",
              "           367 2016-03-01  ...             885\n",
              "           362 2016-04-01  ...             962\n",
              "           354 2016-05-01  ...            1025\n",
              "           348 2016-06-01  ...             945\n",
              "           346 2016-07-01  ...             933\n",
              "           341 2016-08-01  ...             948\n",
              "           332 2016-09-01  ...             955\n",
              "           328 2016-10-01  ...             894\n",
              "           321 2016-11-01  ...             804\n",
              "           314 2016-12-01  ...             729\n",
              "           311 2017-01-01  ...             700\n",
              "           302 2017-02-01  ...             731\n",
              "           299 2017-03-01  ...             703\n",
              "           291 2017-04-01  ...             649\n",
              "           282 2017-05-01  ...             644\n",
              "           278 2017-06-01  ...             645\n",
              "\n",
              "[30 rows x 5 columns]"
            ]
          },
          "metadata": {
            "tags": []
          },
          "execution_count": 16
        }
      ]
    },
    {
      "cell_type": "code",
      "metadata": {
        "colab": {
          "base_uri": "https://localhost:8080/"
        },
        "id": "RHBis25GfN3e",
        "outputId": "dc0d26f9-49d6-44fe-810f-64cf84e48771"
      },
      "source": [
        "df_1_abbr2.info()"
      ],
      "execution_count": 17,
      "outputs": [
        {
          "output_type": "stream",
          "text": [
            "<class 'pandas.core.frame.DataFrame'>\n",
            "MultiIndex: 456 entries, ('ACS', 452) to ('PTSU', 1)\n",
            "Data columns (total 5 columns):\n",
            " #   Column           Non-Null Count  Dtype         \n",
            "---  ------           --------------  -----         \n",
            " 0   Date             456 non-null    datetime64[ns]\n",
            " 1   DSCC Abbr.       456 non-null    object        \n",
            " 2   DSCC Names       456 non-null    object        \n",
            " 3   category         456 non-null    object        \n",
            " 4   Avg. Daily Pop.  456 non-null    int64         \n",
            "dtypes: datetime64[ns](1), int64(1), object(3)\n",
            "memory usage: 42.8+ KB\n"
          ],
          "name": "stdout"
        }
      ]
    },
    {
      "cell_type": "code",
      "metadata": {
        "colab": {
          "base_uri": "https://localhost:8080/",
          "height": 157
        },
        "id": "b9MHVOWZff_O",
        "outputId": "c1aa5134-ced0-4af9-8246-755a64836187"
      },
      "source": [
        "# make datetime - can also do it at dataframe level, put datetime in dictionary \n",
        "df_1_abbr2.Date = pd.to_datetime(df_1_abbr2.Date)\n",
        "df_1_abbr2.head(1)"
      ],
      "execution_count": 18,
      "outputs": [
        {
          "output_type": "execute_result",
          "data": {
            "text/html": [
              "<div>\n",
              "<style scoped>\n",
              "    .dataframe tbody tr th:only-of-type {\n",
              "        vertical-align: middle;\n",
              "    }\n",
              "\n",
              "    .dataframe tbody tr th {\n",
              "        vertical-align: top;\n",
              "    }\n",
              "\n",
              "    .dataframe thead th {\n",
              "        text-align: right;\n",
              "    }\n",
              "</style>\n",
              "<table border=\"1\" class=\"dataframe\">\n",
              "  <thead>\n",
              "    <tr style=\"text-align: right;\">\n",
              "      <th></th>\n",
              "      <th></th>\n",
              "      <th>Date</th>\n",
              "      <th>DSCC Abbr.</th>\n",
              "      <th>DSCC Names</th>\n",
              "      <th>category</th>\n",
              "      <th>Avg. Daily Pop.</th>\n",
              "    </tr>\n",
              "    <tr>\n",
              "      <th>DSCC Abbr.</th>\n",
              "      <th></th>\n",
              "      <th></th>\n",
              "      <th></th>\n",
              "      <th></th>\n",
              "      <th></th>\n",
              "      <th></th>\n",
              "    </tr>\n",
              "  </thead>\n",
              "  <tbody>\n",
              "    <tr>\n",
              "      <th>ACS</th>\n",
              "      <th>452</th>\n",
              "      <td>2015-01-01</td>\n",
              "      <td>ACS</td>\n",
              "      <td>Alternative Community Services</td>\n",
              "      <td>Criminal Justice Clients under Pre-Trial Services</td>\n",
              "      <td>721</td>\n",
              "    </tr>\n",
              "  </tbody>\n",
              "</table>\n",
              "</div>"
            ],
            "text/plain": [
              "                     Date  ... Avg. Daily Pop.\n",
              "DSCC Abbr.                 ...                \n",
              "ACS        452 2015-01-01  ...             721\n",
              "\n",
              "[1 rows x 5 columns]"
            ]
          },
          "metadata": {
            "tags": []
          },
          "execution_count": 18
        }
      ]
    },
    {
      "cell_type": "code",
      "metadata": {
        "id": "RxauttAEgsg3"
      },
      "source": [
        "# index changing code\n"
      ],
      "execution_count": 19,
      "outputs": []
    },
    {
      "cell_type": "code",
      "metadata": {
        "colab": {
          "base_uri": "https://localhost:8080/"
        },
        "id": "zA1KZH1Lf8IY",
        "outputId": "ee5ede17-65dc-4839-e77c-f7e7e9a3f32d"
      },
      "source": [
        "df_1_abbr2.info()"
      ],
      "execution_count": 20,
      "outputs": [
        {
          "output_type": "stream",
          "text": [
            "<class 'pandas.core.frame.DataFrame'>\n",
            "MultiIndex: 456 entries, ('ACS', 452) to ('PTSU', 1)\n",
            "Data columns (total 5 columns):\n",
            " #   Column           Non-Null Count  Dtype         \n",
            "---  ------           --------------  -----         \n",
            " 0   Date             456 non-null    datetime64[ns]\n",
            " 1   DSCC Abbr.       456 non-null    object        \n",
            " 2   DSCC Names       456 non-null    object        \n",
            " 3   category         456 non-null    object        \n",
            " 4   Avg. Daily Pop.  456 non-null    int64         \n",
            "dtypes: datetime64[ns](1), int64(1), object(3)\n",
            "memory usage: 42.8+ KB\n"
          ],
          "name": "stdout"
        }
      ]
    },
    {
      "cell_type": "code",
      "metadata": {
        "id": "T64bWLm7bxGA"
      },
      "source": [
        "# Simplify name\n",
        "df_2 = df_1_abbr2"
      ],
      "execution_count": 21,
      "outputs": []
    },
    {
      "cell_type": "code",
      "metadata": {
        "id": "riuedJ5Ob4tO"
      },
      "source": [
        "# Create separate columns for month day and year \n",
        "df_2.Date = pd.to_datetime(df_2.Date)"
      ],
      "execution_count": 22,
      "outputs": []
    },
    {
      "cell_type": "code",
      "metadata": {
        "colab": {
          "base_uri": "https://localhost:8080/",
          "height": 633
        },
        "id": "BywLU5c7b7Jj",
        "outputId": "8b59a7bf-5515-4b5e-e0fb-9c9bb2e298f1"
      },
      "source": [
        "df_2[['month', 'year']] = df_2.Date.apply(lambda x: pd.Series(x.strftime(\"%m, %Y\").split(\",\")))\n",
        "df_2"
      ],
      "execution_count": 23,
      "outputs": [
        {
          "output_type": "execute_result",
          "data": {
            "text/html": [
              "<div>\n",
              "<style scoped>\n",
              "    .dataframe tbody tr th:only-of-type {\n",
              "        vertical-align: middle;\n",
              "    }\n",
              "\n",
              "    .dataframe tbody tr th {\n",
              "        vertical-align: top;\n",
              "    }\n",
              "\n",
              "    .dataframe thead th {\n",
              "        text-align: right;\n",
              "    }\n",
              "</style>\n",
              "<table border=\"1\" class=\"dataframe\">\n",
              "  <thead>\n",
              "    <tr style=\"text-align: right;\">\n",
              "      <th></th>\n",
              "      <th></th>\n",
              "      <th>Date</th>\n",
              "      <th>DSCC Abbr.</th>\n",
              "      <th>DSCC Names</th>\n",
              "      <th>category</th>\n",
              "      <th>Avg. Daily Pop.</th>\n",
              "      <th>month</th>\n",
              "      <th>year</th>\n",
              "    </tr>\n",
              "    <tr>\n",
              "      <th>DSCC Abbr.</th>\n",
              "      <th></th>\n",
              "      <th></th>\n",
              "      <th></th>\n",
              "      <th></th>\n",
              "      <th></th>\n",
              "      <th></th>\n",
              "      <th></th>\n",
              "      <th></th>\n",
              "    </tr>\n",
              "  </thead>\n",
              "  <tbody>\n",
              "    <tr>\n",
              "      <th rowspan=\"5\" valign=\"top\">ACS</th>\n",
              "      <th>452</th>\n",
              "      <td>2015-01-01</td>\n",
              "      <td>ACS</td>\n",
              "      <td>Alternative Community Services</td>\n",
              "      <td>Criminal Justice Clients under Pre-Trial Services</td>\n",
              "      <td>721</td>\n",
              "      <td>01</td>\n",
              "      <td>2015</td>\n",
              "    </tr>\n",
              "    <tr>\n",
              "      <th>449</th>\n",
              "      <td>2015-02-01</td>\n",
              "      <td>ACS</td>\n",
              "      <td>Alternative Community Services</td>\n",
              "      <td>Criminal Justice Clients under Pre-Trial Services</td>\n",
              "      <td>738</td>\n",
              "      <td>02</td>\n",
              "      <td>2015</td>\n",
              "    </tr>\n",
              "    <tr>\n",
              "      <th>439</th>\n",
              "      <td>2015-03-01</td>\n",
              "      <td>ACS</td>\n",
              "      <td>Alternative Community Services</td>\n",
              "      <td>Criminal Justice Clients under Pre-Trial Services</td>\n",
              "      <td>749</td>\n",
              "      <td>03</td>\n",
              "      <td>2015</td>\n",
              "    </tr>\n",
              "    <tr>\n",
              "      <th>433</th>\n",
              "      <td>2015-04-01</td>\n",
              "      <td>ACS</td>\n",
              "      <td>Alternative Community Services</td>\n",
              "      <td>Criminal Justice Clients under Pre-Trial Services</td>\n",
              "      <td>780</td>\n",
              "      <td>04</td>\n",
              "      <td>2015</td>\n",
              "    </tr>\n",
              "    <tr>\n",
              "      <th>426</th>\n",
              "      <td>2015-05-01</td>\n",
              "      <td>ACS</td>\n",
              "      <td>Alternative Community Services</td>\n",
              "      <td>Criminal Justice Clients under Pre-Trial Services</td>\n",
              "      <td>751</td>\n",
              "      <td>05</td>\n",
              "      <td>2015</td>\n",
              "    </tr>\n",
              "    <tr>\n",
              "      <th>...</th>\n",
              "      <th>...</th>\n",
              "      <td>...</td>\n",
              "      <td>...</td>\n",
              "      <td>...</td>\n",
              "      <td>...</td>\n",
              "      <td>...</td>\n",
              "      <td>...</td>\n",
              "      <td>...</td>\n",
              "    </tr>\n",
              "    <tr>\n",
              "      <th rowspan=\"5\" valign=\"top\">PTSU</th>\n",
              "      <th>25</th>\n",
              "      <td>2020-12-01</td>\n",
              "      <td>PTSU</td>\n",
              "      <td>Pre-Trial Supervision Unit</td>\n",
              "      <td>Criminal Justice Clients under Pre-Trial Services</td>\n",
              "      <td>867</td>\n",
              "      <td>12</td>\n",
              "      <td>2020</td>\n",
              "    </tr>\n",
              "    <tr>\n",
              "      <th>18</th>\n",
              "      <td>2021-01-01</td>\n",
              "      <td>PTSU</td>\n",
              "      <td>Pre-Trial Supervision Unit</td>\n",
              "      <td>Criminal Justice Clients under Pre-Trial Services</td>\n",
              "      <td>909</td>\n",
              "      <td>01</td>\n",
              "      <td>2021</td>\n",
              "    </tr>\n",
              "    <tr>\n",
              "      <th>13</th>\n",
              "      <td>2021-02-01</td>\n",
              "      <td>PTSU</td>\n",
              "      <td>Pre-Trial Supervision Unit</td>\n",
              "      <td>Criminal Justice Clients under Pre-Trial Services</td>\n",
              "      <td>918</td>\n",
              "      <td>02</td>\n",
              "      <td>2021</td>\n",
              "    </tr>\n",
              "    <tr>\n",
              "      <th>8</th>\n",
              "      <td>2021-03-01</td>\n",
              "      <td>PTSU</td>\n",
              "      <td>Pre-Trial Supervision Unit</td>\n",
              "      <td>Criminal Justice Clients under Pre-Trial Services</td>\n",
              "      <td>946</td>\n",
              "      <td>03</td>\n",
              "      <td>2021</td>\n",
              "    </tr>\n",
              "    <tr>\n",
              "      <th>1</th>\n",
              "      <td>2021-04-01</td>\n",
              "      <td>PTSU</td>\n",
              "      <td>Pre-Trial Supervision Unit</td>\n",
              "      <td>Criminal Justice Clients under Pre-Trial Services</td>\n",
              "      <td>938</td>\n",
              "      <td>04</td>\n",
              "      <td>2021</td>\n",
              "    </tr>\n",
              "  </tbody>\n",
              "</table>\n",
              "<p>456 rows × 7 columns</p>\n",
              "</div>"
            ],
            "text/plain": [
              "                     Date DSCC Abbr.  ... month   year\n",
              "DSCC Abbr.                            ...             \n",
              "ACS        452 2015-01-01        ACS  ...    01   2015\n",
              "           449 2015-02-01        ACS  ...    02   2015\n",
              "           439 2015-03-01        ACS  ...    03   2015\n",
              "           433 2015-04-01        ACS  ...    04   2015\n",
              "           426 2015-05-01        ACS  ...    05   2015\n",
              "...                   ...        ...  ...   ...    ...\n",
              "PTSU       25  2020-12-01       PTSU  ...    12   2020\n",
              "           18  2021-01-01       PTSU  ...    01   2021\n",
              "           13  2021-02-01       PTSU  ...    02   2021\n",
              "           8   2021-03-01       PTSU  ...    03   2021\n",
              "           1   2021-04-01       PTSU  ...    04   2021\n",
              "\n",
              "[456 rows x 7 columns]"
            ]
          },
          "metadata": {
            "tags": []
          },
          "execution_count": 23
        }
      ]
    },
    {
      "cell_type": "code",
      "metadata": {
        "colab": {
          "base_uri": "https://localhost:8080/",
          "height": 574
        },
        "id": "zUjbAfr5cAa7",
        "outputId": "4edb47b3-242c-47f7-fdbd-bdbd17d71ac5"
      },
      "source": [
        "# month and year separate columns created\n",
        "df_2.groupby(df_2['year'])\n",
        "df_2.head(10)"
      ],
      "execution_count": 24,
      "outputs": [
        {
          "output_type": "execute_result",
          "data": {
            "text/html": [
              "<div>\n",
              "<style scoped>\n",
              "    .dataframe tbody tr th:only-of-type {\n",
              "        vertical-align: middle;\n",
              "    }\n",
              "\n",
              "    .dataframe tbody tr th {\n",
              "        vertical-align: top;\n",
              "    }\n",
              "\n",
              "    .dataframe thead th {\n",
              "        text-align: right;\n",
              "    }\n",
              "</style>\n",
              "<table border=\"1\" class=\"dataframe\">\n",
              "  <thead>\n",
              "    <tr style=\"text-align: right;\">\n",
              "      <th></th>\n",
              "      <th></th>\n",
              "      <th>Date</th>\n",
              "      <th>DSCC Abbr.</th>\n",
              "      <th>DSCC Names</th>\n",
              "      <th>category</th>\n",
              "      <th>Avg. Daily Pop.</th>\n",
              "      <th>month</th>\n",
              "      <th>year</th>\n",
              "    </tr>\n",
              "    <tr>\n",
              "      <th>DSCC Abbr.</th>\n",
              "      <th></th>\n",
              "      <th></th>\n",
              "      <th></th>\n",
              "      <th></th>\n",
              "      <th></th>\n",
              "      <th></th>\n",
              "      <th></th>\n",
              "      <th></th>\n",
              "    </tr>\n",
              "  </thead>\n",
              "  <tbody>\n",
              "    <tr>\n",
              "      <th rowspan=\"10\" valign=\"top\">ACS</th>\n",
              "      <th>452</th>\n",
              "      <td>2015-01-01</td>\n",
              "      <td>ACS</td>\n",
              "      <td>Alternative Community Services</td>\n",
              "      <td>Criminal Justice Clients under Pre-Trial Services</td>\n",
              "      <td>721</td>\n",
              "      <td>01</td>\n",
              "      <td>2015</td>\n",
              "    </tr>\n",
              "    <tr>\n",
              "      <th>449</th>\n",
              "      <td>2015-02-01</td>\n",
              "      <td>ACS</td>\n",
              "      <td>Alternative Community Services</td>\n",
              "      <td>Criminal Justice Clients under Pre-Trial Services</td>\n",
              "      <td>738</td>\n",
              "      <td>02</td>\n",
              "      <td>2015</td>\n",
              "    </tr>\n",
              "    <tr>\n",
              "      <th>439</th>\n",
              "      <td>2015-03-01</td>\n",
              "      <td>ACS</td>\n",
              "      <td>Alternative Community Services</td>\n",
              "      <td>Criminal Justice Clients under Pre-Trial Services</td>\n",
              "      <td>749</td>\n",
              "      <td>03</td>\n",
              "      <td>2015</td>\n",
              "    </tr>\n",
              "    <tr>\n",
              "      <th>433</th>\n",
              "      <td>2015-04-01</td>\n",
              "      <td>ACS</td>\n",
              "      <td>Alternative Community Services</td>\n",
              "      <td>Criminal Justice Clients under Pre-Trial Services</td>\n",
              "      <td>780</td>\n",
              "      <td>04</td>\n",
              "      <td>2015</td>\n",
              "    </tr>\n",
              "    <tr>\n",
              "      <th>426</th>\n",
              "      <td>2015-05-01</td>\n",
              "      <td>ACS</td>\n",
              "      <td>Alternative Community Services</td>\n",
              "      <td>Criminal Justice Clients under Pre-Trial Services</td>\n",
              "      <td>751</td>\n",
              "      <td>05</td>\n",
              "      <td>2015</td>\n",
              "    </tr>\n",
              "    <tr>\n",
              "      <th>424</th>\n",
              "      <td>2015-06-01</td>\n",
              "      <td>ACS</td>\n",
              "      <td>Alternative Community Services</td>\n",
              "      <td>Criminal Justice Clients under Pre-Trial Services</td>\n",
              "      <td>699</td>\n",
              "      <td>06</td>\n",
              "      <td>2015</td>\n",
              "    </tr>\n",
              "    <tr>\n",
              "      <th>414</th>\n",
              "      <td>2015-07-01</td>\n",
              "      <td>ACS</td>\n",
              "      <td>Alternative Community Services</td>\n",
              "      <td>Criminal Justice Clients under Pre-Trial Services</td>\n",
              "      <td>705</td>\n",
              "      <td>07</td>\n",
              "      <td>2015</td>\n",
              "    </tr>\n",
              "    <tr>\n",
              "      <th>410</th>\n",
              "      <td>2015-08-01</td>\n",
              "      <td>ACS</td>\n",
              "      <td>Alternative Community Services</td>\n",
              "      <td>Criminal Justice Clients under Pre-Trial Services</td>\n",
              "      <td>739</td>\n",
              "      <td>08</td>\n",
              "      <td>2015</td>\n",
              "    </tr>\n",
              "    <tr>\n",
              "      <th>402</th>\n",
              "      <td>2015-09-01</td>\n",
              "      <td>ACS</td>\n",
              "      <td>Alternative Community Services</td>\n",
              "      <td>Criminal Justice Clients under Pre-Trial Services</td>\n",
              "      <td>703</td>\n",
              "      <td>09</td>\n",
              "      <td>2015</td>\n",
              "    </tr>\n",
              "    <tr>\n",
              "      <th>398</th>\n",
              "      <td>2015-10-01</td>\n",
              "      <td>ACS</td>\n",
              "      <td>Alternative Community Services</td>\n",
              "      <td>Criminal Justice Clients under Pre-Trial Services</td>\n",
              "      <td>758</td>\n",
              "      <td>10</td>\n",
              "      <td>2015</td>\n",
              "    </tr>\n",
              "  </tbody>\n",
              "</table>\n",
              "</div>"
            ],
            "text/plain": [
              "                     Date DSCC Abbr.  ... month   year\n",
              "DSCC Abbr.                            ...             \n",
              "ACS        452 2015-01-01        ACS  ...    01   2015\n",
              "           449 2015-02-01        ACS  ...    02   2015\n",
              "           439 2015-03-01        ACS  ...    03   2015\n",
              "           433 2015-04-01        ACS  ...    04   2015\n",
              "           426 2015-05-01        ACS  ...    05   2015\n",
              "           424 2015-06-01        ACS  ...    06   2015\n",
              "           414 2015-07-01        ACS  ...    07   2015\n",
              "           410 2015-08-01        ACS  ...    08   2015\n",
              "           402 2015-09-01        ACS  ...    09   2015\n",
              "           398 2015-10-01        ACS  ...    10   2015\n",
              "\n",
              "[10 rows x 7 columns]"
            ]
          },
          "metadata": {
            "tags": []
          },
          "execution_count": 24
        }
      ]
    },
    {
      "cell_type": "code",
      "metadata": {
        "colab": {
          "base_uri": "https://localhost:8080/",
          "height": 342
        },
        "id": "K_Ceh1IZcHa-",
        "outputId": "23c38318-839a-415c-8e24-ada55e35c7a9"
      },
      "source": [
        "# Remove DSCC Name Column\n",
        "df_2.drop(df_2.columns[[2]], axis=1, inplace=True,)\n",
        "df_2.head(5)"
      ],
      "execution_count": 25,
      "outputs": [
        {
          "output_type": "execute_result",
          "data": {
            "text/html": [
              "<div>\n",
              "<style scoped>\n",
              "    .dataframe tbody tr th:only-of-type {\n",
              "        vertical-align: middle;\n",
              "    }\n",
              "\n",
              "    .dataframe tbody tr th {\n",
              "        vertical-align: top;\n",
              "    }\n",
              "\n",
              "    .dataframe thead th {\n",
              "        text-align: right;\n",
              "    }\n",
              "</style>\n",
              "<table border=\"1\" class=\"dataframe\">\n",
              "  <thead>\n",
              "    <tr style=\"text-align: right;\">\n",
              "      <th></th>\n",
              "      <th></th>\n",
              "      <th>Date</th>\n",
              "      <th>DSCC Abbr.</th>\n",
              "      <th>category</th>\n",
              "      <th>Avg. Daily Pop.</th>\n",
              "      <th>month</th>\n",
              "      <th>year</th>\n",
              "    </tr>\n",
              "    <tr>\n",
              "      <th>DSCC Abbr.</th>\n",
              "      <th></th>\n",
              "      <th></th>\n",
              "      <th></th>\n",
              "      <th></th>\n",
              "      <th></th>\n",
              "      <th></th>\n",
              "      <th></th>\n",
              "    </tr>\n",
              "  </thead>\n",
              "  <tbody>\n",
              "    <tr>\n",
              "      <th rowspan=\"5\" valign=\"top\">ACS</th>\n",
              "      <th>452</th>\n",
              "      <td>2015-01-01</td>\n",
              "      <td>ACS</td>\n",
              "      <td>Criminal Justice Clients under Pre-Trial Services</td>\n",
              "      <td>721</td>\n",
              "      <td>01</td>\n",
              "      <td>2015</td>\n",
              "    </tr>\n",
              "    <tr>\n",
              "      <th>449</th>\n",
              "      <td>2015-02-01</td>\n",
              "      <td>ACS</td>\n",
              "      <td>Criminal Justice Clients under Pre-Trial Services</td>\n",
              "      <td>738</td>\n",
              "      <td>02</td>\n",
              "      <td>2015</td>\n",
              "    </tr>\n",
              "    <tr>\n",
              "      <th>439</th>\n",
              "      <td>2015-03-01</td>\n",
              "      <td>ACS</td>\n",
              "      <td>Criminal Justice Clients under Pre-Trial Services</td>\n",
              "      <td>749</td>\n",
              "      <td>03</td>\n",
              "      <td>2015</td>\n",
              "    </tr>\n",
              "    <tr>\n",
              "      <th>433</th>\n",
              "      <td>2015-04-01</td>\n",
              "      <td>ACS</td>\n",
              "      <td>Criminal Justice Clients under Pre-Trial Services</td>\n",
              "      <td>780</td>\n",
              "      <td>04</td>\n",
              "      <td>2015</td>\n",
              "    </tr>\n",
              "    <tr>\n",
              "      <th>426</th>\n",
              "      <td>2015-05-01</td>\n",
              "      <td>ACS</td>\n",
              "      <td>Criminal Justice Clients under Pre-Trial Services</td>\n",
              "      <td>751</td>\n",
              "      <td>05</td>\n",
              "      <td>2015</td>\n",
              "    </tr>\n",
              "  </tbody>\n",
              "</table>\n",
              "</div>"
            ],
            "text/plain": [
              "                     Date DSCC Abbr.  ... month   year\n",
              "DSCC Abbr.                            ...             \n",
              "ACS        452 2015-01-01        ACS  ...    01   2015\n",
              "           449 2015-02-01        ACS  ...    02   2015\n",
              "           439 2015-03-01        ACS  ...    03   2015\n",
              "           433 2015-04-01        ACS  ...    04   2015\n",
              "           426 2015-05-01        ACS  ...    05   2015\n",
              "\n",
              "[5 rows x 6 columns]"
            ]
          },
          "metadata": {
            "tags": []
          },
          "execution_count": 25
        }
      ]
    },
    {
      "cell_type": "code",
      "metadata": {
        "id": "4UOGLK4zcPdr"
      },
      "source": [
        "# Create separate columns for month day and year \n",
        "df_1.Date = pd.to_datetime(df_1.Date)"
      ],
      "execution_count": 26,
      "outputs": []
    },
    {
      "cell_type": "code",
      "metadata": {
        "colab": {
          "base_uri": "https://localhost:8080/",
          "height": 586
        },
        "id": "QR425E0YcSMl",
        "outputId": "6a150e29-338d-46b2-a7d2-8afdbb714c67"
      },
      "source": [
        "df_1[['month', 'year']] = df_1.Date.apply(lambda x: pd.Series(x.strftime(\"%m, %Y\").split(\",\")))\n",
        "df_1"
      ],
      "execution_count": 27,
      "outputs": [
        {
          "output_type": "execute_result",
          "data": {
            "text/html": [
              "<div>\n",
              "<style scoped>\n",
              "    .dataframe tbody tr th:only-of-type {\n",
              "        vertical-align: middle;\n",
              "    }\n",
              "\n",
              "    .dataframe tbody tr th {\n",
              "        vertical-align: top;\n",
              "    }\n",
              "\n",
              "    .dataframe thead th {\n",
              "        text-align: right;\n",
              "    }\n",
              "</style>\n",
              "<table border=\"1\" class=\"dataframe\">\n",
              "  <thead>\n",
              "    <tr style=\"text-align: right;\">\n",
              "      <th></th>\n",
              "      <th>Date</th>\n",
              "      <th>DSCC Abbr.</th>\n",
              "      <th>DSCC Names</th>\n",
              "      <th>category</th>\n",
              "      <th>Avg. Daily Pop.</th>\n",
              "      <th>month</th>\n",
              "      <th>year</th>\n",
              "    </tr>\n",
              "  </thead>\n",
              "  <tbody>\n",
              "    <tr>\n",
              "      <th>0</th>\n",
              "      <td>2021-04-01</td>\n",
              "      <td>ACS</td>\n",
              "      <td>Alternative Community Services</td>\n",
              "      <td>Criminal Justice Clients under Pre-Trial Services</td>\n",
              "      <td>280</td>\n",
              "      <td>04</td>\n",
              "      <td>2021</td>\n",
              "    </tr>\n",
              "    <tr>\n",
              "      <th>1</th>\n",
              "      <td>2021-04-01</td>\n",
              "      <td>PTSU</td>\n",
              "      <td>Pre-Trial Supervision Unit</td>\n",
              "      <td>Criminal Justice Clients under Pre-Trial Services</td>\n",
              "      <td>938</td>\n",
              "      <td>04</td>\n",
              "      <td>2021</td>\n",
              "    </tr>\n",
              "    <tr>\n",
              "      <th>2</th>\n",
              "      <td>2021-04-01</td>\n",
              "      <td>PRRS</td>\n",
              "      <td>Pre-Release and Re-Entry Services</td>\n",
              "      <td>Inmates in DOCR Custody</td>\n",
              "      <td>0</td>\n",
              "      <td>04</td>\n",
              "      <td>2021</td>\n",
              "    </tr>\n",
              "    <tr>\n",
              "      <th>3</th>\n",
              "      <td>2021-04-01</td>\n",
              "      <td>MCCF</td>\n",
              "      <td>Montgomery County Correctional Facility</td>\n",
              "      <td>Inmates in DOCR Custody</td>\n",
              "      <td>538</td>\n",
              "      <td>04</td>\n",
              "      <td>2021</td>\n",
              "    </tr>\n",
              "    <tr>\n",
              "      <th>4</th>\n",
              "      <td>2021-04-01</td>\n",
              "      <td>MCDC</td>\n",
              "      <td>Montgomery County Detention Center</td>\n",
              "      <td>Inmates in DOCR Custody</td>\n",
              "      <td>46</td>\n",
              "      <td>04</td>\n",
              "      <td>2021</td>\n",
              "    </tr>\n",
              "    <tr>\n",
              "      <th>...</th>\n",
              "      <td>...</td>\n",
              "      <td>...</td>\n",
              "      <td>...</td>\n",
              "      <td>...</td>\n",
              "      <td>...</td>\n",
              "      <td>...</td>\n",
              "      <td>...</td>\n",
              "    </tr>\n",
              "    <tr>\n",
              "      <th>451</th>\n",
              "      <td>2015-01-01</td>\n",
              "      <td>MCCF</td>\n",
              "      <td>Montgomery County Correctional Facility</td>\n",
              "      <td>Inmates in DOCR Custody</td>\n",
              "      <td>505</td>\n",
              "      <td>01</td>\n",
              "      <td>2015</td>\n",
              "    </tr>\n",
              "    <tr>\n",
              "      <th>452</th>\n",
              "      <td>2015-01-01</td>\n",
              "      <td>ACS</td>\n",
              "      <td>Alternative Community Services</td>\n",
              "      <td>Criminal Justice Clients under Pre-Trial Services</td>\n",
              "      <td>721</td>\n",
              "      <td>01</td>\n",
              "      <td>2015</td>\n",
              "    </tr>\n",
              "    <tr>\n",
              "      <th>453</th>\n",
              "      <td>2015-01-01</td>\n",
              "      <td>PTSU</td>\n",
              "      <td>Pre-Trial Supervision Unit</td>\n",
              "      <td>Criminal Justice Clients under Pre-Trial Services</td>\n",
              "      <td>718</td>\n",
              "      <td>01</td>\n",
              "      <td>2015</td>\n",
              "    </tr>\n",
              "    <tr>\n",
              "      <th>454</th>\n",
              "      <td>2015-01-01</td>\n",
              "      <td>IPSA</td>\n",
              "      <td>Intervention Program for Substance Abusers</td>\n",
              "      <td>Criminal Justice Clients under Pre-Trial Services</td>\n",
              "      <td>101</td>\n",
              "      <td>01</td>\n",
              "      <td>2015</td>\n",
              "    </tr>\n",
              "    <tr>\n",
              "      <th>455</th>\n",
              "      <td>2015-01-01</td>\n",
              "      <td>MCDC</td>\n",
              "      <td>Montgomery County Detention Center</td>\n",
              "      <td>Inmates in DOCR Custody</td>\n",
              "      <td>77</td>\n",
              "      <td>01</td>\n",
              "      <td>2015</td>\n",
              "    </tr>\n",
              "  </tbody>\n",
              "</table>\n",
              "<p>456 rows × 7 columns</p>\n",
              "</div>"
            ],
            "text/plain": [
              "          Date DSCC Abbr.  ... month   year\n",
              "0   2021-04-01        ACS  ...    04   2021\n",
              "1   2021-04-01       PTSU  ...    04   2021\n",
              "2   2021-04-01       PRRS  ...    04   2021\n",
              "3   2021-04-01       MCCF  ...    04   2021\n",
              "4   2021-04-01       MCDC  ...    04   2021\n",
              "..         ...        ...  ...   ...    ...\n",
              "451 2015-01-01       MCCF  ...    01   2015\n",
              "452 2015-01-01        ACS  ...    01   2015\n",
              "453 2015-01-01       PTSU  ...    01   2015\n",
              "454 2015-01-01       IPSA  ...    01   2015\n",
              "455 2015-01-01       MCDC  ...    01   2015\n",
              "\n",
              "[456 rows x 7 columns]"
            ]
          },
          "metadata": {
            "tags": []
          },
          "execution_count": 27
        }
      ]
    },
    {
      "cell_type": "code",
      "metadata": {
        "id": "NVDJFqiuct8l"
      },
      "source": [
        "# drop date column\n",
        "df_1a = df_1.drop(df_1.columns[0:1], axis=1)"
      ],
      "execution_count": 28,
      "outputs": []
    },
    {
      "cell_type": "code",
      "metadata": {
        "colab": {
          "base_uri": "https://localhost:8080/",
          "height": 296
        },
        "id": "--LJU76PcxI1",
        "outputId": "ca7be283-64f5-45ad-89e7-82628a4bd3cc"
      },
      "source": [
        "df_1a.head(5)"
      ],
      "execution_count": 29,
      "outputs": [
        {
          "output_type": "execute_result",
          "data": {
            "text/html": [
              "<div>\n",
              "<style scoped>\n",
              "    .dataframe tbody tr th:only-of-type {\n",
              "        vertical-align: middle;\n",
              "    }\n",
              "\n",
              "    .dataframe tbody tr th {\n",
              "        vertical-align: top;\n",
              "    }\n",
              "\n",
              "    .dataframe thead th {\n",
              "        text-align: right;\n",
              "    }\n",
              "</style>\n",
              "<table border=\"1\" class=\"dataframe\">\n",
              "  <thead>\n",
              "    <tr style=\"text-align: right;\">\n",
              "      <th></th>\n",
              "      <th>DSCC Abbr.</th>\n",
              "      <th>DSCC Names</th>\n",
              "      <th>category</th>\n",
              "      <th>Avg. Daily Pop.</th>\n",
              "      <th>month</th>\n",
              "      <th>year</th>\n",
              "    </tr>\n",
              "  </thead>\n",
              "  <tbody>\n",
              "    <tr>\n",
              "      <th>0</th>\n",
              "      <td>ACS</td>\n",
              "      <td>Alternative Community Services</td>\n",
              "      <td>Criminal Justice Clients under Pre-Trial Services</td>\n",
              "      <td>280</td>\n",
              "      <td>04</td>\n",
              "      <td>2021</td>\n",
              "    </tr>\n",
              "    <tr>\n",
              "      <th>1</th>\n",
              "      <td>PTSU</td>\n",
              "      <td>Pre-Trial Supervision Unit</td>\n",
              "      <td>Criminal Justice Clients under Pre-Trial Services</td>\n",
              "      <td>938</td>\n",
              "      <td>04</td>\n",
              "      <td>2021</td>\n",
              "    </tr>\n",
              "    <tr>\n",
              "      <th>2</th>\n",
              "      <td>PRRS</td>\n",
              "      <td>Pre-Release and Re-Entry Services</td>\n",
              "      <td>Inmates in DOCR Custody</td>\n",
              "      <td>0</td>\n",
              "      <td>04</td>\n",
              "      <td>2021</td>\n",
              "    </tr>\n",
              "    <tr>\n",
              "      <th>3</th>\n",
              "      <td>MCCF</td>\n",
              "      <td>Montgomery County Correctional Facility</td>\n",
              "      <td>Inmates in DOCR Custody</td>\n",
              "      <td>538</td>\n",
              "      <td>04</td>\n",
              "      <td>2021</td>\n",
              "    </tr>\n",
              "    <tr>\n",
              "      <th>4</th>\n",
              "      <td>MCDC</td>\n",
              "      <td>Montgomery County Detention Center</td>\n",
              "      <td>Inmates in DOCR Custody</td>\n",
              "      <td>46</td>\n",
              "      <td>04</td>\n",
              "      <td>2021</td>\n",
              "    </tr>\n",
              "  </tbody>\n",
              "</table>\n",
              "</div>"
            ],
            "text/plain": [
              "  DSCC Abbr.                               DSCC Names  ... month   year\n",
              "0        ACS           Alternative Community Services  ...    04   2021\n",
              "1       PTSU               Pre-Trial Supervision Unit  ...    04   2021\n",
              "2       PRRS        Pre-Release and Re-Entry Services  ...    04   2021\n",
              "3       MCCF  Montgomery County Correctional Facility  ...    04   2021\n",
              "4       MCDC       Montgomery County Detention Center  ...    04   2021\n",
              "\n",
              "[5 rows x 6 columns]"
            ]
          },
          "metadata": {
            "tags": []
          },
          "execution_count": 29
        }
      ]
    },
    {
      "cell_type": "code",
      "metadata": {
        "colab": {
          "base_uri": "https://localhost:8080/",
          "height": 296
        },
        "id": "D7EVSYKlc1H5",
        "outputId": "ad97655e-b299-44cf-a7ac-bb9b70af071a"
      },
      "source": [
        "# Trying to remove index column\n",
        "df_1a.reset_index(drop=True, inplace=True)\n",
        "df_1a.head(5)"
      ],
      "execution_count": 30,
      "outputs": [
        {
          "output_type": "execute_result",
          "data": {
            "text/html": [
              "<div>\n",
              "<style scoped>\n",
              "    .dataframe tbody tr th:only-of-type {\n",
              "        vertical-align: middle;\n",
              "    }\n",
              "\n",
              "    .dataframe tbody tr th {\n",
              "        vertical-align: top;\n",
              "    }\n",
              "\n",
              "    .dataframe thead th {\n",
              "        text-align: right;\n",
              "    }\n",
              "</style>\n",
              "<table border=\"1\" class=\"dataframe\">\n",
              "  <thead>\n",
              "    <tr style=\"text-align: right;\">\n",
              "      <th></th>\n",
              "      <th>DSCC Abbr.</th>\n",
              "      <th>DSCC Names</th>\n",
              "      <th>category</th>\n",
              "      <th>Avg. Daily Pop.</th>\n",
              "      <th>month</th>\n",
              "      <th>year</th>\n",
              "    </tr>\n",
              "  </thead>\n",
              "  <tbody>\n",
              "    <tr>\n",
              "      <th>0</th>\n",
              "      <td>ACS</td>\n",
              "      <td>Alternative Community Services</td>\n",
              "      <td>Criminal Justice Clients under Pre-Trial Services</td>\n",
              "      <td>280</td>\n",
              "      <td>04</td>\n",
              "      <td>2021</td>\n",
              "    </tr>\n",
              "    <tr>\n",
              "      <th>1</th>\n",
              "      <td>PTSU</td>\n",
              "      <td>Pre-Trial Supervision Unit</td>\n",
              "      <td>Criminal Justice Clients under Pre-Trial Services</td>\n",
              "      <td>938</td>\n",
              "      <td>04</td>\n",
              "      <td>2021</td>\n",
              "    </tr>\n",
              "    <tr>\n",
              "      <th>2</th>\n",
              "      <td>PRRS</td>\n",
              "      <td>Pre-Release and Re-Entry Services</td>\n",
              "      <td>Inmates in DOCR Custody</td>\n",
              "      <td>0</td>\n",
              "      <td>04</td>\n",
              "      <td>2021</td>\n",
              "    </tr>\n",
              "    <tr>\n",
              "      <th>3</th>\n",
              "      <td>MCCF</td>\n",
              "      <td>Montgomery County Correctional Facility</td>\n",
              "      <td>Inmates in DOCR Custody</td>\n",
              "      <td>538</td>\n",
              "      <td>04</td>\n",
              "      <td>2021</td>\n",
              "    </tr>\n",
              "    <tr>\n",
              "      <th>4</th>\n",
              "      <td>MCDC</td>\n",
              "      <td>Montgomery County Detention Center</td>\n",
              "      <td>Inmates in DOCR Custody</td>\n",
              "      <td>46</td>\n",
              "      <td>04</td>\n",
              "      <td>2021</td>\n",
              "    </tr>\n",
              "  </tbody>\n",
              "</table>\n",
              "</div>"
            ],
            "text/plain": [
              "  DSCC Abbr.                               DSCC Names  ... month   year\n",
              "0        ACS           Alternative Community Services  ...    04   2021\n",
              "1       PTSU               Pre-Trial Supervision Unit  ...    04   2021\n",
              "2       PRRS        Pre-Release and Re-Entry Services  ...    04   2021\n",
              "3       MCCF  Montgomery County Correctional Facility  ...    04   2021\n",
              "4       MCDC       Montgomery County Detention Center  ...    04   2021\n",
              "\n",
              "[5 rows x 6 columns]"
            ]
          },
          "metadata": {
            "tags": []
          },
          "execution_count": 30
        }
      ]
    },
    {
      "cell_type": "code",
      "metadata": {
        "colab": {
          "base_uri": "https://localhost:8080/",
          "height": 195
        },
        "id": "RymYiEnhc9c_",
        "outputId": "d65bc9d6-4c11-4e81-d1be-6e18fa7237e8"
      },
      "source": [
        "# Group by Year Sum\n",
        "df_year = df_1a.groupby(['year'], as_index=False).agg({'Avg. Daily Pop.': sum})\n",
        "df_year.head()"
      ],
      "execution_count": 31,
      "outputs": [
        {
          "output_type": "execute_result",
          "data": {
            "text/html": [
              "<div>\n",
              "<style scoped>\n",
              "    .dataframe tbody tr th:only-of-type {\n",
              "        vertical-align: middle;\n",
              "    }\n",
              "\n",
              "    .dataframe tbody tr th {\n",
              "        vertical-align: top;\n",
              "    }\n",
              "\n",
              "    .dataframe thead th {\n",
              "        text-align: right;\n",
              "    }\n",
              "</style>\n",
              "<table border=\"1\" class=\"dataframe\">\n",
              "  <thead>\n",
              "    <tr style=\"text-align: right;\">\n",
              "      <th></th>\n",
              "      <th>year</th>\n",
              "      <th>Avg. Daily Pop.</th>\n",
              "    </tr>\n",
              "  </thead>\n",
              "  <tbody>\n",
              "    <tr>\n",
              "      <th>0</th>\n",
              "      <td>2015</td>\n",
              "      <td>27811</td>\n",
              "    </tr>\n",
              "    <tr>\n",
              "      <th>1</th>\n",
              "      <td>2016</td>\n",
              "      <td>30138</td>\n",
              "    </tr>\n",
              "    <tr>\n",
              "      <th>2</th>\n",
              "      <td>2017</td>\n",
              "      <td>27102</td>\n",
              "    </tr>\n",
              "    <tr>\n",
              "      <th>3</th>\n",
              "      <td>2018</td>\n",
              "      <td>27464</td>\n",
              "    </tr>\n",
              "    <tr>\n",
              "      <th>4</th>\n",
              "      <td>2019</td>\n",
              "      <td>25649</td>\n",
              "    </tr>\n",
              "  </tbody>\n",
              "</table>\n",
              "</div>"
            ],
            "text/plain": [
              "    year  Avg. Daily Pop.\n",
              "0   2015            27811\n",
              "1   2016            30138\n",
              "2   2017            27102\n",
              "3   2018            27464\n",
              "4   2019            25649"
            ]
          },
          "metadata": {
            "tags": []
          },
          "execution_count": 31
        }
      ]
    },
    {
      "cell_type": "code",
      "metadata": {
        "colab": {
          "base_uri": "https://localhost:8080/"
        },
        "id": "WGtzziQkh2yM",
        "outputId": "79cfecc3-7d8f-4fc4-9b81-8aea472a7d78"
      },
      "source": [
        "# Checking data types for each column\n",
        "print(df_1.dtypes)"
      ],
      "execution_count": 32,
      "outputs": [
        {
          "output_type": "stream",
          "text": [
            "Date               datetime64[ns]\n",
            "DSCC Abbr.                 object\n",
            "DSCC Names                 object\n",
            "category                   object\n",
            "Avg. Daily Pop.             int64\n",
            "month                      object\n",
            "year                       object\n",
            "dtype: object\n"
          ],
          "name": "stdout"
        }
      ]
    },
    {
      "cell_type": "code",
      "metadata": {
        "colab": {
          "base_uri": "https://localhost:8080/",
          "height": 476
        },
        "id": "k3iTCfSCdAzY",
        "outputId": "6b392697-c2ee-4b6c-da13-24553a026851"
      },
      "source": [
        "# matplotlib plot\n",
        "import matplotlib.pyplot as plt\n",
        "df_year.plot(x = 'year', grid=True)\n",
        "plt.xlabel('year')\n",
        "plt.ylabel('Avg. Daily Pop.')"
      ],
      "execution_count": 33,
      "outputs": [
        {
          "output_type": "execute_result",
          "data": {
            "text/plain": [
              "Text(0, 0.5, 'Avg. Daily Pop.')"
            ]
          },
          "metadata": {
            "tags": []
          },
          "execution_count": 33
        },
        {
          "output_type": "display_data",
          "data": {
            "image/png": "[encoded data removed]",
            "text/plain": [
              "<Figure size 640x480 with 1 Axes>"
            ]
          },
          "metadata": {
            "tags": []
          }
        }
      ]
    },
    {
      "cell_type": "code",
      "metadata": {
        "colab": {
          "base_uri": "https://localhost:8080/",
          "height": 459
        },
        "id": "T0Jj9axedEFm",
        "outputId": "a0e30d69-2bab-46f5-9de9-2b2ad5c360c1"
      },
      "source": [
        "# matplotlib barplot\n",
        "import matplotlib.pyplot as plt\n",
        "x = df_year['year']\n",
        "y = df_year['Avg. Daily Pop.']\n",
        "plt.bar(x, y)\n",
        "plt.xlabel('Year')\n",
        "plt.ylabel('Avg. Daily Pop.')\n",
        "plt.show()"
      ],
      "execution_count": 34,
      "outputs": [
        {
          "output_type": "display_data",
          "data": {
            "image/png": "[encoded data removed]",
            "text/plain": [
              "<Figure size 640x480 with 1 Axes>"
            ]
          },
          "metadata": {
            "tags": []
          }
        }
      ]
    },
    {
      "cell_type": "code",
      "metadata": {
        "colab": {
          "base_uri": "https://localhost:8080/",
          "height": 639
        },
        "id": "DMOV4BtQdHxZ",
        "outputId": "c91292c5-a693-43f0-ac52-2d0f880dcbee"
      },
      "source": [
        "# Sum of avg. daily pop by month and year\n",
        "df_monthyear = df_1a.groupby(['year', 'month'], as_index=False).agg({'Avg. Daily Pop.': sum})\n",
        "df_monthyear.head(20)"
      ],
      "execution_count": 35,
      "outputs": [
        {
          "output_type": "execute_result",
          "data": {
            "text/html": [
              "<div>\n",
              "<style scoped>\n",
              "    .dataframe tbody tr th:only-of-type {\n",
              "        vertical-align: middle;\n",
              "    }\n",
              "\n",
              "    .dataframe tbody tr th {\n",
              "        vertical-align: top;\n",
              "    }\n",
              "\n",
              "    .dataframe thead th {\n",
              "        text-align: right;\n",
              "    }\n",
              "</style>\n",
              "<table border=\"1\" class=\"dataframe\">\n",
              "  <thead>\n",
              "    <tr style=\"text-align: right;\">\n",
              "      <th></th>\n",
              "      <th>year</th>\n",
              "      <th>month</th>\n",
              "      <th>Avg. Daily Pop.</th>\n",
              "    </tr>\n",
              "  </thead>\n",
              "  <tbody>\n",
              "    <tr>\n",
              "      <th>0</th>\n",
              "      <td>2015</td>\n",
              "      <td>01</td>\n",
              "      <td>2284</td>\n",
              "    </tr>\n",
              "    <tr>\n",
              "      <th>1</th>\n",
              "      <td>2015</td>\n",
              "      <td>02</td>\n",
              "      <td>2277</td>\n",
              "    </tr>\n",
              "    <tr>\n",
              "      <th>2</th>\n",
              "      <td>2015</td>\n",
              "      <td>03</td>\n",
              "      <td>2273</td>\n",
              "    </tr>\n",
              "    <tr>\n",
              "      <th>3</th>\n",
              "      <td>2015</td>\n",
              "      <td>04</td>\n",
              "      <td>2343</td>\n",
              "    </tr>\n",
              "    <tr>\n",
              "      <th>4</th>\n",
              "      <td>2015</td>\n",
              "      <td>05</td>\n",
              "      <td>2310</td>\n",
              "    </tr>\n",
              "    <tr>\n",
              "      <th>5</th>\n",
              "      <td>2015</td>\n",
              "      <td>06</td>\n",
              "      <td>2228</td>\n",
              "    </tr>\n",
              "    <tr>\n",
              "      <th>6</th>\n",
              "      <td>2015</td>\n",
              "      <td>07</td>\n",
              "      <td>2215</td>\n",
              "    </tr>\n",
              "    <tr>\n",
              "      <th>7</th>\n",
              "      <td>2015</td>\n",
              "      <td>08</td>\n",
              "      <td>2311</td>\n",
              "    </tr>\n",
              "    <tr>\n",
              "      <th>8</th>\n",
              "      <td>2015</td>\n",
              "      <td>09</td>\n",
              "      <td>2320</td>\n",
              "    </tr>\n",
              "    <tr>\n",
              "      <th>9</th>\n",
              "      <td>2015</td>\n",
              "      <td>10</td>\n",
              "      <td>2347</td>\n",
              "    </tr>\n",
              "    <tr>\n",
              "      <th>10</th>\n",
              "      <td>2015</td>\n",
              "      <td>11</td>\n",
              "      <td>2459</td>\n",
              "    </tr>\n",
              "    <tr>\n",
              "      <th>11</th>\n",
              "      <td>2015</td>\n",
              "      <td>12</td>\n",
              "      <td>2444</td>\n",
              "    </tr>\n",
              "    <tr>\n",
              "      <th>12</th>\n",
              "      <td>2016</td>\n",
              "      <td>01</td>\n",
              "      <td>2410</td>\n",
              "    </tr>\n",
              "    <tr>\n",
              "      <th>13</th>\n",
              "      <td>2016</td>\n",
              "      <td>02</td>\n",
              "      <td>2446</td>\n",
              "    </tr>\n",
              "    <tr>\n",
              "      <th>14</th>\n",
              "      <td>2016</td>\n",
              "      <td>03</td>\n",
              "      <td>2526</td>\n",
              "    </tr>\n",
              "    <tr>\n",
              "      <th>15</th>\n",
              "      <td>2016</td>\n",
              "      <td>04</td>\n",
              "      <td>2645</td>\n",
              "    </tr>\n",
              "    <tr>\n",
              "      <th>16</th>\n",
              "      <td>2016</td>\n",
              "      <td>05</td>\n",
              "      <td>2684</td>\n",
              "    </tr>\n",
              "    <tr>\n",
              "      <th>17</th>\n",
              "      <td>2016</td>\n",
              "      <td>06</td>\n",
              "      <td>2598</td>\n",
              "    </tr>\n",
              "    <tr>\n",
              "      <th>18</th>\n",
              "      <td>2016</td>\n",
              "      <td>07</td>\n",
              "      <td>2574</td>\n",
              "    </tr>\n",
              "    <tr>\n",
              "      <th>19</th>\n",
              "      <td>2016</td>\n",
              "      <td>08</td>\n",
              "      <td>2558</td>\n",
              "    </tr>\n",
              "  </tbody>\n",
              "</table>\n",
              "</div>"
            ],
            "text/plain": [
              "     year month  Avg. Daily Pop.\n",
              "0    2015    01             2284\n",
              "1    2015    02             2277\n",
              "2    2015    03             2273\n",
              "3    2015    04             2343\n",
              "4    2015    05             2310\n",
              "5    2015    06             2228\n",
              "6    2015    07             2215\n",
              "7    2015    08             2311\n",
              "8    2015    09             2320\n",
              "9    2015    10             2347\n",
              "10   2015    11             2459\n",
              "11   2015    12             2444\n",
              "12   2016    01             2410\n",
              "13   2016    02             2446\n",
              "14   2016    03             2526\n",
              "15   2016    04             2645\n",
              "16   2016    05             2684\n",
              "17   2016    06             2598\n",
              "18   2016    07             2574\n",
              "19   2016    08             2558"
            ]
          },
          "metadata": {
            "tags": []
          },
          "execution_count": 35
        }
      ]
    },
    {
      "cell_type": "code",
      "metadata": {
        "colab": {
          "base_uri": "https://localhost:8080/",
          "height": 476
        },
        "id": "E2NW4wIIdMb4",
        "outputId": "c0bddef6-4c34-443a-c01e-4b70a5665a4d"
      },
      "source": [
        "# matplotlib plot\n",
        "df_monthyear.plot(x = 'year', grid=True)\n",
        "plt.xlabel('year')\n",
        "plt.ylabel('Avg. Daily Pop.')"
      ],
      "execution_count": 36,
      "outputs": [
        {
          "output_type": "execute_result",
          "data": {
            "text/plain": [
              "Text(0, 0.5, 'Avg. Daily Pop.')"
            ]
          },
          "metadata": {
            "tags": []
          },
          "execution_count": 36
        },
        {
          "output_type": "display_data",
          "data": {
            "image/png": "[encoded data removed]",
            "text/plain": [
              "<Figure size 640x480 with 1 Axes>"
            ]
          },
          "metadata": {
            "tags": []
          }
        }
      ]
    },
    {
      "cell_type": "code",
      "metadata": {
        "colab": {
          "base_uri": "https://localhost:8080/",
          "height": 459
        },
        "id": "O9Gsazc-dQNq",
        "outputId": "898dcddb-04bb-4ecd-fe3a-6a851d72d005"
      },
      "source": [
        "x = df_monthyear['month']\n",
        "y = df_monthyear['Avg. Daily Pop.']\n",
        "plt.bar(x, y)\n",
        "plt.xlabel('month')\n",
        "plt.ylabel('Avg. Daily Pop.')\n",
        "plt.show()"
      ],
      "execution_count": 37,
      "outputs": [
        {
          "output_type": "display_data",
          "data": {
            "image/png": "[encoded data removed]",
            "text/plain": [
              "<Figure size 640x480 with 1 Axes>"
            ]
          },
          "metadata": {
            "tags": []
          }
        }
      ]
    },
    {
      "cell_type": "code",
      "metadata": {
        "id": "Ti1C7tx7dUVE"
      },
      "source": [
        "# trying to isolate entries by year\n",
        "# df_monthyear.groupby('year').get_group(2015)"
      ],
      "execution_count": 38,
      "outputs": []
    },
    {
      "cell_type": "code",
      "metadata": {
        "colab": {
          "base_uri": "https://localhost:8080/"
        },
        "id": "L4IHG3oVpCVS",
        "outputId": "c48d979c-a6ce-4585-f1c0-86ae3c170556"
      },
      "source": [
        "df_monthyear.info()"
      ],
      "execution_count": 39,
      "outputs": [
        {
          "output_type": "stream",
          "text": [
            "<class 'pandas.core.frame.DataFrame'>\n",
            "Int64Index: 76 entries, 0 to 75\n",
            "Data columns (total 3 columns):\n",
            " #   Column           Non-Null Count  Dtype \n",
            "---  ------           --------------  ----- \n",
            " 0   year             76 non-null     object\n",
            " 1   month            76 non-null     object\n",
            " 2   Avg. Daily Pop.  76 non-null     int64 \n",
            "dtypes: int64(1), object(2)\n",
            "memory usage: 2.4+ KB\n"
          ],
          "name": "stdout"
        }
      ]
    },
    {
      "cell_type": "code",
      "metadata": {
        "colab": {
          "base_uri": "https://localhost:8080/"
        },
        "id": "xrpr6944pXCd",
        "outputId": "abe5d7d9-0560-422c-f703-acb59496a66d"
      },
      "source": [
        "# turning \"year\" column into integer instead of object\n",
        "df_monthyear['year'].astype(int)"
      ],
      "execution_count": 40,
      "outputs": [
        {
          "output_type": "execute_result",
          "data": {
            "text/plain": [
              "0     2015\n",
              "1     2015\n",
              "2     2015\n",
              "3     2015\n",
              "4     2015\n",
              "      ... \n",
              "71    2020\n",
              "72    2021\n",
              "73    2021\n",
              "74    2021\n",
              "75    2021\n",
              "Name: year, Length: 76, dtype: int64"
            ]
          },
          "metadata": {
            "tags": []
          },
          "execution_count": 40
        }
      ]
    },
    {
      "cell_type": "code",
      "metadata": {
        "colab": {
          "base_uri": "https://localhost:8080/"
        },
        "id": "LLGzDD20peC-",
        "outputId": "9cda150e-8188-4fea-85b1-d5e92c5481d8"
      },
      "source": [
        "# turning \"month\" column into integer instead of object\n",
        "df_monthyear['month'].astype(int)"
      ],
      "execution_count": 41,
      "outputs": [
        {
          "output_type": "execute_result",
          "data": {
            "text/plain": [
              "0      1\n",
              "1      2\n",
              "2      3\n",
              "3      4\n",
              "4      5\n",
              "      ..\n",
              "71    12\n",
              "72     1\n",
              "73     2\n",
              "74     3\n",
              "75     4\n",
              "Name: month, Length: 76, dtype: int64"
            ]
          },
          "metadata": {
            "tags": []
          },
          "execution_count": 41
        }
      ]
    },
    {
      "cell_type": "code",
      "metadata": {
        "colab": {
          "base_uri": "https://localhost:8080/",
          "height": 343
        },
        "id": "UXRr0BW3dW3E",
        "outputId": "acdbf969-f1a1-4cd2-99b7-b8b8ca15b010"
      },
      "source": [
        "# trying to get rid of the lines and select only months for 2015\n",
        "df_2015 = df_monthyear\n",
        "df_2015['year'] != 2016\n",
        "df_2015.iloc[10:20]"
      ],
      "execution_count": 42,
      "outputs": [
        {
          "output_type": "execute_result",
          "data": {
            "text/html": [
              "<div>\n",
              "<style scoped>\n",
              "    .dataframe tbody tr th:only-of-type {\n",
              "        vertical-align: middle;\n",
              "    }\n",
              "\n",
              "    .dataframe tbody tr th {\n",
              "        vertical-align: top;\n",
              "    }\n",
              "\n",
              "    .dataframe thead th {\n",
              "        text-align: right;\n",
              "    }\n",
              "</style>\n",
              "<table border=\"1\" class=\"dataframe\">\n",
              "  <thead>\n",
              "    <tr style=\"text-align: right;\">\n",
              "      <th></th>\n",
              "      <th>year</th>\n",
              "      <th>month</th>\n",
              "      <th>Avg. Daily Pop.</th>\n",
              "    </tr>\n",
              "  </thead>\n",
              "  <tbody>\n",
              "    <tr>\n",
              "      <th>10</th>\n",
              "      <td>2015</td>\n",
              "      <td>11</td>\n",
              "      <td>2459</td>\n",
              "    </tr>\n",
              "    <tr>\n",
              "      <th>11</th>\n",
              "      <td>2015</td>\n",
              "      <td>12</td>\n",
              "      <td>2444</td>\n",
              "    </tr>\n",
              "    <tr>\n",
              "      <th>12</th>\n",
              "      <td>2016</td>\n",
              "      <td>01</td>\n",
              "      <td>2410</td>\n",
              "    </tr>\n",
              "    <tr>\n",
              "      <th>13</th>\n",
              "      <td>2016</td>\n",
              "      <td>02</td>\n",
              "      <td>2446</td>\n",
              "    </tr>\n",
              "    <tr>\n",
              "      <th>14</th>\n",
              "      <td>2016</td>\n",
              "      <td>03</td>\n",
              "      <td>2526</td>\n",
              "    </tr>\n",
              "    <tr>\n",
              "      <th>15</th>\n",
              "      <td>2016</td>\n",
              "      <td>04</td>\n",
              "      <td>2645</td>\n",
              "    </tr>\n",
              "    <tr>\n",
              "      <th>16</th>\n",
              "      <td>2016</td>\n",
              "      <td>05</td>\n",
              "      <td>2684</td>\n",
              "    </tr>\n",
              "    <tr>\n",
              "      <th>17</th>\n",
              "      <td>2016</td>\n",
              "      <td>06</td>\n",
              "      <td>2598</td>\n",
              "    </tr>\n",
              "    <tr>\n",
              "      <th>18</th>\n",
              "      <td>2016</td>\n",
              "      <td>07</td>\n",
              "      <td>2574</td>\n",
              "    </tr>\n",
              "    <tr>\n",
              "      <th>19</th>\n",
              "      <td>2016</td>\n",
              "      <td>08</td>\n",
              "      <td>2558</td>\n",
              "    </tr>\n",
              "  </tbody>\n",
              "</table>\n",
              "</div>"
            ],
            "text/plain": [
              "     year month  Avg. Daily Pop.\n",
              "10   2015    11             2459\n",
              "11   2015    12             2444\n",
              "12   2016    01             2410\n",
              "13   2016    02             2446\n",
              "14   2016    03             2526\n",
              "15   2016    04             2645\n",
              "16   2016    05             2684\n",
              "17   2016    06             2598\n",
              "18   2016    07             2574\n",
              "19   2016    08             2558"
            ]
          },
          "metadata": {
            "tags": []
          },
          "execution_count": 42
        }
      ]
    },
    {
      "cell_type": "code",
      "metadata": {
        "colab": {
          "base_uri": "https://localhost:8080/"
        },
        "id": "S8yRM3kVp_zO",
        "outputId": "f82fc71b-2419-4960-dc3e-848fe3f85166"
      },
      "source": [
        "df_2015.info()"
      ],
      "execution_count": 43,
      "outputs": [
        {
          "output_type": "stream",
          "text": [
            "<class 'pandas.core.frame.DataFrame'>\n",
            "Int64Index: 76 entries, 0 to 75\n",
            "Data columns (total 3 columns):\n",
            " #   Column           Non-Null Count  Dtype \n",
            "---  ------           --------------  ----- \n",
            " 0   year             76 non-null     object\n",
            " 1   month            76 non-null     object\n",
            " 2   Avg. Daily Pop.  76 non-null     int64 \n",
            "dtypes: int64(1), object(2)\n",
            "memory usage: 2.4+ KB\n"
          ],
          "name": "stdout"
        }
      ]
    },
    {
      "cell_type": "code",
      "metadata": {
        "colab": {
          "base_uri": "https://localhost:8080/",
          "height": 459
        },
        "id": "YlTNMP5EdZ2i",
        "outputId": "3414b181-05f1-413a-9e2c-d9a766a84051"
      },
      "source": [
        "# Trying to Plot only 2015\n",
        "x = df_2015['month']\n",
        "y = df_2015['Avg. Daily Pop.']\n",
        "plt.bar(x, y)\n",
        "plt.xlabel('month')\n",
        "plt.ylabel('Avg. Daily Pop.')\n",
        "plt.show()"
      ],
      "execution_count": 44,
      "outputs": [
        {
          "output_type": "display_data",
          "data": {
            "image/png": "[encoded data removed]",
            "text/plain": [
              "<Figure size 640x480 with 1 Axes>"
            ]
          },
          "metadata": {
            "tags": []
          }
        }
      ]
    },
    {
      "cell_type": "code",
      "metadata": {
        "colab": {
          "base_uri": "https://localhost:8080/",
          "height": 47
        },
        "id": "pt1mdCa_ddNf",
        "outputId": "842242b3-30db-497c-f0af-6ef49bed4cea"
      },
      "source": [
        "# example code:  df[(df['age'] > 28) & (df['grade'] == 'A')]\n",
        "df_monthyear[(df_monthyear['year'] == '2016')]"
      ],
      "execution_count": 45,
      "outputs": [
        {
          "output_type": "execute_result",
          "data": {
            "text/html": [
              "<div>\n",
              "<style scoped>\n",
              "    .dataframe tbody tr th:only-of-type {\n",
              "        vertical-align: middle;\n",
              "    }\n",
              "\n",
              "    .dataframe tbody tr th {\n",
              "        vertical-align: top;\n",
              "    }\n",
              "\n",
              "    .dataframe thead th {\n",
              "        text-align: right;\n",
              "    }\n",
              "</style>\n",
              "<table border=\"1\" class=\"dataframe\">\n",
              "  <thead>\n",
              "    <tr style=\"text-align: right;\">\n",
              "      <th></th>\n",
              "      <th>year</th>\n",
              "      <th>month</th>\n",
              "      <th>Avg. Daily Pop.</th>\n",
              "    </tr>\n",
              "  </thead>\n",
              "  <tbody>\n",
              "  </tbody>\n",
              "</table>\n",
              "</div>"
            ],
            "text/plain": [
              "Empty DataFrame\n",
              "Columns: [year, month, Avg. Daily Pop.]\n",
              "Index: []"
            ]
          },
          "metadata": {
            "tags": []
          },
          "execution_count": 45
        }
      ]
    },
    {
      "cell_type": "code",
      "metadata": {
        "colab": {
          "base_uri": "https://localhost:8080/",
          "height": 459
        },
        "id": "2YrbCk8LdiQm",
        "outputId": "cd215dd4-42c3-4f3b-fec3-6b8417fc34a2"
      },
      "source": [
        "x = df_monthyear['month']\n",
        "y = df_monthyear['Avg. Daily Pop.']\n",
        "plt.bar(x, y)\n",
        "plt.xlabel('month')\n",
        "plt.ylabel('Avg. Daily Pop.')\n",
        "plt.show()\n",
        "# in plot below the separate lines in each bar are for each year. Will try to add color coded stacking."
      ],
      "execution_count": 46,
      "outputs": [
        {
          "output_type": "display_data",
          "data": {
            "image/png": "[encoded data removed]",
            "text/plain": [
              "<Figure size 640x480 with 1 Axes>"
            ]
          },
          "metadata": {
            "tags": []
          }
        }
      ]
    },
    {
      "cell_type": "code",
      "metadata": {
        "colab": {
          "base_uri": "https://localhost:8080/",
          "height": 1000
        },
        "id": "Sa9mkCjQdluu",
        "outputId": "4fe5f1b8-b89d-4734-9167-f206cdc61548"
      },
      "source": [
        "df_dscc = df_1.groupby('DSCC Names').apply(lambda x: x.sort_values('year'))\n",
        "df_dscc.head(20)"
      ],
      "execution_count": 47,
      "outputs": [
        {
          "output_type": "execute_result",
          "data": {
            "text/html": [
              "<div>\n",
              "<style scoped>\n",
              "    .dataframe tbody tr th:only-of-type {\n",
              "        vertical-align: middle;\n",
              "    }\n",
              "\n",
              "    .dataframe tbody tr th {\n",
              "        vertical-align: top;\n",
              "    }\n",
              "\n",
              "    .dataframe thead th {\n",
              "        text-align: right;\n",
              "    }\n",
              "</style>\n",
              "<table border=\"1\" class=\"dataframe\">\n",
              "  <thead>\n",
              "    <tr style=\"text-align: right;\">\n",
              "      <th></th>\n",
              "      <th></th>\n",
              "      <th>Date</th>\n",
              "      <th>DSCC Abbr.</th>\n",
              "      <th>DSCC Names</th>\n",
              "      <th>category</th>\n",
              "      <th>Avg. Daily Pop.</th>\n",
              "      <th>month</th>\n",
              "      <th>year</th>\n",
              "    </tr>\n",
              "    <tr>\n",
              "      <th>DSCC Names</th>\n",
              "      <th></th>\n",
              "      <th></th>\n",
              "      <th></th>\n",
              "      <th></th>\n",
              "      <th></th>\n",
              "      <th></th>\n",
              "      <th></th>\n",
              "      <th></th>\n",
              "    </tr>\n",
              "  </thead>\n",
              "  <tbody>\n",
              "    <tr>\n",
              "      <th rowspan=\"20\" valign=\"top\">Alternative Community Services</th>\n",
              "      <th>452</th>\n",
              "      <td>2015-01-01</td>\n",
              "      <td>ACS</td>\n",
              "      <td>Alternative Community Services</td>\n",
              "      <td>Criminal Justice Clients under Pre-Trial Services</td>\n",
              "      <td>721</td>\n",
              "      <td>01</td>\n",
              "      <td>2015</td>\n",
              "    </tr>\n",
              "    <tr>\n",
              "      <th>385</th>\n",
              "      <td>2015-12-01</td>\n",
              "      <td>ACS</td>\n",
              "      <td>Alternative Community Services</td>\n",
              "      <td>Criminal Justice Clients under Pre-Trial Services</td>\n",
              "      <td>882</td>\n",
              "      <td>12</td>\n",
              "      <td>2015</td>\n",
              "    </tr>\n",
              "    <tr>\n",
              "      <th>393</th>\n",
              "      <td>2015-11-01</td>\n",
              "      <td>ACS</td>\n",
              "      <td>Alternative Community Services</td>\n",
              "      <td>Criminal Justice Clients under Pre-Trial Services</td>\n",
              "      <td>879</td>\n",
              "      <td>11</td>\n",
              "      <td>2015</td>\n",
              "    </tr>\n",
              "    <tr>\n",
              "      <th>398</th>\n",
              "      <td>2015-10-01</td>\n",
              "      <td>ACS</td>\n",
              "      <td>Alternative Community Services</td>\n",
              "      <td>Criminal Justice Clients under Pre-Trial Services</td>\n",
              "      <td>758</td>\n",
              "      <td>10</td>\n",
              "      <td>2015</td>\n",
              "    </tr>\n",
              "    <tr>\n",
              "      <th>402</th>\n",
              "      <td>2015-09-01</td>\n",
              "      <td>ACS</td>\n",
              "      <td>Alternative Community Services</td>\n",
              "      <td>Criminal Justice Clients under Pre-Trial Services</td>\n",
              "      <td>703</td>\n",
              "      <td>09</td>\n",
              "      <td>2015</td>\n",
              "    </tr>\n",
              "    <tr>\n",
              "      <th>410</th>\n",
              "      <td>2015-08-01</td>\n",
              "      <td>ACS</td>\n",
              "      <td>Alternative Community Services</td>\n",
              "      <td>Criminal Justice Clients under Pre-Trial Services</td>\n",
              "      <td>739</td>\n",
              "      <td>08</td>\n",
              "      <td>2015</td>\n",
              "    </tr>\n",
              "    <tr>\n",
              "      <th>449</th>\n",
              "      <td>2015-02-01</td>\n",
              "      <td>ACS</td>\n",
              "      <td>Alternative Community Services</td>\n",
              "      <td>Criminal Justice Clients under Pre-Trial Services</td>\n",
              "      <td>738</td>\n",
              "      <td>02</td>\n",
              "      <td>2015</td>\n",
              "    </tr>\n",
              "    <tr>\n",
              "      <th>424</th>\n",
              "      <td>2015-06-01</td>\n",
              "      <td>ACS</td>\n",
              "      <td>Alternative Community Services</td>\n",
              "      <td>Criminal Justice Clients under Pre-Trial Services</td>\n",
              "      <td>699</td>\n",
              "      <td>06</td>\n",
              "      <td>2015</td>\n",
              "    </tr>\n",
              "    <tr>\n",
              "      <th>426</th>\n",
              "      <td>2015-05-01</td>\n",
              "      <td>ACS</td>\n",
              "      <td>Alternative Community Services</td>\n",
              "      <td>Criminal Justice Clients under Pre-Trial Services</td>\n",
              "      <td>751</td>\n",
              "      <td>05</td>\n",
              "      <td>2015</td>\n",
              "    </tr>\n",
              "    <tr>\n",
              "      <th>433</th>\n",
              "      <td>2015-04-01</td>\n",
              "      <td>ACS</td>\n",
              "      <td>Alternative Community Services</td>\n",
              "      <td>Criminal Justice Clients under Pre-Trial Services</td>\n",
              "      <td>780</td>\n",
              "      <td>04</td>\n",
              "      <td>2015</td>\n",
              "    </tr>\n",
              "    <tr>\n",
              "      <th>439</th>\n",
              "      <td>2015-03-01</td>\n",
              "      <td>ACS</td>\n",
              "      <td>Alternative Community Services</td>\n",
              "      <td>Criminal Justice Clients under Pre-Trial Services</td>\n",
              "      <td>749</td>\n",
              "      <td>03</td>\n",
              "      <td>2015</td>\n",
              "    </tr>\n",
              "    <tr>\n",
              "      <th>414</th>\n",
              "      <td>2015-07-01</td>\n",
              "      <td>ACS</td>\n",
              "      <td>Alternative Community Services</td>\n",
              "      <td>Criminal Justice Clients under Pre-Trial Services</td>\n",
              "      <td>705</td>\n",
              "      <td>07</td>\n",
              "      <td>2015</td>\n",
              "    </tr>\n",
              "    <tr>\n",
              "      <th>321</th>\n",
              "      <td>2016-11-01</td>\n",
              "      <td>ACS</td>\n",
              "      <td>Alternative Community Services</td>\n",
              "      <td>Criminal Justice Clients under Pre-Trial Services</td>\n",
              "      <td>804</td>\n",
              "      <td>11</td>\n",
              "      <td>2016</td>\n",
              "    </tr>\n",
              "    <tr>\n",
              "      <th>328</th>\n",
              "      <td>2016-10-01</td>\n",
              "      <td>ACS</td>\n",
              "      <td>Alternative Community Services</td>\n",
              "      <td>Criminal Justice Clients under Pre-Trial Services</td>\n",
              "      <td>894</td>\n",
              "      <td>10</td>\n",
              "      <td>2016</td>\n",
              "    </tr>\n",
              "    <tr>\n",
              "      <th>332</th>\n",
              "      <td>2016-09-01</td>\n",
              "      <td>ACS</td>\n",
              "      <td>Alternative Community Services</td>\n",
              "      <td>Criminal Justice Clients under Pre-Trial Services</td>\n",
              "      <td>955</td>\n",
              "      <td>09</td>\n",
              "      <td>2016</td>\n",
              "    </tr>\n",
              "    <tr>\n",
              "      <th>346</th>\n",
              "      <td>2016-07-01</td>\n",
              "      <td>ACS</td>\n",
              "      <td>Alternative Community Services</td>\n",
              "      <td>Criminal Justice Clients under Pre-Trial Services</td>\n",
              "      <td>933</td>\n",
              "      <td>07</td>\n",
              "      <td>2016</td>\n",
              "    </tr>\n",
              "    <tr>\n",
              "      <th>314</th>\n",
              "      <td>2016-12-01</td>\n",
              "      <td>ACS</td>\n",
              "      <td>Alternative Community Services</td>\n",
              "      <td>Criminal Justice Clients under Pre-Trial Services</td>\n",
              "      <td>729</td>\n",
              "      <td>12</td>\n",
              "      <td>2016</td>\n",
              "    </tr>\n",
              "    <tr>\n",
              "      <th>354</th>\n",
              "      <td>2016-05-01</td>\n",
              "      <td>ACS</td>\n",
              "      <td>Alternative Community Services</td>\n",
              "      <td>Criminal Justice Clients under Pre-Trial Services</td>\n",
              "      <td>1025</td>\n",
              "      <td>05</td>\n",
              "      <td>2016</td>\n",
              "    </tr>\n",
              "    <tr>\n",
              "      <th>348</th>\n",
              "      <td>2016-06-01</td>\n",
              "      <td>ACS</td>\n",
              "      <td>Alternative Community Services</td>\n",
              "      <td>Criminal Justice Clients under Pre-Trial Services</td>\n",
              "      <td>945</td>\n",
              "      <td>06</td>\n",
              "      <td>2016</td>\n",
              "    </tr>\n",
              "    <tr>\n",
              "      <th>383</th>\n",
              "      <td>2016-01-01</td>\n",
              "      <td>ACS</td>\n",
              "      <td>Alternative Community Services</td>\n",
              "      <td>Criminal Justice Clients under Pre-Trial Services</td>\n",
              "      <td>814</td>\n",
              "      <td>01</td>\n",
              "      <td>2016</td>\n",
              "    </tr>\n",
              "  </tbody>\n",
              "</table>\n",
              "</div>"
            ],
            "text/plain": [
              "                                         Date DSCC Abbr.  ... month   year\n",
              "DSCC Names                                                ...             \n",
              "Alternative Community Services 452 2015-01-01        ACS  ...    01   2015\n",
              "                               385 2015-12-01        ACS  ...    12   2015\n",
              "                               393 2015-11-01        ACS  ...    11   2015\n",
              "                               398 2015-10-01        ACS  ...    10   2015\n",
              "                               402 2015-09-01        ACS  ...    09   2015\n",
              "                               410 2015-08-01        ACS  ...    08   2015\n",
              "                               449 2015-02-01        ACS  ...    02   2015\n",
              "                               424 2015-06-01        ACS  ...    06   2015\n",
              "                               426 2015-05-01        ACS  ...    05   2015\n",
              "                               433 2015-04-01        ACS  ...    04   2015\n",
              "                               439 2015-03-01        ACS  ...    03   2015\n",
              "                               414 2015-07-01        ACS  ...    07   2015\n",
              "                               321 2016-11-01        ACS  ...    11   2016\n",
              "                               328 2016-10-01        ACS  ...    10   2016\n",
              "                               332 2016-09-01        ACS  ...    09   2016\n",
              "                               346 2016-07-01        ACS  ...    07   2016\n",
              "                               314 2016-12-01        ACS  ...    12   2016\n",
              "                               354 2016-05-01        ACS  ...    05   2016\n",
              "                               348 2016-06-01        ACS  ...    06   2016\n",
              "                               383 2016-01-01        ACS  ...    01   2016\n",
              "\n",
              "[20 rows x 7 columns]"
            ]
          },
          "metadata": {
            "tags": []
          },
          "execution_count": 47
        }
      ]
    },
    {
      "cell_type": "code",
      "metadata": {
        "colab": {
          "base_uri": "https://localhost:8080/",
          "height": 459
        },
        "id": "f_DUk0U2dqM2",
        "outputId": "bc2b393d-f5de-4b95-8b83-a88c3a3dcfc3"
      },
      "source": [
        "x = df_dscc['DSCC Abbr.']\n",
        "y = df_dscc['Avg. Daily Pop.']\n",
        "plt.bar(x, y)\n",
        "plt.xlabel('DSCC Abbreviations')\n",
        "plt.ylabel('Avg. Daily Pop.')\n",
        "plt.show()\n",
        "# not sure what lines represent, could be month/year. "
      ],
      "execution_count": 48,
      "outputs": [
        {
          "output_type": "display_data",
          "data": {
            "image/png": "[encoded data removed]",
            "text/plain": [
              "<Figure size 640x480 with 1 Axes>"
            ]
          },
          "metadata": {
            "tags": []
          }
        }
      ]
    },
    {
      "cell_type": "code",
      "metadata": {
        "colab": {
          "base_uri": "https://localhost:8080/"
        },
        "id": "Eoxf5sWsfZi7",
        "outputId": "a8f26a55-b827-40a5-a9c9-308dc1625c68"
      },
      "source": [
        "df_2020 = [(df_monthyear['year'] == 2020)]\n",
        "df_2020[:]"
      ],
      "execution_count": 49,
      "outputs": [
        {
          "output_type": "execute_result",
          "data": {
            "text/plain": [
              "[0     False\n",
              " 1     False\n",
              " 2     False\n",
              " 3     False\n",
              " 4     False\n",
              "       ...  \n",
              " 71    False\n",
              " 72    False\n",
              " 73    False\n",
              " 74    False\n",
              " 75    False\n",
              " Name: year, Length: 76, dtype: bool]"
            ]
          },
          "metadata": {
            "tags": []
          },
          "execution_count": 49
        }
      ]
    },
    {
      "cell_type": "code",
      "metadata": {
        "colab": {
          "base_uri": "https://localhost:8080/",
          "height": 296
        },
        "id": "XtONDs0c6t8h",
        "outputId": "107be8de-23e5-43cd-de75-be96255aef76"
      },
      "source": [
        "df_1.head()"
      ],
      "execution_count": 50,
      "outputs": [
        {
          "output_type": "execute_result",
          "data": {
            "text/html": [
              "<div>\n",
              "<style scoped>\n",
              "    .dataframe tbody tr th:only-of-type {\n",
              "        vertical-align: middle;\n",
              "    }\n",
              "\n",
              "    .dataframe tbody tr th {\n",
              "        vertical-align: top;\n",
              "    }\n",
              "\n",
              "    .dataframe thead th {\n",
              "        text-align: right;\n",
              "    }\n",
              "</style>\n",
              "<table border=\"1\" class=\"dataframe\">\n",
              "  <thead>\n",
              "    <tr style=\"text-align: right;\">\n",
              "      <th></th>\n",
              "      <th>Date</th>\n",
              "      <th>DSCC Abbr.</th>\n",
              "      <th>DSCC Names</th>\n",
              "      <th>category</th>\n",
              "      <th>Avg. Daily Pop.</th>\n",
              "      <th>month</th>\n",
              "      <th>year</th>\n",
              "    </tr>\n",
              "  </thead>\n",
              "  <tbody>\n",
              "    <tr>\n",
              "      <th>0</th>\n",
              "      <td>2021-04-01</td>\n",
              "      <td>ACS</td>\n",
              "      <td>Alternative Community Services</td>\n",
              "      <td>Criminal Justice Clients under Pre-Trial Services</td>\n",
              "      <td>280</td>\n",
              "      <td>04</td>\n",
              "      <td>2021</td>\n",
              "    </tr>\n",
              "    <tr>\n",
              "      <th>1</th>\n",
              "      <td>2021-04-01</td>\n",
              "      <td>PTSU</td>\n",
              "      <td>Pre-Trial Supervision Unit</td>\n",
              "      <td>Criminal Justice Clients under Pre-Trial Services</td>\n",
              "      <td>938</td>\n",
              "      <td>04</td>\n",
              "      <td>2021</td>\n",
              "    </tr>\n",
              "    <tr>\n",
              "      <th>2</th>\n",
              "      <td>2021-04-01</td>\n",
              "      <td>PRRS</td>\n",
              "      <td>Pre-Release and Re-Entry Services</td>\n",
              "      <td>Inmates in DOCR Custody</td>\n",
              "      <td>0</td>\n",
              "      <td>04</td>\n",
              "      <td>2021</td>\n",
              "    </tr>\n",
              "    <tr>\n",
              "      <th>3</th>\n",
              "      <td>2021-04-01</td>\n",
              "      <td>MCCF</td>\n",
              "      <td>Montgomery County Correctional Facility</td>\n",
              "      <td>Inmates in DOCR Custody</td>\n",
              "      <td>538</td>\n",
              "      <td>04</td>\n",
              "      <td>2021</td>\n",
              "    </tr>\n",
              "    <tr>\n",
              "      <th>4</th>\n",
              "      <td>2021-04-01</td>\n",
              "      <td>MCDC</td>\n",
              "      <td>Montgomery County Detention Center</td>\n",
              "      <td>Inmates in DOCR Custody</td>\n",
              "      <td>46</td>\n",
              "      <td>04</td>\n",
              "      <td>2021</td>\n",
              "    </tr>\n",
              "  </tbody>\n",
              "</table>\n",
              "</div>"
            ],
            "text/plain": [
              "        Date DSCC Abbr.  ... month   year\n",
              "0 2021-04-01        ACS  ...    04   2021\n",
              "1 2021-04-01       PTSU  ...    04   2021\n",
              "2 2021-04-01       PRRS  ...    04   2021\n",
              "3 2021-04-01       MCCF  ...    04   2021\n",
              "4 2021-04-01       MCDC  ...    04   2021\n",
              "\n",
              "[5 rows x 7 columns]"
            ]
          },
          "metadata": {
            "tags": []
          },
          "execution_count": 50
        }
      ]
    },
    {
      "cell_type": "code",
      "metadata": {
        "colab": {
          "base_uri": "https://localhost:8080/",
          "height": 279
        },
        "id": "v1OImPpA7Hug",
        "outputId": "69477d4f-5861-4998-9c26-dc1e6eb5f256"
      },
      "source": [
        "# Rename columns\n",
        "df_1 = df_1.rename(columns = {\"DSCC Abbr.\": \"DSCC_Abbr.\", \"DSCC Names\" : \"DSCC_Names\", \"Avg. Daily Pop.\": \"ADP\"})\n",
        "df_1.head()"
      ],
      "execution_count": 51,
      "outputs": [
        {
          "output_type": "execute_result",
          "data": {
            "text/html": [
              "<div>\n",
              "<style scoped>\n",
              "    .dataframe tbody tr th:only-of-type {\n",
              "        vertical-align: middle;\n",
              "    }\n",
              "\n",
              "    .dataframe tbody tr th {\n",
              "        vertical-align: top;\n",
              "    }\n",
              "\n",
              "    .dataframe thead th {\n",
              "        text-align: right;\n",
              "    }\n",
              "</style>\n",
              "<table border=\"1\" class=\"dataframe\">\n",
              "  <thead>\n",
              "    <tr style=\"text-align: right;\">\n",
              "      <th></th>\n",
              "      <th>Date</th>\n",
              "      <th>DSCC_Abbr.</th>\n",
              "      <th>DSCC_Names</th>\n",
              "      <th>category</th>\n",
              "      <th>ADP</th>\n",
              "      <th>month</th>\n",
              "      <th>year</th>\n",
              "    </tr>\n",
              "  </thead>\n",
              "  <tbody>\n",
              "    <tr>\n",
              "      <th>0</th>\n",
              "      <td>2021-04-01</td>\n",
              "      <td>ACS</td>\n",
              "      <td>Alternative Community Services</td>\n",
              "      <td>Criminal Justice Clients under Pre-Trial Services</td>\n",
              "      <td>280</td>\n",
              "      <td>04</td>\n",
              "      <td>2021</td>\n",
              "    </tr>\n",
              "    <tr>\n",
              "      <th>1</th>\n",
              "      <td>2021-04-01</td>\n",
              "      <td>PTSU</td>\n",
              "      <td>Pre-Trial Supervision Unit</td>\n",
              "      <td>Criminal Justice Clients under Pre-Trial Services</td>\n",
              "      <td>938</td>\n",
              "      <td>04</td>\n",
              "      <td>2021</td>\n",
              "    </tr>\n",
              "    <tr>\n",
              "      <th>2</th>\n",
              "      <td>2021-04-01</td>\n",
              "      <td>PRRS</td>\n",
              "      <td>Pre-Release and Re-Entry Services</td>\n",
              "      <td>Inmates in DOCR Custody</td>\n",
              "      <td>0</td>\n",
              "      <td>04</td>\n",
              "      <td>2021</td>\n",
              "    </tr>\n",
              "    <tr>\n",
              "      <th>3</th>\n",
              "      <td>2021-04-01</td>\n",
              "      <td>MCCF</td>\n",
              "      <td>Montgomery County Correctional Facility</td>\n",
              "      <td>Inmates in DOCR Custody</td>\n",
              "      <td>538</td>\n",
              "      <td>04</td>\n",
              "      <td>2021</td>\n",
              "    </tr>\n",
              "    <tr>\n",
              "      <th>4</th>\n",
              "      <td>2021-04-01</td>\n",
              "      <td>MCDC</td>\n",
              "      <td>Montgomery County Detention Center</td>\n",
              "      <td>Inmates in DOCR Custody</td>\n",
              "      <td>46</td>\n",
              "      <td>04</td>\n",
              "      <td>2021</td>\n",
              "    </tr>\n",
              "  </tbody>\n",
              "</table>\n",
              "</div>"
            ],
            "text/plain": [
              "        Date DSCC_Abbr.  ... month   year\n",
              "0 2021-04-01        ACS  ...    04   2021\n",
              "1 2021-04-01       PTSU  ...    04   2021\n",
              "2 2021-04-01       PRRS  ...    04   2021\n",
              "3 2021-04-01       MCCF  ...    04   2021\n",
              "4 2021-04-01       MCDC  ...    04   2021\n",
              "\n",
              "[5 rows x 7 columns]"
            ]
          },
          "metadata": {
            "tags": []
          },
          "execution_count": 51
        }
      ]
    },
    {
      "cell_type": "code",
      "metadata": {
        "colab": {
          "base_uri": "https://localhost:8080/"
        },
        "id": "giWhxrza6xqa",
        "outputId": "2eefbfd9-4abb-409a-b1de-4a362a833836"
      },
      "source": [
        "# examine unique categories to try to isolate pre-trial from sentenced\n",
        "df_1.category.unique()"
      ],
      "execution_count": 52,
      "outputs": [
        {
          "output_type": "execute_result",
          "data": {
            "text/plain": [
              "array(['Criminal Justice Clients under Pre-Trial Services',\n",
              "       'Inmates in DOCR Custody'], dtype=object)"
            ]
          },
          "metadata": {
            "tags": []
          },
          "execution_count": 52
        }
      ]
    },
    {
      "cell_type": "code",
      "metadata": {
        "colab": {
          "base_uri": "https://localhost:8080/"
        },
        "id": "RzrE5aNE7Aio",
        "outputId": "14744e09-5427-4346-9d63-d227a384d1bc"
      },
      "source": [
        "# examine uinque DSCC names to try to isolate pre-trial from sentenced\n",
        "df_1.DSCC_Names.unique()"
      ],
      "execution_count": 53,
      "outputs": [
        {
          "output_type": "execute_result",
          "data": {
            "text/plain": [
              "array(['Alternative Community Services', 'Pre-Trial Supervision Unit',\n",
              "       'Pre-Release and Re-Entry Services',\n",
              "       'Montgomery County Correctional Facility',\n",
              "       'Montgomery County Detention Center',\n",
              "       'Intervention Program for Substance Abusers'], dtype=object)"
            ]
          },
          "metadata": {
            "tags": []
          },
          "execution_count": 53
        }
      ]
    },
    {
      "cell_type": "code",
      "metadata": {
        "colab": {
          "base_uri": "https://localhost:8080/",
          "height": 279
        },
        "id": "ElvFHV168DvN",
        "outputId": "d0e19bfb-3db1-4162-e689-bb8066e0f70f"
      },
      "source": [
        "# Drop all row entries with \"Pre-Release and Re-Entry Services\" since that is post-conviction\n",
        "df_1_pretrial = df_1[df_1.DSCC_Names != 'Pre-Release and Re-Entry Services']\n",
        "df_1_pretrial.head()"
      ],
      "execution_count": 54,
      "outputs": [
        {
          "output_type": "execute_result",
          "data": {
            "text/html": [
              "<div>\n",
              "<style scoped>\n",
              "    .dataframe tbody tr th:only-of-type {\n",
              "        vertical-align: middle;\n",
              "    }\n",
              "\n",
              "    .dataframe tbody tr th {\n",
              "        vertical-align: top;\n",
              "    }\n",
              "\n",
              "    .dataframe thead th {\n",
              "        text-align: right;\n",
              "    }\n",
              "</style>\n",
              "<table border=\"1\" class=\"dataframe\">\n",
              "  <thead>\n",
              "    <tr style=\"text-align: right;\">\n",
              "      <th></th>\n",
              "      <th>Date</th>\n",
              "      <th>DSCC_Abbr.</th>\n",
              "      <th>DSCC_Names</th>\n",
              "      <th>category</th>\n",
              "      <th>ADP</th>\n",
              "      <th>month</th>\n",
              "      <th>year</th>\n",
              "    </tr>\n",
              "  </thead>\n",
              "  <tbody>\n",
              "    <tr>\n",
              "      <th>0</th>\n",
              "      <td>2021-04-01</td>\n",
              "      <td>ACS</td>\n",
              "      <td>Alternative Community Services</td>\n",
              "      <td>Criminal Justice Clients under Pre-Trial Services</td>\n",
              "      <td>280</td>\n",
              "      <td>04</td>\n",
              "      <td>2021</td>\n",
              "    </tr>\n",
              "    <tr>\n",
              "      <th>1</th>\n",
              "      <td>2021-04-01</td>\n",
              "      <td>PTSU</td>\n",
              "      <td>Pre-Trial Supervision Unit</td>\n",
              "      <td>Criminal Justice Clients under Pre-Trial Services</td>\n",
              "      <td>938</td>\n",
              "      <td>04</td>\n",
              "      <td>2021</td>\n",
              "    </tr>\n",
              "    <tr>\n",
              "      <th>3</th>\n",
              "      <td>2021-04-01</td>\n",
              "      <td>MCCF</td>\n",
              "      <td>Montgomery County Correctional Facility</td>\n",
              "      <td>Inmates in DOCR Custody</td>\n",
              "      <td>538</td>\n",
              "      <td>04</td>\n",
              "      <td>2021</td>\n",
              "    </tr>\n",
              "    <tr>\n",
              "      <th>4</th>\n",
              "      <td>2021-04-01</td>\n",
              "      <td>MCDC</td>\n",
              "      <td>Montgomery County Detention Center</td>\n",
              "      <td>Inmates in DOCR Custody</td>\n",
              "      <td>46</td>\n",
              "      <td>04</td>\n",
              "      <td>2021</td>\n",
              "    </tr>\n",
              "    <tr>\n",
              "      <th>5</th>\n",
              "      <td>2021-04-01</td>\n",
              "      <td>IPSA</td>\n",
              "      <td>Intervention Program for Substance Abusers</td>\n",
              "      <td>Criminal Justice Clients under Pre-Trial Services</td>\n",
              "      <td>67</td>\n",
              "      <td>04</td>\n",
              "      <td>2021</td>\n",
              "    </tr>\n",
              "  </tbody>\n",
              "</table>\n",
              "</div>"
            ],
            "text/plain": [
              "        Date DSCC_Abbr.  ... month   year\n",
              "0 2021-04-01        ACS  ...    04   2021\n",
              "1 2021-04-01       PTSU  ...    04   2021\n",
              "3 2021-04-01       MCCF  ...    04   2021\n",
              "4 2021-04-01       MCDC  ...    04   2021\n",
              "5 2021-04-01       IPSA  ...    04   2021\n",
              "\n",
              "[5 rows x 7 columns]"
            ]
          },
          "metadata": {
            "tags": []
          },
          "execution_count": 54
        }
      ]
    },
    {
      "cell_type": "code",
      "metadata": {
        "colab": {
          "base_uri": "https://localhost:8080/",
          "height": 195
        },
        "id": "uzDKvkVt8p5p",
        "outputId": "2f847dd9-328c-4359-a2da-658efa1b53de"
      },
      "source": [
        "df_1_inmates = df_1_pretrial[df_1_pretrial.category != 'Criminal Justice Clients under Pre-Trial Services']\n",
        "df_1_inmates.head()"
      ],
      "execution_count": 55,
      "outputs": [
        {
          "output_type": "execute_result",
          "data": {
            "text/html": [
              "<div>\n",
              "<style scoped>\n",
              "    .dataframe tbody tr th:only-of-type {\n",
              "        vertical-align: middle;\n",
              "    }\n",
              "\n",
              "    .dataframe tbody tr th {\n",
              "        vertical-align: top;\n",
              "    }\n",
              "\n",
              "    .dataframe thead th {\n",
              "        text-align: right;\n",
              "    }\n",
              "</style>\n",
              "<table border=\"1\" class=\"dataframe\">\n",
              "  <thead>\n",
              "    <tr style=\"text-align: right;\">\n",
              "      <th></th>\n",
              "      <th>Date</th>\n",
              "      <th>DSCC_Abbr.</th>\n",
              "      <th>DSCC_Names</th>\n",
              "      <th>category</th>\n",
              "      <th>ADP</th>\n",
              "      <th>month</th>\n",
              "      <th>year</th>\n",
              "    </tr>\n",
              "  </thead>\n",
              "  <tbody>\n",
              "    <tr>\n",
              "      <th>3</th>\n",
              "      <td>2021-04-01</td>\n",
              "      <td>MCCF</td>\n",
              "      <td>Montgomery County Correctional Facility</td>\n",
              "      <td>Inmates in DOCR Custody</td>\n",
              "      <td>538</td>\n",
              "      <td>04</td>\n",
              "      <td>2021</td>\n",
              "    </tr>\n",
              "    <tr>\n",
              "      <th>4</th>\n",
              "      <td>2021-04-01</td>\n",
              "      <td>MCDC</td>\n",
              "      <td>Montgomery County Detention Center</td>\n",
              "      <td>Inmates in DOCR Custody</td>\n",
              "      <td>46</td>\n",
              "      <td>04</td>\n",
              "      <td>2021</td>\n",
              "    </tr>\n",
              "    <tr>\n",
              "      <th>7</th>\n",
              "      <td>2021-03-01</td>\n",
              "      <td>MCDC</td>\n",
              "      <td>Montgomery County Detention Center</td>\n",
              "      <td>Inmates in DOCR Custody</td>\n",
              "      <td>51</td>\n",
              "      <td>03</td>\n",
              "      <td>2021</td>\n",
              "    </tr>\n",
              "    <tr>\n",
              "      <th>11</th>\n",
              "      <td>2021-03-01</td>\n",
              "      <td>MCCF</td>\n",
              "      <td>Montgomery County Correctional Facility</td>\n",
              "      <td>Inmates in DOCR Custody</td>\n",
              "      <td>505</td>\n",
              "      <td>03</td>\n",
              "      <td>2021</td>\n",
              "    </tr>\n",
              "    <tr>\n",
              "      <th>12</th>\n",
              "      <td>2021-02-01</td>\n",
              "      <td>MCDC</td>\n",
              "      <td>Montgomery County Detention Center</td>\n",
              "      <td>Inmates in DOCR Custody</td>\n",
              "      <td>50</td>\n",
              "      <td>02</td>\n",
              "      <td>2021</td>\n",
              "    </tr>\n",
              "  </tbody>\n",
              "</table>\n",
              "</div>"
            ],
            "text/plain": [
              "         Date DSCC_Abbr.  ... month   year\n",
              "3  2021-04-01       MCCF  ...    04   2021\n",
              "4  2021-04-01       MCDC  ...    04   2021\n",
              "7  2021-03-01       MCDC  ...    03   2021\n",
              "11 2021-03-01       MCCF  ...    03   2021\n",
              "12 2021-02-01       MCDC  ...    02   2021\n",
              "\n",
              "[5 rows x 7 columns]"
            ]
          },
          "metadata": {
            "tags": []
          },
          "execution_count": 55
        }
      ]
    },
    {
      "cell_type": "code",
      "metadata": {
        "colab": {
          "base_uri": "https://localhost:8080/"
        },
        "id": "OMXyaxun9VUB",
        "outputId": "0b6e3492-ffdc-45f3-b643-cbcc056fa4df"
      },
      "source": [
        "df_1_inmates.count()"
      ],
      "execution_count": 56,
      "outputs": [
        {
          "output_type": "execute_result",
          "data": {
            "text/plain": [
              "Date          152\n",
              "DSCC_Abbr.    152\n",
              "DSCC_Names    152\n",
              "category      152\n",
              "ADP           152\n",
              "month         152\n",
              "year          152\n",
              "dtype: int64"
            ]
          },
          "metadata": {
            "tags": []
          },
          "execution_count": 56
        }
      ]
    },
    {
      "cell_type": "code",
      "metadata": {
        "colab": {
          "base_uri": "https://localhost:8080/",
          "height": 279
        },
        "id": "Ox63D6UD9cZB",
        "outputId": "d179c14e-3237-4689-a897-39e35693e91c"
      },
      "source": [
        "df_1_pts = df_1[df_1.category == 'Criminal Justice Clients under Pre-Trial Services']\n",
        "df_1_pts.head()"
      ],
      "execution_count": 57,
      "outputs": [
        {
          "output_type": "execute_result",
          "data": {
            "text/html": [
              "<div>\n",
              "<style scoped>\n",
              "    .dataframe tbody tr th:only-of-type {\n",
              "        vertical-align: middle;\n",
              "    }\n",
              "\n",
              "    .dataframe tbody tr th {\n",
              "        vertical-align: top;\n",
              "    }\n",
              "\n",
              "    .dataframe thead th {\n",
              "        text-align: right;\n",
              "    }\n",
              "</style>\n",
              "<table border=\"1\" class=\"dataframe\">\n",
              "  <thead>\n",
              "    <tr style=\"text-align: right;\">\n",
              "      <th></th>\n",
              "      <th>Date</th>\n",
              "      <th>DSCC_Abbr.</th>\n",
              "      <th>DSCC_Names</th>\n",
              "      <th>category</th>\n",
              "      <th>ADP</th>\n",
              "      <th>month</th>\n",
              "      <th>year</th>\n",
              "    </tr>\n",
              "  </thead>\n",
              "  <tbody>\n",
              "    <tr>\n",
              "      <th>0</th>\n",
              "      <td>2021-04-01</td>\n",
              "      <td>ACS</td>\n",
              "      <td>Alternative Community Services</td>\n",
              "      <td>Criminal Justice Clients under Pre-Trial Services</td>\n",
              "      <td>280</td>\n",
              "      <td>04</td>\n",
              "      <td>2021</td>\n",
              "    </tr>\n",
              "    <tr>\n",
              "      <th>1</th>\n",
              "      <td>2021-04-01</td>\n",
              "      <td>PTSU</td>\n",
              "      <td>Pre-Trial Supervision Unit</td>\n",
              "      <td>Criminal Justice Clients under Pre-Trial Services</td>\n",
              "      <td>938</td>\n",
              "      <td>04</td>\n",
              "      <td>2021</td>\n",
              "    </tr>\n",
              "    <tr>\n",
              "      <th>5</th>\n",
              "      <td>2021-04-01</td>\n",
              "      <td>IPSA</td>\n",
              "      <td>Intervention Program for Substance Abusers</td>\n",
              "      <td>Criminal Justice Clients under Pre-Trial Services</td>\n",
              "      <td>67</td>\n",
              "      <td>04</td>\n",
              "      <td>2021</td>\n",
              "    </tr>\n",
              "    <tr>\n",
              "      <th>8</th>\n",
              "      <td>2021-03-01</td>\n",
              "      <td>PTSU</td>\n",
              "      <td>Pre-Trial Supervision Unit</td>\n",
              "      <td>Criminal Justice Clients under Pre-Trial Services</td>\n",
              "      <td>946</td>\n",
              "      <td>03</td>\n",
              "      <td>2021</td>\n",
              "    </tr>\n",
              "    <tr>\n",
              "      <th>9</th>\n",
              "      <td>2021-03-01</td>\n",
              "      <td>IPSA</td>\n",
              "      <td>Intervention Program for Substance Abusers</td>\n",
              "      <td>Criminal Justice Clients under Pre-Trial Services</td>\n",
              "      <td>67</td>\n",
              "      <td>03</td>\n",
              "      <td>2021</td>\n",
              "    </tr>\n",
              "  </tbody>\n",
              "</table>\n",
              "</div>"
            ],
            "text/plain": [
              "        Date DSCC_Abbr.  ... month   year\n",
              "0 2021-04-01        ACS  ...    04   2021\n",
              "1 2021-04-01       PTSU  ...    04   2021\n",
              "5 2021-04-01       IPSA  ...    04   2021\n",
              "8 2021-03-01       PTSU  ...    03   2021\n",
              "9 2021-03-01       IPSA  ...    03   2021\n",
              "\n",
              "[5 rows x 7 columns]"
            ]
          },
          "metadata": {
            "tags": []
          },
          "execution_count": 57
        }
      ]
    },
    {
      "cell_type": "code",
      "metadata": {
        "colab": {
          "base_uri": "https://localhost:8080/"
        },
        "id": "4ExrXxkS92iV",
        "outputId": "a2cc7fbf-4717-4cb3-cc5d-ebdc557d3284"
      },
      "source": [
        "df_1_pts.value_counts()"
      ],
      "execution_count": 58,
      "outputs": [
        {
          "output_type": "execute_result",
          "data": {
            "text/plain": [
              "Date        DSCC_Abbr.  DSCC_Names                                  category                                           ADP  month  year \n",
              "2021-04-01  PTSU        Pre-Trial Supervision Unit                  Criminal Justice Clients under Pre-Trial Services  938  04      2021    1\n",
              "2017-05-01  ACS         Alternative Community Services              Criminal Justice Clients under Pre-Trial Services  644  05      2017    1\n",
              "2017-04-01  IPSA        Intervention Program for Substance Abusers  Criminal Justice Clients under Pre-Trial Services  155  04      2017    1\n",
              "            ACS         Alternative Community Services              Criminal Justice Clients under Pre-Trial Services  649  04      2017    1\n",
              "2017-03-01  PTSU        Pre-Trial Supervision Unit                  Criminal Justice Clients under Pre-Trial Services  721  03      2017    1\n",
              "                                                                                                                                           ..\n",
              "2019-02-01  IPSA        Intervention Program for Substance Abusers  Criminal Justice Clients under Pre-Trial Services  109  02      2019    1\n",
              "            ACS         Alternative Community Services              Criminal Justice Clients under Pre-Trial Services  625  02      2019    1\n",
              "2019-01-01  PTSU        Pre-Trial Supervision Unit                  Criminal Justice Clients under Pre-Trial Services  749  01      2019    1\n",
              "            IPSA        Intervention Program for Substance Abusers  Criminal Justice Clients under Pre-Trial Services  114  01      2019    1\n",
              "2015-01-01  ACS         Alternative Community Services              Criminal Justice Clients under Pre-Trial Services  721  01      2015    1\n",
              "Length: 228, dtype: int64"
            ]
          },
          "metadata": {
            "tags": []
          },
          "execution_count": 58
        }
      ]
    },
    {
      "cell_type": "code",
      "metadata": {
        "colab": {
          "base_uri": "https://localhost:8080/"
        },
        "id": "UUYKzc17-VU-",
        "outputId": "df3c46a9-8de2-4e30-b2bf-22645974e0df"
      },
      "source": [
        "df_1_pretrial.groupby(\"category\")[\"ADP\"].mean()"
      ],
      "execution_count": 59,
      "outputs": [
        {
          "output_type": "execute_result",
          "data": {
            "text/plain": [
              "category\n",
              "Criminal Justice Clients under Pre-Trial Services    506.043860\n",
              "Inmates in DOCR Custody                              307.743421\n",
              "Name: ADP, dtype: float64"
            ]
          },
          "metadata": {
            "tags": []
          },
          "execution_count": 59
        }
      ]
    },
    {
      "cell_type": "code",
      "metadata": {
        "colab": {
          "base_uri": "https://localhost:8080/"
        },
        "id": "j4ub-X8J__YQ",
        "outputId": "f553efea-33af-4276-b735-2fc034e13845"
      },
      "source": [
        "df_1.groupby(\"category\")[\"ADP\"].mean()"
      ],
      "execution_count": 60,
      "outputs": [
        {
          "output_type": "execute_result",
          "data": {
            "text/plain": [
              "category\n",
              "Criminal Justice Clients under Pre-Trial Services    506.043860\n",
              "Inmates in DOCR Custody                              239.311404\n",
              "Name: ADP, dtype: float64"
            ]
          },
          "metadata": {
            "tags": []
          },
          "execution_count": 60
        }
      ]
    },
    {
      "cell_type": "code",
      "metadata": {
        "colab": {
          "base_uri": "https://localhost:8080/"
        },
        "id": "AA4T6jgp-upq",
        "outputId": "e3d5eda3-dca7-40af-ce1c-628824df7127"
      },
      "source": [
        "df_1.groupby(\"category\")[\"ADP\"].sum()"
      ],
      "execution_count": 61,
      "outputs": [
        {
          "output_type": "execute_result",
          "data": {
            "text/plain": [
              "category\n",
              "Criminal Justice Clients under Pre-Trial Services    115378\n",
              "Inmates in DOCR Custody                               54563\n",
              "Name: ADP, dtype: int64"
            ]
          },
          "metadata": {
            "tags": []
          },
          "execution_count": 61
        }
      ]
    },
    {
      "cell_type": "code",
      "metadata": {
        "colab": {
          "base_uri": "https://localhost:8080/"
        },
        "id": "Tv1ONkTmAO7u",
        "outputId": "4ec23bb1-c846-46ce-dea5-ca2d16fb104f"
      },
      "source": [
        "df_1_pretrial.groupby(\"category\")[\"ADP\"].sum()"
      ],
      "execution_count": 62,
      "outputs": [
        {
          "output_type": "execute_result",
          "data": {
            "text/plain": [
              "category\n",
              "Criminal Justice Clients under Pre-Trial Services    115378\n",
              "Inmates in DOCR Custody                               46777\n",
              "Name: ADP, dtype: int64"
            ]
          },
          "metadata": {
            "tags": []
          },
          "execution_count": 62
        }
      ]
    },
    {
      "cell_type": "code",
      "metadata": {
        "colab": {
          "base_uri": "https://localhost:8080/",
          "height": 492
        },
        "id": "WvSc1mpmABm8",
        "outputId": "768eccfa-b74f-465d-f19e-4bc977d92f96"
      },
      "source": [
        "#PLOT 1 Average Daily Population \n",
        "import numpy as np\n",
        "import pandas as pd\n",
        "from pandas import Series, DataFrame\n",
        "import matplotlib.pyplot as plt\n",
        "\n",
        "plt.figure(figsize=(9,6)) \n",
        "plt.bar(x=df_1_pretrial['year'], \n",
        "        height=df_1_pretrial['ADP'], \n",
        "        color='blue') \n",
        "plt.xticks(rotation=45)\n",
        "plt.title('ADP by Year')"
      ],
      "execution_count": 63,
      "outputs": [
        {
          "output_type": "execute_result",
          "data": {
            "text/plain": [
              "Text(0.5, 1.0, 'ADP by Year')"
            ]
          },
          "metadata": {
            "tags": []
          },
          "execution_count": 63
        },
        {
          "output_type": "display_data",
          "data": {
            "image/png": "[encoded data removed]",
            "text/plain": [
              "<Figure size 720x480 with 1 Axes>"
            ]
          },
          "metadata": {
            "tags": []
          }
        }
      ]
    },
    {
      "cell_type": "code",
      "metadata": {
        "colab": {
          "base_uri": "https://localhost:8080/",
          "height": 514
        },
        "id": "2wsHMbAJDRax",
        "outputId": "281f8225-7163-4eef-9cb8-71cd064358f8"
      },
      "source": [
        "# Plot Comparing Pretrial services versus detention\n",
        "import numpy as np\n",
        "import pandas as pd\n",
        "from matplotlib import pyplot as plt\n",
        "import seaborn as sns\n",
        "sns.set()\n",
        "\n",
        "ax = df_1_pretrial.groupby(['year', 'category'])['ADP'].mean().unstack().plot.bar(colormap='PRGn', alpha = 0.7)\n",
        "ax.set_facecolor('white')\n",
        "plt.grid(True, linewidth=0.5, color='grey', linestyle='-')\n",
        "ax.legend(bbox_to_anchor = [1, 1])\n",
        "plt.title(\"Pre-Trial Status by Year\")\n",
        "plt.xlabel(\"Year\")\n",
        "plt.ylabel(\"Average Daily Population\")\n"
      ],
      "execution_count": 64,
      "outputs": [
        {
          "output_type": "execute_result",
          "data": {
            "text/plain": [
              "Text(0, 0.5, 'Average Daily Population')"
            ]
          },
          "metadata": {
            "tags": []
          },
          "execution_count": 64
        },
        {
          "output_type": "display_data",
          "data": {
            "image/png": "[encoded data removed]",
            "text/plain": [
              "<Figure size 640x480 with 1 Axes>"
            ]
          },
          "metadata": {
            "tags": []
          }
        }
      ]
    },
    {
      "cell_type": "code",
      "metadata": {
        "colab": {
          "base_uri": "https://localhost:8080/",
          "height": 514
        },
        "id": "c4-47oOpinAg",
        "outputId": "948ddd12-56d8-417f-9fce-dd140f75cb1b"
      },
      "source": [
        "sns.set_style(\"whitegrid\")\n",
        "\n",
        "ax = df_1_pretrial.groupby(['year', 'category'])['ADP'].mean().unstack().plot.bar(colormap='PRGn', alpha = 0.5)\n",
        "ax.legend(bbox_to_anchor = [1, 1])\n",
        "plt.title(\"Pre-Trial Status by Year\")\n",
        "plt.xlabel(\"Year\")\n",
        "plt.ylabel(\"Average Daily Population\")"
      ],
      "execution_count": 65,
      "outputs": [
        {
          "output_type": "execute_result",
          "data": {
            "text/plain": [
              "Text(0, 0.5, 'Average Daily Population')"
            ]
          },
          "metadata": {
            "tags": []
          },
          "execution_count": 65
        },
        {
          "output_type": "display_data",
          "data": {
            "image/png": "[encoded data removed]",
            "text/plain": [
              "<Figure size 640x480 with 1 Axes>"
            ]
          },
          "metadata": {
            "tags": []
          }
        }
      ]
    },
    {
      "cell_type": "code",
      "metadata": {
        "colab": {
          "base_uri": "https://localhost:8080/",
          "height": 279
        },
        "id": "NVEvW6U5gKLQ",
        "outputId": "86a4a8c6-19f7-455b-d54f-c561e114043e"
      },
      "source": [
        "df_1.head()"
      ],
      "execution_count": 66,
      "outputs": [
        {
          "output_type": "execute_result",
          "data": {
            "text/html": [
              "<div>\n",
              "<style scoped>\n",
              "    .dataframe tbody tr th:only-of-type {\n",
              "        vertical-align: middle;\n",
              "    }\n",
              "\n",
              "    .dataframe tbody tr th {\n",
              "        vertical-align: top;\n",
              "    }\n",
              "\n",
              "    .dataframe thead th {\n",
              "        text-align: right;\n",
              "    }\n",
              "</style>\n",
              "<table border=\"1\" class=\"dataframe\">\n",
              "  <thead>\n",
              "    <tr style=\"text-align: right;\">\n",
              "      <th></th>\n",
              "      <th>Date</th>\n",
              "      <th>DSCC_Abbr.</th>\n",
              "      <th>DSCC_Names</th>\n",
              "      <th>category</th>\n",
              "      <th>ADP</th>\n",
              "      <th>month</th>\n",
              "      <th>year</th>\n",
              "    </tr>\n",
              "  </thead>\n",
              "  <tbody>\n",
              "    <tr>\n",
              "      <th>0</th>\n",
              "      <td>2021-04-01</td>\n",
              "      <td>ACS</td>\n",
              "      <td>Alternative Community Services</td>\n",
              "      <td>Criminal Justice Clients under Pre-Trial Services</td>\n",
              "      <td>280</td>\n",
              "      <td>04</td>\n",
              "      <td>2021</td>\n",
              "    </tr>\n",
              "    <tr>\n",
              "      <th>1</th>\n",
              "      <td>2021-04-01</td>\n",
              "      <td>PTSU</td>\n",
              "      <td>Pre-Trial Supervision Unit</td>\n",
              "      <td>Criminal Justice Clients under Pre-Trial Services</td>\n",
              "      <td>938</td>\n",
              "      <td>04</td>\n",
              "      <td>2021</td>\n",
              "    </tr>\n",
              "    <tr>\n",
              "      <th>2</th>\n",
              "      <td>2021-04-01</td>\n",
              "      <td>PRRS</td>\n",
              "      <td>Pre-Release and Re-Entry Services</td>\n",
              "      <td>Inmates in DOCR Custody</td>\n",
              "      <td>0</td>\n",
              "      <td>04</td>\n",
              "      <td>2021</td>\n",
              "    </tr>\n",
              "    <tr>\n",
              "      <th>3</th>\n",
              "      <td>2021-04-01</td>\n",
              "      <td>MCCF</td>\n",
              "      <td>Montgomery County Correctional Facility</td>\n",
              "      <td>Inmates in DOCR Custody</td>\n",
              "      <td>538</td>\n",
              "      <td>04</td>\n",
              "      <td>2021</td>\n",
              "    </tr>\n",
              "    <tr>\n",
              "      <th>4</th>\n",
              "      <td>2021-04-01</td>\n",
              "      <td>MCDC</td>\n",
              "      <td>Montgomery County Detention Center</td>\n",
              "      <td>Inmates in DOCR Custody</td>\n",
              "      <td>46</td>\n",
              "      <td>04</td>\n",
              "      <td>2021</td>\n",
              "    </tr>\n",
              "  </tbody>\n",
              "</table>\n",
              "</div>"
            ],
            "text/plain": [
              "        Date DSCC_Abbr.  ... month   year\n",
              "0 2021-04-01        ACS  ...    04   2021\n",
              "1 2021-04-01       PTSU  ...    04   2021\n",
              "2 2021-04-01       PRRS  ...    04   2021\n",
              "3 2021-04-01       MCCF  ...    04   2021\n",
              "4 2021-04-01       MCDC  ...    04   2021\n",
              "\n",
              "[5 rows x 7 columns]"
            ]
          },
          "metadata": {
            "tags": []
          },
          "execution_count": 66
        }
      ]
    },
    {
      "cell_type": "code",
      "metadata": {
        "colab": {
          "base_uri": "https://localhost:8080/",
          "height": 514
        },
        "id": "iAbtH4ZhH24n",
        "outputId": "25947a58-4f65-4825-8b18-16e9244c1070"
      },
      "source": [
        "# Table of total daily population of people in pretrial services versus detention by year\n",
        "ax = df_1_pretrial.groupby(['year', 'category'])['ADP'].mean().unstack().plot.bar(colormap='PRGn', alpha = 0.5)\n",
        "ax.set_facecolor('white')\n",
        "ax.legend(bbox_to_anchor = [1, 1])\n",
        "\n",
        "plt.title('Inmates Released versus Pre-Trial Services')\n",
        "plt.xlabel('Year')\n",
        "plt.ylabel('Total')"
      ],
      "execution_count": 67,
      "outputs": [
        {
          "output_type": "execute_result",
          "data": {
            "text/plain": [
              "Text(0, 0.5, 'Total')"
            ]
          },
          "metadata": {
            "tags": []
          },
          "execution_count": 67
        },
        {
          "output_type": "display_data",
          "data": {
            "image/png": "[encoded data removed]",
            "text/plain": [
              "<Figure size 640x480 with 1 Axes>"
            ]
          },
          "metadata": {
            "tags": []
          }
        }
      ]
    },
    {
      "cell_type": "code",
      "metadata": {
        "id": "4yQC-6SsjXFb"
      },
      "source": [
        "# Table of average total daily population of people in pretrial services versus detention by year\n",
        "df_categoryyear = pd.DataFrame(df_1_pretrial.groupby(['year', 'category'])['ADP'].mean())\n",
        "df_catyearplot = pd.DataFrame(round(df_categoryyear.ADP, 1))"
      ],
      "execution_count": 68,
      "outputs": []
    },
    {
      "cell_type": "code",
      "metadata": {
        "colab": {
          "base_uri": "https://localhost:8080/",
          "height": 491
        },
        "id": "2UESy4OQjr4x",
        "outputId": "3008ffb6-3498-41d4-ad7f-266024f384ad"
      },
      "source": [
        "df_catyearplot"
      ],
      "execution_count": 69,
      "outputs": [
        {
          "output_type": "execute_result",
          "data": {
            "text/html": [
              "<div>\n",
              "<style scoped>\n",
              "    .dataframe tbody tr th:only-of-type {\n",
              "        vertical-align: middle;\n",
              "    }\n",
              "\n",
              "    .dataframe tbody tr th {\n",
              "        vertical-align: top;\n",
              "    }\n",
              "\n",
              "    .dataframe thead th {\n",
              "        text-align: right;\n",
              "    }\n",
              "</style>\n",
              "<table border=\"1\" class=\"dataframe\">\n",
              "  <thead>\n",
              "    <tr style=\"text-align: right;\">\n",
              "      <th></th>\n",
              "      <th></th>\n",
              "      <th>ADP</th>\n",
              "    </tr>\n",
              "    <tr>\n",
              "      <th>year</th>\n",
              "      <th>category</th>\n",
              "      <th></th>\n",
              "    </tr>\n",
              "  </thead>\n",
              "  <tbody>\n",
              "    <tr>\n",
              "      <th rowspan=\"2\" valign=\"top\">2015</th>\n",
              "      <th>Criminal Justice Clients under Pre-Trial Services</th>\n",
              "      <td>518.9</td>\n",
              "    </tr>\n",
              "    <tr>\n",
              "      <th>Inmates in DOCR Custody</th>\n",
              "      <td>303.9</td>\n",
              "    </tr>\n",
              "    <tr>\n",
              "      <th rowspan=\"2\" valign=\"top\">2016</th>\n",
              "      <th>Criminal Justice Clients under Pre-Trial Services</th>\n",
              "      <td>583.3</td>\n",
              "    </tr>\n",
              "    <tr>\n",
              "      <th>Inmates in DOCR Custody</th>\n",
              "      <td>318.0</td>\n",
              "    </tr>\n",
              "    <tr>\n",
              "      <th rowspan=\"2\" valign=\"top\">2017</th>\n",
              "      <th>Criminal Justice Clients under Pre-Trial Services</th>\n",
              "      <td>506.9</td>\n",
              "    </tr>\n",
              "    <tr>\n",
              "      <th>Inmates in DOCR Custody</th>\n",
              "      <td>309.7</td>\n",
              "    </tr>\n",
              "    <tr>\n",
              "      <th rowspan=\"2\" valign=\"top\">2018</th>\n",
              "      <th>Criminal Justice Clients under Pre-Trial Services</th>\n",
              "      <td>505.4</td>\n",
              "    </tr>\n",
              "    <tr>\n",
              "      <th>Inmates in DOCR Custody</th>\n",
              "      <td>329.4</td>\n",
              "    </tr>\n",
              "    <tr>\n",
              "      <th rowspan=\"2\" valign=\"top\">2019</th>\n",
              "      <th>Criminal Justice Clients under Pre-Trial Services</th>\n",
              "      <td>470.3</td>\n",
              "    </tr>\n",
              "    <tr>\n",
              "      <th>Inmates in DOCR Custody</th>\n",
              "      <td>312.0</td>\n",
              "    </tr>\n",
              "    <tr>\n",
              "      <th rowspan=\"2\" valign=\"top\">2020</th>\n",
              "      <th>Criminal Justice Clients under Pre-Trial Services</th>\n",
              "      <td>475.0</td>\n",
              "    </tr>\n",
              "    <tr>\n",
              "      <th>Inmates in DOCR Custody</th>\n",
              "      <td>284.0</td>\n",
              "    </tr>\n",
              "    <tr>\n",
              "      <th rowspan=\"2\" valign=\"top\">2021</th>\n",
              "      <th>Criminal Justice Clients under Pre-Trial Services</th>\n",
              "      <td>435.2</td>\n",
              "    </tr>\n",
              "    <tr>\n",
              "      <th>Inmates in DOCR Custody</th>\n",
              "      <td>276.1</td>\n",
              "    </tr>\n",
              "  </tbody>\n",
              "</table>\n",
              "</div>"
            ],
            "text/plain": [
              "                                                           ADP\n",
              "year  category                                                \n",
              " 2015 Criminal Justice Clients under Pre-Trial Services  518.9\n",
              "      Inmates in DOCR Custody                            303.9\n",
              " 2016 Criminal Justice Clients under Pre-Trial Services  583.3\n",
              "      Inmates in DOCR Custody                            318.0\n",
              " 2017 Criminal Justice Clients under Pre-Trial Services  506.9\n",
              "      Inmates in DOCR Custody                            309.7\n",
              " 2018 Criminal Justice Clients under Pre-Trial Services  505.4\n",
              "      Inmates in DOCR Custody                            329.4\n",
              " 2019 Criminal Justice Clients under Pre-Trial Services  470.3\n",
              "      Inmates in DOCR Custody                            312.0\n",
              " 2020 Criminal Justice Clients under Pre-Trial Services  475.0\n",
              "      Inmates in DOCR Custody                            284.0\n",
              " 2021 Criminal Justice Clients under Pre-Trial Services  435.2\n",
              "      Inmates in DOCR Custody                            276.1"
            ]
          },
          "metadata": {
            "tags": []
          },
          "execution_count": 69
        }
      ]
    },
    {
      "cell_type": "code",
      "metadata": {
        "colab": {
          "base_uri": "https://localhost:8080/",
          "height": 225
        },
        "id": "aRo9e1ogEhrd",
        "outputId": "26cbc7be-3f6c-4231-dd7b-96cef221516e"
      },
      "source": [
        "df_categoryyear.head()"
      ],
      "execution_count": 70,
      "outputs": [
        {
          "output_type": "execute_result",
          "data": {
            "text/html": [
              "<div>\n",
              "<style scoped>\n",
              "    .dataframe tbody tr th:only-of-type {\n",
              "        vertical-align: middle;\n",
              "    }\n",
              "\n",
              "    .dataframe tbody tr th {\n",
              "        vertical-align: top;\n",
              "    }\n",
              "\n",
              "    .dataframe thead th {\n",
              "        text-align: right;\n",
              "    }\n",
              "</style>\n",
              "<table border=\"1\" class=\"dataframe\">\n",
              "  <thead>\n",
              "    <tr style=\"text-align: right;\">\n",
              "      <th></th>\n",
              "      <th></th>\n",
              "      <th>ADP</th>\n",
              "    </tr>\n",
              "    <tr>\n",
              "      <th>year</th>\n",
              "      <th>category</th>\n",
              "      <th></th>\n",
              "    </tr>\n",
              "  </thead>\n",
              "  <tbody>\n",
              "    <tr>\n",
              "      <th rowspan=\"2\" valign=\"top\">2015</th>\n",
              "      <th>Criminal Justice Clients under Pre-Trial Services</th>\n",
              "      <td>518.944444</td>\n",
              "    </tr>\n",
              "    <tr>\n",
              "      <th>Inmates in DOCR Custody</th>\n",
              "      <td>303.875000</td>\n",
              "    </tr>\n",
              "    <tr>\n",
              "      <th rowspan=\"2\" valign=\"top\">2016</th>\n",
              "      <th>Criminal Justice Clients under Pre-Trial Services</th>\n",
              "      <td>583.305556</td>\n",
              "    </tr>\n",
              "    <tr>\n",
              "      <th>Inmates in DOCR Custody</th>\n",
              "      <td>318.000000</td>\n",
              "    </tr>\n",
              "    <tr>\n",
              "      <th>2017</th>\n",
              "      <th>Criminal Justice Clients under Pre-Trial Services</th>\n",
              "      <td>506.944444</td>\n",
              "    </tr>\n",
              "  </tbody>\n",
              "</table>\n",
              "</div>"
            ],
            "text/plain": [
              "                                                                ADP\n",
              "year  category                                                     \n",
              " 2015 Criminal Justice Clients under Pre-Trial Services  518.944444\n",
              "      Inmates in DOCR Custody                            303.875000\n",
              " 2016 Criminal Justice Clients under Pre-Trial Services  583.305556\n",
              "      Inmates in DOCR Custody                            318.000000\n",
              " 2017 Criminal Justice Clients under Pre-Trial Services  506.944444"
            ]
          },
          "metadata": {
            "tags": []
          },
          "execution_count": 70
        }
      ]
    },
    {
      "cell_type": "code",
      "metadata": {
        "colab": {
          "base_uri": "https://localhost:8080/",
          "height": 462
        },
        "id": "o7hV_fnry4PA",
        "outputId": "96a169d4-10ef-4589-ed07-d169a8284c03"
      },
      "source": [
        "df_catyearplot.reset_index()"
      ],
      "execution_count": 71,
      "outputs": [
        {
          "output_type": "execute_result",
          "data": {
            "text/html": [
              "<div>\n",
              "<style scoped>\n",
              "    .dataframe tbody tr th:only-of-type {\n",
              "        vertical-align: middle;\n",
              "    }\n",
              "\n",
              "    .dataframe tbody tr th {\n",
              "        vertical-align: top;\n",
              "    }\n",
              "\n",
              "    .dataframe thead th {\n",
              "        text-align: right;\n",
              "    }\n",
              "</style>\n",
              "<table border=\"1\" class=\"dataframe\">\n",
              "  <thead>\n",
              "    <tr style=\"text-align: right;\">\n",
              "      <th></th>\n",
              "      <th>year</th>\n",
              "      <th>category</th>\n",
              "      <th>ADP</th>\n",
              "    </tr>\n",
              "  </thead>\n",
              "  <tbody>\n",
              "    <tr>\n",
              "      <th>0</th>\n",
              "      <td>2015</td>\n",
              "      <td>Criminal Justice Clients under Pre-Trial Services</td>\n",
              "      <td>518.9</td>\n",
              "    </tr>\n",
              "    <tr>\n",
              "      <th>1</th>\n",
              "      <td>2015</td>\n",
              "      <td>Inmates in DOCR Custody</td>\n",
              "      <td>303.9</td>\n",
              "    </tr>\n",
              "    <tr>\n",
              "      <th>2</th>\n",
              "      <td>2016</td>\n",
              "      <td>Criminal Justice Clients under Pre-Trial Services</td>\n",
              "      <td>583.3</td>\n",
              "    </tr>\n",
              "    <tr>\n",
              "      <th>3</th>\n",
              "      <td>2016</td>\n",
              "      <td>Inmates in DOCR Custody</td>\n",
              "      <td>318.0</td>\n",
              "    </tr>\n",
              "    <tr>\n",
              "      <th>4</th>\n",
              "      <td>2017</td>\n",
              "      <td>Criminal Justice Clients under Pre-Trial Services</td>\n",
              "      <td>506.9</td>\n",
              "    </tr>\n",
              "    <tr>\n",
              "      <th>5</th>\n",
              "      <td>2017</td>\n",
              "      <td>Inmates in DOCR Custody</td>\n",
              "      <td>309.7</td>\n",
              "    </tr>\n",
              "    <tr>\n",
              "      <th>6</th>\n",
              "      <td>2018</td>\n",
              "      <td>Criminal Justice Clients under Pre-Trial Services</td>\n",
              "      <td>505.4</td>\n",
              "    </tr>\n",
              "    <tr>\n",
              "      <th>7</th>\n",
              "      <td>2018</td>\n",
              "      <td>Inmates in DOCR Custody</td>\n",
              "      <td>329.4</td>\n",
              "    </tr>\n",
              "    <tr>\n",
              "      <th>8</th>\n",
              "      <td>2019</td>\n",
              "      <td>Criminal Justice Clients under Pre-Trial Services</td>\n",
              "      <td>470.3</td>\n",
              "    </tr>\n",
              "    <tr>\n",
              "      <th>9</th>\n",
              "      <td>2019</td>\n",
              "      <td>Inmates in DOCR Custody</td>\n",
              "      <td>312.0</td>\n",
              "    </tr>\n",
              "    <tr>\n",
              "      <th>10</th>\n",
              "      <td>2020</td>\n",
              "      <td>Criminal Justice Clients under Pre-Trial Services</td>\n",
              "      <td>475.0</td>\n",
              "    </tr>\n",
              "    <tr>\n",
              "      <th>11</th>\n",
              "      <td>2020</td>\n",
              "      <td>Inmates in DOCR Custody</td>\n",
              "      <td>284.0</td>\n",
              "    </tr>\n",
              "    <tr>\n",
              "      <th>12</th>\n",
              "      <td>2021</td>\n",
              "      <td>Criminal Justice Clients under Pre-Trial Services</td>\n",
              "      <td>435.2</td>\n",
              "    </tr>\n",
              "    <tr>\n",
              "      <th>13</th>\n",
              "      <td>2021</td>\n",
              "      <td>Inmates in DOCR Custody</td>\n",
              "      <td>276.1</td>\n",
              "    </tr>\n",
              "  </tbody>\n",
              "</table>\n",
              "</div>"
            ],
            "text/plain": [
              "     year                                           category    ADP\n",
              "0    2015  Criminal Justice Clients under Pre-Trial Services  518.9\n",
              "1    2015                            Inmates in DOCR Custody  303.9\n",
              "2    2016  Criminal Justice Clients under Pre-Trial Services  583.3\n",
              "3    2016                            Inmates in DOCR Custody  318.0\n",
              "4    2017  Criminal Justice Clients under Pre-Trial Services  506.9\n",
              "5    2017                            Inmates in DOCR Custody  309.7\n",
              "6    2018  Criminal Justice Clients under Pre-Trial Services  505.4\n",
              "7    2018                            Inmates in DOCR Custody  329.4\n",
              "8    2019  Criminal Justice Clients under Pre-Trial Services  470.3\n",
              "9    2019                            Inmates in DOCR Custody  312.0\n",
              "10   2020  Criminal Justice Clients under Pre-Trial Services  475.0\n",
              "11   2020                            Inmates in DOCR Custody  284.0\n",
              "12   2021  Criminal Justice Clients under Pre-Trial Services  435.2\n",
              "13   2021                            Inmates in DOCR Custody  276.1"
            ]
          },
          "metadata": {
            "tags": []
          },
          "execution_count": 71
        }
      ]
    },
    {
      "cell_type": "code",
      "metadata": {
        "colab": {
          "base_uri": "https://localhost:8080/",
          "height": 491
        },
        "id": "vozEnUQq285h",
        "outputId": "01a9c302-ae11-4c98-f22a-fc5680b6bacd"
      },
      "source": [
        "df_cyp = pd.DataFrame(df_catyearplot, columns = ['ADP'])\n",
        "df_cyp"
      ],
      "execution_count": 72,
      "outputs": [
        {
          "output_type": "execute_result",
          "data": {
            "text/html": [
              "<div>\n",
              "<style scoped>\n",
              "    .dataframe tbody tr th:only-of-type {\n",
              "        vertical-align: middle;\n",
              "    }\n",
              "\n",
              "    .dataframe tbody tr th {\n",
              "        vertical-align: top;\n",
              "    }\n",
              "\n",
              "    .dataframe thead th {\n",
              "        text-align: right;\n",
              "    }\n",
              "</style>\n",
              "<table border=\"1\" class=\"dataframe\">\n",
              "  <thead>\n",
              "    <tr style=\"text-align: right;\">\n",
              "      <th></th>\n",
              "      <th></th>\n",
              "      <th>ADP</th>\n",
              "    </tr>\n",
              "    <tr>\n",
              "      <th>year</th>\n",
              "      <th>category</th>\n",
              "      <th></th>\n",
              "    </tr>\n",
              "  </thead>\n",
              "  <tbody>\n",
              "    <tr>\n",
              "      <th rowspan=\"2\" valign=\"top\">2015</th>\n",
              "      <th>Criminal Justice Clients under Pre-Trial Services</th>\n",
              "      <td>518.9</td>\n",
              "    </tr>\n",
              "    <tr>\n",
              "      <th>Inmates in DOCR Custody</th>\n",
              "      <td>303.9</td>\n",
              "    </tr>\n",
              "    <tr>\n",
              "      <th rowspan=\"2\" valign=\"top\">2016</th>\n",
              "      <th>Criminal Justice Clients under Pre-Trial Services</th>\n",
              "      <td>583.3</td>\n",
              "    </tr>\n",
              "    <tr>\n",
              "      <th>Inmates in DOCR Custody</th>\n",
              "      <td>318.0</td>\n",
              "    </tr>\n",
              "    <tr>\n",
              "      <th rowspan=\"2\" valign=\"top\">2017</th>\n",
              "      <th>Criminal Justice Clients under Pre-Trial Services</th>\n",
              "      <td>506.9</td>\n",
              "    </tr>\n",
              "    <tr>\n",
              "      <th>Inmates in DOCR Custody</th>\n",
              "      <td>309.7</td>\n",
              "    </tr>\n",
              "    <tr>\n",
              "      <th rowspan=\"2\" valign=\"top\">2018</th>\n",
              "      <th>Criminal Justice Clients under Pre-Trial Services</th>\n",
              "      <td>505.4</td>\n",
              "    </tr>\n",
              "    <tr>\n",
              "      <th>Inmates in DOCR Custody</th>\n",
              "      <td>329.4</td>\n",
              "    </tr>\n",
              "    <tr>\n",
              "      <th rowspan=\"2\" valign=\"top\">2019</th>\n",
              "      <th>Criminal Justice Clients under Pre-Trial Services</th>\n",
              "      <td>470.3</td>\n",
              "    </tr>\n",
              "    <tr>\n",
              "      <th>Inmates in DOCR Custody</th>\n",
              "      <td>312.0</td>\n",
              "    </tr>\n",
              "    <tr>\n",
              "      <th rowspan=\"2\" valign=\"top\">2020</th>\n",
              "      <th>Criminal Justice Clients under Pre-Trial Services</th>\n",
              "      <td>475.0</td>\n",
              "    </tr>\n",
              "    <tr>\n",
              "      <th>Inmates in DOCR Custody</th>\n",
              "      <td>284.0</td>\n",
              "    </tr>\n",
              "    <tr>\n",
              "      <th rowspan=\"2\" valign=\"top\">2021</th>\n",
              "      <th>Criminal Justice Clients under Pre-Trial Services</th>\n",
              "      <td>435.2</td>\n",
              "    </tr>\n",
              "    <tr>\n",
              "      <th>Inmates in DOCR Custody</th>\n",
              "      <td>276.1</td>\n",
              "    </tr>\n",
              "  </tbody>\n",
              "</table>\n",
              "</div>"
            ],
            "text/plain": [
              "                                                           ADP\n",
              "year  category                                                \n",
              " 2015 Criminal Justice Clients under Pre-Trial Services  518.9\n",
              "      Inmates in DOCR Custody                            303.9\n",
              " 2016 Criminal Justice Clients under Pre-Trial Services  583.3\n",
              "      Inmates in DOCR Custody                            318.0\n",
              " 2017 Criminal Justice Clients under Pre-Trial Services  506.9\n",
              "      Inmates in DOCR Custody                            309.7\n",
              " 2018 Criminal Justice Clients under Pre-Trial Services  505.4\n",
              "      Inmates in DOCR Custody                            329.4\n",
              " 2019 Criminal Justice Clients under Pre-Trial Services  470.3\n",
              "      Inmates in DOCR Custody                            312.0\n",
              " 2020 Criminal Justice Clients under Pre-Trial Services  475.0\n",
              "      Inmates in DOCR Custody                            284.0\n",
              " 2021 Criminal Justice Clients under Pre-Trial Services  435.2\n",
              "      Inmates in DOCR Custody                            276.1"
            ]
          },
          "metadata": {
            "tags": []
          },
          "execution_count": 72
        }
      ]
    },
    {
      "cell_type": "code",
      "metadata": {
        "colab": {
          "base_uri": "https://localhost:8080/",
          "height": 462
        },
        "id": "ryvubwn-3Rdk",
        "outputId": "8263606f-99ec-4c01-822d-ca89f3334807"
      },
      "source": [
        "df_cyp.reset_index(inplace=True)\n",
        "df_cyp"
      ],
      "execution_count": 73,
      "outputs": [
        {
          "output_type": "execute_result",
          "data": {
            "text/html": [
              "<div>\n",
              "<style scoped>\n",
              "    .dataframe tbody tr th:only-of-type {\n",
              "        vertical-align: middle;\n",
              "    }\n",
              "\n",
              "    .dataframe tbody tr th {\n",
              "        vertical-align: top;\n",
              "    }\n",
              "\n",
              "    .dataframe thead th {\n",
              "        text-align: right;\n",
              "    }\n",
              "</style>\n",
              "<table border=\"1\" class=\"dataframe\">\n",
              "  <thead>\n",
              "    <tr style=\"text-align: right;\">\n",
              "      <th></th>\n",
              "      <th>year</th>\n",
              "      <th>category</th>\n",
              "      <th>ADP</th>\n",
              "    </tr>\n",
              "  </thead>\n",
              "  <tbody>\n",
              "    <tr>\n",
              "      <th>0</th>\n",
              "      <td>2015</td>\n",
              "      <td>Criminal Justice Clients under Pre-Trial Services</td>\n",
              "      <td>518.9</td>\n",
              "    </tr>\n",
              "    <tr>\n",
              "      <th>1</th>\n",
              "      <td>2015</td>\n",
              "      <td>Inmates in DOCR Custody</td>\n",
              "      <td>303.9</td>\n",
              "    </tr>\n",
              "    <tr>\n",
              "      <th>2</th>\n",
              "      <td>2016</td>\n",
              "      <td>Criminal Justice Clients under Pre-Trial Services</td>\n",
              "      <td>583.3</td>\n",
              "    </tr>\n",
              "    <tr>\n",
              "      <th>3</th>\n",
              "      <td>2016</td>\n",
              "      <td>Inmates in DOCR Custody</td>\n",
              "      <td>318.0</td>\n",
              "    </tr>\n",
              "    <tr>\n",
              "      <th>4</th>\n",
              "      <td>2017</td>\n",
              "      <td>Criminal Justice Clients under Pre-Trial Services</td>\n",
              "      <td>506.9</td>\n",
              "    </tr>\n",
              "    <tr>\n",
              "      <th>5</th>\n",
              "      <td>2017</td>\n",
              "      <td>Inmates in DOCR Custody</td>\n",
              "      <td>309.7</td>\n",
              "    </tr>\n",
              "    <tr>\n",
              "      <th>6</th>\n",
              "      <td>2018</td>\n",
              "      <td>Criminal Justice Clients under Pre-Trial Services</td>\n",
              "      <td>505.4</td>\n",
              "    </tr>\n",
              "    <tr>\n",
              "      <th>7</th>\n",
              "      <td>2018</td>\n",
              "      <td>Inmates in DOCR Custody</td>\n",
              "      <td>329.4</td>\n",
              "    </tr>\n",
              "    <tr>\n",
              "      <th>8</th>\n",
              "      <td>2019</td>\n",
              "      <td>Criminal Justice Clients under Pre-Trial Services</td>\n",
              "      <td>470.3</td>\n",
              "    </tr>\n",
              "    <tr>\n",
              "      <th>9</th>\n",
              "      <td>2019</td>\n",
              "      <td>Inmates in DOCR Custody</td>\n",
              "      <td>312.0</td>\n",
              "    </tr>\n",
              "    <tr>\n",
              "      <th>10</th>\n",
              "      <td>2020</td>\n",
              "      <td>Criminal Justice Clients under Pre-Trial Services</td>\n",
              "      <td>475.0</td>\n",
              "    </tr>\n",
              "    <tr>\n",
              "      <th>11</th>\n",
              "      <td>2020</td>\n",
              "      <td>Inmates in DOCR Custody</td>\n",
              "      <td>284.0</td>\n",
              "    </tr>\n",
              "    <tr>\n",
              "      <th>12</th>\n",
              "      <td>2021</td>\n",
              "      <td>Criminal Justice Clients under Pre-Trial Services</td>\n",
              "      <td>435.2</td>\n",
              "    </tr>\n",
              "    <tr>\n",
              "      <th>13</th>\n",
              "      <td>2021</td>\n",
              "      <td>Inmates in DOCR Custody</td>\n",
              "      <td>276.1</td>\n",
              "    </tr>\n",
              "  </tbody>\n",
              "</table>\n",
              "</div>"
            ],
            "text/plain": [
              "     year                                           category    ADP\n",
              "0    2015  Criminal Justice Clients under Pre-Trial Services  518.9\n",
              "1    2015                            Inmates in DOCR Custody  303.9\n",
              "2    2016  Criminal Justice Clients under Pre-Trial Services  583.3\n",
              "3    2016                            Inmates in DOCR Custody  318.0\n",
              "4    2017  Criminal Justice Clients under Pre-Trial Services  506.9\n",
              "5    2017                            Inmates in DOCR Custody  309.7\n",
              "6    2018  Criminal Justice Clients under Pre-Trial Services  505.4\n",
              "7    2018                            Inmates in DOCR Custody  329.4\n",
              "8    2019  Criminal Justice Clients under Pre-Trial Services  470.3\n",
              "9    2019                            Inmates in DOCR Custody  312.0\n",
              "10   2020  Criminal Justice Clients under Pre-Trial Services  475.0\n",
              "11   2020                            Inmates in DOCR Custody  284.0\n",
              "12   2021  Criminal Justice Clients under Pre-Trial Services  435.2\n",
              "13   2021                            Inmates in DOCR Custody  276.1"
            ]
          },
          "metadata": {
            "tags": []
          },
          "execution_count": 73
        }
      ]
    },
    {
      "cell_type": "code",
      "metadata": {
        "id": "ulvnQxq9-TT6",
        "colab": {
          "base_uri": "https://localhost:8080/"
        },
        "outputId": "cc22ede8-a85c-4eb2-daae-d7cf2ede59fa"
      },
      "source": [
        "df_cyp.info()"
      ],
      "execution_count": 74,
      "outputs": [
        {
          "output_type": "stream",
          "text": [
            "<class 'pandas.core.frame.DataFrame'>\n",
            "RangeIndex: 14 entries, 0 to 13\n",
            "Data columns (total 3 columns):\n",
            " #   Column    Non-Null Count  Dtype  \n",
            "---  ------    --------------  -----  \n",
            " 0   year      14 non-null     object \n",
            " 1   category  14 non-null     object \n",
            " 2   ADP       14 non-null     float64\n",
            "dtypes: float64(1), object(2)\n",
            "memory usage: 464.0+ bytes\n"
          ],
          "name": "stdout"
        }
      ]
    },
    {
      "cell_type": "code",
      "metadata": {
        "colab": {
          "base_uri": "https://localhost:8080/"
        },
        "id": "WDv9V1LW34CT",
        "outputId": "cc23b5c1-eebf-4d81-f069-f84c60f45fc4"
      },
      "source": [
        "df_cyp.year"
      ],
      "execution_count": 75,
      "outputs": [
        {
          "output_type": "execute_result",
          "data": {
            "text/plain": [
              "0      2015\n",
              "1      2015\n",
              "2      2016\n",
              "3      2016\n",
              "4      2017\n",
              "5      2017\n",
              "6      2018\n",
              "7      2018\n",
              "8      2019\n",
              "9      2019\n",
              "10     2020\n",
              "11     2020\n",
              "12     2021\n",
              "13     2021\n",
              "Name: year, dtype: object"
            ]
          },
          "metadata": {
            "tags": []
          },
          "execution_count": 75
        }
      ]
    },
    {
      "cell_type": "code",
      "metadata": {
        "colab": {
          "base_uri": "https://localhost:8080/"
        },
        "id": "pmJaZCNy48Ig",
        "outputId": "e5872313-dc94-4f0d-c533-bdda0c4751e1"
      },
      "source": [
        "df_cyp.year.astype(int)"
      ],
      "execution_count": 76,
      "outputs": [
        {
          "output_type": "execute_result",
          "data": {
            "text/plain": [
              "0     2015\n",
              "1     2015\n",
              "2     2016\n",
              "3     2016\n",
              "4     2017\n",
              "5     2017\n",
              "6     2018\n",
              "7     2018\n",
              "8     2019\n",
              "9     2019\n",
              "10    2020\n",
              "11    2020\n",
              "12    2021\n",
              "13    2021\n",
              "Name: year, dtype: int64"
            ]
          },
          "metadata": {
            "tags": []
          },
          "execution_count": 76
        }
      ]
    },
    {
      "cell_type": "code",
      "metadata": {
        "colab": {
          "base_uri": "https://localhost:8080/"
        },
        "id": "KvtpIT7C8QTn",
        "outputId": "7c0f08b7-f87a-48f0-eea3-d8deeceff1b1"
      },
      "source": [
        "df_cyp.year.astype(str)"
      ],
      "execution_count": 77,
      "outputs": [
        {
          "output_type": "execute_result",
          "data": {
            "text/plain": [
              "0      2015\n",
              "1      2015\n",
              "2      2016\n",
              "3      2016\n",
              "4      2017\n",
              "5      2017\n",
              "6      2018\n",
              "7      2018\n",
              "8      2019\n",
              "9      2019\n",
              "10     2020\n",
              "11     2020\n",
              "12     2021\n",
              "13     2021\n",
              "Name: year, dtype: object"
            ]
          },
          "metadata": {
            "tags": []
          },
          "execution_count": 77
        }
      ]
    },
    {
      "cell_type": "code",
      "metadata": {
        "colab": {
          "base_uri": "https://localhost:8080/"
        },
        "id": "ZXi9eVkH8uh5",
        "outputId": "949e66b1-8dc3-4d3f-c75e-d82cd0d09108"
      },
      "source": [
        "df_cyp.year.apply(str)"
      ],
      "execution_count": 78,
      "outputs": [
        {
          "output_type": "execute_result",
          "data": {
            "text/plain": [
              "0      2015\n",
              "1      2015\n",
              "2      2016\n",
              "3      2016\n",
              "4      2017\n",
              "5      2017\n",
              "6      2018\n",
              "7      2018\n",
              "8      2019\n",
              "9      2019\n",
              "10     2020\n",
              "11     2020\n",
              "12     2021\n",
              "13     2021\n",
              "Name: year, dtype: object"
            ]
          },
          "metadata": {
            "tags": []
          },
          "execution_count": 78
        }
      ]
    },
    {
      "cell_type": "code",
      "metadata": {
        "colab": {
          "base_uri": "https://localhost:8080/",
          "height": 52
        },
        "id": "vYll_VnP9NOJ",
        "outputId": "2e510f53-3a25-4a0a-b694-c9611cf995a3"
      },
      "source": [
        "df_cyp.year.to_string()"
      ],
      "execution_count": 79,
      "outputs": [
        {
          "output_type": "execute_result",
          "data": {
            "application/vnd.google.colaboratory.intrinsic+json": {
              "type": "string"
            },
            "text/plain": [
              "'0      2015\\n1      2015\\n2      2016\\n3      2016\\n4      2017\\n5      2017\\n6      2018\\n7      2018\\n8      2019\\n9      2019\\n10     2020\\n11     2020\\n12     2021\\n13     2021'"
            ]
          },
          "metadata": {
            "tags": []
          },
          "execution_count": 79
        }
      ]
    },
    {
      "cell_type": "code",
      "metadata": {
        "colab": {
          "base_uri": "https://localhost:8080/",
          "height": 47
        },
        "id": "UkzZ7OBa84Sf",
        "outputId": "f28dc9fb-8ce5-475b-d5b2-968d7ee9d1bd"
      },
      "source": [
        "df_cyp[df_cyp.year == '2019']"
      ],
      "execution_count": 80,
      "outputs": [
        {
          "output_type": "execute_result",
          "data": {
            "text/html": [
              "<div>\n",
              "<style scoped>\n",
              "    .dataframe tbody tr th:only-of-type {\n",
              "        vertical-align: middle;\n",
              "    }\n",
              "\n",
              "    .dataframe tbody tr th {\n",
              "        vertical-align: top;\n",
              "    }\n",
              "\n",
              "    .dataframe thead th {\n",
              "        text-align: right;\n",
              "    }\n",
              "</style>\n",
              "<table border=\"1\" class=\"dataframe\">\n",
              "  <thead>\n",
              "    <tr style=\"text-align: right;\">\n",
              "      <th></th>\n",
              "      <th>year</th>\n",
              "      <th>category</th>\n",
              "      <th>ADP</th>\n",
              "    </tr>\n",
              "  </thead>\n",
              "  <tbody>\n",
              "  </tbody>\n",
              "</table>\n",
              "</div>"
            ],
            "text/plain": [
              "Empty DataFrame\n",
              "Columns: [year, category, ADP]\n",
              "Index: []"
            ]
          },
          "metadata": {
            "tags": []
          },
          "execution_count": 80
        }
      ]
    },
    {
      "cell_type": "code",
      "metadata": {
        "colab": {
          "base_uri": "https://localhost:8080/",
          "height": 47
        },
        "id": "B6Zr9v9j5iIC",
        "outputId": "6ff8ca15-5bd2-4c1e-afb8-c102461754e1"
      },
      "source": [
        "df_cyp[df_cyp.year == 2019]\n"
      ],
      "execution_count": 81,
      "outputs": [
        {
          "output_type": "execute_result",
          "data": {
            "text/html": [
              "<div>\n",
              "<style scoped>\n",
              "    .dataframe tbody tr th:only-of-type {\n",
              "        vertical-align: middle;\n",
              "    }\n",
              "\n",
              "    .dataframe tbody tr th {\n",
              "        vertical-align: top;\n",
              "    }\n",
              "\n",
              "    .dataframe thead th {\n",
              "        text-align: right;\n",
              "    }\n",
              "</style>\n",
              "<table border=\"1\" class=\"dataframe\">\n",
              "  <thead>\n",
              "    <tr style=\"text-align: right;\">\n",
              "      <th></th>\n",
              "      <th>year</th>\n",
              "      <th>category</th>\n",
              "      <th>ADP</th>\n",
              "    </tr>\n",
              "  </thead>\n",
              "  <tbody>\n",
              "  </tbody>\n",
              "</table>\n",
              "</div>"
            ],
            "text/plain": [
              "Empty DataFrame\n",
              "Columns: [year, category, ADP]\n",
              "Index: []"
            ]
          },
          "metadata": {
            "tags": []
          },
          "execution_count": 81
        }
      ]
    },
    {
      "cell_type": "code",
      "metadata": {
        "id": "GyAVGe4U96Kd"
      },
      "source": [
        "df_cyp['year'] = pd.to_datetime(df_cyp['year'])"
      ],
      "execution_count": 82,
      "outputs": []
    },
    {
      "cell_type": "code",
      "metadata": {
        "colab": {
          "base_uri": "https://localhost:8080/",
          "height": 227
        },
        "id": "u9D7Aig9-A8l",
        "outputId": "9932ea4c-8e3c-4b8c-d635-4147f975dbe2"
      },
      "source": [
        "#2019\n",
        "df2019 = df_cyp[df_cyp.year == '2019']\n",
        "df2019['Total'] = df2019.ADP.sum()\n",
        "df2019"
      ],
      "execution_count": 83,
      "outputs": [
        {
          "output_type": "stream",
          "text": [
            "/usr/local/lib/python3.7/dist-packages/ipykernel_launcher.py:3: SettingWithCopyWarning: \n",
            "A value is trying to be set on a copy of a slice from a DataFrame.\n",
            "Try using .loc[row_indexer,col_indexer] = value instead\n",
            "\n",
            "See the caveats in the documentation: https://pandas.pydata.org/pandas-docs/stable/user_guide/indexing.html#returning-a-view-versus-a-copy\n",
            "  This is separate from the ipykernel package so we can avoid doing imports until\n"
          ],
          "name": "stderr"
        },
        {
          "output_type": "execute_result",
          "data": {
            "text/html": [
              "<div>\n",
              "<style scoped>\n",
              "    .dataframe tbody tr th:only-of-type {\n",
              "        vertical-align: middle;\n",
              "    }\n",
              "\n",
              "    .dataframe tbody tr th {\n",
              "        vertical-align: top;\n",
              "    }\n",
              "\n",
              "    .dataframe thead th {\n",
              "        text-align: right;\n",
              "    }\n",
              "</style>\n",
              "<table border=\"1\" class=\"dataframe\">\n",
              "  <thead>\n",
              "    <tr style=\"text-align: right;\">\n",
              "      <th></th>\n",
              "      <th>year</th>\n",
              "      <th>category</th>\n",
              "      <th>ADP</th>\n",
              "      <th>Total</th>\n",
              "    </tr>\n",
              "  </thead>\n",
              "  <tbody>\n",
              "    <tr>\n",
              "      <th>8</th>\n",
              "      <td>2019-01-01</td>\n",
              "      <td>Criminal Justice Clients under Pre-Trial Services</td>\n",
              "      <td>470.3</td>\n",
              "      <td>782.3</td>\n",
              "    </tr>\n",
              "    <tr>\n",
              "      <th>9</th>\n",
              "      <td>2019-01-01</td>\n",
              "      <td>Inmates in DOCR Custody</td>\n",
              "      <td>312.0</td>\n",
              "      <td>782.3</td>\n",
              "    </tr>\n",
              "  </tbody>\n",
              "</table>\n",
              "</div>"
            ],
            "text/plain": [
              "        year                                           category    ADP  Total\n",
              "8 2019-01-01  Criminal Justice Clients under Pre-Trial Services  470.3  782.3\n",
              "9 2019-01-01                            Inmates in DOCR Custody  312.0  782.3"
            ]
          },
          "metadata": {
            "tags": []
          },
          "execution_count": 83
        }
      ]
    },
    {
      "cell_type": "code",
      "metadata": {
        "colab": {
          "base_uri": "https://localhost:8080/",
          "height": 227
        },
        "id": "bAOULsDX-fuU",
        "outputId": "9c4bb499-bfca-4370-9596-8084dae73fbc"
      },
      "source": [
        "df2019['Percent'] = df2019.ADP/df2019.Total * 100\n",
        "df2019"
      ],
      "execution_count": 84,
      "outputs": [
        {
          "output_type": "stream",
          "text": [
            "/usr/local/lib/python3.7/dist-packages/ipykernel_launcher.py:1: SettingWithCopyWarning: \n",
            "A value is trying to be set on a copy of a slice from a DataFrame.\n",
            "Try using .loc[row_indexer,col_indexer] = value instead\n",
            "\n",
            "See the caveats in the documentation: https://pandas.pydata.org/pandas-docs/stable/user_guide/indexing.html#returning-a-view-versus-a-copy\n",
            "  \"\"\"Entry point for launching an IPython kernel.\n"
          ],
          "name": "stderr"
        },
        {
          "output_type": "execute_result",
          "data": {
            "text/html": [
              "<div>\n",
              "<style scoped>\n",
              "    .dataframe tbody tr th:only-of-type {\n",
              "        vertical-align: middle;\n",
              "    }\n",
              "\n",
              "    .dataframe tbody tr th {\n",
              "        vertical-align: top;\n",
              "    }\n",
              "\n",
              "    .dataframe thead th {\n",
              "        text-align: right;\n",
              "    }\n",
              "</style>\n",
              "<table border=\"1\" class=\"dataframe\">\n",
              "  <thead>\n",
              "    <tr style=\"text-align: right;\">\n",
              "      <th></th>\n",
              "      <th>year</th>\n",
              "      <th>category</th>\n",
              "      <th>ADP</th>\n",
              "      <th>Total</th>\n",
              "      <th>Percent</th>\n",
              "    </tr>\n",
              "  </thead>\n",
              "  <tbody>\n",
              "    <tr>\n",
              "      <th>8</th>\n",
              "      <td>2019-01-01</td>\n",
              "      <td>Criminal Justice Clients under Pre-Trial Services</td>\n",
              "      <td>470.3</td>\n",
              "      <td>782.3</td>\n",
              "      <td>60.117602</td>\n",
              "    </tr>\n",
              "    <tr>\n",
              "      <th>9</th>\n",
              "      <td>2019-01-01</td>\n",
              "      <td>Inmates in DOCR Custody</td>\n",
              "      <td>312.0</td>\n",
              "      <td>782.3</td>\n",
              "      <td>39.882398</td>\n",
              "    </tr>\n",
              "  </tbody>\n",
              "</table>\n",
              "</div>"
            ],
            "text/plain": [
              "        year  ...    Percent\n",
              "8 2019-01-01  ...  60.117602\n",
              "9 2019-01-01  ...  39.882398\n",
              "\n",
              "[2 rows x 5 columns]"
            ]
          },
          "metadata": {
            "tags": []
          },
          "execution_count": 84
        }
      ]
    },
    {
      "cell_type": "code",
      "metadata": {
        "colab": {
          "base_uri": "https://localhost:8080/",
          "height": 328
        },
        "id": "pyuChOGT-tdo",
        "outputId": "1c2d7c5a-e424-4b8d-88b1-b0242fac7ed8"
      },
      "source": [
        "#2015\n",
        "df2015 = df_cyp[df_cyp.year == '2015']\n",
        "df2015['Total'] = df2015.ADP.sum()\n",
        "df2015['Percent'] = df2015.ADP/df2015.Total * 100\n",
        "df2015"
      ],
      "execution_count": 85,
      "outputs": [
        {
          "output_type": "stream",
          "text": [
            "/usr/local/lib/python3.7/dist-packages/ipykernel_launcher.py:3: SettingWithCopyWarning: \n",
            "A value is trying to be set on a copy of a slice from a DataFrame.\n",
            "Try using .loc[row_indexer,col_indexer] = value instead\n",
            "\n",
            "See the caveats in the documentation: https://pandas.pydata.org/pandas-docs/stable/user_guide/indexing.html#returning-a-view-versus-a-copy\n",
            "  This is separate from the ipykernel package so we can avoid doing imports until\n",
            "/usr/local/lib/python3.7/dist-packages/ipykernel_launcher.py:4: SettingWithCopyWarning: \n",
            "A value is trying to be set on a copy of a slice from a DataFrame.\n",
            "Try using .loc[row_indexer,col_indexer] = value instead\n",
            "\n",
            "See the caveats in the documentation: https://pandas.pydata.org/pandas-docs/stable/user_guide/indexing.html#returning-a-view-versus-a-copy\n",
            "  after removing the cwd from sys.path.\n"
          ],
          "name": "stderr"
        },
        {
          "output_type": "execute_result",
          "data": {
            "text/html": [
              "<div>\n",
              "<style scoped>\n",
              "    .dataframe tbody tr th:only-of-type {\n",
              "        vertical-align: middle;\n",
              "    }\n",
              "\n",
              "    .dataframe tbody tr th {\n",
              "        vertical-align: top;\n",
              "    }\n",
              "\n",
              "    .dataframe thead th {\n",
              "        text-align: right;\n",
              "    }\n",
              "</style>\n",
              "<table border=\"1\" class=\"dataframe\">\n",
              "  <thead>\n",
              "    <tr style=\"text-align: right;\">\n",
              "      <th></th>\n",
              "      <th>year</th>\n",
              "      <th>category</th>\n",
              "      <th>ADP</th>\n",
              "      <th>Total</th>\n",
              "      <th>Percent</th>\n",
              "    </tr>\n",
              "  </thead>\n",
              "  <tbody>\n",
              "    <tr>\n",
              "      <th>0</th>\n",
              "      <td>2015-01-01</td>\n",
              "      <td>Criminal Justice Clients under Pre-Trial Services</td>\n",
              "      <td>518.9</td>\n",
              "      <td>822.8</td>\n",
              "      <td>63.065143</td>\n",
              "    </tr>\n",
              "    <tr>\n",
              "      <th>1</th>\n",
              "      <td>2015-01-01</td>\n",
              "      <td>Inmates in DOCR Custody</td>\n",
              "      <td>303.9</td>\n",
              "      <td>822.8</td>\n",
              "      <td>36.934857</td>\n",
              "    </tr>\n",
              "  </tbody>\n",
              "</table>\n",
              "</div>"
            ],
            "text/plain": [
              "        year  ...    Percent\n",
              "0 2015-01-01  ...  63.065143\n",
              "1 2015-01-01  ...  36.934857\n",
              "\n",
              "[2 rows x 5 columns]"
            ]
          },
          "metadata": {
            "tags": []
          },
          "execution_count": 85
        }
      ]
    },
    {
      "cell_type": "code",
      "metadata": {
        "colab": {
          "base_uri": "https://localhost:8080/",
          "height": 328
        },
        "id": "ahh1V6Dj_Dqw",
        "outputId": "57e2a8f8-48b5-41df-e977-2176cbac6b09"
      },
      "source": [
        "#2016\n",
        "df2016 = df_cyp[df_cyp.year == '2016']\n",
        "df2016['Total'] = df2016.ADP.sum()\n",
        "df2016['Percent'] = df2016.ADP/df2016.Total * 100\n",
        "df2016"
      ],
      "execution_count": 86,
      "outputs": [
        {
          "output_type": "stream",
          "text": [
            "/usr/local/lib/python3.7/dist-packages/ipykernel_launcher.py:3: SettingWithCopyWarning: \n",
            "A value is trying to be set on a copy of a slice from a DataFrame.\n",
            "Try using .loc[row_indexer,col_indexer] = value instead\n",
            "\n",
            "See the caveats in the documentation: https://pandas.pydata.org/pandas-docs/stable/user_guide/indexing.html#returning-a-view-versus-a-copy\n",
            "  This is separate from the ipykernel package so we can avoid doing imports until\n",
            "/usr/local/lib/python3.7/dist-packages/ipykernel_launcher.py:4: SettingWithCopyWarning: \n",
            "A value is trying to be set on a copy of a slice from a DataFrame.\n",
            "Try using .loc[row_indexer,col_indexer] = value instead\n",
            "\n",
            "See the caveats in the documentation: https://pandas.pydata.org/pandas-docs/stable/user_guide/indexing.html#returning-a-view-versus-a-copy\n",
            "  after removing the cwd from sys.path.\n"
          ],
          "name": "stderr"
        },
        {
          "output_type": "execute_result",
          "data": {
            "text/html": [
              "<div>\n",
              "<style scoped>\n",
              "    .dataframe tbody tr th:only-of-type {\n",
              "        vertical-align: middle;\n",
              "    }\n",
              "\n",
              "    .dataframe tbody tr th {\n",
              "        vertical-align: top;\n",
              "    }\n",
              "\n",
              "    .dataframe thead th {\n",
              "        text-align: right;\n",
              "    }\n",
              "</style>\n",
              "<table border=\"1\" class=\"dataframe\">\n",
              "  <thead>\n",
              "    <tr style=\"text-align: right;\">\n",
              "      <th></th>\n",
              "      <th>year</th>\n",
              "      <th>category</th>\n",
              "      <th>ADP</th>\n",
              "      <th>Total</th>\n",
              "      <th>Percent</th>\n",
              "    </tr>\n",
              "  </thead>\n",
              "  <tbody>\n",
              "    <tr>\n",
              "      <th>2</th>\n",
              "      <td>2016-01-01</td>\n",
              "      <td>Criminal Justice Clients under Pre-Trial Services</td>\n",
              "      <td>583.3</td>\n",
              "      <td>901.3</td>\n",
              "      <td>64.71763</td>\n",
              "    </tr>\n",
              "    <tr>\n",
              "      <th>3</th>\n",
              "      <td>2016-01-01</td>\n",
              "      <td>Inmates in DOCR Custody</td>\n",
              "      <td>318.0</td>\n",
              "      <td>901.3</td>\n",
              "      <td>35.28237</td>\n",
              "    </tr>\n",
              "  </tbody>\n",
              "</table>\n",
              "</div>"
            ],
            "text/plain": [
              "        year  ...   Percent\n",
              "2 2016-01-01  ...  64.71763\n",
              "3 2016-01-01  ...  35.28237\n",
              "\n",
              "[2 rows x 5 columns]"
            ]
          },
          "metadata": {
            "tags": []
          },
          "execution_count": 86
        }
      ]
    },
    {
      "cell_type": "code",
      "metadata": {
        "colab": {
          "base_uri": "https://localhost:8080/",
          "height": 328
        },
        "id": "u0ixvdJ0_NCb",
        "outputId": "2c82399c-0c30-41fd-e873-5de115d3ff22"
      },
      "source": [
        "#2017\n",
        "df2017 = df_cyp[df_cyp.year == '2017']\n",
        "df2017['Total'] = df2017.ADP.sum()\n",
        "df2017['Percent'] = df2017.ADP/df2017.Total * 100\n",
        "df2017"
      ],
      "execution_count": 87,
      "outputs": [
        {
          "output_type": "stream",
          "text": [
            "/usr/local/lib/python3.7/dist-packages/ipykernel_launcher.py:3: SettingWithCopyWarning: \n",
            "A value is trying to be set on a copy of a slice from a DataFrame.\n",
            "Try using .loc[row_indexer,col_indexer] = value instead\n",
            "\n",
            "See the caveats in the documentation: https://pandas.pydata.org/pandas-docs/stable/user_guide/indexing.html#returning-a-view-versus-a-copy\n",
            "  This is separate from the ipykernel package so we can avoid doing imports until\n",
            "/usr/local/lib/python3.7/dist-packages/ipykernel_launcher.py:4: SettingWithCopyWarning: \n",
            "A value is trying to be set on a copy of a slice from a DataFrame.\n",
            "Try using .loc[row_indexer,col_indexer] = value instead\n",
            "\n",
            "See the caveats in the documentation: https://pandas.pydata.org/pandas-docs/stable/user_guide/indexing.html#returning-a-view-versus-a-copy\n",
            "  after removing the cwd from sys.path.\n"
          ],
          "name": "stderr"
        },
        {
          "output_type": "execute_result",
          "data": {
            "text/html": [
              "<div>\n",
              "<style scoped>\n",
              "    .dataframe tbody tr th:only-of-type {\n",
              "        vertical-align: middle;\n",
              "    }\n",
              "\n",
              "    .dataframe tbody tr th {\n",
              "        vertical-align: top;\n",
              "    }\n",
              "\n",
              "    .dataframe thead th {\n",
              "        text-align: right;\n",
              "    }\n",
              "</style>\n",
              "<table border=\"1\" class=\"dataframe\">\n",
              "  <thead>\n",
              "    <tr style=\"text-align: right;\">\n",
              "      <th></th>\n",
              "      <th>year</th>\n",
              "      <th>category</th>\n",
              "      <th>ADP</th>\n",
              "      <th>Total</th>\n",
              "      <th>Percent</th>\n",
              "    </tr>\n",
              "  </thead>\n",
              "  <tbody>\n",
              "    <tr>\n",
              "      <th>4</th>\n",
              "      <td>2017-01-01</td>\n",
              "      <td>Criminal Justice Clients under Pre-Trial Services</td>\n",
              "      <td>506.9</td>\n",
              "      <td>816.6</td>\n",
              "      <td>62.074455</td>\n",
              "    </tr>\n",
              "    <tr>\n",
              "      <th>5</th>\n",
              "      <td>2017-01-01</td>\n",
              "      <td>Inmates in DOCR Custody</td>\n",
              "      <td>309.7</td>\n",
              "      <td>816.6</td>\n",
              "      <td>37.925545</td>\n",
              "    </tr>\n",
              "  </tbody>\n",
              "</table>\n",
              "</div>"
            ],
            "text/plain": [
              "        year  ...    Percent\n",
              "4 2017-01-01  ...  62.074455\n",
              "5 2017-01-01  ...  37.925545\n",
              "\n",
              "[2 rows x 5 columns]"
            ]
          },
          "metadata": {
            "tags": []
          },
          "execution_count": 87
        }
      ]
    },
    {
      "cell_type": "code",
      "metadata": {
        "colab": {
          "base_uri": "https://localhost:8080/",
          "height": 328
        },
        "id": "GVb1lnQE_U7X",
        "outputId": "9afca671-d023-45aa-bb51-0ec41f3ce5d9"
      },
      "source": [
        "#2018\n",
        "df2018 = df_cyp[df_cyp.year == '2018']\n",
        "df2018['Total'] = df2018.ADP.sum()\n",
        "df2018['Percent'] = df2018.ADP/df2018.Total * 100\n",
        "df2018"
      ],
      "execution_count": 88,
      "outputs": [
        {
          "output_type": "stream",
          "text": [
            "/usr/local/lib/python3.7/dist-packages/ipykernel_launcher.py:3: SettingWithCopyWarning: \n",
            "A value is trying to be set on a copy of a slice from a DataFrame.\n",
            "Try using .loc[row_indexer,col_indexer] = value instead\n",
            "\n",
            "See the caveats in the documentation: https://pandas.pydata.org/pandas-docs/stable/user_guide/indexing.html#returning-a-view-versus-a-copy\n",
            "  This is separate from the ipykernel package so we can avoid doing imports until\n",
            "/usr/local/lib/python3.7/dist-packages/ipykernel_launcher.py:4: SettingWithCopyWarning: \n",
            "A value is trying to be set on a copy of a slice from a DataFrame.\n",
            "Try using .loc[row_indexer,col_indexer] = value instead\n",
            "\n",
            "See the caveats in the documentation: https://pandas.pydata.org/pandas-docs/stable/user_guide/indexing.html#returning-a-view-versus-a-copy\n",
            "  after removing the cwd from sys.path.\n"
          ],
          "name": "stderr"
        },
        {
          "output_type": "execute_result",
          "data": {
            "text/html": [
              "<div>\n",
              "<style scoped>\n",
              "    .dataframe tbody tr th:only-of-type {\n",
              "        vertical-align: middle;\n",
              "    }\n",
              "\n",
              "    .dataframe tbody tr th {\n",
              "        vertical-align: top;\n",
              "    }\n",
              "\n",
              "    .dataframe thead th {\n",
              "        text-align: right;\n",
              "    }\n",
              "</style>\n",
              "<table border=\"1\" class=\"dataframe\">\n",
              "  <thead>\n",
              "    <tr style=\"text-align: right;\">\n",
              "      <th></th>\n",
              "      <th>year</th>\n",
              "      <th>category</th>\n",
              "      <th>ADP</th>\n",
              "      <th>Total</th>\n",
              "      <th>Percent</th>\n",
              "    </tr>\n",
              "  </thead>\n",
              "  <tbody>\n",
              "    <tr>\n",
              "      <th>6</th>\n",
              "      <td>2018-01-01</td>\n",
              "      <td>Criminal Justice Clients under Pre-Trial Services</td>\n",
              "      <td>505.4</td>\n",
              "      <td>834.8</td>\n",
              "      <td>60.541447</td>\n",
              "    </tr>\n",
              "    <tr>\n",
              "      <th>7</th>\n",
              "      <td>2018-01-01</td>\n",
              "      <td>Inmates in DOCR Custody</td>\n",
              "      <td>329.4</td>\n",
              "      <td>834.8</td>\n",
              "      <td>39.458553</td>\n",
              "    </tr>\n",
              "  </tbody>\n",
              "</table>\n",
              "</div>"
            ],
            "text/plain": [
              "        year  ...    Percent\n",
              "6 2018-01-01  ...  60.541447\n",
              "7 2018-01-01  ...  39.458553\n",
              "\n",
              "[2 rows x 5 columns]"
            ]
          },
          "metadata": {
            "tags": []
          },
          "execution_count": 88
        }
      ]
    },
    {
      "cell_type": "code",
      "metadata": {
        "colab": {
          "base_uri": "https://localhost:8080/",
          "height": 328
        },
        "id": "2HN7vWIt_nE2",
        "outputId": "5199d897-2b89-40d3-d739-ea7e89b608f9"
      },
      "source": [
        "#2019\n",
        "df2019 = df_cyp[df_cyp.year == '2019']\n",
        "df2019['Total'] = df2019.ADP.sum()\n",
        "df2019['Percent'] = df2019.ADP/df2019.Total * 100\n",
        "df2019"
      ],
      "execution_count": 89,
      "outputs": [
        {
          "output_type": "stream",
          "text": [
            "/usr/local/lib/python3.7/dist-packages/ipykernel_launcher.py:3: SettingWithCopyWarning: \n",
            "A value is trying to be set on a copy of a slice from a DataFrame.\n",
            "Try using .loc[row_indexer,col_indexer] = value instead\n",
            "\n",
            "See the caveats in the documentation: https://pandas.pydata.org/pandas-docs/stable/user_guide/indexing.html#returning-a-view-versus-a-copy\n",
            "  This is separate from the ipykernel package so we can avoid doing imports until\n",
            "/usr/local/lib/python3.7/dist-packages/ipykernel_launcher.py:4: SettingWithCopyWarning: \n",
            "A value is trying to be set on a copy of a slice from a DataFrame.\n",
            "Try using .loc[row_indexer,col_indexer] = value instead\n",
            "\n",
            "See the caveats in the documentation: https://pandas.pydata.org/pandas-docs/stable/user_guide/indexing.html#returning-a-view-versus-a-copy\n",
            "  after removing the cwd from sys.path.\n"
          ],
          "name": "stderr"
        },
        {
          "output_type": "execute_result",
          "data": {
            "text/html": [
              "<div>\n",
              "<style scoped>\n",
              "    .dataframe tbody tr th:only-of-type {\n",
              "        vertical-align: middle;\n",
              "    }\n",
              "\n",
              "    .dataframe tbody tr th {\n",
              "        vertical-align: top;\n",
              "    }\n",
              "\n",
              "    .dataframe thead th {\n",
              "        text-align: right;\n",
              "    }\n",
              "</style>\n",
              "<table border=\"1\" class=\"dataframe\">\n",
              "  <thead>\n",
              "    <tr style=\"text-align: right;\">\n",
              "      <th></th>\n",
              "      <th>year</th>\n",
              "      <th>category</th>\n",
              "      <th>ADP</th>\n",
              "      <th>Total</th>\n",
              "      <th>Percent</th>\n",
              "    </tr>\n",
              "  </thead>\n",
              "  <tbody>\n",
              "    <tr>\n",
              "      <th>8</th>\n",
              "      <td>2019-01-01</td>\n",
              "      <td>Criminal Justice Clients under Pre-Trial Services</td>\n",
              "      <td>470.3</td>\n",
              "      <td>782.3</td>\n",
              "      <td>60.117602</td>\n",
              "    </tr>\n",
              "    <tr>\n",
              "      <th>9</th>\n",
              "      <td>2019-01-01</td>\n",
              "      <td>Inmates in DOCR Custody</td>\n",
              "      <td>312.0</td>\n",
              "      <td>782.3</td>\n",
              "      <td>39.882398</td>\n",
              "    </tr>\n",
              "  </tbody>\n",
              "</table>\n",
              "</div>"
            ],
            "text/plain": [
              "        year  ...    Percent\n",
              "8 2019-01-01  ...  60.117602\n",
              "9 2019-01-01  ...  39.882398\n",
              "\n",
              "[2 rows x 5 columns]"
            ]
          },
          "metadata": {
            "tags": []
          },
          "execution_count": 89
        }
      ]
    },
    {
      "cell_type": "code",
      "metadata": {
        "colab": {
          "base_uri": "https://localhost:8080/",
          "height": 328
        },
        "id": "9uWqHa4a_cHv",
        "outputId": "ceb9be19-dd17-435a-a3f8-1e6eb5c2cd43"
      },
      "source": [
        "#2020\n",
        "df2020 = df_cyp[df_cyp.year == '2020']\n",
        "df2020['Total'] = df2020.ADP.sum()\n",
        "df2020['Percent'] = df2020.ADP/df2020.Total * 100\n",
        "df2020"
      ],
      "execution_count": 90,
      "outputs": [
        {
          "output_type": "stream",
          "text": [
            "/usr/local/lib/python3.7/dist-packages/ipykernel_launcher.py:3: SettingWithCopyWarning: \n",
            "A value is trying to be set on a copy of a slice from a DataFrame.\n",
            "Try using .loc[row_indexer,col_indexer] = value instead\n",
            "\n",
            "See the caveats in the documentation: https://pandas.pydata.org/pandas-docs/stable/user_guide/indexing.html#returning-a-view-versus-a-copy\n",
            "  This is separate from the ipykernel package so we can avoid doing imports until\n",
            "/usr/local/lib/python3.7/dist-packages/ipykernel_launcher.py:4: SettingWithCopyWarning: \n",
            "A value is trying to be set on a copy of a slice from a DataFrame.\n",
            "Try using .loc[row_indexer,col_indexer] = value instead\n",
            "\n",
            "See the caveats in the documentation: https://pandas.pydata.org/pandas-docs/stable/user_guide/indexing.html#returning-a-view-versus-a-copy\n",
            "  after removing the cwd from sys.path.\n"
          ],
          "name": "stderr"
        },
        {
          "output_type": "execute_result",
          "data": {
            "text/html": [
              "<div>\n",
              "<style scoped>\n",
              "    .dataframe tbody tr th:only-of-type {\n",
              "        vertical-align: middle;\n",
              "    }\n",
              "\n",
              "    .dataframe tbody tr th {\n",
              "        vertical-align: top;\n",
              "    }\n",
              "\n",
              "    .dataframe thead th {\n",
              "        text-align: right;\n",
              "    }\n",
              "</style>\n",
              "<table border=\"1\" class=\"dataframe\">\n",
              "  <thead>\n",
              "    <tr style=\"text-align: right;\">\n",
              "      <th></th>\n",
              "      <th>year</th>\n",
              "      <th>category</th>\n",
              "      <th>ADP</th>\n",
              "      <th>Total</th>\n",
              "      <th>Percent</th>\n",
              "    </tr>\n",
              "  </thead>\n",
              "  <tbody>\n",
              "    <tr>\n",
              "      <th>10</th>\n",
              "      <td>2020-01-01</td>\n",
              "      <td>Criminal Justice Clients under Pre-Trial Services</td>\n",
              "      <td>475.0</td>\n",
              "      <td>759.0</td>\n",
              "      <td>62.582345</td>\n",
              "    </tr>\n",
              "    <tr>\n",
              "      <th>11</th>\n",
              "      <td>2020-01-01</td>\n",
              "      <td>Inmates in DOCR Custody</td>\n",
              "      <td>284.0</td>\n",
              "      <td>759.0</td>\n",
              "      <td>37.417655</td>\n",
              "    </tr>\n",
              "  </tbody>\n",
              "</table>\n",
              "</div>"
            ],
            "text/plain": [
              "         year  ...    Percent\n",
              "10 2020-01-01  ...  62.582345\n",
              "11 2020-01-01  ...  37.417655\n",
              "\n",
              "[2 rows x 5 columns]"
            ]
          },
          "metadata": {
            "tags": []
          },
          "execution_count": 90
        }
      ]
    },
    {
      "cell_type": "code",
      "metadata": {
        "colab": {
          "base_uri": "https://localhost:8080/",
          "height": 328
        },
        "id": "g_XFB6ao_wY2",
        "outputId": "7262f617-90f9-40cf-c527-9876c2d29852"
      },
      "source": [
        "#2021\n",
        "df2021 = df_cyp[df_cyp.year == '2021']\n",
        "df2021['Total'] = df2021.ADP.sum()\n",
        "\n",
        "df2021['Percent'] = df2021.ADP/df2021.Total * 100\n",
        "df2021"
      ],
      "execution_count": 91,
      "outputs": [
        {
          "output_type": "stream",
          "text": [
            "/usr/local/lib/python3.7/dist-packages/ipykernel_launcher.py:3: SettingWithCopyWarning: \n",
            "A value is trying to be set on a copy of a slice from a DataFrame.\n",
            "Try using .loc[row_indexer,col_indexer] = value instead\n",
            "\n",
            "See the caveats in the documentation: https://pandas.pydata.org/pandas-docs/stable/user_guide/indexing.html#returning-a-view-versus-a-copy\n",
            "  This is separate from the ipykernel package so we can avoid doing imports until\n",
            "/usr/local/lib/python3.7/dist-packages/ipykernel_launcher.py:5: SettingWithCopyWarning: \n",
            "A value is trying to be set on a copy of a slice from a DataFrame.\n",
            "Try using .loc[row_indexer,col_indexer] = value instead\n",
            "\n",
            "See the caveats in the documentation: https://pandas.pydata.org/pandas-docs/stable/user_guide/indexing.html#returning-a-view-versus-a-copy\n",
            "  \"\"\"\n"
          ],
          "name": "stderr"
        },
        {
          "output_type": "execute_result",
          "data": {
            "text/html": [
              "<div>\n",
              "<style scoped>\n",
              "    .dataframe tbody tr th:only-of-type {\n",
              "        vertical-align: middle;\n",
              "    }\n",
              "\n",
              "    .dataframe tbody tr th {\n",
              "        vertical-align: top;\n",
              "    }\n",
              "\n",
              "    .dataframe thead th {\n",
              "        text-align: right;\n",
              "    }\n",
              "</style>\n",
              "<table border=\"1\" class=\"dataframe\">\n",
              "  <thead>\n",
              "    <tr style=\"text-align: right;\">\n",
              "      <th></th>\n",
              "      <th>year</th>\n",
              "      <th>category</th>\n",
              "      <th>ADP</th>\n",
              "      <th>Total</th>\n",
              "      <th>Percent</th>\n",
              "    </tr>\n",
              "  </thead>\n",
              "  <tbody>\n",
              "    <tr>\n",
              "      <th>12</th>\n",
              "      <td>2021-01-01</td>\n",
              "      <td>Criminal Justice Clients under Pre-Trial Services</td>\n",
              "      <td>435.2</td>\n",
              "      <td>711.3</td>\n",
              "      <td>61.183748</td>\n",
              "    </tr>\n",
              "    <tr>\n",
              "      <th>13</th>\n",
              "      <td>2021-01-01</td>\n",
              "      <td>Inmates in DOCR Custody</td>\n",
              "      <td>276.1</td>\n",
              "      <td>711.3</td>\n",
              "      <td>38.816252</td>\n",
              "    </tr>\n",
              "  </tbody>\n",
              "</table>\n",
              "</div>"
            ],
            "text/plain": [
              "         year  ...    Percent\n",
              "12 2021-01-01  ...  61.183748\n",
              "13 2021-01-01  ...  38.816252\n",
              "\n",
              "[2 rows x 5 columns]"
            ]
          },
          "metadata": {
            "tags": []
          },
          "execution_count": 91
        }
      ]
    },
    {
      "cell_type": "markdown",
      "metadata": {
        "id": "AxltBAwzADw5"
      },
      "source": [
        "**The percentage rate has remained about 60% in pre-trial services to 40% detained between 2015 and 2021.**"
      ]
    },
    {
      "cell_type": "code",
      "metadata": {
        "id": "XnQNwnYP0sHn",
        "colab": {
          "base_uri": "https://localhost:8080/",
          "height": 470
        },
        "outputId": "997428f4-c0fa-456d-b387-fce71cfdf6da"
      },
      "source": [
        "# Plotting Bar Chart Comparing the types of pre-trial supervision and detention\n",
        "ax = df_1_pretrial.groupby(['year', 'DSCC_Names'])['ADP'].mean().unstack().plot.bar(colormap='Paired', alpha = 0.7)\n",
        "ax.set_facecolor('white')\n",
        "ax.legend(bbox_to_anchor = [1.67, 1.018])\n",
        "\n",
        "plt.title('Comparing Various Pre-Trial Categories of Supervision and Detention')\n",
        "plt.xlabel('Year')\n",
        "plt.ylabel('Total')\n",
        "\n",
        "plt.savefig('pretrialcategories.png', dpi=300, bbox_inches = 'tight')\n"
      ],
      "execution_count": 92,
      "outputs": [
        {
          "output_type": "display_data",
          "data": {
            "image/png": "[encoded data removed]",
            "text/plain": [
              "<Figure size 640x480 with 1 Axes>"
            ]
          },
          "metadata": {
            "tags": []
          }
        }
      ]
    },
    {
      "cell_type": "markdown",
      "metadata": {
        "id": "mCRr9K6T8Yvq"
      },
      "source": [
        "It makes sense that the MCDC figures are low.  the MCDC is where the CPU processing (initial arrest booking) takes place.  The MCDC is a temporary dentention center with a capacity only up to 200 people.\n",
        "\n",
        "What is interesting on this chart is how much Pre-trial Supervision has increased in the past six years, while alternative community services and intervention programs for substance abusers have both decreased since 2017, with alternative community services decreasing quite sharply, especially between 2016 and 2017.  The number of people detained seems to have decreased slightly since 2018."
      ]
    }
  ]
}