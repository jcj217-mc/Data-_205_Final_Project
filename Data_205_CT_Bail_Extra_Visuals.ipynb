{
  "nbformat": 4,
  "nbformat_minor": 0,
  "metadata": {
    "colab": {
      "name": "Data_205_CT_Bail_Extra_Visuals.ipynb",
      "provenance": [],
      "collapsed_sections": [],
      "authorship_tag": "ABX9TyPKGtA7dQ0heMiJIdl7V1Iu",
      "include_colab_link": true
    },
    "kernelspec": {
      "name": "python3",
      "display_name": "Python 3"
    },
    "language_info": {
      "name": "python"
    }
  },
  "cells": [
    {
      "cell_type": "markdown",
      "metadata": {
        "id": "view-in-github",
        "colab_type": "text"
      },
      "source": [
        "<a href=\"https://colab.research.google.com/github/jcj217-mc/Data_205_Final_Project/blob/main/Data_205_CT_Bail_Extra_Visuals.ipynb\" target=\"_parent\"><img src=\"https://colab.research.google.com/assets/colab-badge.svg\" alt=\"Open In Colab\"/></a>"
      ]
    },
    {
      "cell_type": "code",
      "metadata": {
        "id": "zE0kXt8DpYE1"
      },
      "source": [
        "# import packages\n",
        "import pandas as pd\n",
        "import numpy as np\n",
        "import os \n",
        "import json\n",
        "import datetime\n",
        "import seaborn as sns\n",
        "import matplotlib.pyplot as plt"
      ],
      "execution_count": null,
      "outputs": []
    },
    {
      "cell_type": "code",
      "metadata": {
        "id": "e2NiEkXppdLu"
      },
      "source": [
        "df = pd.read_csv(\"Accused_Pre-Trial_Inmates_in_Correctional_Facilities (1).csv\", index_col=False)"
      ],
      "execution_count": null,
      "outputs": []
    },
    {
      "cell_type": "code",
      "metadata": {
        "colab": {
          "base_uri": "https://localhost:8080/",
          "height": 296
        },
        "id": "TZOf276jpf5u",
        "outputId": "a676b047-b220-4359-fcde-397c10f0f45a"
      },
      "source": [
        "# Evaluating initial data \n",
        "df.head()"
      ],
      "execution_count": null,
      "outputs": [
        {
          "output_type": "execute_result",
          "data": {
            "text/html": [
              "<div>\n",
              "<style scoped>\n",
              "    .dataframe tbody tr th:only-of-type {\n",
              "        vertical-align: middle;\n",
              "    }\n",
              "\n",
              "    .dataframe tbody tr th {\n",
              "        vertical-align: top;\n",
              "    }\n",
              "\n",
              "    .dataframe thead th {\n",
              "        text-align: right;\n",
              "    }\n",
              "</style>\n",
              "<table border=\"1\" class=\"dataframe\">\n",
              "  <thead>\n",
              "    <tr style=\"text-align: right;\">\n",
              "      <th></th>\n",
              "      <th>DOWNLOAD DATE</th>\n",
              "      <th>IDENTIFIER</th>\n",
              "      <th>LATEST ADMISSION DATE</th>\n",
              "      <th>RACE</th>\n",
              "      <th>GENDER</th>\n",
              "      <th>AGE</th>\n",
              "      <th>BOND AMOUNT</th>\n",
              "      <th>OFFENSE</th>\n",
              "      <th>FACILITY</th>\n",
              "      <th>DETAINER</th>\n",
              "    </tr>\n",
              "  </thead>\n",
              "  <tbody>\n",
              "    <tr>\n",
              "      <th>0</th>\n",
              "      <td>05/15/2020</td>\n",
              "      <td>ZZHCZBZZ</td>\n",
              "      <td>08/16/2018</td>\n",
              "      <td>BLACK</td>\n",
              "      <td>M</td>\n",
              "      <td>27</td>\n",
              "      <td>150000</td>\n",
              "      <td>CRIMINAL POSS OF PISTOL/REVOLVER      DF</td>\n",
              "      <td>NEW HAVEN CC</td>\n",
              "      <td>NONE</td>\n",
              "    </tr>\n",
              "    <tr>\n",
              "      <th>1</th>\n",
              "      <td>05/15/2020</td>\n",
              "      <td>ZZHZZRLR</td>\n",
              "      <td>03/28/2019</td>\n",
              "      <td>HISPANIC</td>\n",
              "      <td>M</td>\n",
              "      <td>41</td>\n",
              "      <td>30100</td>\n",
              "      <td>VIOLATION OF PROBATION OR COND DISCHG</td>\n",
              "      <td>CORRIGAN CI</td>\n",
              "      <td>NONE</td>\n",
              "    </tr>\n",
              "    <tr>\n",
              "      <th>2</th>\n",
              "      <td>05/15/2020</td>\n",
              "      <td>ZZSRJBEE</td>\n",
              "      <td>04/03/2020</td>\n",
              "      <td>HISPANIC</td>\n",
              "      <td>M</td>\n",
              "      <td>21</td>\n",
              "      <td>150000</td>\n",
              "      <td>CRIMINAL ATTEMPT</td>\n",
              "      <td>CORRIGAN CI</td>\n",
              "      <td>NONE</td>\n",
              "    </tr>\n",
              "    <tr>\n",
              "      <th>3</th>\n",
              "      <td>05/15/2020</td>\n",
              "      <td>ZZHBJLRZ</td>\n",
              "      <td>01/15/2020</td>\n",
              "      <td>WHITE</td>\n",
              "      <td>M</td>\n",
              "      <td>36</td>\n",
              "      <td>50500</td>\n",
              "      <td>CRIM VIOL OF PROTECTIVE ORDER         DF</td>\n",
              "      <td>BRIDGEPORT CC</td>\n",
              "      <td>NONE</td>\n",
              "    </tr>\n",
              "    <tr>\n",
              "      <th>4</th>\n",
              "      <td>05/15/2020</td>\n",
              "      <td>ZZSRRCHH</td>\n",
              "      <td>12/26/2018</td>\n",
              "      <td>HISPANIC</td>\n",
              "      <td>M</td>\n",
              "      <td>29</td>\n",
              "      <td>100000</td>\n",
              "      <td>CRIMINAL ATTEMPT</td>\n",
              "      <td>HARTFORD CC</td>\n",
              "      <td>NONE</td>\n",
              "    </tr>\n",
              "  </tbody>\n",
              "</table>\n",
              "</div>"
            ],
            "text/plain": [
              "  DOWNLOAD DATE  ... DETAINER                                        \n",
              "0    05/15/2020  ...                                             NONE\n",
              "1    05/15/2020  ...                                             NONE\n",
              "2    05/15/2020  ...                                             NONE\n",
              "3    05/15/2020  ...                                             NONE\n",
              "4    05/15/2020  ...                                             NONE\n",
              "\n",
              "[5 rows x 10 columns]"
            ]
          },
          "metadata": {
            "tags": []
          },
          "execution_count": 4
        }
      ]
    },
    {
      "cell_type": "code",
      "metadata": {
        "colab": {
          "base_uri": "https://localhost:8080/",
          "height": 262
        },
        "id": "m1anz560sMJe",
        "outputId": "d6039dc2-8f1b-4843-cb69-3a9083c49a4b"
      },
      "source": [
        "# change column names\n",
        "df = df.rename(columns = {\"DOWNLOAD DATE\": \"Download_Date\", \"LATEST ADMISSION DATE\": \"Date\", \"BOND AMOUNT\":\"Bond\"})\n",
        "df.head()"
      ],
      "execution_count": null,
      "outputs": [
        {
          "output_type": "execute_result",
          "data": {
            "text/html": [
              "<div>\n",
              "<style scoped>\n",
              "    .dataframe tbody tr th:only-of-type {\n",
              "        vertical-align: middle;\n",
              "    }\n",
              "\n",
              "    .dataframe tbody tr th {\n",
              "        vertical-align: top;\n",
              "    }\n",
              "\n",
              "    .dataframe thead th {\n",
              "        text-align: right;\n",
              "    }\n",
              "</style>\n",
              "<table border=\"1\" class=\"dataframe\">\n",
              "  <thead>\n",
              "    <tr style=\"text-align: right;\">\n",
              "      <th></th>\n",
              "      <th>Download_Date</th>\n",
              "      <th>IDENTIFIER</th>\n",
              "      <th>Date</th>\n",
              "      <th>RACE</th>\n",
              "      <th>GENDER</th>\n",
              "      <th>AGE</th>\n",
              "      <th>Bond</th>\n",
              "      <th>OFFENSE</th>\n",
              "      <th>FACILITY</th>\n",
              "      <th>DETAINER</th>\n",
              "    </tr>\n",
              "  </thead>\n",
              "  <tbody>\n",
              "    <tr>\n",
              "      <th>0</th>\n",
              "      <td>05/15/2020</td>\n",
              "      <td>ZZHCZBZZ</td>\n",
              "      <td>08/16/2018</td>\n",
              "      <td>BLACK</td>\n",
              "      <td>M</td>\n",
              "      <td>27</td>\n",
              "      <td>150000</td>\n",
              "      <td>CRIMINAL POSS OF PISTOL/REVOLVER      DF</td>\n",
              "      <td>NEW HAVEN CC</td>\n",
              "      <td>NONE</td>\n",
              "    </tr>\n",
              "    <tr>\n",
              "      <th>1</th>\n",
              "      <td>05/15/2020</td>\n",
              "      <td>ZZHZZRLR</td>\n",
              "      <td>03/28/2019</td>\n",
              "      <td>HISPANIC</td>\n",
              "      <td>M</td>\n",
              "      <td>41</td>\n",
              "      <td>30100</td>\n",
              "      <td>VIOLATION OF PROBATION OR COND DISCHG</td>\n",
              "      <td>CORRIGAN CI</td>\n",
              "      <td>NONE</td>\n",
              "    </tr>\n",
              "    <tr>\n",
              "      <th>2</th>\n",
              "      <td>05/15/2020</td>\n",
              "      <td>ZZSRJBEE</td>\n",
              "      <td>04/03/2020</td>\n",
              "      <td>HISPANIC</td>\n",
              "      <td>M</td>\n",
              "      <td>21</td>\n",
              "      <td>150000</td>\n",
              "      <td>CRIMINAL ATTEMPT</td>\n",
              "      <td>CORRIGAN CI</td>\n",
              "      <td>NONE</td>\n",
              "    </tr>\n",
              "    <tr>\n",
              "      <th>3</th>\n",
              "      <td>05/15/2020</td>\n",
              "      <td>ZZHBJLRZ</td>\n",
              "      <td>01/15/2020</td>\n",
              "      <td>WHITE</td>\n",
              "      <td>M</td>\n",
              "      <td>36</td>\n",
              "      <td>50500</td>\n",
              "      <td>CRIM VIOL OF PROTECTIVE ORDER         DF</td>\n",
              "      <td>BRIDGEPORT CC</td>\n",
              "      <td>NONE</td>\n",
              "    </tr>\n",
              "    <tr>\n",
              "      <th>4</th>\n",
              "      <td>05/15/2020</td>\n",
              "      <td>ZZSRRCHH</td>\n",
              "      <td>12/26/2018</td>\n",
              "      <td>HISPANIC</td>\n",
              "      <td>M</td>\n",
              "      <td>29</td>\n",
              "      <td>100000</td>\n",
              "      <td>CRIMINAL ATTEMPT</td>\n",
              "      <td>HARTFORD CC</td>\n",
              "      <td>NONE</td>\n",
              "    </tr>\n",
              "  </tbody>\n",
              "</table>\n",
              "</div>"
            ],
            "text/plain": [
              "  Download_Date  ... DETAINER                                        \n",
              "0    05/15/2020  ...                                             NONE\n",
              "1    05/15/2020  ...                                             NONE\n",
              "2    05/15/2020  ...                                             NONE\n",
              "3    05/15/2020  ...                                             NONE\n",
              "4    05/15/2020  ...                                             NONE\n",
              "\n",
              "[5 rows x 10 columns]"
            ]
          },
          "metadata": {
            "tags": []
          },
          "execution_count": 5
        }
      ]
    },
    {
      "cell_type": "code",
      "metadata": {
        "colab": {
          "base_uri": "https://localhost:8080/",
          "height": 77
        },
        "id": "jieie47-sYE8",
        "outputId": "6f00d96a-c1ad-436b-b1bc-caca94a0d3f5"
      },
      "source": [
        "df = df.drop([df.columns[-1]], axis='columns')\n",
        "df.head(1)"
      ],
      "execution_count": null,
      "outputs": [
        {
          "output_type": "execute_result",
          "data": {
            "text/html": [
              "<div>\n",
              "<style scoped>\n",
              "    .dataframe tbody tr th:only-of-type {\n",
              "        vertical-align: middle;\n",
              "    }\n",
              "\n",
              "    .dataframe tbody tr th {\n",
              "        vertical-align: top;\n",
              "    }\n",
              "\n",
              "    .dataframe thead th {\n",
              "        text-align: right;\n",
              "    }\n",
              "</style>\n",
              "<table border=\"1\" class=\"dataframe\">\n",
              "  <thead>\n",
              "    <tr style=\"text-align: right;\">\n",
              "      <th></th>\n",
              "      <th>Download_Date</th>\n",
              "      <th>IDENTIFIER</th>\n",
              "      <th>Date</th>\n",
              "      <th>RACE</th>\n",
              "      <th>GENDER</th>\n",
              "      <th>AGE</th>\n",
              "      <th>Bond</th>\n",
              "      <th>OFFENSE</th>\n",
              "      <th>FACILITY</th>\n",
              "    </tr>\n",
              "  </thead>\n",
              "  <tbody>\n",
              "    <tr>\n",
              "      <th>0</th>\n",
              "      <td>05/15/2020</td>\n",
              "      <td>ZZHCZBZZ</td>\n",
              "      <td>08/16/2018</td>\n",
              "      <td>BLACK</td>\n",
              "      <td>M</td>\n",
              "      <td>27</td>\n",
              "      <td>150000</td>\n",
              "      <td>CRIMINAL POSS OF PISTOL/REVOLVER      DF</td>\n",
              "      <td>NEW HAVEN CC</td>\n",
              "    </tr>\n",
              "  </tbody>\n",
              "</table>\n",
              "</div>"
            ],
            "text/plain": [
              "  Download_Date  ...      FACILITY\n",
              "0    05/15/2020  ...  NEW HAVEN CC\n",
              "\n",
              "[1 rows x 9 columns]"
            ]
          },
          "metadata": {
            "tags": []
          },
          "execution_count": 6
        }
      ]
    },
    {
      "cell_type": "code",
      "metadata": {
        "colab": {
          "base_uri": "https://localhost:8080/"
        },
        "id": "tnq6NElVy9_O",
        "outputId": "9de77854-73ca-4413-ecb0-3df62d99fca9"
      },
      "source": [
        "df.RACE.unique()"
      ],
      "execution_count": null,
      "outputs": [
        {
          "output_type": "execute_result",
          "data": {
            "text/plain": [
              "array(['BLACK', 'HISPANIC', 'WHITE', 'ASIAN', 'AMER IND'], dtype=object)"
            ]
          },
          "metadata": {
            "tags": []
          },
          "execution_count": 7
        }
      ]
    },
    {
      "cell_type": "code",
      "metadata": {
        "colab": {
          "base_uri": "https://localhost:8080/",
          "height": 77
        },
        "id": "W7hWE_wTsP_E",
        "outputId": "f4f9b367-95c7-455c-a95a-c7248fb332ee"
      },
      "source": [
        "# Drop Columns\n",
        "df = df.drop(['Download_Date', 'IDENTIFIER', 'FACILITY'], axis = 'columns')\n",
        "df.head(1)"
      ],
      "execution_count": null,
      "outputs": [
        {
          "output_type": "execute_result",
          "data": {
            "text/html": [
              "<div>\n",
              "<style scoped>\n",
              "    .dataframe tbody tr th:only-of-type {\n",
              "        vertical-align: middle;\n",
              "    }\n",
              "\n",
              "    .dataframe tbody tr th {\n",
              "        vertical-align: top;\n",
              "    }\n",
              "\n",
              "    .dataframe thead th {\n",
              "        text-align: right;\n",
              "    }\n",
              "</style>\n",
              "<table border=\"1\" class=\"dataframe\">\n",
              "  <thead>\n",
              "    <tr style=\"text-align: right;\">\n",
              "      <th></th>\n",
              "      <th>Date</th>\n",
              "      <th>RACE</th>\n",
              "      <th>GENDER</th>\n",
              "      <th>AGE</th>\n",
              "      <th>Bond</th>\n",
              "      <th>OFFENSE</th>\n",
              "    </tr>\n",
              "  </thead>\n",
              "  <tbody>\n",
              "    <tr>\n",
              "      <th>0</th>\n",
              "      <td>08/16/2018</td>\n",
              "      <td>BLACK</td>\n",
              "      <td>M</td>\n",
              "      <td>27</td>\n",
              "      <td>150000</td>\n",
              "      <td>CRIMINAL POSS OF PISTOL/REVOLVER      DF</td>\n",
              "    </tr>\n",
              "  </tbody>\n",
              "</table>\n",
              "</div>"
            ],
            "text/plain": [
              "         Date   RACE  ...    Bond                                   OFFENSE\n",
              "0  08/16/2018  BLACK  ...  150000  CRIMINAL POSS OF PISTOL/REVOLVER      DF\n",
              "\n",
              "[1 rows x 6 columns]"
            ]
          },
          "metadata": {
            "tags": []
          },
          "execution_count": 8
        }
      ]
    },
    {
      "cell_type": "code",
      "metadata": {
        "id": "OYS55rtnscw7"
      },
      "source": [
        "# Changing Date to datetime\n",
        "df.Date = pd.to_datetime(df.Date)"
      ],
      "execution_count": null,
      "outputs": []
    },
    {
      "cell_type": "code",
      "metadata": {
        "colab": {
          "base_uri": "https://localhost:8080/",
          "height": 77
        },
        "id": "mz9HizJEsf_X",
        "outputId": "f49ba820-6521-48a0-8f53-fb2e23eb9596"
      },
      "source": [
        "# add a column for Year\n",
        "df['Year'] = df['Date'].dt.year\n",
        "df.head(1)"
      ],
      "execution_count": null,
      "outputs": [
        {
          "output_type": "execute_result",
          "data": {
            "text/html": [
              "<div>\n",
              "<style scoped>\n",
              "    .dataframe tbody tr th:only-of-type {\n",
              "        vertical-align: middle;\n",
              "    }\n",
              "\n",
              "    .dataframe tbody tr th {\n",
              "        vertical-align: top;\n",
              "    }\n",
              "\n",
              "    .dataframe thead th {\n",
              "        text-align: right;\n",
              "    }\n",
              "</style>\n",
              "<table border=\"1\" class=\"dataframe\">\n",
              "  <thead>\n",
              "    <tr style=\"text-align: right;\">\n",
              "      <th></th>\n",
              "      <th>Date</th>\n",
              "      <th>RACE</th>\n",
              "      <th>GENDER</th>\n",
              "      <th>AGE</th>\n",
              "      <th>Bond</th>\n",
              "      <th>OFFENSE</th>\n",
              "      <th>Year</th>\n",
              "    </tr>\n",
              "  </thead>\n",
              "  <tbody>\n",
              "    <tr>\n",
              "      <th>0</th>\n",
              "      <td>2018-08-16</td>\n",
              "      <td>BLACK</td>\n",
              "      <td>M</td>\n",
              "      <td>27</td>\n",
              "      <td>150000</td>\n",
              "      <td>CRIMINAL POSS OF PISTOL/REVOLVER      DF</td>\n",
              "      <td>2018</td>\n",
              "    </tr>\n",
              "  </tbody>\n",
              "</table>\n",
              "</div>"
            ],
            "text/plain": [
              "        Date   RACE  ...                                   OFFENSE  Year\n",
              "0 2018-08-16  BLACK  ...  CRIMINAL POSS OF PISTOL/REVOLVER      DF  2018\n",
              "\n",
              "[1 rows x 7 columns]"
            ]
          },
          "metadata": {
            "tags": []
          },
          "execution_count": 10
        }
      ]
    },
    {
      "cell_type": "code",
      "metadata": {
        "colab": {
          "base_uri": "https://localhost:8080/",
          "height": 289
        },
        "id": "j9LTa5VUpxmE",
        "outputId": "14526a87-6464-4cc8-c186-53a892e3f2c9"
      },
      "source": [
        "# Check with histogram or Shapiro-Wilks test whether there is a normally distributed dependent variable 'bail'\n",
        "plt.hist(df.Bond, facecolor='blue', alpha=0.5)\n",
        "\n",
        "plt.show()"
      ],
      "execution_count": null,
      "outputs": [
        {
          "output_type": "display_data",
          "data": {
            "image/png": "[encoded data removed]",
            "text/plain": [
              "<Figure size 432x288 with 1 Axes>"
            ]
          },
          "metadata": {
            "tags": [],
            "needs_background": "light"
          }
        }
      ]
    },
    {
      "cell_type": "code",
      "metadata": {
        "colab": {
          "base_uri": "https://localhost:8080/",
          "height": 402
        },
        "id": "0zrwfVSXIKYl",
        "outputId": "a28ce3b3-5dfe-4652-a5c2-2fe24770711d"
      },
      "source": [
        "\n",
        "df_B = df[df.RACE == 'BLACK']\n",
        "df_B"
      ],
      "execution_count": null,
      "outputs": [
        {
          "output_type": "execute_result",
          "data": {
            "text/html": [
              "<div>\n",
              "<style scoped>\n",
              "    .dataframe tbody tr th:only-of-type {\n",
              "        vertical-align: middle;\n",
              "    }\n",
              "\n",
              "    .dataframe tbody tr th {\n",
              "        vertical-align: top;\n",
              "    }\n",
              "\n",
              "    .dataframe thead th {\n",
              "        text-align: right;\n",
              "    }\n",
              "</style>\n",
              "<table border=\"1\" class=\"dataframe\">\n",
              "  <thead>\n",
              "    <tr style=\"text-align: right;\">\n",
              "      <th></th>\n",
              "      <th>Date</th>\n",
              "      <th>RACE</th>\n",
              "      <th>GENDER</th>\n",
              "      <th>AGE</th>\n",
              "      <th>Bond</th>\n",
              "      <th>OFFENSE</th>\n",
              "      <th>Year</th>\n",
              "    </tr>\n",
              "  </thead>\n",
              "  <tbody>\n",
              "    <tr>\n",
              "      <th>0</th>\n",
              "      <td>2018-08-16</td>\n",
              "      <td>BLACK</td>\n",
              "      <td>M</td>\n",
              "      <td>27</td>\n",
              "      <td>150000</td>\n",
              "      <td>CRIMINAL POSS OF PISTOL/REVOLVER      DF</td>\n",
              "      <td>2018</td>\n",
              "    </tr>\n",
              "    <tr>\n",
              "      <th>8</th>\n",
              "      <td>2020-05-13</td>\n",
              "      <td>BLACK</td>\n",
              "      <td>M</td>\n",
              "      <td>43</td>\n",
              "      <td>10000</td>\n",
              "      <td>INTERFERING WITH AN OFFICER           AM</td>\n",
              "      <td>2020</td>\n",
              "    </tr>\n",
              "    <tr>\n",
              "      <th>9</th>\n",
              "      <td>2020-03-11</td>\n",
              "      <td>BLACK</td>\n",
              "      <td>M</td>\n",
              "      <td>29</td>\n",
              "      <td>50000</td>\n",
              "      <td>LARCENY, SECOND DEGREE                CF</td>\n",
              "      <td>2020</td>\n",
              "    </tr>\n",
              "    <tr>\n",
              "      <th>10</th>\n",
              "      <td>2019-09-18</td>\n",
              "      <td>BLACK</td>\n",
              "      <td>M</td>\n",
              "      <td>46</td>\n",
              "      <td>70000</td>\n",
              "      <td>VIOLATION OF PROBATION OR COND DISCHG</td>\n",
              "      <td>2019</td>\n",
              "    </tr>\n",
              "    <tr>\n",
              "      <th>12</th>\n",
              "      <td>2019-09-23</td>\n",
              "      <td>BLACK</td>\n",
              "      <td>F</td>\n",
              "      <td>42</td>\n",
              "      <td>70050</td>\n",
              "      <td>ASSAULT, SECOND DEGREE                DF</td>\n",
              "      <td>2019</td>\n",
              "    </tr>\n",
              "    <tr>\n",
              "      <th>...</th>\n",
              "      <td>...</td>\n",
              "      <td>...</td>\n",
              "      <td>...</td>\n",
              "      <td>...</td>\n",
              "      <td>...</td>\n",
              "      <td>...</td>\n",
              "      <td>...</td>\n",
              "    </tr>\n",
              "    <tr>\n",
              "      <th>5351837</th>\n",
              "      <td>2021-02-05</td>\n",
              "      <td>BLACK</td>\n",
              "      <td>M</td>\n",
              "      <td>23</td>\n",
              "      <td>125000</td>\n",
              "      <td>CRIMINAL POSSESSION OF A PISTOL       DF</td>\n",
              "      <td>2021</td>\n",
              "    </tr>\n",
              "    <tr>\n",
              "      <th>5351838</th>\n",
              "      <td>2021-03-01</td>\n",
              "      <td>BLACK</td>\n",
              "      <td>M</td>\n",
              "      <td>29</td>\n",
              "      <td>500000</td>\n",
              "      <td>CRIMINAL POSS OF PISTOL/REVOLVER      DF</td>\n",
              "      <td>2021</td>\n",
              "    </tr>\n",
              "    <tr>\n",
              "      <th>5351841</th>\n",
              "      <td>2014-08-13</td>\n",
              "      <td>BLACK</td>\n",
              "      <td>M</td>\n",
              "      <td>33</td>\n",
              "      <td>750150</td>\n",
              "      <td>SALE OF NARC/AMPHET BY NON-DEPENDENT   F</td>\n",
              "      <td>2014</td>\n",
              "    </tr>\n",
              "    <tr>\n",
              "      <th>5351842</th>\n",
              "      <td>2019-11-13</td>\n",
              "      <td>BLACK</td>\n",
              "      <td>F</td>\n",
              "      <td>40</td>\n",
              "      <td>291900</td>\n",
              "      <td>IDENTITY THEFT 1ST DEGREE             BF</td>\n",
              "      <td>2019</td>\n",
              "    </tr>\n",
              "    <tr>\n",
              "      <th>5351844</th>\n",
              "      <td>2014-01-02</td>\n",
              "      <td>BLACK</td>\n",
              "      <td>M</td>\n",
              "      <td>22</td>\n",
              "      <td>505500</td>\n",
              "      <td>ROBBERY, FIRST DEGREE                 BF</td>\n",
              "      <td>2014</td>\n",
              "    </tr>\n",
              "  </tbody>\n",
              "</table>\n",
              "<p>2206677 rows × 7 columns</p>\n",
              "</div>"
            ],
            "text/plain": [
              "              Date   RACE  ...                                   OFFENSE  Year\n",
              "0       2018-08-16  BLACK  ...  CRIMINAL POSS OF PISTOL/REVOLVER      DF  2018\n",
              "8       2020-05-13  BLACK  ...  INTERFERING WITH AN OFFICER           AM  2020\n",
              "9       2020-03-11  BLACK  ...  LARCENY, SECOND DEGREE                CF  2020\n",
              "10      2019-09-18  BLACK  ...     VIOLATION OF PROBATION OR COND DISCHG  2019\n",
              "12      2019-09-23  BLACK  ...  ASSAULT, SECOND DEGREE                DF  2019\n",
              "...            ...    ...  ...                                       ...   ...\n",
              "5351837 2021-02-05  BLACK  ...  CRIMINAL POSSESSION OF A PISTOL       DF  2021\n",
              "5351838 2021-03-01  BLACK  ...  CRIMINAL POSS OF PISTOL/REVOLVER      DF  2021\n",
              "5351841 2014-08-13  BLACK  ...  SALE OF NARC/AMPHET BY NON-DEPENDENT   F  2014\n",
              "5351842 2019-11-13  BLACK  ...  IDENTITY THEFT 1ST DEGREE             BF  2019\n",
              "5351844 2014-01-02  BLACK  ...  ROBBERY, FIRST DEGREE                 BF  2014\n",
              "\n",
              "[2206677 rows x 7 columns]"
            ]
          },
          "metadata": {
            "tags": []
          },
          "execution_count": 12
        }
      ]
    },
    {
      "cell_type": "code",
      "metadata": {
        "id": "UkFmTKDLaTxo"
      },
      "source": [
        "df_sample = df.sample(n=500, random_state=15)"
      ],
      "execution_count": null,
      "outputs": []
    },
    {
      "cell_type": "code",
      "metadata": {
        "colab": {
          "base_uri": "https://localhost:8080/",
          "height": 402
        },
        "id": "Tpogry1EacyH",
        "outputId": "f4226ef1-a8ff-484b-ba88-464f95c70219"
      },
      "source": [
        "df_sample"
      ],
      "execution_count": null,
      "outputs": [
        {
          "output_type": "execute_result",
          "data": {
            "text/html": [
              "<div>\n",
              "<style scoped>\n",
              "    .dataframe tbody tr th:only-of-type {\n",
              "        vertical-align: middle;\n",
              "    }\n",
              "\n",
              "    .dataframe tbody tr th {\n",
              "        vertical-align: top;\n",
              "    }\n",
              "\n",
              "    .dataframe thead th {\n",
              "        text-align: right;\n",
              "    }\n",
              "</style>\n",
              "<table border=\"1\" class=\"dataframe\">\n",
              "  <thead>\n",
              "    <tr style=\"text-align: right;\">\n",
              "      <th></th>\n",
              "      <th>Date</th>\n",
              "      <th>RACE</th>\n",
              "      <th>GENDER</th>\n",
              "      <th>AGE</th>\n",
              "      <th>Bond</th>\n",
              "      <th>OFFENSE</th>\n",
              "      <th>Year</th>\n",
              "    </tr>\n",
              "  </thead>\n",
              "  <tbody>\n",
              "    <tr>\n",
              "      <th>861919</th>\n",
              "      <td>2017-04-28</td>\n",
              "      <td>BLACK</td>\n",
              "      <td>M</td>\n",
              "      <td>29</td>\n",
              "      <td>100000</td>\n",
              "      <td>ASSAULT ON POLICE OR FIRE OFFICER     CF</td>\n",
              "      <td>2017</td>\n",
              "    </tr>\n",
              "    <tr>\n",
              "      <th>159232</th>\n",
              "      <td>2015-09-10</td>\n",
              "      <td>HISPANIC</td>\n",
              "      <td>M</td>\n",
              "      <td>38</td>\n",
              "      <td>500000</td>\n",
              "      <td>CRIMINAL POSSESSION OF A PISTOL       DF</td>\n",
              "      <td>2015</td>\n",
              "    </tr>\n",
              "    <tr>\n",
              "      <th>4695182</th>\n",
              "      <td>2020-03-12</td>\n",
              "      <td>BLACK</td>\n",
              "      <td>M</td>\n",
              "      <td>24</td>\n",
              "      <td>25000</td>\n",
              "      <td>FORGERY, SECOND DEGREE                DF</td>\n",
              "      <td>2020</td>\n",
              "    </tr>\n",
              "    <tr>\n",
              "      <th>3798380</th>\n",
              "      <td>2019-10-15</td>\n",
              "      <td>HISPANIC</td>\n",
              "      <td>M</td>\n",
              "      <td>25</td>\n",
              "      <td>50000</td>\n",
              "      <td>ARREST WITHOUT WARRANT</td>\n",
              "      <td>2019</td>\n",
              "    </tr>\n",
              "    <tr>\n",
              "      <th>2760222</th>\n",
              "      <td>2018-08-17</td>\n",
              "      <td>BLACK</td>\n",
              "      <td>M</td>\n",
              "      <td>29</td>\n",
              "      <td>125400</td>\n",
              "      <td>CRIM VIOL OF PROTECTIVE ORDER         AM</td>\n",
              "      <td>2018</td>\n",
              "    </tr>\n",
              "    <tr>\n",
              "      <th>...</th>\n",
              "      <td>...</td>\n",
              "      <td>...</td>\n",
              "      <td>...</td>\n",
              "      <td>...</td>\n",
              "      <td>...</td>\n",
              "      <td>...</td>\n",
              "      <td>...</td>\n",
              "    </tr>\n",
              "    <tr>\n",
              "      <th>1347059</th>\n",
              "      <td>2017-09-27</td>\n",
              "      <td>HISPANIC</td>\n",
              "      <td>M</td>\n",
              "      <td>25</td>\n",
              "      <td>200000</td>\n",
              "      <td>VIOLATION OF PROBATION OR COND DISCHG</td>\n",
              "      <td>2017</td>\n",
              "    </tr>\n",
              "    <tr>\n",
              "      <th>1078873</th>\n",
              "      <td>2016-12-05</td>\n",
              "      <td>BLACK</td>\n",
              "      <td>M</td>\n",
              "      <td>26</td>\n",
              "      <td>75000</td>\n",
              "      <td>ROBBERY, FIRST DEGREE                 BF</td>\n",
              "      <td>2016</td>\n",
              "    </tr>\n",
              "    <tr>\n",
              "      <th>4436705</th>\n",
              "      <td>2019-10-11</td>\n",
              "      <td>BLACK</td>\n",
              "      <td>M</td>\n",
              "      <td>33</td>\n",
              "      <td>60500</td>\n",
              "      <td>VIOLATE COND OF RELEASE-2ND DEG       AM</td>\n",
              "      <td>2019</td>\n",
              "    </tr>\n",
              "    <tr>\n",
              "      <th>2723693</th>\n",
              "      <td>2018-08-08</td>\n",
              "      <td>HISPANIC</td>\n",
              "      <td>M</td>\n",
              "      <td>22</td>\n",
              "      <td>2500</td>\n",
              "      <td>INJURY OR RISK OF INJURY TO MINOR      F</td>\n",
              "      <td>2018</td>\n",
              "    </tr>\n",
              "    <tr>\n",
              "      <th>5050125</th>\n",
              "      <td>2020-10-08</td>\n",
              "      <td>BLACK</td>\n",
              "      <td>M</td>\n",
              "      <td>24</td>\n",
              "      <td>150000</td>\n",
              "      <td>ASSAULT, FIRST DEGREE                 BF</td>\n",
              "      <td>2020</td>\n",
              "    </tr>\n",
              "  </tbody>\n",
              "</table>\n",
              "<p>500 rows × 7 columns</p>\n",
              "</div>"
            ],
            "text/plain": [
              "              Date      RACE  ...                                   OFFENSE  Year\n",
              "861919  2017-04-28     BLACK  ...  ASSAULT ON POLICE OR FIRE OFFICER     CF  2017\n",
              "159232  2015-09-10  HISPANIC  ...  CRIMINAL POSSESSION OF A PISTOL       DF  2015\n",
              "4695182 2020-03-12     BLACK  ...  FORGERY, SECOND DEGREE                DF  2020\n",
              "3798380 2019-10-15  HISPANIC  ...                    ARREST WITHOUT WARRANT  2019\n",
              "2760222 2018-08-17     BLACK  ...  CRIM VIOL OF PROTECTIVE ORDER         AM  2018\n",
              "...            ...       ...  ...                                       ...   ...\n",
              "1347059 2017-09-27  HISPANIC  ...     VIOLATION OF PROBATION OR COND DISCHG  2017\n",
              "1078873 2016-12-05     BLACK  ...  ROBBERY, FIRST DEGREE                 BF  2016\n",
              "4436705 2019-10-11     BLACK  ...  VIOLATE COND OF RELEASE-2ND DEG       AM  2019\n",
              "2723693 2018-08-08  HISPANIC  ...  INJURY OR RISK OF INJURY TO MINOR      F  2018\n",
              "5050125 2020-10-08     BLACK  ...  ASSAULT, FIRST DEGREE                 BF  2020\n",
              "\n",
              "[500 rows x 7 columns]"
            ]
          },
          "metadata": {
            "tags": []
          },
          "execution_count": 14
        }
      ]
    },
    {
      "cell_type": "code",
      "metadata": {
        "colab": {
          "base_uri": "https://localhost:8080/",
          "height": 542
        },
        "id": "GQ2-L47dJq9w",
        "outputId": "8705bbb8-d25a-4ea2-8502-a85193c6ce01"
      },
      "source": [
        "import plotly.express as px\n",
        "\n",
        "fig = px.scatter(df_sample, x=\"Year\", y=\"Bond\", color=\"RACE\",\n",
        "                 title=\"Bond Amount by Race and Year\")\n",
        "fig.show()"
      ],
      "execution_count": null,
      "outputs": [
        {
          "output_type": "display_data",
          "data": {
            "text/html": [
              "<html>\n",
              "<head><meta charset=\"utf-8\" /></head>\n",
              "<body>\n",
              "    <div>\n",
              "            <script src=\"https://cdnjs.cloudflare.com/ajax/libs/mathjax/2.7.5/MathJax.js?config=TeX-AMS-MML_SVG\"></script><script type=\"text/javascript\">if (window.MathJax) {MathJax.Hub.Config({SVG: {font: \"STIX-Web\"}});}</script>\n",
              "                <script type=\"text/javascript\">window.PlotlyConfig = {MathJaxConfig: 'local'};</script>\n",
              "        <script src=\"https://cdn.plot.ly/plotly-latest.min.js\"></script>    \n",
              "            <div id=\"543770f4-3009-431e-ae31-379a46009374\" class=\"plotly-graph-div\" style=\"height:525px; width:100%;\"></div>\n",
              "            <script type=\"text/javascript\">\n",
              "                \n",
              "                    window.PLOTLYENV=window.PLOTLYENV || {};\n",
              "                    \n",
              "                if (document.getElementById(\"543770f4-3009-431e-ae31-379a46009374\")) {\n",
              "                    Plotly.newPlot(\n",
              "                        '543770f4-3009-431e-ae31-379a46009374',\n",
              "                        [{\"hoverlabel\": {\"namelength\": 0}, \"hovertemplate\": \"RACE=BLACK<br>Year=%{x}<br>Bond=%{y}\", \"legendgroup\": \"RACE=BLACK\", \"marker\": {\"color\": \"#636efa\", \"symbol\": \"circle\"}, \"mode\": \"markers\", \"name\": \"RACE=BLACK\", \"showlegend\": true, \"type\": \"scatter\", \"x\": [2017, 2020, 2018, 2017, 2019, 2018, 2000, 2006, 2020, 2015, 2017, 2020, 2018, 2017, 2019, 2019, 2020, 2020, 2019, 2017, 2017, 2017, 2017, 2020, 2018, 2016, 2014, 2017, 2016, 2017, 2019, 2017, 2016, 2019, 2017, 2019, 2017, 2018, 2019, 2016, 2016, 2018, 2018, 2020, 2017, 2015, 2005, 2020, 2020, 2015, 2018, 2019, 2019, 2017, 2016, 2018, 2018, 2017, 2018, 2020, 2019, 2015, 2019, 2016, 2018, 2017, 2017, 2018, 2015, 2018, 2018, 2018, 2015, 2019, 2018, 2018, 2015, 2017, 2017, 2020, 2017, 2017, 2015, 2018, 2012, 2017, 2017, 2017, 2019, 2020, 2019, 2019, 2019, 2019, 2017, 2018, 2017, 2020, 2020, 2016, 2017, 2019, 2020, 2019, 2017, 2017, 2019, 2020, 2018, 2018, 2015, 2018, 2016, 2000, 2017, 2020, 2017, 2017, 2014, 2016, 2019, 2017, 2020, 2016, 2020, 2018, 2018, 2018, 2019, 2018, 2017, 2018, 2017, 2017, 2020, 2017, 2019, 2017, 2013, 2018, 2019, 2018, 2020, 2020, 2019, 2019, 2018, 2020, 2016, 2019, 2009, 2016, 2016, 2017, 2018, 2018, 2018, 2018, 2017, 2018, 2019, 2019, 2017, 2017, 2019, 2018, 2005, 2019, 2019, 2020, 2019, 2019, 2015, 2018, 2019, 2020, 2016, 2016, 2019, 2017, 2013, 2017, 2019, 2019, 2017, 2020, 2015, 2019, 2020, 2017, 2019, 2020, 2017, 2016, 2019, 2020], \"xaxis\": \"x\", \"y\": [100000, 25000, 125400, 100000, 175000, 500000, 200000, 1000, 50000, 2500, 75000, 250000, 50000, 350100, 601485, 10000, 1100000, 100500, 296000, 25000, 70000, 850000, 115000, 50000, 400000, 500000, 1000000, 15000, 515000, 15000, 100000, 175000, 20500, 500000, 500000, 25000, 65000, 510000, 8500, 1050000, 455150, 30100, 50500, 110000, 700000, 1125000, 5000, 500000, 250000, 100000, 251000, 1000, 50000, 2500, 43000, 228200, 6130100, 225000, 50050, 10000, 250500, 100, 25000, 275000, 300000, 100100, 75000, 3000, 50000, 305000, 2050000, 10000, 400000, 300000, 7000000, 75000, 225250, 106000, 50000, 10000, 252000, 251550, 2000300, 100000, 52500, 15000, 10000, 25000, 275000, 150000, 326050, 1500000, 25500, 614500, 3261000, 50200, 75000, 500000, 250000, 95000, 100000, 171100, 75000, 160000, 500500, 75000, 50000, 10150, 117000, 2001000, 1150000, 150000, 75000, 100000, 500000, 25000, 200000, 75000, 75000, 60000, 20000, 25000, 205000, 325500, 10600, 250000, 765000, 1000000, 60000, 25500, 50250, 11200, 106000, 152995, 1100000, 200000, 100000, 100000, 1520, 25000, 150000, 5500, 101000, 1250000, 1010000, 1000, 400000, 175000, 35000, 300000, 500, 95000, 750100, 50000, 600000, 50000, 500200, 45000, 101000, 5000, 100000, 31500, 200000, 200000, 200000, 85000, 200000, 350000, 1210000, 100100, 150000, 70500, 1500000, 185000, 250000, 25000, 5000, 86000, 750000, 500000, 75000, 80050, 5000, 400000, 600000, 220000, 250000, 10000, 500000, 100100, 32500, 1601000, 30000, 75000, 60500, 150000], \"yaxis\": \"y\"}, {\"hoverlabel\": {\"namelength\": 0}, \"hovertemplate\": \"RACE=HISPANIC<br>Year=%{x}<br>Bond=%{y}\", \"legendgroup\": \"RACE=HISPANIC\", \"marker\": {\"color\": \"#EF553B\", \"symbol\": \"circle\"}, \"mode\": \"markers\", \"name\": \"RACE=HISPANIC\", \"showlegend\": true, \"type\": \"scatter\", \"x\": [2015, 2019, 2019, 2020, 2018, 2017, 2018, 2018, 2018, 2015, 2016, 2017, 2020, 2018, 2017, 2018, 2016, 2019, 2016, 2019, 2018, 2016, 2018, 2017, 2017, 2020, 2020, 2018, 2015, 2017, 2017, 2020, 2016, 2016, 2017, 2019, 2019, 2018, 2016, 2017, 2019, 2019, 2018, 2019, 2019, 2019, 2017, 2018, 2017, 2018, 2017, 2018, 2016, 2019, 2013, 2019, 2020, 2017, 2016, 2014, 2018, 2019, 2019, 2020, 2019, 2018, 2018, 2019, 2016, 2020, 2019, 2016, 2020, 2019, 2018, 2017, 2017, 2017, 2020, 2018, 2020, 2017, 2016, 2020, 2018, 2016, 2017, 2019, 2019, 2018, 2018, 2017, 2020, 2016, 2019, 2019, 2019, 2018, 2018, 2016, 2017, 2017, 2018, 2017, 2016, 2017, 2016, 2017, 2016, 2016, 2018, 2015, 2019, 2014, 2015, 2018, 2018, 2019, 2017, 2018, 2017, 2018, 2017, 2019, 2020, 2016, 2017, 2017, 2019, 2019, 2016, 2017, 2016, 2016, 2018, 2018, 2019, 2016, 2019, 2018, 2017, 2017, 2018], \"xaxis\": \"x\", \"y\": [500000, 50000, 750, 25000, 7600, 1505000, 40000, 3350000, 5000, 1500000, 50000, 88600, 625000, 2100000, 200000, 7600, 651000, 98000, 350000, 10000, 275000, 350000, 3350000, 300000, 285000, 80000, 45000, 17000, 35000, 48000, 75000, 30000, 2000, 525000, 1000000, 43000, 80500, 250000, 41000, 100300, 50000, 200000, 50000, 100000, 10000, 350000, 1000000, 45000, 750000, 1500, 40000, 10000, 900000, 150000, 15000, 760000, 2000, 40100, 22500, 550000, 52500, 10000, 30000, 250000, 75000, 52500, 41000, 150400, 85050, 21500, 500200, 12500, 250500, 811050, 100000, 165000, 150000, 134500, 10000, 175000, 151000, 155000, 285000, 80500, 35000, 49000, 100000, 250000, 5000, 30000, 35000, 55000, 25000, 85000, 500000, 200000, 275100, 2465000, 106500, 675000, 200000, 2000000, 750500, 325050, 45000, 150000, 1502, 45000, 250000, 1000000, 2007000, 130000, 250000, 900000, 10000, 1500000, 750000, 40500, 350000, 200100, 7684, 260000, 100100, 2500, 500000, 72500, 80000, 100200, 55000, 150000, 50150, 165000, 65050, 300005, 1000000, 151000, 170000, 350000, 571000, 940100, 50000, 200000, 2500], \"yaxis\": \"y\"}, {\"hoverlabel\": {\"namelength\": 0}, \"hovertemplate\": \"RACE=WHITE<br>Year=%{x}<br>Bond=%{y}\", \"legendgroup\": \"RACE=WHITE\", \"marker\": {\"color\": \"#00cc96\", \"symbol\": \"circle\"}, \"mode\": \"markers\", \"name\": \"RACE=WHITE\", \"showlegend\": true, \"type\": \"scatter\", \"x\": [2017, 2017, 2017, 2017, 2016, 2019, 2020, 2019, 2020, 2018, 2018, 2017, 2016, 2019, 2015, 2018, 2020, 2018, 2014, 2018, 2017, 2020, 2016, 2016, 2019, 2018, 2020, 2020, 2016, 2018, 2008, 2017, 2015, 2017, 2016, 2016, 2016, 2018, 2021, 2016, 2018, 2001, 2020, 2017, 2019, 2018, 2017, 2016, 2017, 2016, 2017, 2019, 2019, 2017, 2010, 2017, 2019, 2020, 2017, 2020, 2019, 2019, 2018, 2019, 2018, 2020, 2017, 2019, 2016, 2019, 2017, 2018, 2018, 2017, 2020, 2016, 2013, 2021, 2018, 2018, 2018, 2017, 2018, 2019, 2019, 2019, 2018, 2019, 2019, 2017, 2015, 2019, 2017, 2020, 2016, 2018, 2017, 2016, 2018, 2020, 2018, 2019, 2018, 2016, 2015, 2019, 2018, 2016, 2017, 2017, 2016, 2018, 2019, 2019, 2019, 2016, 2018, 2020, 2021, 2017, 2017, 2017, 2017, 2019, 2020, 2017, 2019, 2019, 2017, 2018, 2016, 2016, 2013, 2016, 2019, 2019, 2016, 2018, 2018, 2017, 2019, 2016, 2016, 2017, 2020, 2016, 2019, 2019, 2018, 2018, 2020, 2018, 2019, 2019, 2020, 2014], \"xaxis\": \"x\", \"y\": [500000, 5000, 110050, 75000, 95000, 5000, 400000, 150000, 50000, 100000, 150000, 7500, 365000, 23500, 99000, 204000, 20500, 30000, 60000, 35000, 100000, 450500, 25000, 110000, 13000, 45000, 45000, 28000, 70000, 52500, 171000, 30000, 30000, 1020100, 30000, 102100, 71500, 50600, 2150, 250000, 5000, 171000, 15000, 100000, 65500, 275000, 59900, 150000, 550000, 200000, 500000, 325000, 35000, 50000, 50000, 5000, 250000, 120000, 25000, 150000, 5000, 525000, 5000, 1201000, 125000, 45000, 100000, 61500, 300000, 55000, 10100, 30000, 52500, 150000, 75000, 2000, 31500, 44000, 70000, 20000, 2501, 25000, 2500, 26000, 15000, 50000, 82075, 1000, 2500, 500000, 25000, 100000, 2000, 150000, 50000, 750000, 500000, 20000, 15000, 52000, 400000, 60000, 66000, 150100, 150000, 35000, 95500, 40000, 5000, 160000, 75000, 50000, 302500, 10000, 5000, 160000, 2000, 100000, 230000, 300, 137300, 3000, 120300, 40500, 275000, 50600, 350000, 500000, 100000, 503000, 50700, 4000, 250500, 99050, 35000, 5000, 500000, 33500, 16150, 85000, 20000, 252000, 40000, 76000, 450000, 31000, 26500, 15000, 25100, 20000, 30000, 301000, 20000, 5000, 55000, 2500], \"yaxis\": \"y\"}, {\"hoverlabel\": {\"namelength\": 0}, \"hovertemplate\": \"RACE=ASIAN<br>Year=%{x}<br>Bond=%{y}\", \"legendgroup\": \"RACE=ASIAN\", \"marker\": {\"color\": \"#ab63fa\", \"symbol\": \"circle\"}, \"mode\": \"markers\", \"name\": \"RACE=ASIAN\", \"showlegend\": true, \"type\": \"scatter\", \"x\": [2017, 2019, 2016, 2016], \"xaxis\": \"x\", \"y\": [45495, 51000, 2200, 160000], \"yaxis\": \"y\"}, {\"hoverlabel\": {\"namelength\": 0}, \"hovertemplate\": \"RACE=AMER IND<br>Year=%{x}<br>Bond=%{y}\", \"legendgroup\": \"RACE=AMER IND\", \"marker\": {\"color\": \"#FFA15A\", \"symbol\": \"circle\"}, \"mode\": \"markers\", \"name\": \"RACE=AMER IND\", \"showlegend\": true, \"type\": \"scatter\", \"x\": [2017], \"xaxis\": \"x\", \"y\": [20500], \"yaxis\": \"y\"}],\n",
              "                        {\"legend\": {\"tracegroupgap\": 0}, \"template\": {\"data\": {\"bar\": [{\"error_x\": {\"color\": \"#2a3f5f\"}, \"error_y\": {\"color\": \"#2a3f5f\"}, \"marker\": {\"line\": {\"color\": \"#E5ECF6\", \"width\": 0.5}}, \"type\": \"bar\"}], \"barpolar\": [{\"marker\": {\"line\": {\"color\": \"#E5ECF6\", \"width\": 0.5}}, \"type\": \"barpolar\"}], \"carpet\": [{\"aaxis\": {\"endlinecolor\": \"#2a3f5f\", \"gridcolor\": \"white\", \"linecolor\": \"white\", \"minorgridcolor\": \"white\", \"startlinecolor\": \"#2a3f5f\"}, \"baxis\": {\"endlinecolor\": \"#2a3f5f\", \"gridcolor\": \"white\", \"linecolor\": \"white\", \"minorgridcolor\": \"white\", \"startlinecolor\": \"#2a3f5f\"}, \"type\": \"carpet\"}], \"choropleth\": [{\"colorbar\": {\"outlinewidth\": 0, \"ticks\": \"\"}, \"type\": \"choropleth\"}], \"contour\": [{\"colorbar\": {\"outlinewidth\": 0, \"ticks\": \"\"}, \"colorscale\": [[0.0, \"#0d0887\"], [0.1111111111111111, \"#46039f\"], [0.2222222222222222, \"#7201a8\"], [0.3333333333333333, \"#9c179e\"], [0.4444444444444444, \"#bd3786\"], [0.5555555555555556, \"#d8576b\"], [0.6666666666666666, \"#ed7953\"], [0.7777777777777778, \"#fb9f3a\"], [0.8888888888888888, \"#fdca26\"], [1.0, \"#f0f921\"]], \"type\": \"contour\"}], \"contourcarpet\": [{\"colorbar\": {\"outlinewidth\": 0, \"ticks\": \"\"}, \"type\": \"contourcarpet\"}], \"heatmap\": [{\"colorbar\": {\"outlinewidth\": 0, \"ticks\": \"\"}, \"colorscale\": [[0.0, \"#0d0887\"], [0.1111111111111111, \"#46039f\"], [0.2222222222222222, \"#7201a8\"], [0.3333333333333333, \"#9c179e\"], [0.4444444444444444, \"#bd3786\"], [0.5555555555555556, \"#d8576b\"], [0.6666666666666666, \"#ed7953\"], [0.7777777777777778, \"#fb9f3a\"], [0.8888888888888888, \"#fdca26\"], [1.0, \"#f0f921\"]], \"type\": \"heatmap\"}], \"heatmapgl\": [{\"colorbar\": {\"outlinewidth\": 0, \"ticks\": \"\"}, \"colorscale\": [[0.0, \"#0d0887\"], [0.1111111111111111, \"#46039f\"], [0.2222222222222222, \"#7201a8\"], [0.3333333333333333, \"#9c179e\"], [0.4444444444444444, \"#bd3786\"], [0.5555555555555556, \"#d8576b\"], [0.6666666666666666, \"#ed7953\"], [0.7777777777777778, \"#fb9f3a\"], [0.8888888888888888, \"#fdca26\"], [1.0, \"#f0f921\"]], \"type\": \"heatmapgl\"}], \"histogram\": [{\"marker\": {\"colorbar\": {\"outlinewidth\": 0, \"ticks\": \"\"}}, \"type\": \"histogram\"}], \"histogram2d\": [{\"colorbar\": {\"outlinewidth\": 0, \"ticks\": \"\"}, \"colorscale\": [[0.0, \"#0d0887\"], [0.1111111111111111, \"#46039f\"], [0.2222222222222222, \"#7201a8\"], [0.3333333333333333, \"#9c179e\"], [0.4444444444444444, \"#bd3786\"], [0.5555555555555556, \"#d8576b\"], [0.6666666666666666, \"#ed7953\"], [0.7777777777777778, \"#fb9f3a\"], [0.8888888888888888, \"#fdca26\"], [1.0, \"#f0f921\"]], \"type\": \"histogram2d\"}], \"histogram2dcontour\": [{\"colorbar\": {\"outlinewidth\": 0, \"ticks\": \"\"}, \"colorscale\": [[0.0, \"#0d0887\"], [0.1111111111111111, \"#46039f\"], [0.2222222222222222, \"#7201a8\"], [0.3333333333333333, \"#9c179e\"], [0.4444444444444444, \"#bd3786\"], [0.5555555555555556, \"#d8576b\"], [0.6666666666666666, \"#ed7953\"], [0.7777777777777778, \"#fb9f3a\"], [0.8888888888888888, \"#fdca26\"], [1.0, \"#f0f921\"]], \"type\": \"histogram2dcontour\"}], \"mesh3d\": [{\"colorbar\": {\"outlinewidth\": 0, \"ticks\": \"\"}, \"type\": \"mesh3d\"}], \"parcoords\": [{\"line\": {\"colorbar\": {\"outlinewidth\": 0, \"ticks\": \"\"}}, \"type\": \"parcoords\"}], \"pie\": [{\"automargin\": true, \"type\": \"pie\"}], \"scatter\": [{\"marker\": {\"colorbar\": {\"outlinewidth\": 0, \"ticks\": \"\"}}, \"type\": \"scatter\"}], \"scatter3d\": [{\"line\": {\"colorbar\": {\"outlinewidth\": 0, \"ticks\": \"\"}}, \"marker\": {\"colorbar\": {\"outlinewidth\": 0, \"ticks\": \"\"}}, \"type\": \"scatter3d\"}], \"scattercarpet\": [{\"marker\": {\"colorbar\": {\"outlinewidth\": 0, \"ticks\": \"\"}}, \"type\": \"scattercarpet\"}], \"scattergeo\": [{\"marker\": {\"colorbar\": {\"outlinewidth\": 0, \"ticks\": \"\"}}, \"type\": \"scattergeo\"}], \"scattergl\": [{\"marker\": {\"colorbar\": {\"outlinewidth\": 0, \"ticks\": \"\"}}, \"type\": \"scattergl\"}], \"scattermapbox\": [{\"marker\": {\"colorbar\": {\"outlinewidth\": 0, \"ticks\": \"\"}}, \"type\": \"scattermapbox\"}], \"scatterpolar\": [{\"marker\": {\"colorbar\": {\"outlinewidth\": 0, \"ticks\": \"\"}}, \"type\": \"scatterpolar\"}], \"scatterpolargl\": [{\"marker\": {\"colorbar\": {\"outlinewidth\": 0, \"ticks\": \"\"}}, \"type\": \"scatterpolargl\"}], \"scatterternary\": [{\"marker\": {\"colorbar\": {\"outlinewidth\": 0, \"ticks\": \"\"}}, \"type\": \"scatterternary\"}], \"surface\": [{\"colorbar\": {\"outlinewidth\": 0, \"ticks\": \"\"}, \"colorscale\": [[0.0, \"#0d0887\"], [0.1111111111111111, \"#46039f\"], [0.2222222222222222, \"#7201a8\"], [0.3333333333333333, \"#9c179e\"], [0.4444444444444444, \"#bd3786\"], [0.5555555555555556, \"#d8576b\"], [0.6666666666666666, \"#ed7953\"], [0.7777777777777778, \"#fb9f3a\"], [0.8888888888888888, \"#fdca26\"], [1.0, \"#f0f921\"]], \"type\": \"surface\"}], \"table\": [{\"cells\": {\"fill\": {\"color\": \"#EBF0F8\"}, \"line\": {\"color\": \"white\"}}, \"header\": {\"fill\": {\"color\": \"#C8D4E3\"}, \"line\": {\"color\": \"white\"}}, \"type\": \"table\"}]}, \"layout\": {\"annotationdefaults\": {\"arrowcolor\": \"#2a3f5f\", \"arrowhead\": 0, \"arrowwidth\": 1}, \"coloraxis\": {\"colorbar\": {\"outlinewidth\": 0, \"ticks\": \"\"}}, \"colorscale\": {\"diverging\": [[0, \"#8e0152\"], [0.1, \"#c51b7d\"], [0.2, \"#de77ae\"], [0.3, \"#f1b6da\"], [0.4, \"#fde0ef\"], [0.5, \"#f7f7f7\"], [0.6, \"#e6f5d0\"], [0.7, \"#b8e186\"], [0.8, \"#7fbc41\"], [0.9, \"#4d9221\"], [1, \"#276419\"]], \"sequential\": [[0.0, \"#0d0887\"], [0.1111111111111111, \"#46039f\"], [0.2222222222222222, \"#7201a8\"], [0.3333333333333333, \"#9c179e\"], [0.4444444444444444, \"#bd3786\"], [0.5555555555555556, \"#d8576b\"], [0.6666666666666666, \"#ed7953\"], [0.7777777777777778, \"#fb9f3a\"], [0.8888888888888888, \"#fdca26\"], [1.0, \"#f0f921\"]], \"sequentialminus\": [[0.0, \"#0d0887\"], [0.1111111111111111, \"#46039f\"], [0.2222222222222222, \"#7201a8\"], [0.3333333333333333, \"#9c179e\"], [0.4444444444444444, \"#bd3786\"], [0.5555555555555556, \"#d8576b\"], [0.6666666666666666, \"#ed7953\"], [0.7777777777777778, \"#fb9f3a\"], [0.8888888888888888, \"#fdca26\"], [1.0, \"#f0f921\"]]}, \"colorway\": [\"#636efa\", \"#EF553B\", \"#00cc96\", \"#ab63fa\", \"#FFA15A\", \"#19d3f3\", \"#FF6692\", \"#B6E880\", \"#FF97FF\", \"#FECB52\"], \"font\": {\"color\": \"#2a3f5f\"}, \"geo\": {\"bgcolor\": \"white\", \"lakecolor\": \"white\", \"landcolor\": \"#E5ECF6\", \"showlakes\": true, \"showland\": true, \"subunitcolor\": \"white\"}, \"hoverlabel\": {\"align\": \"left\"}, \"hovermode\": \"closest\", \"mapbox\": {\"style\": \"light\"}, \"paper_bgcolor\": \"white\", \"plot_bgcolor\": \"#E5ECF6\", \"polar\": {\"angularaxis\": {\"gridcolor\": \"white\", \"linecolor\": \"white\", \"ticks\": \"\"}, \"bgcolor\": \"#E5ECF6\", \"radialaxis\": {\"gridcolor\": \"white\", \"linecolor\": \"white\", \"ticks\": \"\"}}, \"scene\": {\"xaxis\": {\"backgroundcolor\": \"#E5ECF6\", \"gridcolor\": \"white\", \"gridwidth\": 2, \"linecolor\": \"white\", \"showbackground\": true, \"ticks\": \"\", \"zerolinecolor\": \"white\"}, \"yaxis\": {\"backgroundcolor\": \"#E5ECF6\", \"gridcolor\": \"white\", \"gridwidth\": 2, \"linecolor\": \"white\", \"showbackground\": true, \"ticks\": \"\", \"zerolinecolor\": \"white\"}, \"zaxis\": {\"backgroundcolor\": \"#E5ECF6\", \"gridcolor\": \"white\", \"gridwidth\": 2, \"linecolor\": \"white\", \"showbackground\": true, \"ticks\": \"\", \"zerolinecolor\": \"white\"}}, \"shapedefaults\": {\"line\": {\"color\": \"#2a3f5f\"}}, \"ternary\": {\"aaxis\": {\"gridcolor\": \"white\", \"linecolor\": \"white\", \"ticks\": \"\"}, \"baxis\": {\"gridcolor\": \"white\", \"linecolor\": \"white\", \"ticks\": \"\"}, \"bgcolor\": \"#E5ECF6\", \"caxis\": {\"gridcolor\": \"white\", \"linecolor\": \"white\", \"ticks\": \"\"}}, \"title\": {\"x\": 0.05}, \"xaxis\": {\"automargin\": true, \"gridcolor\": \"white\", \"linecolor\": \"white\", \"ticks\": \"\", \"title\": {\"standoff\": 15}, \"zerolinecolor\": \"white\", \"zerolinewidth\": 2}, \"yaxis\": {\"automargin\": true, \"gridcolor\": \"white\", \"linecolor\": \"white\", \"ticks\": \"\", \"title\": {\"standoff\": 15}, \"zerolinecolor\": \"white\", \"zerolinewidth\": 2}}}, \"title\": {\"text\": \"Bond Amount by Race and Year\"}, \"xaxis\": {\"anchor\": \"y\", \"domain\": [0.0, 1.0], \"title\": {\"text\": \"Year\"}}, \"yaxis\": {\"anchor\": \"x\", \"domain\": [0.0, 1.0], \"title\": {\"text\": \"Bond\"}}},\n",
              "                        {\"responsive\": true}\n",
              "                    ).then(function(){\n",
              "                            \n",
              "var gd = document.getElementById('543770f4-3009-431e-ae31-379a46009374');\n",
              "var x = new MutationObserver(function (mutations, observer) {{\n",
              "        var display = window.getComputedStyle(gd).display;\n",
              "        if (!display || display === 'none') {{\n",
              "            console.log([gd, 'removed!']);\n",
              "            Plotly.purge(gd);\n",
              "            observer.disconnect();\n",
              "        }}\n",
              "}});\n",
              "\n",
              "// Listen for the removal of the full notebook cells\n",
              "var notebookContainer = gd.closest('#notebook-container');\n",
              "if (notebookContainer) {{\n",
              "    x.observe(notebookContainer, {childList: true});\n",
              "}}\n",
              "\n",
              "// Listen for the clearing of the current output cell\n",
              "var outputEl = gd.closest('.output');\n",
              "if (outputEl) {{\n",
              "    x.observe(outputEl, {childList: true});\n",
              "}}\n",
              "\n",
              "                        })\n",
              "                };\n",
              "                \n",
              "            </script>\n",
              "        </div>\n",
              "</body>\n",
              "</html>"
            ]
          },
          "metadata": {
            "tags": []
          }
        }
      ]
    },
    {
      "cell_type": "code",
      "metadata": {
        "colab": {
          "base_uri": "https://localhost:8080/",
          "height": 195
        },
        "id": "ni_yci-5bVRX",
        "outputId": "983115e5-3958-4ee6-cc6f-20ff96c1a386"
      },
      "source": [
        "df_2014on = df[df.Year >= 2014]\n",
        "df_2014on.head()"
      ],
      "execution_count": null,
      "outputs": [
        {
          "output_type": "execute_result",
          "data": {
            "text/html": [
              "<div>\n",
              "<style scoped>\n",
              "    .dataframe tbody tr th:only-of-type {\n",
              "        vertical-align: middle;\n",
              "    }\n",
              "\n",
              "    .dataframe tbody tr th {\n",
              "        vertical-align: top;\n",
              "    }\n",
              "\n",
              "    .dataframe thead th {\n",
              "        text-align: right;\n",
              "    }\n",
              "</style>\n",
              "<table border=\"1\" class=\"dataframe\">\n",
              "  <thead>\n",
              "    <tr style=\"text-align: right;\">\n",
              "      <th></th>\n",
              "      <th>Date</th>\n",
              "      <th>RACE</th>\n",
              "      <th>GENDER</th>\n",
              "      <th>AGE</th>\n",
              "      <th>Bond</th>\n",
              "      <th>OFFENSE</th>\n",
              "      <th>Year</th>\n",
              "    </tr>\n",
              "  </thead>\n",
              "  <tbody>\n",
              "    <tr>\n",
              "      <th>0</th>\n",
              "      <td>2018-08-16</td>\n",
              "      <td>BLACK</td>\n",
              "      <td>M</td>\n",
              "      <td>27</td>\n",
              "      <td>150000</td>\n",
              "      <td>CRIMINAL POSS OF PISTOL/REVOLVER      DF</td>\n",
              "      <td>2018</td>\n",
              "    </tr>\n",
              "    <tr>\n",
              "      <th>1</th>\n",
              "      <td>2019-03-28</td>\n",
              "      <td>HISPANIC</td>\n",
              "      <td>M</td>\n",
              "      <td>41</td>\n",
              "      <td>30100</td>\n",
              "      <td>VIOLATION OF PROBATION OR COND DISCHG</td>\n",
              "      <td>2019</td>\n",
              "    </tr>\n",
              "    <tr>\n",
              "      <th>2</th>\n",
              "      <td>2020-04-03</td>\n",
              "      <td>HISPANIC</td>\n",
              "      <td>M</td>\n",
              "      <td>21</td>\n",
              "      <td>150000</td>\n",
              "      <td>CRIMINAL ATTEMPT</td>\n",
              "      <td>2020</td>\n",
              "    </tr>\n",
              "    <tr>\n",
              "      <th>3</th>\n",
              "      <td>2020-01-15</td>\n",
              "      <td>WHITE</td>\n",
              "      <td>M</td>\n",
              "      <td>36</td>\n",
              "      <td>50500</td>\n",
              "      <td>CRIM VIOL OF PROTECTIVE ORDER         DF</td>\n",
              "      <td>2020</td>\n",
              "    </tr>\n",
              "    <tr>\n",
              "      <th>4</th>\n",
              "      <td>2018-12-26</td>\n",
              "      <td>HISPANIC</td>\n",
              "      <td>M</td>\n",
              "      <td>29</td>\n",
              "      <td>100000</td>\n",
              "      <td>CRIMINAL ATTEMPT</td>\n",
              "      <td>2018</td>\n",
              "    </tr>\n",
              "  </tbody>\n",
              "</table>\n",
              "</div>"
            ],
            "text/plain": [
              "        Date      RACE  ...                                   OFFENSE  Year\n",
              "0 2018-08-16     BLACK  ...  CRIMINAL POSS OF PISTOL/REVOLVER      DF  2018\n",
              "1 2019-03-28  HISPANIC  ...     VIOLATION OF PROBATION OR COND DISCHG  2019\n",
              "2 2020-04-03  HISPANIC  ...                          CRIMINAL ATTEMPT  2020\n",
              "3 2020-01-15     WHITE  ...  CRIM VIOL OF PROTECTIVE ORDER         DF  2020\n",
              "4 2018-12-26  HISPANIC  ...                          CRIMINAL ATTEMPT  2018\n",
              "\n",
              "[5 rows x 7 columns]"
            ]
          },
          "metadata": {
            "tags": []
          },
          "execution_count": 16
        }
      ]
    },
    {
      "cell_type": "code",
      "metadata": {
        "id": "r05IGKWWbhlC"
      },
      "source": [
        "df_2014onsample = df_2014on.sample(n=500, random_state=16)"
      ],
      "execution_count": null,
      "outputs": []
    },
    {
      "cell_type": "code",
      "metadata": {
        "colab": {
          "base_uri": "https://localhost:8080/",
          "height": 542
        },
        "id": "sqO_aAcvbulO",
        "outputId": "3b245dd7-b9ab-4c34-a98b-bdaaa1ccf2e2"
      },
      "source": [
        "import plotly.express as px\n",
        "\n",
        "fig = px.scatter(df_2014onsample, x=\"Year\", y=\"Bond\", color=\"RACE\",\n",
        "                 title=\"Numeric 'size' values mean continuous color\")\n",
        "fig.show()"
      ],
      "execution_count": null,
      "outputs": [
        {
          "output_type": "display_data",
          "data": {
            "text/html": [
              "<html>\n",
              "<head><meta charset=\"utf-8\" /></head>\n",
              "<body>\n",
              "    <div>\n",
              "            <script src=\"https://cdnjs.cloudflare.com/ajax/libs/mathjax/2.7.5/MathJax.js?config=TeX-AMS-MML_SVG\"></script><script type=\"text/javascript\">if (window.MathJax) {MathJax.Hub.Config({SVG: {font: \"STIX-Web\"}});}</script>\n",
              "                <script type=\"text/javascript\">window.PlotlyConfig = {MathJaxConfig: 'local'};</script>\n",
              "        <script src=\"https://cdn.plot.ly/plotly-latest.min.js\"></script>    \n",
              "            <div id=\"3e54fdc1-17cb-41ec-aace-f3312b782690\" class=\"plotly-graph-div\" style=\"height:525px; width:100%;\"></div>\n",
              "            <script type=\"text/javascript\">\n",
              "                \n",
              "                    window.PLOTLYENV=window.PLOTLYENV || {};\n",
              "                    \n",
              "                if (document.getElementById(\"3e54fdc1-17cb-41ec-aace-f3312b782690\")) {\n",
              "                    Plotly.newPlot(\n",
              "                        '3e54fdc1-17cb-41ec-aace-f3312b782690',\n",
              "                        [{\"hoverlabel\": {\"namelength\": 0}, \"hovertemplate\": \"RACE=WHITE<br>Year=%{x}<br>Bond=%{y}\", \"legendgroup\": \"RACE=WHITE\", \"marker\": {\"color\": \"#636efa\", \"symbol\": \"circle\"}, \"mode\": \"markers\", \"name\": \"RACE=WHITE\", \"showlegend\": true, \"type\": \"scatter\", \"x\": [2020, 2017, 2020, 2016, 2016, 2016, 2018, 2016, 2019, 2016, 2017, 2016, 2017, 2020, 2018, 2018, 2018, 2018, 2017, 2017, 2017, 2016, 2019, 2017, 2020, 2014, 2020, 2019, 2019, 2019, 2019, 2019, 2017, 2019, 2019, 2017, 2018, 2015, 2020, 2015, 2016, 2018, 2017, 2020, 2020, 2018, 2019, 2015, 2020, 2019, 2016, 2017, 2016, 2018, 2018, 2017, 2021, 2019, 2017, 2017, 2018, 2016, 2017, 2019, 2018, 2019, 2021, 2019, 2014, 2017, 2016, 2017, 2019, 2017, 2018, 2015, 2016, 2019, 2020, 2020, 2019, 2021, 2020, 2018, 2016, 2017, 2020, 2020, 2017, 2017, 2017, 2017, 2017, 2020, 2017, 2017, 2019, 2018, 2019, 2017, 2019, 2017, 2020, 2018, 2018, 2016, 2017, 2019, 2017, 2019, 2019, 2016, 2017, 2019, 2019, 2020, 2019, 2019, 2019, 2019, 2020, 2016, 2019, 2018, 2017, 2018, 2016, 2017, 2017, 2019, 2019, 2017, 2019, 2017, 2016, 2017, 2017, 2018, 2017, 2019, 2020, 2020], \"xaxis\": \"x\", \"y\": [25050, 135000, 25000, 20000, 300300, 50500, 250100, 30700, 202000, 200000, 10000, 100000, 500000, 50000, 10000, 500000, 25000, 77500, 352000, 5000, 25000, 50000, 30000, 50000, 5000, 10000, 10000, 75000, 20000, 400500, 5000, 51000, 25000, 75000, 75000, 56000, 25050, 50000, 350000, 207500, 25000, 78000, 2500, 20000, 311000, 350000, 5000, 226500, 25000, 25000, 25000, 50100, 30000, 5000, 5000, 350000, 75000, 12500, 20000, 45000, 99000, 50000, 47500, 6500, 10000, 5000, 100050, 1001000, 210000, 30000, 200000, 20000, 11500, 7500, 150000, 110000, 20000, 225000, 1000, 650100, 7550, 200200, 100000, 15500, 260500, 150000, 100000, 5000, 25000, 7000, 500000, 525000, 351000, 280000, 161000, 10000, 100000, 100000, 375000, 210250, 12000, 8000, 25050, 44000, 125000, 100000, 40000, 250000, 550000, 100300, 500000, 20000, 10100, 400000, 102000, 45000, 276000, 50000, 95000, 65050, 350000, 750000, 50000, 270000, 70000, 3000, 98500, 150000, 25000, 400000, 10000, 10000, 901000, 50200, 10000, 50000, 2500, 72500, 4550, 10500, 150000, 75000], \"yaxis\": \"y\"}, {\"hoverlabel\": {\"namelength\": 0}, \"hovertemplate\": \"RACE=HISPANIC<br>Year=%{x}<br>Bond=%{y}\", \"legendgroup\": \"RACE=HISPANIC\", \"marker\": {\"color\": \"#EF553B\", \"symbol\": \"circle\"}, \"mode\": \"markers\", \"name\": \"RACE=HISPANIC\", \"showlegend\": true, \"type\": \"scatter\", \"x\": [2020, 2017, 2019, 2018, 2017, 2018, 2015, 2020, 2020, 2020, 2014, 2014, 2018, 2019, 2017, 2017, 2018, 2016, 2019, 2018, 2016, 2020, 2020, 2018, 2018, 2019, 2020, 2017, 2019, 2019, 2017, 2018, 2019, 2016, 2017, 2019, 2017, 2019, 2017, 2017, 2019, 2018, 2019, 2016, 2019, 2018, 2018, 2016, 2018, 2017, 2019, 2018, 2019, 2019, 2018, 2017, 2019, 2019, 2019, 2019, 2018, 2018, 2018, 2019, 2016, 2018, 2019, 2018, 2017, 2018, 2017, 2018, 2020, 2019, 2017, 2019, 2016, 2017, 2019, 2020, 2017, 2018, 2018, 2017, 2016, 2017, 2019, 2018, 2018, 2019, 2016, 2020, 2017, 2016, 2018, 2018, 2017, 2017, 2019, 2016, 2019, 2017, 2018, 2017, 2019, 2020, 2018, 2016, 2018, 2018, 2018, 2018, 2019, 2019, 2017, 2019, 2017, 2020, 2018, 2017, 2018, 2020, 2018, 2019, 2016, 2019, 2019, 2018, 2018, 2018, 2019, 2019, 2019, 2018, 2020, 2018, 2016, 2021, 2017, 2018, 2018, 2017, 2016, 2018, 2019], \"xaxis\": \"x\", \"y\": [350400, 20050, 370000, 500, 15000, 5500, 100200, 358000, 91500, 20500, 500000, 10000, 150000, 150000, 750000, 650000, 205000, 15100, 175500, 500000, 50000, 250500, 65000, 500000, 250000, 250200, 75000, 75100, 35000, 53000, 150100, 100000, 25000, 300000, 344000, 500000, 75100, 40000, 100000, 35050, 2500, 150000, 50000, 30000, 1000000, 40000, 10000, 5000, 500000, 25000, 60000, 250000, 1001000, 500000, 2007000, 505000, 1250000, 195000, 85000, 75000, 100000, 2500000, 150000, 24500, 1000, 10000, 500000, 100000, 25000, 20000, 1500, 302000, 700000, 750000, 50000, 25000, 50500, 450000, 500000, 5600, 35000, 750000, 700000, 250000, 110000, 25150, 80000, 1000000, 125000, 250000, 99000, 400000, 150000, 250000, 50500, 100100, 684000, 95000, 850000, 500000, 150000, 110000, 100000, 226500, 900000, 75000, 125000, 135000, 95000, 750, 12600, 260000, 25000, 250050, 700100, 30000, 1000000, 25000, 51000, 115000, 67500, 50000, 200000, 20000, 15000, 50500, 75500, 10500, 150000, 500000, 5000, 281350, 503500, 100000, 700000, 55000, 15010, 75000, 115000, 351000, 4000, 300000, 200000, 500000, 750000], \"yaxis\": \"y\"}, {\"hoverlabel\": {\"namelength\": 0}, \"hovertemplate\": \"RACE=BLACK<br>Year=%{x}<br>Bond=%{y}\", \"legendgroup\": \"RACE=BLACK\", \"marker\": {\"color\": \"#00cc96\", \"symbol\": \"circle\"}, \"mode\": \"markers\", \"name\": \"RACE=BLACK\", \"showlegend\": true, \"type\": \"scatter\", \"x\": [2019, 2019, 2018, 2020, 2017, 2016, 2019, 2018, 2017, 2019, 2020, 2019, 2018, 2020, 2018, 2017, 2017, 2020, 2016, 2020, 2018, 2016, 2020, 2017, 2017, 2019, 2018, 2018, 2019, 2020, 2016, 2016, 2018, 2020, 2019, 2015, 2017, 2019, 2017, 2019, 2017, 2017, 2020, 2019, 2019, 2020, 2020, 2019, 2018, 2016, 2018, 2020, 2019, 2016, 2018, 2017, 2017, 2019, 2018, 2017, 2016, 2020, 2016, 2017, 2017, 2020, 2017, 2020, 2019, 2017, 2019, 2019, 2020, 2017, 2015, 2018, 2019, 2018, 2016, 2018, 2018, 2016, 2016, 2019, 2017, 2016, 2017, 2019, 2016, 2016, 2019, 2018, 2015, 2016, 2019, 2020, 2018, 2018, 2016, 2017, 2020, 2017, 2017, 2018, 2018, 2016, 2016, 2016, 2016, 2019, 2020, 2021, 2016, 2017, 2016, 2019, 2017, 2019, 2016, 2020, 2018, 2018, 2018, 2020, 2015, 2018, 2018, 2020, 2017, 2016, 2016, 2014, 2017, 2016, 2016, 2017, 2018, 2019, 2017, 2017, 2019, 2016, 2020, 2017, 2017, 2020, 2018, 2017, 2020, 2019, 2020, 2016, 2017, 2018, 2020, 2019, 2019, 2019, 2020, 2019, 2019, 2020, 2019, 2019, 2018, 2016, 2017, 2017, 2019, 2020, 2019, 2017, 2020, 2018, 2018, 2018, 2018, 2017, 2015, 2018, 2019, 2016, 2018, 2019, 2020, 2018, 2019, 2017, 2018, 2016, 2019, 2020, 2016, 2018, 2019, 2018, 2019, 2021, 2016, 2016, 2018, 2015, 2017, 2019, 2019, 2021, 2018, 2015], \"xaxis\": \"x\", \"y\": [50000, 10000, 2000000, 50000, 10000, 75000, 750000, 51100, 125000, 70000, 150000, 450000, 100050, 105000, 75300, 5000, 95000, 47500, 150000, 765000, 150000, 66100, 405000, 50000, 1010400, 100000, 250000, 100000, 15050, 350000, 150100, 1625000, 750000, 60550, 250000, 500000, 150050, 175000, 160200, 190100, 350000, 100250, 97500, 200500, 50000, 50100, 180000, 250000, 15000, 20000, 25000, 10000, 50000, 200000, 350595, 2200000, 50000, 120050, 10000, 18500, 149000, 3500, 1050, 1000, 30000, 75000, 685000, 25500, 600000, 50000, 42500, 171100, 156000, 1327500, 200000, 25000, 35000, 180000, 199000, 15000, 550000, 50000, 750000, 500000, 15000, 110000, 10000, 500000, 300000, 90000, 75000, 105000, 95000, 51000, 100000, 300000, 12500, 35500, 15000, 150100, 10000, 50050, 52000, 1525000, 40000, 50000, 660050, 39000, 301000, 20000, 125000, 50002, 2000000, 45000, 75000, 136000, 525000, 330000, 400000, 500000, 13500, 120000, 25000, 50000, 500500, 32500, 10000, 30000, 225000, 250000, 250000, 50000, 750000, 500000, 1500, 100000, 300000, 150000, 2000000, 90000, 25500, 10000, 45000, 70000, 350050, 25000, 135000, 15000, 25000, 1000000, 155050, 5000, 450000, 185000, 350000, 100000, 275200, 100000, 110000, 45500, 260000, 300000, 75900, 450000, 20000, 500000, 25000, 1002500, 200000, 51300, 50000, 85500, 300000, 350000, 250000, 75000, 300000, 99000, 685000, 22000, 40000, 150050, 50000, 9600, 25000, 30000, 320000, 350000, 1000000, 12500, 150000, 2000000, 180000, 445000, 190000, 5000, 50000, 750000, 95000, 2000000, 425000, 1150000, 326625, 150000, 350000, 332650, 60000, 100000], \"yaxis\": \"y\"}, {\"hoverlabel\": {\"namelength\": 0}, \"hovertemplate\": \"RACE=ASIAN<br>Year=%{x}<br>Bond=%{y}\", \"legendgroup\": \"RACE=ASIAN\", \"marker\": {\"color\": \"#ab63fa\", \"symbol\": \"circle\"}, \"mode\": \"markers\", \"name\": \"RACE=ASIAN\", \"showlegend\": true, \"type\": \"scatter\", \"x\": [2017, 2018, 2016, 2015], \"xaxis\": \"x\", \"y\": [75050, 75000, 20000, 58050], \"yaxis\": \"y\"}, {\"hoverlabel\": {\"namelength\": 0}, \"hovertemplate\": \"RACE=AMER IND<br>Year=%{x}<br>Bond=%{y}\", \"legendgroup\": \"RACE=AMER IND\", \"marker\": {\"color\": \"#FFA15A\", \"symbol\": \"circle\"}, \"mode\": \"markers\", \"name\": \"RACE=AMER IND\", \"showlegend\": true, \"type\": \"scatter\", \"x\": [2021], \"xaxis\": \"x\", \"y\": [35000], \"yaxis\": \"y\"}],\n",
              "                        {\"legend\": {\"tracegroupgap\": 0}, \"template\": {\"data\": {\"bar\": [{\"error_x\": {\"color\": \"#2a3f5f\"}, \"error_y\": {\"color\": \"#2a3f5f\"}, \"marker\": {\"line\": {\"color\": \"#E5ECF6\", \"width\": 0.5}}, \"type\": \"bar\"}], \"barpolar\": [{\"marker\": {\"line\": {\"color\": \"#E5ECF6\", \"width\": 0.5}}, \"type\": \"barpolar\"}], \"carpet\": [{\"aaxis\": {\"endlinecolor\": \"#2a3f5f\", \"gridcolor\": \"white\", \"linecolor\": \"white\", \"minorgridcolor\": \"white\", \"startlinecolor\": \"#2a3f5f\"}, \"baxis\": {\"endlinecolor\": \"#2a3f5f\", \"gridcolor\": \"white\", \"linecolor\": \"white\", \"minorgridcolor\": \"white\", \"startlinecolor\": \"#2a3f5f\"}, \"type\": \"carpet\"}], \"choropleth\": [{\"colorbar\": {\"outlinewidth\": 0, \"ticks\": \"\"}, \"type\": \"choropleth\"}], \"contour\": [{\"colorbar\": {\"outlinewidth\": 0, \"ticks\": \"\"}, \"colorscale\": [[0.0, \"#0d0887\"], [0.1111111111111111, \"#46039f\"], [0.2222222222222222, \"#7201a8\"], [0.3333333333333333, \"#9c179e\"], [0.4444444444444444, \"#bd3786\"], [0.5555555555555556, \"#d8576b\"], [0.6666666666666666, \"#ed7953\"], [0.7777777777777778, \"#fb9f3a\"], [0.8888888888888888, \"#fdca26\"], [1.0, \"#f0f921\"]], \"type\": \"contour\"}], \"contourcarpet\": [{\"colorbar\": {\"outlinewidth\": 0, \"ticks\": \"\"}, \"type\": \"contourcarpet\"}], \"heatmap\": [{\"colorbar\": {\"outlinewidth\": 0, \"ticks\": \"\"}, \"colorscale\": [[0.0, \"#0d0887\"], [0.1111111111111111, \"#46039f\"], [0.2222222222222222, \"#7201a8\"], [0.3333333333333333, \"#9c179e\"], [0.4444444444444444, \"#bd3786\"], [0.5555555555555556, \"#d8576b\"], [0.6666666666666666, \"#ed7953\"], [0.7777777777777778, \"#fb9f3a\"], [0.8888888888888888, \"#fdca26\"], [1.0, \"#f0f921\"]], \"type\": \"heatmap\"}], \"heatmapgl\": [{\"colorbar\": {\"outlinewidth\": 0, \"ticks\": \"\"}, \"colorscale\": [[0.0, \"#0d0887\"], [0.1111111111111111, \"#46039f\"], [0.2222222222222222, \"#7201a8\"], [0.3333333333333333, \"#9c179e\"], [0.4444444444444444, \"#bd3786\"], [0.5555555555555556, \"#d8576b\"], [0.6666666666666666, \"#ed7953\"], [0.7777777777777778, \"#fb9f3a\"], [0.8888888888888888, \"#fdca26\"], [1.0, \"#f0f921\"]], \"type\": \"heatmapgl\"}], \"histogram\": [{\"marker\": {\"colorbar\": {\"outlinewidth\": 0, \"ticks\": \"\"}}, \"type\": \"histogram\"}], \"histogram2d\": [{\"colorbar\": {\"outlinewidth\": 0, \"ticks\": \"\"}, \"colorscale\": [[0.0, \"#0d0887\"], [0.1111111111111111, \"#46039f\"], [0.2222222222222222, \"#7201a8\"], [0.3333333333333333, \"#9c179e\"], [0.4444444444444444, \"#bd3786\"], [0.5555555555555556, \"#d8576b\"], [0.6666666666666666, \"#ed7953\"], [0.7777777777777778, \"#fb9f3a\"], [0.8888888888888888, \"#fdca26\"], [1.0, \"#f0f921\"]], \"type\": \"histogram2d\"}], \"histogram2dcontour\": [{\"colorbar\": {\"outlinewidth\": 0, \"ticks\": \"\"}, \"colorscale\": [[0.0, \"#0d0887\"], [0.1111111111111111, \"#46039f\"], [0.2222222222222222, \"#7201a8\"], [0.3333333333333333, \"#9c179e\"], [0.4444444444444444, \"#bd3786\"], [0.5555555555555556, \"#d8576b\"], [0.6666666666666666, \"#ed7953\"], [0.7777777777777778, \"#fb9f3a\"], [0.8888888888888888, \"#fdca26\"], [1.0, \"#f0f921\"]], \"type\": \"histogram2dcontour\"}], \"mesh3d\": [{\"colorbar\": {\"outlinewidth\": 0, \"ticks\": \"\"}, \"type\": \"mesh3d\"}], \"parcoords\": [{\"line\": {\"colorbar\": {\"outlinewidth\": 0, \"ticks\": \"\"}}, \"type\": \"parcoords\"}], \"pie\": [{\"automargin\": true, \"type\": \"pie\"}], \"scatter\": [{\"marker\": {\"colorbar\": {\"outlinewidth\": 0, \"ticks\": \"\"}}, \"type\": \"scatter\"}], \"scatter3d\": [{\"line\": {\"colorbar\": {\"outlinewidth\": 0, \"ticks\": \"\"}}, \"marker\": {\"colorbar\": {\"outlinewidth\": 0, \"ticks\": \"\"}}, \"type\": \"scatter3d\"}], \"scattercarpet\": [{\"marker\": {\"colorbar\": {\"outlinewidth\": 0, \"ticks\": \"\"}}, \"type\": \"scattercarpet\"}], \"scattergeo\": [{\"marker\": {\"colorbar\": {\"outlinewidth\": 0, \"ticks\": \"\"}}, \"type\": \"scattergeo\"}], \"scattergl\": [{\"marker\": {\"colorbar\": {\"outlinewidth\": 0, \"ticks\": \"\"}}, \"type\": \"scattergl\"}], \"scattermapbox\": [{\"marker\": {\"colorbar\": {\"outlinewidth\": 0, \"ticks\": \"\"}}, \"type\": \"scattermapbox\"}], \"scatterpolar\": [{\"marker\": {\"colorbar\": {\"outlinewidth\": 0, \"ticks\": \"\"}}, \"type\": \"scatterpolar\"}], \"scatterpolargl\": [{\"marker\": {\"colorbar\": {\"outlinewidth\": 0, \"ticks\": \"\"}}, \"type\": \"scatterpolargl\"}], \"scatterternary\": [{\"marker\": {\"colorbar\": {\"outlinewidth\": 0, \"ticks\": \"\"}}, \"type\": \"scatterternary\"}], \"surface\": [{\"colorbar\": {\"outlinewidth\": 0, \"ticks\": \"\"}, \"colorscale\": [[0.0, \"#0d0887\"], [0.1111111111111111, \"#46039f\"], [0.2222222222222222, \"#7201a8\"], [0.3333333333333333, \"#9c179e\"], [0.4444444444444444, \"#bd3786\"], [0.5555555555555556, \"#d8576b\"], [0.6666666666666666, \"#ed7953\"], [0.7777777777777778, \"#fb9f3a\"], [0.8888888888888888, \"#fdca26\"], [1.0, \"#f0f921\"]], \"type\": \"surface\"}], \"table\": [{\"cells\": {\"fill\": {\"color\": \"#EBF0F8\"}, \"line\": {\"color\": \"white\"}}, \"header\": {\"fill\": {\"color\": \"#C8D4E3\"}, \"line\": {\"color\": \"white\"}}, \"type\": \"table\"}]}, \"layout\": {\"annotationdefaults\": {\"arrowcolor\": \"#2a3f5f\", \"arrowhead\": 0, \"arrowwidth\": 1}, \"coloraxis\": {\"colorbar\": {\"outlinewidth\": 0, \"ticks\": \"\"}}, \"colorscale\": {\"diverging\": [[0, \"#8e0152\"], [0.1, \"#c51b7d\"], [0.2, \"#de77ae\"], [0.3, \"#f1b6da\"], [0.4, \"#fde0ef\"], [0.5, \"#f7f7f7\"], [0.6, \"#e6f5d0\"], [0.7, \"#b8e186\"], [0.8, \"#7fbc41\"], [0.9, \"#4d9221\"], [1, \"#276419\"]], \"sequential\": [[0.0, \"#0d0887\"], [0.1111111111111111, \"#46039f\"], [0.2222222222222222, \"#7201a8\"], [0.3333333333333333, \"#9c179e\"], [0.4444444444444444, \"#bd3786\"], [0.5555555555555556, \"#d8576b\"], [0.6666666666666666, \"#ed7953\"], [0.7777777777777778, \"#fb9f3a\"], [0.8888888888888888, \"#fdca26\"], [1.0, \"#f0f921\"]], \"sequentialminus\": [[0.0, \"#0d0887\"], [0.1111111111111111, \"#46039f\"], [0.2222222222222222, \"#7201a8\"], [0.3333333333333333, \"#9c179e\"], [0.4444444444444444, \"#bd3786\"], [0.5555555555555556, \"#d8576b\"], [0.6666666666666666, \"#ed7953\"], [0.7777777777777778, \"#fb9f3a\"], [0.8888888888888888, \"#fdca26\"], [1.0, \"#f0f921\"]]}, \"colorway\": [\"#636efa\", \"#EF553B\", \"#00cc96\", \"#ab63fa\", \"#FFA15A\", \"#19d3f3\", \"#FF6692\", \"#B6E880\", \"#FF97FF\", \"#FECB52\"], \"font\": {\"color\": \"#2a3f5f\"}, \"geo\": {\"bgcolor\": \"white\", \"lakecolor\": \"white\", \"landcolor\": \"#E5ECF6\", \"showlakes\": true, \"showland\": true, \"subunitcolor\": \"white\"}, \"hoverlabel\": {\"align\": \"left\"}, \"hovermode\": \"closest\", \"mapbox\": {\"style\": \"light\"}, \"paper_bgcolor\": \"white\", \"plot_bgcolor\": \"#E5ECF6\", \"polar\": {\"angularaxis\": {\"gridcolor\": \"white\", \"linecolor\": \"white\", \"ticks\": \"\"}, \"bgcolor\": \"#E5ECF6\", \"radialaxis\": {\"gridcolor\": \"white\", \"linecolor\": \"white\", \"ticks\": \"\"}}, \"scene\": {\"xaxis\": {\"backgroundcolor\": \"#E5ECF6\", \"gridcolor\": \"white\", \"gridwidth\": 2, \"linecolor\": \"white\", \"showbackground\": true, \"ticks\": \"\", \"zerolinecolor\": \"white\"}, \"yaxis\": {\"backgroundcolor\": \"#E5ECF6\", \"gridcolor\": \"white\", \"gridwidth\": 2, \"linecolor\": \"white\", \"showbackground\": true, \"ticks\": \"\", \"zerolinecolor\": \"white\"}, \"zaxis\": {\"backgroundcolor\": \"#E5ECF6\", \"gridcolor\": \"white\", \"gridwidth\": 2, \"linecolor\": \"white\", \"showbackground\": true, \"ticks\": \"\", \"zerolinecolor\": \"white\"}}, \"shapedefaults\": {\"line\": {\"color\": \"#2a3f5f\"}}, \"ternary\": {\"aaxis\": {\"gridcolor\": \"white\", \"linecolor\": \"white\", \"ticks\": \"\"}, \"baxis\": {\"gridcolor\": \"white\", \"linecolor\": \"white\", \"ticks\": \"\"}, \"bgcolor\": \"#E5ECF6\", \"caxis\": {\"gridcolor\": \"white\", \"linecolor\": \"white\", \"ticks\": \"\"}}, \"title\": {\"x\": 0.05}, \"xaxis\": {\"automargin\": true, \"gridcolor\": \"white\", \"linecolor\": \"white\", \"ticks\": \"\", \"title\": {\"standoff\": 15}, \"zerolinecolor\": \"white\", \"zerolinewidth\": 2}, \"yaxis\": {\"automargin\": true, \"gridcolor\": \"white\", \"linecolor\": \"white\", \"ticks\": \"\", \"title\": {\"standoff\": 15}, \"zerolinecolor\": \"white\", \"zerolinewidth\": 2}}}, \"title\": {\"text\": \"Numeric 'size' values mean continuous color\"}, \"xaxis\": {\"anchor\": \"y\", \"domain\": [0.0, 1.0], \"title\": {\"text\": \"Year\"}}, \"yaxis\": {\"anchor\": \"x\", \"domain\": [0.0, 1.0], \"title\": {\"text\": \"Bond\"}}},\n",
              "                        {\"responsive\": true}\n",
              "                    ).then(function(){\n",
              "                            \n",
              "var gd = document.getElementById('3e54fdc1-17cb-41ec-aace-f3312b782690');\n",
              "var x = new MutationObserver(function (mutations, observer) {{\n",
              "        var display = window.getComputedStyle(gd).display;\n",
              "        if (!display || display === 'none') {{\n",
              "            console.log([gd, 'removed!']);\n",
              "            Plotly.purge(gd);\n",
              "            observer.disconnect();\n",
              "        }}\n",
              "}});\n",
              "\n",
              "// Listen for the removal of the full notebook cells\n",
              "var notebookContainer = gd.closest('#notebook-container');\n",
              "if (notebookContainer) {{\n",
              "    x.observe(notebookContainer, {childList: true});\n",
              "}}\n",
              "\n",
              "// Listen for the clearing of the current output cell\n",
              "var outputEl = gd.closest('.output');\n",
              "if (outputEl) {{\n",
              "    x.observe(outputEl, {childList: true});\n",
              "}}\n",
              "\n",
              "                        })\n",
              "                };\n",
              "                \n",
              "            </script>\n",
              "        </div>\n",
              "</body>\n",
              "</html>"
            ]
          },
          "metadata": {
            "tags": []
          }
        }
      ]
    },
    {
      "cell_type": "code",
      "metadata": {
        "id": "lEkJROcXc3YH"
      },
      "source": [
        "df_2014onsamplelarge = df_2014on.sample(n=5000, random_state=17)"
      ],
      "execution_count": null,
      "outputs": []
    },
    {
      "cell_type": "code",
      "metadata": {
        "colab": {
          "base_uri": "https://localhost:8080/",
          "height": 673
        },
        "id": "O_kv-o6pciS7",
        "outputId": "6f036975-2164-4eab-ebbc-b80416634ab6"
      },
      "source": [
        "# Visualize the data using scatter plot and histogram\n",
        "sns.set_palette('colorblind')\n",
        "sns.pairplot(data=df_2014onsamplelarge, height=3)"
      ],
      "execution_count": null,
      "outputs": [
        {
          "output_type": "execute_result",
          "data": {
            "text/plain": [
              "<seaborn.axisgrid.PairGrid at 0x7fc295942b90>"
            ]
          },
          "metadata": {
            "tags": []
          },
          "execution_count": 20
        },
        {
          "output_type": "display_data",
          "data": {
            "image/png": "[encoded data removed]",
            "text/plain": [
              "<Figure size 648x648 with 12 Axes>"
            ]
          },
          "metadata": {
            "tags": [],
            "needs_background": "light"
          }
        }
      ]
    },
    {
      "cell_type": "code",
      "metadata": {
        "colab": {
          "base_uri": "https://localhost:8080/",
          "height": 311
        },
        "id": "I0X5sP_GdhhX",
        "outputId": "b932264d-ee12-402a-acc2-52d3696c073d"
      },
      "source": [
        "# Plotting Bar Chart Comparing the types of pre-trial supervision and detention\n",
        "ax = df_2014onsamplelarge.groupby(['Year', 'RACE'])['Bond'].mean().unstack().plot.bar(colormap='Paired', alpha = 0.7)\n",
        "ax.set_facecolor('white')\n",
        "ax.legend(bbox_to_anchor = [1.30, 1.018])\n",
        "\n",
        "plt.title(' Mean Bond Amount by Race & Year')\n",
        "plt.xlabel('Year')\n",
        "plt.ylabel('Mean Bond')\n",
        "\n",
        "plt.savefig('mean_race_year.png', dpi=300, bbox_inches = 'tight')"
      ],
      "execution_count": null,
      "outputs": [
        {
          "output_type": "display_data",
          "data": {
            "image/png": "[encoded data removed]",
            "text/plain": [
              "<Figure size 432x288 with 1 Axes>"
            ]
          },
          "metadata": {
            "tags": [],
            "needs_background": "light"
          }
        }
      ]
    },
    {
      "cell_type": "code",
      "metadata": {
        "colab": {
          "base_uri": "https://localhost:8080/"
        },
        "id": "bL0m1uF-guYb",
        "outputId": "546ada62-881c-4c5c-cf23-1678241fa6c0"
      },
      "source": [
        "t1 = df_2014onsamplelarge.groupby(['Year', 'RACE'])['Bond'].mean()\n",
        "t1"
      ],
      "execution_count": null,
      "outputs": [
        {
          "output_type": "execute_result",
          "data": {
            "text/plain": [
              "Year  RACE    \n",
              "2014  ASIAN       5.000000e+05\n",
              "      BLACK       4.905914e+05\n",
              "      HISPANIC    1.591750e+05\n",
              "      WHITE       3.120625e+05\n",
              "2015  ASIAN       3.157500e+04\n",
              "      BLACK       7.681585e+05\n",
              "      HISPANIC    2.544637e+05\n",
              "      WHITE       3.760688e+05\n",
              "2016  AMER IND    5.280000e+04\n",
              "      ASIAN       7.250000e+04\n",
              "      BLACK       3.057949e+05\n",
              "      HISPANIC    2.103202e+05\n",
              "      WHITE       1.799773e+05\n",
              "2017  AMER IND    1.235000e+05\n",
              "      ASIAN       3.660200e+05\n",
              "      BLACK       3.621053e+05\n",
              "      HISPANIC    2.195107e+05\n",
              "      WHITE       1.492839e+05\n",
              "2018  AMER IND    2.575000e+05\n",
              "      ASIAN       1.900000e+05\n",
              "      BLACK       3.394104e+05\n",
              "      HISPANIC    3.528824e+05\n",
              "      WHITE       1.942387e+05\n",
              "2019  AMER IND    1.588000e+05\n",
              "      ASIAN       1.820833e+05\n",
              "      BLACK       2.888163e+05\n",
              "      HISPANIC    2.711024e+05\n",
              "      WHITE       1.668061e+05\n",
              "2020  AMER IND    2.750000e+05\n",
              "      ASIAN       4.400000e+04\n",
              "      BLACK       2.273417e+05\n",
              "      HISPANIC    1.960175e+05\n",
              "      WHITE       1.318351e+05\n",
              "2021  AMER IND    1.100000e+06\n",
              "      BLACK       2.365846e+05\n",
              "      HISPANIC    6.725000e+04\n",
              "      WHITE       1.266550e+05\n",
              "Name: Bond, dtype: float64"
            ]
          },
          "metadata": {
            "tags": []
          },
          "execution_count": 22
        }
      ]
    },
    {
      "cell_type": "code",
      "metadata": {
        "colab": {
          "base_uri": "https://localhost:8080/",
          "height": 311
        },
        "id": "lzNFhFWde0f4",
        "outputId": "ca514e4b-d8ac-466a-a871-43fb7e85a167"
      },
      "source": [
        "# Plotting Bar Chart Comparing the types of pre-trial supervision and detention\n",
        "ax = df_2014onsamplelarge.groupby(['Year', 'RACE'])['Bond'].median().unstack().plot.bar(colormap='Paired', alpha = 0.7)\n",
        "ax.set_facecolor('white')\n",
        "ax.legend(bbox_to_anchor = [1.30, 1.018])\n",
        "\n",
        "plt.title('Median Bond Amount by Race & Year')\n",
        "plt.xlabel('Year')\n",
        "plt.ylabel('Median Bond')\n",
        "\n",
        "plt.savefig('Median_race_year.png', dpi=300, bbox_inches = 'tight')"
      ],
      "execution_count": null,
      "outputs": [
        {
          "output_type": "display_data",
          "data": {
            "image/png": "[encoded data removed]",
            "text/plain": [
              "<Figure size 432x288 with 1 Axes>"
            ]
          },
          "metadata": {
            "tags": [],
            "needs_background": "light"
          }
        }
      ]
    },
    {
      "cell_type": "markdown",
      "metadata": {
        "id": "IyaCUhgJmlGV"
      },
      "source": [
        "**Black Bail Stats**"
      ]
    },
    {
      "cell_type": "code",
      "metadata": {
        "colab": {
          "base_uri": "https://localhost:8080/"
        },
        "id": "SxlXwZt1jhps",
        "outputId": "94317e5f-4d2c-42c2-8339-0374a6a93d21"
      },
      "source": [
        "df_B = df[(df[\"RACE\"] == 'BLACK')]\n",
        "df_B.value_counts\n"
      ],
      "execution_count": null,
      "outputs": [
        {
          "output_type": "execute_result",
          "data": {
            "text/plain": [
              "<bound method DataFrame.value_counts of               Date   RACE  ...                                   OFFENSE  Year\n",
              "0       2018-08-16  BLACK  ...  CRIMINAL POSS OF PISTOL/REVOLVER      DF  2018\n",
              "8       2020-05-13  BLACK  ...  INTERFERING WITH AN OFFICER           AM  2020\n",
              "9       2020-03-11  BLACK  ...  LARCENY, SECOND DEGREE                CF  2020\n",
              "10      2019-09-18  BLACK  ...     VIOLATION OF PROBATION OR COND DISCHG  2019\n",
              "12      2019-09-23  BLACK  ...  ASSAULT, SECOND DEGREE                DF  2019\n",
              "...            ...    ...  ...                                       ...   ...\n",
              "5351837 2021-02-05  BLACK  ...  CRIMINAL POSSESSION OF A PISTOL       DF  2021\n",
              "5351838 2021-03-01  BLACK  ...  CRIMINAL POSS OF PISTOL/REVOLVER      DF  2021\n",
              "5351841 2014-08-13  BLACK  ...  SALE OF NARC/AMPHET BY NON-DEPENDENT   F  2014\n",
              "5351842 2019-11-13  BLACK  ...  IDENTITY THEFT 1ST DEGREE             BF  2019\n",
              "5351844 2014-01-02  BLACK  ...  ROBBERY, FIRST DEGREE                 BF  2014\n",
              "\n",
              "[2206677 rows x 7 columns]>"
            ]
          },
          "metadata": {
            "tags": []
          },
          "execution_count": 24
        }
      ]
    },
    {
      "cell_type": "code",
      "metadata": {
        "colab": {
          "base_uri": "https://localhost:8080/"
        },
        "id": "q4oKnqAXkrHv",
        "outputId": "116aa3a6-d83d-44fe-f913-b52efeea683a"
      },
      "source": [
        "df_BB10 = df[(df[\"RACE\"] == 'BLACK') & (df[\"Bond\"] >= 10000)]\n",
        "print(df_BB10.value_counts)"
      ],
      "execution_count": null,
      "outputs": [
        {
          "output_type": "stream",
          "text": [
            "<bound method DataFrame.value_counts of               Date   RACE  ...                                   OFFENSE  Year\n",
            "0       2018-08-16  BLACK  ...  CRIMINAL POSS OF PISTOL/REVOLVER      DF  2018\n",
            "8       2020-05-13  BLACK  ...  INTERFERING WITH AN OFFICER           AM  2020\n",
            "9       2020-03-11  BLACK  ...  LARCENY, SECOND DEGREE                CF  2020\n",
            "10      2019-09-18  BLACK  ...     VIOLATION OF PROBATION OR COND DISCHG  2019\n",
            "12      2019-09-23  BLACK  ...  ASSAULT, SECOND DEGREE                DF  2019\n",
            "...            ...    ...  ...                                       ...   ...\n",
            "5351837 2021-02-05  BLACK  ...  CRIMINAL POSSESSION OF A PISTOL       DF  2021\n",
            "5351838 2021-03-01  BLACK  ...  CRIMINAL POSS OF PISTOL/REVOLVER      DF  2021\n",
            "5351841 2014-08-13  BLACK  ...  SALE OF NARC/AMPHET BY NON-DEPENDENT   F  2014\n",
            "5351842 2019-11-13  BLACK  ...  IDENTITY THEFT 1ST DEGREE             BF  2019\n",
            "5351844 2014-01-02  BLACK  ...  ROBBERY, FIRST DEGREE                 BF  2014\n",
            "\n",
            "[2071299 rows x 7 columns]>\n"
          ],
          "name": "stdout"
        }
      ]
    },
    {
      "cell_type": "code",
      "metadata": {
        "colab": {
          "base_uri": "https://localhost:8080/"
        },
        "id": "X5vByfB_k_fI",
        "outputId": "883bebd8-db28-45a9-d07a-8477cd4c26ef"
      },
      "source": [
        "df_BB5 = df[(df[\"RACE\"] == 'BLACK') & (df[\"Bond\"] >= 5000)]\n",
        "print(df_BB5.value_counts)"
      ],
      "execution_count": null,
      "outputs": [
        {
          "output_type": "stream",
          "text": [
            "<bound method DataFrame.value_counts of               Date   RACE  ...                                   OFFENSE  Year\n",
            "0       2018-08-16  BLACK  ...  CRIMINAL POSS OF PISTOL/REVOLVER      DF  2018\n",
            "8       2020-05-13  BLACK  ...  INTERFERING WITH AN OFFICER           AM  2020\n",
            "9       2020-03-11  BLACK  ...  LARCENY, SECOND DEGREE                CF  2020\n",
            "10      2019-09-18  BLACK  ...     VIOLATION OF PROBATION OR COND DISCHG  2019\n",
            "12      2019-09-23  BLACK  ...  ASSAULT, SECOND DEGREE                DF  2019\n",
            "...            ...    ...  ...                                       ...   ...\n",
            "5351837 2021-02-05  BLACK  ...  CRIMINAL POSSESSION OF A PISTOL       DF  2021\n",
            "5351838 2021-03-01  BLACK  ...  CRIMINAL POSS OF PISTOL/REVOLVER      DF  2021\n",
            "5351841 2014-08-13  BLACK  ...  SALE OF NARC/AMPHET BY NON-DEPENDENT   F  2014\n",
            "5351842 2019-11-13  BLACK  ...  IDENTITY THEFT 1ST DEGREE             BF  2019\n",
            "5351844 2014-01-02  BLACK  ...  ROBBERY, FIRST DEGREE                 BF  2014\n",
            "\n",
            "[2142862 rows x 7 columns]>\n"
          ],
          "name": "stdout"
        }
      ]
    },
    {
      "cell_type": "code",
      "metadata": {
        "colab": {
          "base_uri": "https://localhost:8080/"
        },
        "id": "-AmYXymNl7dp",
        "outputId": "09cb8b27-74b6-4b5c-be3b-654958ed2a4e"
      },
      "source": [
        "df_BB1 = df[(df[\"RACE\"] == 'BLACK') & (df[\"Bond\"] >= 1000)]\n",
        "print(df_BB1.value_counts)"
      ],
      "execution_count": null,
      "outputs": [
        {
          "output_type": "stream",
          "text": [
            "<bound method DataFrame.value_counts of               Date   RACE  ...                                   OFFENSE  Year\n",
            "0       2018-08-16  BLACK  ...  CRIMINAL POSS OF PISTOL/REVOLVER      DF  2018\n",
            "8       2020-05-13  BLACK  ...  INTERFERING WITH AN OFFICER           AM  2020\n",
            "9       2020-03-11  BLACK  ...  LARCENY, SECOND DEGREE                CF  2020\n",
            "10      2019-09-18  BLACK  ...     VIOLATION OF PROBATION OR COND DISCHG  2019\n",
            "12      2019-09-23  BLACK  ...  ASSAULT, SECOND DEGREE                DF  2019\n",
            "...            ...    ...  ...                                       ...   ...\n",
            "5351837 2021-02-05  BLACK  ...  CRIMINAL POSSESSION OF A PISTOL       DF  2021\n",
            "5351838 2021-03-01  BLACK  ...  CRIMINAL POSS OF PISTOL/REVOLVER      DF  2021\n",
            "5351841 2014-08-13  BLACK  ...  SALE OF NARC/AMPHET BY NON-DEPENDENT   F  2014\n",
            "5351842 2019-11-13  BLACK  ...  IDENTITY THEFT 1ST DEGREE             BF  2019\n",
            "5351844 2014-01-02  BLACK  ...  ROBBERY, FIRST DEGREE                 BF  2014\n",
            "\n",
            "[2188197 rows x 7 columns]>\n"
          ],
          "name": "stdout"
        }
      ]
    },
    {
      "cell_type": "code",
      "metadata": {
        "colab": {
          "base_uri": "https://localhost:8080/"
        },
        "id": "PIwNkWYYns_g",
        "outputId": "904c22f4-2a33-45d1-cff4-fc0ad4aca4bf"
      },
      "source": [
        "df_BB50 = df[(df[\"RACE\"] == 'BLACK') & (df[\"Bond\"] >= 50000)]\n",
        "print(df_BB50.value_counts)"
      ],
      "execution_count": null,
      "outputs": [
        {
          "output_type": "stream",
          "text": [
            "<bound method DataFrame.value_counts of               Date   RACE  ...                                   OFFENSE  Year\n",
            "0       2018-08-16  BLACK  ...  CRIMINAL POSS OF PISTOL/REVOLVER      DF  2018\n",
            "9       2020-03-11  BLACK  ...  LARCENY, SECOND DEGREE                CF  2020\n",
            "10      2019-09-18  BLACK  ...     VIOLATION OF PROBATION OR COND DISCHG  2019\n",
            "12      2019-09-23  BLACK  ...  ASSAULT, SECOND DEGREE                DF  2019\n",
            "13      2020-03-18  BLACK  ...                            ARREST WARRANT  2020\n",
            "...            ...    ...  ...                                       ...   ...\n",
            "5351837 2021-02-05  BLACK  ...  CRIMINAL POSSESSION OF A PISTOL       DF  2021\n",
            "5351838 2021-03-01  BLACK  ...  CRIMINAL POSS OF PISTOL/REVOLVER      DF  2021\n",
            "5351841 2014-08-13  BLACK  ...  SALE OF NARC/AMPHET BY NON-DEPENDENT   F  2014\n",
            "5351842 2019-11-13  BLACK  ...  IDENTITY THEFT 1ST DEGREE             BF  2019\n",
            "5351844 2014-01-02  BLACK  ...  ROBBERY, FIRST DEGREE                 BF  2014\n",
            "\n",
            "[1679436 rows x 7 columns]>\n"
          ],
          "name": "stdout"
        }
      ]
    },
    {
      "cell_type": "code",
      "metadata": {
        "colab": {
          "base_uri": "https://localhost:8080/"
        },
        "id": "EyOMsfAsocPs",
        "outputId": "e1dae09c-ea77-4b04-eed3-49a18e30f143"
      },
      "source": [
        "df_BB100 = df[(df[\"RACE\"] == 'BLACK') & (df[\"Bond\"] >= 100000)]\n",
        "print(df_BB100.value_counts)"
      ],
      "execution_count": null,
      "outputs": [
        {
          "output_type": "stream",
          "text": [
            "<bound method DataFrame.value_counts of               Date   RACE  ...                                   OFFENSE  Year\n",
            "0       2018-08-16  BLACK  ...  CRIMINAL POSS OF PISTOL/REVOLVER      DF  2018\n",
            "13      2020-03-18  BLACK  ...                            ARREST WARRANT  2020\n",
            "22      2018-01-16  BLACK  ...  MURDER                                AF  2018\n",
            "23      2014-08-13  BLACK  ...  SALE OF NARC/AMPHET BY NON-DEPENDENT   F  2014\n",
            "24      2019-07-05  BLACK  ...  ASSAULT 2ND DEGREE WITH A FIREARM     DF  2019\n",
            "...            ...    ...  ...                                       ...   ...\n",
            "5351837 2021-02-05  BLACK  ...  CRIMINAL POSSESSION OF A PISTOL       DF  2021\n",
            "5351838 2021-03-01  BLACK  ...  CRIMINAL POSS OF PISTOL/REVOLVER      DF  2021\n",
            "5351841 2014-08-13  BLACK  ...  SALE OF NARC/AMPHET BY NON-DEPENDENT   F  2014\n",
            "5351842 2019-11-13  BLACK  ...  IDENTITY THEFT 1ST DEGREE             BF  2019\n",
            "5351844 2014-01-02  BLACK  ...  ROBBERY, FIRST DEGREE                 BF  2014\n",
            "\n",
            "[1292210 rows x 7 columns]>\n"
          ],
          "name": "stdout"
        }
      ]
    },
    {
      "cell_type": "code",
      "metadata": {
        "colab": {
          "base_uri": "https://localhost:8080/"
        },
        "id": "NyhhobzqlGZk",
        "outputId": "aa826865-deaf-412b-b1f5-5d392cb0782d"
      },
      "source": [
        "#Percent of Black Defendants who had a bail over $10,000\n",
        "2071299/2206677 * 100"
      ],
      "execution_count": null,
      "outputs": [
        {
          "output_type": "execute_result",
          "data": {
            "text/plain": [
              "93.86507404572578"
            ]
          },
          "metadata": {
            "tags": []
          },
          "execution_count": 30
        }
      ]
    },
    {
      "cell_type": "code",
      "metadata": {
        "colab": {
          "base_uri": "https://localhost:8080/"
        },
        "id": "ezZTnKyDlTh1",
        "outputId": "1df24994-a7e3-4682-8ecd-2a4ca819f772"
      },
      "source": [
        "#Percent of Black Defendants who had a bail over $5,000\n",
        "2142862/2206677 * 100"
      ],
      "execution_count": null,
      "outputs": [
        {
          "output_type": "execute_result",
          "data": {
            "text/plain": [
              "97.10809511314977"
            ]
          },
          "metadata": {
            "tags": []
          },
          "execution_count": 31
        }
      ]
    },
    {
      "cell_type": "code",
      "metadata": {
        "colab": {
          "base_uri": "https://localhost:8080/"
        },
        "id": "lonzwdl_l7y3",
        "outputId": "2e501814-ca84-4498-ee9e-40a5e7e15aeb"
      },
      "source": [
        "#Percent of Black Defendants who had a bail over $1,000\n",
        "2188197/2206677 * 100"
      ],
      "execution_count": null,
      "outputs": [
        {
          "output_type": "execute_result",
          "data": {
            "text/plain": [
              "99.16254168598304"
            ]
          },
          "metadata": {
            "tags": []
          },
          "execution_count": 32
        }
      ]
    },
    {
      "cell_type": "code",
      "metadata": {
        "colab": {
          "base_uri": "https://localhost:8080/"
        },
        "id": "jgihGpTRnynr",
        "outputId": "4ed8abe5-68c4-457a-b5a1-4a56aa0e5a74"
      },
      "source": [
        "#Percent of Black Defendants who had a bail over $50,000\n",
        "1679436/2206677 * 100"
      ],
      "execution_count": null,
      "outputs": [
        {
          "output_type": "execute_result",
          "data": {
            "text/plain": [
              "76.10701520884116"
            ]
          },
          "metadata": {
            "tags": []
          },
          "execution_count": 33
        }
      ]
    },
    {
      "cell_type": "code",
      "metadata": {
        "colab": {
          "base_uri": "https://localhost:8080/"
        },
        "id": "ZnkZ0GSuohrp",
        "outputId": "320ac4b4-531e-4f95-ca6a-7833a2ac2eb9"
      },
      "source": [
        "#Percent of Black Defendants who had a bail over $50,000\n",
        "1292210/2206677 * 100"
      ],
      "execution_count": null,
      "outputs": [
        {
          "output_type": "execute_result",
          "data": {
            "text/plain": [
              "58.55909133960249"
            ]
          },
          "metadata": {
            "tags": []
          },
          "execution_count": 34
        }
      ]
    },
    {
      "cell_type": "markdown",
      "metadata": {
        "id": "GRsEnIgXmooW"
      },
      "source": [
        "**White Bail Stats**"
      ]
    },
    {
      "cell_type": "code",
      "metadata": {
        "colab": {
          "base_uri": "https://localhost:8080/"
        },
        "id": "grAY6NT1mrYj",
        "outputId": "34caaf00-7c21-47c0-939c-e95021545b17"
      },
      "source": [
        "df_W = df[(df[\"RACE\"] == 'WHITE')]\n",
        "df_W.value_counts"
      ],
      "execution_count": null,
      "outputs": [
        {
          "output_type": "execute_result",
          "data": {
            "text/plain": [
              "<bound method DataFrame.value_counts of               Date   RACE  ...                                   OFFENSE  Year\n",
              "3       2020-01-15  WHITE  ...  CRIM VIOL OF PROTECTIVE ORDER         DF  2020\n",
              "5       2020-01-03  WHITE  ...  CRIM VIOL OF PROTECTIVE ORDER         DF  2020\n",
              "7       2018-12-03  WHITE  ...  ASSAULT 2ND, VICTIM 60 OR OVER        DF  2018\n",
              "14      2019-09-10  WHITE  ...  CRIM VIOL OF PROTECTIVE ORDER         DF  2019\n",
              "15      2019-08-05  WHITE  ...                         YOUTHFUL OFFENDER  2019\n",
              "...            ...    ...  ...                                       ...   ...\n",
              "5351835 2020-10-13  WHITE  ...  HOME INVASION                         AF  2020\n",
              "5351840 2020-08-06  WHITE  ...  SEXUAL ASSAULT, FIRST DEGREE           F  2020\n",
              "5351843 2020-10-05  WHITE  ...  LARCENY, THIRD DEGREE                 DF  2020\n",
              "5351846 2019-08-12  WHITE  ...  HOME INVASION                         AF  2019\n",
              "5351848 2021-02-05  WHITE  ...     VIOLATION OF PROBATION OR COND DISCHG  2021\n",
              "\n",
              "[1663676 rows x 7 columns]>"
            ]
          },
          "metadata": {
            "tags": []
          },
          "execution_count": 35
        }
      ]
    },
    {
      "cell_type": "code",
      "metadata": {
        "colab": {
          "base_uri": "https://localhost:8080/"
        },
        "id": "JMBOWXx-meJE",
        "outputId": "a0ea7761-254f-4fec-ea05-bdb6f3e9bf5d"
      },
      "source": [
        "df_WB10 = df[(df[\"RACE\"] == 'WHITE') & (df[\"Bond\"] >= 10000)]\n",
        "print(df_WB10.value_counts)"
      ],
      "execution_count": null,
      "outputs": [
        {
          "output_type": "stream",
          "text": [
            "<bound method DataFrame.value_counts of               Date   RACE  ...                                   OFFENSE  Year\n",
            "3       2020-01-15  WHITE  ...  CRIM VIOL OF PROTECTIVE ORDER         DF  2020\n",
            "5       2020-01-03  WHITE  ...  CRIM VIOL OF PROTECTIVE ORDER         DF  2020\n",
            "7       2018-12-03  WHITE  ...  ASSAULT 2ND, VICTIM 60 OR OVER        DF  2018\n",
            "14      2019-09-10  WHITE  ...  CRIM VIOL OF PROTECTIVE ORDER         DF  2019\n",
            "15      2019-08-05  WHITE  ...                         YOUTHFUL OFFENDER  2019\n",
            "...            ...    ...  ...                                       ...   ...\n",
            "5351835 2020-10-13  WHITE  ...  HOME INVASION                         AF  2020\n",
            "5351840 2020-08-06  WHITE  ...  SEXUAL ASSAULT, FIRST DEGREE           F  2020\n",
            "5351843 2020-10-05  WHITE  ...  LARCENY, THIRD DEGREE                 DF  2020\n",
            "5351846 2019-08-12  WHITE  ...  HOME INVASION                         AF  2019\n",
            "5351848 2021-02-05  WHITE  ...     VIOLATION OF PROBATION OR COND DISCHG  2021\n",
            "\n",
            "[1492366 rows x 7 columns]>\n"
          ],
          "name": "stdout"
        }
      ]
    },
    {
      "cell_type": "code",
      "metadata": {
        "colab": {
          "base_uri": "https://localhost:8080/"
        },
        "id": "MKhArhu4mxcv",
        "outputId": "97e70e49-03a1-4555-ea06-245deada45e0"
      },
      "source": [
        "#Percent of WHITE Defendants who had a bail over $10,000\n",
        "1492366/1663676 * 100"
      ],
      "execution_count": null,
      "outputs": [
        {
          "output_type": "execute_result",
          "data": {
            "text/plain": [
              "89.70292292489643"
            ]
          },
          "metadata": {
            "tags": []
          },
          "execution_count": 37
        }
      ]
    },
    {
      "cell_type": "code",
      "metadata": {
        "colab": {
          "base_uri": "https://localhost:8080/"
        },
        "id": "JTKAq2g1nNO_",
        "outputId": "29da759a-7dfe-4db9-c814-dc46306cc120"
      },
      "source": [
        "df_WB5 = df[(df[\"RACE\"] == 'WHITE') & (df[\"Bond\"] >= 5000)]\n",
        "print(df_WB5.value_counts)"
      ],
      "execution_count": null,
      "outputs": [
        {
          "output_type": "stream",
          "text": [
            "<bound method DataFrame.value_counts of               Date   RACE  ...                                   OFFENSE  Year\n",
            "3       2020-01-15  WHITE  ...  CRIM VIOL OF PROTECTIVE ORDER         DF  2020\n",
            "5       2020-01-03  WHITE  ...  CRIM VIOL OF PROTECTIVE ORDER         DF  2020\n",
            "7       2018-12-03  WHITE  ...  ASSAULT 2ND, VICTIM 60 OR OVER        DF  2018\n",
            "14      2019-09-10  WHITE  ...  CRIM VIOL OF PROTECTIVE ORDER         DF  2019\n",
            "15      2019-08-05  WHITE  ...                         YOUTHFUL OFFENDER  2019\n",
            "...            ...    ...  ...                                       ...   ...\n",
            "5351835 2020-10-13  WHITE  ...  HOME INVASION                         AF  2020\n",
            "5351840 2020-08-06  WHITE  ...  SEXUAL ASSAULT, FIRST DEGREE           F  2020\n",
            "5351843 2020-10-05  WHITE  ...  LARCENY, THIRD DEGREE                 DF  2020\n",
            "5351846 2019-08-12  WHITE  ...  HOME INVASION                         AF  2019\n",
            "5351848 2021-02-05  WHITE  ...     VIOLATION OF PROBATION OR COND DISCHG  2021\n",
            "\n",
            "[1587622 rows x 7 columns]>\n"
          ],
          "name": "stdout"
        }
      ]
    },
    {
      "cell_type": "code",
      "metadata": {
        "colab": {
          "base_uri": "https://localhost:8080/"
        },
        "id": "jy2ihEr4nT9B",
        "outputId": "132fe91d-d7c5-4d09-955a-8cab79030e93"
      },
      "source": [
        "#Percent of WHITE Defendants who had a bail over $5,000\n",
        "1587622/1663676 * 100"
      ],
      "execution_count": null,
      "outputs": [
        {
          "output_type": "execute_result",
          "data": {
            "text/plain": [
              "95.42855700268562"
            ]
          },
          "metadata": {
            "tags": []
          },
          "execution_count": 39
        }
      ]
    },
    {
      "cell_type": "code",
      "metadata": {
        "colab": {
          "base_uri": "https://localhost:8080/"
        },
        "id": "Y1e1zkYBnbNv",
        "outputId": "80d7144f-9b1a-4518-8f7e-b038311d1805"
      },
      "source": [
        "df_WB1 = df[(df[\"RACE\"] == 'WHITE') & (df[\"Bond\"] >= 1000)]\n",
        "print(df_WB1.value_counts)"
      ],
      "execution_count": null,
      "outputs": [
        {
          "output_type": "stream",
          "text": [
            "<bound method DataFrame.value_counts of               Date   RACE  ...                                   OFFENSE  Year\n",
            "3       2020-01-15  WHITE  ...  CRIM VIOL OF PROTECTIVE ORDER         DF  2020\n",
            "5       2020-01-03  WHITE  ...  CRIM VIOL OF PROTECTIVE ORDER         DF  2020\n",
            "7       2018-12-03  WHITE  ...  ASSAULT 2ND, VICTIM 60 OR OVER        DF  2018\n",
            "14      2019-09-10  WHITE  ...  CRIM VIOL OF PROTECTIVE ORDER         DF  2019\n",
            "15      2019-08-05  WHITE  ...                         YOUTHFUL OFFENDER  2019\n",
            "...            ...    ...  ...                                       ...   ...\n",
            "5351835 2020-10-13  WHITE  ...  HOME INVASION                         AF  2020\n",
            "5351840 2020-08-06  WHITE  ...  SEXUAL ASSAULT, FIRST DEGREE           F  2020\n",
            "5351843 2020-10-05  WHITE  ...  LARCENY, THIRD DEGREE                 DF  2020\n",
            "5351846 2019-08-12  WHITE  ...  HOME INVASION                         AF  2019\n",
            "5351848 2021-02-05  WHITE  ...     VIOLATION OF PROBATION OR COND DISCHG  2021\n",
            "\n",
            "[1646603 rows x 7 columns]>\n"
          ],
          "name": "stdout"
        }
      ]
    },
    {
      "cell_type": "code",
      "metadata": {
        "colab": {
          "base_uri": "https://localhost:8080/"
        },
        "id": "7aDeNOjxnf6q",
        "outputId": "0ea85a09-41d0-469b-8234-f2c1b2d51fb7"
      },
      "source": [
        "#Percent of WHITE Defendants who had a bail over $1,000\n",
        "1646603/1663676 * 100"
      ],
      "execution_count": null,
      "outputs": [
        {
          "output_type": "execute_result",
          "data": {
            "text/plain": [
              "98.97377854822695"
            ]
          },
          "metadata": {
            "tags": []
          },
          "execution_count": 41
        }
      ]
    },
    {
      "cell_type": "code",
      "metadata": {
        "colab": {
          "base_uri": "https://localhost:8080/"
        },
        "id": "JCIG1sEYoAm9",
        "outputId": "eb9ccb7e-2bb0-4a06-8022-a4800b35bd8e"
      },
      "source": [
        "df_WB50 = df[(df[\"RACE\"] == 'WHITE') & (df[\"Bond\"] >= 50000)]\n",
        "print(df_WB50.value_counts)"
      ],
      "execution_count": null,
      "outputs": [
        {
          "output_type": "stream",
          "text": [
            "<bound method DataFrame.value_counts of               Date   RACE  ...                                   OFFENSE  Year\n",
            "3       2020-01-15  WHITE  ...  CRIM VIOL OF PROTECTIVE ORDER         DF  2020\n",
            "5       2020-01-03  WHITE  ...  CRIM VIOL OF PROTECTIVE ORDER         DF  2020\n",
            "7       2018-12-03  WHITE  ...  ASSAULT 2ND, VICTIM 60 OR OVER        DF  2018\n",
            "14      2019-09-10  WHITE  ...  CRIM VIOL OF PROTECTIVE ORDER         DF  2019\n",
            "15      2019-08-05  WHITE  ...                         YOUTHFUL OFFENDER  2019\n",
            "...            ...    ...  ...                                       ...   ...\n",
            "5351835 2020-10-13  WHITE  ...  HOME INVASION                         AF  2020\n",
            "5351840 2020-08-06  WHITE  ...  SEXUAL ASSAULT, FIRST DEGREE           F  2020\n",
            "5351843 2020-10-05  WHITE  ...  LARCENY, THIRD DEGREE                 DF  2020\n",
            "5351846 2019-08-12  WHITE  ...  HOME INVASION                         AF  2019\n",
            "5351848 2021-02-05  WHITE  ...     VIOLATION OF PROBATION OR COND DISCHG  2021\n",
            "\n",
            "[1003572 rows x 7 columns]>\n"
          ],
          "name": "stdout"
        }
      ]
    },
    {
      "cell_type": "code",
      "metadata": {
        "colab": {
          "base_uri": "https://localhost:8080/"
        },
        "id": "ZwHYLj5coFEM",
        "outputId": "8bb9f30c-1103-49e7-9da1-576879258987"
      },
      "source": [
        "#Percent of WHITE Defendants who had a bail over $50,000\n",
        "1003572/1663676 * 100"
      ],
      "execution_count": null,
      "outputs": [
        {
          "output_type": "execute_result",
          "data": {
            "text/plain": [
              "60.32256280670034"
            ]
          },
          "metadata": {
            "tags": []
          },
          "execution_count": 43
        }
      ]
    },
    {
      "cell_type": "code",
      "metadata": {
        "colab": {
          "base_uri": "https://localhost:8080/"
        },
        "id": "Be6mYIHQoo-c",
        "outputId": "9231a5c7-658b-4a77-e599-6ed70d77ef1e"
      },
      "source": [
        "df_WB100 = df[(df[\"RACE\"] == 'WHITE') & (df[\"Bond\"] >= 100000)]\n",
        "print(df_WB100.value_counts)"
      ],
      "execution_count": null,
      "outputs": [
        {
          "output_type": "stream",
          "text": [
            "<bound method DataFrame.value_counts of               Date   RACE  ...                                   OFFENSE  Year\n",
            "5       2020-01-03  WHITE  ...  CRIM VIOL OF PROTECTIVE ORDER         DF  2020\n",
            "14      2019-09-10  WHITE  ...  CRIM VIOL OF PROTECTIVE ORDER         DF  2019\n",
            "15      2019-08-05  WHITE  ...                         YOUTHFUL OFFENDER  2019\n",
            "19      2019-11-12  WHITE  ...  CRIMINAL TRESPASS, THIRD DEGREE       CM  2019\n",
            "29      2017-01-12  WHITE  ...  MURDER                                AF  2017\n",
            "...            ...    ...  ...                                       ...   ...\n",
            "5351835 2020-10-13  WHITE  ...  HOME INVASION                         AF  2020\n",
            "5351840 2020-08-06  WHITE  ...  SEXUAL ASSAULT, FIRST DEGREE           F  2020\n",
            "5351843 2020-10-05  WHITE  ...  LARCENY, THIRD DEGREE                 DF  2020\n",
            "5351846 2019-08-12  WHITE  ...  HOME INVASION                         AF  2019\n",
            "5351848 2021-02-05  WHITE  ...     VIOLATION OF PROBATION OR COND DISCHG  2021\n",
            "\n",
            "[651972 rows x 7 columns]>\n"
          ],
          "name": "stdout"
        }
      ]
    },
    {
      "cell_type": "code",
      "metadata": {
        "colab": {
          "base_uri": "https://localhost:8080/"
        },
        "id": "xHgarX8yosrF",
        "outputId": "9fbcb091-d991-4304-c3ab-7a0d74a2f713"
      },
      "source": [
        "#Percent of WHITE Defendants who had a bail over $50,000\n",
        "651972/1663676 * 100"
      ],
      "execution_count": null,
      "outputs": [
        {
          "output_type": "execute_result",
          "data": {
            "text/plain": [
              "39.18864009578788"
            ]
          },
          "metadata": {
            "tags": []
          },
          "execution_count": 45
        }
      ]
    },
    {
      "cell_type": "markdown",
      "metadata": {
        "id": "DMgsx6cMo_Rn"
      },
      "source": [
        "**Hispanic**"
      ]
    },
    {
      "cell_type": "code",
      "metadata": {
        "colab": {
          "base_uri": "https://localhost:8080/"
        },
        "id": "e-VfIK02pCNh",
        "outputId": "ffb2a7e7-3cec-4a78-ffb9-4d9be217034c"
      },
      "source": [
        "df_H = df[(df[\"RACE\"] == 'HISPANIC')]\n",
        "df_H.value_counts"
      ],
      "execution_count": null,
      "outputs": [
        {
          "output_type": "execute_result",
          "data": {
            "text/plain": [
              "<bound method DataFrame.value_counts of               Date      RACE  ...                                   OFFENSE  Year\n",
              "1       2019-03-28  HISPANIC  ...     VIOLATION OF PROBATION OR COND DISCHG  2019\n",
              "2       2020-04-03  HISPANIC  ...                          CRIMINAL ATTEMPT  2020\n",
              "4       2018-12-26  HISPANIC  ...                          CRIMINAL ATTEMPT  2018\n",
              "6       2020-03-19  HISPANIC  ...  CRIM VIOL ST CRIM RESTR ORDER         DF  2020\n",
              "11      2018-05-03  HISPANIC  ...  MURDER                                AF  2018\n",
              "...            ...       ...  ...                                       ...   ...\n",
              "5351831 2020-12-18  HISPANIC  ...  LARCENY, SECOND DEGREE                CF  2020\n",
              "5351832 2014-11-06  HISPANIC  ...  FORGERY, FIRST DEGREE                 CF  2014\n",
              "5351839 2020-10-07  HISPANIC  ...  BURGLARY, FIRST DEGREE                BF  2020\n",
              "5351845 2020-12-01  HISPANIC  ...  BURGLARY, FIRST DEGREE                BF  2020\n",
              "5351847 2021-03-08  HISPANIC  ...  CRIMINAL POSS OF PISTOL/REVOLVER      DF  2021\n",
              "\n",
              "[1432744 rows x 7 columns]>"
            ]
          },
          "metadata": {
            "tags": []
          },
          "execution_count": 46
        }
      ]
    },
    {
      "cell_type": "code",
      "metadata": {
        "colab": {
          "base_uri": "https://localhost:8080/"
        },
        "id": "_gJTQ8zqpCQi",
        "outputId": "5291edfd-f66a-402a-ad6e-ca96ffc786a4"
      },
      "source": [
        "df_HB100 = df[(df[\"RACE\"] == 'HISPANIC') & (df[\"Bond\"] >= 100000)]\n",
        "print(df_HB100.value_counts)"
      ],
      "execution_count": null,
      "outputs": [
        {
          "output_type": "stream",
          "text": [
            "<bound method DataFrame.value_counts of               Date      RACE  ...                                   OFFENSE  Year\n",
            "2       2020-04-03  HISPANIC  ...                          CRIMINAL ATTEMPT  2020\n",
            "4       2018-12-26  HISPANIC  ...                          CRIMINAL ATTEMPT  2018\n",
            "6       2020-03-19  HISPANIC  ...  CRIM VIOL ST CRIM RESTR ORDER         DF  2020\n",
            "11      2018-05-03  HISPANIC  ...  MURDER                                AF  2018\n",
            "18      2019-12-24  HISPANIC  ...  LARCENY, FIRST DEGREE                 BF  2019\n",
            "...            ...       ...  ...                                       ...   ...\n",
            "5351794 2020-10-13  HISPANIC  ...  THREATENING                           AM  2020\n",
            "5351798 2020-10-09  HISPANIC  ...  INJURY OR RISK OF INJURY TO MINOR      F  2020\n",
            "5351815 2020-09-14  HISPANIC  ...  ROBBERY, FIRST DEGREE                 BF  2020\n",
            "5351823 2021-03-23  HISPANIC  ...  SEXUAL ASSAULT, FIRST DEGREE           F  2021\n",
            "5351847 2021-03-08  HISPANIC  ...  CRIMINAL POSS OF PISTOL/REVOLVER      DF  2021\n",
            "\n",
            "[801214 rows x 7 columns]>\n"
          ],
          "name": "stdout"
        }
      ]
    },
    {
      "cell_type": "code",
      "metadata": {
        "colab": {
          "base_uri": "https://localhost:8080/"
        },
        "id": "ybDziQm7pCVb",
        "outputId": "bda19401-4c9f-4992-b44c-04713278ba19"
      },
      "source": [
        "#Percent of HISPANIC Defendants who had a bail over $100,000\n",
        "801214/1432744 * 100"
      ],
      "execution_count": null,
      "outputs": [
        {
          "output_type": "execute_result",
          "data": {
            "text/plain": [
              "55.921644062023645"
            ]
          },
          "metadata": {
            "tags": []
          },
          "execution_count": 48
        }
      ]
    },
    {
      "cell_type": "code",
      "metadata": {
        "colab": {
          "base_uri": "https://localhost:8080/"
        },
        "id": "B7EzpEGdpCXM",
        "outputId": "2093131f-8364-40f8-9579-c5b7d163d1b0"
      },
      "source": [
        "df_HB50 = df[(df[\"RACE\"] == 'HISPANIC') & (df[\"Bond\"] >= 50000)]\n",
        "print(df_HB50.value_counts)"
      ],
      "execution_count": null,
      "outputs": [
        {
          "output_type": "stream",
          "text": [
            "<bound method DataFrame.value_counts of               Date      RACE  ...                                   OFFENSE  Year\n",
            "2       2020-04-03  HISPANIC  ...                          CRIMINAL ATTEMPT  2020\n",
            "4       2018-12-26  HISPANIC  ...                          CRIMINAL ATTEMPT  2018\n",
            "6       2020-03-19  HISPANIC  ...  CRIM VIOL ST CRIM RESTR ORDER         DF  2020\n",
            "11      2018-05-03  HISPANIC  ...  MURDER                                AF  2018\n",
            "18      2019-12-24  HISPANIC  ...  LARCENY, FIRST DEGREE                 BF  2019\n",
            "...            ...       ...  ...                                       ...   ...\n",
            "5351831 2020-12-18  HISPANIC  ...  LARCENY, SECOND DEGREE                CF  2020\n",
            "5351832 2014-11-06  HISPANIC  ...  FORGERY, FIRST DEGREE                 CF  2014\n",
            "5351839 2020-10-07  HISPANIC  ...  BURGLARY, FIRST DEGREE                BF  2020\n",
            "5351845 2020-12-01  HISPANIC  ...  BURGLARY, FIRST DEGREE                BF  2020\n",
            "5351847 2021-03-08  HISPANIC  ...  CRIMINAL POSS OF PISTOL/REVOLVER      DF  2021\n",
            "\n",
            "[1061617 rows x 7 columns]>\n"
          ],
          "name": "stdout"
        }
      ]
    },
    {
      "cell_type": "code",
      "metadata": {
        "colab": {
          "base_uri": "https://localhost:8080/"
        },
        "id": "8VZLTkSSpCaq",
        "outputId": "f88cafb8-63f3-4145-c66d-56334fd1114f"
      },
      "source": [
        "#Percent of HISPANIC Defendants who had a bail over $50,000\n",
        "1061617/1432744 * 100"
      ],
      "execution_count": null,
      "outputs": [
        {
          "output_type": "execute_result",
          "data": {
            "text/plain": [
              "74.09676815955956"
            ]
          },
          "metadata": {
            "tags": []
          },
          "execution_count": 50
        }
      ]
    },
    {
      "cell_type": "code",
      "metadata": {
        "colab": {
          "base_uri": "https://localhost:8080/"
        },
        "id": "LkMqqTboqJ-D",
        "outputId": "5684cdd1-6519-4146-a822-5ecfe8db5752"
      },
      "source": [
        "df_HB10 = df[(df[\"RACE\"] == 'HISPANIC') & (df[\"Bond\"] >= 10000)]\n",
        "print(df_HB10.value_counts)"
      ],
      "execution_count": null,
      "outputs": [
        {
          "output_type": "stream",
          "text": [
            "<bound method DataFrame.value_counts of               Date      RACE  ...                                   OFFENSE  Year\n",
            "1       2019-03-28  HISPANIC  ...     VIOLATION OF PROBATION OR COND DISCHG  2019\n",
            "2       2020-04-03  HISPANIC  ...                          CRIMINAL ATTEMPT  2020\n",
            "4       2018-12-26  HISPANIC  ...                          CRIMINAL ATTEMPT  2018\n",
            "6       2020-03-19  HISPANIC  ...  CRIM VIOL ST CRIM RESTR ORDER         DF  2020\n",
            "11      2018-05-03  HISPANIC  ...  MURDER                                AF  2018\n",
            "...            ...       ...  ...                                       ...   ...\n",
            "5351831 2020-12-18  HISPANIC  ...  LARCENY, SECOND DEGREE                CF  2020\n",
            "5351832 2014-11-06  HISPANIC  ...  FORGERY, FIRST DEGREE                 CF  2014\n",
            "5351839 2020-10-07  HISPANIC  ...  BURGLARY, FIRST DEGREE                BF  2020\n",
            "5351845 2020-12-01  HISPANIC  ...  BURGLARY, FIRST DEGREE                BF  2020\n",
            "5351847 2021-03-08  HISPANIC  ...  CRIMINAL POSS OF PISTOL/REVOLVER      DF  2021\n",
            "\n",
            "[1337180 rows x 7 columns]>\n"
          ],
          "name": "stdout"
        }
      ]
    },
    {
      "cell_type": "code",
      "metadata": {
        "colab": {
          "base_uri": "https://localhost:8080/"
        },
        "id": "2cp6tLPSqPC6",
        "outputId": "3c9ba612-1dc4-4447-8547-015c8d9fa157"
      },
      "source": [
        "#Percent of HISPANIC Defendants who had a bail over $10,000\n",
        "1337180/1432744 * 100"
      ],
      "execution_count": null,
      "outputs": [
        {
          "output_type": "execute_result",
          "data": {
            "text/plain": [
              "93.33000173094426"
            ]
          },
          "metadata": {
            "tags": []
          },
          "execution_count": 52
        }
      ]
    },
    {
      "cell_type": "code",
      "metadata": {
        "colab": {
          "base_uri": "https://localhost:8080/"
        },
        "id": "Xmo6-ruLqX9b",
        "outputId": "cfaf5b16-5330-48a8-cb2c-13b2a3226e87"
      },
      "source": [
        "df_HB5 = df[(df[\"RACE\"] == 'HISPANIC') & (df[\"Bond\"] >= 5000)]\n",
        "print(df_HB5.value_counts)"
      ],
      "execution_count": null,
      "outputs": [
        {
          "output_type": "stream",
          "text": [
            "<bound method DataFrame.value_counts of               Date      RACE  ...                                   OFFENSE  Year\n",
            "1       2019-03-28  HISPANIC  ...     VIOLATION OF PROBATION OR COND DISCHG  2019\n",
            "2       2020-04-03  HISPANIC  ...                          CRIMINAL ATTEMPT  2020\n",
            "4       2018-12-26  HISPANIC  ...                          CRIMINAL ATTEMPT  2018\n",
            "6       2020-03-19  HISPANIC  ...  CRIM VIOL ST CRIM RESTR ORDER         DF  2020\n",
            "11      2018-05-03  HISPANIC  ...  MURDER                                AF  2018\n",
            "...            ...       ...  ...                                       ...   ...\n",
            "5351831 2020-12-18  HISPANIC  ...  LARCENY, SECOND DEGREE                CF  2020\n",
            "5351832 2014-11-06  HISPANIC  ...  FORGERY, FIRST DEGREE                 CF  2014\n",
            "5351839 2020-10-07  HISPANIC  ...  BURGLARY, FIRST DEGREE                BF  2020\n",
            "5351845 2020-12-01  HISPANIC  ...  BURGLARY, FIRST DEGREE                BF  2020\n",
            "5351847 2021-03-08  HISPANIC  ...  CRIMINAL POSS OF PISTOL/REVOLVER      DF  2021\n",
            "\n",
            "[1386920 rows x 7 columns]>\n"
          ],
          "name": "stdout"
        }
      ]
    },
    {
      "cell_type": "code",
      "metadata": {
        "colab": {
          "base_uri": "https://localhost:8080/"
        },
        "id": "yKr3d-_Kqnr7",
        "outputId": "07b8ebe4-4f14-4d13-c951-6f930dfd98b4"
      },
      "source": [
        "#Percent of HISPANIC Defendants who had a bail over $10,000\n",
        "1386920/1432744 * 100"
      ],
      "execution_count": null,
      "outputs": [
        {
          "output_type": "execute_result",
          "data": {
            "text/plain": [
              "96.80166170648769"
            ]
          },
          "metadata": {
            "tags": []
          },
          "execution_count": 54
        }
      ]
    },
    {
      "cell_type": "code",
      "metadata": {
        "colab": {
          "base_uri": "https://localhost:8080/"
        },
        "id": "T8BzlIU5qs8P",
        "outputId": "d4029d47-7f4d-4d40-93c4-d0756638b490"
      },
      "source": [
        "df_HB1 = df[(df[\"RACE\"] == 'HISPANIC') & (df[\"Bond\"] >= 1000)]\n",
        "print(df_HB1.value_counts)"
      ],
      "execution_count": null,
      "outputs": [
        {
          "output_type": "stream",
          "text": [
            "<bound method DataFrame.value_counts of               Date      RACE  ...                                   OFFENSE  Year\n",
            "1       2019-03-28  HISPANIC  ...     VIOLATION OF PROBATION OR COND DISCHG  2019\n",
            "2       2020-04-03  HISPANIC  ...                          CRIMINAL ATTEMPT  2020\n",
            "4       2018-12-26  HISPANIC  ...                          CRIMINAL ATTEMPT  2018\n",
            "6       2020-03-19  HISPANIC  ...  CRIM VIOL ST CRIM RESTR ORDER         DF  2020\n",
            "11      2018-05-03  HISPANIC  ...  MURDER                                AF  2018\n",
            "...            ...       ...  ...                                       ...   ...\n",
            "5351831 2020-12-18  HISPANIC  ...  LARCENY, SECOND DEGREE                CF  2020\n",
            "5351832 2014-11-06  HISPANIC  ...  FORGERY, FIRST DEGREE                 CF  2014\n",
            "5351839 2020-10-07  HISPANIC  ...  BURGLARY, FIRST DEGREE                BF  2020\n",
            "5351845 2020-12-01  HISPANIC  ...  BURGLARY, FIRST DEGREE                BF  2020\n",
            "5351847 2021-03-08  HISPANIC  ...  CRIMINAL POSS OF PISTOL/REVOLVER      DF  2021\n",
            "\n",
            "[1420476 rows x 7 columns]>\n"
          ],
          "name": "stdout"
        }
      ]
    },
    {
      "cell_type": "code",
      "metadata": {
        "colab": {
          "base_uri": "https://localhost:8080/"
        },
        "id": "qMiFKrqfqxJe",
        "outputId": "46fef09f-16be-492b-8867-5e6f66b626c9"
      },
      "source": [
        "#Percent of HISPANIC Defendants who had a bail over $10,000\n",
        "1420476/1432744 * 100"
      ],
      "execution_count": null,
      "outputs": [
        {
          "output_type": "execute_result",
          "data": {
            "text/plain": [
              "99.14374096139994"
            ]
          },
          "metadata": {
            "tags": []
          },
          "execution_count": 56
        }
      ]
    },
    {
      "cell_type": "markdown",
      "metadata": {
        "id": "HXjX2pwRq2Oq"
      },
      "source": [
        "**Asian**"
      ]
    },
    {
      "cell_type": "code",
      "metadata": {
        "colab": {
          "base_uri": "https://localhost:8080/"
        },
        "id": "hyNFoWqOq6yC",
        "outputId": "972a94a8-189e-494a-f8e7-92335fd7649c"
      },
      "source": [
        "df_A = df[(df[\"RACE\"] == 'ASIAN')]\n",
        "df_A.value_counts"
      ],
      "execution_count": null,
      "outputs": [
        {
          "output_type": "execute_result",
          "data": {
            "text/plain": [
              "<bound method DataFrame.value_counts of               Date   RACE  ...                                   OFFENSE  Year\n",
              "37      2019-11-15  ASIAN  ...     VIOLATION OF PROBATION OR COND DISCHG  2019\n",
              "242     2018-03-01  ASIAN  ...  INJURY/RISK OF INJURY TO MINOR- SEXUAL C  2018\n",
              "402     2005-03-09  ASIAN  ...  SALE OF NARC/AMPHET BY NON-DEPENDENT   F  2005\n",
              "907     2015-05-27  ASIAN  ...  LARCENY, THIRD DEGREE                 DF  2015\n",
              "1245    2018-08-07  ASIAN  ...  SEXUAL ASSAULT, FIRST DEGREE           F  2018\n",
              "...            ...    ...  ...                                       ...   ...\n",
              "5350776 2021-03-05  ASIAN  ...  INJURY OR RISK OF INJURY TO MINOR      F  2021\n",
              "5351086 2021-02-23  ASIAN  ...  CRIM VIOL OF PROTECTIVE ORDER         DF  2021\n",
              "5351128 2020-10-26  ASIAN  ...  ROBBERY, FIRST DEGREE                 BF  2020\n",
              "5351516 2021-01-27  ASIAN  ...  ASSAULT, FIRST DEGREE                 BF  2021\n",
              "5351728 2021-01-12  ASIAN  ...  CRIM VIOL OF PROTECTIVE ORDER         DF  2021\n",
              "\n",
              "[31994 rows x 7 columns]>"
            ]
          },
          "metadata": {
            "tags": []
          },
          "execution_count": 57
        }
      ]
    },
    {
      "cell_type": "code",
      "metadata": {
        "colab": {
          "base_uri": "https://localhost:8080/"
        },
        "id": "MeS6t3Geq69a",
        "outputId": "5a8212d0-4f34-4b1e-8676-935dcab86b4c"
      },
      "source": [
        "df_AB1 = df[(df[\"RACE\"] == 'ASIAN') & (df[\"Bond\"] >= 1000)]\n",
        "print(df_AB1.value_counts)"
      ],
      "execution_count": null,
      "outputs": [
        {
          "output_type": "stream",
          "text": [
            "<bound method DataFrame.value_counts of               Date   RACE  ...                                   OFFENSE  Year\n",
            "37      2019-11-15  ASIAN  ...     VIOLATION OF PROBATION OR COND DISCHG  2019\n",
            "242     2018-03-01  ASIAN  ...  INJURY/RISK OF INJURY TO MINOR- SEXUAL C  2018\n",
            "402     2005-03-09  ASIAN  ...  SALE OF NARC/AMPHET BY NON-DEPENDENT   F  2005\n",
            "907     2015-05-27  ASIAN  ...  LARCENY, THIRD DEGREE                 DF  2015\n",
            "1245    2018-08-07  ASIAN  ...  SEXUAL ASSAULT, FIRST DEGREE           F  2018\n",
            "...            ...    ...  ...                                       ...   ...\n",
            "5350776 2021-03-05  ASIAN  ...  INJURY OR RISK OF INJURY TO MINOR      F  2021\n",
            "5351086 2021-02-23  ASIAN  ...  CRIM VIOL OF PROTECTIVE ORDER         DF  2021\n",
            "5351128 2020-10-26  ASIAN  ...  ROBBERY, FIRST DEGREE                 BF  2020\n",
            "5351516 2021-01-27  ASIAN  ...  ASSAULT, FIRST DEGREE                 BF  2021\n",
            "5351728 2021-01-12  ASIAN  ...  CRIM VIOL OF PROTECTIVE ORDER         DF  2021\n",
            "\n",
            "[31816 rows x 7 columns]>\n"
          ],
          "name": "stdout"
        }
      ]
    },
    {
      "cell_type": "code",
      "metadata": {
        "colab": {
          "base_uri": "https://localhost:8080/"
        },
        "id": "sXSgO8-Irlqo",
        "outputId": "b6381b56-9da4-471b-8654-ab061572b7ae"
      },
      "source": [
        "#Percent of ASIAN Defendants who had a bail over $1,000\n",
        "31816/31994 * 100"
      ],
      "execution_count": null,
      "outputs": [
        {
          "output_type": "execute_result",
          "data": {
            "text/plain": [
              "99.44364568356568"
            ]
          },
          "metadata": {
            "tags": []
          },
          "execution_count": 59
        }
      ]
    },
    {
      "cell_type": "code",
      "metadata": {
        "colab": {
          "base_uri": "https://localhost:8080/"
        },
        "id": "4gsJHEijq7AJ",
        "outputId": "f3986a7e-70f6-4c6a-fd58-5e186fe009fd"
      },
      "source": [
        "df_AB5 = df[(df[\"RACE\"] == 'ASIAN') & (df[\"Bond\"] >= 5000)]\n",
        "print(df_AB5.value_counts)"
      ],
      "execution_count": null,
      "outputs": [
        {
          "output_type": "stream",
          "text": [
            "<bound method DataFrame.value_counts of               Date   RACE  ...                                   OFFENSE  Year\n",
            "37      2019-11-15  ASIAN  ...     VIOLATION OF PROBATION OR COND DISCHG  2019\n",
            "242     2018-03-01  ASIAN  ...  INJURY/RISK OF INJURY TO MINOR- SEXUAL C  2018\n",
            "402     2005-03-09  ASIAN  ...  SALE OF NARC/AMPHET BY NON-DEPENDENT   F  2005\n",
            "907     2015-05-27  ASIAN  ...  LARCENY, THIRD DEGREE                 DF  2015\n",
            "1245    2018-08-07  ASIAN  ...  SEXUAL ASSAULT, FIRST DEGREE           F  2018\n",
            "...            ...    ...  ...                                       ...   ...\n",
            "5350776 2021-03-05  ASIAN  ...  INJURY OR RISK OF INJURY TO MINOR      F  2021\n",
            "5351086 2021-02-23  ASIAN  ...  CRIM VIOL OF PROTECTIVE ORDER         DF  2021\n",
            "5351128 2020-10-26  ASIAN  ...  ROBBERY, FIRST DEGREE                 BF  2020\n",
            "5351516 2021-01-27  ASIAN  ...  ASSAULT, FIRST DEGREE                 BF  2021\n",
            "5351728 2021-01-12  ASIAN  ...  CRIM VIOL OF PROTECTIVE ORDER         DF  2021\n",
            "\n",
            "[30150 rows x 7 columns]>\n"
          ],
          "name": "stdout"
        }
      ]
    },
    {
      "cell_type": "code",
      "metadata": {
        "colab": {
          "base_uri": "https://localhost:8080/"
        },
        "id": "8mGq2K6Mq7Ct",
        "outputId": "26de4387-008e-45a7-ca51-293d15a5550d"
      },
      "source": [
        "#Percent of ASIAN Defendants who had a bail over $5,000\n",
        "30150/31994 * 100"
      ],
      "execution_count": null,
      "outputs": [
        {
          "output_type": "execute_result",
          "data": {
            "text/plain": [
              "94.23641932862412"
            ]
          },
          "metadata": {
            "tags": []
          },
          "execution_count": 61
        }
      ]
    },
    {
      "cell_type": "code",
      "metadata": {
        "colab": {
          "base_uri": "https://localhost:8080/"
        },
        "id": "v9JfVJtNq7FU",
        "outputId": "564a9e52-dd90-40f8-b5c4-6b683481132d"
      },
      "source": [
        "df_AB10 = df[(df[\"RACE\"] == 'ASIAN') & (df[\"Bond\"] >= 10000)]\n",
        "print(df_AB10.value_counts)"
      ],
      "execution_count": null,
      "outputs": [
        {
          "output_type": "stream",
          "text": [
            "<bound method DataFrame.value_counts of               Date   RACE  ...                                   OFFENSE  Year\n",
            "37      2019-11-15  ASIAN  ...     VIOLATION OF PROBATION OR COND DISCHG  2019\n",
            "242     2018-03-01  ASIAN  ...  INJURY/RISK OF INJURY TO MINOR- SEXUAL C  2018\n",
            "402     2005-03-09  ASIAN  ...  SALE OF NARC/AMPHET BY NON-DEPENDENT   F  2005\n",
            "1245    2018-08-07  ASIAN  ...  SEXUAL ASSAULT, FIRST DEGREE           F  2018\n",
            "1734    2018-09-27  ASIAN  ...  ARSON, FIRST DEGREE                   AF  2018\n",
            "...            ...    ...  ...                                       ...   ...\n",
            "5350776 2021-03-05  ASIAN  ...  INJURY OR RISK OF INJURY TO MINOR      F  2021\n",
            "5351086 2021-02-23  ASIAN  ...  CRIM VIOL OF PROTECTIVE ORDER         DF  2021\n",
            "5351128 2020-10-26  ASIAN  ...  ROBBERY, FIRST DEGREE                 BF  2020\n",
            "5351516 2021-01-27  ASIAN  ...  ASSAULT, FIRST DEGREE                 BF  2021\n",
            "5351728 2021-01-12  ASIAN  ...  CRIM VIOL OF PROTECTIVE ORDER         DF  2021\n",
            "\n",
            "[28244 rows x 7 columns]>\n"
          ],
          "name": "stdout"
        }
      ]
    },
    {
      "cell_type": "code",
      "metadata": {
        "colab": {
          "base_uri": "https://localhost:8080/"
        },
        "id": "C4m0l_67q7J0",
        "outputId": "35c95413-ed57-49b6-df87-8d6b140301cf"
      },
      "source": [
        "#Percent of ASIAN Defendants who had a bail over $10,000\n",
        "28244/31994 * 100"
      ],
      "execution_count": null,
      "outputs": [
        {
          "output_type": "execute_result",
          "data": {
            "text/plain": [
              "88.27905232231043"
            ]
          },
          "metadata": {
            "tags": []
          },
          "execution_count": 63
        }
      ]
    },
    {
      "cell_type": "code",
      "metadata": {
        "colab": {
          "base_uri": "https://localhost:8080/"
        },
        "id": "yZPjyzbgsDQW",
        "outputId": "a4a793f4-cd02-4b25-9073-99acd4351621"
      },
      "source": [
        "df_AB50 = df[(df[\"RACE\"] == 'ASIAN') & (df[\"Bond\"] >= 50000)]\n",
        "print(df_AB50.value_counts)"
      ],
      "execution_count": null,
      "outputs": [
        {
          "output_type": "stream",
          "text": [
            "<bound method DataFrame.value_counts of               Date   RACE  ...                                   OFFENSE  Year\n",
            "242     2018-03-01  ASIAN  ...  INJURY/RISK OF INJURY TO MINOR- SEXUAL C  2018\n",
            "402     2005-03-09  ASIAN  ...  SALE OF NARC/AMPHET BY NON-DEPENDENT   F  2005\n",
            "1245    2018-08-07  ASIAN  ...  SEXUAL ASSAULT, FIRST DEGREE           F  2018\n",
            "1734    2018-09-27  ASIAN  ...  ARSON, FIRST DEGREE                   AF  2018\n",
            "1934    2019-12-26  ASIAN  ...  STRANGULATION 2ND DEGREE              DF  2019\n",
            "...            ...    ...  ...                                       ...   ...\n",
            "5350551 2019-12-26  ASIAN  ...  STRANGULATION 2ND DEGREE              DF  2019\n",
            "5350776 2021-03-05  ASIAN  ...  INJURY OR RISK OF INJURY TO MINOR      F  2021\n",
            "5351086 2021-02-23  ASIAN  ...  CRIM VIOL OF PROTECTIVE ORDER         DF  2021\n",
            "5351128 2020-10-26  ASIAN  ...  ROBBERY, FIRST DEGREE                 BF  2020\n",
            "5351516 2021-01-27  ASIAN  ...  ASSAULT, FIRST DEGREE                 BF  2021\n",
            "\n",
            "[21810 rows x 7 columns]>\n"
          ],
          "name": "stdout"
        }
      ]
    },
    {
      "cell_type": "code",
      "metadata": {
        "colab": {
          "base_uri": "https://localhost:8080/"
        },
        "id": "1Mfz1YLjsH38",
        "outputId": "65fda070-2b10-4efe-b05e-f8fa6aacb1cf"
      },
      "source": [
        "#Percent of ASIAN Defendants who had a bail over $50,000\n",
        "21810/31994 * 100"
      ],
      "execution_count": null,
      "outputs": [
        {
          "output_type": "execute_result",
          "data": {
            "text/plain": [
              "68.16903169344252"
            ]
          },
          "metadata": {
            "tags": []
          },
          "execution_count": 65
        }
      ]
    },
    {
      "cell_type": "code",
      "metadata": {
        "colab": {
          "base_uri": "https://localhost:8080/"
        },
        "id": "83HkGKQlsN75",
        "outputId": "232f8965-a65e-451a-d149-88c8de849d15"
      },
      "source": [
        "df_AB100 = df[(df[\"RACE\"] == 'ASIAN') & (df[\"Bond\"] >= 100000)]\n",
        "print(df_AB100.value_counts)"
      ],
      "execution_count": null,
      "outputs": [
        {
          "output_type": "stream",
          "text": [
            "<bound method DataFrame.value_counts of               Date   RACE  ...                                   OFFENSE  Year\n",
            "242     2018-03-01  ASIAN  ...  INJURY/RISK OF INJURY TO MINOR- SEXUAL C  2018\n",
            "1245    2018-08-07  ASIAN  ...  SEXUAL ASSAULT, FIRST DEGREE           F  2018\n",
            "1734    2018-09-27  ASIAN  ...  ARSON, FIRST DEGREE                   AF  2018\n",
            "1948    2018-12-14  ASIAN  ...                          CRIMINAL ATTEMPT  2018\n",
            "2706    2019-05-08  ASIAN  ...  INJURY OR RISK OF INJURY TO MINOR      F  2019\n",
            "...            ...    ...  ...                                       ...   ...\n",
            "5350183 2021-03-29  ASIAN  ...  BURGLARY, FIRST DEGREE                BF  2021\n",
            "5350383 2018-08-07  ASIAN  ...  SEXUAL ASSAULT, FIRST DEGREE           F  2018\n",
            "5350388 2020-10-06  ASIAN  ...  ASSAULT ON POLICE OR FIRE OFFICER     CF  2020\n",
            "5350776 2021-03-05  ASIAN  ...  INJURY OR RISK OF INJURY TO MINOR      F  2021\n",
            "5351516 2021-01-27  ASIAN  ...  ASSAULT, FIRST DEGREE                 BF  2021\n",
            "\n",
            "[15689 rows x 7 columns]>\n"
          ],
          "name": "stdout"
        }
      ]
    },
    {
      "cell_type": "code",
      "metadata": {
        "colab": {
          "base_uri": "https://localhost:8080/"
        },
        "id": "4hhREEAKsN-y",
        "outputId": "3dbca54d-1b74-42c7-fd19-ac48d5256b02"
      },
      "source": [
        "#Percent of ASIAN Defendants who had a bail over $100,000\n",
        "15689/31994 * 100"
      ],
      "execution_count": null,
      "outputs": [
        {
          "output_type": "execute_result",
          "data": {
            "text/plain": [
              "49.03731949740576"
            ]
          },
          "metadata": {
            "tags": []
          },
          "execution_count": 67
        }
      ]
    },
    {
      "cell_type": "markdown",
      "metadata": {
        "id": "K1EZheZXs1Du"
      },
      "source": [
        "**Native American**"
      ]
    },
    {
      "cell_type": "code",
      "metadata": {
        "colab": {
          "base_uri": "https://localhost:8080/"
        },
        "id": "h_os5Mhzs3IJ",
        "outputId": "fce36f36-1b96-403e-ab43-3f0da1b65c0d"
      },
      "source": [
        "df_NA = df[(df[\"RACE\"] == 'AMER IND')]\n",
        "df_NA.value_counts"
      ],
      "execution_count": null,
      "outputs": [
        {
          "output_type": "execute_result",
          "data": {
            "text/plain": [
              "<bound method DataFrame.value_counts of               Date      RACE  ...                                   OFFENSE  Year\n",
              "732     2020-03-09  AMER IND  ...  INJURY OR RISK OF INJURY TO MINOR      F  2020\n",
              "733     2020-01-16  AMER IND  ...               CARRY PIST/RVOLV W/O PERMIT  2020\n",
              "855     2019-01-18  AMER IND  ...  HOME INVASION                         AF  2019\n",
              "1804    2017-08-30  AMER IND  ...  CRIMINAL POSSESSION OF A PISTOL       DF  2017\n",
              "1814    2020-05-01  AMER IND  ...  ASSAULT, SECOND DEGREE                DF  2020\n",
              "...            ...       ...  ...                                       ...   ...\n",
              "5350311 2017-08-30  AMER IND  ...  CRIMINAL POSSESSION OF A PISTOL       DF  2017\n",
              "5350557 2021-02-09  AMER IND  ...  HOME INVASION                         AF  2021\n",
              "5350875 2021-03-31  AMER IND  ...  ASSAULT, SECOND DEGREE                 F  2021\n",
              "5351364 2020-08-18  AMER IND  ...  INJURY/RISK OF INJURY TO MINOR- SEXUAL C  2020\n",
              "5351609 2020-09-18  AMER IND  ...  HOME INVASION                         AF  2020\n",
              "\n",
              "[16758 rows x 7 columns]>"
            ]
          },
          "metadata": {
            "tags": []
          },
          "execution_count": 68
        }
      ]
    },
    {
      "cell_type": "code",
      "metadata": {
        "colab": {
          "base_uri": "https://localhost:8080/"
        },
        "id": "dIepdfn6s3UO",
        "outputId": "1357aba9-bdf3-4441-cfce-6a5ab98061eb"
      },
      "source": [
        "2206677+1663676+1432744+31994+16758"
      ],
      "execution_count": null,
      "outputs": [
        {
          "output_type": "execute_result",
          "data": {
            "text/plain": [
              "5351849"
            ]
          },
          "metadata": {
            "tags": []
          },
          "execution_count": 69
        }
      ]
    },
    {
      "cell_type": "code",
      "metadata": {
        "colab": {
          "base_uri": "https://localhost:8080/"
        },
        "id": "MKB6hrKds3XN",
        "outputId": "8da60c67-229b-469e-fa83-2a3b79eb3625"
      },
      "source": [
        "2206677/5351849 * 100"
      ],
      "execution_count": null,
      "outputs": [
        {
          "output_type": "execute_result",
          "data": {
            "text/plain": [
              "41.23204896102263"
            ]
          },
          "metadata": {
            "tags": []
          },
          "execution_count": 70
        }
      ]
    },
    {
      "cell_type": "code",
      "metadata": {
        "colab": {
          "base_uri": "https://localhost:8080/"
        },
        "id": "CNjp0U9Ls3aF",
        "outputId": "5b72cdcb-8b7e-43a3-fcc7-7860bd5aae65"
      },
      "source": [
        "1663676/5351849 * 100"
      ],
      "execution_count": null,
      "outputs": [
        {
          "output_type": "execute_result",
          "data": {
            "text/plain": [
              "31.086004108112913"
            ]
          },
          "metadata": {
            "tags": []
          },
          "execution_count": 71
        }
      ]
    },
    {
      "cell_type": "code",
      "metadata": {
        "colab": {
          "base_uri": "https://localhost:8080/"
        },
        "id": "PuEganLks3c-",
        "outputId": "d8f2be6d-f58b-452a-f9fa-a2b56093656d"
      },
      "source": [
        "1432744/5351849 * 100"
      ],
      "execution_count": null,
      "outputs": [
        {
          "output_type": "execute_result",
          "data": {
            "text/plain": [
              "26.771009421229934"
            ]
          },
          "metadata": {
            "tags": []
          },
          "execution_count": 72
        }
      ]
    },
    {
      "cell_type": "code",
      "metadata": {
        "colab": {
          "base_uri": "https://localhost:8080/"
        },
        "id": "gBUi6XKHs3f5",
        "outputId": "1d0725f4-511e-488b-cb23-73a8a4cd6d55"
      },
      "source": [
        "31994/5351849 * 100"
      ],
      "execution_count": null,
      "outputs": [
        {
          "output_type": "execute_result",
          "data": {
            "text/plain": [
              "0.5978120832631862"
            ]
          },
          "metadata": {
            "tags": []
          },
          "execution_count": 73
        }
      ]
    },
    {
      "cell_type": "code",
      "metadata": {
        "colab": {
          "base_uri": "https://localhost:8080/"
        },
        "id": "sCajqE_Fs3ij",
        "outputId": "3ce614cc-8785-4e34-b1cc-6791b8de6f7a"
      },
      "source": [
        "16758/5351849 * 100"
      ],
      "execution_count": null,
      "outputs": [
        {
          "output_type": "execute_result",
          "data": {
            "text/plain": [
              "0.31312542637133445"
            ]
          },
          "metadata": {
            "tags": []
          },
          "execution_count": 74
        }
      ]
    },
    {
      "cell_type": "code",
      "metadata": {
        "colab": {
          "base_uri": "https://localhost:8080/"
        },
        "id": "L7kfslJfeDsI",
        "outputId": "36841389-9af7-413f-bfea-2e5105581b7b"
      },
      "source": [
        "df_NA100 = df[(df[\"RACE\"] == 'AMER IND') & (df[\"Bond\"] >= 100000)]\n",
        "print(df_NA100.value_counts)"
      ],
      "execution_count": null,
      "outputs": [
        {
          "output_type": "stream",
          "text": [
            "<bound method DataFrame.value_counts of               Date      RACE  ...                                   OFFENSE  Year\n",
            "855     2019-01-18  AMER IND  ...  HOME INVASION                         AF  2019\n",
            "1804    2017-08-30  AMER IND  ...  CRIMINAL POSSESSION OF A PISTOL       DF  2017\n",
            "2200    2019-04-11  AMER IND  ...                                CONSPIRACY  2019\n",
            "3605    2016-01-19  AMER IND  ...  ROBBERY, FIRST DEGREE                 BF  2016\n",
            "3796    2016-06-07  AMER IND  ...     VIOLATION OF PROBATION OR COND DISCHG  2016\n",
            "...            ...       ...  ...                                       ...   ...\n",
            "5349856 2021-03-01  AMER IND  ...  ARSON, SECOND DEGREE                  BF  2021\n",
            "5350557 2021-02-09  AMER IND  ...  HOME INVASION                         AF  2021\n",
            "5350875 2021-03-31  AMER IND  ...  ASSAULT, SECOND DEGREE                 F  2021\n",
            "5351364 2020-08-18  AMER IND  ...  INJURY/RISK OF INJURY TO MINOR- SEXUAL C  2020\n",
            "5351609 2020-09-18  AMER IND  ...  HOME INVASION                         AF  2020\n",
            "\n",
            "[8751 rows x 7 columns]>\n"
          ],
          "name": "stdout"
        }
      ]
    },
    {
      "cell_type": "code",
      "metadata": {
        "colab": {
          "base_uri": "https://localhost:8080/"
        },
        "id": "UoBhLC3jeD4p",
        "outputId": "38bb723d-9144-4261-cef0-54133d34d9c2"
      },
      "source": [
        "#Percent of NATIVE AMERICAN Defendants who had a bail over $100,000\n",
        "8751/16758 * 100"
      ],
      "execution_count": null,
      "outputs": [
        {
          "output_type": "execute_result",
          "data": {
            "text/plain": [
              "52.21983530254207"
            ]
          },
          "metadata": {
            "tags": []
          },
          "execution_count": 77
        }
      ]
    },
    {
      "cell_type": "code",
      "metadata": {
        "colab": {
          "base_uri": "https://localhost:8080/"
        },
        "id": "tOC2OVwSeEC7",
        "outputId": "7df134b9-9994-4ba3-880e-83a9487ec921"
      },
      "source": [
        "df_NA50 = df[(df[\"RACE\"] == 'AMER IND') & (df[\"Bond\"] >= 50000)]\n",
        "print(df_NA50.value_counts)"
      ],
      "execution_count": null,
      "outputs": [
        {
          "output_type": "stream",
          "text": [
            "<bound method DataFrame.value_counts of               Date      RACE  ...                                   OFFENSE  Year\n",
            "733     2020-01-16  AMER IND  ...               CARRY PIST/RVOLV W/O PERMIT  2020\n",
            "855     2019-01-18  AMER IND  ...  HOME INVASION                         AF  2019\n",
            "1804    2017-08-30  AMER IND  ...  CRIMINAL POSSESSION OF A PISTOL       DF  2017\n",
            "1814    2020-05-01  AMER IND  ...  ASSAULT, SECOND DEGREE                DF  2020\n",
            "2041    2020-01-23  AMER IND  ...  CRIM VIOL OF PROTECTIVE ORDER         DF  2020\n",
            "...            ...       ...  ...                                       ...   ...\n",
            "5350311 2017-08-30  AMER IND  ...  CRIMINAL POSSESSION OF A PISTOL       DF  2017\n",
            "5350557 2021-02-09  AMER IND  ...  HOME INVASION                         AF  2021\n",
            "5350875 2021-03-31  AMER IND  ...  ASSAULT, SECOND DEGREE                 F  2021\n",
            "5351364 2020-08-18  AMER IND  ...  INJURY/RISK OF INJURY TO MINOR- SEXUAL C  2020\n",
            "5351609 2020-09-18  AMER IND  ...  HOME INVASION                         AF  2020\n",
            "\n",
            "[12163 rows x 7 columns]>\n"
          ],
          "name": "stdout"
        }
      ]
    },
    {
      "cell_type": "code",
      "metadata": {
        "colab": {
          "base_uri": "https://localhost:8080/"
        },
        "id": "y_BbvWlIeENx",
        "outputId": "3acd3b0d-ccaa-4170-8044-7d6aebbbffc2"
      },
      "source": [
        "#Percent of NATIVE AMERICAN Defendants who had a bail over $50,000\n",
        "12163/16758 * 100"
      ],
      "execution_count": null,
      "outputs": [
        {
          "output_type": "execute_result",
          "data": {
            "text/plain": [
              "72.58026017424514"
            ]
          },
          "metadata": {
            "tags": []
          },
          "execution_count": 79
        }
      ]
    },
    {
      "cell_type": "code",
      "metadata": {
        "colab": {
          "base_uri": "https://localhost:8080/"
        },
        "id": "DNnb4Np1f4sv",
        "outputId": "b7ff9e72-14fd-4f95-f405-0c813cf9e8f2"
      },
      "source": [
        "df_NA10 = df[(df[\"RACE\"] == 'AMER IND') & (df[\"Bond\"] >= 10000)]\n",
        "print(df_NA10.value_counts)"
      ],
      "execution_count": null,
      "outputs": [
        {
          "output_type": "stream",
          "text": [
            "<bound method DataFrame.value_counts of               Date      RACE  ...                                   OFFENSE  Year\n",
            "732     2020-03-09  AMER IND  ...  INJURY OR RISK OF INJURY TO MINOR      F  2020\n",
            "733     2020-01-16  AMER IND  ...               CARRY PIST/RVOLV W/O PERMIT  2020\n",
            "855     2019-01-18  AMER IND  ...  HOME INVASION                         AF  2019\n",
            "1804    2017-08-30  AMER IND  ...  CRIMINAL POSSESSION OF A PISTOL       DF  2017\n",
            "1814    2020-05-01  AMER IND  ...  ASSAULT, SECOND DEGREE                DF  2020\n",
            "...            ...       ...  ...                                       ...   ...\n",
            "5350311 2017-08-30  AMER IND  ...  CRIMINAL POSSESSION OF A PISTOL       DF  2017\n",
            "5350557 2021-02-09  AMER IND  ...  HOME INVASION                         AF  2021\n",
            "5350875 2021-03-31  AMER IND  ...  ASSAULT, SECOND DEGREE                 F  2021\n",
            "5351364 2020-08-18  AMER IND  ...  INJURY/RISK OF INJURY TO MINOR- SEXUAL C  2020\n",
            "5351609 2020-09-18  AMER IND  ...  HOME INVASION                         AF  2020\n",
            "\n",
            "[15384 rows x 7 columns]>\n"
          ],
          "name": "stdout"
        }
      ]
    },
    {
      "cell_type": "code",
      "metadata": {
        "colab": {
          "base_uri": "https://localhost:8080/"
        },
        "id": "OtEtvZF_f4vl",
        "outputId": "ba454936-28b0-4d85-a0bc-5d38dce29d87"
      },
      "source": [
        "#Percent of NATIVE AMERICAN Defendants who had a bail over $10,000\n",
        "15384/16758 * 100"
      ],
      "execution_count": null,
      "outputs": [
        {
          "output_type": "execute_result",
          "data": {
            "text/plain": [
              "91.80093089867526"
            ]
          },
          "metadata": {
            "tags": []
          },
          "execution_count": 81
        }
      ]
    },
    {
      "cell_type": "code",
      "metadata": {
        "colab": {
          "base_uri": "https://localhost:8080/"
        },
        "id": "IhKNT_5sf4ym",
        "outputId": "f4f37e42-1a85-47d7-8cd7-b9fe49739c46"
      },
      "source": [
        "df_NA5 = df[(df[\"RACE\"] == 'AMER IND') & (df[\"Bond\"] >= 5000)]\n",
        "print(df_NA5.value_counts)"
      ],
      "execution_count": null,
      "outputs": [
        {
          "output_type": "stream",
          "text": [
            "<bound method DataFrame.value_counts of               Date      RACE  ...                                   OFFENSE  Year\n",
            "732     2020-03-09  AMER IND  ...  INJURY OR RISK OF INJURY TO MINOR      F  2020\n",
            "733     2020-01-16  AMER IND  ...               CARRY PIST/RVOLV W/O PERMIT  2020\n",
            "855     2019-01-18  AMER IND  ...  HOME INVASION                         AF  2019\n",
            "1804    2017-08-30  AMER IND  ...  CRIMINAL POSSESSION OF A PISTOL       DF  2017\n",
            "1814    2020-05-01  AMER IND  ...  ASSAULT, SECOND DEGREE                DF  2020\n",
            "...            ...       ...  ...                                       ...   ...\n",
            "5350311 2017-08-30  AMER IND  ...  CRIMINAL POSSESSION OF A PISTOL       DF  2017\n",
            "5350557 2021-02-09  AMER IND  ...  HOME INVASION                         AF  2021\n",
            "5350875 2021-03-31  AMER IND  ...  ASSAULT, SECOND DEGREE                 F  2021\n",
            "5351364 2020-08-18  AMER IND  ...  INJURY/RISK OF INJURY TO MINOR- SEXUAL C  2020\n",
            "5351609 2020-09-18  AMER IND  ...  HOME INVASION                         AF  2020\n",
            "\n",
            "[15981 rows x 7 columns]>\n"
          ],
          "name": "stdout"
        }
      ]
    },
    {
      "cell_type": "code",
      "metadata": {
        "colab": {
          "base_uri": "https://localhost:8080/"
        },
        "id": "1ZF2J8gef46p",
        "outputId": "850b0839-ee94-4aff-dcfc-6c1c19e71571"
      },
      "source": [
        "#Percent of NATIVE AMERICAN Defendants who had a bail over $50,000\n",
        "15981/16758 * 100"
      ],
      "execution_count": null,
      "outputs": [
        {
          "output_type": "execute_result",
          "data": {
            "text/plain": [
              "95.36340852130326"
            ]
          },
          "metadata": {
            "tags": []
          },
          "execution_count": 84
        }
      ]
    },
    {
      "cell_type": "code",
      "metadata": {
        "colab": {
          "base_uri": "https://localhost:8080/"
        },
        "id": "P96-D5r2f4_0",
        "outputId": "5a5d7971-2d81-42a4-9401-7935a3e7a2f5"
      },
      "source": [
        "df_NA1 = df[(df[\"RACE\"] == 'AMER IND') & (df[\"Bond\"] >= 1000)]\n",
        "print(df_NA1.value_counts)"
      ],
      "execution_count": null,
      "outputs": [
        {
          "output_type": "stream",
          "text": [
            "<bound method DataFrame.value_counts of               Date      RACE  ...                                   OFFENSE  Year\n",
            "732     2020-03-09  AMER IND  ...  INJURY OR RISK OF INJURY TO MINOR      F  2020\n",
            "733     2020-01-16  AMER IND  ...               CARRY PIST/RVOLV W/O PERMIT  2020\n",
            "855     2019-01-18  AMER IND  ...  HOME INVASION                         AF  2019\n",
            "1804    2017-08-30  AMER IND  ...  CRIMINAL POSSESSION OF A PISTOL       DF  2017\n",
            "1814    2020-05-01  AMER IND  ...  ASSAULT, SECOND DEGREE                DF  2020\n",
            "...            ...       ...  ...                                       ...   ...\n",
            "5350311 2017-08-30  AMER IND  ...  CRIMINAL POSSESSION OF A PISTOL       DF  2017\n",
            "5350557 2021-02-09  AMER IND  ...  HOME INVASION                         AF  2021\n",
            "5350875 2021-03-31  AMER IND  ...  ASSAULT, SECOND DEGREE                 F  2021\n",
            "5351364 2020-08-18  AMER IND  ...  INJURY/RISK OF INJURY TO MINOR- SEXUAL C  2020\n",
            "5351609 2020-09-18  AMER IND  ...  HOME INVASION                         AF  2020\n",
            "\n",
            "[16706 rows x 7 columns]>\n"
          ],
          "name": "stdout"
        }
      ]
    },
    {
      "cell_type": "code",
      "metadata": {
        "colab": {
          "base_uri": "https://localhost:8080/"
        },
        "id": "qdrr9iTXf5Gc",
        "outputId": "e4a79376-da96-4ebf-ae6a-765badd879a1"
      },
      "source": [
        "#Percent of NATIVE AMERICAN Defendants who had a bail over $1,000\n",
        "16706/16758 * 100"
      ],
      "execution_count": null,
      "outputs": [
        {
          "output_type": "execute_result",
          "data": {
            "text/plain": [
              "99.68970044158014"
            ]
          },
          "metadata": {
            "tags": []
          },
          "execution_count": 86
        }
      ]
    },
    {
      "cell_type": "markdown",
      "metadata": {
        "id": "XWrt-ek_gQQJ"
      },
      "source": [
        "**2015 Stats**"
      ]
    },
    {
      "cell_type": "code",
      "metadata": {
        "colab": {
          "base_uri": "https://localhost:8080/"
        },
        "id": "mwsLgAzHgjXB",
        "outputId": "2f091401-5b45-476f-aa0c-1179d6a3c55f"
      },
      "source": [
        "# Dataset 2015\n",
        "df_2015 = df[(df['Year'] == 2015)]\n",
        "df_2015.value_counts"
      ],
      "execution_count": null,
      "outputs": [
        {
          "output_type": "execute_result",
          "data": {
            "text/plain": [
              "<bound method DataFrame.value_counts of               Date      RACE  ...                                   OFFENSE  Year\n",
              "109     2015-06-15  HISPANIC  ...                            SPECIAL PAROLE  2015\n",
              "250     2015-11-12  HISPANIC  ...                   POSSESSION OF NARCOTICS  2015\n",
              "380     2015-11-24  HISPANIC  ...  SALE OF NARC/AMPHET BY NON-DEPENDENT   F  2015\n",
              "467     2015-12-22     WHITE  ...  SEXUAL ASSAULT, SECOND DEGREE          F  2015\n",
              "564     2015-04-14     BLACK  ...  ASSAULT, FIRST DEGREE                 BF  2015\n",
              "...            ...       ...  ...                                       ...   ...\n",
              "5351333 2015-08-24     BLACK  ...  SEXUAL ASSAULT, FIRST DEGREE           F  2015\n",
              "5351460 2015-11-03     BLACK  ...                          CRIMINAL ATTEMPT  2015\n",
              "5351482 2015-08-16     WHITE  ...  BURGLARY, THIRD DEGREE                DF  2015\n",
              "5351674 2015-09-09     BLACK  ...  BURGLARY, FIRST DEGREE                BF  2015\n",
              "5351760 2015-05-27     BLACK  ...  ASSAULT, THIRD DEGREE                 AM  2015\n",
              "\n",
              "[148717 rows x 7 columns]>"
            ]
          },
          "metadata": {
            "tags": []
          },
          "execution_count": 109
        }
      ]
    },
    {
      "cell_type": "markdown",
      "metadata": {
        "id": "A9Gc802hipHD"
      },
      "source": [
        "**Black 2015**"
      ]
    },
    {
      "cell_type": "code",
      "metadata": {
        "colab": {
          "base_uri": "https://localhost:8080/"
        },
        "id": "Ed7kwBdDgYwC",
        "outputId": "77f2ea23-17d3-4d59-fec8-aa0582802f1d"
      },
      "source": [
        "df_2015B = df_2015[(df_2015[\"RACE\"] == 'BLACK')]\n",
        "df_2015B.value_counts"
      ],
      "execution_count": null,
      "outputs": [
        {
          "output_type": "execute_result",
          "data": {
            "text/plain": [
              "<bound method DataFrame.value_counts of               Date   RACE  ...                                   OFFENSE  Year\n",
              "564     2015-04-14  BLACK  ...  ASSAULT, FIRST DEGREE                 BF  2015\n",
              "708     2015-02-23  BLACK  ...                          CRIMINAL ATTEMPT  2015\n",
              "1207    2015-06-22  BLACK  ...  OPERATE UNDER INFLU OF LIQ OR DRUGS    M  2015\n",
              "1214    2015-11-03  BLACK  ...                          CRIMINAL ATTEMPT  2015\n",
              "1628    2015-10-14  BLACK  ...  SELLING WEAPONS TO ALIENS PROHIBITED   F  2015\n",
              "...            ...    ...  ...                                       ...   ...\n",
              "5351140 2015-09-11  BLACK  ...                          CRIMINAL ATTEMPT  2015\n",
              "5351333 2015-08-24  BLACK  ...  SEXUAL ASSAULT, FIRST DEGREE           F  2015\n",
              "5351460 2015-11-03  BLACK  ...                          CRIMINAL ATTEMPT  2015\n",
              "5351674 2015-09-09  BLACK  ...  BURGLARY, FIRST DEGREE                BF  2015\n",
              "5351760 2015-05-27  BLACK  ...  ASSAULT, THIRD DEGREE                 AM  2015\n",
              "\n",
              "[81089 rows x 7 columns]>"
            ]
          },
          "metadata": {
            "tags": []
          },
          "execution_count": 108
        }
      ]
    },
    {
      "cell_type": "code",
      "metadata": {
        "colab": {
          "base_uri": "https://localhost:8080/"
        },
        "id": "W9Fjf79Vk_Wr",
        "outputId": "09c4b09a-2662-4673-fde4-a36b70610d1b"
      },
      "source": [
        "df_2015B1 = df_2015B[df_2015B[\"Bond\"] >= 1000]\n",
        "print(df_2015B1.value_counts)"
      ],
      "execution_count": null,
      "outputs": [
        {
          "output_type": "stream",
          "text": [
            "<bound method DataFrame.value_counts of               Date   RACE  ...                                   OFFENSE  Year\n",
            "564     2015-04-14  BLACK  ...  ASSAULT, FIRST DEGREE                 BF  2015\n",
            "708     2015-02-23  BLACK  ...                          CRIMINAL ATTEMPT  2015\n",
            "1214    2015-11-03  BLACK  ...                          CRIMINAL ATTEMPT  2015\n",
            "1628    2015-10-14  BLACK  ...  SELLING WEAPONS TO ALIENS PROHIBITED   F  2015\n",
            "1681    2015-12-14  BLACK  ...  CRIMINAL POSS OF PISTOL/REVOLVER      DF  2015\n",
            "...            ...    ...  ...                                       ...   ...\n",
            "5351140 2015-09-11  BLACK  ...                          CRIMINAL ATTEMPT  2015\n",
            "5351333 2015-08-24  BLACK  ...  SEXUAL ASSAULT, FIRST DEGREE           F  2015\n",
            "5351460 2015-11-03  BLACK  ...                          CRIMINAL ATTEMPT  2015\n",
            "5351674 2015-09-09  BLACK  ...  BURGLARY, FIRST DEGREE                BF  2015\n",
            "5351760 2015-05-27  BLACK  ...  ASSAULT, THIRD DEGREE                 AM  2015\n",
            "\n",
            "[79750 rows x 7 columns]>\n"
          ],
          "name": "stdout"
        }
      ]
    },
    {
      "cell_type": "code",
      "metadata": {
        "colab": {
          "base_uri": "https://localhost:8080/"
        },
        "id": "Y5oGc4dXk_Zc",
        "outputId": "d96f4184-f5be-4dff-c7ae-a371a9558da8"
      },
      "source": [
        "# Percent with bail over $1000\n",
        "79750/81089 * 100"
      ],
      "execution_count": null,
      "outputs": [
        {
          "output_type": "execute_result",
          "data": {
            "text/plain": [
              "98.34872794090444"
            ]
          },
          "metadata": {
            "tags": []
          },
          "execution_count": 117
        }
      ]
    },
    {
      "cell_type": "code",
      "metadata": {
        "colab": {
          "base_uri": "https://localhost:8080/"
        },
        "id": "AKGxY0kak_cT",
        "outputId": "6d41e556-dc3b-48f5-d8d7-267329c88d2b"
      },
      "source": [
        "df_2015B5 = df_2015B[df_2015B[\"Bond\"] >= 5000]\n",
        "print(df_2015B5.value_counts)"
      ],
      "execution_count": null,
      "outputs": [
        {
          "output_type": "stream",
          "text": [
            "<bound method DataFrame.value_counts of               Date   RACE  ...                                   OFFENSE  Year\n",
            "564     2015-04-14  BLACK  ...  ASSAULT, FIRST DEGREE                 BF  2015\n",
            "708     2015-02-23  BLACK  ...                          CRIMINAL ATTEMPT  2015\n",
            "1214    2015-11-03  BLACK  ...                          CRIMINAL ATTEMPT  2015\n",
            "1628    2015-10-14  BLACK  ...  SELLING WEAPONS TO ALIENS PROHIBITED   F  2015\n",
            "1681    2015-12-14  BLACK  ...  CRIMINAL POSS OF PISTOL/REVOLVER      DF  2015\n",
            "...            ...    ...  ...                                       ...   ...\n",
            "5351089 2015-05-15  BLACK  ...  ROBBERY, FIRST DEGREE                 BF  2015\n",
            "5351140 2015-09-11  BLACK  ...                          CRIMINAL ATTEMPT  2015\n",
            "5351333 2015-08-24  BLACK  ...  SEXUAL ASSAULT, FIRST DEGREE           F  2015\n",
            "5351460 2015-11-03  BLACK  ...                          CRIMINAL ATTEMPT  2015\n",
            "5351674 2015-09-09  BLACK  ...  BURGLARY, FIRST DEGREE                BF  2015\n",
            "\n",
            "[78809 rows x 7 columns]>\n"
          ],
          "name": "stdout"
        }
      ]
    },
    {
      "cell_type": "code",
      "metadata": {
        "colab": {
          "base_uri": "https://localhost:8080/"
        },
        "id": "T7lXfbF5lmPs",
        "outputId": "a61a9e5f-5d7b-44ae-a1db-04ae7bec3e0b"
      },
      "source": [
        "# Percent with bail over $5000\n",
        "78809/81089 * 100"
      ],
      "execution_count": null,
      "outputs": [
        {
          "output_type": "execute_result",
          "data": {
            "text/plain": [
              "97.18827461184625"
            ]
          },
          "metadata": {
            "tags": []
          },
          "execution_count": 119
        }
      ]
    },
    {
      "cell_type": "code",
      "metadata": {
        "colab": {
          "base_uri": "https://localhost:8080/"
        },
        "id": "IDXW3V_1k_fO",
        "outputId": "0ae3adb2-7ad0-4f49-cd90-1d2bbc689611"
      },
      "source": [
        "df_2015B10 = df_2015B[df_2015B[\"Bond\"] >= 10000]\n",
        "print(df_2015B10.value_counts)"
      ],
      "execution_count": null,
      "outputs": [
        {
          "output_type": "stream",
          "text": [
            "<bound method DataFrame.value_counts of               Date   RACE  ...                                   OFFENSE  Year\n",
            "564     2015-04-14  BLACK  ...  ASSAULT, FIRST DEGREE                 BF  2015\n",
            "708     2015-02-23  BLACK  ...                          CRIMINAL ATTEMPT  2015\n",
            "1214    2015-11-03  BLACK  ...                          CRIMINAL ATTEMPT  2015\n",
            "1628    2015-10-14  BLACK  ...  SELLING WEAPONS TO ALIENS PROHIBITED   F  2015\n",
            "1681    2015-12-14  BLACK  ...  CRIMINAL POSS OF PISTOL/REVOLVER      DF  2015\n",
            "...            ...    ...  ...                                       ...   ...\n",
            "5351089 2015-05-15  BLACK  ...  ROBBERY, FIRST DEGREE                 BF  2015\n",
            "5351140 2015-09-11  BLACK  ...                          CRIMINAL ATTEMPT  2015\n",
            "5351333 2015-08-24  BLACK  ...  SEXUAL ASSAULT, FIRST DEGREE           F  2015\n",
            "5351460 2015-11-03  BLACK  ...                          CRIMINAL ATTEMPT  2015\n",
            "5351674 2015-09-09  BLACK  ...  BURGLARY, FIRST DEGREE                BF  2015\n",
            "\n",
            "[77928 rows x 7 columns]>\n"
          ],
          "name": "stdout"
        }
      ]
    },
    {
      "cell_type": "code",
      "metadata": {
        "colab": {
          "base_uri": "https://localhost:8080/"
        },
        "id": "qHXfUq88loJ2",
        "outputId": "dfb1e4c4-e4d8-4253-9bb1-8d10643068ae"
      },
      "source": [
        "# Percent with bail over $10000\n",
        "77928/81089 * 100"
      ],
      "execution_count": null,
      "outputs": [
        {
          "output_type": "execute_result",
          "data": {
            "text/plain": [
              "96.10181405616052"
            ]
          },
          "metadata": {
            "tags": []
          },
          "execution_count": 121
        }
      ]
    },
    {
      "cell_type": "code",
      "metadata": {
        "colab": {
          "base_uri": "https://localhost:8080/"
        },
        "id": "3z94h-bkk_kU",
        "outputId": "08e1bcf7-0a57-4632-cebd-2ade65d74375"
      },
      "source": [
        "df_2015B50 = df_2015B[df_2015B[\"Bond\"] >= 50000]\n",
        "print(df_2015B50.value_counts)"
      ],
      "execution_count": null,
      "outputs": [
        {
          "output_type": "stream",
          "text": [
            "<bound method DataFrame.value_counts of               Date   RACE  ...                                   OFFENSE  Year\n",
            "564     2015-04-14  BLACK  ...  ASSAULT, FIRST DEGREE                 BF  2015\n",
            "708     2015-02-23  BLACK  ...                          CRIMINAL ATTEMPT  2015\n",
            "1214    2015-11-03  BLACK  ...                          CRIMINAL ATTEMPT  2015\n",
            "1628    2015-10-14  BLACK  ...  SELLING WEAPONS TO ALIENS PROHIBITED   F  2015\n",
            "1681    2015-12-14  BLACK  ...  CRIMINAL POSS OF PISTOL/REVOLVER      DF  2015\n",
            "...            ...    ...  ...                                       ...   ...\n",
            "5351089 2015-05-15  BLACK  ...  ROBBERY, FIRST DEGREE                 BF  2015\n",
            "5351140 2015-09-11  BLACK  ...                          CRIMINAL ATTEMPT  2015\n",
            "5351333 2015-08-24  BLACK  ...  SEXUAL ASSAULT, FIRST DEGREE           F  2015\n",
            "5351460 2015-11-03  BLACK  ...                          CRIMINAL ATTEMPT  2015\n",
            "5351674 2015-09-09  BLACK  ...  BURGLARY, FIRST DEGREE                BF  2015\n",
            "\n",
            "[74652 rows x 7 columns]>\n"
          ],
          "name": "stdout"
        }
      ]
    },
    {
      "cell_type": "code",
      "metadata": {
        "colab": {
          "base_uri": "https://localhost:8080/"
        },
        "id": "PyeSah81lpmb",
        "outputId": "c8cb0cde-6915-429b-9ec6-57cf8fbe59e4"
      },
      "source": [
        "# Percent with bail over $50000\n",
        "74652/81089 * 100"
      ],
      "execution_count": null,
      "outputs": [
        {
          "output_type": "execute_result",
          "data": {
            "text/plain": [
              "92.0618086300238"
            ]
          },
          "metadata": {
            "tags": []
          },
          "execution_count": 123
        }
      ]
    },
    {
      "cell_type": "code",
      "metadata": {
        "colab": {
          "base_uri": "https://localhost:8080/"
        },
        "id": "0WeN9zxllk7r",
        "outputId": "3948bc80-58d4-442a-b6bc-31ca2297285d"
      },
      "source": [
        "df_2015B100 = df_2015B[df_2015B[\"Bond\"] >= 100000]\n",
        "print(df_2015B100.value_counts)"
      ],
      "execution_count": null,
      "outputs": [
        {
          "output_type": "stream",
          "text": [
            "<bound method DataFrame.value_counts of               Date   RACE  ...                                   OFFENSE  Year\n",
            "564     2015-04-14  BLACK  ...  ASSAULT, FIRST DEGREE                 BF  2015\n",
            "708     2015-02-23  BLACK  ...                          CRIMINAL ATTEMPT  2015\n",
            "1214    2015-11-03  BLACK  ...                          CRIMINAL ATTEMPT  2015\n",
            "1628    2015-10-14  BLACK  ...  SELLING WEAPONS TO ALIENS PROHIBITED   F  2015\n",
            "1681    2015-12-14  BLACK  ...  CRIMINAL POSS OF PISTOL/REVOLVER      DF  2015\n",
            "...            ...    ...  ...                                       ...   ...\n",
            "5351089 2015-05-15  BLACK  ...  ROBBERY, FIRST DEGREE                 BF  2015\n",
            "5351140 2015-09-11  BLACK  ...                          CRIMINAL ATTEMPT  2015\n",
            "5351333 2015-08-24  BLACK  ...  SEXUAL ASSAULT, FIRST DEGREE           F  2015\n",
            "5351460 2015-11-03  BLACK  ...                          CRIMINAL ATTEMPT  2015\n",
            "5351674 2015-09-09  BLACK  ...  BURGLARY, FIRST DEGREE                BF  2015\n",
            "\n",
            "[66558 rows x 7 columns]>\n"
          ],
          "name": "stdout"
        }
      ]
    },
    {
      "cell_type": "code",
      "metadata": {
        "colab": {
          "base_uri": "https://localhost:8080/"
        },
        "id": "4_B76Fhalk-V",
        "outputId": "6fbc11cf-cb18-45c5-a197-e5c29123d64d"
      },
      "source": [
        "# Percent with bail over $100000\n",
        "66558/81089 * 100"
      ],
      "execution_count": null,
      "outputs": [
        {
          "output_type": "execute_result",
          "data": {
            "text/plain": [
              "82.08018350207796"
            ]
          },
          "metadata": {
            "tags": []
          },
          "execution_count": 125
        }
      ]
    },
    {
      "cell_type": "markdown",
      "metadata": {
        "id": "0mF-LPInmYqu"
      },
      "source": [
        "**White 2015**"
      ]
    },
    {
      "cell_type": "code",
      "metadata": {
        "colab": {
          "base_uri": "https://localhost:8080/"
        },
        "id": "MaiCPpS4gY2V",
        "outputId": "a7608555-9395-4882-ccad-b35350dcbe43"
      },
      "source": [
        "df_2015W = df_2015[(df_2015[\"RACE\"] == 'WHITE')]\n",
        "df_2015W.value_counts"
      ],
      "execution_count": null,
      "outputs": [
        {
          "output_type": "execute_result",
          "data": {
            "text/plain": [
              "<bound method DataFrame.value_counts of               Date   RACE  ...                                   OFFENSE  Year\n",
              "467     2015-12-22  WHITE  ...  SEXUAL ASSAULT, SECOND DEGREE          F  2015\n",
              "877     2015-07-14  WHITE  ...     CRIMINAL LIABILITY FOR ANOTHER PERSON  2015\n",
              "1507    2015-05-06  WHITE  ...  ARSON, FIRST DEGREE                   AF  2015\n",
              "1735    2015-10-26  WHITE  ...  LARCENY, SIXTH DEGREE                 CM  2015\n",
              "2409    2015-10-22  WHITE  ...  BURGLARY, THIRD DEGREE                DF  2015\n",
              "...            ...    ...  ...                                       ...   ...\n",
              "5350147 2015-03-25  WHITE  ...     VIOLATION OF PROBATION OR COND DISCHG  2015\n",
              "5350548 2015-08-17  WHITE  ...  FAILURE TO APPEAR, FIRST DEGREE       DF  2015\n",
              "5351100 2015-09-18  WHITE  ...  ASSAULT, THIRD DEGREE                 AM  2015\n",
              "5351159 2015-05-06  WHITE  ...  ARSON, FIRST DEGREE                   AF  2015\n",
              "5351482 2015-08-16  WHITE  ...  BURGLARY, THIRD DEGREE                DF  2015\n",
              "\n",
              "[34401 rows x 7 columns]>"
            ]
          },
          "metadata": {
            "tags": []
          },
          "execution_count": 104
        }
      ]
    },
    {
      "cell_type": "code",
      "metadata": {
        "colab": {
          "base_uri": "https://localhost:8080/"
        },
        "id": "nqlc6L51moBA",
        "outputId": "7dbf9b16-d63c-48e3-ca93-f02dda27ccf7"
      },
      "source": [
        "df_2015W1 = df_2015W[df_2015W[\"Bond\"] >= 1000]\n",
        "print(df_2015W1.value_counts)"
      ],
      "execution_count": null,
      "outputs": [
        {
          "output_type": "stream",
          "text": [
            "<bound method DataFrame.value_counts of               Date   RACE  ...                                   OFFENSE  Year\n",
            "467     2015-12-22  WHITE  ...  SEXUAL ASSAULT, SECOND DEGREE          F  2015\n",
            "877     2015-07-14  WHITE  ...     CRIMINAL LIABILITY FOR ANOTHER PERSON  2015\n",
            "1507    2015-05-06  WHITE  ...  ARSON, FIRST DEGREE                   AF  2015\n",
            "1735    2015-10-26  WHITE  ...  LARCENY, SIXTH DEGREE                 CM  2015\n",
            "2409    2015-10-22  WHITE  ...  BURGLARY, THIRD DEGREE                DF  2015\n",
            "...            ...    ...  ...                                       ...   ...\n",
            "5349836 2015-08-03  WHITE  ...  ROBBERY, FIRST DEGREE                 BF  2015\n",
            "5350548 2015-08-17  WHITE  ...  FAILURE TO APPEAR, FIRST DEGREE       DF  2015\n",
            "5351100 2015-09-18  WHITE  ...  ASSAULT, THIRD DEGREE                 AM  2015\n",
            "5351159 2015-05-06  WHITE  ...  ARSON, FIRST DEGREE                   AF  2015\n",
            "5351482 2015-08-16  WHITE  ...  BURGLARY, THIRD DEGREE                DF  2015\n",
            "\n",
            "[33402 rows x 7 columns]>\n"
          ],
          "name": "stdout"
        }
      ]
    },
    {
      "cell_type": "code",
      "metadata": {
        "colab": {
          "base_uri": "https://localhost:8080/"
        },
        "id": "V6zxa-JfmoFj",
        "outputId": "12e14a43-e44c-4678-e638-feb20cade295"
      },
      "source": [
        "# Percent with bail over $1000\n",
        "33402/34401 * 100"
      ],
      "execution_count": null,
      "outputs": [
        {
          "output_type": "execute_result",
          "data": {
            "text/plain": [
              "97.09601465073689"
            ]
          },
          "metadata": {
            "tags": []
          },
          "execution_count": 127
        }
      ]
    },
    {
      "cell_type": "code",
      "metadata": {
        "colab": {
          "base_uri": "https://localhost:8080/"
        },
        "id": "E7xZ6lremoI4",
        "outputId": "76887ca8-c82e-4a75-fc5f-e162b3b4c2f7"
      },
      "source": [
        "df_2015W5 = df_2015W[df_2015W[\"Bond\"] >= 5000]\n",
        "print(df_2015W5.value_counts)"
      ],
      "execution_count": null,
      "outputs": [
        {
          "output_type": "stream",
          "text": [
            "<bound method DataFrame.value_counts of               Date   RACE  ...                                   OFFENSE  Year\n",
            "467     2015-12-22  WHITE  ...  SEXUAL ASSAULT, SECOND DEGREE          F  2015\n",
            "877     2015-07-14  WHITE  ...     CRIMINAL LIABILITY FOR ANOTHER PERSON  2015\n",
            "1507    2015-05-06  WHITE  ...  ARSON, FIRST DEGREE                   AF  2015\n",
            "1735    2015-10-26  WHITE  ...  LARCENY, SIXTH DEGREE                 CM  2015\n",
            "2409    2015-10-22  WHITE  ...  BURGLARY, THIRD DEGREE                DF  2015\n",
            "...            ...    ...  ...                                       ...   ...\n",
            "5349494 2015-07-14  WHITE  ...     CRIMINAL LIABILITY FOR ANOTHER PERSON  2015\n",
            "5349836 2015-08-03  WHITE  ...  ROBBERY, FIRST DEGREE                 BF  2015\n",
            "5350548 2015-08-17  WHITE  ...  FAILURE TO APPEAR, FIRST DEGREE       DF  2015\n",
            "5351159 2015-05-06  WHITE  ...  ARSON, FIRST DEGREE                   AF  2015\n",
            "5351482 2015-08-16  WHITE  ...  BURGLARY, THIRD DEGREE                DF  2015\n",
            "\n",
            "[32609 rows x 7 columns]>\n"
          ],
          "name": "stdout"
        }
      ]
    },
    {
      "cell_type": "code",
      "metadata": {
        "colab": {
          "base_uri": "https://localhost:8080/"
        },
        "id": "HKw2cOnumoNW",
        "outputId": "02e2e59e-22c9-4a49-b7cc-c858312243a3"
      },
      "source": [
        "# Percent with bail over $5000\n",
        "32609/34401 * 100"
      ],
      "execution_count": null,
      "outputs": [
        {
          "output_type": "execute_result",
          "data": {
            "text/plain": [
              "94.79084910322374"
            ]
          },
          "metadata": {
            "tags": []
          },
          "execution_count": 129
        }
      ]
    },
    {
      "cell_type": "code",
      "metadata": {
        "colab": {
          "base_uri": "https://localhost:8080/"
        },
        "id": "TCySnpelmoRG",
        "outputId": "8ac80de7-0fb3-4916-dc6b-5efd4a653e97"
      },
      "source": [
        "df_2015W10 = df_2015W[df_2015W[\"Bond\"] >= 10000]\n",
        "print(df_2015W10.value_counts)"
      ],
      "execution_count": null,
      "outputs": [
        {
          "output_type": "stream",
          "text": [
            "<bound method DataFrame.value_counts of               Date   RACE  ...                                   OFFENSE  Year\n",
            "467     2015-12-22  WHITE  ...  SEXUAL ASSAULT, SECOND DEGREE          F  2015\n",
            "877     2015-07-14  WHITE  ...     CRIMINAL LIABILITY FOR ANOTHER PERSON  2015\n",
            "1507    2015-05-06  WHITE  ...  ARSON, FIRST DEGREE                   AF  2015\n",
            "1735    2015-10-26  WHITE  ...  LARCENY, SIXTH DEGREE                 CM  2015\n",
            "2409    2015-10-22  WHITE  ...  BURGLARY, THIRD DEGREE                DF  2015\n",
            "...            ...    ...  ...                                       ...   ...\n",
            "5349494 2015-07-14  WHITE  ...     CRIMINAL LIABILITY FOR ANOTHER PERSON  2015\n",
            "5349836 2015-08-03  WHITE  ...  ROBBERY, FIRST DEGREE                 BF  2015\n",
            "5350548 2015-08-17  WHITE  ...  FAILURE TO APPEAR, FIRST DEGREE       DF  2015\n",
            "5351159 2015-05-06  WHITE  ...  ARSON, FIRST DEGREE                   AF  2015\n",
            "5351482 2015-08-16  WHITE  ...  BURGLARY, THIRD DEGREE                DF  2015\n",
            "\n",
            "[31796 rows x 7 columns]>\n"
          ],
          "name": "stdout"
        }
      ]
    },
    {
      "cell_type": "code",
      "metadata": {
        "colab": {
          "base_uri": "https://localhost:8080/"
        },
        "id": "Y-9J2LSSm8MA",
        "outputId": "4af84cf5-47c8-41f7-ba11-3a93cb950466"
      },
      "source": [
        "# Percent with bail over $10000\n",
        "31796/34401 * 100"
      ],
      "execution_count": null,
      "outputs": [
        {
          "output_type": "execute_result",
          "data": {
            "text/plain": [
              "92.4275457108805"
            ]
          },
          "metadata": {
            "tags": []
          },
          "execution_count": 131
        }
      ]
    },
    {
      "cell_type": "code",
      "metadata": {
        "colab": {
          "base_uri": "https://localhost:8080/"
        },
        "id": "I1yrLvbsm8RM",
        "outputId": "9115e6e3-dacc-4cb9-af59-b7f59ff87e9f"
      },
      "source": [
        "df_2015W50 = df_2015W[df_2015W[\"Bond\"] >= 50000]\n",
        "print(df_2015W50.value_counts)"
      ],
      "execution_count": null,
      "outputs": [
        {
          "output_type": "stream",
          "text": [
            "<bound method DataFrame.value_counts of               Date   RACE  ...                                   OFFENSE  Year\n",
            "467     2015-12-22  WHITE  ...  SEXUAL ASSAULT, SECOND DEGREE          F  2015\n",
            "877     2015-07-14  WHITE  ...     CRIMINAL LIABILITY FOR ANOTHER PERSON  2015\n",
            "1507    2015-05-06  WHITE  ...  ARSON, FIRST DEGREE                   AF  2015\n",
            "1735    2015-10-26  WHITE  ...  LARCENY, SIXTH DEGREE                 CM  2015\n",
            "2409    2015-10-22  WHITE  ...  BURGLARY, THIRD DEGREE                DF  2015\n",
            "...            ...    ...  ...                                       ...   ...\n",
            "5349328 2015-12-22  WHITE  ...  SEXUAL ASSAULT, SECOND DEGREE          F  2015\n",
            "5349494 2015-07-14  WHITE  ...     CRIMINAL LIABILITY FOR ANOTHER PERSON  2015\n",
            "5349836 2015-08-03  WHITE  ...  ROBBERY, FIRST DEGREE                 BF  2015\n",
            "5350548 2015-08-17  WHITE  ...  FAILURE TO APPEAR, FIRST DEGREE       DF  2015\n",
            "5351159 2015-05-06  WHITE  ...  ARSON, FIRST DEGREE                   AF  2015\n",
            "\n",
            "[28808 rows x 7 columns]>\n"
          ],
          "name": "stdout"
        }
      ]
    },
    {
      "cell_type": "code",
      "metadata": {
        "colab": {
          "base_uri": "https://localhost:8080/"
        },
        "id": "93gJSHRWmoUj",
        "outputId": "be8ecedf-aaac-45a0-bf6a-8db0ed6f0500"
      },
      "source": [
        "# Percent with bail over $50000\n",
        "28808/34401 * 100"
      ],
      "execution_count": null,
      "outputs": [
        {
          "output_type": "execute_result",
          "data": {
            "text/plain": [
              "83.74175169326473"
            ]
          },
          "metadata": {
            "tags": []
          },
          "execution_count": 133
        }
      ]
    },
    {
      "cell_type": "code",
      "metadata": {
        "colab": {
          "base_uri": "https://localhost:8080/"
        },
        "id": "NmkVHONwmofK",
        "outputId": "605a23fb-1dfe-4fc6-9b4a-0a17e73f8260"
      },
      "source": [
        "df_2015W100 = df_2015W[df_2015W[\"Bond\"] >= 100000]\n",
        "print(df_2015W100.value_counts)"
      ],
      "execution_count": null,
      "outputs": [
        {
          "output_type": "stream",
          "text": [
            "<bound method DataFrame.value_counts of               Date   RACE  ...                                   OFFENSE  Year\n",
            "467     2015-12-22  WHITE  ...  SEXUAL ASSAULT, SECOND DEGREE          F  2015\n",
            "877     2015-07-14  WHITE  ...     CRIMINAL LIABILITY FOR ANOTHER PERSON  2015\n",
            "1507    2015-05-06  WHITE  ...  ARSON, FIRST DEGREE                   AF  2015\n",
            "2409    2015-10-22  WHITE  ...  BURGLARY, THIRD DEGREE                DF  2015\n",
            "2414    2015-09-24  WHITE  ...  MURDER                                AF  2015\n",
            "...            ...    ...  ...                                       ...   ...\n",
            "5349140 2015-09-24  WHITE  ...  MANSLAUGHTER, FIRST DEGREE            BF  2015\n",
            "5349328 2015-12-22  WHITE  ...  SEXUAL ASSAULT, SECOND DEGREE          F  2015\n",
            "5349494 2015-07-14  WHITE  ...     CRIMINAL LIABILITY FOR ANOTHER PERSON  2015\n",
            "5349836 2015-08-03  WHITE  ...  ROBBERY, FIRST DEGREE                 BF  2015\n",
            "5351159 2015-05-06  WHITE  ...  ARSON, FIRST DEGREE                   AF  2015\n",
            "\n",
            "[24466 rows x 7 columns]>\n"
          ],
          "name": "stdout"
        }
      ]
    },
    {
      "cell_type": "code",
      "metadata": {
        "colab": {
          "base_uri": "https://localhost:8080/"
        },
        "id": "BfjQJHQLmon2",
        "outputId": "0f29b903-f7a8-4c0e-fdcf-91a60b663c37"
      },
      "source": [
        "# Percent with bail over $100000\n",
        "24466/34401 * 100"
      ],
      "execution_count": null,
      "outputs": [
        {
          "output_type": "execute_result",
          "data": {
            "text/plain": [
              "71.12002558065173"
            ]
          },
          "metadata": {
            "tags": []
          },
          "execution_count": 135
        }
      ]
    },
    {
      "cell_type": "markdown",
      "metadata": {
        "id": "sewlhZd6md6n"
      },
      "source": [
        "**Hispanic 2015**"
      ]
    },
    {
      "cell_type": "code",
      "metadata": {
        "colab": {
          "base_uri": "https://localhost:8080/"
        },
        "id": "xwl3c1ltgY5I",
        "outputId": "985a152e-3898-4727-cdb5-ea04bb1f5e10"
      },
      "source": [
        "df_2015H = df_2015[(df_2015[\"RACE\"] == 'HISPANIC')]\n",
        "df_2015H.value_counts"
      ],
      "execution_count": null,
      "outputs": [
        {
          "output_type": "execute_result",
          "data": {
            "text/plain": [
              "<bound method DataFrame.value_counts of               Date      RACE  ...                                   OFFENSE  Year\n",
              "109     2015-06-15  HISPANIC  ...                            SPECIAL PAROLE  2015\n",
              "250     2015-11-12  HISPANIC  ...                   POSSESSION OF NARCOTICS  2015\n",
              "380     2015-11-24  HISPANIC  ...  SALE OF NARC/AMPHET BY NON-DEPENDENT   F  2015\n",
              "917     2015-07-06  HISPANIC  ...  ASSAULT, SECOND DEGREE                DF  2015\n",
              "1040    2015-07-15  HISPANIC  ...  CRIMINAL MISCHIEF, SECOND DEGREE      AM  2015\n",
              "...            ...       ...  ...                                       ...   ...\n",
              "5349620 2015-03-12  HISPANIC  ...  LARCENY, THIRD DEGREE                 DF  2015\n",
              "5349624 2015-07-06  HISPANIC  ...  ASSAULT, SECOND DEGREE                 F  2015\n",
              "5350733 2015-06-24  HISPANIC  ...  CRIMINAL POSSESSION OF A PISTOL       DF  2015\n",
              "5351099 2015-06-15  HISPANIC  ...  LARCENY, SECOND DEGREE                CF  2015\n",
              "5351181 2015-12-21  HISPANIC  ...  SALE OF HALLUCIGEN/NARCOTIC SUBSTANCE  F  2015\n",
              "\n",
              "[32403 rows x 7 columns]>"
            ]
          },
          "metadata": {
            "tags": []
          },
          "execution_count": 105
        }
      ]
    },
    {
      "cell_type": "code",
      "metadata": {
        "colab": {
          "base_uri": "https://localhost:8080/"
        },
        "id": "Z9t9HSXcnkOL",
        "outputId": "0130c0d6-c95c-433a-efd5-c7ef4362215b"
      },
      "source": [
        "df_2015H1 = df_2015H[df_2015H[\"Bond\"] >= 1000]\n",
        "print(df_2015H1.value_counts)"
      ],
      "execution_count": null,
      "outputs": [
        {
          "output_type": "stream",
          "text": [
            "<bound method DataFrame.value_counts of               Date      RACE  ...                                   OFFENSE  Year\n",
            "109     2015-06-15  HISPANIC  ...                            SPECIAL PAROLE  2015\n",
            "380     2015-11-24  HISPANIC  ...  SALE OF NARC/AMPHET BY NON-DEPENDENT   F  2015\n",
            "917     2015-07-06  HISPANIC  ...  ASSAULT, SECOND DEGREE                DF  2015\n",
            "1040    2015-07-15  HISPANIC  ...  CRIMINAL MISCHIEF, SECOND DEGREE      AM  2015\n",
            "1241    2015-01-29  HISPANIC  ...  INTERFERING WITH AN OFFICER           AM  2015\n",
            "...            ...       ...  ...                                       ...   ...\n",
            "5349620 2015-03-12  HISPANIC  ...  LARCENY, THIRD DEGREE                 DF  2015\n",
            "5349624 2015-07-06  HISPANIC  ...  ASSAULT, SECOND DEGREE                 F  2015\n",
            "5350733 2015-06-24  HISPANIC  ...  CRIMINAL POSSESSION OF A PISTOL       DF  2015\n",
            "5351099 2015-06-15  HISPANIC  ...  LARCENY, SECOND DEGREE                CF  2015\n",
            "5351181 2015-12-21  HISPANIC  ...  SALE OF HALLUCIGEN/NARCOTIC SUBSTANCE  F  2015\n",
            "\n",
            "[31899 rows x 7 columns]>\n"
          ],
          "name": "stdout"
        }
      ]
    },
    {
      "cell_type": "code",
      "metadata": {
        "colab": {
          "base_uri": "https://localhost:8080/"
        },
        "id": "MLhfG_UQnkUx",
        "outputId": "04633b48-f924-47a4-e853-89c63fa6192c"
      },
      "source": [
        "# Percent with bail over $1000\n",
        "31899/32403 * 100"
      ],
      "execution_count": null,
      "outputs": [
        {
          "output_type": "execute_result",
          "data": {
            "text/plain": [
              "98.44458846403111"
            ]
          },
          "metadata": {
            "tags": []
          },
          "execution_count": 137
        }
      ]
    },
    {
      "cell_type": "code",
      "metadata": {
        "colab": {
          "base_uri": "https://localhost:8080/"
        },
        "id": "BwsKKf1FnkYl",
        "outputId": "4f6bc0a1-39d0-4b26-f99c-d52c02acf590"
      },
      "source": [
        "df_2015H5 = df_2015H[df_2015H[\"Bond\"] >= 5000]\n",
        "print(df_2015H5.value_counts)"
      ],
      "execution_count": null,
      "outputs": [
        {
          "output_type": "stream",
          "text": [
            "<bound method DataFrame.value_counts of               Date      RACE  ...                                   OFFENSE  Year\n",
            "109     2015-06-15  HISPANIC  ...                            SPECIAL PAROLE  2015\n",
            "380     2015-11-24  HISPANIC  ...  SALE OF NARC/AMPHET BY NON-DEPENDENT   F  2015\n",
            "917     2015-07-06  HISPANIC  ...  ASSAULT, SECOND DEGREE                DF  2015\n",
            "1040    2015-07-15  HISPANIC  ...  CRIMINAL MISCHIEF, SECOND DEGREE      AM  2015\n",
            "1241    2015-01-29  HISPANIC  ...  INTERFERING WITH AN OFFICER           AM  2015\n",
            "...            ...       ...  ...                                       ...   ...\n",
            "5349620 2015-03-12  HISPANIC  ...  LARCENY, THIRD DEGREE                 DF  2015\n",
            "5349624 2015-07-06  HISPANIC  ...  ASSAULT, SECOND DEGREE                 F  2015\n",
            "5350733 2015-06-24  HISPANIC  ...  CRIMINAL POSSESSION OF A PISTOL       DF  2015\n",
            "5351099 2015-06-15  HISPANIC  ...  LARCENY, SECOND DEGREE                CF  2015\n",
            "5351181 2015-12-21  HISPANIC  ...  SALE OF HALLUCIGEN/NARCOTIC SUBSTANCE  F  2015\n",
            "\n",
            "[31621 rows x 7 columns]>\n"
          ],
          "name": "stdout"
        }
      ]
    },
    {
      "cell_type": "code",
      "metadata": {
        "colab": {
          "base_uri": "https://localhost:8080/"
        },
        "id": "OoFZQiBZnkiX",
        "outputId": "57f6bfa0-4222-4ace-b5a8-e2894192d2fa"
      },
      "source": [
        "# Percent with bail over $5000\n",
        "31621/32403 * 100"
      ],
      "execution_count": null,
      "outputs": [
        {
          "output_type": "execute_result",
          "data": {
            "text/plain": [
              "97.58664321204826"
            ]
          },
          "metadata": {
            "tags": []
          },
          "execution_count": 139
        }
      ]
    },
    {
      "cell_type": "code",
      "metadata": {
        "colab": {
          "base_uri": "https://localhost:8080/"
        },
        "id": "T-d-37c7nkrq",
        "outputId": "c7cc7d4f-3293-4d86-bacd-94bda1e56769"
      },
      "source": [
        "df_2015H10 = df_2015H[df_2015H[\"Bond\"] >= 10000]\n",
        "print(df_2015H10.value_counts)"
      ],
      "execution_count": null,
      "outputs": [
        {
          "output_type": "stream",
          "text": [
            "<bound method DataFrame.value_counts of               Date      RACE  ...                                   OFFENSE  Year\n",
            "109     2015-06-15  HISPANIC  ...                            SPECIAL PAROLE  2015\n",
            "380     2015-11-24  HISPANIC  ...  SALE OF NARC/AMPHET BY NON-DEPENDENT   F  2015\n",
            "917     2015-07-06  HISPANIC  ...  ASSAULT, SECOND DEGREE                DF  2015\n",
            "1241    2015-01-29  HISPANIC  ...  INTERFERING WITH AN OFFICER           AM  2015\n",
            "1647    2015-07-31  HISPANIC  ...                          CRIMINAL ATTEMPT  2015\n",
            "...            ...       ...  ...                                       ...   ...\n",
            "5349620 2015-03-12  HISPANIC  ...  LARCENY, THIRD DEGREE                 DF  2015\n",
            "5349624 2015-07-06  HISPANIC  ...  ASSAULT, SECOND DEGREE                 F  2015\n",
            "5350733 2015-06-24  HISPANIC  ...  CRIMINAL POSSESSION OF A PISTOL       DF  2015\n",
            "5351099 2015-06-15  HISPANIC  ...  LARCENY, SECOND DEGREE                CF  2015\n",
            "5351181 2015-12-21  HISPANIC  ...  SALE OF HALLUCIGEN/NARCOTIC SUBSTANCE  F  2015\n",
            "\n",
            "[30850 rows x 7 columns]>\n"
          ],
          "name": "stdout"
        }
      ]
    },
    {
      "cell_type": "code",
      "metadata": {
        "colab": {
          "base_uri": "https://localhost:8080/"
        },
        "id": "pqo8cG2PnkvK",
        "outputId": "5a561da4-5cf2-4984-fed4-8a7bb35eafe1"
      },
      "source": [
        "# Percent with bail over $10000\n",
        "30850/32403 * 100"
      ],
      "execution_count": null,
      "outputs": [
        {
          "output_type": "execute_result",
          "data": {
            "text/plain": [
              "95.20723389809585"
            ]
          },
          "metadata": {
            "tags": []
          },
          "execution_count": 141
        }
      ]
    },
    {
      "cell_type": "code",
      "metadata": {
        "colab": {
          "base_uri": "https://localhost:8080/"
        },
        "id": "RrUcxizXovDk",
        "outputId": "fa55a074-0b55-499a-ec8b-fd2c17ef631a"
      },
      "source": [
        "df_2015H50 = df_2015H[df_2015H[\"Bond\"] >= 50000]\n",
        "print(df_2015H50.value_counts)"
      ],
      "execution_count": null,
      "outputs": [
        {
          "output_type": "stream",
          "text": [
            "<bound method DataFrame.value_counts of               Date      RACE  ...                                   OFFENSE  Year\n",
            "109     2015-06-15  HISPANIC  ...                            SPECIAL PAROLE  2015\n",
            "380     2015-11-24  HISPANIC  ...  SALE OF NARC/AMPHET BY NON-DEPENDENT   F  2015\n",
            "917     2015-07-06  HISPANIC  ...  ASSAULT, SECOND DEGREE                DF  2015\n",
            "1241    2015-01-29  HISPANIC  ...  INTERFERING WITH AN OFFICER           AM  2015\n",
            "1647    2015-07-31  HISPANIC  ...                          CRIMINAL ATTEMPT  2015\n",
            "...            ...       ...  ...                                       ...   ...\n",
            "5349281 2015-08-06  HISPANIC  ...  KIDNAPPING, FIRST DEGREE              AF  2015\n",
            "5349620 2015-03-12  HISPANIC  ...  LARCENY, THIRD DEGREE                 DF  2015\n",
            "5349624 2015-07-06  HISPANIC  ...  ASSAULT, SECOND DEGREE                 F  2015\n",
            "5350733 2015-06-24  HISPANIC  ...  CRIMINAL POSSESSION OF A PISTOL       DF  2015\n",
            "5351099 2015-06-15  HISPANIC  ...  LARCENY, SECOND DEGREE                CF  2015\n",
            "\n",
            "[28436 rows x 7 columns]>\n"
          ],
          "name": "stdout"
        }
      ]
    },
    {
      "cell_type": "code",
      "metadata": {
        "colab": {
          "base_uri": "https://localhost:8080/"
        },
        "id": "fEjY04tuovGX",
        "outputId": "cd4cebf7-e281-4fb4-e795-ad97291f9858"
      },
      "source": [
        "# Percent with bail over $50000\n",
        "28436/32403 * 100"
      ],
      "execution_count": null,
      "outputs": [
        {
          "output_type": "execute_result",
          "data": {
            "text/plain": [
              "87.75730642224485"
            ]
          },
          "metadata": {
            "tags": []
          },
          "execution_count": 143
        }
      ]
    },
    {
      "cell_type": "code",
      "metadata": {
        "colab": {
          "base_uri": "https://localhost:8080/"
        },
        "id": "ppVS6Xy4nkHm",
        "outputId": "1a05a955-beee-4c1e-df08-20de52f5d430"
      },
      "source": [
        "df_2015H100 = df_2015H[df_2015H[\"Bond\"] >= 100000]\n",
        "print(df_2015H100.value_counts)"
      ],
      "execution_count": null,
      "outputs": [
        {
          "output_type": "stream",
          "text": [
            "<bound method DataFrame.value_counts of               Date      RACE  ...                                   OFFENSE  Year\n",
            "917     2015-07-06  HISPANIC  ...  ASSAULT, SECOND DEGREE                DF  2015\n",
            "1241    2015-01-29  HISPANIC  ...  INTERFERING WITH AN OFFICER           AM  2015\n",
            "1647    2015-07-31  HISPANIC  ...                          CRIMINAL ATTEMPT  2015\n",
            "2753    2015-08-04  HISPANIC  ...                                CONSPIRACY  2015\n",
            "2786    2015-09-08  HISPANIC  ...  HOME INVASION                         AF  2015\n",
            "...            ...       ...  ...                                       ...   ...\n",
            "5348972 2015-07-14  HISPANIC  ...  SALE OF HALLUCIGEN/NARCOTIC SUBSTANCE  F  2015\n",
            "5349281 2015-08-06  HISPANIC  ...  KIDNAPPING, FIRST DEGREE              AF  2015\n",
            "5349620 2015-03-12  HISPANIC  ...  LARCENY, THIRD DEGREE                 DF  2015\n",
            "5349624 2015-07-06  HISPANIC  ...  ASSAULT, SECOND DEGREE                 F  2015\n",
            "5350733 2015-06-24  HISPANIC  ...  CRIMINAL POSSESSION OF A PISTOL       DF  2015\n",
            "\n",
            "[24141 rows x 7 columns]>\n"
          ],
          "name": "stdout"
        }
      ]
    },
    {
      "cell_type": "code",
      "metadata": {
        "colab": {
          "base_uri": "https://localhost:8080/"
        },
        "id": "pU4E60RTnkzD",
        "outputId": "371fb301-0a4f-489c-c74e-14e3cec2c9fc"
      },
      "source": [
        "# Percent with bail over $100000\n",
        "24141/32403 * 100"
      ],
      "execution_count": null,
      "outputs": [
        {
          "output_type": "execute_result",
          "data": {
            "text/plain": [
              "74.50236089250996"
            ]
          },
          "metadata": {
            "tags": []
          },
          "execution_count": 145
        }
      ]
    },
    {
      "cell_type": "markdown",
      "metadata": {
        "id": "RxvJbV70nhq9"
      },
      "source": [
        "**Asian 2015**"
      ]
    },
    {
      "cell_type": "code",
      "metadata": {
        "colab": {
          "base_uri": "https://localhost:8080/"
        },
        "id": "2Aw0mgw5gY71",
        "outputId": "daaca6e7-9cc8-4106-d097-c4608c15a666"
      },
      "source": [
        "df_2015A = df_2015[(df_2015[\"RACE\"] == 'ASIAN')]\n",
        "df_2015A.value_counts"
      ],
      "execution_count": null,
      "outputs": [
        {
          "output_type": "execute_result",
          "data": {
            "text/plain": [
              "<bound method DataFrame.value_counts of               Date   RACE  ...                                   OFFENSE  Year\n",
              "907     2015-05-27  ASIAN  ...  LARCENY, THIRD DEGREE                 DF  2015\n",
              "3543    2015-10-23  ASIAN  ...  BURGLARY, THIRD DEGREE                DF  2015\n",
              "4557    2015-02-23  ASIAN  ...  ASSAULT, 1ST VICTIM 60 OR OVER        BF  2015\n",
              "5080    2015-12-15  ASIAN  ...  LARCENY, THIRD DEGREE                 DF  2015\n",
              "5764    2015-11-09  ASIAN  ...  ASSAULT ON POLICE OR FIRE OFFICER     CF  2015\n",
              "...            ...    ...  ...                                       ...   ...\n",
              "5164085 2015-05-27  ASIAN  ...  LARCENY, THIRD DEGREE                 DF  2015\n",
              "5166445 2015-05-27  ASIAN  ...  LARCENY, THIRD DEGREE                 DF  2015\n",
              "5169418 2015-05-27  ASIAN  ...  LARCENY, THIRD DEGREE                 DF  2015\n",
              "5172881 2015-05-27  ASIAN  ...  LARCENY, THIRD DEGREE                 DF  2015\n",
              "5175327 2015-05-27  ASIAN  ...  LARCENY, THIRD DEGREE                 DF  2015\n",
              "\n",
              "[824 rows x 7 columns]>"
            ]
          },
          "metadata": {
            "tags": []
          },
          "execution_count": 106
        }
      ]
    },
    {
      "cell_type": "code",
      "metadata": {
        "colab": {
          "base_uri": "https://localhost:8080/"
        },
        "id": "bmkTSJJUpVX2",
        "outputId": "4875a9ea-304b-4c76-e8dc-357b4fcca3e8"
      },
      "source": [
        "df_2015A1 = df_2015A[df_2015A[\"Bond\"] >= 1000]\n",
        "print(df_2015A1.value_counts)"
      ],
      "execution_count": null,
      "outputs": [
        {
          "output_type": "stream",
          "text": [
            "<bound method DataFrame.value_counts of               Date   RACE  ...                                   OFFENSE  Year\n",
            "907     2015-05-27  ASIAN  ...  LARCENY, THIRD DEGREE                 DF  2015\n",
            "3543    2015-10-23  ASIAN  ...  BURGLARY, THIRD DEGREE                DF  2015\n",
            "4557    2015-02-23  ASIAN  ...  ASSAULT, 1ST VICTIM 60 OR OVER        BF  2015\n",
            "5080    2015-12-15  ASIAN  ...  LARCENY, THIRD DEGREE                 DF  2015\n",
            "5764    2015-11-09  ASIAN  ...  ASSAULT ON POLICE OR FIRE OFFICER     CF  2015\n",
            "...            ...    ...  ...                                       ...   ...\n",
            "5164085 2015-05-27  ASIAN  ...  LARCENY, THIRD DEGREE                 DF  2015\n",
            "5166445 2015-05-27  ASIAN  ...  LARCENY, THIRD DEGREE                 DF  2015\n",
            "5169418 2015-05-27  ASIAN  ...  LARCENY, THIRD DEGREE                 DF  2015\n",
            "5172881 2015-05-27  ASIAN  ...  LARCENY, THIRD DEGREE                 DF  2015\n",
            "5175327 2015-05-27  ASIAN  ...  LARCENY, THIRD DEGREE                 DF  2015\n",
            "\n",
            "[824 rows x 7 columns]>\n"
          ],
          "name": "stdout"
        }
      ]
    },
    {
      "cell_type": "code",
      "metadata": {
        "colab": {
          "base_uri": "https://localhost:8080/"
        },
        "id": "10cjo1x7pVa5",
        "outputId": "37fedff3-1e26-4cd1-8a3c-18ba544aa911"
      },
      "source": [
        "# Percent with bail over $1000\n",
        "824/824 * 100"
      ],
      "execution_count": null,
      "outputs": [
        {
          "output_type": "execute_result",
          "data": {
            "text/plain": [
              "100.0"
            ]
          },
          "metadata": {
            "tags": []
          },
          "execution_count": 147
        }
      ]
    },
    {
      "cell_type": "code",
      "metadata": {
        "colab": {
          "base_uri": "https://localhost:8080/"
        },
        "id": "gb8izv6IpViq",
        "outputId": "91236757-2554-4c44-c5b6-6819c4d20444"
      },
      "source": [
        "df_2015A5 = df_2015A[df_2015A[\"Bond\"] >= 5000]\n",
        "print(df_2015A5.value_counts)"
      ],
      "execution_count": null,
      "outputs": [
        {
          "output_type": "stream",
          "text": [
            "<bound method DataFrame.value_counts of               Date   RACE  ...                                   OFFENSE  Year\n",
            "907     2015-05-27  ASIAN  ...  LARCENY, THIRD DEGREE                 DF  2015\n",
            "3543    2015-10-23  ASIAN  ...  BURGLARY, THIRD DEGREE                DF  2015\n",
            "4557    2015-02-23  ASIAN  ...  ASSAULT, 1ST VICTIM 60 OR OVER        BF  2015\n",
            "5080    2015-12-15  ASIAN  ...  LARCENY, THIRD DEGREE                 DF  2015\n",
            "5764    2015-11-09  ASIAN  ...  ASSAULT ON POLICE OR FIRE OFFICER     CF  2015\n",
            "...            ...    ...  ...                                       ...   ...\n",
            "5164085 2015-05-27  ASIAN  ...  LARCENY, THIRD DEGREE                 DF  2015\n",
            "5166445 2015-05-27  ASIAN  ...  LARCENY, THIRD DEGREE                 DF  2015\n",
            "5169418 2015-05-27  ASIAN  ...  LARCENY, THIRD DEGREE                 DF  2015\n",
            "5172881 2015-05-27  ASIAN  ...  LARCENY, THIRD DEGREE                 DF  2015\n",
            "5175327 2015-05-27  ASIAN  ...  LARCENY, THIRD DEGREE                 DF  2015\n",
            "\n",
            "[819 rows x 7 columns]>\n"
          ],
          "name": "stdout"
        }
      ]
    },
    {
      "cell_type": "code",
      "metadata": {
        "colab": {
          "base_uri": "https://localhost:8080/"
        },
        "id": "6GD_9DoDpVlt",
        "outputId": "d2c22719-51d7-4757-d40f-5b6a03c0df55"
      },
      "source": [
        "# Percent with bail over $5000\n",
        "819/824 * 100"
      ],
      "execution_count": null,
      "outputs": [
        {
          "output_type": "execute_result",
          "data": {
            "text/plain": [
              "99.39320388349515"
            ]
          },
          "metadata": {
            "tags": []
          },
          "execution_count": 149
        }
      ]
    },
    {
      "cell_type": "code",
      "metadata": {
        "colab": {
          "base_uri": "https://localhost:8080/"
        },
        "id": "x9YT7mY1pVsG",
        "outputId": "1408b908-f3d8-4a1b-f4f2-af706844198b"
      },
      "source": [
        "df_2015A10 = df_2015A[df_2015A[\"Bond\"] >= 10000]\n",
        "print(df_2015A10.value_counts)"
      ],
      "execution_count": null,
      "outputs": [
        {
          "output_type": "stream",
          "text": [
            "<bound method DataFrame.value_counts of              Date   RACE  ...                                   OFFENSE  Year\n",
            "3543   2015-10-23  ASIAN  ...  BURGLARY, THIRD DEGREE                DF  2015\n",
            "4557   2015-02-23  ASIAN  ...  ASSAULT, 1ST VICTIM 60 OR OVER        BF  2015\n",
            "5080   2015-12-15  ASIAN  ...  LARCENY, THIRD DEGREE                 DF  2015\n",
            "5764   2015-11-09  ASIAN  ...  ASSAULT ON POLICE OR FIRE OFFICER     CF  2015\n",
            "5813   2015-12-21  ASIAN  ...  ASSAULT ON POLICE OR FIRE OFFICER     CF  2015\n",
            "...           ...    ...  ...                                       ...   ...\n",
            "493951 2015-02-23  ASIAN  ...  ASSAULT, 1ST VICTIM 60 OR OVER        BF  2015\n",
            "497941 2015-02-23  ASIAN  ...  ASSAULT, 1ST VICTIM 60 OR OVER        BF  2015\n",
            "500304 2015-02-23  ASIAN  ...  ASSAULT, 1ST VICTIM 60 OR OVER        BF  2015\n",
            "503833 2015-02-23  ASIAN  ...  ASSAULT, 1ST VICTIM 60 OR OVER        BF  2015\n",
            "505395 2015-02-23  ASIAN  ...  ASSAULT, 1ST VICTIM 60 OR OVER        BF  2015\n",
            "\n",
            "[451 rows x 7 columns]>\n"
          ],
          "name": "stdout"
        }
      ]
    },
    {
      "cell_type": "code",
      "metadata": {
        "colab": {
          "base_uri": "https://localhost:8080/"
        },
        "id": "vTiCWcIJplAV",
        "outputId": "a6303be4-2eaa-4275-bba2-6a9b6a04f89b"
      },
      "source": [
        "# Percent with bail over $10000\n",
        "451/824 * 100"
      ],
      "execution_count": null,
      "outputs": [
        {
          "output_type": "execute_result",
          "data": {
            "text/plain": [
              "54.73300970873787"
            ]
          },
          "metadata": {
            "tags": []
          },
          "execution_count": 151
        }
      ]
    },
    {
      "cell_type": "code",
      "metadata": {
        "colab": {
          "base_uri": "https://localhost:8080/"
        },
        "id": "VwbRThPXplC-",
        "outputId": "bda19f3f-f57f-457a-c06a-606d96297d0d"
      },
      "source": [
        "df_2015A50 = df_2015A[df_2015A[\"Bond\"] >= 50000]\n",
        "print(df_2015A50.value_counts)"
      ],
      "execution_count": null,
      "outputs": [
        {
          "output_type": "stream",
          "text": [
            "<bound method DataFrame.value_counts of              Date   RACE  ...                                   OFFENSE  Year\n",
            "3543   2015-10-23  ASIAN  ...  BURGLARY, THIRD DEGREE                DF  2015\n",
            "4557   2015-02-23  ASIAN  ...  ASSAULT, 1ST VICTIM 60 OR OVER        BF  2015\n",
            "5080   2015-12-15  ASIAN  ...  LARCENY, THIRD DEGREE                 DF  2015\n",
            "5764   2015-11-09  ASIAN  ...  ASSAULT ON POLICE OR FIRE OFFICER     CF  2015\n",
            "6189   2015-11-09  ASIAN  ...  ASSAULT ON POLICE OR FIRE OFFICER     CF  2015\n",
            "...           ...    ...  ...                                       ...   ...\n",
            "493951 2015-02-23  ASIAN  ...  ASSAULT, 1ST VICTIM 60 OR OVER        BF  2015\n",
            "497941 2015-02-23  ASIAN  ...  ASSAULT, 1ST VICTIM 60 OR OVER        BF  2015\n",
            "500304 2015-02-23  ASIAN  ...  ASSAULT, 1ST VICTIM 60 OR OVER        BF  2015\n",
            "503833 2015-02-23  ASIAN  ...  ASSAULT, 1ST VICTIM 60 OR OVER        BF  2015\n",
            "505395 2015-02-23  ASIAN  ...  ASSAULT, 1ST VICTIM 60 OR OVER        BF  2015\n",
            "\n",
            "[392 rows x 7 columns]>\n"
          ],
          "name": "stdout"
        }
      ]
    },
    {
      "cell_type": "code",
      "metadata": {
        "colab": {
          "base_uri": "https://localhost:8080/"
        },
        "id": "YFGwdJh7pVvw",
        "outputId": "c9a57d1d-a45f-4d60-9f08-4c3e3487a8c3"
      },
      "source": [
        "# Percent with bail over $50000\n",
        "392/824 * 100"
      ],
      "execution_count": null,
      "outputs": [
        {
          "output_type": "execute_result",
          "data": {
            "text/plain": [
              "47.57281553398058"
            ]
          },
          "metadata": {
            "tags": []
          },
          "execution_count": 153
        }
      ]
    },
    {
      "cell_type": "code",
      "metadata": {
        "colab": {
          "base_uri": "https://localhost:8080/"
        },
        "id": "8_jMm8qnpV5r",
        "outputId": "a9e30a09-58c3-43f6-8043-6effe4ca93a0"
      },
      "source": [
        "df_2015A100 = df_2015A[df_2015A[\"Bond\"] >= 100000]\n",
        "print(df_2015A100.value_counts)"
      ],
      "execution_count": null,
      "outputs": [
        {
          "output_type": "stream",
          "text": [
            "<bound method DataFrame.value_counts of              Date   RACE  ...                                   OFFENSE  Year\n",
            "4557   2015-02-23  ASIAN  ...  ASSAULT, 1ST VICTIM 60 OR OVER        BF  2015\n",
            "5080   2015-12-15  ASIAN  ...  LARCENY, THIRD DEGREE                 DF  2015\n",
            "6495   2015-10-23  ASIAN  ...  BURGLARY, THIRD DEGREE                DF  2015\n",
            "6526   2015-12-15  ASIAN  ...  LARCENY, THIRD DEGREE                 DF  2015\n",
            "8764   2015-02-23  ASIAN  ...  ASSAULT, 1ST VICTIM 60 OR OVER        BF  2015\n",
            "...           ...    ...  ...                                       ...   ...\n",
            "493951 2015-02-23  ASIAN  ...  ASSAULT, 1ST VICTIM 60 OR OVER        BF  2015\n",
            "497941 2015-02-23  ASIAN  ...  ASSAULT, 1ST VICTIM 60 OR OVER        BF  2015\n",
            "500304 2015-02-23  ASIAN  ...  ASSAULT, 1ST VICTIM 60 OR OVER        BF  2015\n",
            "503833 2015-02-23  ASIAN  ...  ASSAULT, 1ST VICTIM 60 OR OVER        BF  2015\n",
            "505395 2015-02-23  ASIAN  ...  ASSAULT, 1ST VICTIM 60 OR OVER        BF  2015\n",
            "\n",
            "[284 rows x 7 columns]>\n"
          ],
          "name": "stdout"
        }
      ]
    },
    {
      "cell_type": "code",
      "metadata": {
        "colab": {
          "base_uri": "https://localhost:8080/"
        },
        "id": "xLbKsfrupWFL",
        "outputId": "962436f2-03df-4995-91a4-28d36bfbb69d"
      },
      "source": [
        "# Percent with bail over $100000\n",
        "284/824 * 100"
      ],
      "execution_count": null,
      "outputs": [
        {
          "output_type": "execute_result",
          "data": {
            "text/plain": [
              "34.46601941747573"
            ]
          },
          "metadata": {
            "tags": []
          },
          "execution_count": 155
        }
      ]
    },
    {
      "cell_type": "markdown",
      "metadata": {
        "id": "BHOXypH3qGqG"
      },
      "source": [
        "**Native American 2015**"
      ]
    },
    {
      "cell_type": "code",
      "metadata": {
        "colab": {
          "base_uri": "https://localhost:8080/"
        },
        "id": "J4MNeFJZgPX7",
        "outputId": "03a0b997-72ce-45c1-df88-ce42c45a064a"
      },
      "source": [
        "df_2015NA = df_2015[(df_2015[\"RACE\"] == 'AMER IND')]\n",
        "df_2015NA.value_counts"
      ],
      "execution_count": null,
      "outputs": [
        {
          "output_type": "execute_result",
          "data": {
            "text/plain": [
              "<bound method DataFrame.value_counts of Empty DataFrame\n",
              "Columns: [Date, RACE, GENDER, AGE, Bond, OFFENSE, Year]\n",
              "Index: []>"
            ]
          },
          "metadata": {
            "tags": []
          },
          "execution_count": 110
        }
      ]
    },
    {
      "cell_type": "markdown",
      "metadata": {
        "id": "swo9Ka9Bqn9h"
      },
      "source": [
        "**2019**"
      ]
    },
    {
      "cell_type": "code",
      "metadata": {
        "colab": {
          "base_uri": "https://localhost:8080/"
        },
        "id": "nu0dgJphqLOp",
        "outputId": "021bf364-726c-4309-f7d0-1e5b23e679d4"
      },
      "source": [
        "# Dataset 2019\n",
        "df_2019 = df[(df['Year'] == 2019)]\n",
        "df_2019.value_counts"
      ],
      "execution_count": null,
      "outputs": [
        {
          "output_type": "execute_result",
          "data": {
            "text/plain": [
              "<bound method DataFrame.value_counts of               Date      RACE  ...                                   OFFENSE  Year\n",
              "1       2019-03-28  HISPANIC  ...     VIOLATION OF PROBATION OR COND DISCHG  2019\n",
              "10      2019-09-18     BLACK  ...     VIOLATION OF PROBATION OR COND DISCHG  2019\n",
              "12      2019-09-23     BLACK  ...  ASSAULT, SECOND DEGREE                DF  2019\n",
              "14      2019-09-10     WHITE  ...  CRIM VIOL OF PROTECTIVE ORDER         DF  2019\n",
              "15      2019-08-05     WHITE  ...                         YOUTHFUL OFFENDER  2019\n",
              "...            ...       ...  ...                                       ...   ...\n",
              "5351813 2019-12-04     BLACK  ...                          CRIMINAL ATTEMPT  2019\n",
              "5351820 2019-12-05     BLACK  ...  ASSAULT, SECOND DEGREE                 F  2019\n",
              "5351833 2019-11-21     BLACK  ...  CRIMINAL POSS OF PISTOL/REVOLVER      DF  2019\n",
              "5351842 2019-11-13     BLACK  ...  IDENTITY THEFT 1ST DEGREE             BF  2019\n",
              "5351846 2019-08-12     WHITE  ...  HOME INVASION                         AF  2019\n",
              "\n",
              "[1102431 rows x 7 columns]>"
            ]
          },
          "metadata": {
            "tags": []
          },
          "execution_count": 156
        }
      ]
    },
    {
      "cell_type": "markdown",
      "metadata": {
        "id": "GylAs1dwsjYa"
      },
      "source": [
        "**Black 2019**"
      ]
    },
    {
      "cell_type": "code",
      "metadata": {
        "colab": {
          "base_uri": "https://localhost:8080/"
        },
        "id": "IUbxDFhMqLUW",
        "outputId": "fde71886-82cb-4f24-dfe1-55b07e67f726"
      },
      "source": [
        "df_2019B = df_2019[(df_2019[\"RACE\"] == 'BLACK')]\n",
        "df_2019B.value_counts"
      ],
      "execution_count": null,
      "outputs": [
        {
          "output_type": "execute_result",
          "data": {
            "text/plain": [
              "<bound method DataFrame.value_counts of               Date   RACE  ...                                   OFFENSE  Year\n",
              "10      2019-09-18  BLACK  ...     VIOLATION OF PROBATION OR COND DISCHG  2019\n",
              "12      2019-09-23  BLACK  ...  ASSAULT, SECOND DEGREE                DF  2019\n",
              "24      2019-07-05  BLACK  ...  ASSAULT 2ND DEGREE WITH A FIREARM     DF  2019\n",
              "43      2019-02-11  BLACK  ...  STEALING A FIREARM                    DF  2019\n",
              "52      2019-08-29  BLACK  ...  HOME INVASION                         AF  2019\n",
              "...            ...    ...  ...                                       ...   ...\n",
              "5351769 2019-09-10  BLACK  ...  MURDER                                AF  2019\n",
              "5351813 2019-12-04  BLACK  ...                          CRIMINAL ATTEMPT  2019\n",
              "5351820 2019-12-05  BLACK  ...  ASSAULT, SECOND DEGREE                 F  2019\n",
              "5351833 2019-11-21  BLACK  ...  CRIMINAL POSS OF PISTOL/REVOLVER      DF  2019\n",
              "5351842 2019-11-13  BLACK  ...  IDENTITY THEFT 1ST DEGREE             BF  2019\n",
              "\n",
              "[451886 rows x 7 columns]>"
            ]
          },
          "metadata": {
            "tags": []
          },
          "execution_count": 158
        }
      ]
    },
    {
      "cell_type": "code",
      "metadata": {
        "colab": {
          "base_uri": "https://localhost:8080/"
        },
        "id": "0eiMn4DRrpV3",
        "outputId": "1dcb5311-dcb2-4ae2-b485-0b668b7c9bac"
      },
      "source": [
        "451886/1102431 *100"
      ],
      "execution_count": null,
      "outputs": [
        {
          "output_type": "execute_result",
          "data": {
            "text/plain": [
              "40.98995764814306"
            ]
          },
          "metadata": {
            "tags": []
          },
          "execution_count": 160
        }
      ]
    },
    {
      "cell_type": "code",
      "metadata": {
        "colab": {
          "base_uri": "https://localhost:8080/"
        },
        "id": "4njXcqFAsnYd",
        "outputId": "b17601cf-ef6a-4934-bc2e-0692ba793995"
      },
      "source": [
        "df_2019B1 = df_2019B[df_2019B[\"Bond\"] >= 1000]\n",
        "print(df_2019B1.value_counts)"
      ],
      "execution_count": null,
      "outputs": [
        {
          "output_type": "stream",
          "text": [
            "<bound method DataFrame.value_counts of               Date   RACE  ...                                   OFFENSE  Year\n",
            "10      2019-09-18  BLACK  ...     VIOLATION OF PROBATION OR COND DISCHG  2019\n",
            "12      2019-09-23  BLACK  ...  ASSAULT, SECOND DEGREE                DF  2019\n",
            "24      2019-07-05  BLACK  ...  ASSAULT 2ND DEGREE WITH A FIREARM     DF  2019\n",
            "43      2019-02-11  BLACK  ...  STEALING A FIREARM                    DF  2019\n",
            "52      2019-08-29  BLACK  ...  HOME INVASION                         AF  2019\n",
            "...            ...    ...  ...                                       ...   ...\n",
            "5351769 2019-09-10  BLACK  ...  MURDER                                AF  2019\n",
            "5351813 2019-12-04  BLACK  ...                          CRIMINAL ATTEMPT  2019\n",
            "5351820 2019-12-05  BLACK  ...  ASSAULT, SECOND DEGREE                 F  2019\n",
            "5351833 2019-11-21  BLACK  ...  CRIMINAL POSS OF PISTOL/REVOLVER      DF  2019\n",
            "5351842 2019-11-13  BLACK  ...  IDENTITY THEFT 1ST DEGREE             BF  2019\n",
            "\n",
            "[449366 rows x 7 columns]>\n"
          ],
          "name": "stdout"
        }
      ]
    },
    {
      "cell_type": "code",
      "metadata": {
        "colab": {
          "base_uri": "https://localhost:8080/"
        },
        "id": "noT6a8dUsncF",
        "outputId": "a04bac4a-445a-4891-fc5a-7498033fa6b8"
      },
      "source": [
        "# Percent with bail over $1000\n",
        "449366/451886 * 100"
      ],
      "execution_count": null,
      "outputs": [
        {
          "output_type": "execute_result",
          "data": {
            "text/plain": [
              "99.44233722664566"
            ]
          },
          "metadata": {
            "tags": []
          },
          "execution_count": 169
        }
      ]
    },
    {
      "cell_type": "code",
      "metadata": {
        "colab": {
          "base_uri": "https://localhost:8080/"
        },
        "id": "mEG5NwSHsnh0",
        "outputId": "93602557-489b-402d-842b-f54deabc7636"
      },
      "source": [
        "df_2019B5 = df_2019B[df_2019B[\"Bond\"] >= 5000]\n",
        "print(df_2019B5.value_counts)"
      ],
      "execution_count": null,
      "outputs": [
        {
          "output_type": "stream",
          "text": [
            "<bound method DataFrame.value_counts of               Date   RACE  ...                                   OFFENSE  Year\n",
            "10      2019-09-18  BLACK  ...     VIOLATION OF PROBATION OR COND DISCHG  2019\n",
            "12      2019-09-23  BLACK  ...  ASSAULT, SECOND DEGREE                DF  2019\n",
            "24      2019-07-05  BLACK  ...  ASSAULT 2ND DEGREE WITH A FIREARM     DF  2019\n",
            "43      2019-02-11  BLACK  ...  STEALING A FIREARM                    DF  2019\n",
            "52      2019-08-29  BLACK  ...  HOME INVASION                         AF  2019\n",
            "...            ...    ...  ...                                       ...   ...\n",
            "5351769 2019-09-10  BLACK  ...  MURDER                                AF  2019\n",
            "5351813 2019-12-04  BLACK  ...                          CRIMINAL ATTEMPT  2019\n",
            "5351820 2019-12-05  BLACK  ...  ASSAULT, SECOND DEGREE                 F  2019\n",
            "5351833 2019-11-21  BLACK  ...  CRIMINAL POSS OF PISTOL/REVOLVER      DF  2019\n",
            "5351842 2019-11-13  BLACK  ...  IDENTITY THEFT 1ST DEGREE             BF  2019\n",
            "\n",
            "[439900 rows x 7 columns]>\n"
          ],
          "name": "stdout"
        }
      ]
    },
    {
      "cell_type": "code",
      "metadata": {
        "colab": {
          "base_uri": "https://localhost:8080/"
        },
        "id": "1h9yZpRmsnlk",
        "outputId": "37ca928c-bee9-4058-c082-70105ecac638"
      },
      "source": [
        "# Percent with bail over $5000\n",
        "439900/451886 * 100"
      ],
      "execution_count": null,
      "outputs": [
        {
          "output_type": "execute_result",
          "data": {
            "text/plain": [
              "97.34756111054558"
            ]
          },
          "metadata": {
            "tags": []
          },
          "execution_count": 171
        }
      ]
    },
    {
      "cell_type": "code",
      "metadata": {
        "colab": {
          "base_uri": "https://localhost:8080/"
        },
        "id": "IaG90sp3sno9",
        "outputId": "0731cc47-e1ce-4fd9-bf64-219602b50030"
      },
      "source": [
        "df_2019B10 = df_2019B[df_2019B[\"Bond\"] >= 10000]\n",
        "print(df_2019B10.value_counts)"
      ],
      "execution_count": null,
      "outputs": [
        {
          "output_type": "stream",
          "text": [
            "<bound method DataFrame.value_counts of               Date   RACE  ...                                   OFFENSE  Year\n",
            "10      2019-09-18  BLACK  ...     VIOLATION OF PROBATION OR COND DISCHG  2019\n",
            "12      2019-09-23  BLACK  ...  ASSAULT, SECOND DEGREE                DF  2019\n",
            "24      2019-07-05  BLACK  ...  ASSAULT 2ND DEGREE WITH A FIREARM     DF  2019\n",
            "43      2019-02-11  BLACK  ...  STEALING A FIREARM                    DF  2019\n",
            "52      2019-08-29  BLACK  ...  HOME INVASION                         AF  2019\n",
            "...            ...    ...  ...                                       ...   ...\n",
            "5351769 2019-09-10  BLACK  ...  MURDER                                AF  2019\n",
            "5351813 2019-12-04  BLACK  ...                          CRIMINAL ATTEMPT  2019\n",
            "5351820 2019-12-05  BLACK  ...  ASSAULT, SECOND DEGREE                 F  2019\n",
            "5351833 2019-11-21  BLACK  ...  CRIMINAL POSS OF PISTOL/REVOLVER      DF  2019\n",
            "5351842 2019-11-13  BLACK  ...  IDENTITY THEFT 1ST DEGREE             BF  2019\n",
            "\n",
            "[426515 rows x 7 columns]>\n"
          ],
          "name": "stdout"
        }
      ]
    },
    {
      "cell_type": "code",
      "metadata": {
        "colab": {
          "base_uri": "https://localhost:8080/"
        },
        "id": "gefAkVXDsnsx",
        "outputId": "bf9bf187-0536-4828-8454-32a0c9085960"
      },
      "source": [
        "# Percent with bail over $10000\n",
        "426515/451886 * 100"
      ],
      "execution_count": null,
      "outputs": [
        {
          "output_type": "execute_result",
          "data": {
            "text/plain": [
              "94.38553086397897"
            ]
          },
          "metadata": {
            "tags": []
          },
          "execution_count": 173
        }
      ]
    },
    {
      "cell_type": "code",
      "metadata": {
        "colab": {
          "base_uri": "https://localhost:8080/"
        },
        "id": "6tYb9LUZsnwq",
        "outputId": "736436be-0598-4181-e7bf-99ab7cff9052"
      },
      "source": [
        "df_2019B50 = df_2019B[df_2019B[\"Bond\"] >= 50000]\n",
        "print(df_2019B50.value_counts)"
      ],
      "execution_count": null,
      "outputs": [
        {
          "output_type": "stream",
          "text": [
            "<bound method DataFrame.value_counts of               Date   RACE  ...                                   OFFENSE  Year\n",
            "10      2019-09-18  BLACK  ...     VIOLATION OF PROBATION OR COND DISCHG  2019\n",
            "12      2019-09-23  BLACK  ...  ASSAULT, SECOND DEGREE                DF  2019\n",
            "24      2019-07-05  BLACK  ...  ASSAULT 2ND DEGREE WITH A FIREARM     DF  2019\n",
            "43      2019-02-11  BLACK  ...  STEALING A FIREARM                    DF  2019\n",
            "52      2019-08-29  BLACK  ...  HOME INVASION                         AF  2019\n",
            "...            ...    ...  ...                                       ...   ...\n",
            "5351769 2019-09-10  BLACK  ...  MURDER                                AF  2019\n",
            "5351813 2019-12-04  BLACK  ...                          CRIMINAL ATTEMPT  2019\n",
            "5351820 2019-12-05  BLACK  ...  ASSAULT, SECOND DEGREE                 F  2019\n",
            "5351833 2019-11-21  BLACK  ...  CRIMINAL POSS OF PISTOL/REVOLVER      DF  2019\n",
            "5351842 2019-11-13  BLACK  ...  IDENTITY THEFT 1ST DEGREE             BF  2019\n",
            "\n",
            "[351746 rows x 7 columns]>\n"
          ],
          "name": "stdout"
        }
      ]
    },
    {
      "cell_type": "code",
      "metadata": {
        "colab": {
          "base_uri": "https://localhost:8080/"
        },
        "id": "_kBljIq-sn0-",
        "outputId": "6f0eee7f-c68a-481d-d869-1caaac8448d5"
      },
      "source": [
        "# Percent with bail over $50000\n",
        "351746/451886 * 100"
      ],
      "execution_count": null,
      "outputs": [
        {
          "output_type": "execute_result",
          "data": {
            "text/plain": [
              "77.83954360170485"
            ]
          },
          "metadata": {
            "tags": []
          },
          "execution_count": 175
        }
      ]
    },
    {
      "cell_type": "code",
      "metadata": {
        "colab": {
          "base_uri": "https://localhost:8080/"
        },
        "id": "x-W3jwLhsn7o",
        "outputId": "c09540cc-1051-49e6-fa9a-014e2d044d34"
      },
      "source": [
        "df_2019B100 = df_2019B[df_2019B[\"Bond\"] >= 100000]\n",
        "print(df_2019B100.value_counts)"
      ],
      "execution_count": null,
      "outputs": [
        {
          "output_type": "stream",
          "text": [
            "<bound method DataFrame.value_counts of               Date   RACE  ...                                   OFFENSE  Year\n",
            "24      2019-07-05  BLACK  ...  ASSAULT 2ND DEGREE WITH A FIREARM     DF  2019\n",
            "43      2019-02-11  BLACK  ...  STEALING A FIREARM                    DF  2019\n",
            "52      2019-08-29  BLACK  ...  HOME INVASION                         AF  2019\n",
            "56      2019-08-16  BLACK  ...  CRIMINAL POSSESSION OF A PISTOL       DF  2019\n",
            "57      2019-08-13  BLACK  ...  BURGLARY, SECOND DEGREE               CF  2019\n",
            "...            ...    ...  ...                                       ...   ...\n",
            "5351740 2019-12-17  BLACK  ...  MURDER                                AF  2019\n",
            "5351769 2019-09-10  BLACK  ...  MURDER                                AF  2019\n",
            "5351813 2019-12-04  BLACK  ...                          CRIMINAL ATTEMPT  2019\n",
            "5351833 2019-11-21  BLACK  ...  CRIMINAL POSS OF PISTOL/REVOLVER      DF  2019\n",
            "5351842 2019-11-13  BLACK  ...  IDENTITY THEFT 1ST DEGREE             BF  2019\n",
            "\n",
            "[280292 rows x 7 columns]>\n"
          ],
          "name": "stdout"
        }
      ]
    },
    {
      "cell_type": "code",
      "metadata": {
        "id": "8-YUMajFttYE"
      },
      "source": [
        ""
      ],
      "execution_count": null,
      "outputs": []
    },
    {
      "cell_type": "code",
      "metadata": {
        "colab": {
          "base_uri": "https://localhost:8080/"
        },
        "id": "8T6EXbdIsn_Y",
        "outputId": "12aa3df2-3dfe-4e86-eb35-6c6a70109d99"
      },
      "source": [
        "# Percent with bail over $100000\n",
        "280292/451886 * 100"
      ],
      "execution_count": null,
      "outputs": [
        {
          "output_type": "execute_result",
          "data": {
            "text/plain": [
              "62.02714844009329"
            ]
          },
          "metadata": {
            "tags": []
          },
          "execution_count": 178
        }
      ]
    },
    {
      "cell_type": "markdown",
      "metadata": {
        "id": "N19ZvyLktsDp"
      },
      "source": [
        "**White 2019**"
      ]
    },
    {
      "cell_type": "code",
      "metadata": {
        "colab": {
          "base_uri": "https://localhost:8080/"
        },
        "id": "m0vn2ojNqLbU",
        "outputId": "555a11c8-8ef5-4326-feba-58e324497bd4"
      },
      "source": [
        "df_2019W = df_2019[(df_2019[\"RACE\"] == 'WHITE')]\n",
        "df_2019W.value_counts"
      ],
      "execution_count": null,
      "outputs": [
        {
          "output_type": "execute_result",
          "data": {
            "text/plain": [
              "<bound method DataFrame.value_counts of               Date   RACE  ...                                   OFFENSE  Year\n",
              "14      2019-09-10  WHITE  ...  CRIM VIOL OF PROTECTIVE ORDER         DF  2019\n",
              "15      2019-08-05  WHITE  ...                         YOUTHFUL OFFENDER  2019\n",
              "19      2019-11-12  WHITE  ...  CRIMINAL TRESPASS, THIRD DEGREE       CM  2019\n",
              "21      2019-11-18  WHITE  ...  BURGLARY, THIRD DEGREE                DF  2019\n",
              "31      2019-06-03  WHITE  ...  MURDER                                AF  2019\n",
              "...            ...    ...  ...                                       ...   ...\n",
              "5351749 2019-07-22  WHITE  ...                          CRIMINAL ATTEMPT  2019\n",
              "5351754 2019-11-21  WHITE  ...  ROBBERY, FIRST DEGREE                 BF  2019\n",
              "5351789 2019-08-12  WHITE  ...  ESCAPE, FIRST DEGREE                  CF  2019\n",
              "5351809 2019-11-06  WHITE  ...  SEXUAL ASSAULT, FIRST DEGREE           F  2019\n",
              "5351846 2019-08-12  WHITE  ...  HOME INVASION                         AF  2019\n",
              "\n",
              "[338006 rows x 7 columns]>"
            ]
          },
          "metadata": {
            "tags": []
          },
          "execution_count": 159
        }
      ]
    },
    {
      "cell_type": "code",
      "metadata": {
        "colab": {
          "base_uri": "https://localhost:8080/"
        },
        "id": "HROFRiuArzsR",
        "outputId": "31213924-4b07-4f84-e9fa-0eb07d3f72a9"
      },
      "source": [
        "338006/1102431 *100"
      ],
      "execution_count": null,
      "outputs": [
        {
          "output_type": "execute_result",
          "data": {
            "text/plain": [
              "30.660059450432726"
            ]
          },
          "metadata": {
            "tags": []
          },
          "execution_count": 161
        }
      ]
    },
    {
      "cell_type": "code",
      "metadata": {
        "colab": {
          "base_uri": "https://localhost:8080/"
        },
        "id": "p3_aMAogtwDc",
        "outputId": "358c8327-e9e3-4fc0-f105-3bfb2b397920"
      },
      "source": [
        "df_2019W1 = df_2019W[df_2019W[\"Bond\"] >= 1000]\n",
        "print(df_2019W1.value_counts)"
      ],
      "execution_count": null,
      "outputs": [
        {
          "output_type": "stream",
          "text": [
            "<bound method DataFrame.value_counts of               Date   RACE  ...                                   OFFENSE  Year\n",
            "14      2019-09-10  WHITE  ...  CRIM VIOL OF PROTECTIVE ORDER         DF  2019\n",
            "15      2019-08-05  WHITE  ...                         YOUTHFUL OFFENDER  2019\n",
            "19      2019-11-12  WHITE  ...  CRIMINAL TRESPASS, THIRD DEGREE       CM  2019\n",
            "21      2019-11-18  WHITE  ...  BURGLARY, THIRD DEGREE                DF  2019\n",
            "31      2019-06-03  WHITE  ...  MURDER                                AF  2019\n",
            "...            ...    ...  ...                                       ...   ...\n",
            "5351749 2019-07-22  WHITE  ...                          CRIMINAL ATTEMPT  2019\n",
            "5351754 2019-11-21  WHITE  ...  ROBBERY, FIRST DEGREE                 BF  2019\n",
            "5351789 2019-08-12  WHITE  ...  ESCAPE, FIRST DEGREE                  CF  2019\n",
            "5351809 2019-11-06  WHITE  ...  SEXUAL ASSAULT, FIRST DEGREE           F  2019\n",
            "5351846 2019-08-12  WHITE  ...  HOME INVASION                         AF  2019\n",
            "\n",
            "[335671 rows x 7 columns]>\n"
          ],
          "name": "stdout"
        }
      ]
    },
    {
      "cell_type": "code",
      "metadata": {
        "colab": {
          "base_uri": "https://localhost:8080/"
        },
        "id": "juFDK0aWtydo",
        "outputId": "185f5a9a-c5cd-43b4-a76b-094a8eab6c16"
      },
      "source": [
        "# Percent with bail over $1000\n",
        "335671/338006 * 100"
      ],
      "execution_count": null,
      "outputs": [
        {
          "output_type": "execute_result",
          "data": {
            "text/plain": [
              "99.30918386064153"
            ]
          },
          "metadata": {
            "tags": []
          },
          "execution_count": 180
        }
      ]
    },
    {
      "cell_type": "code",
      "metadata": {
        "colab": {
          "base_uri": "https://localhost:8080/"
        },
        "id": "ZqtTYchztyo2",
        "outputId": "b7f5fedc-b0b2-43b1-909d-c0174e9baf9a"
      },
      "source": [
        "df_2019W5 = df_2019W[df_2019W[\"Bond\"] >= 5000]\n",
        "print(df_2019W5.value_counts)"
      ],
      "execution_count": null,
      "outputs": [
        {
          "output_type": "stream",
          "text": [
            "<bound method DataFrame.value_counts of               Date   RACE  ...                                   OFFENSE  Year\n",
            "14      2019-09-10  WHITE  ...  CRIM VIOL OF PROTECTIVE ORDER         DF  2019\n",
            "15      2019-08-05  WHITE  ...                         YOUTHFUL OFFENDER  2019\n",
            "19      2019-11-12  WHITE  ...  CRIMINAL TRESPASS, THIRD DEGREE       CM  2019\n",
            "21      2019-11-18  WHITE  ...  BURGLARY, THIRD DEGREE                DF  2019\n",
            "31      2019-06-03  WHITE  ...  MURDER                                AF  2019\n",
            "...            ...    ...  ...                                       ...   ...\n",
            "5351749 2019-07-22  WHITE  ...                          CRIMINAL ATTEMPT  2019\n",
            "5351754 2019-11-21  WHITE  ...  ROBBERY, FIRST DEGREE                 BF  2019\n",
            "5351789 2019-08-12  WHITE  ...  ESCAPE, FIRST DEGREE                  CF  2019\n",
            "5351809 2019-11-06  WHITE  ...  SEXUAL ASSAULT, FIRST DEGREE           F  2019\n",
            "5351846 2019-08-12  WHITE  ...  HOME INVASION                         AF  2019\n",
            "\n",
            "[322234 rows x 7 columns]>\n"
          ],
          "name": "stdout"
        }
      ]
    },
    {
      "cell_type": "code",
      "metadata": {
        "colab": {
          "base_uri": "https://localhost:8080/"
        },
        "id": "B9HqLF89tyxe",
        "outputId": "4e5535ed-12a8-4590-8a2b-d184fe467a08"
      },
      "source": [
        "# Percent with bail over $5000\n",
        "322234/338006 * 100"
      ],
      "execution_count": null,
      "outputs": [
        {
          "output_type": "execute_result",
          "data": {
            "text/plain": [
              "95.33381064241463"
            ]
          },
          "metadata": {
            "tags": []
          },
          "execution_count": 182
        }
      ]
    },
    {
      "cell_type": "code",
      "metadata": {
        "colab": {
          "base_uri": "https://localhost:8080/"
        },
        "id": "l3rWiZaSty5m",
        "outputId": "396f5765-4ff2-49f4-d4f8-85b6bf45f19f"
      },
      "source": [
        "df_2019W10 = df_2019W[df_2019W[\"Bond\"] >= 10000]\n",
        "print(df_2019W10.value_counts)"
      ],
      "execution_count": null,
      "outputs": [
        {
          "output_type": "stream",
          "text": [
            "<bound method DataFrame.value_counts of               Date   RACE  ...                                   OFFENSE  Year\n",
            "14      2019-09-10  WHITE  ...  CRIM VIOL OF PROTECTIVE ORDER         DF  2019\n",
            "15      2019-08-05  WHITE  ...                         YOUTHFUL OFFENDER  2019\n",
            "19      2019-11-12  WHITE  ...  CRIMINAL TRESPASS, THIRD DEGREE       CM  2019\n",
            "21      2019-11-18  WHITE  ...  BURGLARY, THIRD DEGREE                DF  2019\n",
            "31      2019-06-03  WHITE  ...  MURDER                                AF  2019\n",
            "...            ...    ...  ...                                       ...   ...\n",
            "5351749 2019-07-22  WHITE  ...                          CRIMINAL ATTEMPT  2019\n",
            "5351754 2019-11-21  WHITE  ...  ROBBERY, FIRST DEGREE                 BF  2019\n",
            "5351789 2019-08-12  WHITE  ...  ESCAPE, FIRST DEGREE                  CF  2019\n",
            "5351809 2019-11-06  WHITE  ...  SEXUAL ASSAULT, FIRST DEGREE           F  2019\n",
            "5351846 2019-08-12  WHITE  ...  HOME INVASION                         AF  2019\n",
            "\n",
            "[305034 rows x 7 columns]>\n"
          ],
          "name": "stdout"
        }
      ]
    },
    {
      "cell_type": "code",
      "metadata": {
        "colab": {
          "base_uri": "https://localhost:8080/"
        },
        "id": "-QvXXT-3tzBQ",
        "outputId": "3e444c7f-5ab1-4ca7-8b7c-9935cc109b68"
      },
      "source": [
        "# Percent with bail over $10000\n",
        "305034/338006 * 100"
      ],
      "execution_count": null,
      "outputs": [
        {
          "output_type": "execute_result",
          "data": {
            "text/plain": [
              "90.24514357733294"
            ]
          },
          "metadata": {
            "tags": []
          },
          "execution_count": 184
        }
      ]
    },
    {
      "cell_type": "code",
      "metadata": {
        "colab": {
          "base_uri": "https://localhost:8080/"
        },
        "id": "R40w8sf9tzJ8",
        "outputId": "8c262be0-c046-406d-8ed3-ef144e91353c"
      },
      "source": [
        "df_2019W50 = df_2019W[df_2019W[\"Bond\"] >= 50000]\n",
        "print(df_2019W50.value_counts)"
      ],
      "execution_count": null,
      "outputs": [
        {
          "output_type": "stream",
          "text": [
            "<bound method DataFrame.value_counts of               Date   RACE  ...                                   OFFENSE  Year\n",
            "14      2019-09-10  WHITE  ...  CRIM VIOL OF PROTECTIVE ORDER         DF  2019\n",
            "15      2019-08-05  WHITE  ...                         YOUTHFUL OFFENDER  2019\n",
            "19      2019-11-12  WHITE  ...  CRIMINAL TRESPASS, THIRD DEGREE       CM  2019\n",
            "21      2019-11-18  WHITE  ...  BURGLARY, THIRD DEGREE                DF  2019\n",
            "31      2019-06-03  WHITE  ...  MURDER                                AF  2019\n",
            "...            ...    ...  ...                                       ...   ...\n",
            "5351744 2019-03-22  WHITE  ...  MURDER                                AF  2019\n",
            "5351749 2019-07-22  WHITE  ...                          CRIMINAL ATTEMPT  2019\n",
            "5351754 2019-11-21  WHITE  ...  ROBBERY, FIRST DEGREE                 BF  2019\n",
            "5351809 2019-11-06  WHITE  ...  SEXUAL ASSAULT, FIRST DEGREE           F  2019\n",
            "5351846 2019-08-12  WHITE  ...  HOME INVASION                         AF  2019\n",
            "\n",
            "[209076 rows x 7 columns]>\n"
          ],
          "name": "stdout"
        }
      ]
    },
    {
      "cell_type": "code",
      "metadata": {
        "colab": {
          "base_uri": "https://localhost:8080/"
        },
        "id": "RjsGi0zStzQc",
        "outputId": "7db96161-306f-4753-c3ee-b59a5a0ab030"
      },
      "source": [
        "# Percent with bail over $500000\n",
        "209076/338006 * 100"
      ],
      "execution_count": null,
      "outputs": [
        {
          "output_type": "execute_result",
          "data": {
            "text/plain": [
              "61.8557067034313"
            ]
          },
          "metadata": {
            "tags": []
          },
          "execution_count": 186
        }
      ]
    },
    {
      "cell_type": "code",
      "metadata": {
        "colab": {
          "base_uri": "https://localhost:8080/"
        },
        "id": "cj0AjE_DtzXw",
        "outputId": "9b35d6fa-7b63-46e7-93b9-137682840239"
      },
      "source": [
        "df_2019W100 = df_2019W[df_2019W[\"Bond\"] >= 100000]\n",
        "print(df_2019W100.value_counts)"
      ],
      "execution_count": null,
      "outputs": [
        {
          "output_type": "stream",
          "text": [
            "<bound method DataFrame.value_counts of               Date   RACE  ...                                   OFFENSE  Year\n",
            "14      2019-09-10  WHITE  ...  CRIM VIOL OF PROTECTIVE ORDER         DF  2019\n",
            "15      2019-08-05  WHITE  ...                         YOUTHFUL OFFENDER  2019\n",
            "19      2019-11-12  WHITE  ...  CRIMINAL TRESPASS, THIRD DEGREE       CM  2019\n",
            "31      2019-06-03  WHITE  ...  MURDER                                AF  2019\n",
            "41      2019-12-26  WHITE  ...     VIOLATION OF PROBATION OR COND DISCHG  2019\n",
            "...            ...    ...  ...                                       ...   ...\n",
            "5351737 2019-10-30  WHITE  ...  MURDER                                AF  2019\n",
            "5351744 2019-03-22  WHITE  ...  MURDER                                AF  2019\n",
            "5351749 2019-07-22  WHITE  ...                          CRIMINAL ATTEMPT  2019\n",
            "5351809 2019-11-06  WHITE  ...  SEXUAL ASSAULT, FIRST DEGREE           F  2019\n",
            "5351846 2019-08-12  WHITE  ...  HOME INVASION                         AF  2019\n",
            "\n",
            "[135168 rows x 7 columns]>\n"
          ],
          "name": "stdout"
        }
      ]
    },
    {
      "cell_type": "code",
      "metadata": {
        "colab": {
          "base_uri": "https://localhost:8080/"
        },
        "id": "m9_uNBsMtzd4",
        "outputId": "3596560e-0d8f-4b9e-b9d5-180accadb20e"
      },
      "source": [
        "# Percent with bail over $100000\n",
        "135168/338006 * 100"
      ],
      "execution_count": null,
      "outputs": [
        {
          "output_type": "execute_result",
          "data": {
            "text/plain": [
              "39.98982266586984"
            ]
          },
          "metadata": {
            "tags": []
          },
          "execution_count": 188
        }
      ]
    },
    {
      "cell_type": "markdown",
      "metadata": {
        "id": "Aomlht2Ttwjh"
      },
      "source": [
        "**Hispanic 2019**"
      ]
    },
    {
      "cell_type": "code",
      "metadata": {
        "colab": {
          "base_uri": "https://localhost:8080/"
        },
        "id": "XSWOz_qAqLeY",
        "outputId": "5f056367-655d-4cec-f447-014df4896f09"
      },
      "source": [
        "df_2019H = df_2019[(df_2019[\"RACE\"] == 'HISPANIC')]\n",
        "df_2019H.value_counts"
      ],
      "execution_count": null,
      "outputs": [
        {
          "output_type": "execute_result",
          "data": {
            "text/plain": [
              "<bound method DataFrame.value_counts of               Date      RACE  ...                                   OFFENSE  Year\n",
              "1       2019-03-28  HISPANIC  ...     VIOLATION OF PROBATION OR COND DISCHG  2019\n",
              "18      2019-12-24  HISPANIC  ...  LARCENY, FIRST DEGREE                 BF  2019\n",
              "25      2019-11-26  HISPANIC  ...  FORGERY, FIRST DEGREE                 CF  2019\n",
              "32      2019-08-19  HISPANIC  ...  CRIM VIOL OF PROTECTIVE ORDER         DF  2019\n",
              "45      2019-12-30  HISPANIC  ...  LARCENY, FIRST DEGREE                 BF  2019\n",
              "...            ...       ...  ...                                       ...   ...\n",
              "5351709 2019-10-15  HISPANIC  ...                          CRIMINAL ATTEMPT  2019\n",
              "5351717 2019-09-13  HISPANIC  ...  SALE OF HALLUCIGEN/NARCOTIC SUBSTANCE  F  2019\n",
              "5351759 2019-04-30  HISPANIC  ...  INJURY OR RISK OF INJURY TO MINOR      F  2019\n",
              "5351764 2019-05-07  HISPANIC  ...  SEXUAL ASSAULT 1ST DEGREE-AGGRVTD      F  2019\n",
              "5351770 2019-10-24  HISPANIC  ...  ASSAULT, FIRST DEGREE                 BF  2019\n",
              "\n",
              "[303390 rows x 7 columns]>"
            ]
          },
          "metadata": {
            "tags": []
          },
          "execution_count": 162
        }
      ]
    },
    {
      "cell_type": "code",
      "metadata": {
        "colab": {
          "base_uri": "https://localhost:8080/"
        },
        "id": "M9ms6gImr5cF",
        "outputId": "7782b0de-17bf-4c03-8798-aa1be8f7deef"
      },
      "source": [
        "303390/1102431 *100"
      ],
      "execution_count": null,
      "outputs": [
        {
          "output_type": "execute_result",
          "data": {
            "text/plain": [
              "27.52008969268825"
            ]
          },
          "metadata": {
            "tags": []
          },
          "execution_count": 163
        }
      ]
    },
    {
      "cell_type": "code",
      "metadata": {
        "colab": {
          "base_uri": "https://localhost:8080/"
        },
        "id": "hAJdvOsyuo9I",
        "outputId": "e432587a-64b5-422f-b49c-c529ed75df5c"
      },
      "source": [
        "df_2019H1 = df_2019H[df_2019H[\"Bond\"] >= 1000]\n",
        "print(df_2019H1.value_counts)"
      ],
      "execution_count": null,
      "outputs": [
        {
          "output_type": "stream",
          "text": [
            "<bound method DataFrame.value_counts of               Date      RACE  ...                                   OFFENSE  Year\n",
            "1       2019-03-28  HISPANIC  ...     VIOLATION OF PROBATION OR COND DISCHG  2019\n",
            "18      2019-12-24  HISPANIC  ...  LARCENY, FIRST DEGREE                 BF  2019\n",
            "25      2019-11-26  HISPANIC  ...  FORGERY, FIRST DEGREE                 CF  2019\n",
            "32      2019-08-19  HISPANIC  ...  CRIM VIOL OF PROTECTIVE ORDER         DF  2019\n",
            "45      2019-12-30  HISPANIC  ...  LARCENY, FIRST DEGREE                 BF  2019\n",
            "...            ...       ...  ...                                       ...   ...\n",
            "5351709 2019-10-15  HISPANIC  ...                          CRIMINAL ATTEMPT  2019\n",
            "5351717 2019-09-13  HISPANIC  ...  SALE OF HALLUCIGEN/NARCOTIC SUBSTANCE  F  2019\n",
            "5351759 2019-04-30  HISPANIC  ...  INJURY OR RISK OF INJURY TO MINOR      F  2019\n",
            "5351764 2019-05-07  HISPANIC  ...  SEXUAL ASSAULT 1ST DEGREE-AGGRVTD      F  2019\n",
            "5351770 2019-10-24  HISPANIC  ...  ASSAULT, FIRST DEGREE                 BF  2019\n",
            "\n",
            "[301555 rows x 7 columns]>\n"
          ],
          "name": "stdout"
        }
      ]
    },
    {
      "cell_type": "code",
      "metadata": {
        "colab": {
          "base_uri": "https://localhost:8080/"
        },
        "id": "0LtbF390upBO",
        "outputId": "7f21fc83-9175-43eb-ae34-b1ab763e2217"
      },
      "source": [
        "# Percent with bail over $1000\n",
        "301555/303390 * 100"
      ],
      "execution_count": null,
      "outputs": [
        {
          "output_type": "execute_result",
          "data": {
            "text/plain": [
              "99.39516793566037"
            ]
          },
          "metadata": {
            "tags": []
          },
          "execution_count": 190
        }
      ]
    },
    {
      "cell_type": "code",
      "metadata": {
        "colab": {
          "base_uri": "https://localhost:8080/"
        },
        "id": "RgAixS0WupPE",
        "outputId": "1ff35c5e-7baf-4e75-9c26-295b093b33f3"
      },
      "source": [
        "df_2019H5 = df_2019H[df_2019H[\"Bond\"] >= 5000]\n",
        "print(df_2019H5.value_counts)"
      ],
      "execution_count": null,
      "outputs": [
        {
          "output_type": "stream",
          "text": [
            "<bound method DataFrame.value_counts of               Date      RACE  ...                                   OFFENSE  Year\n",
            "1       2019-03-28  HISPANIC  ...     VIOLATION OF PROBATION OR COND DISCHG  2019\n",
            "18      2019-12-24  HISPANIC  ...  LARCENY, FIRST DEGREE                 BF  2019\n",
            "25      2019-11-26  HISPANIC  ...  FORGERY, FIRST DEGREE                 CF  2019\n",
            "32      2019-08-19  HISPANIC  ...  CRIM VIOL OF PROTECTIVE ORDER         DF  2019\n",
            "45      2019-12-30  HISPANIC  ...  LARCENY, FIRST DEGREE                 BF  2019\n",
            "...            ...       ...  ...                                       ...   ...\n",
            "5351709 2019-10-15  HISPANIC  ...                          CRIMINAL ATTEMPT  2019\n",
            "5351717 2019-09-13  HISPANIC  ...  SALE OF HALLUCIGEN/NARCOTIC SUBSTANCE  F  2019\n",
            "5351759 2019-04-30  HISPANIC  ...  INJURY OR RISK OF INJURY TO MINOR      F  2019\n",
            "5351764 2019-05-07  HISPANIC  ...  SEXUAL ASSAULT 1ST DEGREE-AGGRVTD      F  2019\n",
            "5351770 2019-10-24  HISPANIC  ...  ASSAULT, FIRST DEGREE                 BF  2019\n",
            "\n",
            "[292270 rows x 7 columns]>\n"
          ],
          "name": "stdout"
        }
      ]
    },
    {
      "cell_type": "code",
      "metadata": {
        "colab": {
          "base_uri": "https://localhost:8080/"
        },
        "id": "aN1noY3FupSk",
        "outputId": "399aed75-ce5d-4c42-f1cf-eb8a94ad1fda"
      },
      "source": [
        "# Percent with bail over $5000\n",
        "292270/303390 * 100"
      ],
      "execution_count": null,
      "outputs": [
        {
          "output_type": "execute_result",
          "data": {
            "text/plain": [
              "96.33475065097728"
            ]
          },
          "metadata": {
            "tags": []
          },
          "execution_count": 192
        }
      ]
    },
    {
      "cell_type": "code",
      "metadata": {
        "colab": {
          "base_uri": "https://localhost:8080/"
        },
        "id": "VaSmUpEyupbu",
        "outputId": "66521059-9e9c-47d9-e3c3-da1600538fd8"
      },
      "source": [
        "df_2019H10 = df_2019H[df_2019H[\"Bond\"] >= 10000]\n",
        "print(df_2019H10.value_counts)"
      ],
      "execution_count": null,
      "outputs": [
        {
          "output_type": "stream",
          "text": [
            "<bound method DataFrame.value_counts of               Date      RACE  ...                                   OFFENSE  Year\n",
            "1       2019-03-28  HISPANIC  ...     VIOLATION OF PROBATION OR COND DISCHG  2019\n",
            "18      2019-12-24  HISPANIC  ...  LARCENY, FIRST DEGREE                 BF  2019\n",
            "25      2019-11-26  HISPANIC  ...  FORGERY, FIRST DEGREE                 CF  2019\n",
            "32      2019-08-19  HISPANIC  ...  CRIM VIOL OF PROTECTIVE ORDER         DF  2019\n",
            "45      2019-12-30  HISPANIC  ...  LARCENY, FIRST DEGREE                 BF  2019\n",
            "...            ...       ...  ...                                       ...   ...\n",
            "5351709 2019-10-15  HISPANIC  ...                          CRIMINAL ATTEMPT  2019\n",
            "5351717 2019-09-13  HISPANIC  ...  SALE OF HALLUCIGEN/NARCOTIC SUBSTANCE  F  2019\n",
            "5351759 2019-04-30  HISPANIC  ...  INJURY OR RISK OF INJURY TO MINOR      F  2019\n",
            "5351764 2019-05-07  HISPANIC  ...  SEXUAL ASSAULT 1ST DEGREE-AGGRVTD      F  2019\n",
            "5351770 2019-10-24  HISPANIC  ...  ASSAULT, FIRST DEGREE                 BF  2019\n",
            "\n",
            "[283292 rows x 7 columns]>\n"
          ],
          "name": "stdout"
        }
      ]
    },
    {
      "cell_type": "code",
      "metadata": {
        "colab": {
          "base_uri": "https://localhost:8080/"
        },
        "id": "qSrjTq46upfW",
        "outputId": "f32dbf9b-19b3-48e2-862b-2c930db70eaf"
      },
      "source": [
        "# Percent with bail over $10000\n",
        "283292/303390 * 100"
      ],
      "execution_count": null,
      "outputs": [
        {
          "output_type": "execute_result",
          "data": {
            "text/plain": [
              "93.37552325389763"
            ]
          },
          "metadata": {
            "tags": []
          },
          "execution_count": 194
        }
      ]
    },
    {
      "cell_type": "code",
      "metadata": {
        "colab": {
          "base_uri": "https://localhost:8080/"
        },
        "id": "w1YM3ImxupoY",
        "outputId": "c7556db9-e7c4-4a9a-a87c-4b122eb40f86"
      },
      "source": [
        "df_2019H50 = df_2019H[df_2019H[\"Bond\"] >= 50000]\n",
        "print(df_2019H50.value_counts)"
      ],
      "execution_count": null,
      "outputs": [
        {
          "output_type": "stream",
          "text": [
            "<bound method DataFrame.value_counts of               Date      RACE  ...                                   OFFENSE  Year\n",
            "18      2019-12-24  HISPANIC  ...  LARCENY, FIRST DEGREE                 BF  2019\n",
            "32      2019-08-19  HISPANIC  ...  CRIM VIOL OF PROTECTIVE ORDER         DF  2019\n",
            "45      2019-12-30  HISPANIC  ...  LARCENY, FIRST DEGREE                 BF  2019\n",
            "51      2019-06-10  HISPANIC  ...  SEXUAL ASSAULT 1ST DEGREE-AGGRVTD      F  2019\n",
            "55      2019-10-15  HISPANIC  ...  INJURY OR RISK OF INJURY TO MINOR      F  2019\n",
            "...            ...       ...  ...                                       ...   ...\n",
            "5351709 2019-10-15  HISPANIC  ...                          CRIMINAL ATTEMPT  2019\n",
            "5351717 2019-09-13  HISPANIC  ...  SALE OF HALLUCIGEN/NARCOTIC SUBSTANCE  F  2019\n",
            "5351759 2019-04-30  HISPANIC  ...  INJURY OR RISK OF INJURY TO MINOR      F  2019\n",
            "5351764 2019-05-07  HISPANIC  ...  SEXUAL ASSAULT 1ST DEGREE-AGGRVTD      F  2019\n",
            "5351770 2019-10-24  HISPANIC  ...  ASSAULT, FIRST DEGREE                 BF  2019\n",
            "\n",
            "[226407 rows x 7 columns]>\n"
          ],
          "name": "stdout"
        }
      ]
    },
    {
      "cell_type": "code",
      "metadata": {
        "colab": {
          "base_uri": "https://localhost:8080/"
        },
        "id": "ff4MAhhvuprj",
        "outputId": "fc5d79e6-eb97-4b44-f199-a2df10363a40"
      },
      "source": [
        "# Percent with bail over $50000\n",
        "226407/303390 * 100"
      ],
      "execution_count": null,
      "outputs": [
        {
          "output_type": "execute_result",
          "data": {
            "text/plain": [
              "74.62572925936914"
            ]
          },
          "metadata": {
            "tags": []
          },
          "execution_count": 196
        }
      ]
    },
    {
      "cell_type": "code",
      "metadata": {
        "colab": {
          "base_uri": "https://localhost:8080/"
        },
        "id": "GLIEn0Bnup3G",
        "outputId": "3ac4aba2-e03c-4c7b-941b-806adb1dec39"
      },
      "source": [
        "df_2019H100 = df_2019H[df_2019H[\"Bond\"] >= 100000]\n",
        "print(df_2019H100.value_counts)"
      ],
      "execution_count": null,
      "outputs": [
        {
          "output_type": "stream",
          "text": [
            "<bound method DataFrame.value_counts of               Date      RACE  ...                                   OFFENSE  Year\n",
            "18      2019-12-24  HISPANIC  ...  LARCENY, FIRST DEGREE                 BF  2019\n",
            "32      2019-08-19  HISPANIC  ...  CRIM VIOL OF PROTECTIVE ORDER         DF  2019\n",
            "45      2019-12-30  HISPANIC  ...  LARCENY, FIRST DEGREE                 BF  2019\n",
            "51      2019-06-10  HISPANIC  ...  SEXUAL ASSAULT 1ST DEGREE-AGGRVTD      F  2019\n",
            "68      2019-11-18  HISPANIC  ...  SEXUAL ASSAULT, FIRST DEGREE           F  2019\n",
            "...            ...       ...  ...                                       ...   ...\n",
            "5351709 2019-10-15  HISPANIC  ...                          CRIMINAL ATTEMPT  2019\n",
            "5351717 2019-09-13  HISPANIC  ...  SALE OF HALLUCIGEN/NARCOTIC SUBSTANCE  F  2019\n",
            "5351759 2019-04-30  HISPANIC  ...  INJURY OR RISK OF INJURY TO MINOR      F  2019\n",
            "5351764 2019-05-07  HISPANIC  ...  SEXUAL ASSAULT 1ST DEGREE-AGGRVTD      F  2019\n",
            "5351770 2019-10-24  HISPANIC  ...  ASSAULT, FIRST DEGREE                 BF  2019\n",
            "\n",
            "[180688 rows x 7 columns]>\n"
          ],
          "name": "stdout"
        }
      ]
    },
    {
      "cell_type": "code",
      "metadata": {
        "colab": {
          "base_uri": "https://localhost:8080/"
        },
        "id": "iSu94LDQup90",
        "outputId": "64e79b81-1961-4f07-c0d9-57d2b2b39864"
      },
      "source": [
        "# Percent with bail over $100000\n",
        "180688/303390 * 100"
      ],
      "execution_count": null,
      "outputs": [
        {
          "output_type": "execute_result",
          "data": {
            "text/plain": [
              "59.55634661656614"
            ]
          },
          "metadata": {
            "tags": []
          },
          "execution_count": 198
        }
      ]
    },
    {
      "cell_type": "markdown",
      "metadata": {
        "id": "6zKn8C6yunEI"
      },
      "source": [
        "**Asian 2019**"
      ]
    },
    {
      "cell_type": "code",
      "metadata": {
        "colab": {
          "base_uri": "https://localhost:8080/"
        },
        "id": "cTJwEJlCqLh4",
        "outputId": "de0efe4c-6ab6-43d9-a11a-ad586647c31b"
      },
      "source": [
        "df_2019A = df_2019[(df_2019[\"RACE\"] == 'ASIAN')]\n",
        "df_2019A.value_counts"
      ],
      "execution_count": null,
      "outputs": [
        {
          "output_type": "execute_result",
          "data": {
            "text/plain": [
              "<bound method DataFrame.value_counts of               Date   RACE  ...                                   OFFENSE  Year\n",
              "37      2019-11-15  ASIAN  ...     VIOLATION OF PROBATION OR COND DISCHG  2019\n",
              "1934    2019-12-26  ASIAN  ...  STRANGULATION 2ND DEGREE              DF  2019\n",
              "2344    2019-06-17  ASIAN  ...  LARCENY, FIRST DEGREE                 BF  2019\n",
              "2706    2019-05-08  ASIAN  ...  INJURY OR RISK OF INJURY TO MINOR      F  2019\n",
              "2864736 2019-01-03  ASIAN  ...  SALE OF CONTROLLED SUBSTANCE           F  2019\n",
              "...            ...    ...  ...                                       ...   ...\n",
              "5345487 2019-12-26  ASIAN  ...  STRANGULATION 2ND DEGREE              DF  2019\n",
              "5347730 2019-05-17  ASIAN  ...  BURGLARY, THIRD DEGREE                DF  2019\n",
              "5347743 2019-12-26  ASIAN  ...  STRANGULATION 2ND DEGREE              DF  2019\n",
              "5349091 2019-05-17  ASIAN  ...  BURGLARY, THIRD DEGREE                DF  2019\n",
              "5350551 2019-12-26  ASIAN  ...  STRANGULATION 2ND DEGREE              DF  2019\n",
              "\n",
              "[6347 rows x 7 columns]>"
            ]
          },
          "metadata": {
            "tags": []
          },
          "execution_count": 164
        }
      ]
    },
    {
      "cell_type": "code",
      "metadata": {
        "colab": {
          "base_uri": "https://localhost:8080/"
        },
        "id": "xqjVqm5jsAIK",
        "outputId": "3a8c5098-7125-4e1c-8f44-f7d699fd701b"
      },
      "source": [
        "6347/1102431 *100"
      ],
      "execution_count": null,
      "outputs": [
        {
          "output_type": "execute_result",
          "data": {
            "text/plain": [
              "0.5757276419113759"
            ]
          },
          "metadata": {
            "tags": []
          },
          "execution_count": 165
        }
      ]
    },
    {
      "cell_type": "code",
      "metadata": {
        "colab": {
          "base_uri": "https://localhost:8080/"
        },
        "id": "RXZaJWfvxf90",
        "outputId": "f8f2b5cc-03bd-4840-9b12-324ae78a6cdd"
      },
      "source": [
        "df_2019A1 = df_2019A[df_2019A[\"Bond\"] >= 1000]\n",
        "print(df_2019A1.value_counts)"
      ],
      "execution_count": null,
      "outputs": [
        {
          "output_type": "stream",
          "text": [
            "<bound method DataFrame.value_counts of               Date   RACE  ...                                   OFFENSE  Year\n",
            "37      2019-11-15  ASIAN  ...     VIOLATION OF PROBATION OR COND DISCHG  2019\n",
            "1934    2019-12-26  ASIAN  ...  STRANGULATION 2ND DEGREE              DF  2019\n",
            "2344    2019-06-17  ASIAN  ...  LARCENY, FIRST DEGREE                 BF  2019\n",
            "2706    2019-05-08  ASIAN  ...  INJURY OR RISK OF INJURY TO MINOR      F  2019\n",
            "2864736 2019-01-03  ASIAN  ...  SALE OF CONTROLLED SUBSTANCE           F  2019\n",
            "...            ...    ...  ...                                       ...   ...\n",
            "5345487 2019-12-26  ASIAN  ...  STRANGULATION 2ND DEGREE              DF  2019\n",
            "5347730 2019-05-17  ASIAN  ...  BURGLARY, THIRD DEGREE                DF  2019\n",
            "5347743 2019-12-26  ASIAN  ...  STRANGULATION 2ND DEGREE              DF  2019\n",
            "5349091 2019-05-17  ASIAN  ...  BURGLARY, THIRD DEGREE                DF  2019\n",
            "5350551 2019-12-26  ASIAN  ...  STRANGULATION 2ND DEGREE              DF  2019\n",
            "\n",
            "[6308 rows x 7 columns]>\n"
          ],
          "name": "stdout"
        }
      ]
    },
    {
      "cell_type": "code",
      "metadata": {
        "colab": {
          "base_uri": "https://localhost:8080/"
        },
        "id": "TDg6X3_wxgTd",
        "outputId": "9c948c46-eedb-4f8a-d852-6c8167a65346"
      },
      "source": [
        "# Percent with bail over $1000\n",
        "6308/6347 * 100"
      ],
      "execution_count": null,
      "outputs": [
        {
          "output_type": "execute_result",
          "data": {
            "text/plain": [
              "99.38553647392469"
            ]
          },
          "metadata": {
            "tags": []
          },
          "execution_count": 200
        }
      ]
    },
    {
      "cell_type": "code",
      "metadata": {
        "colab": {
          "base_uri": "https://localhost:8080/"
        },
        "id": "kL4-9pXkxgcg",
        "outputId": "96bffb38-0847-49fa-bda7-96d0fa42a566"
      },
      "source": [
        "df_2019A5 = df_2019A[df_2019A[\"Bond\"] >= 5000]\n",
        "print(df_2019A5.value_counts)"
      ],
      "execution_count": null,
      "outputs": [
        {
          "output_type": "stream",
          "text": [
            "<bound method DataFrame.value_counts of               Date   RACE  ...                                   OFFENSE  Year\n",
            "37      2019-11-15  ASIAN  ...     VIOLATION OF PROBATION OR COND DISCHG  2019\n",
            "1934    2019-12-26  ASIAN  ...  STRANGULATION 2ND DEGREE              DF  2019\n",
            "2344    2019-06-17  ASIAN  ...  LARCENY, FIRST DEGREE                 BF  2019\n",
            "2706    2019-05-08  ASIAN  ...  INJURY OR RISK OF INJURY TO MINOR      F  2019\n",
            "2864736 2019-01-03  ASIAN  ...  SALE OF CONTROLLED SUBSTANCE           F  2019\n",
            "...            ...    ...  ...                                       ...   ...\n",
            "5345487 2019-12-26  ASIAN  ...  STRANGULATION 2ND DEGREE              DF  2019\n",
            "5347730 2019-05-17  ASIAN  ...  BURGLARY, THIRD DEGREE                DF  2019\n",
            "5347743 2019-12-26  ASIAN  ...  STRANGULATION 2ND DEGREE              DF  2019\n",
            "5349091 2019-05-17  ASIAN  ...  BURGLARY, THIRD DEGREE                DF  2019\n",
            "5350551 2019-12-26  ASIAN  ...  STRANGULATION 2ND DEGREE              DF  2019\n",
            "\n",
            "[5851 rows x 7 columns]>\n"
          ],
          "name": "stdout"
        }
      ]
    },
    {
      "cell_type": "code",
      "metadata": {
        "colab": {
          "base_uri": "https://localhost:8080/"
        },
        "id": "35mmn5nsxgkI",
        "outputId": "c4800f16-9487-431e-df50-1fa22cd940c1"
      },
      "source": [
        "# Percent with bail over $5000\n",
        "5851/6347 * 100"
      ],
      "execution_count": null,
      "outputs": [
        {
          "output_type": "execute_result",
          "data": {
            "text/plain": [
              "92.18528438632426"
            ]
          },
          "metadata": {
            "tags": []
          },
          "execution_count": 202
        }
      ]
    },
    {
      "cell_type": "code",
      "metadata": {
        "colab": {
          "base_uri": "https://localhost:8080/"
        },
        "id": "J2tEjNAoxgrg",
        "outputId": "97684dc6-93d8-4bd4-ad1d-d6f8668af4de"
      },
      "source": [
        "df_2019A10 = df_2019A[df_2019A[\"Bond\"] >= 10000]\n",
        "print(df_2019A10.value_counts)"
      ],
      "execution_count": null,
      "outputs": [
        {
          "output_type": "stream",
          "text": [
            "<bound method DataFrame.value_counts of               Date   RACE  ...                                   OFFENSE  Year\n",
            "37      2019-11-15  ASIAN  ...     VIOLATION OF PROBATION OR COND DISCHG  2019\n",
            "1934    2019-12-26  ASIAN  ...  STRANGULATION 2ND DEGREE              DF  2019\n",
            "2344    2019-06-17  ASIAN  ...  LARCENY, FIRST DEGREE                 BF  2019\n",
            "2706    2019-05-08  ASIAN  ...  INJURY OR RISK OF INJURY TO MINOR      F  2019\n",
            "2864736 2019-01-03  ASIAN  ...  SALE OF CONTROLLED SUBSTANCE           F  2019\n",
            "...            ...    ...  ...                                       ...   ...\n",
            "5345487 2019-12-26  ASIAN  ...  STRANGULATION 2ND DEGREE              DF  2019\n",
            "5347730 2019-05-17  ASIAN  ...  BURGLARY, THIRD DEGREE                DF  2019\n",
            "5347743 2019-12-26  ASIAN  ...  STRANGULATION 2ND DEGREE              DF  2019\n",
            "5349091 2019-05-17  ASIAN  ...  BURGLARY, THIRD DEGREE                DF  2019\n",
            "5350551 2019-12-26  ASIAN  ...  STRANGULATION 2ND DEGREE              DF  2019\n",
            "\n",
            "[5477 rows x 7 columns]>\n"
          ],
          "name": "stdout"
        }
      ]
    },
    {
      "cell_type": "code",
      "metadata": {
        "colab": {
          "base_uri": "https://localhost:8080/"
        },
        "id": "IjFNwoGXxgyB",
        "outputId": "c534aca6-7ee5-401a-8776-b4dedd2f3eab"
      },
      "source": [
        "# Percent with bail over $10000\n",
        "5477/6347 * 100"
      ],
      "execution_count": null,
      "outputs": [
        {
          "output_type": "execute_result",
          "data": {
            "text/plain": [
              "86.2927367260123"
            ]
          },
          "metadata": {
            "tags": []
          },
          "execution_count": 204
        }
      ]
    },
    {
      "cell_type": "code",
      "metadata": {
        "colab": {
          "base_uri": "https://localhost:8080/"
        },
        "id": "kDvtUZPlxg48",
        "outputId": "081e565a-97d5-4072-9d47-beb50528f372"
      },
      "source": [
        "df_2019A50 = df_2019A[df_2019A[\"Bond\"] >= 50000]\n",
        "print(df_2019A50.value_counts)"
      ],
      "execution_count": null,
      "outputs": [
        {
          "output_type": "stream",
          "text": [
            "<bound method DataFrame.value_counts of               Date   RACE  ...                                   OFFENSE  Year\n",
            "1934    2019-12-26  ASIAN  ...  STRANGULATION 2ND DEGREE              DF  2019\n",
            "2344    2019-06-17  ASIAN  ...  LARCENY, FIRST DEGREE                 BF  2019\n",
            "2706    2019-05-08  ASIAN  ...  INJURY OR RISK OF INJURY TO MINOR      F  2019\n",
            "2864736 2019-01-03  ASIAN  ...  SALE OF CONTROLLED SUBSTANCE           F  2019\n",
            "2867631 2019-01-03  ASIAN  ...  SALE OF CONTROLLED SUBSTANCE           F  2019\n",
            "...            ...    ...  ...                                       ...   ...\n",
            "5338423 2019-12-26  ASIAN  ...  STRANGULATION 2ND DEGREE              DF  2019\n",
            "5340417 2019-12-26  ASIAN  ...  STRANGULATION 2ND DEGREE              DF  2019\n",
            "5345487 2019-12-26  ASIAN  ...  STRANGULATION 2ND DEGREE              DF  2019\n",
            "5347743 2019-12-26  ASIAN  ...  STRANGULATION 2ND DEGREE              DF  2019\n",
            "5350551 2019-12-26  ASIAN  ...  STRANGULATION 2ND DEGREE              DF  2019\n",
            "\n",
            "[4286 rows x 7 columns]>\n"
          ],
          "name": "stdout"
        }
      ]
    },
    {
      "cell_type": "code",
      "metadata": {
        "colab": {
          "base_uri": "https://localhost:8080/"
        },
        "id": "MKO1FJHWxg-0",
        "outputId": "238d2411-7f8b-4ebb-fb77-0bc7d579a014"
      },
      "source": [
        "# Percent with bail over $50000\n",
        "4286/6347 * 100"
      ],
      "execution_count": null,
      "outputs": [
        {
          "output_type": "execute_result",
          "data": {
            "text/plain": [
              "67.52796596817394"
            ]
          },
          "metadata": {
            "tags": []
          },
          "execution_count": 206
        }
      ]
    },
    {
      "cell_type": "code",
      "metadata": {
        "colab": {
          "base_uri": "https://localhost:8080/"
        },
        "id": "0Cu_AVA-xhFD",
        "outputId": "c084f5bf-b7aa-4b7e-8fb4-2670d3fb41ae"
      },
      "source": [
        "df_2019A100 = df_2019A[df_2019A[\"Bond\"] >= 100000]\n",
        "print(df_2019A100.value_counts)"
      ],
      "execution_count": null,
      "outputs": [
        {
          "output_type": "stream",
          "text": [
            "<bound method DataFrame.value_counts of               Date   RACE  ...                                   OFFENSE  Year\n",
            "2706    2019-05-08  ASIAN  ...  INJURY OR RISK OF INJURY TO MINOR      F  2019\n",
            "2864736 2019-01-03  ASIAN  ...  SALE OF CONTROLLED SUBSTANCE           F  2019\n",
            "2867631 2019-01-03  ASIAN  ...  SALE OF CONTROLLED SUBSTANCE           F  2019\n",
            "2873569 2019-01-03  ASIAN  ...  SALE OF CONTROLLED SUBSTANCE           F  2019\n",
            "2877446 2019-01-03  ASIAN  ...  SALE OF CONTROLLED SUBSTANCE           F  2019\n",
            "...            ...    ...  ...                                       ...   ...\n",
            "4542761 2019-05-08  ASIAN  ...  INJURY OR RISK OF INJURY TO MINOR      F  2019\n",
            "4545526 2019-05-08  ASIAN  ...  INJURY OR RISK OF INJURY TO MINOR      F  2019\n",
            "4548340 2019-05-08  ASIAN  ...  INJURY OR RISK OF INJURY TO MINOR      F  2019\n",
            "4550796 2019-05-08  ASIAN  ...  INJURY OR RISK OF INJURY TO MINOR      F  2019\n",
            "5067905 2019-05-08  ASIAN  ...  INJURY OR RISK OF INJURY TO MINOR      F  2019\n",
            "\n",
            "[2580 rows x 7 columns]>\n"
          ],
          "name": "stdout"
        }
      ]
    },
    {
      "cell_type": "code",
      "metadata": {
        "colab": {
          "base_uri": "https://localhost:8080/"
        },
        "id": "-Z1LwtIOxhKf",
        "outputId": "131cf60d-827f-4492-f31e-dc09441c5ea6"
      },
      "source": [
        "# Percent with bail over $100000\n",
        "2580/6347 * 100"
      ],
      "execution_count": null,
      "outputs": [
        {
          "output_type": "execute_result",
          "data": {
            "text/plain": [
              "40.64912557113597"
            ]
          },
          "metadata": {
            "tags": []
          },
          "execution_count": 208
        }
      ]
    },
    {
      "cell_type": "markdown",
      "metadata": {
        "id": "93GnFU_4xdXg"
      },
      "source": [
        "**Native American 2019**"
      ]
    },
    {
      "cell_type": "code",
      "metadata": {
        "colab": {
          "base_uri": "https://localhost:8080/"
        },
        "id": "INQWG-LpqLlL",
        "outputId": "71ffabc0-4c3f-482c-a0d6-bd02da1989e6"
      },
      "source": [
        "df_2019NA = df_2019[(df_2019[\"RACE\"] == 'AMER IND')]\n",
        "df_2019NA.value_counts"
      ],
      "execution_count": null,
      "outputs": [
        {
          "output_type": "execute_result",
          "data": {
            "text/plain": [
              "<bound method DataFrame.value_counts of               Date      RACE  ...                                   OFFENSE  Year\n",
              "855     2019-01-18  AMER IND  ...  HOME INVASION                         AF  2019\n",
              "2200    2019-04-11  AMER IND  ...                                CONSPIRACY  2019\n",
              "2860277 2019-01-02  AMER IND  ...     VIOLATION OF PROBATION OR COND DISCHG  2019\n",
              "2864385 2019-01-02  AMER IND  ...     VIOLATION OF PROBATION OR COND DISCHG  2019\n",
              "2869563 2019-01-02  AMER IND  ...     VIOLATION OF PROBATION OR COND DISCHG  2019\n",
              "...            ...       ...  ...                                       ...   ...\n",
              "4995620 2019-01-18  AMER IND  ...  HOME INVASION                         AF  2019\n",
              "4998688 2019-01-18  AMER IND  ...  HOME INVASION                         AF  2019\n",
              "5001414 2019-01-18  AMER IND  ...  HOME INVASION                         AF  2019\n",
              "5067467 2019-01-18  AMER IND  ...  HOME INVASION                         AF  2019\n",
              "5068408 2019-04-11  AMER IND  ...                                CONSPIRACY  2019\n",
              "\n",
              "[2802 rows x 7 columns]>"
            ]
          },
          "metadata": {
            "tags": []
          },
          "execution_count": 166
        }
      ]
    },
    {
      "cell_type": "code",
      "metadata": {
        "colab": {
          "base_uri": "https://localhost:8080/"
        },
        "id": "5YzHIUE5qLtI",
        "outputId": "5c9161aa-48c7-4a9d-a85d-6117ceadc6c0"
      },
      "source": [
        "2802/1102431 *100"
      ],
      "execution_count": null,
      "outputs": [
        {
          "output_type": "execute_result",
          "data": {
            "text/plain": [
              "0.2541655668245904"
            ]
          },
          "metadata": {
            "tags": []
          },
          "execution_count": 167
        }
      ]
    },
    {
      "cell_type": "code",
      "metadata": {
        "colab": {
          "base_uri": "https://localhost:8080/"
        },
        "id": "3dqoZdF1qLyo",
        "outputId": "0c038af0-d4a5-41ca-bba7-33e1cb5b7b60"
      },
      "source": [
        "df_2019NA1 = df_2019NA[df_2019NA[\"Bond\"] >= 1000]\n",
        "print(df_2019NA1.value_counts)"
      ],
      "execution_count": null,
      "outputs": [
        {
          "output_type": "stream",
          "text": [
            "<bound method DataFrame.value_counts of               Date      RACE  ...                                   OFFENSE  Year\n",
            "855     2019-01-18  AMER IND  ...  HOME INVASION                         AF  2019\n",
            "2200    2019-04-11  AMER IND  ...                                CONSPIRACY  2019\n",
            "2860277 2019-01-02  AMER IND  ...     VIOLATION OF PROBATION OR COND DISCHG  2019\n",
            "2864385 2019-01-02  AMER IND  ...     VIOLATION OF PROBATION OR COND DISCHG  2019\n",
            "2869563 2019-01-02  AMER IND  ...     VIOLATION OF PROBATION OR COND DISCHG  2019\n",
            "...            ...       ...  ...                                       ...   ...\n",
            "4995620 2019-01-18  AMER IND  ...  HOME INVASION                         AF  2019\n",
            "4998688 2019-01-18  AMER IND  ...  HOME INVASION                         AF  2019\n",
            "5001414 2019-01-18  AMER IND  ...  HOME INVASION                         AF  2019\n",
            "5067467 2019-01-18  AMER IND  ...  HOME INVASION                         AF  2019\n",
            "5068408 2019-04-11  AMER IND  ...                                CONSPIRACY  2019\n",
            "\n",
            "[2802 rows x 7 columns]>\n"
          ],
          "name": "stdout"
        }
      ]
    },
    {
      "cell_type": "code",
      "metadata": {
        "colab": {
          "base_uri": "https://localhost:8080/"
        },
        "id": "7H9_TVNjyUqB",
        "outputId": "e651a76b-5eed-442e-83bb-21ee0683ae74"
      },
      "source": [
        "# Percent with bail over $1000\n",
        "2802/2802 * 100"
      ],
      "execution_count": null,
      "outputs": [
        {
          "output_type": "execute_result",
          "data": {
            "text/plain": [
              "100.0"
            ]
          },
          "metadata": {
            "tags": []
          },
          "execution_count": 210
        }
      ]
    },
    {
      "cell_type": "code",
      "metadata": {
        "colab": {
          "base_uri": "https://localhost:8080/"
        },
        "id": "JTJva9YNyU1P",
        "outputId": "37e4761c-e0ce-447d-cc8c-c2c0bc3c3d29"
      },
      "source": [
        "df_2019NA5 = df_2019NA[df_2019NA[\"Bond\"] >= 5000]\n",
        "print(df_2019NA5.value_counts)"
      ],
      "execution_count": null,
      "outputs": [
        {
          "output_type": "stream",
          "text": [
            "<bound method DataFrame.value_counts of               Date      RACE  ...                                   OFFENSE  Year\n",
            "855     2019-01-18  AMER IND  ...  HOME INVASION                         AF  2019\n",
            "2200    2019-04-11  AMER IND  ...                                CONSPIRACY  2019\n",
            "2860277 2019-01-02  AMER IND  ...     VIOLATION OF PROBATION OR COND DISCHG  2019\n",
            "2864385 2019-01-02  AMER IND  ...     VIOLATION OF PROBATION OR COND DISCHG  2019\n",
            "2869563 2019-01-02  AMER IND  ...     VIOLATION OF PROBATION OR COND DISCHG  2019\n",
            "...            ...       ...  ...                                       ...   ...\n",
            "4995620 2019-01-18  AMER IND  ...  HOME INVASION                         AF  2019\n",
            "4998688 2019-01-18  AMER IND  ...  HOME INVASION                         AF  2019\n",
            "5001414 2019-01-18  AMER IND  ...  HOME INVASION                         AF  2019\n",
            "5067467 2019-01-18  AMER IND  ...  HOME INVASION                         AF  2019\n",
            "5068408 2019-04-11  AMER IND  ...                                CONSPIRACY  2019\n",
            "\n",
            "[2802 rows x 7 columns]>\n"
          ],
          "name": "stdout"
        }
      ]
    },
    {
      "cell_type": "code",
      "metadata": {
        "colab": {
          "base_uri": "https://localhost:8080/"
        },
        "id": "IAKTAWzdyU_e",
        "outputId": "bb341e7d-8900-46da-827c-f549d0082614"
      },
      "source": [
        "# Percent with bail over $5000\n",
        "2802/2802 * 100"
      ],
      "execution_count": null,
      "outputs": [
        {
          "output_type": "execute_result",
          "data": {
            "text/plain": [
              "100.0"
            ]
          },
          "metadata": {
            "tags": []
          },
          "execution_count": 212
        }
      ]
    },
    {
      "cell_type": "code",
      "metadata": {
        "colab": {
          "base_uri": "https://localhost:8080/"
        },
        "id": "AB1AkoIkyVHU",
        "outputId": "a89e2210-b923-4bc0-f911-9691de440b51"
      },
      "source": [
        "df_2019NA10 = df_2019NA[df_2019NA[\"Bond\"] >= 10000]\n",
        "print(df_2019NA10.value_counts)"
      ],
      "execution_count": null,
      "outputs": [
        {
          "output_type": "stream",
          "text": [
            "<bound method DataFrame.value_counts of               Date      RACE  ...                                   OFFENSE  Year\n",
            "855     2019-01-18  AMER IND  ...  HOME INVASION                         AF  2019\n",
            "2200    2019-04-11  AMER IND  ...                                CONSPIRACY  2019\n",
            "2860277 2019-01-02  AMER IND  ...     VIOLATION OF PROBATION OR COND DISCHG  2019\n",
            "2864385 2019-01-02  AMER IND  ...     VIOLATION OF PROBATION OR COND DISCHG  2019\n",
            "2869563 2019-01-02  AMER IND  ...     VIOLATION OF PROBATION OR COND DISCHG  2019\n",
            "...            ...       ...  ...                                       ...   ...\n",
            "4995620 2019-01-18  AMER IND  ...  HOME INVASION                         AF  2019\n",
            "4998688 2019-01-18  AMER IND  ...  HOME INVASION                         AF  2019\n",
            "5001414 2019-01-18  AMER IND  ...  HOME INVASION                         AF  2019\n",
            "5067467 2019-01-18  AMER IND  ...  HOME INVASION                         AF  2019\n",
            "5068408 2019-04-11  AMER IND  ...                                CONSPIRACY  2019\n",
            "\n",
            "[2801 rows x 7 columns]>\n"
          ],
          "name": "stdout"
        }
      ]
    },
    {
      "cell_type": "code",
      "metadata": {
        "colab": {
          "base_uri": "https://localhost:8080/"
        },
        "id": "4gB_D80kyVNy",
        "outputId": "5229632c-eebd-4636-df6a-490af8ce7ae1"
      },
      "source": [
        "# Percent with bail over $10000\n",
        "2801/2802 * 100"
      ],
      "execution_count": null,
      "outputs": [
        {
          "output_type": "execute_result",
          "data": {
            "text/plain": [
              "99.96431120628124"
            ]
          },
          "metadata": {
            "tags": []
          },
          "execution_count": 214
        }
      ]
    },
    {
      "cell_type": "code",
      "metadata": {
        "colab": {
          "base_uri": "https://localhost:8080/"
        },
        "id": "f4TaZ_tbyVT4",
        "outputId": "ac1a979c-4d4c-41a4-a60e-94bea3983ca4"
      },
      "source": [
        "df_2019NA50 = df_2019NA[df_2019NA[\"Bond\"] >= 50000]\n",
        "print(df_2019NA50.value_counts)"
      ],
      "execution_count": null,
      "outputs": [
        {
          "output_type": "stream",
          "text": [
            "<bound method DataFrame.value_counts of               Date      RACE  ...                                   OFFENSE  Year\n",
            "855     2019-01-18  AMER IND  ...  HOME INVASION                         AF  2019\n",
            "2200    2019-04-11  AMER IND  ...                                CONSPIRACY  2019\n",
            "2860277 2019-01-02  AMER IND  ...     VIOLATION OF PROBATION OR COND DISCHG  2019\n",
            "2864385 2019-01-02  AMER IND  ...     VIOLATION OF PROBATION OR COND DISCHG  2019\n",
            "2869563 2019-01-02  AMER IND  ...     VIOLATION OF PROBATION OR COND DISCHG  2019\n",
            "...            ...       ...  ...                                       ...   ...\n",
            "4995620 2019-01-18  AMER IND  ...  HOME INVASION                         AF  2019\n",
            "4998688 2019-01-18  AMER IND  ...  HOME INVASION                         AF  2019\n",
            "5001414 2019-01-18  AMER IND  ...  HOME INVASION                         AF  2019\n",
            "5067467 2019-01-18  AMER IND  ...  HOME INVASION                         AF  2019\n",
            "5068408 2019-04-11  AMER IND  ...                                CONSPIRACY  2019\n",
            "\n",
            "[2236 rows x 7 columns]>\n"
          ],
          "name": "stdout"
        }
      ]
    },
    {
      "cell_type": "code",
      "metadata": {
        "colab": {
          "base_uri": "https://localhost:8080/"
        },
        "id": "yiK0fh6WyVZG",
        "outputId": "2fbf5b61-8863-4734-ce70-df2c162330be"
      },
      "source": [
        "# Percent with bail over $50000\n",
        "2236/2802 * 100"
      ],
      "execution_count": null,
      "outputs": [
        {
          "output_type": "execute_result",
          "data": {
            "text/plain": [
              "79.80014275517487"
            ]
          },
          "metadata": {
            "tags": []
          },
          "execution_count": 216
        }
      ]
    },
    {
      "cell_type": "code",
      "metadata": {
        "colab": {
          "base_uri": "https://localhost:8080/"
        },
        "id": "4PYc7bKdqMFD",
        "outputId": "46703dcb-192b-4b31-97dc-5cd22d125f5f"
      },
      "source": [
        "df_2019NA100 = df_2019NA[df_2019NA[\"Bond\"] >= 100000]\n",
        "print(df_2019NA100.value_counts)"
      ],
      "execution_count": null,
      "outputs": [
        {
          "output_type": "stream",
          "text": [
            "<bound method DataFrame.value_counts of               Date      RACE  ...                                   OFFENSE  Year\n",
            "855     2019-01-18  AMER IND  ...  HOME INVASION                         AF  2019\n",
            "2200    2019-04-11  AMER IND  ...                                CONSPIRACY  2019\n",
            "2917649 2019-01-18  AMER IND  ...  HOME INVASION                         AF  2019\n",
            "2923660 2019-01-18  AMER IND  ...  HOME INVASION                         AF  2019\n",
            "2924483 2019-01-18  AMER IND  ...  HOME INVASION                         AF  2019\n",
            "...            ...       ...  ...                                       ...   ...\n",
            "4995620 2019-01-18  AMER IND  ...  HOME INVASION                         AF  2019\n",
            "4998688 2019-01-18  AMER IND  ...  HOME INVASION                         AF  2019\n",
            "5001414 2019-01-18  AMER IND  ...  HOME INVASION                         AF  2019\n",
            "5067467 2019-01-18  AMER IND  ...  HOME INVASION                         AF  2019\n",
            "5068408 2019-04-11  AMER IND  ...                                CONSPIRACY  2019\n",
            "\n",
            "[1343 rows x 7 columns]>\n"
          ],
          "name": "stdout"
        }
      ]
    },
    {
      "cell_type": "code",
      "metadata": {
        "colab": {
          "base_uri": "https://localhost:8080/"
        },
        "id": "97rVly4oqMJ9",
        "outputId": "5cab9cee-7f94-4f85-b2f1-272dceedc572"
      },
      "source": [
        "# Percent with bail over $100000\n",
        "1343/2802 * 100"
      ],
      "execution_count": null,
      "outputs": [
        {
          "output_type": "execute_result",
          "data": {
            "text/plain": [
              "47.93004996431121"
            ]
          },
          "metadata": {
            "tags": []
          },
          "execution_count": 218
        }
      ]
    },
    {
      "cell_type": "markdown",
      "metadata": {
        "id": "hZnvHiAc3AsD"
      },
      "source": [
        "**2016**"
      ]
    },
    {
      "cell_type": "code",
      "metadata": {
        "colab": {
          "base_uri": "https://localhost:8080/"
        },
        "id": "S79gjbCI3C4h",
        "outputId": "fb66e9a8-9f98-48e6-d80f-7f17f9afc5e5"
      },
      "source": [
        "# Dataset 2016\n",
        "df_2016 = df[(df['Year'] == 2016)]\n",
        "df_2016.value_counts"
      ],
      "execution_count": null,
      "outputs": [
        {
          "output_type": "execute_result",
          "data": {
            "text/plain": [
              "<bound method DataFrame.value_counts of               Date      RACE  ...                                   OFFENSE  Year\n",
              "140     2016-10-07  HISPANIC  ...  CRIMINAL POSS OF PISTOL/REVOLVER      DF  2016\n",
              "203     2016-09-01     BLACK  ...  ASSAULT ON POLICE OR FIRE OFFICER     CF  2016\n",
              "329     2016-04-15  HISPANIC  ...            PERMIT TO SELL OR CARRY PISTOL  2016\n",
              "469     2016-02-23  HISPANIC  ...  CRIMINAL POSS OF PISTOL/REVOLVER      DF  2016\n",
              "504     2016-08-05     BLACK  ...  ASSAULT, SECOND DEGREE                DF  2016\n",
              "...            ...       ...  ...                                       ...   ...\n",
              "5351646 2016-07-28     WHITE  ...  KIDNAPPING, FIRST DEGREE              AF  2016\n",
              "5351721 2016-05-06     WHITE  ...     VIOLATION OF PROBATION OR COND DISCHG  2016\n",
              "5351745 2016-08-31     BLACK  ...  ASSAULT ON POLICE OR FIRE OFFICER     CF  2016\n",
              "5351757 2016-09-20     BLACK  ...  KIDNAPPING, FIRST DEGREE              AF  2016\n",
              "5351795 2016-10-27  HISPANIC  ...  ASSAULT ON POLICE OR FIRE OFFICER     CF  2016\n",
              "\n",
              "[776326 rows x 7 columns]>"
            ]
          },
          "metadata": {
            "tags": []
          },
          "execution_count": 232
        }
      ]
    },
    {
      "cell_type": "markdown",
      "metadata": {
        "id": "zcFIMg0X33HD"
      },
      "source": [
        "**Black 2016**"
      ]
    },
    {
      "cell_type": "code",
      "metadata": {
        "colab": {
          "base_uri": "https://localhost:8080/"
        },
        "id": "oK6nz9DJ3DMn",
        "outputId": "314c295f-aaea-4552-e25b-798ac12c5555"
      },
      "source": [
        "df_2016B = df_2016[(df_2016[\"RACE\"] == 'BLACK')]\n",
        "df_2016B.value_counts"
      ],
      "execution_count": null,
      "outputs": [
        {
          "output_type": "execute_result",
          "data": {
            "text/plain": [
              "<bound method DataFrame.value_counts of               Date   RACE  ...                                   OFFENSE  Year\n",
              "203     2016-09-01  BLACK  ...  ASSAULT ON POLICE OR FIRE OFFICER     CF  2016\n",
              "504     2016-08-05  BLACK  ...  ASSAULT, SECOND DEGREE                DF  2016\n",
              "633     2016-04-07  BLACK  ...  UNLAWFUL RESTRAINT, SECOND DEGREE     AM  2016\n",
              "778     2016-04-18  BLACK  ...  CRIM VIOL OF PROTECTIVE ORDER         DF  2016\n",
              "848     2016-03-03  BLACK  ...  SALE OF NARC/AMPHET BY NON-DEPENDENT   F  2016\n",
              "...            ...    ...  ...                                       ...   ...\n",
              "5351107 2016-09-01  BLACK  ...  ASSAULT ON POLICE OR FIRE OFFICER     CF  2016\n",
              "5351143 2016-09-12  BLACK  ...  HOME INVASION                         AF  2016\n",
              "5351265 2016-01-04  BLACK  ...  INJURY OR RISK OF INJURY TO MINOR      F  2016\n",
              "5351745 2016-08-31  BLACK  ...  ASSAULT ON POLICE OR FIRE OFFICER     CF  2016\n",
              "5351757 2016-09-20  BLACK  ...  KIDNAPPING, FIRST DEGREE              AF  2016\n",
              "\n",
              "[312372 rows x 7 columns]>"
            ]
          },
          "metadata": {
            "tags": []
          },
          "execution_count": 233
        }
      ]
    },
    {
      "cell_type": "code",
      "metadata": {
        "colab": {
          "base_uri": "https://localhost:8080/"
        },
        "id": "1fFf2GO64Pt0",
        "outputId": "cb5de722-5f74-430b-db3f-1116f0bfd737"
      },
      "source": [
        "312372/776326 *100"
      ],
      "execution_count": null,
      "outputs": [
        {
          "output_type": "execute_result",
          "data": {
            "text/plain": [
              "40.23721993080226"
            ]
          },
          "metadata": {
            "tags": []
          },
          "execution_count": 234
        }
      ]
    },
    {
      "cell_type": "code",
      "metadata": {
        "colab": {
          "base_uri": "https://localhost:8080/"
        },
        "id": "f2MnCvAa6lcC",
        "outputId": "0d42107d-ae11-4bd2-82bc-1cd67fc1cb2a"
      },
      "source": [
        "df_2016B1 = df_2016B[df_2016B[\"Bond\"] >= 1000]\n",
        "print(df_2016B1.value_counts)"
      ],
      "execution_count": null,
      "outputs": [
        {
          "output_type": "stream",
          "text": [
            "<bound method DataFrame.value_counts of               Date   RACE  ...                                   OFFENSE  Year\n",
            "203     2016-09-01  BLACK  ...  ASSAULT ON POLICE OR FIRE OFFICER     CF  2016\n",
            "504     2016-08-05  BLACK  ...  ASSAULT, SECOND DEGREE                DF  2016\n",
            "633     2016-04-07  BLACK  ...  UNLAWFUL RESTRAINT, SECOND DEGREE     AM  2016\n",
            "778     2016-04-18  BLACK  ...  CRIM VIOL OF PROTECTIVE ORDER         DF  2016\n",
            "848     2016-03-03  BLACK  ...  SALE OF NARC/AMPHET BY NON-DEPENDENT   F  2016\n",
            "...            ...    ...  ...                                       ...   ...\n",
            "5351107 2016-09-01  BLACK  ...  ASSAULT ON POLICE OR FIRE OFFICER     CF  2016\n",
            "5351143 2016-09-12  BLACK  ...  HOME INVASION                         AF  2016\n",
            "5351265 2016-01-04  BLACK  ...  INJURY OR RISK OF INJURY TO MINOR      F  2016\n",
            "5351745 2016-08-31  BLACK  ...  ASSAULT ON POLICE OR FIRE OFFICER     CF  2016\n",
            "5351757 2016-09-20  BLACK  ...  KIDNAPPING, FIRST DEGREE              AF  2016\n",
            "\n",
            "[309781 rows x 7 columns]>\n"
          ],
          "name": "stdout"
        }
      ]
    },
    {
      "cell_type": "code",
      "metadata": {
        "colab": {
          "base_uri": "https://localhost:8080/"
        },
        "id": "e_5wWgRH6lgr",
        "outputId": "9f7a71fb-02f9-4b28-db7f-28a87888df11"
      },
      "source": [
        "# Percent with bail over $1000\n",
        "309781/312372 * 100"
      ],
      "execution_count": null,
      "outputs": [
        {
          "output_type": "execute_result",
          "data": {
            "text/plain": [
              "99.17054025328774"
            ]
          },
          "metadata": {
            "tags": []
          },
          "execution_count": 244
        }
      ]
    },
    {
      "cell_type": "code",
      "metadata": {
        "colab": {
          "base_uri": "https://localhost:8080/"
        },
        "id": "TmzjMKWd6llJ",
        "outputId": "571d3fa1-b092-489a-b150-a41ec5b4a0e6"
      },
      "source": [
        "df_2016B5 = df_2016B[df_2016B[\"Bond\"] >= 5000]\n",
        "print(df_2016B5.value_counts)"
      ],
      "execution_count": null,
      "outputs": [
        {
          "output_type": "stream",
          "text": [
            "<bound method DataFrame.value_counts of               Date   RACE  ...                                   OFFENSE  Year\n",
            "203     2016-09-01  BLACK  ...  ASSAULT ON POLICE OR FIRE OFFICER     CF  2016\n",
            "504     2016-08-05  BLACK  ...  ASSAULT, SECOND DEGREE                DF  2016\n",
            "778     2016-04-18  BLACK  ...  CRIM VIOL OF PROTECTIVE ORDER         DF  2016\n",
            "848     2016-03-03  BLACK  ...  SALE OF NARC/AMPHET BY NON-DEPENDENT   F  2016\n",
            "1039    2016-10-27  BLACK  ...  ASSAULT, THIRD DEGREE                 AM  2016\n",
            "...            ...    ...  ...                                       ...   ...\n",
            "5351107 2016-09-01  BLACK  ...  ASSAULT ON POLICE OR FIRE OFFICER     CF  2016\n",
            "5351143 2016-09-12  BLACK  ...  HOME INVASION                         AF  2016\n",
            "5351265 2016-01-04  BLACK  ...  INJURY OR RISK OF INJURY TO MINOR      F  2016\n",
            "5351745 2016-08-31  BLACK  ...  ASSAULT ON POLICE OR FIRE OFFICER     CF  2016\n",
            "5351757 2016-09-20  BLACK  ...  KIDNAPPING, FIRST DEGREE              AF  2016\n",
            "\n",
            "[304374 rows x 7 columns]>\n"
          ],
          "name": "stdout"
        }
      ]
    },
    {
      "cell_type": "code",
      "metadata": {
        "colab": {
          "base_uri": "https://localhost:8080/"
        },
        "id": "bVeWzmgx6lo_",
        "outputId": "c0a94ab1-79d8-4e85-cd03-3c2650e30965"
      },
      "source": [
        "# Percent with bail over $5000\n",
        "304374/312372 * 100"
      ],
      "execution_count": null,
      "outputs": [
        {
          "output_type": "execute_result",
          "data": {
            "text/plain": [
              "97.4395912565787"
            ]
          },
          "metadata": {
            "tags": []
          },
          "execution_count": 246
        }
      ]
    },
    {
      "cell_type": "code",
      "metadata": {
        "colab": {
          "base_uri": "https://localhost:8080/"
        },
        "id": "d0zgleW46ltz",
        "outputId": "303088d4-e8f2-4c34-823e-b1db8788a9c8"
      },
      "source": [
        "df_2016B10 = df_2016B[df_2016B[\"Bond\"] >= 10000]\n",
        "print(df_2016B10.value_counts)"
      ],
      "execution_count": null,
      "outputs": [
        {
          "output_type": "stream",
          "text": [
            "<bound method DataFrame.value_counts of               Date   RACE  ...                                   OFFENSE  Year\n",
            "203     2016-09-01  BLACK  ...  ASSAULT ON POLICE OR FIRE OFFICER     CF  2016\n",
            "504     2016-08-05  BLACK  ...  ASSAULT, SECOND DEGREE                DF  2016\n",
            "778     2016-04-18  BLACK  ...  CRIM VIOL OF PROTECTIVE ORDER         DF  2016\n",
            "848     2016-03-03  BLACK  ...  SALE OF NARC/AMPHET BY NON-DEPENDENT   F  2016\n",
            "1039    2016-10-27  BLACK  ...  ASSAULT, THIRD DEGREE                 AM  2016\n",
            "...            ...    ...  ...                                       ...   ...\n",
            "5351107 2016-09-01  BLACK  ...  ASSAULT ON POLICE OR FIRE OFFICER     CF  2016\n",
            "5351143 2016-09-12  BLACK  ...  HOME INVASION                         AF  2016\n",
            "5351265 2016-01-04  BLACK  ...  INJURY OR RISK OF INJURY TO MINOR      F  2016\n",
            "5351745 2016-08-31  BLACK  ...  ASSAULT ON POLICE OR FIRE OFFICER     CF  2016\n",
            "5351757 2016-09-20  BLACK  ...  KIDNAPPING, FIRST DEGREE              AF  2016\n",
            "\n",
            "[295343 rows x 7 columns]>\n"
          ],
          "name": "stdout"
        }
      ]
    },
    {
      "cell_type": "code",
      "metadata": {
        "colab": {
          "base_uri": "https://localhost:8080/"
        },
        "id": "VwMakkJW6lyx",
        "outputId": "6e1f51ca-353a-4ced-8261-9a68d4b156a5"
      },
      "source": [
        "# Percent with bail over $10000\n",
        "295343/312372 * 100"
      ],
      "execution_count": null,
      "outputs": [
        {
          "output_type": "execute_result",
          "data": {
            "text/plain": [
              "94.5484870602999"
            ]
          },
          "metadata": {
            "tags": []
          },
          "execution_count": 248
        }
      ]
    },
    {
      "cell_type": "code",
      "metadata": {
        "colab": {
          "base_uri": "https://localhost:8080/"
        },
        "id": "WV4RkPIF6l4F",
        "outputId": "e6dd6217-3e83-400e-faf8-0b9267477aef"
      },
      "source": [
        "df_2016B50 = df_2016B[df_2016B[\"Bond\"] >= 50000]\n",
        "print(df_2016B50.value_counts)"
      ],
      "execution_count": null,
      "outputs": [
        {
          "output_type": "stream",
          "text": [
            "<bound method DataFrame.value_counts of               Date   RACE  ...                                   OFFENSE  Year\n",
            "1039    2016-10-27  BLACK  ...  ASSAULT, THIRD DEGREE                 AM  2016\n",
            "1084    2016-01-04  BLACK  ...  INJURY OR RISK OF INJURY TO MINOR      F  2016\n",
            "1444    2016-06-28  BLACK  ...  ROBBERY, FIRST DEGREE                 BF  2016\n",
            "1483    2016-05-09  BLACK  ...  MURDER                                AF  2016\n",
            "1738    2016-08-22  BLACK  ...  MURDER                                AF  2016\n",
            "...            ...    ...  ...                                       ...   ...\n",
            "5350872 2016-11-18  BLACK  ...                   POSSESSION OF NARCOTICS  2016\n",
            "5351084 2016-05-03  BLACK  ...  SALE OF NARC/AMPHET BY NON-DEPENDENT   F  2016\n",
            "5351143 2016-09-12  BLACK  ...  HOME INVASION                         AF  2016\n",
            "5351265 2016-01-04  BLACK  ...  INJURY OR RISK OF INJURY TO MINOR      F  2016\n",
            "5351757 2016-09-20  BLACK  ...  KIDNAPPING, FIRST DEGREE              AF  2016\n",
            "\n",
            "[238616 rows x 7 columns]>\n"
          ],
          "name": "stdout"
        }
      ]
    },
    {
      "cell_type": "code",
      "metadata": {
        "colab": {
          "base_uri": "https://localhost:8080/"
        },
        "id": "G3IdSfkU6l75",
        "outputId": "7ec99637-4487-4fa5-d3ae-c2cffe109385"
      },
      "source": [
        "# Percent with bail over $50000\n",
        "238616/312372 * 100"
      ],
      "execution_count": null,
      "outputs": [
        {
          "output_type": "execute_result",
          "data": {
            "text/plain": [
              "76.38840869220033"
            ]
          },
          "metadata": {
            "tags": []
          },
          "execution_count": 250
        }
      ]
    },
    {
      "cell_type": "code",
      "metadata": {
        "colab": {
          "base_uri": "https://localhost:8080/"
        },
        "id": "fNc26xxY6mBK",
        "outputId": "7b17b140-4f32-4bae-c5c0-1e25f33adc7f"
      },
      "source": [
        "df_2016B100 = df_2016B[df_2016B[\"Bond\"] >= 100000]\n",
        "print(df_2016B100.value_counts)"
      ],
      "execution_count": null,
      "outputs": [
        {
          "output_type": "stream",
          "text": [
            "<bound method DataFrame.value_counts of               Date   RACE  ...                                   OFFENSE  Year\n",
            "1084    2016-01-04  BLACK  ...  INJURY OR RISK OF INJURY TO MINOR      F  2016\n",
            "1444    2016-06-28  BLACK  ...  ROBBERY, FIRST DEGREE                 BF  2016\n",
            "1483    2016-05-09  BLACK  ...  MURDER                                AF  2016\n",
            "1738    2016-08-22  BLACK  ...  MURDER                                AF  2016\n",
            "2028    2016-09-20  BLACK  ...  KIDNAPPING, FIRST DEGREE              AF  2016\n",
            "...            ...    ...  ...                                       ...   ...\n",
            "5350872 2016-11-18  BLACK  ...                   POSSESSION OF NARCOTICS  2016\n",
            "5351084 2016-05-03  BLACK  ...  SALE OF NARC/AMPHET BY NON-DEPENDENT   F  2016\n",
            "5351143 2016-09-12  BLACK  ...  HOME INVASION                         AF  2016\n",
            "5351265 2016-01-04  BLACK  ...  INJURY OR RISK OF INJURY TO MINOR      F  2016\n",
            "5351757 2016-09-20  BLACK  ...  KIDNAPPING, FIRST DEGREE              AF  2016\n",
            "\n",
            "[179258 rows x 7 columns]>\n"
          ],
          "name": "stdout"
        }
      ]
    },
    {
      "cell_type": "code",
      "metadata": {
        "colab": {
          "base_uri": "https://localhost:8080/"
        },
        "id": "Rdys00OE6mJV",
        "outputId": "1c7b82c3-9b05-4cbb-f6b2-38e4e1f75264"
      },
      "source": [
        "# Percent with bail over $100000\n",
        "179258/312372 * 100"
      ],
      "execution_count": null,
      "outputs": [
        {
          "output_type": "execute_result",
          "data": {
            "text/plain": [
              "57.38606533236014"
            ]
          },
          "metadata": {
            "tags": []
          },
          "execution_count": 252
        }
      ]
    },
    {
      "cell_type": "markdown",
      "metadata": {
        "id": "OJJ-m3b16jnZ"
      },
      "source": [
        "**White 2016**"
      ]
    },
    {
      "cell_type": "code",
      "metadata": {
        "colab": {
          "base_uri": "https://localhost:8080/"
        },
        "id": "LR161vYb3DQc",
        "outputId": "a609a59d-5a30-42b5-9143-537393eb371b"
      },
      "source": [
        "df_2016W = df_2016[(df_2016[\"RACE\"] == 'WHITE')]\n",
        "df_2016W.value_counts"
      ],
      "execution_count": null,
      "outputs": [
        {
          "output_type": "execute_result",
          "data": {
            "text/plain": [
              "<bound method DataFrame.value_counts of               Date   RACE  ...                                   OFFENSE  Year\n",
              "586     2016-05-02  WHITE  ...  ASSAULT, THIRD DEGREE                 AM  2016\n",
              "901     2016-07-20  WHITE  ...  LARCENY, THIRD DEGREE                 DF  2016\n",
              "925     2016-06-17  WHITE  ...  INJURY/RISK OF INJURY TO MINOR- SEXUAL C  2016\n",
              "2273    2016-07-28  WHITE  ...  KIDNAPPING, FIRST DEGREE              AF  2016\n",
              "2687    2016-04-18  WHITE  ...  LARCENY, SECOND DEGREE                CF  2016\n",
              "...            ...    ...  ...                                       ...   ...\n",
              "5350144 2016-01-27  WHITE  ...                   POSSESSION OF NARCOTICS  2016\n",
              "5351455 2016-10-27  WHITE  ...  INTERFERING WITH AN OFFICER           AM  2016\n",
              "5351594 2016-07-28  WHITE  ...  INJURY OR RISK OF INJURY TO MINOR      F  2016\n",
              "5351646 2016-07-28  WHITE  ...  KIDNAPPING, FIRST DEGREE              AF  2016\n",
              "5351721 2016-05-06  WHITE  ...     VIOLATION OF PROBATION OR COND DISCHG  2016\n",
              "\n",
              "[249617 rows x 7 columns]>"
            ]
          },
          "metadata": {
            "tags": []
          },
          "execution_count": 235
        }
      ]
    },
    {
      "cell_type": "code",
      "metadata": {
        "colab": {
          "base_uri": "https://localhost:8080/"
        },
        "id": "Dkr1Je594awK",
        "outputId": "47f89235-0459-4979-9ab2-7eb5888fe12c"
      },
      "source": [
        "249617/776326 *100"
      ],
      "execution_count": null,
      "outputs": [
        {
          "output_type": "execute_result",
          "data": {
            "text/plain": [
              "32.15363133528955"
            ]
          },
          "metadata": {
            "tags": []
          },
          "execution_count": 236
        }
      ]
    },
    {
      "cell_type": "code",
      "metadata": {
        "colab": {
          "base_uri": "https://localhost:8080/"
        },
        "id": "mMtoFi0k7cqd",
        "outputId": "ab5358d6-076b-40ec-d22e-1ed24c8cdbf9"
      },
      "source": [
        "df_2016W1 = df_2016W[df_2016W[\"Bond\"] >= 1000]\n",
        "print(df_2016W1.value_counts)"
      ],
      "execution_count": null,
      "outputs": [
        {
          "output_type": "stream",
          "text": [
            "<bound method DataFrame.value_counts of               Date   RACE  ...                                   OFFENSE  Year\n",
            "925     2016-06-17  WHITE  ...  INJURY/RISK OF INJURY TO MINOR- SEXUAL C  2016\n",
            "2273    2016-07-28  WHITE  ...  KIDNAPPING, FIRST DEGREE              AF  2016\n",
            "2687    2016-04-18  WHITE  ...  LARCENY, SECOND DEGREE                CF  2016\n",
            "2747    2016-07-11  WHITE  ...  BURGLARY, THIRD DEGREE                DF  2016\n",
            "2751    2016-07-21  WHITE  ...  CARRYING WEAPON IN A MOTOR VEHICLE     F  2016\n",
            "...            ...    ...  ...                                       ...   ...\n",
            "5350144 2016-01-27  WHITE  ...                   POSSESSION OF NARCOTICS  2016\n",
            "5351455 2016-10-27  WHITE  ...  INTERFERING WITH AN OFFICER           AM  2016\n",
            "5351594 2016-07-28  WHITE  ...  INJURY OR RISK OF INJURY TO MINOR      F  2016\n",
            "5351646 2016-07-28  WHITE  ...  KIDNAPPING, FIRST DEGREE              AF  2016\n",
            "5351721 2016-05-06  WHITE  ...     VIOLATION OF PROBATION OR COND DISCHG  2016\n",
            "\n",
            "[246624 rows x 7 columns]>\n"
          ],
          "name": "stdout"
        }
      ]
    },
    {
      "cell_type": "code",
      "metadata": {
        "colab": {
          "base_uri": "https://localhost:8080/"
        },
        "id": "TeKgjgfF7cwS",
        "outputId": "3409c37d-58c8-40e1-cb37-5a2735ba2b28"
      },
      "source": [
        "# Percent with bail over $1000\n",
        "246624/249617 * 100"
      ],
      "execution_count": null,
      "outputs": [
        {
          "output_type": "execute_result",
          "data": {
            "text/plain": [
              "98.80096307543155"
            ]
          },
          "metadata": {
            "tags": []
          },
          "execution_count": 255
        }
      ]
    },
    {
      "cell_type": "code",
      "metadata": {
        "colab": {
          "base_uri": "https://localhost:8080/"
        },
        "id": "MHbi7mWo7c1R",
        "outputId": "52ffbbc6-92df-45b0-989e-fcfb43157bc0"
      },
      "source": [
        "df_2016W5 = df_2016W[df_2016W[\"Bond\"] >= 5000]\n",
        "print(df_2016W5.value_counts)"
      ],
      "execution_count": null,
      "outputs": [
        {
          "output_type": "stream",
          "text": [
            "<bound method DataFrame.value_counts of               Date   RACE  ...                                   OFFENSE  Year\n",
            "925     2016-06-17  WHITE  ...  INJURY/RISK OF INJURY TO MINOR- SEXUAL C  2016\n",
            "2273    2016-07-28  WHITE  ...  KIDNAPPING, FIRST DEGREE              AF  2016\n",
            "2687    2016-04-18  WHITE  ...  LARCENY, SECOND DEGREE                CF  2016\n",
            "2747    2016-07-11  WHITE  ...  BURGLARY, THIRD DEGREE                DF  2016\n",
            "2751    2016-07-21  WHITE  ...  CARRYING WEAPON IN A MOTOR VEHICLE     F  2016\n",
            "...            ...    ...  ...                                       ...   ...\n",
            "5349559 2016-04-18  WHITE  ...  LARCENY, SECOND DEGREE                CF  2016\n",
            "5351455 2016-10-27  WHITE  ...  INTERFERING WITH AN OFFICER           AM  2016\n",
            "5351594 2016-07-28  WHITE  ...  INJURY OR RISK OF INJURY TO MINOR      F  2016\n",
            "5351646 2016-07-28  WHITE  ...  KIDNAPPING, FIRST DEGREE              AF  2016\n",
            "5351721 2016-05-06  WHITE  ...     VIOLATION OF PROBATION OR COND DISCHG  2016\n",
            "\n",
            "[237554 rows x 7 columns]>\n"
          ],
          "name": "stdout"
        }
      ]
    },
    {
      "cell_type": "code",
      "metadata": {
        "colab": {
          "base_uri": "https://localhost:8080/"
        },
        "id": "ev-U8Pxa7c5T",
        "outputId": "35c83548-3650-49a8-db12-d734704ae6dc"
      },
      "source": [
        "# Percent with bail over $5000\n",
        "237554/249617 * 100"
      ],
      "execution_count": null,
      "outputs": [
        {
          "output_type": "execute_result",
          "data": {
            "text/plain": [
              "95.16739645136349"
            ]
          },
          "metadata": {
            "tags": []
          },
          "execution_count": 257
        }
      ]
    },
    {
      "cell_type": "code",
      "metadata": {
        "colab": {
          "base_uri": "https://localhost:8080/"
        },
        "id": "JihTMnCf7c_x",
        "outputId": "3b77b622-27df-4e3f-ff77-547fc98e8304"
      },
      "source": [
        "df_2016W10 = df_2016W[df_2016W[\"Bond\"] >= 10000]\n",
        "print(df_2016W10.value_counts)"
      ],
      "execution_count": null,
      "outputs": [
        {
          "output_type": "stream",
          "text": [
            "<bound method DataFrame.value_counts of               Date   RACE  ...                                   OFFENSE  Year\n",
            "925     2016-06-17  WHITE  ...  INJURY/RISK OF INJURY TO MINOR- SEXUAL C  2016\n",
            "2273    2016-07-28  WHITE  ...  KIDNAPPING, FIRST DEGREE              AF  2016\n",
            "2687    2016-04-18  WHITE  ...  LARCENY, SECOND DEGREE                CF  2016\n",
            "2747    2016-07-11  WHITE  ...  BURGLARY, THIRD DEGREE                DF  2016\n",
            "2751    2016-07-21  WHITE  ...  CARRYING WEAPON IN A MOTOR VEHICLE     F  2016\n",
            "...            ...    ...  ...                                       ...   ...\n",
            "5349559 2016-04-18  WHITE  ...  LARCENY, SECOND DEGREE                CF  2016\n",
            "5351455 2016-10-27  WHITE  ...  INTERFERING WITH AN OFFICER           AM  2016\n",
            "5351594 2016-07-28  WHITE  ...  INJURY OR RISK OF INJURY TO MINOR      F  2016\n",
            "5351646 2016-07-28  WHITE  ...  KIDNAPPING, FIRST DEGREE              AF  2016\n",
            "5351721 2016-05-06  WHITE  ...     VIOLATION OF PROBATION OR COND DISCHG  2016\n",
            "\n",
            "[223052 rows x 7 columns]>\n"
          ],
          "name": "stdout"
        }
      ]
    },
    {
      "cell_type": "code",
      "metadata": {
        "colab": {
          "base_uri": "https://localhost:8080/"
        },
        "id": "yyYpHSX97dF1",
        "outputId": "930ff1ee-21b5-4831-9cc2-611eaef31eee"
      },
      "source": [
        "# Percent with bail over $10000\n",
        "223052/249617 * 100"
      ],
      "execution_count": null,
      "outputs": [
        {
          "output_type": "execute_result",
          "data": {
            "text/plain": [
              "89.35769599025707"
            ]
          },
          "metadata": {
            "tags": []
          },
          "execution_count": 260
        }
      ]
    },
    {
      "cell_type": "code",
      "metadata": {
        "colab": {
          "base_uri": "https://localhost:8080/"
        },
        "id": "4WFWH4E_7dLs",
        "outputId": "b82635b8-2a75-481e-955c-115021a5ec71"
      },
      "source": [
        "df_2016W50 = df_2016W[df_2016W[\"Bond\"] >= 50000]\n",
        "print(df_2016W50.value_counts)"
      ],
      "execution_count": null,
      "outputs": [
        {
          "output_type": "stream",
          "text": [
            "<bound method DataFrame.value_counts of               Date   RACE  ...                                   OFFENSE  Year\n",
            "925     2016-06-17  WHITE  ...  INJURY/RISK OF INJURY TO MINOR- SEXUAL C  2016\n",
            "2273    2016-07-28  WHITE  ...  KIDNAPPING, FIRST DEGREE              AF  2016\n",
            "2747    2016-07-11  WHITE  ...  BURGLARY, THIRD DEGREE                DF  2016\n",
            "2751    2016-07-21  WHITE  ...  CARRYING WEAPON IN A MOTOR VEHICLE     F  2016\n",
            "2752    2016-10-27  WHITE  ...  FAILURE TO APPEAR, FIRST DEGREE       DF  2016\n",
            "...            ...    ...  ...                                       ...   ...\n",
            "5348386 2016-07-28  WHITE  ...  KIDNAPPING, FIRST DEGREE              AF  2016\n",
            "5351455 2016-10-27  WHITE  ...  INTERFERING WITH AN OFFICER           AM  2016\n",
            "5351594 2016-07-28  WHITE  ...  INJURY OR RISK OF INJURY TO MINOR      F  2016\n",
            "5351646 2016-07-28  WHITE  ...  KIDNAPPING, FIRST DEGREE              AF  2016\n",
            "5351721 2016-05-06  WHITE  ...     VIOLATION OF PROBATION OR COND DISCHG  2016\n",
            "\n",
            "[151587 rows x 7 columns]>\n"
          ],
          "name": "stdout"
        }
      ]
    },
    {
      "cell_type": "code",
      "metadata": {
        "colab": {
          "base_uri": "https://localhost:8080/"
        },
        "id": "B9SOaph47dRG",
        "outputId": "99ea2bee-6e85-4c6d-f1dd-bc730162d960"
      },
      "source": [
        "# Percent with bail over $50000\n",
        "151587/249617 * 100"
      ],
      "execution_count": null,
      "outputs": [
        {
          "output_type": "execute_result",
          "data": {
            "text/plain": [
              "60.72783504328632"
            ]
          },
          "metadata": {
            "tags": []
          },
          "execution_count": 262
        }
      ]
    },
    {
      "cell_type": "code",
      "metadata": {
        "colab": {
          "base_uri": "https://localhost:8080/"
        },
        "id": "jRfCxvvf7dXk",
        "outputId": "09d47ca0-df9a-44a7-cc35-bc0b3c878e8d"
      },
      "source": [
        "df_2016W100 = df_2016W[df_2016W[\"Bond\"] >= 100000]\n",
        "print(df_2016W100.value_counts)"
      ],
      "execution_count": null,
      "outputs": [
        {
          "output_type": "stream",
          "text": [
            "<bound method DataFrame.value_counts of               Date   RACE  ...                                   OFFENSE  Year\n",
            "925     2016-06-17  WHITE  ...  INJURY/RISK OF INJURY TO MINOR- SEXUAL C  2016\n",
            "2273    2016-07-28  WHITE  ...  KIDNAPPING, FIRST DEGREE              AF  2016\n",
            "2747    2016-07-11  WHITE  ...  BURGLARY, THIRD DEGREE                DF  2016\n",
            "2751    2016-07-21  WHITE  ...  CARRYING WEAPON IN A MOTOR VEHICLE     F  2016\n",
            "2752    2016-10-27  WHITE  ...  FAILURE TO APPEAR, FIRST DEGREE       DF  2016\n",
            "...            ...    ...  ...                                       ...   ...\n",
            "5348386 2016-07-28  WHITE  ...  KIDNAPPING, FIRST DEGREE              AF  2016\n",
            "5351455 2016-10-27  WHITE  ...  INTERFERING WITH AN OFFICER           AM  2016\n",
            "5351594 2016-07-28  WHITE  ...  INJURY OR RISK OF INJURY TO MINOR      F  2016\n",
            "5351646 2016-07-28  WHITE  ...  KIDNAPPING, FIRST DEGREE              AF  2016\n",
            "5351721 2016-05-06  WHITE  ...     VIOLATION OF PROBATION OR COND DISCHG  2016\n",
            "\n",
            "[93709 rows x 7 columns]>\n"
          ],
          "name": "stdout"
        }
      ]
    },
    {
      "cell_type": "code",
      "metadata": {
        "colab": {
          "base_uri": "https://localhost:8080/"
        },
        "id": "Fl4qPDbE7dfC",
        "outputId": "81d9dc79-e5df-4f80-e51f-8c7b013ce190"
      },
      "source": [
        "# Percent with bail over $100000\n",
        "93709/249617 * 100"
      ],
      "execution_count": null,
      "outputs": [
        {
          "output_type": "execute_result",
          "data": {
            "text/plain": [
              "37.541112985093164"
            ]
          },
          "metadata": {
            "tags": []
          },
          "execution_count": 264
        }
      ]
    },
    {
      "cell_type": "markdown",
      "metadata": {
        "id": "0DJl6koT7a0L"
      },
      "source": [
        "**Hispanic 2016**"
      ]
    },
    {
      "cell_type": "code",
      "metadata": {
        "colab": {
          "base_uri": "https://localhost:8080/"
        },
        "id": "qCX6odlo3DUC",
        "outputId": "8b74b35b-3abc-4de7-a6c4-ef5e3da2e9f6"
      },
      "source": [
        "df_2016H = df_2016[(df_2016[\"RACE\"] == 'HISPANIC')]\n",
        "df_2016H.value_counts"
      ],
      "execution_count": null,
      "outputs": [
        {
          "output_type": "execute_result",
          "data": {
            "text/plain": [
              "<bound method DataFrame.value_counts of               Date      RACE  ...                                   OFFENSE  Year\n",
              "140     2016-10-07  HISPANIC  ...  CRIMINAL POSS OF PISTOL/REVOLVER      DF  2016\n",
              "329     2016-04-15  HISPANIC  ...            PERMIT TO SELL OR CARRY PISTOL  2016\n",
              "469     2016-02-23  HISPANIC  ...  CRIMINAL POSS OF PISTOL/REVOLVER      DF  2016\n",
              "552     2016-12-16  HISPANIC  ...  ESCAPE, FIRST DEGREE                  CF  2016\n",
              "753     2016-01-22  HISPANIC  ...  SALE OF HALLUCIGEN/NARCOTIC SUBSTANCE  F  2016\n",
              "...            ...       ...  ...                                       ...   ...\n",
              "5350724 2016-10-05  HISPANIC  ...                   POSSESSION OF NARCOTICS  2016\n",
              "5351136 2016-07-21  HISPANIC  ...  SALE OF NARC/AMPHET BY NON-DEPENDENT   F  2016\n",
              "5351379 2016-06-21  HISPANIC  ...  ASSAULT, FIRST DEGREE                 BF  2016\n",
              "5351634 2016-09-06  HISPANIC  ...  SALE OF HALLUCIGEN/NARCOTIC SUBSTANCE  F  2016\n",
              "5351795 2016-10-27  HISPANIC  ...  ASSAULT ON POLICE OR FIRE OFFICER     CF  2016\n",
              "\n",
              "[208469 rows x 7 columns]>"
            ]
          },
          "metadata": {
            "tags": []
          },
          "execution_count": 237
        }
      ]
    },
    {
      "cell_type": "code",
      "metadata": {
        "colab": {
          "base_uri": "https://localhost:8080/"
        },
        "id": "TisYP0d_4b7z",
        "outputId": "9b49b4cc-d12a-488e-e39a-7252a954c20d"
      },
      "source": [
        "208469/776326 *100"
      ],
      "execution_count": null,
      "outputs": [
        {
          "output_type": "execute_result",
          "data": {
            "text/plain": [
              "26.853280709392703"
            ]
          },
          "metadata": {
            "tags": []
          },
          "execution_count": 238
        }
      ]
    },
    {
      "cell_type": "code",
      "metadata": {
        "colab": {
          "base_uri": "https://localhost:8080/"
        },
        "id": "d3mM53wU8cH0",
        "outputId": "9d1a78d7-501a-44f4-dbfb-ee6d276cfb63"
      },
      "source": [
        "df_2016H1 = df_2016H[df_2016H[\"Bond\"] >= 1000]\n",
        "print(df_2016H1.value_counts)"
      ],
      "execution_count": null,
      "outputs": [
        {
          "output_type": "stream",
          "text": [
            "<bound method DataFrame.value_counts of               Date      RACE  ...                                   OFFENSE  Year\n",
            "140     2016-10-07  HISPANIC  ...  CRIMINAL POSS OF PISTOL/REVOLVER      DF  2016\n",
            "329     2016-04-15  HISPANIC  ...            PERMIT TO SELL OR CARRY PISTOL  2016\n",
            "469     2016-02-23  HISPANIC  ...  CRIMINAL POSS OF PISTOL/REVOLVER      DF  2016\n",
            "552     2016-12-16  HISPANIC  ...  ESCAPE, FIRST DEGREE                  CF  2016\n",
            "753     2016-01-22  HISPANIC  ...  SALE OF HALLUCIGEN/NARCOTIC SUBSTANCE  F  2016\n",
            "...            ...       ...  ...                                       ...   ...\n",
            "5350724 2016-10-05  HISPANIC  ...                   POSSESSION OF NARCOTICS  2016\n",
            "5351136 2016-07-21  HISPANIC  ...  SALE OF NARC/AMPHET BY NON-DEPENDENT   F  2016\n",
            "5351379 2016-06-21  HISPANIC  ...  ASSAULT, FIRST DEGREE                 BF  2016\n",
            "5351634 2016-09-06  HISPANIC  ...  SALE OF HALLUCIGEN/NARCOTIC SUBSTANCE  F  2016\n",
            "5351795 2016-10-27  HISPANIC  ...  ASSAULT ON POLICE OR FIRE OFFICER     CF  2016\n",
            "\n",
            "[206940 rows x 7 columns]>\n"
          ],
          "name": "stdout"
        }
      ]
    },
    {
      "cell_type": "code",
      "metadata": {
        "colab": {
          "base_uri": "https://localhost:8080/"
        },
        "id": "pv7RcqiN8cPC",
        "outputId": "25347813-a8a6-4a32-f318-219acf697b8c"
      },
      "source": [
        "# Percent with bail over $1000\n",
        "206940/208469 * 100"
      ],
      "execution_count": null,
      "outputs": [
        {
          "output_type": "execute_result",
          "data": {
            "text/plain": [
              "99.26655761767937"
            ]
          },
          "metadata": {
            "tags": []
          },
          "execution_count": 267
        }
      ]
    },
    {
      "cell_type": "code",
      "metadata": {
        "colab": {
          "base_uri": "https://localhost:8080/"
        },
        "id": "6Bj6WRKL8cYV",
        "outputId": "1378a996-c800-4472-9584-96d7f2dc5add"
      },
      "source": [
        "df_2016H5 = df_2016H[df_2016H[\"Bond\"] >= 5000]\n",
        "print(df_2016H5.value_counts)"
      ],
      "execution_count": null,
      "outputs": [
        {
          "output_type": "stream",
          "text": [
            "<bound method DataFrame.value_counts of               Date      RACE  ...                                   OFFENSE  Year\n",
            "140     2016-10-07  HISPANIC  ...  CRIMINAL POSS OF PISTOL/REVOLVER      DF  2016\n",
            "329     2016-04-15  HISPANIC  ...            PERMIT TO SELL OR CARRY PISTOL  2016\n",
            "469     2016-02-23  HISPANIC  ...  CRIMINAL POSS OF PISTOL/REVOLVER      DF  2016\n",
            "552     2016-12-16  HISPANIC  ...  ESCAPE, FIRST DEGREE                  CF  2016\n",
            "753     2016-01-22  HISPANIC  ...  SALE OF HALLUCIGEN/NARCOTIC SUBSTANCE  F  2016\n",
            "...            ...       ...  ...                                       ...   ...\n",
            "5350724 2016-10-05  HISPANIC  ...                   POSSESSION OF NARCOTICS  2016\n",
            "5351136 2016-07-21  HISPANIC  ...  SALE OF NARC/AMPHET BY NON-DEPENDENT   F  2016\n",
            "5351379 2016-06-21  HISPANIC  ...  ASSAULT, FIRST DEGREE                 BF  2016\n",
            "5351634 2016-09-06  HISPANIC  ...  SALE OF HALLUCIGEN/NARCOTIC SUBSTANCE  F  2016\n",
            "5351795 2016-10-27  HISPANIC  ...  ASSAULT ON POLICE OR FIRE OFFICER     CF  2016\n",
            "\n",
            "[202759 rows x 7 columns]>\n"
          ],
          "name": "stdout"
        }
      ]
    },
    {
      "cell_type": "code",
      "metadata": {
        "colab": {
          "base_uri": "https://localhost:8080/"
        },
        "id": "Wao-IUqK8cdB",
        "outputId": "2e5e0188-cdf3-4f75-b61c-2418c93a3f4d"
      },
      "source": [
        "# Percent with bail over $5000\n",
        "202759/208469 * 100"
      ],
      "execution_count": null,
      "outputs": [
        {
          "output_type": "execute_result",
          "data": {
            "text/plain": [
              "97.26098364744878"
            ]
          },
          "metadata": {
            "tags": []
          },
          "execution_count": 269
        }
      ]
    },
    {
      "cell_type": "code",
      "metadata": {
        "colab": {
          "base_uri": "https://localhost:8080/"
        },
        "id": "D_qYXC_y8cis",
        "outputId": "8daf57c3-2bf6-49b6-cd7f-294bc2e84b4b"
      },
      "source": [
        "df_2016H10 = df_2016H[df_2016H[\"Bond\"] >= 10000]\n",
        "print(df_2016H10.value_counts)"
      ],
      "execution_count": null,
      "outputs": [
        {
          "output_type": "stream",
          "text": [
            "<bound method DataFrame.value_counts of               Date      RACE  ...                                   OFFENSE  Year\n",
            "140     2016-10-07  HISPANIC  ...  CRIMINAL POSS OF PISTOL/REVOLVER      DF  2016\n",
            "329     2016-04-15  HISPANIC  ...            PERMIT TO SELL OR CARRY PISTOL  2016\n",
            "469     2016-02-23  HISPANIC  ...  CRIMINAL POSS OF PISTOL/REVOLVER      DF  2016\n",
            "552     2016-12-16  HISPANIC  ...  ESCAPE, FIRST DEGREE                  CF  2016\n",
            "753     2016-01-22  HISPANIC  ...  SALE OF HALLUCIGEN/NARCOTIC SUBSTANCE  F  2016\n",
            "...            ...       ...  ...                                       ...   ...\n",
            "5350540 2016-10-07  HISPANIC  ...  CRIMINAL POSS OF PISTOL/REVOLVER      DF  2016\n",
            "5351136 2016-07-21  HISPANIC  ...  SALE OF NARC/AMPHET BY NON-DEPENDENT   F  2016\n",
            "5351379 2016-06-21  HISPANIC  ...  ASSAULT, FIRST DEGREE                 BF  2016\n",
            "5351634 2016-09-06  HISPANIC  ...  SALE OF HALLUCIGEN/NARCOTIC SUBSTANCE  F  2016\n",
            "5351795 2016-10-27  HISPANIC  ...  ASSAULT ON POLICE OR FIRE OFFICER     CF  2016\n",
            "\n",
            "[196659 rows x 7 columns]>\n"
          ],
          "name": "stdout"
        }
      ]
    },
    {
      "cell_type": "code",
      "metadata": {
        "colab": {
          "base_uri": "https://localhost:8080/"
        },
        "id": "8xcUL1M58co3",
        "outputId": "75431093-487e-42a4-dc1d-ad4b36c21021"
      },
      "source": [
        "# Percent with bail over $100000\n",
        "196659/208469 * 100"
      ],
      "execution_count": null,
      "outputs": [
        {
          "output_type": "execute_result",
          "data": {
            "text/plain": [
              "94.33488912020492"
            ]
          },
          "metadata": {
            "tags": []
          },
          "execution_count": 271
        }
      ]
    },
    {
      "cell_type": "code",
      "metadata": {
        "colab": {
          "base_uri": "https://localhost:8080/"
        },
        "id": "-wSlogRr8cwa",
        "outputId": "90c29d6c-9367-4435-f714-0ba6b20d89de"
      },
      "source": [
        "df_2016H50 = df_2016H[df_2016H[\"Bond\"] >= 50000]\n",
        "print(df_2016H50.value_counts)"
      ],
      "execution_count": null,
      "outputs": [
        {
          "output_type": "stream",
          "text": [
            "<bound method DataFrame.value_counts of               Date      RACE  ...                                   OFFENSE  Year\n",
            "140     2016-10-07  HISPANIC  ...  CRIMINAL POSS OF PISTOL/REVOLVER      DF  2016\n",
            "329     2016-04-15  HISPANIC  ...            PERMIT TO SELL OR CARRY PISTOL  2016\n",
            "469     2016-02-23  HISPANIC  ...  CRIMINAL POSS OF PISTOL/REVOLVER      DF  2016\n",
            "552     2016-12-16  HISPANIC  ...  ESCAPE, FIRST DEGREE                  CF  2016\n",
            "867     2016-07-20  HISPANIC  ...  TAMPERING WITH OR FABRICATING EVIDNC  DF  2016\n",
            "...            ...       ...  ...                                       ...   ...\n",
            "5350421 2016-03-31  HISPANIC  ...  CRIMINAL POSS OF PISTOL/REVOLVER      DF  2016\n",
            "5350540 2016-10-07  HISPANIC  ...  CRIMINAL POSS OF PISTOL/REVOLVER      DF  2016\n",
            "5351379 2016-06-21  HISPANIC  ...  ASSAULT, FIRST DEGREE                 BF  2016\n",
            "5351634 2016-09-06  HISPANIC  ...  SALE OF HALLUCIGEN/NARCOTIC SUBSTANCE  F  2016\n",
            "5351795 2016-10-27  HISPANIC  ...  ASSAULT ON POLICE OR FIRE OFFICER     CF  2016\n",
            "\n",
            "[159715 rows x 7 columns]>\n"
          ],
          "name": "stdout"
        }
      ]
    },
    {
      "cell_type": "code",
      "metadata": {
        "colab": {
          "base_uri": "https://localhost:8080/"
        },
        "id": "7vSMDnNg8c54",
        "outputId": "1e5fa5d9-552d-4c09-cd84-110b3e06da3f"
      },
      "source": [
        "# Percent with bail over $50000\n",
        "159715/208469 * 100"
      ],
      "execution_count": null,
      "outputs": [
        {
          "output_type": "execute_result",
          "data": {
            "text/plain": [
              "76.61330941291031"
            ]
          },
          "metadata": {
            "tags": []
          },
          "execution_count": 273
        }
      ]
    },
    {
      "cell_type": "code",
      "metadata": {
        "colab": {
          "base_uri": "https://localhost:8080/"
        },
        "id": "uEfX0Ur78c9u",
        "outputId": "d455c614-4a59-4326-86ee-4630935d69c2"
      },
      "source": [
        "df_2016H100 = df_2016H[df_2016H[\"Bond\"] >= 100000]\n",
        "print(df_2016H100.value_counts)"
      ],
      "execution_count": null,
      "outputs": [
        {
          "output_type": "stream",
          "text": [
            "<bound method DataFrame.value_counts of               Date      RACE  ...                                   OFFENSE  Year\n",
            "140     2016-10-07  HISPANIC  ...  CRIMINAL POSS OF PISTOL/REVOLVER      DF  2016\n",
            "329     2016-04-15  HISPANIC  ...            PERMIT TO SELL OR CARRY PISTOL  2016\n",
            "552     2016-12-16  HISPANIC  ...  ESCAPE, FIRST DEGREE                  CF  2016\n",
            "953     2016-10-28  HISPANIC  ...  SEXUAL ASSAULT, FIRST DEGREE           F  2016\n",
            "2371    2016-05-31  HISPANIC  ...  BURGLARY, THIRD DEGREE                DF  2016\n",
            "...            ...       ...  ...                                       ...   ...\n",
            "5349783 2016-10-28  HISPANIC  ...  SEXUAL ASSAULT, FIRST DEGREE           F  2016\n",
            "5350368 2016-05-04  HISPANIC  ...  CRIM VIOL RES ORDER                   AM  2016\n",
            "5350421 2016-03-31  HISPANIC  ...  CRIMINAL POSS OF PISTOL/REVOLVER      DF  2016\n",
            "5350540 2016-10-07  HISPANIC  ...  CRIMINAL POSS OF PISTOL/REVOLVER      DF  2016\n",
            "5351379 2016-06-21  HISPANIC  ...  ASSAULT, FIRST DEGREE                 BF  2016\n",
            "\n",
            "[113492 rows x 7 columns]>\n"
          ],
          "name": "stdout"
        }
      ]
    },
    {
      "cell_type": "code",
      "metadata": {
        "colab": {
          "base_uri": "https://localhost:8080/"
        },
        "id": "OG10cOsf8dB3",
        "outputId": "f615ab2d-1959-4440-ec43-4f033d61b156"
      },
      "source": [
        "# Percent with bail over $100000\n",
        "113492/208469 * 100"
      ],
      "execution_count": null,
      "outputs": [
        {
          "output_type": "execute_result",
          "data": {
            "text/plain": [
              "54.44070821081311"
            ]
          },
          "metadata": {
            "tags": []
          },
          "execution_count": 275
        }
      ]
    },
    {
      "cell_type": "markdown",
      "metadata": {
        "id": "K1lfxr-58Xgj"
      },
      "source": [
        "**Asian 2016**"
      ]
    },
    {
      "cell_type": "code",
      "metadata": {
        "colab": {
          "base_uri": "https://localhost:8080/"
        },
        "id": "l4GIvg_F3DYQ",
        "outputId": "f576098b-f8c0-4edf-ba09-5990dce70027"
      },
      "source": [
        "df_2016A = df_2016[(df_2016[\"RACE\"] == 'ASIAN')]\n",
        "df_2016A.value_counts"
      ],
      "execution_count": null,
      "outputs": [
        {
          "output_type": "execute_result",
          "data": {
            "text/plain": [
              "<bound method DataFrame.value_counts of               Date   RACE  ...                                   OFFENSE  Year\n",
              "2914    2016-06-08  ASIAN  ...  CRIMINAL TRESPASS, FIRST DEGREE       AM  2016\n",
              "3039    2016-07-18  ASIAN  ...  CRIM VIOL OF PROTECTIVE ORDER         DF  2016\n",
              "3267    2016-01-19  ASIAN  ...  SEXUAL ASSAULT, SECOND DEGREE          F  2016\n",
              "4149    2016-04-12  ASIAN  ...  SALE OF HALLUCIGEN/NARCOTIC SUBSTANCE  F  2016\n",
              "4593    2016-04-08  ASIAN  ...  LARCENY, THIRD DEGREE                 DF  2016\n",
              "...            ...    ...  ...                                       ...   ...\n",
              "1981933 2016-08-23  ASIAN  ...  KIDNAPPING 1ST DEG W/ FIREARM         AF  2016\n",
              "1985372 2016-08-23  ASIAN  ...  KIDNAPPING 1ST DEG W/ FIREARM         AF  2016\n",
              "1986519 2016-08-23  ASIAN  ...  KIDNAPPING 1ST DEG W/ FIREARM         AF  2016\n",
              "1991292 2016-08-23  ASIAN  ...  KIDNAPPING 1ST DEG W/ FIREARM         AF  2016\n",
              "1996278 2016-08-23  ASIAN  ...  KIDNAPPING 1ST DEG W/ FIREARM         AF  2016\n",
              "\n",
              "[3604 rows x 7 columns]>"
            ]
          },
          "metadata": {
            "tags": []
          },
          "execution_count": 239
        }
      ]
    },
    {
      "cell_type": "code",
      "metadata": {
        "colab": {
          "base_uri": "https://localhost:8080/"
        },
        "id": "sZAR8Sa34daI",
        "outputId": "64041f42-e98e-4c43-969c-5b1d7f9465a0"
      },
      "source": [
        "3604/776326 *100"
      ],
      "execution_count": null,
      "outputs": [
        {
          "output_type": "execute_result",
          "data": {
            "text/plain": [
              "0.46423796188714533"
            ]
          },
          "metadata": {
            "tags": []
          },
          "execution_count": 240
        }
      ]
    },
    {
      "cell_type": "code",
      "metadata": {
        "colab": {
          "base_uri": "https://localhost:8080/"
        },
        "id": "pGn6-SVg-MH_",
        "outputId": "90d814a0-a5e3-476b-c43c-4951edfc99e7"
      },
      "source": [
        "df_2016A1 = df_2016A[df_2016A[\"Bond\"] >= 1000]\n",
        "print(df_2016A1.value_counts)"
      ],
      "execution_count": null,
      "outputs": [
        {
          "output_type": "stream",
          "text": [
            "<bound method DataFrame.value_counts of               Date   RACE  ...                                   OFFENSE  Year\n",
            "2914    2016-06-08  ASIAN  ...  CRIMINAL TRESPASS, FIRST DEGREE       AM  2016\n",
            "3039    2016-07-18  ASIAN  ...  CRIM VIOL OF PROTECTIVE ORDER         DF  2016\n",
            "3267    2016-01-19  ASIAN  ...  SEXUAL ASSAULT, SECOND DEGREE          F  2016\n",
            "4149    2016-04-12  ASIAN  ...  SALE OF HALLUCIGEN/NARCOTIC SUBSTANCE  F  2016\n",
            "4593    2016-04-08  ASIAN  ...  LARCENY, THIRD DEGREE                 DF  2016\n",
            "...            ...    ...  ...                                       ...   ...\n",
            "1981933 2016-08-23  ASIAN  ...  KIDNAPPING 1ST DEG W/ FIREARM         AF  2016\n",
            "1985372 2016-08-23  ASIAN  ...  KIDNAPPING 1ST DEG W/ FIREARM         AF  2016\n",
            "1986519 2016-08-23  ASIAN  ...  KIDNAPPING 1ST DEG W/ FIREARM         AF  2016\n",
            "1991292 2016-08-23  ASIAN  ...  KIDNAPPING 1ST DEG W/ FIREARM         AF  2016\n",
            "1996278 2016-08-23  ASIAN  ...  KIDNAPPING 1ST DEG W/ FIREARM         AF  2016\n",
            "\n",
            "[3562 rows x 7 columns]>\n"
          ],
          "name": "stdout"
        }
      ]
    },
    {
      "cell_type": "code",
      "metadata": {
        "colab": {
          "base_uri": "https://localhost:8080/"
        },
        "id": "qZw2lkEk-QmV",
        "outputId": "5167f1ef-095f-4608-94c4-bf88e2cffd62"
      },
      "source": [
        "# Percent with bail over $1000\n",
        "3562/3604 * 100"
      ],
      "execution_count": null,
      "outputs": [
        {
          "output_type": "execute_result",
          "data": {
            "text/plain": [
              "98.834628190899"
            ]
          },
          "metadata": {
            "tags": []
          },
          "execution_count": 277
        }
      ]
    },
    {
      "cell_type": "code",
      "metadata": {
        "colab": {
          "base_uri": "https://localhost:8080/"
        },
        "id": "4gINGThS-QzY",
        "outputId": "0bb7d458-6f15-418a-e4ff-892ef03b54ab"
      },
      "source": [
        "df_2016A5 = df_2016A[df_2016A[\"Bond\"] >= 5000]\n",
        "print(df_2016A5.value_counts)"
      ],
      "execution_count": null,
      "outputs": [
        {
          "output_type": "stream",
          "text": [
            "<bound method DataFrame.value_counts of               Date   RACE  ...                                   OFFENSE  Year\n",
            "2914    2016-06-08  ASIAN  ...  CRIMINAL TRESPASS, FIRST DEGREE       AM  2016\n",
            "3039    2016-07-18  ASIAN  ...  CRIM VIOL OF PROTECTIVE ORDER         DF  2016\n",
            "3267    2016-01-19  ASIAN  ...  SEXUAL ASSAULT, SECOND DEGREE          F  2016\n",
            "4149    2016-04-12  ASIAN  ...  SALE OF HALLUCIGEN/NARCOTIC SUBSTANCE  F  2016\n",
            "4593    2016-04-08  ASIAN  ...  LARCENY, THIRD DEGREE                 DF  2016\n",
            "...            ...    ...  ...                                       ...   ...\n",
            "1981933 2016-08-23  ASIAN  ...  KIDNAPPING 1ST DEG W/ FIREARM         AF  2016\n",
            "1985372 2016-08-23  ASIAN  ...  KIDNAPPING 1ST DEG W/ FIREARM         AF  2016\n",
            "1986519 2016-08-23  ASIAN  ...  KIDNAPPING 1ST DEG W/ FIREARM         AF  2016\n",
            "1991292 2016-08-23  ASIAN  ...  KIDNAPPING 1ST DEG W/ FIREARM         AF  2016\n",
            "1996278 2016-08-23  ASIAN  ...  KIDNAPPING 1ST DEG W/ FIREARM         AF  2016\n",
            "\n",
            "[3210 rows x 7 columns]>\n"
          ],
          "name": "stdout"
        }
      ]
    },
    {
      "cell_type": "code",
      "metadata": {
        "colab": {
          "base_uri": "https://localhost:8080/"
        },
        "id": "0Xd7aZ3--Q_e",
        "outputId": "ea405e3c-8037-42ff-abaf-4caa01c2dd15"
      },
      "source": [
        "# Percent with bail over $5000\n",
        "3210/3604 * 100"
      ],
      "execution_count": null,
      "outputs": [
        {
          "output_type": "execute_result",
          "data": {
            "text/plain": [
              "89.0677025527192"
            ]
          },
          "metadata": {
            "tags": []
          },
          "execution_count": 279
        }
      ]
    },
    {
      "cell_type": "code",
      "metadata": {
        "colab": {
          "base_uri": "https://localhost:8080/"
        },
        "id": "_8unDgJV-RNG",
        "outputId": "0c9f1c65-ec35-4110-ce3a-2f6a2ede3d7e"
      },
      "source": [
        "df_2016A10 = df_2016A[df_2016A[\"Bond\"] >= 10000]\n",
        "print(df_2016A10.value_counts)"
      ],
      "execution_count": null,
      "outputs": [
        {
          "output_type": "stream",
          "text": [
            "<bound method DataFrame.value_counts of               Date   RACE  ...                                   OFFENSE  Year\n",
            "3039    2016-07-18  ASIAN  ...  CRIM VIOL OF PROTECTIVE ORDER         DF  2016\n",
            "3267    2016-01-19  ASIAN  ...  SEXUAL ASSAULT, SECOND DEGREE          F  2016\n",
            "4149    2016-04-12  ASIAN  ...  SALE OF HALLUCIGEN/NARCOTIC SUBSTANCE  F  2016\n",
            "4593    2016-04-08  ASIAN  ...  LARCENY, THIRD DEGREE                 DF  2016\n",
            "4962    2016-06-20  ASIAN  ...        VIOLATION OF CONDITIONS OF RELEASE  2016\n",
            "...            ...    ...  ...                                       ...   ...\n",
            "1981933 2016-08-23  ASIAN  ...  KIDNAPPING 1ST DEG W/ FIREARM         AF  2016\n",
            "1985372 2016-08-23  ASIAN  ...  KIDNAPPING 1ST DEG W/ FIREARM         AF  2016\n",
            "1986519 2016-08-23  ASIAN  ...  KIDNAPPING 1ST DEG W/ FIREARM         AF  2016\n",
            "1991292 2016-08-23  ASIAN  ...  KIDNAPPING 1ST DEG W/ FIREARM         AF  2016\n",
            "1996278 2016-08-23  ASIAN  ...  KIDNAPPING 1ST DEG W/ FIREARM         AF  2016\n",
            "\n",
            "[2951 rows x 7 columns]>\n"
          ],
          "name": "stdout"
        }
      ]
    },
    {
      "cell_type": "code",
      "metadata": {
        "colab": {
          "base_uri": "https://localhost:8080/"
        },
        "id": "zbCk42lJ-RZg",
        "outputId": "28313b3c-9530-4380-f403-f8bb0bb07e13"
      },
      "source": [
        "# Percent with bail over $10000\n",
        "2951/3604 * 100"
      ],
      "execution_count": null,
      "outputs": [
        {
          "output_type": "execute_result",
          "data": {
            "text/plain": [
              "81.88124306326304"
            ]
          },
          "metadata": {
            "tags": []
          },
          "execution_count": 281
        }
      ]
    },
    {
      "cell_type": "code",
      "metadata": {
        "colab": {
          "base_uri": "https://localhost:8080/"
        },
        "id": "BVjiN5B7-RjU",
        "outputId": "0db774d5-d75e-43b9-8409-be5e1e7ad101"
      },
      "source": [
        "df_2016A50 = df_2016A[df_2016A[\"Bond\"] >= 50000]\n",
        "print(df_2016A50.value_counts)"
      ],
      "execution_count": null,
      "outputs": [
        {
          "output_type": "stream",
          "text": [
            "<bound method DataFrame.value_counts of               Date   RACE  ...                                   OFFENSE  Year\n",
            "3039    2016-07-18  ASIAN  ...  CRIM VIOL OF PROTECTIVE ORDER         DF  2016\n",
            "3267    2016-01-19  ASIAN  ...  SEXUAL ASSAULT, SECOND DEGREE          F  2016\n",
            "4593    2016-04-08  ASIAN  ...  LARCENY, THIRD DEGREE                 DF  2016\n",
            "4962    2016-06-20  ASIAN  ...        VIOLATION OF CONDITIONS OF RELEASE  2016\n",
            "5188    2016-06-30  ASIAN  ...  CRIMINAL TRESPASS, FIRST DEGREE       AM  2016\n",
            "...            ...    ...  ...                                       ...   ...\n",
            "1981933 2016-08-23  ASIAN  ...  KIDNAPPING 1ST DEG W/ FIREARM         AF  2016\n",
            "1985372 2016-08-23  ASIAN  ...  KIDNAPPING 1ST DEG W/ FIREARM         AF  2016\n",
            "1986519 2016-08-23  ASIAN  ...  KIDNAPPING 1ST DEG W/ FIREARM         AF  2016\n",
            "1991292 2016-08-23  ASIAN  ...  KIDNAPPING 1ST DEG W/ FIREARM         AF  2016\n",
            "1996278 2016-08-23  ASIAN  ...  KIDNAPPING 1ST DEG W/ FIREARM         AF  2016\n",
            "\n",
            "[2005 rows x 7 columns]>\n"
          ],
          "name": "stdout"
        }
      ]
    },
    {
      "cell_type": "code",
      "metadata": {
        "colab": {
          "base_uri": "https://localhost:8080/"
        },
        "id": "QetShKX9-RuC",
        "outputId": "7603bb63-094d-4f34-92ce-f7fca348f2f2"
      },
      "source": [
        "# Percent with bail over $50000\n",
        "2005/3604 * 100"
      ],
      "execution_count": null,
      "outputs": [
        {
          "output_type": "execute_result",
          "data": {
            "text/plain": [
              "55.632630410654826"
            ]
          },
          "metadata": {
            "tags": []
          },
          "execution_count": 283
        }
      ]
    },
    {
      "cell_type": "code",
      "metadata": {
        "colab": {
          "base_uri": "https://localhost:8080/"
        },
        "id": "4eK_muQr-R4z",
        "outputId": "415423d8-5034-49c6-f7d0-35a3046776a2"
      },
      "source": [
        "df_2016A100 = df_2016A[df_2016A[\"Bond\"] >= 100000]\n",
        "print(df_2016A100.value_counts)"
      ],
      "execution_count": null,
      "outputs": [
        {
          "output_type": "stream",
          "text": [
            "<bound method DataFrame.value_counts of               Date   RACE  ...                                   OFFENSE  Year\n",
            "3039    2016-07-18  ASIAN  ...  CRIM VIOL OF PROTECTIVE ORDER         DF  2016\n",
            "3267    2016-01-19  ASIAN  ...  SEXUAL ASSAULT, SECOND DEGREE          F  2016\n",
            "4962    2016-06-20  ASIAN  ...        VIOLATION OF CONDITIONS OF RELEASE  2016\n",
            "5188    2016-06-30  ASIAN  ...  CRIMINAL TRESPASS, FIRST DEGREE       AM  2016\n",
            "5534    2016-06-06  ASIAN  ...  ASSAULT, FIRST DEGREE                 BF  2016\n",
            "...            ...    ...  ...                                       ...   ...\n",
            "1981933 2016-08-23  ASIAN  ...  KIDNAPPING 1ST DEG W/ FIREARM         AF  2016\n",
            "1985372 2016-08-23  ASIAN  ...  KIDNAPPING 1ST DEG W/ FIREARM         AF  2016\n",
            "1986519 2016-08-23  ASIAN  ...  KIDNAPPING 1ST DEG W/ FIREARM         AF  2016\n",
            "1991292 2016-08-23  ASIAN  ...  KIDNAPPING 1ST DEG W/ FIREARM         AF  2016\n",
            "1996278 2016-08-23  ASIAN  ...  KIDNAPPING 1ST DEG W/ FIREARM         AF  2016\n",
            "\n",
            "[1647 rows x 7 columns]>\n"
          ],
          "name": "stdout"
        }
      ]
    },
    {
      "cell_type": "code",
      "metadata": {
        "colab": {
          "base_uri": "https://localhost:8080/"
        },
        "id": "TW3NYoo5-SC6",
        "outputId": "d63c8612-396d-4e31-eb98-9ec864003ecf"
      },
      "source": [
        "# Percent with bail over $100000\n",
        "1647/3604 * 100"
      ],
      "execution_count": null,
      "outputs": [
        {
          "output_type": "execute_result",
          "data": {
            "text/plain": [
              "45.6992230854606"
            ]
          },
          "metadata": {
            "tags": []
          },
          "execution_count": 285
        }
      ]
    },
    {
      "cell_type": "markdown",
      "metadata": {
        "id": "GKRB8mJG-Nk8"
      },
      "source": [
        "**Native American 2016**"
      ]
    },
    {
      "cell_type": "code",
      "metadata": {
        "colab": {
          "base_uri": "https://localhost:8080/"
        },
        "id": "NalQX_Wx3Dgo",
        "outputId": "bd76af46-013d-4564-9f8b-03511b2d201e"
      },
      "source": [
        "df_2016NA = df_2016[(df_2016[\"RACE\"] == 'AMER IND')]\n",
        "df_2016NA.value_counts"
      ],
      "execution_count": null,
      "outputs": [
        {
          "output_type": "execute_result",
          "data": {
            "text/plain": [
              "<bound method DataFrame.value_counts of               Date      RACE  ...                                   OFFENSE  Year\n",
              "3238    2016-04-20  AMER IND  ...  BURGLARY, THIRD DEGREE                DF  2016\n",
              "3258    2016-07-05  AMER IND  ...  ASSAULT, THIRD DEGREE                 AM  2016\n",
              "3461    2016-04-01  AMER IND  ...  ASSAULT, THIRD DEGREE                 AM  2016\n",
              "3605    2016-01-19  AMER IND  ...  ROBBERY, FIRST DEGREE                 BF  2016\n",
              "3668    2016-07-08  AMER IND  ...                   POSSESSION OF NARCOTICS  2016\n",
              "...            ...       ...  ...                                       ...   ...\n",
              "2495691 2016-09-08  AMER IND  ...   ROBBERY, FIRST DEGREE                BF  2016\n",
              "2498421 2016-09-08  AMER IND  ...   ROBBERY, FIRST DEGREE                BF  2016\n",
              "2501502 2016-09-08  AMER IND  ...   ROBBERY, FIRST DEGREE                BF  2016\n",
              "2504694 2016-09-08  AMER IND  ...   ROBBERY, FIRST DEGREE                BF  2016\n",
              "2507902 2016-09-08  AMER IND  ...   ROBBERY, FIRST DEGREE                BF  2016\n",
              "\n",
              "[2264 rows x 7 columns]>"
            ]
          },
          "metadata": {
            "tags": []
          },
          "execution_count": 241
        }
      ]
    },
    {
      "cell_type": "code",
      "metadata": {
        "colab": {
          "base_uri": "https://localhost:8080/"
        },
        "id": "7HPeuWJ_4eP2",
        "outputId": "a9501c30-3391-4199-a129-6b0089534730"
      },
      "source": [
        "2264/776326 *100"
      ],
      "execution_count": null,
      "outputs": [
        {
          "output_type": "execute_result",
          "data": {
            "text/plain": [
              "0.29163006262832886"
            ]
          },
          "metadata": {
            "tags": []
          },
          "execution_count": 242
        }
      ]
    },
    {
      "cell_type": "code",
      "metadata": {
        "colab": {
          "base_uri": "https://localhost:8080/"
        },
        "id": "sTyeqgbI_Ent",
        "outputId": "70948b60-2777-43b6-bd7c-0a648e39fc7f"
      },
      "source": [
        "df_2016NA1 = df_2016NA[df_2016NA[\"Bond\"] >= 1000]\n",
        "print(df_2016NA1.value_counts)"
      ],
      "execution_count": null,
      "outputs": [
        {
          "output_type": "stream",
          "text": [
            "<bound method DataFrame.value_counts of               Date      RACE  ...                                   OFFENSE  Year\n",
            "3238    2016-04-20  AMER IND  ...  BURGLARY, THIRD DEGREE                DF  2016\n",
            "3258    2016-07-05  AMER IND  ...  ASSAULT, THIRD DEGREE                 AM  2016\n",
            "3461    2016-04-01  AMER IND  ...  ASSAULT, THIRD DEGREE                 AM  2016\n",
            "3605    2016-01-19  AMER IND  ...  ROBBERY, FIRST DEGREE                 BF  2016\n",
            "3668    2016-07-08  AMER IND  ...                   POSSESSION OF NARCOTICS  2016\n",
            "...            ...       ...  ...                                       ...   ...\n",
            "2495691 2016-09-08  AMER IND  ...   ROBBERY, FIRST DEGREE                BF  2016\n",
            "2498421 2016-09-08  AMER IND  ...   ROBBERY, FIRST DEGREE                BF  2016\n",
            "2501502 2016-09-08  AMER IND  ...   ROBBERY, FIRST DEGREE                BF  2016\n",
            "2504694 2016-09-08  AMER IND  ...   ROBBERY, FIRST DEGREE                BF  2016\n",
            "2507902 2016-09-08  AMER IND  ...   ROBBERY, FIRST DEGREE                BF  2016\n",
            "\n",
            "[2250 rows x 7 columns]>\n"
          ],
          "name": "stdout"
        }
      ]
    },
    {
      "cell_type": "code",
      "metadata": {
        "colab": {
          "base_uri": "https://localhost:8080/"
        },
        "id": "5m9sE_lk_EwY",
        "outputId": "30e60ace-722a-48e3-9f77-c9c6c9217ff1"
      },
      "source": [
        "# Percent with bail over $1000\n",
        "2250/2264 * 100"
      ],
      "execution_count": null,
      "outputs": [
        {
          "output_type": "execute_result",
          "data": {
            "text/plain": [
              "99.38162544169612"
            ]
          },
          "metadata": {
            "tags": []
          },
          "execution_count": 287
        }
      ]
    },
    {
      "cell_type": "code",
      "metadata": {
        "colab": {
          "base_uri": "https://localhost:8080/"
        },
        "id": "Ibe52-SF_E52",
        "outputId": "35623dc7-9719-46d1-fdde-bcc28a32d96b"
      },
      "source": [
        "df_2016NA5 = df_2016NA[df_2016NA[\"Bond\"] >= 5000]\n",
        "print(df_2016NA5.value_counts)"
      ],
      "execution_count": null,
      "outputs": [
        {
          "output_type": "stream",
          "text": [
            "<bound method DataFrame.value_counts of               Date      RACE  ...                                   OFFENSE  Year\n",
            "3238    2016-04-20  AMER IND  ...  BURGLARY, THIRD DEGREE                DF  2016\n",
            "3258    2016-07-05  AMER IND  ...  ASSAULT, THIRD DEGREE                 AM  2016\n",
            "3461    2016-04-01  AMER IND  ...  ASSAULT, THIRD DEGREE                 AM  2016\n",
            "3605    2016-01-19  AMER IND  ...  ROBBERY, FIRST DEGREE                 BF  2016\n",
            "3668    2016-07-08  AMER IND  ...                   POSSESSION OF NARCOTICS  2016\n",
            "...            ...       ...  ...                                       ...   ...\n",
            "2495691 2016-09-08  AMER IND  ...   ROBBERY, FIRST DEGREE                BF  2016\n",
            "2498421 2016-09-08  AMER IND  ...   ROBBERY, FIRST DEGREE                BF  2016\n",
            "2501502 2016-09-08  AMER IND  ...   ROBBERY, FIRST DEGREE                BF  2016\n",
            "2504694 2016-09-08  AMER IND  ...   ROBBERY, FIRST DEGREE                BF  2016\n",
            "2507902 2016-09-08  AMER IND  ...   ROBBERY, FIRST DEGREE                BF  2016\n",
            "\n",
            "[2167 rows x 7 columns]>\n"
          ],
          "name": "stdout"
        }
      ]
    },
    {
      "cell_type": "code",
      "metadata": {
        "colab": {
          "base_uri": "https://localhost:8080/"
        },
        "id": "_DgPfLRH_FCi",
        "outputId": "2349bcad-0546-497f-9f2a-477ce88fefbf"
      },
      "source": [
        "# Percent with bail over $5000\n",
        "2167/2264 * 100"
      ],
      "execution_count": null,
      "outputs": [
        {
          "output_type": "execute_result",
          "data": {
            "text/plain": [
              "95.71554770318022"
            ]
          },
          "metadata": {
            "tags": []
          },
          "execution_count": 289
        }
      ]
    },
    {
      "cell_type": "code",
      "metadata": {
        "colab": {
          "base_uri": "https://localhost:8080/"
        },
        "id": "gdJjnqry_FLm",
        "outputId": "71cf3ffb-096f-453e-8ce0-64d4a279f3b1"
      },
      "source": [
        "df_2016NA10 = df_2016NA[df_2016NA[\"Bond\"] >= 10000]\n",
        "print(df_2016NA10.value_counts)"
      ],
      "execution_count": null,
      "outputs": [
        {
          "output_type": "stream",
          "text": [
            "<bound method DataFrame.value_counts of               Date      RACE  ...                                   OFFENSE  Year\n",
            "3238    2016-04-20  AMER IND  ...  BURGLARY, THIRD DEGREE                DF  2016\n",
            "3258    2016-07-05  AMER IND  ...  ASSAULT, THIRD DEGREE                 AM  2016\n",
            "3461    2016-04-01  AMER IND  ...  ASSAULT, THIRD DEGREE                 AM  2016\n",
            "3605    2016-01-19  AMER IND  ...  ROBBERY, FIRST DEGREE                 BF  2016\n",
            "3668    2016-07-08  AMER IND  ...                   POSSESSION OF NARCOTICS  2016\n",
            "...            ...       ...  ...                                       ...   ...\n",
            "2495691 2016-09-08  AMER IND  ...   ROBBERY, FIRST DEGREE                BF  2016\n",
            "2498421 2016-09-08  AMER IND  ...   ROBBERY, FIRST DEGREE                BF  2016\n",
            "2501502 2016-09-08  AMER IND  ...   ROBBERY, FIRST DEGREE                BF  2016\n",
            "2504694 2016-09-08  AMER IND  ...   ROBBERY, FIRST DEGREE                BF  2016\n",
            "2507902 2016-09-08  AMER IND  ...   ROBBERY, FIRST DEGREE                BF  2016\n",
            "\n",
            "[1979 rows x 7 columns]>\n"
          ],
          "name": "stdout"
        }
      ]
    },
    {
      "cell_type": "code",
      "metadata": {
        "colab": {
          "base_uri": "https://localhost:8080/"
        },
        "id": "cZhaRXa9_FTz",
        "outputId": "543fcbf5-f3be-4e15-e043-46d41d3b0ef3"
      },
      "source": [
        "# Percent with bail over $10000\n",
        "1979/2264 * 100"
      ],
      "execution_count": null,
      "outputs": [
        {
          "output_type": "execute_result",
          "data": {
            "text/plain": [
              "87.41166077738515"
            ]
          },
          "metadata": {
            "tags": []
          },
          "execution_count": 291
        }
      ]
    },
    {
      "cell_type": "code",
      "metadata": {
        "colab": {
          "base_uri": "https://localhost:8080/"
        },
        "id": "INSqnFoh_FdD",
        "outputId": "f0d0dc9a-4102-46cf-a7b7-324ea3e60040"
      },
      "source": [
        "df_2016NA50 = df_2016NA[df_2016NA[\"Bond\"] >= 50000]\n",
        "print(df_2016NA50.value_counts)"
      ],
      "execution_count": null,
      "outputs": [
        {
          "output_type": "stream",
          "text": [
            "<bound method DataFrame.value_counts of               Date      RACE  ...                                   OFFENSE  Year\n",
            "3461    2016-04-01  AMER IND  ...  ASSAULT, THIRD DEGREE                 AM  2016\n",
            "3605    2016-01-19  AMER IND  ...  ROBBERY, FIRST DEGREE                 BF  2016\n",
            "3796    2016-06-07  AMER IND  ...     VIOLATION OF PROBATION OR COND DISCHG  2016\n",
            "4376    2016-07-18  AMER IND  ...                    ARREST WITHOUT WARRANT  2016\n",
            "4912    2016-06-23  AMER IND  ...                                CONSPIRACY  2016\n",
            "...            ...       ...  ...                                       ...   ...\n",
            "2495691 2016-09-08  AMER IND  ...   ROBBERY, FIRST DEGREE                BF  2016\n",
            "2498421 2016-09-08  AMER IND  ...   ROBBERY, FIRST DEGREE                BF  2016\n",
            "2501502 2016-09-08  AMER IND  ...   ROBBERY, FIRST DEGREE                BF  2016\n",
            "2504694 2016-09-08  AMER IND  ...   ROBBERY, FIRST DEGREE                BF  2016\n",
            "2507902 2016-09-08  AMER IND  ...   ROBBERY, FIRST DEGREE                BF  2016\n",
            "\n",
            "[1571 rows x 7 columns]>\n"
          ],
          "name": "stdout"
        }
      ]
    },
    {
      "cell_type": "code",
      "metadata": {
        "colab": {
          "base_uri": "https://localhost:8080/"
        },
        "id": "pIaGaLVk_FlF",
        "outputId": "4fced5f1-7153-4d9f-eb06-f299030f2033"
      },
      "source": [
        "# Percent with bail over $50000\n",
        "1571/2264 * 100"
      ],
      "execution_count": null,
      "outputs": [
        {
          "output_type": "execute_result",
          "data": {
            "text/plain": [
              "69.3904593639576"
            ]
          },
          "metadata": {
            "tags": []
          },
          "execution_count": 293
        }
      ]
    },
    {
      "cell_type": "code",
      "metadata": {
        "colab": {
          "base_uri": "https://localhost:8080/"
        },
        "id": "a9-ZmNN8_Fs1",
        "outputId": "1f09149e-51a4-402a-af16-d23f48312511"
      },
      "source": [
        "df_2016NA100 = df_2016NA[df_2016NA[\"Bond\"] >= 100000]\n",
        "print(df_2016NA100.value_counts)"
      ],
      "execution_count": null,
      "outputs": [
        {
          "output_type": "stream",
          "text": [
            "<bound method DataFrame.value_counts of               Date      RACE  ...                                   OFFENSE  Year\n",
            "3605    2016-01-19  AMER IND  ...  ROBBERY, FIRST DEGREE                 BF  2016\n",
            "3796    2016-06-07  AMER IND  ...     VIOLATION OF PROBATION OR COND DISCHG  2016\n",
            "4912    2016-06-23  AMER IND  ...                                CONSPIRACY  2016\n",
            "5817    2016-01-14  AMER IND  ...  ROBBERY, FIRST DEGREE                 BF  2016\n",
            "5851    2016-02-11  AMER IND  ...  STRANGULATION 2ND DEGREE              DF  2016\n",
            "...            ...       ...  ...                                       ...   ...\n",
            "2495691 2016-09-08  AMER IND  ...   ROBBERY, FIRST DEGREE                BF  2016\n",
            "2498421 2016-09-08  AMER IND  ...   ROBBERY, FIRST DEGREE                BF  2016\n",
            "2501502 2016-09-08  AMER IND  ...   ROBBERY, FIRST DEGREE                BF  2016\n",
            "2504694 2016-09-08  AMER IND  ...   ROBBERY, FIRST DEGREE                BF  2016\n",
            "2507902 2016-09-08  AMER IND  ...   ROBBERY, FIRST DEGREE                BF  2016\n",
            "\n",
            "[1095 rows x 7 columns]>\n"
          ],
          "name": "stdout"
        }
      ]
    },
    {
      "cell_type": "code",
      "metadata": {
        "colab": {
          "base_uri": "https://localhost:8080/"
        },
        "id": "TdPdJQt7_F1g",
        "outputId": "ab2b5de0-7f74-4b7f-e33c-2a5b1abd5845"
      },
      "source": [
        "# Percent with bail over $100000\n",
        "1095/2264 * 100"
      ],
      "execution_count": null,
      "outputs": [
        {
          "output_type": "execute_result",
          "data": {
            "text/plain": [
              "48.36572438162544"
            ]
          },
          "metadata": {
            "tags": []
          },
          "execution_count": 295
        }
      ]
    },
    {
      "cell_type": "markdown",
      "metadata": {
        "id": "ITi_BboX207B"
      },
      "source": [
        "**Pop numbers and population**"
      ]
    },
    {
      "cell_type": "code",
      "metadata": {
        "colab": {
          "base_uri": "https://localhost:8080/"
        },
        "id": "a4mNZk9-gitZ",
        "outputId": "0ea8e285-277f-41b6-aa2a-dc20b71699a9"
      },
      "source": [
        "81089+34401+32403+824"
      ],
      "execution_count": null,
      "outputs": [
        {
          "output_type": "execute_result",
          "data": {
            "text/plain": [
              "148717"
            ]
          },
          "metadata": {
            "tags": []
          },
          "execution_count": 111
        }
      ]
    },
    {
      "cell_type": "code",
      "metadata": {
        "colab": {
          "base_uri": "https://localhost:8080/"
        },
        "id": "YxE2GyNHgZBD",
        "outputId": "e1353efc-aa50-4cea-c838-c5c1edd46178"
      },
      "source": [
        "81089/148717 *100"
      ],
      "execution_count": null,
      "outputs": [
        {
          "output_type": "execute_result",
          "data": {
            "text/plain": [
              "54.52570990539078"
            ]
          },
          "metadata": {
            "tags": []
          },
          "execution_count": 112
        }
      ]
    },
    {
      "cell_type": "code",
      "metadata": {
        "colab": {
          "base_uri": "https://localhost:8080/"
        },
        "id": "y_bI5zNrkbmv",
        "outputId": "1b27069e-c166-4980-f785-ab7abdc2fc4d"
      },
      "source": [
        "34401/148717 *100"
      ],
      "execution_count": null,
      "outputs": [
        {
          "output_type": "execute_result",
          "data": {
            "text/plain": [
              "23.131854461830187"
            ]
          },
          "metadata": {
            "tags": []
          },
          "execution_count": 113
        }
      ]
    },
    {
      "cell_type": "code",
      "metadata": {
        "colab": {
          "base_uri": "https://localhost:8080/"
        },
        "id": "iNh2GQr3kbqJ",
        "outputId": "95f0f709-ad7b-44e7-b861-47083fcf52bc"
      },
      "source": [
        "32403/148717 *100"
      ],
      "execution_count": null,
      "outputs": [
        {
          "output_type": "execute_result",
          "data": {
            "text/plain": [
              "21.788363132661363"
            ]
          },
          "metadata": {
            "tags": []
          },
          "execution_count": 114
        }
      ]
    },
    {
      "cell_type": "code",
      "metadata": {
        "colab": {
          "base_uri": "https://localhost:8080/"
        },
        "id": "DJybjCiqkbtW",
        "outputId": "b8c88c29-10c6-4020-e49a-db02537e25ea"
      },
      "source": [
        "824/148717 *100"
      ],
      "execution_count": null,
      "outputs": [
        {
          "output_type": "execute_result",
          "data": {
            "text/plain": [
              "0.5540725001176732"
            ]
          },
          "metadata": {
            "tags": []
          },
          "execution_count": 115
        }
      ]
    },
    {
      "cell_type": "code",
      "metadata": {
        "id": "7Lw-rVpvkb07"
      },
      "source": [
        "34401/148717 *100"
      ],
      "execution_count": null,
      "outputs": []
    },
    {
      "cell_type": "code",
      "metadata": {
        "id": "zKtZDFYS0X0b"
      },
      "source": [
        ""
      ],
      "execution_count": null,
      "outputs": []
    },
    {
      "cell_type": "markdown",
      "metadata": {
        "id": "MDXlKnts253U"
      },
      "source": [
        "**Percentiles of Bail Amounts**"
      ]
    },
    {
      "cell_type": "code",
      "metadata": {
        "colab": {
          "base_uri": "https://localhost:8080/"
        },
        "id": "MZVr6cLU0X5T",
        "outputId": "63876f33-acd7-400c-a113-d36dc5212957"
      },
      "source": [
        "#Finding Percentiles of bail\n",
        "np.percentile(df.Bond, [25, 50, 75, 90])"
      ],
      "execution_count": null,
      "outputs": [
        {
          "output_type": "execute_result",
          "data": {
            "text/plain": [
              "array([ 33500., 100000., 250000., 600000.])"
            ]
          },
          "metadata": {
            "tags": []
          },
          "execution_count": 219
        }
      ]
    },
    {
      "cell_type": "code",
      "metadata": {
        "colab": {
          "base_uri": "https://localhost:8080/"
        },
        "id": "bmHFXTo504Aa",
        "outputId": "4be87cee-e015-4bf4-8b31-8e683ab72596"
      },
      "source": [
        "df_less10 = df[df[\"Bond\"] <= 10000]\n",
        "df_less10.value_counts"
      ],
      "execution_count": null,
      "outputs": [
        {
          "output_type": "execute_result",
          "data": {
            "text/plain": [
              "<bound method DataFrame.value_counts of               Date      RACE  ...                                   OFFENSE  Year\n",
              "8       2020-05-13     BLACK  ...  INTERFERING WITH AN OFFICER           AM  2020\n",
              "16      2014-10-02     WHITE  ...                          CRIMINAL ATTEMPT  2014\n",
              "28      2017-05-08     WHITE  ...                          CRIMINAL ATTEMPT  2017\n",
              "61      2020-02-11  HISPANIC  ...  ASSAULT ON POLICE OR FIRE OFFICER     CF  2020\n",
              "83      2011-12-22     BLACK  ...  RECKLESS ENDANGERMENT, FIRST DEGREE   AM  2011\n",
              "...            ...       ...  ...                                       ...   ...\n",
              "5351753 2021-03-24  HISPANIC  ...  CRIM VIOL OF PROTECTIVE ORDER         DF  2021\n",
              "5351760 2015-05-27     BLACK  ...  ASSAULT, THIRD DEGREE                 AM  2015\n",
              "5351808 2014-09-02     BLACK  ...  ASSAULT ON POLICE OR FIRE OFFICER     CF  2014\n",
              "5351819 2021-02-18  HISPANIC  ...  LARCENY, SECOND DEGREE                CF  2021\n",
              "5351829 2021-03-15     WHITE  ...  CRIM VIOL OF PROTECTIVE ORDER         DF  2021\n",
              "\n",
              "[586167 rows x 7 columns]>"
            ]
          },
          "metadata": {
            "tags": []
          },
          "execution_count": 224
        }
      ]
    },
    {
      "cell_type": "code",
      "metadata": {
        "colab": {
          "base_uri": "https://localhost:8080/"
        },
        "id": "7yzv-OXm1DPX",
        "outputId": "e177662c-0679-4b08-ddc3-08b5761aac29"
      },
      "source": [
        "df.value_counts"
      ],
      "execution_count": null,
      "outputs": [
        {
          "output_type": "execute_result",
          "data": {
            "text/plain": [
              "<bound method DataFrame.value_counts of               Date      RACE  ...                                   OFFENSE  Year\n",
              "0       2018-08-16     BLACK  ...  CRIMINAL POSS OF PISTOL/REVOLVER      DF  2018\n",
              "1       2019-03-28  HISPANIC  ...     VIOLATION OF PROBATION OR COND DISCHG  2019\n",
              "2       2020-04-03  HISPANIC  ...                          CRIMINAL ATTEMPT  2020\n",
              "3       2020-01-15     WHITE  ...  CRIM VIOL OF PROTECTIVE ORDER         DF  2020\n",
              "4       2018-12-26  HISPANIC  ...                          CRIMINAL ATTEMPT  2018\n",
              "...            ...       ...  ...                                       ...   ...\n",
              "5351844 2014-01-02     BLACK  ...  ROBBERY, FIRST DEGREE                 BF  2014\n",
              "5351845 2020-12-01  HISPANIC  ...  BURGLARY, FIRST DEGREE                BF  2020\n",
              "5351846 2019-08-12     WHITE  ...  HOME INVASION                         AF  2019\n",
              "5351847 2021-03-08  HISPANIC  ...  CRIMINAL POSS OF PISTOL/REVOLVER      DF  2021\n",
              "5351848 2021-02-05     WHITE  ...     VIOLATION OF PROBATION OR COND DISCHG  2021\n",
              "\n",
              "[5351849 rows x 7 columns]>"
            ]
          },
          "metadata": {
            "tags": []
          },
          "execution_count": 222
        }
      ]
    },
    {
      "cell_type": "code",
      "metadata": {
        "colab": {
          "base_uri": "https://localhost:8080/"
        },
        "id": "0kTibYdu1GfV",
        "outputId": "1d5137cf-9926-453f-da64-b236a2b4e734"
      },
      "source": [
        "586167/5351849 *100"
      ],
      "execution_count": null,
      "outputs": [
        {
          "output_type": "execute_result",
          "data": {
            "text/plain": [
              "10.952607220420457"
            ]
          },
          "metadata": {
            "tags": []
          },
          "execution_count": 227
        }
      ]
    },
    {
      "cell_type": "code",
      "metadata": {
        "colab": {
          "base_uri": "https://localhost:8080/"
        },
        "id": "erKAJ5dH1ijY",
        "outputId": "517e756a-c1c2-47da-c622-e2060145f9a9"
      },
      "source": [
        "df_less5 = df[df[\"Bond\"] <= 5000]\n",
        "df_less5.value_counts"
      ],
      "execution_count": null,
      "outputs": [
        {
          "output_type": "execute_result",
          "data": {
            "text/plain": [
              "<bound method DataFrame.value_counts of               Date      RACE  ...                                   OFFENSE  Year\n",
              "83      2011-12-22     BLACK  ...  RECKLESS ENDANGERMENT, FIRST DEGREE   AM  2011\n",
              "103     2009-08-13     BLACK  ...  HARASSMENT, 2ND DEGREE                CM  2009\n",
              "144     2020-02-28     BLACK  ...  OPERATING UNDER SUSPENDED LIC OR REG.  M  2020\n",
              "176     2020-01-03     BLACK  ...  ASSAULT, THIRD DEGREE                 AM  2020\n",
              "200     2017-10-16  HISPANIC  ...  SALE OF HALLUCIGEN/NARCOTIC SUBSTANCE  F  2017\n",
              "...            ...       ...  ...                                       ...   ...\n",
              "5351651 2008-02-19     BLACK  ...  THREATENING                           AM  2008\n",
              "5351664 2021-01-28     WHITE  ...  LARCENY, SECOND DEGREE                CF  2021\n",
              "5351667 2017-06-07     WHITE  ...  UNLAWFUL ENTRY INTO COIN MACHINE      AM  2017\n",
              "5351751 2014-01-09     WHITE  ...  BREACH OF PEACE                       BM  2014\n",
              "5351760 2015-05-27     BLACK  ...  ASSAULT, THIRD DEGREE                 AM  2015\n",
              "\n",
              "[306151 rows x 7 columns]>"
            ]
          },
          "metadata": {
            "tags": []
          },
          "execution_count": 228
        }
      ]
    },
    {
      "cell_type": "code",
      "metadata": {
        "colab": {
          "base_uri": "https://localhost:8080/"
        },
        "id": "3GxcnIJZ1i0g",
        "outputId": "666e0bbf-ad91-47b6-9082-18fde445dcd8"
      },
      "source": [
        "306151/5351849 *100"
      ],
      "execution_count": null,
      "outputs": [
        {
          "output_type": "execute_result",
          "data": {
            "text/plain": [
              "5.720471560389689"
            ]
          },
          "metadata": {
            "tags": []
          },
          "execution_count": 229
        }
      ]
    },
    {
      "cell_type": "code",
      "metadata": {
        "colab": {
          "base_uri": "https://localhost:8080/"
        },
        "id": "W9G34Ey91vBo",
        "outputId": "edab9b2d-b066-46e6-cc0d-3f78ca1f3923"
      },
      "source": [
        "df_less1 = df[df[\"Bond\"] <= 1000]\n",
        "df_less1.value_counts"
      ],
      "execution_count": null,
      "outputs": [
        {
          "output_type": "execute_result",
          "data": {
            "text/plain": [
              "<bound method DataFrame.value_counts of               Date      RACE  ...                                   OFFENSE  Year\n",
              "144     2020-02-28     BLACK  ...  OPERATING UNDER SUSPENDED LIC OR REG.  M  2020\n",
              "250     2015-11-12  HISPANIC  ...                   POSSESSION OF NARCOTICS  2015\n",
              "278     2019-12-27     WHITE  ...  FAILURE TO APPEAR, SECOND DEGREE      AM  2019\n",
              "572     2020-03-24     BLACK  ...  CRIM VIOL OF PROTECTIVE ORDER         DF  2020\n",
              "586     2016-05-02     WHITE  ...  ASSAULT, THIRD DEGREE                 AM  2016\n",
              "...            ...       ...  ...                                       ...   ...\n",
              "5351406 2021-03-10     BLACK  ...                          CRIMINAL ATTEMPT  2021\n",
              "5351467 2017-09-01     WHITE  ...  ROBBERY, THIRD DEGREE                 DF  2017\n",
              "5351547 2014-07-25  HISPANIC  ...  DISORDERLY CONDUCT                    CM  2014\n",
              "5351651 2008-02-19     BLACK  ...  THREATENING                           AM  2008\n",
              "5351664 2021-01-28     WHITE  ...  LARCENY, SECOND DEGREE                CF  2021\n",
              "\n",
              "[81925 rows x 7 columns]>"
            ]
          },
          "metadata": {
            "tags": []
          },
          "execution_count": 230
        }
      ]
    },
    {
      "cell_type": "code",
      "metadata": {
        "colab": {
          "base_uri": "https://localhost:8080/"
        },
        "id": "iGn1INkd1zZ8",
        "outputId": "8ba7156d-aa5a-43f2-bcbe-fd20bb674d51"
      },
      "source": [
        "81925/5351849 *100"
      ],
      "execution_count": null,
      "outputs": [
        {
          "output_type": "execute_result",
          "data": {
            "text/plain": [
              "1.5307793624222208"
            ]
          },
          "metadata": {
            "tags": []
          },
          "execution_count": 231
        }
      ]
    },
    {
      "cell_type": "markdown",
      "metadata": {
        "id": "yUwopSadFQAM"
      },
      "source": [
        "**Risk Ratio and Odds Ratio**"
      ]
    },
    {
      "cell_type": "code",
      "metadata": {
        "colab": {
          "base_uri": "https://localhost:8080/",
          "height": 230
        },
        "id": "cMGlbD_WFOtT",
        "outputId": "b37df88e-f304-4fb2-deac-3626640f7241"
      },
      "source": [
        "import numpy as np\n",
        "import pandas as pd\n",
        "from scipy.stats import norm\n",
        "#from zepid import RiskRatio\n",
        "\n",
        "# creating an example data set\n",
        "df = pd.DataFrame()\n",
        "#df['A'] = [1, 0, 1, 0, 1, 1]\n",
        "#df['B'] = [1, 1, 0, 0, 0, 0]\n",
        "\n",
        "# calculating risk ratio\n",
        "rr = RiskRatio()\n",
        "rr.fit(df, exposure='RACE', outcome='Bond')\n",
        "\n",
        "# calculating p-value\n",
        "est= rr.results['RiskRatio'][1]\n",
        "std = rr.results['SD(RR)'][1]\n",
        "z_score = np.log(est)/std\n",
        "p_value = norm.sf(abs(z_score))*2"
      ],
      "execution_count": null,
      "outputs": [
        {
          "output_type": "error",
          "ename": "NameError",
          "evalue": "ignored",
          "traceback": [
            "\u001b[0;31m---------------------------------------------------------------------------\u001b[0m",
            "\u001b[0;31mNameError\u001b[0m                                 Traceback (most recent call last)",
            "\u001b[0;32m<ipython-input-297-f4244f8bcbca>\u001b[0m in \u001b[0;36m<module>\u001b[0;34m()\u001b[0m\n\u001b[1;32m     10\u001b[0m \u001b[0;34m\u001b[0m\u001b[0m\n\u001b[1;32m     11\u001b[0m \u001b[0;31m# calculating risk ratio\u001b[0m\u001b[0;34m\u001b[0m\u001b[0;34m\u001b[0m\u001b[0;34m\u001b[0m\u001b[0m\n\u001b[0;32m---> 12\u001b[0;31m \u001b[0mrr\u001b[0m \u001b[0;34m=\u001b[0m \u001b[0mRiskRatio\u001b[0m\u001b[0;34m(\u001b[0m\u001b[0;34m)\u001b[0m\u001b[0;34m\u001b[0m\u001b[0;34m\u001b[0m\u001b[0m\n\u001b[0m\u001b[1;32m     13\u001b[0m \u001b[0mrr\u001b[0m\u001b[0;34m.\u001b[0m\u001b[0mfit\u001b[0m\u001b[0;34m(\u001b[0m\u001b[0mdf\u001b[0m\u001b[0;34m,\u001b[0m \u001b[0mexposure\u001b[0m\u001b[0;34m=\u001b[0m\u001b[0;34m'RACE'\u001b[0m\u001b[0;34m,\u001b[0m \u001b[0moutcome\u001b[0m\u001b[0;34m=\u001b[0m\u001b[0;34m'Bond'\u001b[0m\u001b[0;34m)\u001b[0m\u001b[0;34m\u001b[0m\u001b[0;34m\u001b[0m\u001b[0m\n\u001b[1;32m     14\u001b[0m \u001b[0;34m\u001b[0m\u001b[0m\n",
            "\u001b[0;31mNameError\u001b[0m: name 'RiskRatio' is not defined"
          ]
        }
      ]
    },
    {
      "cell_type": "code",
      "metadata": {
        "id": "8QTwbxpSGcQi"
      },
      "source": [
        ""
      ],
      "execution_count": null,
      "outputs": []
    },
    {
      "cell_type": "code",
      "metadata": {
        "colab": {
          "base_uri": "https://localhost:8080/",
          "height": 388
        },
        "id": "FAbTcyt3GL7q",
        "outputId": "32bb45f8-43d8-49e3-cc34-feca9851b7f6"
      },
      "source": [
        "from sklearn.linear_model import LogisticRegression\n",
        "\n",
        "clf = LogisticRegression(penalty='none')\n",
        "clf.fit(df[['RACE']],df[['Bond']].values)\n",
        "odds_ratio=np.exp(clf.coef_)\n",
        "\n",
        "print(odd_ratio)\n"
      ],
      "execution_count": null,
      "outputs": [
        {
          "output_type": "error",
          "ename": "KeyError",
          "evalue": "ignored",
          "traceback": [
            "\u001b[0;31m---------------------------------------------------------------------------\u001b[0m",
            "\u001b[0;31mKeyError\u001b[0m                                  Traceback (most recent call last)",
            "\u001b[0;32m<ipython-input-299-477dc4992243>\u001b[0m in \u001b[0;36m<module>\u001b[0;34m()\u001b[0m\n\u001b[1;32m      2\u001b[0m \u001b[0;34m\u001b[0m\u001b[0m\n\u001b[1;32m      3\u001b[0m \u001b[0mclf\u001b[0m \u001b[0;34m=\u001b[0m \u001b[0mLogisticRegression\u001b[0m\u001b[0;34m(\u001b[0m\u001b[0mpenalty\u001b[0m\u001b[0;34m=\u001b[0m\u001b[0;34m'none'\u001b[0m\u001b[0;34m)\u001b[0m\u001b[0;34m\u001b[0m\u001b[0;34m\u001b[0m\u001b[0m\n\u001b[0;32m----> 4\u001b[0;31m \u001b[0mclf\u001b[0m\u001b[0;34m.\u001b[0m\u001b[0mfit\u001b[0m\u001b[0;34m(\u001b[0m\u001b[0mdf\u001b[0m\u001b[0;34m[\u001b[0m\u001b[0;34m[\u001b[0m\u001b[0;34m'RACE'\u001b[0m\u001b[0;34m]\u001b[0m\u001b[0;34m]\u001b[0m\u001b[0;34m,\u001b[0m\u001b[0mdf\u001b[0m\u001b[0;34m[\u001b[0m\u001b[0;34m[\u001b[0m\u001b[0;34m'Bond'\u001b[0m\u001b[0;34m]\u001b[0m\u001b[0;34m]\u001b[0m\u001b[0;34m.\u001b[0m\u001b[0mvalues\u001b[0m\u001b[0;34m)\u001b[0m\u001b[0;34m\u001b[0m\u001b[0;34m\u001b[0m\u001b[0m\n\u001b[0m\u001b[1;32m      5\u001b[0m \u001b[0modds_ratio\u001b[0m\u001b[0;34m=\u001b[0m\u001b[0mnp\u001b[0m\u001b[0;34m.\u001b[0m\u001b[0mexp\u001b[0m\u001b[0;34m(\u001b[0m\u001b[0mclf\u001b[0m\u001b[0;34m.\u001b[0m\u001b[0mcoef_\u001b[0m\u001b[0;34m)\u001b[0m\u001b[0;34m\u001b[0m\u001b[0;34m\u001b[0m\u001b[0m\n\u001b[1;32m      6\u001b[0m \u001b[0;34m\u001b[0m\u001b[0m\n",
            "\u001b[0;32m/usr/local/lib/python3.7/dist-packages/pandas/core/frame.py\u001b[0m in \u001b[0;36m__getitem__\u001b[0;34m(self, key)\u001b[0m\n\u001b[1;32m   2910\u001b[0m             \u001b[0;32mif\u001b[0m \u001b[0mis_iterator\u001b[0m\u001b[0;34m(\u001b[0m\u001b[0mkey\u001b[0m\u001b[0;34m)\u001b[0m\u001b[0;34m:\u001b[0m\u001b[0;34m\u001b[0m\u001b[0;34m\u001b[0m\u001b[0m\n\u001b[1;32m   2911\u001b[0m                 \u001b[0mkey\u001b[0m \u001b[0;34m=\u001b[0m \u001b[0mlist\u001b[0m\u001b[0;34m(\u001b[0m\u001b[0mkey\u001b[0m\u001b[0;34m)\u001b[0m\u001b[0;34m\u001b[0m\u001b[0;34m\u001b[0m\u001b[0m\n\u001b[0;32m-> 2912\u001b[0;31m             \u001b[0mindexer\u001b[0m \u001b[0;34m=\u001b[0m \u001b[0mself\u001b[0m\u001b[0;34m.\u001b[0m\u001b[0mloc\u001b[0m\u001b[0;34m.\u001b[0m\u001b[0m_get_listlike_indexer\u001b[0m\u001b[0;34m(\u001b[0m\u001b[0mkey\u001b[0m\u001b[0;34m,\u001b[0m \u001b[0maxis\u001b[0m\u001b[0;34m=\u001b[0m\u001b[0;36m1\u001b[0m\u001b[0;34m,\u001b[0m \u001b[0mraise_missing\u001b[0m\u001b[0;34m=\u001b[0m\u001b[0;32mTrue\u001b[0m\u001b[0;34m)\u001b[0m\u001b[0;34m[\u001b[0m\u001b[0;36m1\u001b[0m\u001b[0;34m]\u001b[0m\u001b[0;34m\u001b[0m\u001b[0;34m\u001b[0m\u001b[0m\n\u001b[0m\u001b[1;32m   2913\u001b[0m \u001b[0;34m\u001b[0m\u001b[0m\n\u001b[1;32m   2914\u001b[0m         \u001b[0;31m# take() does not accept boolean indexers\u001b[0m\u001b[0;34m\u001b[0m\u001b[0;34m\u001b[0m\u001b[0;34m\u001b[0m\u001b[0m\n",
            "\u001b[0;32m/usr/local/lib/python3.7/dist-packages/pandas/core/indexing.py\u001b[0m in \u001b[0;36m_get_listlike_indexer\u001b[0;34m(self, key, axis, raise_missing)\u001b[0m\n\u001b[1;32m   1252\u001b[0m             \u001b[0mkeyarr\u001b[0m\u001b[0;34m,\u001b[0m \u001b[0mindexer\u001b[0m\u001b[0;34m,\u001b[0m \u001b[0mnew_indexer\u001b[0m \u001b[0;34m=\u001b[0m \u001b[0max\u001b[0m\u001b[0;34m.\u001b[0m\u001b[0m_reindex_non_unique\u001b[0m\u001b[0;34m(\u001b[0m\u001b[0mkeyarr\u001b[0m\u001b[0;34m)\u001b[0m\u001b[0;34m\u001b[0m\u001b[0;34m\u001b[0m\u001b[0m\n\u001b[1;32m   1253\u001b[0m \u001b[0;34m\u001b[0m\u001b[0m\n\u001b[0;32m-> 1254\u001b[0;31m         \u001b[0mself\u001b[0m\u001b[0;34m.\u001b[0m\u001b[0m_validate_read_indexer\u001b[0m\u001b[0;34m(\u001b[0m\u001b[0mkeyarr\u001b[0m\u001b[0;34m,\u001b[0m \u001b[0mindexer\u001b[0m\u001b[0;34m,\u001b[0m \u001b[0maxis\u001b[0m\u001b[0;34m,\u001b[0m \u001b[0mraise_missing\u001b[0m\u001b[0;34m=\u001b[0m\u001b[0mraise_missing\u001b[0m\u001b[0;34m)\u001b[0m\u001b[0;34m\u001b[0m\u001b[0;34m\u001b[0m\u001b[0m\n\u001b[0m\u001b[1;32m   1255\u001b[0m         \u001b[0;32mreturn\u001b[0m \u001b[0mkeyarr\u001b[0m\u001b[0;34m,\u001b[0m \u001b[0mindexer\u001b[0m\u001b[0;34m\u001b[0m\u001b[0;34m\u001b[0m\u001b[0m\n\u001b[1;32m   1256\u001b[0m \u001b[0;34m\u001b[0m\u001b[0m\n",
            "\u001b[0;32m/usr/local/lib/python3.7/dist-packages/pandas/core/indexing.py\u001b[0m in \u001b[0;36m_validate_read_indexer\u001b[0;34m(self, key, indexer, axis, raise_missing)\u001b[0m\n\u001b[1;32m   1296\u001b[0m             \u001b[0;32mif\u001b[0m \u001b[0mmissing\u001b[0m \u001b[0;34m==\u001b[0m \u001b[0mlen\u001b[0m\u001b[0;34m(\u001b[0m\u001b[0mindexer\u001b[0m\u001b[0;34m)\u001b[0m\u001b[0;34m:\u001b[0m\u001b[0;34m\u001b[0m\u001b[0;34m\u001b[0m\u001b[0m\n\u001b[1;32m   1297\u001b[0m                 \u001b[0maxis_name\u001b[0m \u001b[0;34m=\u001b[0m \u001b[0mself\u001b[0m\u001b[0;34m.\u001b[0m\u001b[0mobj\u001b[0m\u001b[0;34m.\u001b[0m\u001b[0m_get_axis_name\u001b[0m\u001b[0;34m(\u001b[0m\u001b[0maxis\u001b[0m\u001b[0;34m)\u001b[0m\u001b[0;34m\u001b[0m\u001b[0;34m\u001b[0m\u001b[0m\n\u001b[0;32m-> 1298\u001b[0;31m                 \u001b[0;32mraise\u001b[0m \u001b[0mKeyError\u001b[0m\u001b[0;34m(\u001b[0m\u001b[0;34mf\"None of [{key}] are in the [{axis_name}]\"\u001b[0m\u001b[0;34m)\u001b[0m\u001b[0;34m\u001b[0m\u001b[0;34m\u001b[0m\u001b[0m\n\u001b[0m\u001b[1;32m   1299\u001b[0m \u001b[0;34m\u001b[0m\u001b[0m\n\u001b[1;32m   1300\u001b[0m             \u001b[0;31m# We (temporarily) allow for some missing keys with .loc, except in\u001b[0m\u001b[0;34m\u001b[0m\u001b[0;34m\u001b[0m\u001b[0;34m\u001b[0m\u001b[0m\n",
            "\u001b[0;31mKeyError\u001b[0m: \"None of [Index(['RACE'], dtype='object')] are in the [columns]\""
          ]
        }
      ]
    }
  ]
}