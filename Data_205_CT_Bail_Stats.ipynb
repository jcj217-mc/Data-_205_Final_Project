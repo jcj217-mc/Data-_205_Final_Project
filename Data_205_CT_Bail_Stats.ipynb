{
  "nbformat": 4,
  "nbformat_minor": 0,
  "metadata": {
    "colab": {
      "name": "Data_205_CT_Bail_Stats.ipynb",
      "provenance": [],
      "collapsed_sections": [],
      "authorship_tag": "ABX9TyNCNlxyYY8SLDQd/I2ZvXvZ",
      "include_colab_link": true
    },
    "kernelspec": {
      "name": "python3",
      "display_name": "Python 3"
    },
    "language_info": {
      "name": "python"
    }
  },
  "cells": [
    {
      "cell_type": "markdown",
      "metadata": {
        "id": "view-in-github",
        "colab_type": "text"
      },
      "source": [
        "<a href=\"https://colab.research.google.com/github/jcj217-mc/Data_205_Final_Project/blob/main/Data_205_CT_Bail_Stats.ipynb\" target=\"_parent\"><img src=\"https://colab.research.google.com/assets/colab-badge.svg\" alt=\"Open In Colab\"/></a>"
      ]
    },
    {
      "cell_type": "code",
      "metadata": {
        "id": "zE0kXt8DpYE1"
      },
      "source": [
        "# import packages\n",
        "import pandas as pd\n",
        "import numpy as np\n",
        "import os \n",
        "import json\n",
        "import datetime\n",
        "import seaborn as sns\n",
        "import matplotlib.pyplot as plt"
      ],
      "execution_count": null,
      "outputs": []
    },
    {
      "cell_type": "code",
      "metadata": {
        "id": "e2NiEkXppdLu"
      },
      "source": [
        "df = pd.read_csv(\"Accused_Pre-Trial_Inmates_in_Correctional_Facilities (1).csv\", index_col=False)"
      ],
      "execution_count": null,
      "outputs": []
    },
    {
      "cell_type": "code",
      "metadata": {
        "colab": {
          "base_uri": "https://localhost:8080/",
          "height": 296
        },
        "id": "TZOf276jpf5u",
        "outputId": "c2632412-513f-4c4a-ba3c-f75b0ebd88d5"
      },
      "source": [
        "# Evaluating initial data \n",
        "df.head()"
      ],
      "execution_count": null,
      "outputs": [
        {
          "output_type": "execute_result",
          "data": {
            "text/html": [
              "<div>\n",
              "<style scoped>\n",
              "    .dataframe tbody tr th:only-of-type {\n",
              "        vertical-align: middle;\n",
              "    }\n",
              "\n",
              "    .dataframe tbody tr th {\n",
              "        vertical-align: top;\n",
              "    }\n",
              "\n",
              "    .dataframe thead th {\n",
              "        text-align: right;\n",
              "    }\n",
              "</style>\n",
              "<table border=\"1\" class=\"dataframe\">\n",
              "  <thead>\n",
              "    <tr style=\"text-align: right;\">\n",
              "      <th></th>\n",
              "      <th>DOWNLOAD DATE</th>\n",
              "      <th>IDENTIFIER</th>\n",
              "      <th>LATEST ADMISSION DATE</th>\n",
              "      <th>RACE</th>\n",
              "      <th>GENDER</th>\n",
              "      <th>AGE</th>\n",
              "      <th>BOND AMOUNT</th>\n",
              "      <th>OFFENSE</th>\n",
              "      <th>FACILITY</th>\n",
              "      <th>DETAINER</th>\n",
              "    </tr>\n",
              "  </thead>\n",
              "  <tbody>\n",
              "    <tr>\n",
              "      <th>0</th>\n",
              "      <td>05/15/2020</td>\n",
              "      <td>ZZHCZBZZ</td>\n",
              "      <td>08/16/2018</td>\n",
              "      <td>BLACK</td>\n",
              "      <td>M</td>\n",
              "      <td>27</td>\n",
              "      <td>150000</td>\n",
              "      <td>CRIMINAL POSS OF PISTOL/REVOLVER      DF</td>\n",
              "      <td>NEW HAVEN CC</td>\n",
              "      <td>NONE</td>\n",
              "    </tr>\n",
              "    <tr>\n",
              "      <th>1</th>\n",
              "      <td>05/15/2020</td>\n",
              "      <td>ZZHZZRLR</td>\n",
              "      <td>03/28/2019</td>\n",
              "      <td>HISPANIC</td>\n",
              "      <td>M</td>\n",
              "      <td>41</td>\n",
              "      <td>30100</td>\n",
              "      <td>VIOLATION OF PROBATION OR COND DISCHG</td>\n",
              "      <td>CORRIGAN CI</td>\n",
              "      <td>NONE</td>\n",
              "    </tr>\n",
              "    <tr>\n",
              "      <th>2</th>\n",
              "      <td>05/15/2020</td>\n",
              "      <td>ZZSRJBEE</td>\n",
              "      <td>04/03/2020</td>\n",
              "      <td>HISPANIC</td>\n",
              "      <td>M</td>\n",
              "      <td>21</td>\n",
              "      <td>150000</td>\n",
              "      <td>CRIMINAL ATTEMPT</td>\n",
              "      <td>CORRIGAN CI</td>\n",
              "      <td>NONE</td>\n",
              "    </tr>\n",
              "    <tr>\n",
              "      <th>3</th>\n",
              "      <td>05/15/2020</td>\n",
              "      <td>ZZHBJLRZ</td>\n",
              "      <td>01/15/2020</td>\n",
              "      <td>WHITE</td>\n",
              "      <td>M</td>\n",
              "      <td>36</td>\n",
              "      <td>50500</td>\n",
              "      <td>CRIM VIOL OF PROTECTIVE ORDER         DF</td>\n",
              "      <td>BRIDGEPORT CC</td>\n",
              "      <td>NONE</td>\n",
              "    </tr>\n",
              "    <tr>\n",
              "      <th>4</th>\n",
              "      <td>05/15/2020</td>\n",
              "      <td>ZZSRRCHH</td>\n",
              "      <td>12/26/2018</td>\n",
              "      <td>HISPANIC</td>\n",
              "      <td>M</td>\n",
              "      <td>29</td>\n",
              "      <td>100000</td>\n",
              "      <td>CRIMINAL ATTEMPT</td>\n",
              "      <td>HARTFORD CC</td>\n",
              "      <td>NONE</td>\n",
              "    </tr>\n",
              "  </tbody>\n",
              "</table>\n",
              "</div>"
            ],
            "text/plain": [
              "  DOWNLOAD DATE  ... DETAINER                                        \n",
              "0    05/15/2020  ...                                             NONE\n",
              "1    05/15/2020  ...                                             NONE\n",
              "2    05/15/2020  ...                                             NONE\n",
              "3    05/15/2020  ...                                             NONE\n",
              "4    05/15/2020  ...                                             NONE\n",
              "\n",
              "[5 rows x 10 columns]"
            ]
          },
          "metadata": {
            "tags": []
          },
          "execution_count": 57
        }
      ]
    },
    {
      "cell_type": "code",
      "metadata": {
        "colab": {
          "base_uri": "https://localhost:8080/",
          "height": 262
        },
        "id": "m1anz560sMJe",
        "outputId": "dd2579c9-4795-495e-9335-fcde8ca2811a"
      },
      "source": [
        "# change column names\n",
        "df = df.rename(columns = {\"DOWNLOAD DATE\": \"Download_Date\", \"LATEST ADMISSION DATE\": \"Date\", \"BOND AMOUNT\":\"Bond\"})\n",
        "df.head()"
      ],
      "execution_count": null,
      "outputs": [
        {
          "output_type": "execute_result",
          "data": {
            "text/html": [
              "<div>\n",
              "<style scoped>\n",
              "    .dataframe tbody tr th:only-of-type {\n",
              "        vertical-align: middle;\n",
              "    }\n",
              "\n",
              "    .dataframe tbody tr th {\n",
              "        vertical-align: top;\n",
              "    }\n",
              "\n",
              "    .dataframe thead th {\n",
              "        text-align: right;\n",
              "    }\n",
              "</style>\n",
              "<table border=\"1\" class=\"dataframe\">\n",
              "  <thead>\n",
              "    <tr style=\"text-align: right;\">\n",
              "      <th></th>\n",
              "      <th>Download_Date</th>\n",
              "      <th>IDENTIFIER</th>\n",
              "      <th>Date</th>\n",
              "      <th>RACE</th>\n",
              "      <th>GENDER</th>\n",
              "      <th>AGE</th>\n",
              "      <th>Bond</th>\n",
              "      <th>OFFENSE</th>\n",
              "      <th>FACILITY</th>\n",
              "      <th>DETAINER</th>\n",
              "    </tr>\n",
              "  </thead>\n",
              "  <tbody>\n",
              "    <tr>\n",
              "      <th>0</th>\n",
              "      <td>05/15/2020</td>\n",
              "      <td>ZZHCZBZZ</td>\n",
              "      <td>08/16/2018</td>\n",
              "      <td>BLACK</td>\n",
              "      <td>M</td>\n",
              "      <td>27</td>\n",
              "      <td>150000</td>\n",
              "      <td>CRIMINAL POSS OF PISTOL/REVOLVER      DF</td>\n",
              "      <td>NEW HAVEN CC</td>\n",
              "      <td>NONE</td>\n",
              "    </tr>\n",
              "    <tr>\n",
              "      <th>1</th>\n",
              "      <td>05/15/2020</td>\n",
              "      <td>ZZHZZRLR</td>\n",
              "      <td>03/28/2019</td>\n",
              "      <td>HISPANIC</td>\n",
              "      <td>M</td>\n",
              "      <td>41</td>\n",
              "      <td>30100</td>\n",
              "      <td>VIOLATION OF PROBATION OR COND DISCHG</td>\n",
              "      <td>CORRIGAN CI</td>\n",
              "      <td>NONE</td>\n",
              "    </tr>\n",
              "    <tr>\n",
              "      <th>2</th>\n",
              "      <td>05/15/2020</td>\n",
              "      <td>ZZSRJBEE</td>\n",
              "      <td>04/03/2020</td>\n",
              "      <td>HISPANIC</td>\n",
              "      <td>M</td>\n",
              "      <td>21</td>\n",
              "      <td>150000</td>\n",
              "      <td>CRIMINAL ATTEMPT</td>\n",
              "      <td>CORRIGAN CI</td>\n",
              "      <td>NONE</td>\n",
              "    </tr>\n",
              "    <tr>\n",
              "      <th>3</th>\n",
              "      <td>05/15/2020</td>\n",
              "      <td>ZZHBJLRZ</td>\n",
              "      <td>01/15/2020</td>\n",
              "      <td>WHITE</td>\n",
              "      <td>M</td>\n",
              "      <td>36</td>\n",
              "      <td>50500</td>\n",
              "      <td>CRIM VIOL OF PROTECTIVE ORDER         DF</td>\n",
              "      <td>BRIDGEPORT CC</td>\n",
              "      <td>NONE</td>\n",
              "    </tr>\n",
              "    <tr>\n",
              "      <th>4</th>\n",
              "      <td>05/15/2020</td>\n",
              "      <td>ZZSRRCHH</td>\n",
              "      <td>12/26/2018</td>\n",
              "      <td>HISPANIC</td>\n",
              "      <td>M</td>\n",
              "      <td>29</td>\n",
              "      <td>100000</td>\n",
              "      <td>CRIMINAL ATTEMPT</td>\n",
              "      <td>HARTFORD CC</td>\n",
              "      <td>NONE</td>\n",
              "    </tr>\n",
              "  </tbody>\n",
              "</table>\n",
              "</div>"
            ],
            "text/plain": [
              "  Download_Date  ... DETAINER                                        \n",
              "0    05/15/2020  ...                                             NONE\n",
              "1    05/15/2020  ...                                             NONE\n",
              "2    05/15/2020  ...                                             NONE\n",
              "3    05/15/2020  ...                                             NONE\n",
              "4    05/15/2020  ...                                             NONE\n",
              "\n",
              "[5 rows x 10 columns]"
            ]
          },
          "metadata": {
            "tags": []
          },
          "execution_count": 58
        }
      ]
    },
    {
      "cell_type": "code",
      "metadata": {
        "colab": {
          "base_uri": "https://localhost:8080/",
          "height": 77
        },
        "id": "jieie47-sYE8",
        "outputId": "64ca7803-f84b-4dec-9b48-df20c414fdf5"
      },
      "source": [
        "df = df.drop([df.columns[-1]], axis='columns')\n",
        "df.head(1)"
      ],
      "execution_count": null,
      "outputs": [
        {
          "output_type": "execute_result",
          "data": {
            "text/html": [
              "<div>\n",
              "<style scoped>\n",
              "    .dataframe tbody tr th:only-of-type {\n",
              "        vertical-align: middle;\n",
              "    }\n",
              "\n",
              "    .dataframe tbody tr th {\n",
              "        vertical-align: top;\n",
              "    }\n",
              "\n",
              "    .dataframe thead th {\n",
              "        text-align: right;\n",
              "    }\n",
              "</style>\n",
              "<table border=\"1\" class=\"dataframe\">\n",
              "  <thead>\n",
              "    <tr style=\"text-align: right;\">\n",
              "      <th></th>\n",
              "      <th>Download_Date</th>\n",
              "      <th>IDENTIFIER</th>\n",
              "      <th>Date</th>\n",
              "      <th>RACE</th>\n",
              "      <th>GENDER</th>\n",
              "      <th>AGE</th>\n",
              "      <th>Bond</th>\n",
              "      <th>OFFENSE</th>\n",
              "      <th>FACILITY</th>\n",
              "    </tr>\n",
              "  </thead>\n",
              "  <tbody>\n",
              "    <tr>\n",
              "      <th>0</th>\n",
              "      <td>05/15/2020</td>\n",
              "      <td>ZZHCZBZZ</td>\n",
              "      <td>08/16/2018</td>\n",
              "      <td>BLACK</td>\n",
              "      <td>M</td>\n",
              "      <td>27</td>\n",
              "      <td>150000</td>\n",
              "      <td>CRIMINAL POSS OF PISTOL/REVOLVER      DF</td>\n",
              "      <td>NEW HAVEN CC</td>\n",
              "    </tr>\n",
              "  </tbody>\n",
              "</table>\n",
              "</div>"
            ],
            "text/plain": [
              "  Download_Date  ...      FACILITY\n",
              "0    05/15/2020  ...  NEW HAVEN CC\n",
              "\n",
              "[1 rows x 9 columns]"
            ]
          },
          "metadata": {
            "tags": []
          },
          "execution_count": 59
        }
      ]
    },
    {
      "cell_type": "code",
      "metadata": {
        "colab": {
          "base_uri": "https://localhost:8080/"
        },
        "id": "tnq6NElVy9_O",
        "outputId": "7c6b3976-ec92-4d13-9afd-3960421463f9"
      },
      "source": [
        "df.RACE.unique()"
      ],
      "execution_count": null,
      "outputs": [
        {
          "output_type": "execute_result",
          "data": {
            "text/plain": [
              "array(['BLACK', 'HISPANIC', 'WHITE', 'ASIAN', 'AMER IND'], dtype=object)"
            ]
          },
          "metadata": {
            "tags": []
          },
          "execution_count": 60
        }
      ]
    },
    {
      "cell_type": "code",
      "metadata": {
        "colab": {
          "base_uri": "https://localhost:8080/",
          "height": 77
        },
        "id": "W7hWE_wTsP_E",
        "outputId": "61281b5b-485b-44d0-b29a-723c22fe8a69"
      },
      "source": [
        "# Drop Columns\n",
        "df = df.drop(['Download_Date', 'IDENTIFIER', 'FACILITY'], axis = 'columns')\n",
        "df.head(1)"
      ],
      "execution_count": null,
      "outputs": [
        {
          "output_type": "execute_result",
          "data": {
            "text/html": [
              "<div>\n",
              "<style scoped>\n",
              "    .dataframe tbody tr th:only-of-type {\n",
              "        vertical-align: middle;\n",
              "    }\n",
              "\n",
              "    .dataframe tbody tr th {\n",
              "        vertical-align: top;\n",
              "    }\n",
              "\n",
              "    .dataframe thead th {\n",
              "        text-align: right;\n",
              "    }\n",
              "</style>\n",
              "<table border=\"1\" class=\"dataframe\">\n",
              "  <thead>\n",
              "    <tr style=\"text-align: right;\">\n",
              "      <th></th>\n",
              "      <th>Date</th>\n",
              "      <th>RACE</th>\n",
              "      <th>GENDER</th>\n",
              "      <th>AGE</th>\n",
              "      <th>Bond</th>\n",
              "      <th>OFFENSE</th>\n",
              "    </tr>\n",
              "  </thead>\n",
              "  <tbody>\n",
              "    <tr>\n",
              "      <th>0</th>\n",
              "      <td>08/16/2018</td>\n",
              "      <td>BLACK</td>\n",
              "      <td>M</td>\n",
              "      <td>27</td>\n",
              "      <td>150000</td>\n",
              "      <td>CRIMINAL POSS OF PISTOL/REVOLVER      DF</td>\n",
              "    </tr>\n",
              "  </tbody>\n",
              "</table>\n",
              "</div>"
            ],
            "text/plain": [
              "         Date   RACE  ...    Bond                                   OFFENSE\n",
              "0  08/16/2018  BLACK  ...  150000  CRIMINAL POSS OF PISTOL/REVOLVER      DF\n",
              "\n",
              "[1 rows x 6 columns]"
            ]
          },
          "metadata": {
            "tags": []
          },
          "execution_count": 61
        }
      ]
    },
    {
      "cell_type": "code",
      "metadata": {
        "id": "OYS55rtnscw7"
      },
      "source": [
        "# Changing Date to datetime\n",
        "df.Date = pd.to_datetime(df.Date)"
      ],
      "execution_count": null,
      "outputs": []
    },
    {
      "cell_type": "code",
      "metadata": {
        "colab": {
          "base_uri": "https://localhost:8080/",
          "height": 77
        },
        "id": "mz9HizJEsf_X",
        "outputId": "578c9b97-f2ce-4f96-ef0d-4a129574ffdf"
      },
      "source": [
        "# add a column for Year\n",
        "df['Year'] = df['Date'].dt.year\n",
        "df.head(1)"
      ],
      "execution_count": null,
      "outputs": [
        {
          "output_type": "execute_result",
          "data": {
            "text/html": [
              "<div>\n",
              "<style scoped>\n",
              "    .dataframe tbody tr th:only-of-type {\n",
              "        vertical-align: middle;\n",
              "    }\n",
              "\n",
              "    .dataframe tbody tr th {\n",
              "        vertical-align: top;\n",
              "    }\n",
              "\n",
              "    .dataframe thead th {\n",
              "        text-align: right;\n",
              "    }\n",
              "</style>\n",
              "<table border=\"1\" class=\"dataframe\">\n",
              "  <thead>\n",
              "    <tr style=\"text-align: right;\">\n",
              "      <th></th>\n",
              "      <th>Date</th>\n",
              "      <th>RACE</th>\n",
              "      <th>GENDER</th>\n",
              "      <th>AGE</th>\n",
              "      <th>Bond</th>\n",
              "      <th>OFFENSE</th>\n",
              "      <th>Year</th>\n",
              "    </tr>\n",
              "  </thead>\n",
              "  <tbody>\n",
              "    <tr>\n",
              "      <th>0</th>\n",
              "      <td>2018-08-16</td>\n",
              "      <td>BLACK</td>\n",
              "      <td>M</td>\n",
              "      <td>27</td>\n",
              "      <td>150000</td>\n",
              "      <td>CRIMINAL POSS OF PISTOL/REVOLVER      DF</td>\n",
              "      <td>2018</td>\n",
              "    </tr>\n",
              "  </tbody>\n",
              "</table>\n",
              "</div>"
            ],
            "text/plain": [
              "        Date   RACE  ...                                   OFFENSE  Year\n",
              "0 2018-08-16  BLACK  ...  CRIMINAL POSS OF PISTOL/REVOLVER      DF  2018\n",
              "\n",
              "[1 rows x 7 columns]"
            ]
          },
          "metadata": {
            "tags": []
          },
          "execution_count": 63
        }
      ]
    },
    {
      "cell_type": "code",
      "metadata": {
        "colab": {
          "base_uri": "https://localhost:8080/",
          "height": 289
        },
        "id": "j9LTa5VUpxmE",
        "outputId": "98ec5cc6-d4bb-4ec3-f569-269267ac005d"
      },
      "source": [
        "# Check with histogram or Shapiro-Wilks test whether there is a normally distributed dependent variable 'bail'\n",
        "plt.hist(df.Bond, facecolor='blue', alpha=0.5)\n",
        "\n",
        "plt.show()"
      ],
      "execution_count": null,
      "outputs": [
        {
          "output_type": "display_data",
          "data": {
            "image/png": "[encoded data removed]",
            "text/plain": [
              "<Figure size 432x288 with 1 Axes>"
            ]
          },
          "metadata": {
            "tags": [],
            "needs_background": "light"
          }
        }
      ]
    },
    {
      "cell_type": "markdown",
      "metadata": {
        "id": "Tc9jUXs2t2Kn"
      },
      "source": [
        "**Pair t-test**  but non-normal quant variable\n"
      ]
    },
    {
      "cell_type": "code",
      "metadata": {
        "id": "HDnWLDmgpkpK"
      },
      "source": [
        "# Paired t-test\n",
        "# subset the data\n",
        "b = df[df.RACE == 'BLACK'].Bond\n",
        "w = df[df.RACE == 'WHITE'].Bond\n",
        "h = df[df.RACE == 'HISPANIC'].Bond\n",
        "a = df[df.RACE == 'ASIAN'].Bond\n",
        "na = df[df.RACE == 'AMER IND'].Bond\n"
      ],
      "execution_count": null,
      "outputs": []
    },
    {
      "cell_type": "code",
      "metadata": {
        "colab": {
          "base_uri": "https://localhost:8080/"
        },
        "id": "rH-Q0EmJvtV1",
        "outputId": "e8529f6c-1eb5-4cbe-b8bd-b4af091706fb"
      },
      "source": [
        "print(b.head())\n"
      ],
      "execution_count": null,
      "outputs": [
        {
          "output_type": "stream",
          "text": [
            "0     150000\n",
            "8      10000\n",
            "9      50000\n",
            "10     70000\n",
            "12     70050\n",
            "Name: Bond, dtype: int64\n"
          ],
          "name": "stdout"
        }
      ]
    },
    {
      "cell_type": "code",
      "metadata": {
        "colab": {
          "base_uri": "https://localhost:8080/"
        },
        "id": "PdloEyl8wLc2",
        "outputId": "6f552a7d-d12c-45c7-c389-3139c34561ab"
      },
      "source": [
        "print(w.head())"
      ],
      "execution_count": null,
      "outputs": [
        {
          "output_type": "stream",
          "text": [
            "3      50500\n",
            "5     100000\n",
            "7      50000\n",
            "14    125200\n",
            "15    200000\n",
            "Name: Bond, dtype: int64\n"
          ],
          "name": "stdout"
        }
      ]
    },
    {
      "cell_type": "code",
      "metadata": {
        "id": "vQLTTO_Qwbva"
      },
      "source": [
        "\n",
        "b_sample = b.sample(n=100, random_state=1)\n"
      ],
      "execution_count": null,
      "outputs": []
    },
    {
      "cell_type": "code",
      "metadata": {
        "id": "yFXNXEFPx6La"
      },
      "source": [
        "\n",
        "w_sample = w.sample(n=100, random_state=2)"
      ],
      "execution_count": null,
      "outputs": []
    },
    {
      "cell_type": "code",
      "metadata": {
        "id": "5-1QjGrYzIgh"
      },
      "source": [
        "\n",
        "h_sample = h.sample(n=100, random_state=3)"
      ],
      "execution_count": null,
      "outputs": []
    },
    {
      "cell_type": "code",
      "metadata": {
        "id": "E1TBX0CZzNZX"
      },
      "source": [
        "\n",
        "a_sample = a.sample(n=100, random_state=4)"
      ],
      "execution_count": null,
      "outputs": []
    },
    {
      "cell_type": "code",
      "metadata": {
        "id": "Z06TQX9d0hI_"
      },
      "source": [
        "na_sample = na.sample(n=100, random_state=4)"
      ],
      "execution_count": null,
      "outputs": []
    },
    {
      "cell_type": "code",
      "metadata": {
        "colab": {
          "base_uri": "https://localhost:8080/"
        },
        "id": "MVjzw_b5qSJs",
        "outputId": "a6938fc2-6e0b-4d32-ef1e-085e5458b4df"
      },
      "source": [
        "from scipy.stats import ttest_rel\n",
        "\n",
        "# Python paired sample t-test\n",
        "ttest_rel(b_sample, w_sample)"
      ],
      "execution_count": null,
      "outputs": [
        {
          "output_type": "execute_result",
          "data": {
            "text/plain": [
              "Ttest_relResult(statistic=3.3095565074720565, pvalue=0.0013041417439851432)"
            ]
          },
          "metadata": {
            "tags": []
          },
          "execution_count": 73
        }
      ]
    },
    {
      "cell_type": "markdown",
      "metadata": {
        "id": "oH8kHc9uuI8n"
      },
      "source": [
        "**Wilcoxon**"
      ]
    },
    {
      "cell_type": "markdown",
      "metadata": {
        "id": "47mgYY79uvj3"
      },
      "source": [
        "The Wilcoxon signed-rank test is the non-parametric univariate test which is an alternative to the dependent t-test. It also is called the Wilcoxon T test, most commonly so when the statistic value is reported as a T value. Which scipy.stats.wilcoxon() uses for it’s calculation. This is the recommended test to use when the data violates the assumption of normality. \n",
        "\n",
        "Assumptions:\n",
        "\n",
        "*   The dependent variable (DV) must be continuous which is measured on an ordinal or continuous scale\n",
        "*   The paired observations are randomly and independently drawn\n",
        "*The paired observations come from the same population\n",
        "\n",
        "\n",
        "\n"
      ]
    },
    {
      "cell_type": "code",
      "metadata": {
        "colab": {
          "base_uri": "https://localhost:8080/"
        },
        "id": "GkWcLEMWtyaV",
        "outputId": "adb5e0b6-84c7-479a-942c-5b3bb89a618b"
      },
      "source": [
        "import scipy.stats as stats\n",
        "\n",
        "#perform the Wilcoxon-Signed Rank Test\n",
        "stats.wilcoxon(w_sample, b_sample)"
      ],
      "execution_count": null,
      "outputs": [
        {
          "output_type": "execute_result",
          "data": {
            "text/plain": [
              "WilcoxonResult(statistic=1245.0, pvalue=4.670858248457777e-05)"
            ]
          },
          "metadata": {
            "tags": []
          },
          "execution_count": 74
        }
      ]
    },
    {
      "cell_type": "markdown",
      "metadata": {
        "id": "L1Lwnqmh1tcq"
      },
      "source": [
        "With a p-value of 0.00088, much less than even an alpha of 0.01 the findings show that Racial category is statistically significant in relationship to Bond Amount.  We can reject the null hypothesis in support of the alternative."
      ]
    },
    {
      "cell_type": "markdown",
      "metadata": {
        "id": "NVQWg2MY0t9d"
      },
      "source": [
        "**Kruskal-Wallis Test**\n",
        "\n",
        "A Kruskal-Wallis Test is used to determine whether or not there is a statistically significant difference between the medians of three or more independent groups. It is considered to be the non-parametric equivalent of the One-Way ANOVA.\n",
        "\n",
        "The Kruskal-Wallis Test uses the following null and alternative hypotheses:\n",
        "\n",
        "The null hypothesis (H0): The median is equal across all groups.\n",
        "\n",
        "The alternative hypothesis: (Ha): The median is not equal across all groups."
      ]
    },
    {
      "cell_type": "code",
      "metadata": {
        "colab": {
          "base_uri": "https://localhost:8080/"
        },
        "id": "yXuV91GT0r6p",
        "outputId": "68a54d4a-4b96-4079-be41-c4de7f226d72"
      },
      "source": [
        "from scipy import stats\n",
        "\n",
        "#perform Kruskal-Wallis Test \n",
        "stats.kruskal(b_sample, w_sample, h_sample, a_sample, na_sample)\n",
        "\n"
      ],
      "execution_count": null,
      "outputs": [
        {
          "output_type": "execute_result",
          "data": {
            "text/plain": [
              "KruskalResult(statistic=20.976391550362102, pvalue=0.0003201004448367196)"
            ]
          },
          "metadata": {
            "tags": []
          },
          "execution_count": 75
        }
      ]
    },
    {
      "cell_type": "markdown",
      "metadata": {
        "id": "ohMNqxGA1NDn"
      },
      "source": [
        "In this case, the test statistic is 20.976 and the corresponding p-value is 0.00032. Since this p-value is less than 0.05, we can reject the null hypothesis that the median bail amount is the same for all five Race Categories. We have sufficient evidence to conclude that the Race of defendant  leads to statistically significant differences in bond amount.\n",
        "\n",
        "\n"
      ]
    },
    {
      "cell_type": "markdown",
      "metadata": {
        "id": "CNOV6m1x2oyh"
      },
      "source": [
        "**ANOVA**\n",
        "\n",
        "Not applicable here because the Bond variable is not normally distributed."
      ]
    },
    {
      "cell_type": "code",
      "metadata": {
        "colab": {
          "base_uri": "https://localhost:8080/"
        },
        "id": "41ybLtt023pr",
        "outputId": "c8c1a9a5-4646-46a1-aa49-715c1b970722"
      },
      "source": [
        "import scipy.stats as stats\n",
        "# stats f_oneway functions takes the groups as input and returns ANOVA F and p value\n",
        "fvalue, pvalue = stats.f_oneway(b_sample, w_sample, h_sample, a_sample, na_sample)\n",
        "print(fvalue, pvalue)"
      ],
      "execution_count": null,
      "outputs": [
        {
          "output_type": "stream",
          "text": [
            "4.873083915423211 0.0007321078597701251\n"
          ],
          "name": "stdout"
        }
      ]
    },
    {
      "cell_type": "markdown",
      "metadata": {
        "id": "sLL2a3bh4e5N"
      },
      "source": [
        "**Correlation Heatmap**"
      ]
    },
    {
      "cell_type": "code",
      "metadata": {
        "colab": {
          "base_uri": "https://localhost:8080/",
          "height": 336
        },
        "id": "ff_HWGLL4hID",
        "outputId": "15bec820-6f09-4e3b-a5d0-8e460add1381"
      },
      "source": [
        "\n",
        "\n",
        "# prints data that will be plotted\n",
        "# columns shown here are selected by corr() since\n",
        "# they are ideal for the plot\n",
        "print(df.corr())\n",
        "  \n",
        "# plotting correlation heatmap\n",
        "dataplot = sns.heatmap(df.corr(), cmap=\"YlGnBu\", annot=True)\n",
        "  \n",
        "# displaying heatmap\n",
        "plt.show()"
      ],
      "execution_count": null,
      "outputs": [
        {
          "output_type": "stream",
          "text": [
            "           AGE      Bond      Year\n",
            "AGE   1.000000 -0.075080 -0.004177\n",
            "Bond -0.075080  1.000000 -0.022569\n",
            "Year -0.004177 -0.022569  1.000000\n"
          ],
          "name": "stdout"
        },
        {
          "output_type": "display_data",
          "data": {
            "image/png": "[encoded data removed]",
            "text/plain": [
              "<Figure size 432x288 with 2 Axes>"
            ]
          },
          "metadata": {
            "tags": [],
            "needs_background": "light"
          }
        }
      ]
    },
    {
      "cell_type": "code",
      "metadata": {
        "id": "K7omLIRQ7OaU"
      },
      "source": [
        "import pandas as pd\n",
        "import numpy as np\n",
        "import os \n",
        "from sklearn.feature_selection import chi2\n",
        "from scipy import stats\n",
        "import seaborn as sns\n",
        "import matplotlib.pylab as plt"
      ],
      "execution_count": null,
      "outputs": []
    },
    {
      "cell_type": "code",
      "metadata": {
        "colab": {
          "base_uri": "https://localhost:8080/",
          "height": 254
        },
        "id": "mqkHD1RS7QMC",
        "outputId": "fa4de2d6-9068-4d9c-cec2-136929df366e"
      },
      "source": [
        "# Extracting column names \n",
        "column_names=df.columns\n",
        "# Assiging column names to row indexs \n",
        "chisqmatrix=pd.DataFrame(df,columns=column_names,index=column_names)\n",
        "chisqmatrix"
      ],
      "execution_count": null,
      "outputs": [
        {
          "output_type": "execute_result",
          "data": {
            "text/html": [
              "<div>\n",
              "<style scoped>\n",
              "    .dataframe tbody tr th:only-of-type {\n",
              "        vertical-align: middle;\n",
              "    }\n",
              "\n",
              "    .dataframe tbody tr th {\n",
              "        vertical-align: top;\n",
              "    }\n",
              "\n",
              "    .dataframe thead th {\n",
              "        text-align: right;\n",
              "    }\n",
              "</style>\n",
              "<table border=\"1\" class=\"dataframe\">\n",
              "  <thead>\n",
              "    <tr style=\"text-align: right;\">\n",
              "      <th></th>\n",
              "      <th>Date</th>\n",
              "      <th>RACE</th>\n",
              "      <th>GENDER</th>\n",
              "      <th>AGE</th>\n",
              "      <th>Bond</th>\n",
              "      <th>OFFENSE</th>\n",
              "      <th>Year</th>\n",
              "    </tr>\n",
              "  </thead>\n",
              "  <tbody>\n",
              "    <tr>\n",
              "      <th>Date</th>\n",
              "      <td>NaT</td>\n",
              "      <td>NaN</td>\n",
              "      <td>NaN</td>\n",
              "      <td>NaN</td>\n",
              "      <td>NaN</td>\n",
              "      <td>NaN</td>\n",
              "      <td>NaN</td>\n",
              "    </tr>\n",
              "    <tr>\n",
              "      <th>RACE</th>\n",
              "      <td>NaT</td>\n",
              "      <td>NaN</td>\n",
              "      <td>NaN</td>\n",
              "      <td>NaN</td>\n",
              "      <td>NaN</td>\n",
              "      <td>NaN</td>\n",
              "      <td>NaN</td>\n",
              "    </tr>\n",
              "    <tr>\n",
              "      <th>GENDER</th>\n",
              "      <td>NaT</td>\n",
              "      <td>NaN</td>\n",
              "      <td>NaN</td>\n",
              "      <td>NaN</td>\n",
              "      <td>NaN</td>\n",
              "      <td>NaN</td>\n",
              "      <td>NaN</td>\n",
              "    </tr>\n",
              "    <tr>\n",
              "      <th>AGE</th>\n",
              "      <td>NaT</td>\n",
              "      <td>NaN</td>\n",
              "      <td>NaN</td>\n",
              "      <td>NaN</td>\n",
              "      <td>NaN</td>\n",
              "      <td>NaN</td>\n",
              "      <td>NaN</td>\n",
              "    </tr>\n",
              "    <tr>\n",
              "      <th>Bond</th>\n",
              "      <td>NaT</td>\n",
              "      <td>NaN</td>\n",
              "      <td>NaN</td>\n",
              "      <td>NaN</td>\n",
              "      <td>NaN</td>\n",
              "      <td>NaN</td>\n",
              "      <td>NaN</td>\n",
              "    </tr>\n",
              "    <tr>\n",
              "      <th>OFFENSE</th>\n",
              "      <td>NaT</td>\n",
              "      <td>NaN</td>\n",
              "      <td>NaN</td>\n",
              "      <td>NaN</td>\n",
              "      <td>NaN</td>\n",
              "      <td>NaN</td>\n",
              "      <td>NaN</td>\n",
              "    </tr>\n",
              "    <tr>\n",
              "      <th>Year</th>\n",
              "      <td>NaT</td>\n",
              "      <td>NaN</td>\n",
              "      <td>NaN</td>\n",
              "      <td>NaN</td>\n",
              "      <td>NaN</td>\n",
              "      <td>NaN</td>\n",
              "      <td>NaN</td>\n",
              "    </tr>\n",
              "  </tbody>\n",
              "</table>\n",
              "</div>"
            ],
            "text/plain": [
              "        Date RACE GENDER  AGE  Bond OFFENSE  Year\n",
              "Date     NaT  NaN    NaN  NaN   NaN     NaN   NaN\n",
              "RACE     NaT  NaN    NaN  NaN   NaN     NaN   NaN\n",
              "GENDER   NaT  NaN    NaN  NaN   NaN     NaN   NaN\n",
              "AGE      NaT  NaN    NaN  NaN   NaN     NaN   NaN\n",
              "Bond     NaT  NaN    NaN  NaN   NaN     NaN   NaN\n",
              "OFFENSE  NaT  NaN    NaN  NaN   NaN     NaN   NaN\n",
              "Year     NaT  NaN    NaN  NaN   NaN     NaN   NaN"
            ]
          },
          "metadata": {
            "tags": []
          },
          "execution_count": 79
        }
      ]
    },
    {
      "cell_type": "code",
      "metadata": {
        "colab": {
          "base_uri": "https://localhost:8080/",
          "height": 285
        },
        "id": "wEHYoK5R-fRr",
        "outputId": "2ce1eb74-07c4-4ce0-a06e-c9b5896218f3"
      },
      "source": [
        "corr = df.corr()\n",
        "ax = sns.heatmap(\n",
        "    corr, \n",
        "    vmin=-1, vmax=1, center=0,\n",
        "    cmap=sns.diverging_palette(20, 220, n=200),\n",
        "    square=True\n",
        ")\n",
        "ax.set_xticklabels(\n",
        "    ax.get_xticklabels(),\n",
        "    rotation=45,\n",
        "    horizontalalignment='right'\n",
        ");"
      ],
      "execution_count": null,
      "outputs": [
        {
          "output_type": "display_data",
          "data": {
            "image/png": "[encoded data removed]",
            "text/plain": [
              "<Figure size 432x288 with 2 Axes>"
            ]
          },
          "metadata": {
            "tags": [],
            "needs_background": "light"
          }
        }
      ]
    },
    {
      "cell_type": "markdown",
      "metadata": {
        "id": "sPfvGugf81Co"
      },
      "source": [
        "**Logistic Regression**"
      ]
    },
    {
      "cell_type": "code",
      "metadata": {
        "id": "6IKuHuf5A5Rc"
      },
      "source": [
        "import pandas as pd\n",
        "from sklearn.linear_model import LogisticRegression\n",
        "from sklearn.model_selection import train_test_split\n",
        "from sklearn.metrics import classification_report, confusion_matrix\n",
        "from sklearn.metrics import roc_auc_score, roc_curve, accuracy_score\n",
        "from sklearn.metrics import precision_score, recall_score\n",
        "from sklearn import preprocessing\n",
        "import numpy as np\n",
        "import matplotlib.pyplot as plt\n",
        "import seaborn as sns\n",
        "%matplotlib inline"
      ],
      "execution_count": null,
      "outputs": []
    },
    {
      "cell_type": "code",
      "metadata": {
        "id": "WoBkTjc380No"
      },
      "source": [
        "# Features and Targets\n",
        "X = df\n",
        "y = df.Bond"
      ],
      "execution_count": null,
      "outputs": []
    },
    {
      "cell_type": "code",
      "metadata": {
        "colab": {
          "base_uri": "https://localhost:8080/",
          "height": 195
        },
        "id": "TKS6Wiwg9IcX",
        "outputId": "6ab233ab-7143-4afb-b868-1d8f03280e46"
      },
      "source": [
        "X.head()"
      ],
      "execution_count": null,
      "outputs": [
        {
          "output_type": "execute_result",
          "data": {
            "text/html": [
              "<div>\n",
              "<style scoped>\n",
              "    .dataframe tbody tr th:only-of-type {\n",
              "        vertical-align: middle;\n",
              "    }\n",
              "\n",
              "    .dataframe tbody tr th {\n",
              "        vertical-align: top;\n",
              "    }\n",
              "\n",
              "    .dataframe thead th {\n",
              "        text-align: right;\n",
              "    }\n",
              "</style>\n",
              "<table border=\"1\" class=\"dataframe\">\n",
              "  <thead>\n",
              "    <tr style=\"text-align: right;\">\n",
              "      <th></th>\n",
              "      <th>Date</th>\n",
              "      <th>RACE</th>\n",
              "      <th>GENDER</th>\n",
              "      <th>AGE</th>\n",
              "      <th>Bond</th>\n",
              "      <th>OFFENSE</th>\n",
              "      <th>Year</th>\n",
              "    </tr>\n",
              "  </thead>\n",
              "  <tbody>\n",
              "    <tr>\n",
              "      <th>0</th>\n",
              "      <td>2018-08-16</td>\n",
              "      <td>BLACK</td>\n",
              "      <td>M</td>\n",
              "      <td>27</td>\n",
              "      <td>150000</td>\n",
              "      <td>CRIMINAL POSS OF PISTOL/REVOLVER      DF</td>\n",
              "      <td>2018</td>\n",
              "    </tr>\n",
              "    <tr>\n",
              "      <th>1</th>\n",
              "      <td>2019-03-28</td>\n",
              "      <td>HISPANIC</td>\n",
              "      <td>M</td>\n",
              "      <td>41</td>\n",
              "      <td>30100</td>\n",
              "      <td>VIOLATION OF PROBATION OR COND DISCHG</td>\n",
              "      <td>2019</td>\n",
              "    </tr>\n",
              "    <tr>\n",
              "      <th>2</th>\n",
              "      <td>2020-04-03</td>\n",
              "      <td>HISPANIC</td>\n",
              "      <td>M</td>\n",
              "      <td>21</td>\n",
              "      <td>150000</td>\n",
              "      <td>CRIMINAL ATTEMPT</td>\n",
              "      <td>2020</td>\n",
              "    </tr>\n",
              "    <tr>\n",
              "      <th>3</th>\n",
              "      <td>2020-01-15</td>\n",
              "      <td>WHITE</td>\n",
              "      <td>M</td>\n",
              "      <td>36</td>\n",
              "      <td>50500</td>\n",
              "      <td>CRIM VIOL OF PROTECTIVE ORDER         DF</td>\n",
              "      <td>2020</td>\n",
              "    </tr>\n",
              "    <tr>\n",
              "      <th>4</th>\n",
              "      <td>2018-12-26</td>\n",
              "      <td>HISPANIC</td>\n",
              "      <td>M</td>\n",
              "      <td>29</td>\n",
              "      <td>100000</td>\n",
              "      <td>CRIMINAL ATTEMPT</td>\n",
              "      <td>2018</td>\n",
              "    </tr>\n",
              "  </tbody>\n",
              "</table>\n",
              "</div>"
            ],
            "text/plain": [
              "        Date      RACE  ...                                   OFFENSE  Year\n",
              "0 2018-08-16     BLACK  ...  CRIMINAL POSS OF PISTOL/REVOLVER      DF  2018\n",
              "1 2019-03-28  HISPANIC  ...     VIOLATION OF PROBATION OR COND DISCHG  2019\n",
              "2 2020-04-03  HISPANIC  ...                          CRIMINAL ATTEMPT  2020\n",
              "3 2020-01-15     WHITE  ...  CRIM VIOL OF PROTECTIVE ORDER         DF  2020\n",
              "4 2018-12-26  HISPANIC  ...                          CRIMINAL ATTEMPT  2018\n",
              "\n",
              "[5 rows x 7 columns]"
            ]
          },
          "metadata": {
            "tags": []
          },
          "execution_count": 83
        }
      ]
    },
    {
      "cell_type": "code",
      "metadata": {
        "id": "TqHSunA3_yxa"
      },
      "source": [
        "from sklearn import preprocessing \n",
        "label = preprocessing.LabelEncoder() \n",
        " \n",
        "X['RACE'] = label.fit_transform(X['RACE']) \n",
        "X['GENDER'] = label.fit_transform(X['GENDER']) \n",
        "X['OFFENSE'] = label.fit_transform(X['OFFENSE']) "
      ],
      "execution_count": null,
      "outputs": []
    },
    {
      "cell_type": "code",
      "metadata": {
        "colab": {
          "base_uri": "https://localhost:8080/",
          "height": 195
        },
        "id": "5JcNjBAAACFa",
        "outputId": "c1defa79-da69-49a1-d898-99d9b7d78641"
      },
      "source": [
        "X.head()"
      ],
      "execution_count": null,
      "outputs": [
        {
          "output_type": "execute_result",
          "data": {
            "text/html": [
              "<div>\n",
              "<style scoped>\n",
              "    .dataframe tbody tr th:only-of-type {\n",
              "        vertical-align: middle;\n",
              "    }\n",
              "\n",
              "    .dataframe tbody tr th {\n",
              "        vertical-align: top;\n",
              "    }\n",
              "\n",
              "    .dataframe thead th {\n",
              "        text-align: right;\n",
              "    }\n",
              "</style>\n",
              "<table border=\"1\" class=\"dataframe\">\n",
              "  <thead>\n",
              "    <tr style=\"text-align: right;\">\n",
              "      <th></th>\n",
              "      <th>Date</th>\n",
              "      <th>RACE</th>\n",
              "      <th>GENDER</th>\n",
              "      <th>AGE</th>\n",
              "      <th>Bond</th>\n",
              "      <th>OFFENSE</th>\n",
              "      <th>Year</th>\n",
              "    </tr>\n",
              "  </thead>\n",
              "  <tbody>\n",
              "    <tr>\n",
              "      <th>0</th>\n",
              "      <td>2018-08-16</td>\n",
              "      <td>2</td>\n",
              "      <td>1</td>\n",
              "      <td>27</td>\n",
              "      <td>150000</td>\n",
              "      <td>76</td>\n",
              "      <td>2018</td>\n",
              "    </tr>\n",
              "    <tr>\n",
              "      <th>1</th>\n",
              "      <td>2019-03-28</td>\n",
              "      <td>3</td>\n",
              "      <td>1</td>\n",
              "      <td>41</td>\n",
              "      <td>30100</td>\n",
              "      <td>366</td>\n",
              "      <td>2019</td>\n",
              "    </tr>\n",
              "    <tr>\n",
              "      <th>2</th>\n",
              "      <td>2020-04-03</td>\n",
              "      <td>3</td>\n",
              "      <td>1</td>\n",
              "      <td>21</td>\n",
              "      <td>150000</td>\n",
              "      <td>65</td>\n",
              "      <td>2020</td>\n",
              "    </tr>\n",
              "    <tr>\n",
              "      <th>3</th>\n",
              "      <td>2020-01-15</td>\n",
              "      <td>4</td>\n",
              "      <td>1</td>\n",
              "      <td>36</td>\n",
              "      <td>50500</td>\n",
              "      <td>62</td>\n",
              "      <td>2020</td>\n",
              "    </tr>\n",
              "    <tr>\n",
              "      <th>4</th>\n",
              "      <td>2018-12-26</td>\n",
              "      <td>3</td>\n",
              "      <td>1</td>\n",
              "      <td>29</td>\n",
              "      <td>100000</td>\n",
              "      <td>65</td>\n",
              "      <td>2018</td>\n",
              "    </tr>\n",
              "  </tbody>\n",
              "</table>\n",
              "</div>"
            ],
            "text/plain": [
              "        Date  RACE  GENDER  AGE    Bond  OFFENSE  Year\n",
              "0 2018-08-16     2       1   27  150000       76  2018\n",
              "1 2019-03-28     3       1   41   30100      366  2019\n",
              "2 2020-04-03     3       1   21  150000       65  2020\n",
              "3 2020-01-15     4       1   36   50500       62  2020\n",
              "4 2018-12-26     3       1   29  100000       65  2018"
            ]
          },
          "metadata": {
            "tags": []
          },
          "execution_count": 85
        }
      ]
    },
    {
      "cell_type": "code",
      "metadata": {
        "colab": {
          "base_uri": "https://localhost:8080/",
          "height": 299
        },
        "id": "jckVcFKbAVkc",
        "outputId": "d8d48d98-d25e-4a18-aa1a-e73ed6c2fe57"
      },
      "source": [
        "corr = X.corr()\n",
        "ax = sns.heatmap(\n",
        "    corr, \n",
        "    vmin=-1, vmax=1, center=0,\n",
        "    cmap=sns.diverging_palette(20, 220, n=200),\n",
        "    square=True\n",
        ")\n",
        "ax.set_xticklabels(\n",
        "    ax.get_xticklabels(),\n",
        "    rotation=45,\n",
        "    horizontalalignment='right'\n",
        ");"
      ],
      "execution_count": null,
      "outputs": [
        {
          "output_type": "display_data",
          "data": {
            "image/png": "[encoded data removed]",
            "text/plain": [
              "<Figure size 432x288 with 2 Axes>"
            ]
          },
          "metadata": {
            "tags": [],
            "needs_background": "light"
          }
        }
      ]
    },
    {
      "cell_type": "code",
      "metadata": {
        "colab": {
          "base_uri": "https://localhost:8080/",
          "height": 386
        },
        "id": "1DBh39PLAfe0",
        "outputId": "218c14c4-4722-46c6-8faa-077465f215bc"
      },
      "source": [
        "# prints data that will be plotted\n",
        "# columns shown here are selected by corr() since\n",
        "# they are ideal for the plot\n",
        "print(df.corr())\n",
        "  \n",
        "# plotting correlation heatmap\n",
        "dataplot = sns.heatmap(df.corr(), cmap=\"YlGnBu\", annot=True)\n",
        "  \n",
        "# displaying heatmap\n",
        "plt.show()"
      ],
      "execution_count": null,
      "outputs": [
        {
          "output_type": "stream",
          "text": [
            "             RACE    GENDER       AGE      Bond   OFFENSE      Year\n",
            "RACE     1.000000 -0.131030  0.145680 -0.123383  0.029118  0.042958\n",
            "GENDER  -0.131030  1.000000 -0.003131  0.081449  0.024045 -0.055611\n",
            "AGE      0.145680 -0.003131  1.000000 -0.075080  0.012960 -0.004177\n",
            "Bond    -0.123383  0.081449 -0.075080  1.000000  0.006966 -0.022569\n",
            "OFFENSE  0.029118  0.024045  0.012960  0.006966  1.000000 -0.018334\n",
            "Year     0.042958 -0.055611 -0.004177 -0.022569 -0.018334  1.000000\n"
          ],
          "name": "stdout"
        },
        {
          "output_type": "display_data",
          "data": {
            "image/png": "[encoded data removed]",
            "text/plain": [
              "<Figure size 432x288 with 2 Axes>"
            ]
          },
          "metadata": {
            "tags": [],
            "needs_background": "light"
          }
        }
      ]
    },
    {
      "cell_type": "code",
      "metadata": {
        "id": "U5tKyv_sAPpu"
      },
      "source": [
        "X1 = df.drop(columns=['Bond','Date'])"
      ],
      "execution_count": null,
      "outputs": []
    },
    {
      "cell_type": "code",
      "metadata": {
        "id": "ijHCtQYmD4Xf"
      },
      "source": [
        "X = X1.sample(n=100, random_state=10)\n",
        "y = y.sample(n=100, random_state=11)"
      ],
      "execution_count": null,
      "outputs": []
    },
    {
      "cell_type": "code",
      "metadata": {
        "id": "XemeIRy0Ar5g"
      },
      "source": [
        "# Split the data into train and test\n",
        "X_train,X_test,y_train,y_test=train_test_split(X,y,test_size=0.25,random_state=0)"
      ],
      "execution_count": null,
      "outputs": []
    },
    {
      "cell_type": "code",
      "metadata": {
        "id": "EuR8KvADA9Ji"
      },
      "source": [
        "#Instantiate, preprocess, train and predict(test)\n",
        "\n",
        "LogReg = LogisticRegression()\n",
        "\n",
        "\n",
        "scaler = preprocessing.StandardScaler()\n",
        "X_train = scaler.fit_transform(X_train)\n",
        "X_test = scaler.transform(X_test)\n",
        "\n",
        "LogReg.fit(X_train,y_train)\n",
        "\n",
        "\n",
        "y_pred=LogReg.predict(X_test)"
      ],
      "execution_count": null,
      "outputs": []
    },
    {
      "cell_type": "code",
      "metadata": {
        "colab": {
          "base_uri": "https://localhost:8080/"
        },
        "id": "VkSZPHcNC2Gd",
        "outputId": "a23d73e7-e6d0-4866-a2c6-a4ef36b10e26"
      },
      "source": [
        "print('Classes', LogReg.classes_)\n",
        "print('Intercept',LogReg.intercept_)\n",
        "print(\"Coefficients\", LogReg.coef_ )"
      ],
      "execution_count": null,
      "outputs": [
        {
          "output_type": "stream",
          "text": [
            "Classes [    500    2500    5000    7000   10000   11000   15000   20000   25000\n",
            "   26500   27500   30000   32000   40000   41000   50000   55000   60000\n",
            "   70000   71500   75000   80000  100000  100050  110000  110075  135200\n",
            "  150000  155000  200000  210000  212000  250000  260000  275000  300000\n",
            "  400000  410000  475000  500000  509000  750000  750050  780000 1000000\n",
            " 1150000 2001000 2200000]\n",
            "Intercept [ 0.04801307 -0.93471739  1.20549232 -0.63509883 -0.97402906 -0.64779182\n",
            "  0.62781318  1.27541992  0.87675767  0.15490229 -0.33114309 -0.32254922\n",
            " -0.72313574  0.59904899 -0.11220917  0.98768878 -0.33001129  0.36966852\n",
            "  0.17377637 -0.1312112   0.66079965 -0.17477772  0.99072057 -0.25234897\n",
            "  0.29969894 -0.15480608 -0.30373791 -0.15919131 -0.67152946  0.19639096\n",
            " -0.06563462  0.01875793  0.73014493 -0.85645328 -0.25741836 -0.01542086\n",
            " -0.1312112  -0.21233154 -0.27762526  1.15791389 -0.51275071  0.0074722\n",
            " -0.12951669 -0.97156977  0.67121902 -0.23661894 -0.4646461  -0.0622136 ]\n",
            "Coefficients [[-3.60971486e-01  7.96975313e-02 -1.45253953e-01  1.37721167e-01\n",
            "  -1.54802257e-02]\n",
            " [ 9.64149290e-02 -1.10527407e+00 -2.47523909e-01 -4.55444928e-01\n",
            "   5.48692034e-01]\n",
            " [ 3.88285039e-01  1.98996735e-01  9.94138465e-02  1.12408734e-01\n",
            "   1.57449217e-01]\n",
            " [-2.69680006e-01  8.03068696e-02 -3.78303684e-01  4.47588420e-01\n",
            "  -1.02953113e+00]\n",
            " [-1.53074199e+00  3.52449277e-02  3.05736275e-01  1.56532030e-01\n",
            "   2.79332115e-01]\n",
            " [-2.80373805e-01  5.20434484e-02 -6.91858009e-01  8.05912894e-01\n",
            "   3.80291277e-01]\n",
            " [-2.92846667e-02  1.75311848e-01 -5.63669803e-02 -1.67650609e-01\n",
            "  -7.87824671e-01]\n",
            " [ 1.07202268e+00  2.80034278e-01  2.15953160e-01  3.97048956e-01\n",
            "   2.09802051e-01]\n",
            " [-3.03511210e-01  1.13656918e-01  9.16689964e-01 -6.46961438e-02\n",
            "   1.86871531e-01]\n",
            " [ 2.35636592e-01  1.03527696e-01  8.53979725e-02 -1.74881840e-01\n",
            "  -3.10638013e-02]\n",
            " [ 2.25756153e-01  9.61014785e-02 -1.76820545e-01 -6.08022699e-01\n",
            "   8.14140992e-01]\n",
            " [-3.88223084e-01  5.69261388e-02  2.79211192e-01 -3.84399083e-01\n",
            "   8.03155568e-01]\n",
            " [ 8.20887213e-01  5.03757334e-02  1.86109129e-01  8.51765967e-02\n",
            "   1.21612473e+00]\n",
            " [-6.41890019e-02  9.06908681e-02  5.59798524e-01  5.09958520e-01\n",
            "   5.12816277e-01]\n",
            " [-3.30862003e-01  7.34119447e-02 -2.33681341e-01  4.99986717e-01\n",
            "  -3.30840420e-03]\n",
            " [-3.65580932e-01 -7.65055847e-01  7.88668145e-01  3.19134026e-01\n",
            "  -6.85366636e-02]\n",
            " [-3.14087383e-01  8.46471571e-02 -5.14787472e-01  2.53379187e-01\n",
            "  -7.03242565e-01]\n",
            " [-5.90350789e-01  1.41481297e-01 -2.93512101e-02 -8.27713954e-01\n",
            "   2.54604412e-01]\n",
            " [ 2.37513367e-01  9.58771826e-02  2.29522336e-01  1.02171977e-02\n",
            "  -2.71690246e-02]\n",
            " [-3.92148808e-01  1.02717067e-01 -4.66168660e-01 -4.74723958e-01\n",
            "  -4.09928123e-01]\n",
            " [ 6.00381194e-01  2.62094990e-01 -4.15445378e-02 -9.71477314e-01\n",
            "  -5.20176868e-01]\n",
            " [ 2.28178660e-01  1.18690740e-01 -4.03153686e-01 -6.57875902e-01\n",
            "   3.86364917e-01]\n",
            " [-6.46292956e-01  1.70290777e-01 -2.47522774e-01 -1.84444398e-01\n",
            "  -3.57641576e-02]\n",
            " [ 8.97529482e-01  1.14176338e-01 -4.47725366e-01  1.74477072e-01\n",
            "   3.86206678e-01]\n",
            " [-4.75053512e-01  1.09446341e-01 -6.31664182e-01  4.93262025e-01\n",
            "   5.45515731e-04]\n",
            " [-3.26012529e-01  8.22491408e-02 -1.18108377e-01  5.73498089e-01\n",
            "  -3.50614031e-01]\n",
            " [ 7.87650201e-01  8.78771416e-02  3.08123347e-01 -3.94702484e-01\n",
            "   3.82858560e-01]\n",
            " [-3.78324278e-01  4.65385654e-02  8.05408763e-01  1.97625227e-01\n",
            "   3.64191773e-01]\n",
            " [ 1.57993547e-01  5.80971828e-02  1.13365506e+00  7.26492626e-01\n",
            "  -5.25638279e-01]\n",
            " [-1.86110869e-01 -9.25179593e-01 -4.61717964e-01  2.90835457e-01\n",
            "   7.34864552e-01]\n",
            " [ 2.25579635e-01  1.28929470e-01 -2.08742907e-01 -6.41764351e-01\n",
            "  -4.36136969e-01]\n",
            " [-3.84293178e-01  9.28606813e-02  1.22068753e-02 -2.83403894e-01\n",
            "  -4.01600641e-01]\n",
            " [ 2.22207421e-01  2.21669660e-01 -1.14654920e+00  1.34573303e-01\n",
            "  -2.12028626e-01]\n",
            " [-5.85639781e-01 -1.15430809e+00  1.86446235e-01 -3.79942934e-01\n",
            "  -3.28017424e-01]\n",
            " [-3.60100243e-01  5.78931506e-02 -1.72680364e-01  2.71547491e-02\n",
            "   7.85539368e-01]\n",
            " [ 2.11681068e-01  9.72228121e-02  1.03519295e+00 -7.49650401e-01\n",
            "  -2.50688578e-01]\n",
            " [-3.92148808e-01  1.02717067e-01 -4.66168660e-01 -4.74723958e-01\n",
            "  -4.09928123e-01]\n",
            " [-4.12904523e-01  1.07596554e-01 -4.48366894e-01 -7.61775376e-01\n",
            "  -2.57872007e-02]\n",
            " [-3.14489267e-01  7.90183179e-02 -5.51361205e-01  4.43815712e-01\n",
            "  -3.50782504e-01]\n",
            " [ 2.14607105e-01 -7.96490130e-01  3.58417433e-01  3.10926823e-01\n",
            "  -4.91335970e-01]\n",
            " [ 8.38288027e-01  1.31799147e-01 -7.17393646e-01 -5.98374427e-01\n",
            "   4.10788234e-01]\n",
            " [-4.45423657e-01  1.29962638e-01 -5.23459558e-02  1.18294117e+00\n",
            "  -2.13272233e-01]\n",
            " [ 9.00659533e-01  1.33826501e-01 -2.31031351e-01  3.62188317e-01\n",
            "  -3.12811580e-02]\n",
            " [ 1.57481327e-01  5.33034205e-02  1.16868124e+00  2.93858278e-01\n",
            "  -9.23795062e-01]\n",
            " [ 3.25743766e-01  1.95488036e-01  1.04937065e-01 -3.73761718e-01\n",
            "  -5.94772630e-01]\n",
            " [ 7.89428487e-01  7.51566353e-02  5.11045631e-01  3.44785397e-02\n",
            "   3.79828877e-01]\n",
            " [ 8.77492421e-01  7.95466854e-02  3.49292465e-01  9.99443292e-01\n",
            "   3.85664492e-01]\n",
            " [-3.84619073e-01  9.88066195e-02 -3.53714779e-01 -3.51204757e-01\n",
            "  -4.02428106e-01]]\n"
          ],
          "name": "stdout"
        }
      ]
    },
    {
      "cell_type": "code",
      "metadata": {
        "colab": {
          "base_uri": "https://localhost:8080/"
        },
        "id": "u82SZi0GEchx",
        "outputId": "b6574fdb-22d2-4c60-bc45-b66acc5eb2a0"
      },
      "source": [
        "print(\"Accuracy\", LogReg.score(X_test, y_test))\n",
        "print(classification_report(y_test, LogReg.predict(X_test)))"
      ],
      "execution_count": null,
      "outputs": [
        {
          "output_type": "stream",
          "text": [
            "Accuracy 0.04\n",
            "              precision    recall  f1-score   support\n",
            "\n",
            "        1000       0.00      0.00      0.00         1\n",
            "        1500       0.00      0.00      0.00         1\n",
            "        5000       0.00      0.00      0.00         2\n",
            "       10000       0.00      0.00      0.00         1\n",
            "       15000       0.50      0.50      0.50         2\n",
            "       16000       0.00      0.00      0.00         1\n",
            "       20000       0.00      0.00      0.00         1\n",
            "       25000       0.00      0.00      0.00         0\n",
            "       32000       0.00      0.00      0.00         0\n",
            "       50000       0.00      0.00      0.00         1\n",
            "       53000       0.00      0.00      0.00         1\n",
            "       60000       0.00      0.00      0.00         0\n",
            "       75000       0.00      0.00      0.00         0\n",
            "       75100       0.00      0.00      0.00         1\n",
            "      100000       0.00      0.00      0.00         2\n",
            "      100300       0.00      0.00      0.00         1\n",
            "      150000       0.00      0.00      0.00         2\n",
            "      150100       0.00      0.00      0.00         1\n",
            "      151000       0.00      0.00      0.00         1\n",
            "      155000       0.00      0.00      0.00         1\n",
            "      175000       0.00      0.00      0.00         1\n",
            "      250000       0.00      0.00      0.00         0\n",
            "      255000       0.00      0.00      0.00         1\n",
            "      326050       0.00      0.00      0.00         1\n",
            "      500000       0.00      0.00      0.00         1\n",
            "     1139050       0.00      0.00      0.00         1\n",
            "\n",
            "    accuracy                           0.04        25\n",
            "   macro avg       0.02      0.02      0.02        25\n",
            "weighted avg       0.04      0.04      0.04        25\n",
            "\n"
          ],
          "name": "stdout"
        },
        {
          "output_type": "stream",
          "text": [
            "/usr/local/lib/python3.7/dist-packages/sklearn/metrics/_classification.py:1272: UndefinedMetricWarning: Precision and F-score are ill-defined and being set to 0.0 in labels with no predicted samples. Use `zero_division` parameter to control this behavior.\n",
            "  _warn_prf(average, modifier, msg_start, len(result))\n",
            "/usr/local/lib/python3.7/dist-packages/sklearn/metrics/_classification.py:1272: UndefinedMetricWarning: Recall and F-score are ill-defined and being set to 0.0 in labels with no true samples. Use `zero_division` parameter to control this behavior.\n",
            "  _warn_prf(average, modifier, msg_start, len(result))\n"
          ],
          "name": "stderr"
        }
      ]
    },
    {
      "cell_type": "code",
      "metadata": {
        "colab": {
          "base_uri": "https://localhost:8080/"
        },
        "id": "2XNN59OqExiv",
        "outputId": "57c7cb28-47fc-436b-f63f-46b9d4dbf463"
      },
      "source": [
        "conf_mat = confusion_matrix(y_test, y_pred)\n",
        "conf_mat"
      ],
      "execution_count": null,
      "outputs": [
        {
          "output_type": "execute_result",
          "data": {
            "text/plain": [
              "array([[0, 0, 0, 0, 0, 0, 0, 1, 0, 0, 0, 0, 0, 0, 0, 0, 0, 0, 0, 0, 0, 0,\n",
              "        0, 0, 0, 0],\n",
              "       [0, 0, 0, 0, 0, 0, 0, 1, 0, 0, 0, 0, 0, 0, 0, 0, 0, 0, 0, 0, 0, 0,\n",
              "        0, 0, 0, 0],\n",
              "       [0, 0, 0, 0, 0, 0, 1, 1, 0, 0, 0, 0, 0, 0, 0, 0, 0, 0, 0, 0, 0, 0,\n",
              "        0, 0, 0, 0],\n",
              "       [0, 0, 0, 0, 0, 0, 1, 0, 0, 0, 0, 0, 0, 0, 0, 0, 0, 0, 0, 0, 0, 0,\n",
              "        0, 0, 0, 0],\n",
              "       [0, 0, 0, 0, 1, 0, 0, 0, 0, 0, 0, 0, 1, 0, 0, 0, 0, 0, 0, 0, 0, 0,\n",
              "        0, 0, 0, 0],\n",
              "       [0, 0, 0, 0, 0, 0, 0, 0, 0, 1, 0, 0, 0, 0, 0, 0, 0, 0, 0, 0, 0, 0,\n",
              "        0, 0, 0, 0],\n",
              "       [0, 0, 0, 0, 0, 0, 0, 0, 0, 0, 0, 0, 0, 0, 0, 0, 0, 0, 0, 0, 0, 1,\n",
              "        0, 0, 0, 0],\n",
              "       [0, 0, 0, 0, 0, 0, 0, 0, 0, 0, 0, 0, 0, 0, 0, 0, 0, 0, 0, 0, 0, 0,\n",
              "        0, 0, 0, 0],\n",
              "       [0, 0, 0, 0, 0, 0, 0, 0, 0, 0, 0, 0, 0, 0, 0, 0, 0, 0, 0, 0, 0, 0,\n",
              "        0, 0, 0, 0],\n",
              "       [0, 0, 0, 0, 1, 0, 0, 0, 0, 0, 0, 0, 0, 0, 0, 0, 0, 0, 0, 0, 0, 0,\n",
              "        0, 0, 0, 0],\n",
              "       [0, 0, 0, 0, 0, 0, 0, 1, 0, 0, 0, 0, 0, 0, 0, 0, 0, 0, 0, 0, 0, 0,\n",
              "        0, 0, 0, 0],\n",
              "       [0, 0, 0, 0, 0, 0, 0, 0, 0, 0, 0, 0, 0, 0, 0, 0, 0, 0, 0, 0, 0, 0,\n",
              "        0, 0, 0, 0],\n",
              "       [0, 0, 0, 0, 0, 0, 0, 0, 0, 0, 0, 0, 0, 0, 0, 0, 0, 0, 0, 0, 0, 0,\n",
              "        0, 0, 0, 0],\n",
              "       [0, 0, 0, 0, 0, 0, 0, 0, 0, 1, 0, 0, 0, 0, 0, 0, 0, 0, 0, 0, 0, 0,\n",
              "        0, 0, 0, 0],\n",
              "       [0, 0, 0, 0, 0, 0, 2, 0, 0, 0, 0, 0, 0, 0, 0, 0, 0, 0, 0, 0, 0, 0,\n",
              "        0, 0, 0, 0],\n",
              "       [0, 0, 0, 0, 0, 0, 1, 0, 0, 0, 0, 0, 0, 0, 0, 0, 0, 0, 0, 0, 0, 0,\n",
              "        0, 0, 0, 0],\n",
              "       [0, 0, 0, 0, 0, 0, 2, 0, 0, 0, 0, 0, 0, 0, 0, 0, 0, 0, 0, 0, 0, 0,\n",
              "        0, 0, 0, 0],\n",
              "       [0, 0, 0, 0, 0, 0, 0, 0, 0, 0, 0, 0, 1, 0, 0, 0, 0, 0, 0, 0, 0, 0,\n",
              "        0, 0, 0, 0],\n",
              "       [0, 0, 0, 0, 0, 0, 0, 0, 0, 1, 0, 0, 0, 0, 0, 0, 0, 0, 0, 0, 0, 0,\n",
              "        0, 0, 0, 0],\n",
              "       [0, 0, 0, 0, 0, 0, 0, 0, 1, 0, 0, 0, 0, 0, 0, 0, 0, 0, 0, 0, 0, 0,\n",
              "        0, 0, 0, 0],\n",
              "       [0, 0, 0, 0, 0, 0, 0, 0, 0, 0, 0, 1, 0, 0, 0, 0, 0, 0, 0, 0, 0, 0,\n",
              "        0, 0, 0, 0],\n",
              "       [0, 0, 0, 0, 0, 0, 0, 0, 0, 0, 0, 0, 0, 0, 0, 0, 0, 0, 0, 0, 0, 0,\n",
              "        0, 0, 0, 0],\n",
              "       [0, 0, 0, 0, 0, 0, 1, 0, 0, 0, 0, 0, 0, 0, 0, 0, 0, 0, 0, 0, 0, 0,\n",
              "        0, 0, 0, 0],\n",
              "       [0, 0, 0, 0, 0, 0, 0, 0, 0, 1, 0, 0, 0, 0, 0, 0, 0, 0, 0, 0, 0, 0,\n",
              "        0, 0, 0, 0],\n",
              "       [0, 0, 0, 0, 0, 0, 1, 0, 0, 0, 0, 0, 0, 0, 0, 0, 0, 0, 0, 0, 0, 0,\n",
              "        0, 0, 0, 0],\n",
              "       [0, 0, 0, 0, 0, 0, 1, 0, 0, 0, 0, 0, 0, 0, 0, 0, 0, 0, 0, 0, 0, 0,\n",
              "        0, 0, 0, 0]])"
            ]
          },
          "metadata": {
            "tags": []
          },
          "execution_count": 94
        }
      ]
    },
    {
      "cell_type": "code",
      "metadata": {
        "colab": {
          "base_uri": "https://localhost:8080/",
          "height": 195
        },
        "id": "GsxqB5T5Fl4z",
        "outputId": "0d67b6ae-1c4f-4294-8703-fe4273280686"
      },
      "source": [
        "df.head()"
      ],
      "execution_count": null,
      "outputs": [
        {
          "output_type": "execute_result",
          "data": {
            "text/html": [
              "<div>\n",
              "<style scoped>\n",
              "    .dataframe tbody tr th:only-of-type {\n",
              "        vertical-align: middle;\n",
              "    }\n",
              "\n",
              "    .dataframe tbody tr th {\n",
              "        vertical-align: top;\n",
              "    }\n",
              "\n",
              "    .dataframe thead th {\n",
              "        text-align: right;\n",
              "    }\n",
              "</style>\n",
              "<table border=\"1\" class=\"dataframe\">\n",
              "  <thead>\n",
              "    <tr style=\"text-align: right;\">\n",
              "      <th></th>\n",
              "      <th>Date</th>\n",
              "      <th>RACE</th>\n",
              "      <th>GENDER</th>\n",
              "      <th>AGE</th>\n",
              "      <th>Bond</th>\n",
              "      <th>OFFENSE</th>\n",
              "      <th>Year</th>\n",
              "    </tr>\n",
              "  </thead>\n",
              "  <tbody>\n",
              "    <tr>\n",
              "      <th>0</th>\n",
              "      <td>2018-08-16</td>\n",
              "      <td>2</td>\n",
              "      <td>1</td>\n",
              "      <td>27</td>\n",
              "      <td>150000</td>\n",
              "      <td>76</td>\n",
              "      <td>2018</td>\n",
              "    </tr>\n",
              "    <tr>\n",
              "      <th>1</th>\n",
              "      <td>2019-03-28</td>\n",
              "      <td>3</td>\n",
              "      <td>1</td>\n",
              "      <td>41</td>\n",
              "      <td>30100</td>\n",
              "      <td>366</td>\n",
              "      <td>2019</td>\n",
              "    </tr>\n",
              "    <tr>\n",
              "      <th>2</th>\n",
              "      <td>2020-04-03</td>\n",
              "      <td>3</td>\n",
              "      <td>1</td>\n",
              "      <td>21</td>\n",
              "      <td>150000</td>\n",
              "      <td>65</td>\n",
              "      <td>2020</td>\n",
              "    </tr>\n",
              "    <tr>\n",
              "      <th>3</th>\n",
              "      <td>2020-01-15</td>\n",
              "      <td>4</td>\n",
              "      <td>1</td>\n",
              "      <td>36</td>\n",
              "      <td>50500</td>\n",
              "      <td>62</td>\n",
              "      <td>2020</td>\n",
              "    </tr>\n",
              "    <tr>\n",
              "      <th>4</th>\n",
              "      <td>2018-12-26</td>\n",
              "      <td>3</td>\n",
              "      <td>1</td>\n",
              "      <td>29</td>\n",
              "      <td>100000</td>\n",
              "      <td>65</td>\n",
              "      <td>2018</td>\n",
              "    </tr>\n",
              "  </tbody>\n",
              "</table>\n",
              "</div>"
            ],
            "text/plain": [
              "        Date  RACE  GENDER  AGE    Bond  OFFENSE  Year\n",
              "0 2018-08-16     2       1   27  150000       76  2018\n",
              "1 2019-03-28     3       1   41   30100      366  2019\n",
              "2 2020-04-03     3       1   21  150000       65  2020\n",
              "3 2020-01-15     4       1   36   50500       62  2020\n",
              "4 2018-12-26     3       1   29  100000       65  2018"
            ]
          },
          "metadata": {
            "tags": []
          },
          "execution_count": 95
        }
      ]
    },
    {
      "cell_type": "code",
      "metadata": {
        "id": "0M497sNTE-JS"
      },
      "source": [
        "X2 = df.iloc[:,1:2]"
      ],
      "execution_count": null,
      "outputs": []
    },
    {
      "cell_type": "code",
      "metadata": {
        "id": "SaQ5Gu5NFDP7"
      },
      "source": [
        "X3 = X2.sample(n=100, random_state=12)\n"
      ],
      "execution_count": null,
      "outputs": []
    },
    {
      "cell_type": "code",
      "metadata": {
        "colab": {
          "base_uri": "https://localhost:8080/",
          "height": 195
        },
        "id": "h3HWDNYdGjCZ",
        "outputId": "2768b03b-9857-4f10-9d05-2486e28b5a03"
      },
      "source": [
        "X3.head()"
      ],
      "execution_count": null,
      "outputs": [
        {
          "output_type": "execute_result",
          "data": {
            "text/html": [
              "<div>\n",
              "<style scoped>\n",
              "    .dataframe tbody tr th:only-of-type {\n",
              "        vertical-align: middle;\n",
              "    }\n",
              "\n",
              "    .dataframe tbody tr th {\n",
              "        vertical-align: top;\n",
              "    }\n",
              "\n",
              "    .dataframe thead th {\n",
              "        text-align: right;\n",
              "    }\n",
              "</style>\n",
              "<table border=\"1\" class=\"dataframe\">\n",
              "  <thead>\n",
              "    <tr style=\"text-align: right;\">\n",
              "      <th></th>\n",
              "      <th>RACE</th>\n",
              "    </tr>\n",
              "  </thead>\n",
              "  <tbody>\n",
              "    <tr>\n",
              "      <th>3380021</th>\n",
              "      <td>3</td>\n",
              "    </tr>\n",
              "    <tr>\n",
              "      <th>2527381</th>\n",
              "      <td>3</td>\n",
              "    </tr>\n",
              "    <tr>\n",
              "      <th>4716046</th>\n",
              "      <td>2</td>\n",
              "    </tr>\n",
              "    <tr>\n",
              "      <th>2478349</th>\n",
              "      <td>3</td>\n",
              "    </tr>\n",
              "    <tr>\n",
              "      <th>1956422</th>\n",
              "      <td>4</td>\n",
              "    </tr>\n",
              "  </tbody>\n",
              "</table>\n",
              "</div>"
            ],
            "text/plain": [
              "         RACE\n",
              "3380021     3\n",
              "2527381     3\n",
              "4716046     2\n",
              "2478349     3\n",
              "1956422     4"
            ]
          },
          "metadata": {
            "tags": []
          },
          "execution_count": 98
        }
      ]
    },
    {
      "cell_type": "code",
      "metadata": {
        "id": "0DsJDI2LFMNt"
      },
      "source": [
        "# Split the data into train and test\n",
        "X3_train,X3_test,y_train,y_test=train_test_split(X3,y,test_size=0.25,random_state=0)"
      ],
      "execution_count": null,
      "outputs": []
    },
    {
      "cell_type": "code",
      "metadata": {
        "id": "6-C8Yd7mFRK0"
      },
      "source": [
        "#Instantiate, preprocess, train and predict(test)\n",
        "\n",
        "LogReg = LogisticRegression()\n",
        "\n",
        "\n",
        "scaler = preprocessing.StandardScaler()\n",
        "X3_train = scaler.fit_transform(X_train)\n",
        "X3_test = scaler.transform(X_test)\n",
        "\n",
        "LogReg.fit(X3_train,y_train)\n",
        "\n",
        "\n",
        "y_pred=LogReg.predict(X3_test)"
      ],
      "execution_count": null,
      "outputs": []
    },
    {
      "cell_type": "code",
      "metadata": {
        "colab": {
          "base_uri": "https://localhost:8080/"
        },
        "id": "BBpBWR2KFxRu",
        "outputId": "98ff1688-33e4-4bd7-a2cf-513105c1f5fe"
      },
      "source": [
        "print('Classes', LogReg.classes_)\n",
        "print('Intercept',LogReg.intercept_)\n",
        "print(\"Coefficients\", LogReg.coef_ )"
      ],
      "execution_count": null,
      "outputs": [
        {
          "output_type": "stream",
          "text": [
            "Classes [    500    2500    5000    7000   10000   11000   15000   20000   25000\n",
            "   26500   27500   30000   32000   40000   41000   50000   55000   60000\n",
            "   70000   71500   75000   80000  100000  100050  110000  110075  135200\n",
            "  150000  155000  200000  210000  212000  250000  260000  275000  300000\n",
            "  400000  410000  475000  500000  509000  750000  750050  780000 1000000\n",
            " 1150000 2001000 2200000]\n",
            "Intercept [ 0.04801307 -0.93471739  1.20549232 -0.63509883 -0.97402906 -0.64779182\n",
            "  0.62781318  1.27541992  0.87675767  0.15490229 -0.33114309 -0.32254922\n",
            " -0.72313574  0.59904899 -0.11220917  0.98768878 -0.33001129  0.36966852\n",
            "  0.17377637 -0.1312112   0.66079965 -0.17477772  0.99072057 -0.25234897\n",
            "  0.29969894 -0.15480608 -0.30373791 -0.15919131 -0.67152946  0.19639096\n",
            " -0.06563462  0.01875793  0.73014493 -0.85645328 -0.25741836 -0.01542086\n",
            " -0.1312112  -0.21233154 -0.27762526  1.15791389 -0.51275071  0.0074722\n",
            " -0.12951669 -0.97156977  0.67121902 -0.23661894 -0.4646461  -0.0622136 ]\n",
            "Coefficients [[-3.60971486e-01  7.96975313e-02 -1.45253953e-01  1.37721167e-01\n",
            "  -1.54802257e-02]\n",
            " [ 9.64149290e-02 -1.10527407e+00 -2.47523909e-01 -4.55444928e-01\n",
            "   5.48692034e-01]\n",
            " [ 3.88285039e-01  1.98996735e-01  9.94138465e-02  1.12408734e-01\n",
            "   1.57449217e-01]\n",
            " [-2.69680006e-01  8.03068696e-02 -3.78303684e-01  4.47588420e-01\n",
            "  -1.02953113e+00]\n",
            " [-1.53074199e+00  3.52449277e-02  3.05736275e-01  1.56532030e-01\n",
            "   2.79332115e-01]\n",
            " [-2.80373805e-01  5.20434484e-02 -6.91858009e-01  8.05912894e-01\n",
            "   3.80291277e-01]\n",
            " [-2.92846667e-02  1.75311848e-01 -5.63669803e-02 -1.67650609e-01\n",
            "  -7.87824671e-01]\n",
            " [ 1.07202268e+00  2.80034278e-01  2.15953160e-01  3.97048956e-01\n",
            "   2.09802051e-01]\n",
            " [-3.03511210e-01  1.13656918e-01  9.16689964e-01 -6.46961438e-02\n",
            "   1.86871531e-01]\n",
            " [ 2.35636592e-01  1.03527696e-01  8.53979725e-02 -1.74881840e-01\n",
            "  -3.10638013e-02]\n",
            " [ 2.25756153e-01  9.61014785e-02 -1.76820545e-01 -6.08022699e-01\n",
            "   8.14140992e-01]\n",
            " [-3.88223084e-01  5.69261388e-02  2.79211192e-01 -3.84399083e-01\n",
            "   8.03155568e-01]\n",
            " [ 8.20887213e-01  5.03757334e-02  1.86109129e-01  8.51765967e-02\n",
            "   1.21612473e+00]\n",
            " [-6.41890019e-02  9.06908681e-02  5.59798524e-01  5.09958520e-01\n",
            "   5.12816277e-01]\n",
            " [-3.30862003e-01  7.34119447e-02 -2.33681341e-01  4.99986717e-01\n",
            "  -3.30840420e-03]\n",
            " [-3.65580932e-01 -7.65055847e-01  7.88668145e-01  3.19134026e-01\n",
            "  -6.85366636e-02]\n",
            " [-3.14087383e-01  8.46471571e-02 -5.14787472e-01  2.53379187e-01\n",
            "  -7.03242565e-01]\n",
            " [-5.90350789e-01  1.41481297e-01 -2.93512101e-02 -8.27713954e-01\n",
            "   2.54604412e-01]\n",
            " [ 2.37513367e-01  9.58771826e-02  2.29522336e-01  1.02171977e-02\n",
            "  -2.71690246e-02]\n",
            " [-3.92148808e-01  1.02717067e-01 -4.66168660e-01 -4.74723958e-01\n",
            "  -4.09928123e-01]\n",
            " [ 6.00381194e-01  2.62094990e-01 -4.15445378e-02 -9.71477314e-01\n",
            "  -5.20176868e-01]\n",
            " [ 2.28178660e-01  1.18690740e-01 -4.03153686e-01 -6.57875902e-01\n",
            "   3.86364917e-01]\n",
            " [-6.46292956e-01  1.70290777e-01 -2.47522774e-01 -1.84444398e-01\n",
            "  -3.57641576e-02]\n",
            " [ 8.97529482e-01  1.14176338e-01 -4.47725366e-01  1.74477072e-01\n",
            "   3.86206678e-01]\n",
            " [-4.75053512e-01  1.09446341e-01 -6.31664182e-01  4.93262025e-01\n",
            "   5.45515731e-04]\n",
            " [-3.26012529e-01  8.22491408e-02 -1.18108377e-01  5.73498089e-01\n",
            "  -3.50614031e-01]\n",
            " [ 7.87650201e-01  8.78771416e-02  3.08123347e-01 -3.94702484e-01\n",
            "   3.82858560e-01]\n",
            " [-3.78324278e-01  4.65385654e-02  8.05408763e-01  1.97625227e-01\n",
            "   3.64191773e-01]\n",
            " [ 1.57993547e-01  5.80971828e-02  1.13365506e+00  7.26492626e-01\n",
            "  -5.25638279e-01]\n",
            " [-1.86110869e-01 -9.25179593e-01 -4.61717964e-01  2.90835457e-01\n",
            "   7.34864552e-01]\n",
            " [ 2.25579635e-01  1.28929470e-01 -2.08742907e-01 -6.41764351e-01\n",
            "  -4.36136969e-01]\n",
            " [-3.84293178e-01  9.28606813e-02  1.22068753e-02 -2.83403894e-01\n",
            "  -4.01600641e-01]\n",
            " [ 2.22207421e-01  2.21669660e-01 -1.14654920e+00  1.34573303e-01\n",
            "  -2.12028626e-01]\n",
            " [-5.85639781e-01 -1.15430809e+00  1.86446235e-01 -3.79942934e-01\n",
            "  -3.28017424e-01]\n",
            " [-3.60100243e-01  5.78931506e-02 -1.72680364e-01  2.71547491e-02\n",
            "   7.85539368e-01]\n",
            " [ 2.11681068e-01  9.72228121e-02  1.03519295e+00 -7.49650401e-01\n",
            "  -2.50688578e-01]\n",
            " [-3.92148808e-01  1.02717067e-01 -4.66168660e-01 -4.74723958e-01\n",
            "  -4.09928123e-01]\n",
            " [-4.12904523e-01  1.07596554e-01 -4.48366894e-01 -7.61775376e-01\n",
            "  -2.57872007e-02]\n",
            " [-3.14489267e-01  7.90183179e-02 -5.51361205e-01  4.43815712e-01\n",
            "  -3.50782504e-01]\n",
            " [ 2.14607105e-01 -7.96490130e-01  3.58417433e-01  3.10926823e-01\n",
            "  -4.91335970e-01]\n",
            " [ 8.38288027e-01  1.31799147e-01 -7.17393646e-01 -5.98374427e-01\n",
            "   4.10788234e-01]\n",
            " [-4.45423657e-01  1.29962638e-01 -5.23459558e-02  1.18294117e+00\n",
            "  -2.13272233e-01]\n",
            " [ 9.00659533e-01  1.33826501e-01 -2.31031351e-01  3.62188317e-01\n",
            "  -3.12811580e-02]\n",
            " [ 1.57481327e-01  5.33034205e-02  1.16868124e+00  2.93858278e-01\n",
            "  -9.23795062e-01]\n",
            " [ 3.25743766e-01  1.95488036e-01  1.04937065e-01 -3.73761718e-01\n",
            "  -5.94772630e-01]\n",
            " [ 7.89428487e-01  7.51566353e-02  5.11045631e-01  3.44785397e-02\n",
            "   3.79828877e-01]\n",
            " [ 8.77492421e-01  7.95466854e-02  3.49292465e-01  9.99443292e-01\n",
            "   3.85664492e-01]\n",
            " [-3.84619073e-01  9.88066195e-02 -3.53714779e-01 -3.51204757e-01\n",
            "  -4.02428106e-01]]\n"
          ],
          "name": "stdout"
        }
      ]
    },
    {
      "cell_type": "code",
      "metadata": {
        "colab": {
          "base_uri": "https://localhost:8080/"
        },
        "id": "fxWQg8MRGSlo",
        "outputId": "99924bbb-91b7-49e8-fbcc-8a76a9031f08"
      },
      "source": [
        "print(\"Accuracy\", LogReg.score(X3_test, y_test))\n",
        "print(classification_report(y_test, LogReg.predict(X3_test)))"
      ],
      "execution_count": null,
      "outputs": [
        {
          "output_type": "stream",
          "text": [
            "Accuracy 0.04\n",
            "              precision    recall  f1-score   support\n",
            "\n",
            "        1000       0.00      0.00      0.00         1\n",
            "        1500       0.00      0.00      0.00         1\n",
            "        5000       0.00      0.00      0.00         2\n",
            "       10000       0.00      0.00      0.00         1\n",
            "       15000       0.50      0.50      0.50         2\n",
            "       16000       0.00      0.00      0.00         1\n",
            "       20000       0.00      0.00      0.00         1\n",
            "       25000       0.00      0.00      0.00         0\n",
            "       32000       0.00      0.00      0.00         0\n",
            "       50000       0.00      0.00      0.00         1\n",
            "       53000       0.00      0.00      0.00         1\n",
            "       60000       0.00      0.00      0.00         0\n",
            "       75000       0.00      0.00      0.00         0\n",
            "       75100       0.00      0.00      0.00         1\n",
            "      100000       0.00      0.00      0.00         2\n",
            "      100300       0.00      0.00      0.00         1\n",
            "      150000       0.00      0.00      0.00         2\n",
            "      150100       0.00      0.00      0.00         1\n",
            "      151000       0.00      0.00      0.00         1\n",
            "      155000       0.00      0.00      0.00         1\n",
            "      175000       0.00      0.00      0.00         1\n",
            "      250000       0.00      0.00      0.00         0\n",
            "      255000       0.00      0.00      0.00         1\n",
            "      326050       0.00      0.00      0.00         1\n",
            "      500000       0.00      0.00      0.00         1\n",
            "     1139050       0.00      0.00      0.00         1\n",
            "\n",
            "    accuracy                           0.04        25\n",
            "   macro avg       0.02      0.02      0.02        25\n",
            "weighted avg       0.04      0.04      0.04        25\n",
            "\n"
          ],
          "name": "stdout"
        },
        {
          "output_type": "stream",
          "text": [
            "/usr/local/lib/python3.7/dist-packages/sklearn/metrics/_classification.py:1272: UndefinedMetricWarning: Precision and F-score are ill-defined and being set to 0.0 in labels with no predicted samples. Use `zero_division` parameter to control this behavior.\n",
            "  _warn_prf(average, modifier, msg_start, len(result))\n",
            "/usr/local/lib/python3.7/dist-packages/sklearn/metrics/_classification.py:1272: UndefinedMetricWarning: Recall and F-score are ill-defined and being set to 0.0 in labels with no true samples. Use `zero_division` parameter to control this behavior.\n",
            "  _warn_prf(average, modifier, msg_start, len(result))\n"
          ],
          "name": "stderr"
        }
      ]
    },
    {
      "cell_type": "code",
      "metadata": {
        "colab": {
          "base_uri": "https://localhost:8080/"
        },
        "id": "RvtkKtp0GbMK",
        "outputId": "58934945-5feb-418e-dbdd-31b40943627b"
      },
      "source": [
        "conf_mat = confusion_matrix(y_test, y_pred)\n",
        "conf_mat"
      ],
      "execution_count": null,
      "outputs": [
        {
          "output_type": "execute_result",
          "data": {
            "text/plain": [
              "array([[0, 0, 0, 0, 0, 0, 0, 1, 0, 0, 0, 0, 0, 0, 0, 0, 0, 0, 0, 0, 0, 0,\n",
              "        0, 0, 0, 0],\n",
              "       [0, 0, 0, 0, 0, 0, 0, 1, 0, 0, 0, 0, 0, 0, 0, 0, 0, 0, 0, 0, 0, 0,\n",
              "        0, 0, 0, 0],\n",
              "       [0, 0, 0, 0, 0, 0, 1, 1, 0, 0, 0, 0, 0, 0, 0, 0, 0, 0, 0, 0, 0, 0,\n",
              "        0, 0, 0, 0],\n",
              "       [0, 0, 0, 0, 0, 0, 1, 0, 0, 0, 0, 0, 0, 0, 0, 0, 0, 0, 0, 0, 0, 0,\n",
              "        0, 0, 0, 0],\n",
              "       [0, 0, 0, 0, 1, 0, 0, 0, 0, 0, 0, 0, 1, 0, 0, 0, 0, 0, 0, 0, 0, 0,\n",
              "        0, 0, 0, 0],\n",
              "       [0, 0, 0, 0, 0, 0, 0, 0, 0, 1, 0, 0, 0, 0, 0, 0, 0, 0, 0, 0, 0, 0,\n",
              "        0, 0, 0, 0],\n",
              "       [0, 0, 0, 0, 0, 0, 0, 0, 0, 0, 0, 0, 0, 0, 0, 0, 0, 0, 0, 0, 0, 1,\n",
              "        0, 0, 0, 0],\n",
              "       [0, 0, 0, 0, 0, 0, 0, 0, 0, 0, 0, 0, 0, 0, 0, 0, 0, 0, 0, 0, 0, 0,\n",
              "        0, 0, 0, 0],\n",
              "       [0, 0, 0, 0, 0, 0, 0, 0, 0, 0, 0, 0, 0, 0, 0, 0, 0, 0, 0, 0, 0, 0,\n",
              "        0, 0, 0, 0],\n",
              "       [0, 0, 0, 0, 1, 0, 0, 0, 0, 0, 0, 0, 0, 0, 0, 0, 0, 0, 0, 0, 0, 0,\n",
              "        0, 0, 0, 0],\n",
              "       [0, 0, 0, 0, 0, 0, 0, 1, 0, 0, 0, 0, 0, 0, 0, 0, 0, 0, 0, 0, 0, 0,\n",
              "        0, 0, 0, 0],\n",
              "       [0, 0, 0, 0, 0, 0, 0, 0, 0, 0, 0, 0, 0, 0, 0, 0, 0, 0, 0, 0, 0, 0,\n",
              "        0, 0, 0, 0],\n",
              "       [0, 0, 0, 0, 0, 0, 0, 0, 0, 0, 0, 0, 0, 0, 0, 0, 0, 0, 0, 0, 0, 0,\n",
              "        0, 0, 0, 0],\n",
              "       [0, 0, 0, 0, 0, 0, 0, 0, 0, 1, 0, 0, 0, 0, 0, 0, 0, 0, 0, 0, 0, 0,\n",
              "        0, 0, 0, 0],\n",
              "       [0, 0, 0, 0, 0, 0, 2, 0, 0, 0, 0, 0, 0, 0, 0, 0, 0, 0, 0, 0, 0, 0,\n",
              "        0, 0, 0, 0],\n",
              "       [0, 0, 0, 0, 0, 0, 1, 0, 0, 0, 0, 0, 0, 0, 0, 0, 0, 0, 0, 0, 0, 0,\n",
              "        0, 0, 0, 0],\n",
              "       [0, 0, 0, 0, 0, 0, 2, 0, 0, 0, 0, 0, 0, 0, 0, 0, 0, 0, 0, 0, 0, 0,\n",
              "        0, 0, 0, 0],\n",
              "       [0, 0, 0, 0, 0, 0, 0, 0, 0, 0, 0, 0, 1, 0, 0, 0, 0, 0, 0, 0, 0, 0,\n",
              "        0, 0, 0, 0],\n",
              "       [0, 0, 0, 0, 0, 0, 0, 0, 0, 1, 0, 0, 0, 0, 0, 0, 0, 0, 0, 0, 0, 0,\n",
              "        0, 0, 0, 0],\n",
              "       [0, 0, 0, 0, 0, 0, 0, 0, 1, 0, 0, 0, 0, 0, 0, 0, 0, 0, 0, 0, 0, 0,\n",
              "        0, 0, 0, 0],\n",
              "       [0, 0, 0, 0, 0, 0, 0, 0, 0, 0, 0, 1, 0, 0, 0, 0, 0, 0, 0, 0, 0, 0,\n",
              "        0, 0, 0, 0],\n",
              "       [0, 0, 0, 0, 0, 0, 0, 0, 0, 0, 0, 0, 0, 0, 0, 0, 0, 0, 0, 0, 0, 0,\n",
              "        0, 0, 0, 0],\n",
              "       [0, 0, 0, 0, 0, 0, 1, 0, 0, 0, 0, 0, 0, 0, 0, 0, 0, 0, 0, 0, 0, 0,\n",
              "        0, 0, 0, 0],\n",
              "       [0, 0, 0, 0, 0, 0, 0, 0, 0, 1, 0, 0, 0, 0, 0, 0, 0, 0, 0, 0, 0, 0,\n",
              "        0, 0, 0, 0],\n",
              "       [0, 0, 0, 0, 0, 0, 1, 0, 0, 0, 0, 0, 0, 0, 0, 0, 0, 0, 0, 0, 0, 0,\n",
              "        0, 0, 0, 0],\n",
              "       [0, 0, 0, 0, 0, 0, 1, 0, 0, 0, 0, 0, 0, 0, 0, 0, 0, 0, 0, 0, 0, 0,\n",
              "        0, 0, 0, 0]])"
            ]
          },
          "metadata": {
            "tags": []
          },
          "execution_count": 103
        }
      ]
    },
    {
      "cell_type": "code",
      "metadata": {
        "colab": {
          "base_uri": "https://localhost:8080/",
          "height": 640
        },
        "id": "zD4tvmM7G6ux",
        "outputId": "8d291344-a6ca-4b16-aef2-fdc7b52918d2"
      },
      "source": [
        "plt.scatter(X_train, y_train, color='red') # plotting the observation line\n",
        " \n",
        "plt.plot(X3_train, regressor.predict(X3_train), color='blue') # plotting the regression line\n",
        " \n",
        "plt.title(\"Salary vs Experience (Training set)\") # stating the title of the graph\n",
        " \n",
        "plt.xlabel(\"Years of experience\") # adding the name of x-axis\n",
        "plt.ylabel(\"Salaries\") # adding the name of y-axis\n",
        "plt.show() # specifies end of graph"
      ],
      "execution_count": null,
      "outputs": [
        {
          "output_type": "error",
          "ename": "ValueError",
          "evalue": "ignored",
          "traceback": [
            "\u001b[0;31m---------------------------------------------------------------------------\u001b[0m",
            "\u001b[0;31mValueError\u001b[0m                                Traceback (most recent call last)",
            "\u001b[0;32m<ipython-input-104-2f9cba21a036>\u001b[0m in \u001b[0;36m<module>\u001b[0;34m()\u001b[0m\n\u001b[0;32m----> 1\u001b[0;31m \u001b[0mplt\u001b[0m\u001b[0;34m.\u001b[0m\u001b[0mscatter\u001b[0m\u001b[0;34m(\u001b[0m\u001b[0mX_train\u001b[0m\u001b[0;34m,\u001b[0m \u001b[0my_train\u001b[0m\u001b[0;34m,\u001b[0m \u001b[0mcolor\u001b[0m\u001b[0;34m=\u001b[0m\u001b[0;34m'red'\u001b[0m\u001b[0;34m)\u001b[0m \u001b[0;31m# plotting the observation line\u001b[0m\u001b[0;34m\u001b[0m\u001b[0;34m\u001b[0m\u001b[0m\n\u001b[0m\u001b[1;32m      2\u001b[0m \u001b[0;34m\u001b[0m\u001b[0m\n\u001b[1;32m      3\u001b[0m \u001b[0mplt\u001b[0m\u001b[0;34m.\u001b[0m\u001b[0mplot\u001b[0m\u001b[0;34m(\u001b[0m\u001b[0mX3_train\u001b[0m\u001b[0;34m,\u001b[0m \u001b[0mregressor\u001b[0m\u001b[0;34m.\u001b[0m\u001b[0mpredict\u001b[0m\u001b[0;34m(\u001b[0m\u001b[0mX3_train\u001b[0m\u001b[0;34m)\u001b[0m\u001b[0;34m,\u001b[0m \u001b[0mcolor\u001b[0m\u001b[0;34m=\u001b[0m\u001b[0;34m'blue'\u001b[0m\u001b[0;34m)\u001b[0m \u001b[0;31m# plotting the regression line\u001b[0m\u001b[0;34m\u001b[0m\u001b[0;34m\u001b[0m\u001b[0m\n\u001b[1;32m      4\u001b[0m \u001b[0;34m\u001b[0m\u001b[0m\n\u001b[1;32m      5\u001b[0m \u001b[0mplt\u001b[0m\u001b[0;34m.\u001b[0m\u001b[0mtitle\u001b[0m\u001b[0;34m(\u001b[0m\u001b[0;34m\"Salary vs Experience (Training set)\"\u001b[0m\u001b[0;34m)\u001b[0m \u001b[0;31m# stating the title of the graph\u001b[0m\u001b[0;34m\u001b[0m\u001b[0;34m\u001b[0m\u001b[0m\n",
            "\u001b[0;32m/usr/local/lib/python3.7/dist-packages/matplotlib/pyplot.py\u001b[0m in \u001b[0;36mscatter\u001b[0;34m(x, y, s, c, marker, cmap, norm, vmin, vmax, alpha, linewidths, verts, edgecolors, plotnonfinite, data, **kwargs)\u001b[0m\n\u001b[1;32m   2814\u001b[0m         \u001b[0mverts\u001b[0m\u001b[0;34m=\u001b[0m\u001b[0mverts\u001b[0m\u001b[0;34m,\u001b[0m \u001b[0medgecolors\u001b[0m\u001b[0;34m=\u001b[0m\u001b[0medgecolors\u001b[0m\u001b[0;34m,\u001b[0m\u001b[0;34m\u001b[0m\u001b[0;34m\u001b[0m\u001b[0m\n\u001b[1;32m   2815\u001b[0m         plotnonfinite=plotnonfinite, **({\"data\": data} if data is not\n\u001b[0;32m-> 2816\u001b[0;31m         None else {}), **kwargs)\n\u001b[0m\u001b[1;32m   2817\u001b[0m     \u001b[0msci\u001b[0m\u001b[0;34m(\u001b[0m\u001b[0m__ret\u001b[0m\u001b[0;34m)\u001b[0m\u001b[0;34m\u001b[0m\u001b[0;34m\u001b[0m\u001b[0m\n\u001b[1;32m   2818\u001b[0m     \u001b[0;32mreturn\u001b[0m \u001b[0m__ret\u001b[0m\u001b[0;34m\u001b[0m\u001b[0;34m\u001b[0m\u001b[0m\n",
            "\u001b[0;32m/usr/local/lib/python3.7/dist-packages/matplotlib/__init__.py\u001b[0m in \u001b[0;36minner\u001b[0;34m(ax, data, *args, **kwargs)\u001b[0m\n\u001b[1;32m   1563\u001b[0m     \u001b[0;32mdef\u001b[0m \u001b[0minner\u001b[0m\u001b[0;34m(\u001b[0m\u001b[0max\u001b[0m\u001b[0;34m,\u001b[0m \u001b[0;34m*\u001b[0m\u001b[0margs\u001b[0m\u001b[0;34m,\u001b[0m \u001b[0mdata\u001b[0m\u001b[0;34m=\u001b[0m\u001b[0;32mNone\u001b[0m\u001b[0;34m,\u001b[0m \u001b[0;34m**\u001b[0m\u001b[0mkwargs\u001b[0m\u001b[0;34m)\u001b[0m\u001b[0;34m:\u001b[0m\u001b[0;34m\u001b[0m\u001b[0;34m\u001b[0m\u001b[0m\n\u001b[1;32m   1564\u001b[0m         \u001b[0;32mif\u001b[0m \u001b[0mdata\u001b[0m \u001b[0;32mis\u001b[0m \u001b[0;32mNone\u001b[0m\u001b[0;34m:\u001b[0m\u001b[0;34m\u001b[0m\u001b[0;34m\u001b[0m\u001b[0m\n\u001b[0;32m-> 1565\u001b[0;31m             \u001b[0;32mreturn\u001b[0m \u001b[0mfunc\u001b[0m\u001b[0;34m(\u001b[0m\u001b[0max\u001b[0m\u001b[0;34m,\u001b[0m \u001b[0;34m*\u001b[0m\u001b[0mmap\u001b[0m\u001b[0;34m(\u001b[0m\u001b[0msanitize_sequence\u001b[0m\u001b[0;34m,\u001b[0m \u001b[0margs\u001b[0m\u001b[0;34m)\u001b[0m\u001b[0;34m,\u001b[0m \u001b[0;34m**\u001b[0m\u001b[0mkwargs\u001b[0m\u001b[0;34m)\u001b[0m\u001b[0;34m\u001b[0m\u001b[0;34m\u001b[0m\u001b[0m\n\u001b[0m\u001b[1;32m   1566\u001b[0m \u001b[0;34m\u001b[0m\u001b[0m\n\u001b[1;32m   1567\u001b[0m         \u001b[0mbound\u001b[0m \u001b[0;34m=\u001b[0m \u001b[0mnew_sig\u001b[0m\u001b[0;34m.\u001b[0m\u001b[0mbind\u001b[0m\u001b[0;34m(\u001b[0m\u001b[0max\u001b[0m\u001b[0;34m,\u001b[0m \u001b[0;34m*\u001b[0m\u001b[0margs\u001b[0m\u001b[0;34m,\u001b[0m \u001b[0;34m**\u001b[0m\u001b[0mkwargs\u001b[0m\u001b[0;34m)\u001b[0m\u001b[0;34m\u001b[0m\u001b[0;34m\u001b[0m\u001b[0m\n",
            "\u001b[0;32m/usr/local/lib/python3.7/dist-packages/matplotlib/cbook/deprecation.py\u001b[0m in \u001b[0;36mwrapper\u001b[0;34m(*args, **kwargs)\u001b[0m\n\u001b[1;32m    356\u001b[0m                 \u001b[0;34mf\"%(removal)s.  If any parameter follows {name!r}, they \"\u001b[0m\u001b[0;34m\u001b[0m\u001b[0;34m\u001b[0m\u001b[0m\n\u001b[1;32m    357\u001b[0m                 f\"should be pass as keyword, not positionally.\")\n\u001b[0;32m--> 358\u001b[0;31m         \u001b[0;32mreturn\u001b[0m \u001b[0mfunc\u001b[0m\u001b[0;34m(\u001b[0m\u001b[0;34m*\u001b[0m\u001b[0margs\u001b[0m\u001b[0;34m,\u001b[0m \u001b[0;34m**\u001b[0m\u001b[0mkwargs\u001b[0m\u001b[0;34m)\u001b[0m\u001b[0;34m\u001b[0m\u001b[0;34m\u001b[0m\u001b[0m\n\u001b[0m\u001b[1;32m    359\u001b[0m \u001b[0;34m\u001b[0m\u001b[0m\n\u001b[1;32m    360\u001b[0m     \u001b[0;32mreturn\u001b[0m \u001b[0mwrapper\u001b[0m\u001b[0;34m\u001b[0m\u001b[0;34m\u001b[0m\u001b[0m\n",
            "\u001b[0;32m/usr/local/lib/python3.7/dist-packages/matplotlib/axes/_axes.py\u001b[0m in \u001b[0;36mscatter\u001b[0;34m(self, x, y, s, c, marker, cmap, norm, vmin, vmax, alpha, linewidths, verts, edgecolors, plotnonfinite, **kwargs)\u001b[0m\n\u001b[1;32m   4389\u001b[0m         \u001b[0my\u001b[0m \u001b[0;34m=\u001b[0m \u001b[0mnp\u001b[0m\u001b[0;34m.\u001b[0m\u001b[0mma\u001b[0m\u001b[0;34m.\u001b[0m\u001b[0mravel\u001b[0m\u001b[0;34m(\u001b[0m\u001b[0my\u001b[0m\u001b[0;34m)\u001b[0m\u001b[0;34m\u001b[0m\u001b[0;34m\u001b[0m\u001b[0m\n\u001b[1;32m   4390\u001b[0m         \u001b[0;32mif\u001b[0m \u001b[0mx\u001b[0m\u001b[0;34m.\u001b[0m\u001b[0msize\u001b[0m \u001b[0;34m!=\u001b[0m \u001b[0my\u001b[0m\u001b[0;34m.\u001b[0m\u001b[0msize\u001b[0m\u001b[0;34m:\u001b[0m\u001b[0;34m\u001b[0m\u001b[0;34m\u001b[0m\u001b[0m\n\u001b[0;32m-> 4391\u001b[0;31m             \u001b[0;32mraise\u001b[0m \u001b[0mValueError\u001b[0m\u001b[0;34m(\u001b[0m\u001b[0;34m\"x and y must be the same size\"\u001b[0m\u001b[0;34m)\u001b[0m\u001b[0;34m\u001b[0m\u001b[0;34m\u001b[0m\u001b[0m\n\u001b[0m\u001b[1;32m   4392\u001b[0m \u001b[0;34m\u001b[0m\u001b[0m\n\u001b[1;32m   4393\u001b[0m         \u001b[0;32mif\u001b[0m \u001b[0ms\u001b[0m \u001b[0;32mis\u001b[0m \u001b[0;32mNone\u001b[0m\u001b[0;34m:\u001b[0m\u001b[0;34m\u001b[0m\u001b[0;34m\u001b[0m\u001b[0m\n",
            "\u001b[0;31mValueError\u001b[0m: x and y must be the same size"
          ]
        },
        {
          "output_type": "display_data",
          "data": {
            "image/png": "[encoded data removed]",
            "text/plain": [
              "<Figure size 432x288 with 1 Axes>"
            ]
          },
          "metadata": {
            "tags": [],
            "needs_background": "light"
          }
        }
      ]
    },
    {
      "cell_type": "markdown",
      "metadata": {
        "id": "aGTnwtE4IHYK"
      },
      "source": [
        "**Visualizations**\n"
      ]
    },
    {
      "cell_type": "code",
      "metadata": {
        "colab": {
          "base_uri": "https://localhost:8080/",
          "height": 402
        },
        "id": "0zrwfVSXIKYl",
        "outputId": "f2f17e30-bdb1-4693-a4cb-a07ff8ffe64d"
      },
      "source": [
        "\n",
        "df_2015 = df[df.Year == 2015]\n",
        "df_2015"
      ],
      "execution_count": null,
      "outputs": [
        {
          "output_type": "execute_result",
          "data": {
            "text/html": [
              "<div>\n",
              "<style scoped>\n",
              "    .dataframe tbody tr th:only-of-type {\n",
              "        vertical-align: middle;\n",
              "    }\n",
              "\n",
              "    .dataframe tbody tr th {\n",
              "        vertical-align: top;\n",
              "    }\n",
              "\n",
              "    .dataframe thead th {\n",
              "        text-align: right;\n",
              "    }\n",
              "</style>\n",
              "<table border=\"1\" class=\"dataframe\">\n",
              "  <thead>\n",
              "    <tr style=\"text-align: right;\">\n",
              "      <th></th>\n",
              "      <th>Date</th>\n",
              "      <th>RACE</th>\n",
              "      <th>GENDER</th>\n",
              "      <th>AGE</th>\n",
              "      <th>Bond</th>\n",
              "      <th>OFFENSE</th>\n",
              "      <th>Year</th>\n",
              "    </tr>\n",
              "  </thead>\n",
              "  <tbody>\n",
              "    <tr>\n",
              "      <th>109</th>\n",
              "      <td>2015-06-15</td>\n",
              "      <td>3</td>\n",
              "      <td>1</td>\n",
              "      <td>48</td>\n",
              "      <td>75000</td>\n",
              "      <td>321</td>\n",
              "      <td>2015</td>\n",
              "    </tr>\n",
              "    <tr>\n",
              "      <th>250</th>\n",
              "      <td>2015-11-12</td>\n",
              "      <td>3</td>\n",
              "      <td>1</td>\n",
              "      <td>30</td>\n",
              "      <td>50</td>\n",
              "      <td>262</td>\n",
              "      <td>2015</td>\n",
              "    </tr>\n",
              "    <tr>\n",
              "      <th>380</th>\n",
              "      <td>2015-11-24</td>\n",
              "      <td>3</td>\n",
              "      <td>1</td>\n",
              "      <td>30</td>\n",
              "      <td>75000</td>\n",
              "      <td>301</td>\n",
              "      <td>2015</td>\n",
              "    </tr>\n",
              "    <tr>\n",
              "      <th>467</th>\n",
              "      <td>2015-12-22</td>\n",
              "      <td>4</td>\n",
              "      <td>1</td>\n",
              "      <td>30</td>\n",
              "      <td>100000</td>\n",
              "      <td>315</td>\n",
              "      <td>2015</td>\n",
              "    </tr>\n",
              "    <tr>\n",
              "      <th>564</th>\n",
              "      <td>2015-04-14</td>\n",
              "      <td>2</td>\n",
              "      <td>1</td>\n",
              "      <td>22</td>\n",
              "      <td>650000</td>\n",
              "      <td>27</td>\n",
              "      <td>2015</td>\n",
              "    </tr>\n",
              "    <tr>\n",
              "      <th>...</th>\n",
              "      <td>...</td>\n",
              "      <td>...</td>\n",
              "      <td>...</td>\n",
              "      <td>...</td>\n",
              "      <td>...</td>\n",
              "      <td>...</td>\n",
              "      <td>...</td>\n",
              "    </tr>\n",
              "    <tr>\n",
              "      <th>5351333</th>\n",
              "      <td>2015-08-24</td>\n",
              "      <td>2</td>\n",
              "      <td>1</td>\n",
              "      <td>45</td>\n",
              "      <td>500000</td>\n",
              "      <td>313</td>\n",
              "      <td>2015</td>\n",
              "    </tr>\n",
              "    <tr>\n",
              "      <th>5351460</th>\n",
              "      <td>2015-11-03</td>\n",
              "      <td>2</td>\n",
              "      <td>1</td>\n",
              "      <td>26</td>\n",
              "      <td>1035050</td>\n",
              "      <td>65</td>\n",
              "      <td>2015</td>\n",
              "    </tr>\n",
              "    <tr>\n",
              "      <th>5351482</th>\n",
              "      <td>2015-08-16</td>\n",
              "      <td>4</td>\n",
              "      <td>1</td>\n",
              "      <td>54</td>\n",
              "      <td>25000</td>\n",
              "      <td>40</td>\n",
              "      <td>2015</td>\n",
              "    </tr>\n",
              "    <tr>\n",
              "      <th>5351674</th>\n",
              "      <td>2015-09-09</td>\n",
              "      <td>2</td>\n",
              "      <td>1</td>\n",
              "      <td>35</td>\n",
              "      <td>205050</td>\n",
              "      <td>36</td>\n",
              "      <td>2015</td>\n",
              "    </tr>\n",
              "    <tr>\n",
              "      <th>5351760</th>\n",
              "      <td>2015-05-27</td>\n",
              "      <td>2</td>\n",
              "      <td>1</td>\n",
              "      <td>37</td>\n",
              "      <td>2500</td>\n",
              "      <td>31</td>\n",
              "      <td>2015</td>\n",
              "    </tr>\n",
              "  </tbody>\n",
              "</table>\n",
              "<p>148717 rows × 7 columns</p>\n",
              "</div>"
            ],
            "text/plain": [
              "              Date  RACE  GENDER  AGE     Bond  OFFENSE  Year\n",
              "109     2015-06-15     3       1   48    75000      321  2015\n",
              "250     2015-11-12     3       1   30       50      262  2015\n",
              "380     2015-11-24     3       1   30    75000      301  2015\n",
              "467     2015-12-22     4       1   30   100000      315  2015\n",
              "564     2015-04-14     2       1   22   650000       27  2015\n",
              "...            ...   ...     ...  ...      ...      ...   ...\n",
              "5351333 2015-08-24     2       1   45   500000      313  2015\n",
              "5351460 2015-11-03     2       1   26  1035050       65  2015\n",
              "5351482 2015-08-16     4       1   54    25000       40  2015\n",
              "5351674 2015-09-09     2       1   35   205050       36  2015\n",
              "5351760 2015-05-27     2       1   37     2500       31  2015\n",
              "\n",
              "[148717 rows x 7 columns]"
            ]
          },
          "metadata": {
            "tags": []
          },
          "execution_count": 105
        }
      ]
    },
    {
      "cell_type": "code",
      "metadata": {
        "colab": {
          "base_uri": "https://localhost:8080/"
        },
        "id": "llSs7ZkzGfrT",
        "outputId": "62b3b56f-a77c-40ed-c9bc-1789dd6d64ed"
      },
      "source": [
        "from sklearn.linear_model import LogisticRegression\n",
        "\n",
        "clf = LogisticRegression(penalty='none')\n",
        "clf.fit(df_2015[['RACE']],df_2015[['Bond']].values)\n",
        "odds_ratio=np.exp(clf.coef_)\n",
        "\n",
        "print(odds_ratio)"
      ],
      "execution_count": null,
      "outputs": [
        {
          "output_type": "stream",
          "text": [
            "/usr/local/lib/python3.7/dist-packages/sklearn/utils/validation.py:760: DataConversionWarning: A column-vector y was passed when a 1d array was expected. Please change the shape of y to (n_samples, ), for example using ravel().\n",
            "  y = column_or_1d(y, warn=True)\n"
          ],
          "name": "stderr"
        },
        {
          "output_type": "stream",
          "text": [
            "[[1.18277437e+00]\n",
            " [1.20317112e+00]\n",
            " [2.94557605e+00]\n",
            " [5.18369194e+00]\n",
            " [5.44857264e+00]\n",
            " [2.20248948e+00]\n",
            " [5.20081764e-02]\n",
            " [8.90814130e-02]\n",
            " [2.35754841e+00]\n",
            " [1.63202925e+01]\n",
            " [4.00614211e+00]\n",
            " [3.25590916e+00]\n",
            " [7.44265311e-01]\n",
            " [1.58682922e+00]\n",
            " [2.56811841e+00]\n",
            " [1.98154250e+00]\n",
            " [6.06453240e-01]\n",
            " [3.57093031e+00]\n",
            " [6.41763830e-05]\n",
            " [1.61171121e+00]\n",
            " [6.99826445e-01]\n",
            " [6.60045062e-01]\n",
            " [1.67597104e+00]\n",
            " [3.34905887e+00]\n",
            " [4.58845387e-01]\n",
            " [1.67915772e+00]\n",
            " [5.76475863e-01]\n",
            " [2.00772356e+00]\n",
            " [1.08838484e+00]\n",
            " [1.49202378e-01]\n",
            " [8.41157843e+00]\n",
            " [1.01035856e-01]\n",
            " [2.60435861e+00]\n",
            " [2.87075838e+00]\n",
            " [4.71816685e+01]\n",
            " [6.54810827e-01]\n",
            " [2.55118212e+00]\n",
            " [2.28108942e+00]\n",
            " [1.02979650e+01]\n",
            " [3.36467645e+00]\n",
            " [6.92223136e-01]\n",
            " [2.49533568e+00]\n",
            " [3.99106799e-02]\n",
            " [1.38757782e+00]\n",
            " [6.29448911e+00]\n",
            " [6.54810827e-01]\n",
            " [4.25602575e-01]\n",
            " [1.46347460e-01]\n",
            " [6.65983370e+00]\n",
            " [3.23994222e+00]\n",
            " [1.08169662e+00]\n",
            " [7.40330461e-01]\n",
            " [3.94496606e+00]\n",
            " [8.90814130e-02]\n",
            " [3.05870096e+00]\n",
            " [2.90042200e+00]\n",
            " [1.10535779e+00]\n",
            " [2.21821288e+00]\n",
            " [4.07458992e-01]\n",
            " [1.80946314e+00]\n",
            " [3.99106799e-02]\n",
            " [1.66857915e+00]\n",
            " [7.55879172e-01]\n",
            " [4.42285186e-01]\n",
            " [1.30351118e+01]\n",
            " [3.29548605e+01]\n",
            " [8.72471053e+00]\n",
            " [6.20519195e-01]\n",
            " [2.45896775e+01]\n",
            " [4.93304023e+01]\n",
            " [4.10402190e-02]\n",
            " [4.14770507e+00]\n",
            " [3.84620690e+00]\n",
            " [3.50404851e+00]\n",
            " [3.94496606e+00]\n",
            " [2.09607800e+00]\n",
            " [2.10468074e+00]\n",
            " [4.73629443e+01]\n",
            " [1.40357037e+00]\n",
            " [9.02762202e+00]\n",
            " [4.41111018e+00]\n",
            " [1.71208185e+00]\n",
            " [3.60177958e+00]\n",
            " [1.48949625e-01]\n",
            " [1.49435103e-01]\n",
            " [1.02847353e+00]\n",
            " [3.60641959e+00]\n",
            " [6.09503052e+00]\n",
            " [1.74073231e+00]\n",
            " [5.23528103e-02]\n",
            " [7.44265311e-01]\n",
            " [5.82806978e-01]\n",
            " [2.16917614e-01]\n",
            " [2.34559500e+00]\n",
            " [1.35886980e+00]\n",
            " [1.53348813e+00]\n",
            " [7.68741839e-01]\n",
            " [6.92149503e-01]\n",
            " [1.59364745e+00]\n",
            " [1.08169662e+00]\n",
            " [1.76435264e-01]\n",
            " [7.10731960e-01]\n",
            " [2.92782483e+00]\n",
            " [7.10158105e-01]\n",
            " [6.92149503e-01]\n",
            " [5.42591667e-01]\n",
            " [7.81252793e-01]\n",
            " [2.32380053e+00]\n",
            " [2.13101728e-01]\n",
            " [1.87580092e+00]\n",
            " [6.72465827e-01]\n",
            " [1.27885468e-01]\n",
            " [5.15134068e+00]\n",
            " [1.59364745e+00]\n",
            " [1.53348813e+00]\n",
            " [1.92006490e-01]\n",
            " [6.16474368e-01]\n",
            " [4.91065721e+00]\n",
            " [1.01035856e-01]\n",
            " [1.16506007e-01]\n",
            " [3.13694758e-01]\n",
            " [1.67063103e+01]\n",
            " [1.84790102e+00]\n",
            " [3.31647400e+00]\n",
            " [2.92774597e+00]\n",
            " [2.38823871e+00]\n",
            " [6.31152695e-01]\n",
            " [4.57169181e-02]\n",
            " [5.20836157e-01]\n",
            " [1.44459068e+00]\n",
            " [4.55388128e-01]\n",
            " [3.41805369e+00]\n",
            " [7.71251133e-01]\n",
            " [4.92349750e-02]\n",
            " [1.80946314e+00]\n",
            " [5.71448469e+00]\n",
            " [3.24689395e+00]\n",
            " [1.01260219e+01]\n",
            " [6.06453240e-01]\n",
            " [1.44168983e+00]\n",
            " [9.25932892e-01]\n",
            " [1.71102800e+00]\n",
            " [8.87831622e+00]\n",
            " [1.11836387e+00]\n",
            " [3.39096227e+00]\n",
            " [4.59241699e-01]\n",
            " [1.44337495e+00]\n",
            " [2.81143810e+01]\n",
            " [1.94814572e-01]\n",
            " [2.62407955e+00]\n",
            " [2.14579282e+00]\n",
            " [7.01268192e-01]\n",
            " [1.08785571e+01]\n",
            " [3.24020370e+01]\n",
            " [1.01575341e+01]\n",
            " [3.99692990e+01]\n",
            " [3.99106799e-02]\n",
            " [2.28108942e+00]\n",
            " [8.87831622e+00]\n",
            " [3.10625902e+00]\n",
            " [3.71591409e-01]\n",
            " [5.31523610e+00]\n",
            " [3.73041202e-01]\n",
            " [2.81914323e-01]\n",
            " [7.10680383e-01]\n",
            " [6.23600568e-01]\n",
            " [2.48146806e-01]\n",
            " [1.99615160e+00]\n",
            " [7.44462985e-01]\n",
            " [6.53248165e-01]\n",
            " [2.18882207e+00]\n",
            " [1.66312345e+01]\n",
            " [1.50796001e-01]\n",
            " [4.76956036e-01]\n",
            " [7.44265311e-01]\n",
            " [4.26453707e+00]\n",
            " [5.86834136e-01]\n",
            " [6.37032497e-01]\n",
            " [1.94421101e+01]\n",
            " [1.80946314e+00]\n",
            " [1.11248201e+00]\n",
            " [1.14565579e+01]\n",
            " [5.23163957e+00]\n",
            " [5.92215330e-01]\n",
            " [5.94943207e-01]\n",
            " [3.75693354e-01]\n",
            " [5.83552752e-01]\n",
            " [1.09285147e+00]\n",
            " [7.47686378e-01]\n",
            " [5.76475863e-01]\n",
            " [6.12298774e-01]\n",
            " [7.34043377e-01]\n",
            " [1.49327379e+00]\n",
            " [1.54247240e-01]\n",
            " [9.20077520e-02]\n",
            " [8.87831622e+00]\n",
            " [4.11094610e+00]\n",
            " [4.57169181e-02]\n",
            " [3.26940197e-01]\n",
            " [3.12738406e+00]\n",
            " [2.88591802e+00]\n",
            " [2.52466876e-01]\n",
            " [6.99826445e-01]\n",
            " [9.25572203e-02]\n",
            " [1.41797026e+01]\n",
            " [3.13694758e-01]\n",
            " [4.14716951e-01]\n",
            " [6.06453240e-01]\n",
            " [3.94496606e+00]\n",
            " [6.53248165e-01]\n",
            " [6.53733349e+01]\n",
            " [1.12068737e+00]\n",
            " [7.04660357e-01]\n",
            " [6.13672203e-01]\n",
            " [7.98068023e-01]\n",
            " [6.33092058e+01]\n",
            " [4.35634695e+00]\n",
            " [4.60462878e+00]\n",
            " [2.39081455e-01]\n",
            " [4.96738393e-01]\n",
            " [2.58545027e-01]\n",
            " [2.26030588e+00]\n",
            " [3.77654637e+00]\n",
            " [1.02979650e+01]\n",
            " [6.53248165e-01]\n",
            " [2.42356465e+01]\n",
            " [2.17023247e+00]\n",
            " [1.76050759e+00]\n",
            " [2.44692804e+01]\n",
            " [6.27122149e-01]\n",
            " [4.26158606e+01]\n",
            " [5.01226832e-01]\n",
            " [7.94036790e-01]\n",
            " [6.76410540e-02]\n",
            " [6.73409136e-01]\n",
            " [2.13321086e-01]\n",
            " [2.85408231e+00]\n",
            " [2.60435861e+00]\n",
            " [6.23429362e-01]\n",
            " [7.68741839e-01]\n",
            " [1.49327379e+00]\n",
            " [2.39733278e+00]\n",
            " [1.11836387e+00]\n",
            " [2.40129960e+02]\n",
            " [2.94222357e+00]\n",
            " [3.42339863e+00]\n",
            " [2.83864990e+00]\n",
            " [5.20081764e-02]\n",
            " [2.88277106e+00]\n",
            " [3.94496606e+00]\n",
            " [3.45136883e-02]\n",
            " [5.01226832e-01]\n",
            " [3.13694758e-01]\n",
            " [6.73461337e-01]\n",
            " [6.99826445e-01]\n",
            " [4.26453707e+00]\n",
            " [1.41295664e+00]\n",
            " [7.42957730e+00]\n",
            " [4.57169181e-02]\n",
            " [3.67128861e+01]\n",
            " [3.73295483e-01]\n",
            " [2.50257590e-01]\n",
            " [7.55584657e-01]\n",
            " [2.32781831e-01]\n",
            " [5.94943207e-01]\n",
            " [1.38155629e+00]\n",
            " [1.41167617e+00]\n",
            " [7.81252793e-01]\n",
            " [2.50257590e-01]\n",
            " [4.38054778e-01]\n",
            " [3.50100285e+01]\n",
            " [7.84133109e-01]\n",
            " [6.14693904e-01]\n",
            " [1.33572546e-01]\n",
            " [6.08557438e+00]\n",
            " [3.00826039e-01]\n",
            " [4.24541683e-01]\n",
            " [4.32071041e-01]\n",
            " [7.61542597e-01]\n",
            " [6.15892458e-01]\n",
            " [2.14536523e-01]\n",
            " [4.76956036e-01]\n",
            " [1.66312345e+01]\n",
            " [4.17827824e-02]\n",
            " [5.13144729e-02]\n",
            " [6.81163335e-02]\n",
            " [1.92627649e+01]\n",
            " [3.13250471e+00]\n",
            " [8.05848124e-01]\n",
            " [4.57169181e-02]\n",
            " [7.89921104e-01]\n",
            " [1.48949625e-01]\n",
            " [4.92425852e-01]\n",
            " [6.67353046e-01]\n",
            " [6.08448184e+01]\n",
            " [7.34043377e-01]\n",
            " [5.76475863e-01]\n",
            " [4.11054090e-01]\n",
            " [5.59628922e-01]\n",
            " [1.49762757e+01]\n",
            " [6.21680237e-01]\n",
            " [4.33746211e-01]\n",
            " [3.58406890e+00]\n",
            " [1.14467592e-01]\n",
            " [2.39081455e-01]\n",
            " [1.00875346e+01]\n",
            " [5.01681428e+00]\n",
            " [2.24728516e-01]\n",
            " [5.20081764e-02]\n",
            " [5.20081764e-02]\n",
            " [7.44265311e-01]\n",
            " [5.53930070e-01]\n",
            " [2.22968435e+00]\n",
            " [2.62963198e-01]\n",
            " [4.36133266e+00]\n",
            " [4.59241699e-01]\n",
            " [3.81549749e-03]\n",
            " [2.26818617e-01]\n",
            " [6.09768478e-01]\n",
            " [3.35518524e-02]\n",
            " [2.16471542e+00]\n",
            " [5.47309804e-01]\n",
            " [5.82806978e-01]\n",
            " [7.34043377e-01]\n",
            " [6.31152695e-01]\n",
            " [1.50230316e-01]\n",
            " [3.53133912e+00]\n",
            " [6.54810827e-01]\n",
            " [2.46489006e+00]\n",
            " [1.36898659e-01]\n",
            " [1.39285203e+01]\n",
            " [1.21157818e+00]\n",
            " [1.61707000e-01]\n",
            " [1.60123156e+00]\n",
            " [7.68741839e-01]\n",
            " [1.48643137e+00]\n",
            " [8.90299736e-01]\n",
            " [1.15220922e+02]\n",
            " [7.05483647e+00]\n",
            " [2.54498064e+00]\n",
            " [5.20081764e-02]\n",
            " [6.92149503e-01]\n",
            " [5.20081764e-02]\n",
            " [3.50890693e-03]\n",
            " [2.12656691e-02]\n",
            " [2.17533136e-02]\n",
            " [3.50268127e+00]\n",
            " [7.58906360e-01]\n",
            " [2.66650533e+00]\n",
            " [7.12315432e-01]\n",
            " [8.26105996e-02]\n",
            " [3.00367645e-01]\n",
            " [9.07851413e-03]\n",
            " [3.07356219e+00]\n",
            " [9.91998376e+00]\n",
            " [2.06885345e+01]\n",
            " [4.42285186e-01]\n",
            " [3.59363437e+00]\n",
            " [9.48574792e-01]\n",
            " [1.10518940e-01]\n",
            " [1.11836387e+00]\n",
            " [1.90079897e+00]\n",
            " [7.96153248e-01]\n",
            " [1.29771918e-01]\n",
            " [1.31074562e+00]\n",
            " [1.09462101e+00]\n",
            " [3.50190826e+00]\n",
            " [1.25567014e+02]\n",
            " [6.17953990e-01]\n",
            " [1.60294210e+00]\n",
            " [4.11778467e-02]\n",
            " [6.42150391e-03]\n",
            " [9.41966346e-02]\n",
            " [6.19220651e-01]\n",
            " [6.25907103e-01]\n",
            " [5.53930070e-01]\n",
            " [7.83085400e-02]\n",
            " [2.53614316e-01]\n",
            " [3.57344333e+00]\n",
            " [2.24728516e-01]\n",
            " [2.27181165e+00]\n",
            " [1.25066697e+00]\n",
            " [3.85306488e-02]\n",
            " [1.46347460e-01]\n",
            " [5.70935213e-01]\n",
            " [4.73528002e-01]\n",
            " [7.89725355e-01]\n",
            " [4.76618039e-02]]\n"
          ],
          "name": "stdout"
        },
        {
          "output_type": "stream",
          "text": [
            "/usr/local/lib/python3.7/dist-packages/sklearn/linear_model/_logistic.py:940: ConvergenceWarning: lbfgs failed to converge (status=1):\n",
            "STOP: TOTAL NO. of ITERATIONS REACHED LIMIT.\n",
            "\n",
            "Increase the number of iterations (max_iter) or scale the data as shown in:\n",
            "    https://scikit-learn.org/stable/modules/preprocessing.html\n",
            "Please also refer to the documentation for alternative solver options:\n",
            "    https://scikit-learn.org/stable/modules/linear_model.html#logistic-regression\n",
            "  extra_warning_msg=_LOGISTIC_SOLVER_CONVERGENCE_MSG)\n"
          ],
          "name": "stderr"
        }
      ]
    },
    {
      "cell_type": "code",
      "metadata": {
        "colab": {
          "base_uri": "https://localhost:8080/"
        },
        "id": "feb4WUVeN_Bi",
        "outputId": "40084eaa-63e3-417a-eb02-a7080ea6f568"
      },
      "source": [
        "829/9"
      ],
      "execution_count": null,
      "outputs": [
        {
          "output_type": "execute_result",
          "data": {
            "text/plain": [
              "92.11111111111111"
            ]
          },
          "metadata": {
            "tags": []
          },
          "execution_count": 107
        }
      ]
    }
  ]
}